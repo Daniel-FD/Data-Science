{
 "cells": [
  {
   "cell_type": "code",
   "execution_count": null,
   "metadata": {},
   "outputs": [],
   "source": [
    "# https://www2.agenciatributaria.gob.es/wlpl/PRET-R200/R210/index.zul"
   ]
  },
  {
   "cell_type": "code",
   "execution_count": 1,
   "metadata": {},
   "outputs": [],
   "source": [
    "def calculate_taxes(salary):\n",
    "    total_tax = 0\n",
    "\n",
    "    # Apply the 19% rate to the first 12,450 Euros\n",
    "    if salary > 0:\n",
    "        taxable_amount = min(12450, salary)\n",
    "        total_tax += taxable_amount * 0.19\n",
    "\n",
    "    # Apply the 24% rate to the amount between 12,450 and 20,199 Euros\n",
    "    if salary > 12450:\n",
    "        taxable_amount = min(20199, salary) - 12450\n",
    "        total_tax += taxable_amount * 0.24\n",
    "\n",
    "    # Apply the 30% rate to the amount between 20,200 and 35,199 Euros\n",
    "    if salary > 20199:\n",
    "        taxable_amount = min(35199, salary) - 20200\n",
    "        total_tax += taxable_amount * 0.30\n",
    "\n",
    "    # Apply the 37% rate to the amount between 35,200 and 59,999 Euros\n",
    "    if salary > 35199:\n",
    "        taxable_amount = min(59999, salary) - 35200\n",
    "        total_tax += taxable_amount * 0.37\n",
    "\n",
    "    # Apply the 45% rate to the amount between 60,000 and 299,999 Euros\n",
    "    if salary > 59999:\n",
    "        taxable_amount = min(299999, salary) - 60000\n",
    "        total_tax += taxable_amount * 0.45\n",
    "\n",
    "    # Apply the 47% rate to the amount above 300,000 Euros\n",
    "    if salary > 299999:\n",
    "        taxable_amount = salary - 300000\n",
    "        total_tax += taxable_amount * 0.47\n",
    "\n",
    "    return total_tax"
   ]
  },
  {
   "cell_type": "code",
   "execution_count": 2,
   "metadata": {},
   "outputs": [
    {
     "name": "stdout",
     "output_type": "stream",
     "text": [
      "The tax on an annual salary of 65000 Euros is 20150.589999999997 Euros.\n"
     ]
    }
   ],
   "source": [
    "# Test the function with a salary of 55,000 Euros\n",
    "salary = 65000 \n",
    "tax = calculate_taxes(salary)\n",
    "print(f\"The tax on an annual salary of {salary} Euros is {tax} Euros.\")"
   ]
  },
  {
   "cell_type": "code",
   "execution_count": 4,
   "metadata": {},
   "outputs": [
    {
     "data": {
      "text/html": [
       "<div>\n",
       "<style scoped>\n",
       "    .dataframe tbody tr th:only-of-type {\n",
       "        vertical-align: middle;\n",
       "    }\n",
       "\n",
       "    .dataframe tbody tr th {\n",
       "        vertical-align: top;\n",
       "    }\n",
       "\n",
       "    .dataframe thead th {\n",
       "        text-align: right;\n",
       "    }\n",
       "</style>\n",
       "<table border=\"1\" class=\"dataframe\">\n",
       "  <thead>\n",
       "    <tr style=\"text-align: right;\">\n",
       "      <th></th>\n",
       "      <th>Salary (Euros)</th>\n",
       "      <th>Tax (Euros)</th>\n",
       "    </tr>\n",
       "  </thead>\n",
       "  <tbody>\n",
       "    <tr>\n",
       "      <th>0</th>\n",
       "      <td>10000</td>\n",
       "      <td>1900.00</td>\n",
       "    </tr>\n",
       "    <tr>\n",
       "      <th>1</th>\n",
       "      <td>15000</td>\n",
       "      <td>2977.50</td>\n",
       "    </tr>\n",
       "    <tr>\n",
       "      <th>2</th>\n",
       "      <td>30000</td>\n",
       "      <td>7165.26</td>\n",
       "    </tr>\n",
       "    <tr>\n",
       "      <th>3</th>\n",
       "      <td>40000</td>\n",
       "      <td>10500.96</td>\n",
       "    </tr>\n",
       "    <tr>\n",
       "      <th>4</th>\n",
       "      <td>50000</td>\n",
       "      <td>14200.96</td>\n",
       "    </tr>\n",
       "    <tr>\n",
       "      <th>5</th>\n",
       "      <td>65000</td>\n",
       "      <td>20150.59</td>\n",
       "    </tr>\n",
       "    <tr>\n",
       "      <th>6</th>\n",
       "      <td>100000</td>\n",
       "      <td>35900.59</td>\n",
       "    </tr>\n",
       "    <tr>\n",
       "      <th>7</th>\n",
       "      <td>500000</td>\n",
       "      <td>219900.14</td>\n",
       "    </tr>\n",
       "  </tbody>\n",
       "</table>\n",
       "</div>"
      ],
      "text/plain": [
       "   Salary (Euros)  Tax (Euros)\n",
       "0           10000      1900.00\n",
       "1           15000      2977.50\n",
       "2           30000      7165.26\n",
       "3           40000     10500.96\n",
       "4           50000     14200.96\n",
       "5           65000     20150.59\n",
       "6          100000     35900.59\n",
       "7          500000    219900.14"
      ]
     },
     "execution_count": 4,
     "metadata": {},
     "output_type": "execute_result"
    }
   ],
   "source": [
    "# Additional tests for accuracy\n",
    "test_salaries = [10000, 15000, 30000, 40000, 50000, 65000, 100000, 500000]\n",
    "test_results = {salary: calculate_taxes(salary) for salary in test_salaries}\n",
    "\n",
    "import pandas as pd\n",
    "\n",
    "# Creating a DataFrame for better visualization\n",
    "tax_df = pd.DataFrame(list(test_results.items()), columns=['Salary (Euros)', 'Tax (Euros)'])\n",
    "tax_df"
   ]
  },
  {
   "cell_type": "code",
   "execution_count": null,
   "metadata": {},
   "outputs": [],
   "source": []
  },
  {
   "cell_type": "markdown",
   "metadata": {},
   "source": []
  }
 ],
 "metadata": {
  "kernelspec": {
   "display_name": "Python 3",
   "language": "python",
   "name": "python3"
  },
  "language_info": {
   "codemirror_mode": {
    "name": "ipython",
    "version": 3
   },
   "file_extension": ".py",
   "mimetype": "text/x-python",
   "name": "python",
   "nbconvert_exporter": "python",
   "pygments_lexer": "ipython3",
   "version": "3.11.0"
  }
 },
 "nbformat": 4,
 "nbformat_minor": 2
}
