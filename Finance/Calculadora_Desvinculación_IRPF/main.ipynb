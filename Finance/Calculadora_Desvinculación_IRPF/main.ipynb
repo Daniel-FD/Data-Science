{
 "cells": [
  {
   "cell_type": "code",
   "execution_count": 1,
   "metadata": {},
   "outputs": [],
   "source": [
    "total = 440000\n",
    "pago_de_golpe = 300000\n",
    "pago_de_golpe_taxable = 300000*(1-0.3)\n",
    "pago_laminado = total - pago_de_golpe\n",
    "pago_laminado\n",
    "meses_laminado = 4*13\n",
    "# \n",
    "salario_2024 = 40000"
   ]
  },
  {
   "cell_type": "code",
   "execution_count": 2,
   "metadata": {},
   "outputs": [],
   "source": [
    "import math\n",
    "import matplotlib.pyplot as plt"
   ]
  },
  {
   "cell_type": "code",
   "execution_count": 3,
   "metadata": {},
   "outputs": [],
   "source": [
    "def calculate_taxes(salary):\n",
    "    total_tax = 0\n",
    "\n",
    "    # Apply the 19% rate to the first 12,450 Euros\n",
    "    if salary > 0:\n",
    "        taxable_amount = min(12450, salary)\n",
    "        total_tax += taxable_amount * 0.19\n",
    "\n",
    "    # Apply the 24% rate to the amount between 12,450 and 20,199 Euros\n",
    "    if salary > 12450:\n",
    "        taxable_amount = min(20199, salary) - 12450\n",
    "        total_tax += taxable_amount * 0.24\n",
    "\n",
    "    # Apply the 30% rate to the amount between 20,200 and 35,199 Euros\n",
    "    if salary > 20199:\n",
    "        taxable_amount = min(35199, salary) - 20200\n",
    "        total_tax += taxable_amount * 0.30\n",
    "\n",
    "    # Apply the 37% rate to the amount between 35,200 and 59,999 Euros\n",
    "    if salary > 35199:\n",
    "        taxable_amount = min(59999, salary) - 35200\n",
    "        total_tax += taxable_amount * 0.37\n",
    "\n",
    "    # Apply the 45% rate to the amount between 60,000 and 299,999 Euros\n",
    "    if salary > 59999:\n",
    "        taxable_amount = min(299999, salary) - 60000\n",
    "        total_tax += taxable_amount * 0.45\n",
    "\n",
    "    # Apply the 47% rate to the amount above 300,000 Euros\n",
    "    if salary > 299999:\n",
    "        taxable_amount = salary - 300000\n",
    "        total_tax += taxable_amount * 0.47\n",
    "\n",
    "    return total_tax"
   ]
  },
  {
   "cell_type": "code",
   "execution_count": null,
   "metadata": {},
   "outputs": [],
   "source": [
    "# mes_fecha_inicio_desvinculacion = \n",
    "# salario_recibido_año_hasta_fecha_desvinculación = "
   ]
  },
  {
   "cell_type": "code",
   "execution_count": null,
   "metadata": {},
   "outputs": [],
   "source": [
    "# def calculo_IRPF_primer_año()\n",
    "# def calculo_IRPF_años_desviculacion()\n",
    "# def calculo_IRPF_ultimo_año()"
   ]
  },
  {
   "cell_type": "code",
   "execution_count": 4,
   "metadata": {},
   "outputs": [],
   "source": [
    "def calculo_IRPF_total(pago_de_golpe_taxable, pago_laminado, salario_2024, pension_ultimo_año, meses_laminado):\n",
    "    # IRPF_2024\n",
    "    total_2024 = salario_2024 + 6*(pago_laminado/meses_laminado) + pago_de_golpe_taxable\n",
    "    impuestos_2024 = calculate_taxes(total_2024)\n",
    "    # \n",
    "    años_laminado = math.ceil(meses_laminado -6)/12 \n",
    "    años_igual_contribucion = años_laminado - 1\n",
    "    # IRPF años de igual contribucion\n",
    "    total_anual_años_desvinculacion = 12*(pago_laminado/meses_laminado)\n",
    "    impuestos_años_desvinculacion = calculate_taxes(total_anual_años_desvinculacion)\n",
    "    total_impuestos_años_desvinculacion = impuestos_años_desvinculacion*años_igual_contribucion\n",
    "    # IRPF ultimo año\n",
    "    total_meses_laminado_ultimo_año = meses_laminado - 6 - años_igual_contribucion*12\n",
    "    total_laminado_ultimo_año = total_meses_laminado_ultimo_año*(pago_laminado/meses_laminado)\n",
    "    total_ultimo_año = pension_ultimo_año + total_laminado_ultimo_año\n",
    "    impuestos_ultimo_año = calculate_taxes(total_ultimo_año)\n",
    "    # \n",
    "    impuestos_totales = impuestos_2024 + total_impuestos_años_desvinculacion + impuestos_ultimo_año\n",
    "    return impuestos_totales, impuestos_2024, impuestos_años_desvinculacion, impuestos_ultimo_año"
   ]
  },
  {
   "cell_type": "code",
   "execution_count": 5,
   "metadata": {},
   "outputs": [
    {
     "data": {
      "text/plain": [
       "(151871.98076923075, 110669.82076923076, 7857.567692307693, 18939.051538461536)"
      ]
     },
     "execution_count": 5,
     "metadata": {},
     "output_type": "execute_result"
    }
   ],
   "source": [
    "total = 440000\n",
    "pago_de_golpe = 300000\n",
    "pago_de_golpe_taxable = 300000*(1-0.3)\n",
    "pago_laminado = total - pago_de_golpe\n",
    "pago_laminado\n",
    "meses_laminado = 4*13\n",
    "# \n",
    "salario_2024 = 40000\n",
    "pension_ultimo_año = 30000\n",
    "# \n",
    "calculo_IRPF_total(pago_de_golpe_taxable, pago_laminado, salario_2024, pension_ultimo_año, meses_laminado)"
   ]
  },
  {
   "cell_type": "code",
   "execution_count": 6,
   "metadata": {},
   "outputs": [],
   "source": [
    "meses_laminado_lista = list(range(1*12, 10*12))"
   ]
  },
  {
   "cell_type": "code",
   "execution_count": 7,
   "metadata": {},
   "outputs": [],
   "source": [
    "IRPF_lista = []\n",
    "impuestos_2024_lista = []\n",
    "impuestos_años_desvinculacion_lista = []\n",
    "impuestos_ultimo_año_lista = []\n",
    "for meses_laminado in meses_laminado_lista:\n",
    "    IRPF, impuestos_2024, impuestos_años_desvinculacion, impuestos_ultimo_año = calculo_IRPF_total(pago_de_golpe_taxable, pago_laminado, salario_2024, pension_ultimo_año, meses_laminado)\n",
    "    IRPF_lista.append(IRPF)\n",
    "    impuestos_2024_lista.append(impuestos_2024)\n",
    "    impuestos_años_desvinculacion_lista.append(impuestos_años_desvinculacion)\n",
    "    impuestos_ultimo_año_lista.append(impuestos_ultimo_año)\n"
   ]
  },
  {
   "cell_type": "code",
   "execution_count": 8,
   "metadata": {},
   "outputs": [
    {
     "data": {
      "text/plain": [
       "<matplotlib.collections.PathCollection at 0x10eb30610>"
      ]
     },
     "execution_count": 8,
     "metadata": {},
     "output_type": "execute_result"
    },
    {
     "data": {
      "image/png": "[encoded data removed]",
      "text/plain": [
       "<Figure size 640x480 with 1 Axes>"
      ]
     },
     "metadata": {},
     "output_type": "display_data"
    }
   ],
   "source": [
    "plt.scatter(meses_laminado_lista, IRPF_lista)\n",
    "plt.scatter(meses_laminado_lista, impuestos_2024_lista)\n",
    "plt.scatter(meses_laminado_lista, impuestos_años_desvinculacion_lista)\n",
    "plt.scatter(meses_laminado_lista, impuestos_ultimo_año_lista)"
   ]
  },
  {
   "cell_type": "code",
   "execution_count": null,
   "metadata": {},
   "outputs": [],
   "source": []
  }
 ],
 "metadata": {
  "kernelspec": {
   "display_name": "Python 3",
   "language": "python",
   "name": "python3"
  },
  "language_info": {
   "codemirror_mode": {
    "name": "ipython",
    "version": 3
   },
   "file_extension": ".py",
   "mimetype": "text/x-python",
   "name": "python",
   "nbconvert_exporter": "python",
   "pygments_lexer": "ipython3",
   "version": "3.11.0"
  }
 },
 "nbformat": 4,
 "nbformat_minor": 2
}
