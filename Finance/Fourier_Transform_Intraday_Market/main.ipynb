{
 "cells": [
  {
   "cell_type": "markdown",
   "metadata": {},
   "source": []
  },
  {
   "cell_type": "code",
   "execution_count": 54,
   "metadata": {},
   "outputs": [],
   "source": [
    "import pandas as pd\n",
    "df = pd.read_csv('data/TOS Kaggle data week ending 2022 09 30.csv')\n",
    "# https://www.kaggle.com/code/kerneler/starter-intraday-market-data-2045eb56-3"
   ]
  },
  {
   "cell_type": "markdown",
   "metadata": {},
   "source": []
  },
  {
   "cell_type": "code",
   "execution_count": 55,
   "metadata": {},
   "outputs": [
    {
     "data": {
      "text/html": [
       "<div>\n",
       "<style scoped>\n",
       "    .dataframe tbody tr th:only-of-type {\n",
       "        vertical-align: middle;\n",
       "    }\n",
       "\n",
       "    .dataframe tbody tr th {\n",
       "        vertical-align: top;\n",
       "    }\n",
       "\n",
       "    .dataframe thead th {\n",
       "        text-align: right;\n",
       "    }\n",
       "</style>\n",
       "<table border=\"1\" class=\"dataframe\">\n",
       "  <thead>\n",
       "    <tr style=\"text-align: right;\">\n",
       "      <th></th>\n",
       "      <th>ID</th>\n",
       "      <th>TimeStamp</th>\n",
       "      <th>/ES</th>\n",
       "      <th>/NQ</th>\n",
       "      <th>/RTY</th>\n",
       "      <th>SPY</th>\n",
       "      <th>QQQ</th>\n",
       "      <th>IWM</th>\n",
       "      <th>AAPL</th>\n",
       "      <th>MSFT</th>\n",
       "      <th>...</th>\n",
       "      <th>XLF</th>\n",
       "      <th>XLP</th>\n",
       "      <th>XLY</th>\n",
       "      <th>XTN</th>\n",
       "      <th>HYG</th>\n",
       "      <th>/ES SMA20</th>\n",
       "      <th>/ES SMA50</th>\n",
       "      <th>/ES volume</th>\n",
       "      <th>TLT</th>\n",
       "      <th>TLT volume</th>\n",
       "    </tr>\n",
       "  </thead>\n",
       "  <tbody>\n",
       "    <tr>\n",
       "      <th>0</th>\n",
       "      <td>13262914</td>\n",
       "      <td>2022-09-25 17:59:09.000</td>\n",
       "      <td>3711.50</td>\n",
       "      <td>11388.00</td>\n",
       "      <td>1687.6</td>\n",
       "      <td>367.95</td>\n",
       "      <td>275.51</td>\n",
       "      <td>167.31</td>\n",
       "      <td>150.43</td>\n",
       "      <td>237.92</td>\n",
       "      <td>...</td>\n",
       "      <td>31.05</td>\n",
       "      <td>69.38</td>\n",
       "      <td>146.42</td>\n",
       "      <td>64.49</td>\n",
       "      <td>72.13</td>\n",
       "      <td>36.97</td>\n",
       "      <td>36.12</td>\n",
       "      <td>0</td>\n",
       "      <td>105.70</td>\n",
       "      <td>23042230.0</td>\n",
       "    </tr>\n",
       "    <tr>\n",
       "      <th>1</th>\n",
       "      <td>13262915</td>\n",
       "      <td>2022-09-25 17:59:12.000</td>\n",
       "      <td>3711.50</td>\n",
       "      <td>11388.00</td>\n",
       "      <td>1687.6</td>\n",
       "      <td>367.95</td>\n",
       "      <td>275.51</td>\n",
       "      <td>167.31</td>\n",
       "      <td>150.43</td>\n",
       "      <td>237.92</td>\n",
       "      <td>...</td>\n",
       "      <td>31.05</td>\n",
       "      <td>69.38</td>\n",
       "      <td>146.42</td>\n",
       "      <td>64.49</td>\n",
       "      <td>72.13</td>\n",
       "      <td>36.97</td>\n",
       "      <td>36.12</td>\n",
       "      <td>0</td>\n",
       "      <td>105.70</td>\n",
       "      <td>0.0</td>\n",
       "    </tr>\n",
       "    <tr>\n",
       "      <th>2</th>\n",
       "      <td>13262916</td>\n",
       "      <td>2022-09-25 17:59:15.000</td>\n",
       "      <td>3711.50</td>\n",
       "      <td>11388.00</td>\n",
       "      <td>1687.6</td>\n",
       "      <td>367.95</td>\n",
       "      <td>275.51</td>\n",
       "      <td>167.31</td>\n",
       "      <td>150.43</td>\n",
       "      <td>237.92</td>\n",
       "      <td>...</td>\n",
       "      <td>31.05</td>\n",
       "      <td>69.38</td>\n",
       "      <td>146.42</td>\n",
       "      <td>64.49</td>\n",
       "      <td>72.13</td>\n",
       "      <td>36.97</td>\n",
       "      <td>36.12</td>\n",
       "      <td>0</td>\n",
       "      <td>105.70</td>\n",
       "      <td>0.0</td>\n",
       "    </tr>\n",
       "    <tr>\n",
       "      <th>3</th>\n",
       "      <td>13262917</td>\n",
       "      <td>2022-09-25 17:59:18.000</td>\n",
       "      <td>3711.50</td>\n",
       "      <td>11388.00</td>\n",
       "      <td>1687.6</td>\n",
       "      <td>367.95</td>\n",
       "      <td>275.51</td>\n",
       "      <td>167.31</td>\n",
       "      <td>150.43</td>\n",
       "      <td>237.92</td>\n",
       "      <td>...</td>\n",
       "      <td>31.05</td>\n",
       "      <td>69.38</td>\n",
       "      <td>146.42</td>\n",
       "      <td>64.49</td>\n",
       "      <td>72.13</td>\n",
       "      <td>36.97</td>\n",
       "      <td>36.12</td>\n",
       "      <td>0</td>\n",
       "      <td>105.70</td>\n",
       "      <td>0.0</td>\n",
       "    </tr>\n",
       "    <tr>\n",
       "      <th>4</th>\n",
       "      <td>13262918</td>\n",
       "      <td>2022-09-25 17:59:21.000</td>\n",
       "      <td>3711.50</td>\n",
       "      <td>11388.00</td>\n",
       "      <td>1687.6</td>\n",
       "      <td>367.95</td>\n",
       "      <td>275.51</td>\n",
       "      <td>167.31</td>\n",
       "      <td>150.43</td>\n",
       "      <td>237.92</td>\n",
       "      <td>...</td>\n",
       "      <td>31.05</td>\n",
       "      <td>69.38</td>\n",
       "      <td>146.42</td>\n",
       "      <td>64.49</td>\n",
       "      <td>72.13</td>\n",
       "      <td>36.97</td>\n",
       "      <td>36.12</td>\n",
       "      <td>0</td>\n",
       "      <td>105.70</td>\n",
       "      <td>0.0</td>\n",
       "    </tr>\n",
       "    <tr>\n",
       "      <th>...</th>\n",
       "      <td>...</td>\n",
       "      <td>...</td>\n",
       "      <td>...</td>\n",
       "      <td>...</td>\n",
       "      <td>...</td>\n",
       "      <td>...</td>\n",
       "      <td>...</td>\n",
       "      <td>...</td>\n",
       "      <td>...</td>\n",
       "      <td>...</td>\n",
       "      <td>...</td>\n",
       "      <td>...</td>\n",
       "      <td>...</td>\n",
       "      <td>...</td>\n",
       "      <td>...</td>\n",
       "      <td>...</td>\n",
       "      <td>...</td>\n",
       "      <td>...</td>\n",
       "      <td>...</td>\n",
       "      <td>...</td>\n",
       "      <td>...</td>\n",
       "    </tr>\n",
       "    <tr>\n",
       "      <th>143706</th>\n",
       "      <td>13406620</td>\n",
       "      <td>2022-09-30 18:00:45.000</td>\n",
       "      <td>3604.25</td>\n",
       "      <td>11058.25</td>\n",
       "      <td>1670.3</td>\n",
       "      <td>357.18</td>\n",
       "      <td>267.26</td>\n",
       "      <td>164.92</td>\n",
       "      <td>138.20</td>\n",
       "      <td>232.90</td>\n",
       "      <td>...</td>\n",
       "      <td>30.36</td>\n",
       "      <td>66.73</td>\n",
       "      <td>142.45</td>\n",
       "      <td>63.61</td>\n",
       "      <td>71.39</td>\n",
       "      <td>38.04</td>\n",
       "      <td>37.65</td>\n",
       "      <td>0</td>\n",
       "      <td>102.45</td>\n",
       "      <td>0.0</td>\n",
       "    </tr>\n",
       "    <tr>\n",
       "      <th>143707</th>\n",
       "      <td>13406621</td>\n",
       "      <td>2022-09-30 18:00:48.000</td>\n",
       "      <td>3604.25</td>\n",
       "      <td>11058.25</td>\n",
       "      <td>1670.3</td>\n",
       "      <td>357.18</td>\n",
       "      <td>267.26</td>\n",
       "      <td>164.92</td>\n",
       "      <td>138.20</td>\n",
       "      <td>232.90</td>\n",
       "      <td>...</td>\n",
       "      <td>30.36</td>\n",
       "      <td>66.73</td>\n",
       "      <td>142.45</td>\n",
       "      <td>63.61</td>\n",
       "      <td>71.39</td>\n",
       "      <td>38.04</td>\n",
       "      <td>37.65</td>\n",
       "      <td>0</td>\n",
       "      <td>102.45</td>\n",
       "      <td>0.0</td>\n",
       "    </tr>\n",
       "    <tr>\n",
       "      <th>143708</th>\n",
       "      <td>13406622</td>\n",
       "      <td>2022-09-30 18:00:51.000</td>\n",
       "      <td>3604.25</td>\n",
       "      <td>11058.25</td>\n",
       "      <td>1670.3</td>\n",
       "      <td>357.18</td>\n",
       "      <td>267.26</td>\n",
       "      <td>164.92</td>\n",
       "      <td>138.20</td>\n",
       "      <td>232.90</td>\n",
       "      <td>...</td>\n",
       "      <td>30.36</td>\n",
       "      <td>66.73</td>\n",
       "      <td>142.45</td>\n",
       "      <td>63.61</td>\n",
       "      <td>71.39</td>\n",
       "      <td>38.04</td>\n",
       "      <td>37.65</td>\n",
       "      <td>0</td>\n",
       "      <td>102.45</td>\n",
       "      <td>0.0</td>\n",
       "    </tr>\n",
       "    <tr>\n",
       "      <th>143709</th>\n",
       "      <td>13406623</td>\n",
       "      <td>2022-09-30 18:00:54.000</td>\n",
       "      <td>3604.25</td>\n",
       "      <td>11058.25</td>\n",
       "      <td>1670.3</td>\n",
       "      <td>357.18</td>\n",
       "      <td>267.26</td>\n",
       "      <td>164.92</td>\n",
       "      <td>138.20</td>\n",
       "      <td>232.90</td>\n",
       "      <td>...</td>\n",
       "      <td>30.36</td>\n",
       "      <td>66.73</td>\n",
       "      <td>142.45</td>\n",
       "      <td>63.61</td>\n",
       "      <td>71.39</td>\n",
       "      <td>38.04</td>\n",
       "      <td>37.65</td>\n",
       "      <td>0</td>\n",
       "      <td>102.45</td>\n",
       "      <td>0.0</td>\n",
       "    </tr>\n",
       "    <tr>\n",
       "      <th>143710</th>\n",
       "      <td>13406624</td>\n",
       "      <td>2022-09-30 18:00:57.000</td>\n",
       "      <td>3604.25</td>\n",
       "      <td>11058.25</td>\n",
       "      <td>1670.3</td>\n",
       "      <td>357.18</td>\n",
       "      <td>267.26</td>\n",
       "      <td>164.92</td>\n",
       "      <td>138.20</td>\n",
       "      <td>232.90</td>\n",
       "      <td>...</td>\n",
       "      <td>30.36</td>\n",
       "      <td>66.73</td>\n",
       "      <td>142.45</td>\n",
       "      <td>63.61</td>\n",
       "      <td>71.39</td>\n",
       "      <td>38.04</td>\n",
       "      <td>37.65</td>\n",
       "      <td>0</td>\n",
       "      <td>102.45</td>\n",
       "      <td>0.0</td>\n",
       "    </tr>\n",
       "  </tbody>\n",
       "</table>\n",
       "<p>143711 rows × 22 columns</p>\n",
       "</div>"
      ],
      "text/plain": [
       "              ID                TimeStamp      /ES       /NQ    /RTY     SPY  \\\n",
       "0       13262914  2022-09-25 17:59:09.000  3711.50  11388.00  1687.6  367.95   \n",
       "1       13262915  2022-09-25 17:59:12.000  3711.50  11388.00  1687.6  367.95   \n",
       "2       13262916  2022-09-25 17:59:15.000  3711.50  11388.00  1687.6  367.95   \n",
       "3       13262917  2022-09-25 17:59:18.000  3711.50  11388.00  1687.6  367.95   \n",
       "4       13262918  2022-09-25 17:59:21.000  3711.50  11388.00  1687.6  367.95   \n",
       "...          ...                      ...      ...       ...     ...     ...   \n",
       "143706  13406620  2022-09-30 18:00:45.000  3604.25  11058.25  1670.3  357.18   \n",
       "143707  13406621  2022-09-30 18:00:48.000  3604.25  11058.25  1670.3  357.18   \n",
       "143708  13406622  2022-09-30 18:00:51.000  3604.25  11058.25  1670.3  357.18   \n",
       "143709  13406623  2022-09-30 18:00:54.000  3604.25  11058.25  1670.3  357.18   \n",
       "143710  13406624  2022-09-30 18:00:57.000  3604.25  11058.25  1670.3  357.18   \n",
       "\n",
       "           QQQ     IWM    AAPL    MSFT  ...    XLF    XLP     XLY    XTN  \\\n",
       "0       275.51  167.31  150.43  237.92  ...  31.05  69.38  146.42  64.49   \n",
       "1       275.51  167.31  150.43  237.92  ...  31.05  69.38  146.42  64.49   \n",
       "2       275.51  167.31  150.43  237.92  ...  31.05  69.38  146.42  64.49   \n",
       "3       275.51  167.31  150.43  237.92  ...  31.05  69.38  146.42  64.49   \n",
       "4       275.51  167.31  150.43  237.92  ...  31.05  69.38  146.42  64.49   \n",
       "...        ...     ...     ...     ...  ...    ...    ...     ...    ...   \n",
       "143706  267.26  164.92  138.20  232.90  ...  30.36  66.73  142.45  63.61   \n",
       "143707  267.26  164.92  138.20  232.90  ...  30.36  66.73  142.45  63.61   \n",
       "143708  267.26  164.92  138.20  232.90  ...  30.36  66.73  142.45  63.61   \n",
       "143709  267.26  164.92  138.20  232.90  ...  30.36  66.73  142.45  63.61   \n",
       "143710  267.26  164.92  138.20  232.90  ...  30.36  66.73  142.45  63.61   \n",
       "\n",
       "          HYG  /ES SMA20  /ES SMA50  /ES volume     TLT  TLT volume  \n",
       "0       72.13      36.97      36.12           0  105.70  23042230.0  \n",
       "1       72.13      36.97      36.12           0  105.70         0.0  \n",
       "2       72.13      36.97      36.12           0  105.70         0.0  \n",
       "3       72.13      36.97      36.12           0  105.70         0.0  \n",
       "4       72.13      36.97      36.12           0  105.70         0.0  \n",
       "...       ...        ...        ...         ...     ...         ...  \n",
       "143706  71.39      38.04      37.65           0  102.45         0.0  \n",
       "143707  71.39      38.04      37.65           0  102.45         0.0  \n",
       "143708  71.39      38.04      37.65           0  102.45         0.0  \n",
       "143709  71.39      38.04      37.65           0  102.45         0.0  \n",
       "143710  71.39      38.04      37.65           0  102.45         0.0  \n",
       "\n",
       "[143711 rows x 22 columns]"
      ]
     },
     "execution_count": 55,
     "metadata": {},
     "output_type": "execute_result"
    }
   ],
   "source": [
    "df"
   ]
  },
  {
   "cell_type": "code",
   "execution_count": 56,
   "metadata": {},
   "outputs": [
    {
     "data": {
      "text/plain": [
       "Index(['ID', 'TimeStamp', '/ES', '/NQ', '/RTY', 'SPY', 'QQQ', 'IWM', 'AAPL',\n",
       "       'MSFT', 'NVDA', 'XLK', 'XLF', 'XLP', 'XLY', 'XTN', 'HYG', '/ES SMA20',\n",
       "       '/ES SMA50', '/ES volume', 'TLT', 'TLT volume'],\n",
       "      dtype='object')"
      ]
     },
     "execution_count": 56,
     "metadata": {},
     "output_type": "execute_result"
    }
   ],
   "source": [
    "df.columns"
   ]
  },
  {
   "cell_type": "code",
   "execution_count": 57,
   "metadata": {},
   "outputs": [],
   "source": [
    "df['TimeStamp'] =  pd.to_datetime(df['TimeStamp'])"
   ]
  },
  {
   "cell_type": "code",
   "execution_count": 58,
   "metadata": {},
   "outputs": [
    {
     "data": {
      "text/plain": [
       "143711"
      ]
     },
     "execution_count": 58,
     "metadata": {},
     "output_type": "execute_result"
    }
   ],
   "source": [
    "len(df)"
   ]
  },
  {
   "cell_type": "code",
   "execution_count": 59,
   "metadata": {},
   "outputs": [
    {
     "data": {
      "image/png": "[encoded data removed]",
      "text/plain": [
       "<Figure size 432x288 with 1 Axes>"
      ]
     },
     "metadata": {
      "needs_background": "light"
     },
     "output_type": "display_data"
    }
   ],
   "source": [
    "import matplotlib.pyplot as plt\n",
    "plt.plot(df['TimeStamp'],df['/ES'])\n",
    "plt.gcf().autofmt_xdate()\n",
    "plt.show()"
   ]
  },
  {
   "cell_type": "code",
   "execution_count": 60,
   "metadata": {},
   "outputs": [
    {
     "data": {
      "image/png": "[encoded data removed]",
      "text/plain": [
       "<Figure size 432x288 with 1 Axes>"
      ]
     },
     "metadata": {
      "needs_background": "light"
     },
     "output_type": "display_data"
    }
   ],
   "source": [
    "import matplotlib.pyplot as plt\n",
    "plt.plot(df['TimeStamp'],df['/NQ'])\n",
    "plt.gcf().autofmt_xdate()\n",
    "plt.show()"
   ]
  },
  {
   "cell_type": "code",
   "execution_count": 61,
   "metadata": {},
   "outputs": [
    {
     "data": {
      "text/plain": [
       "Timedelta('0 days 00:00:03')"
      ]
     },
     "execution_count": 61,
     "metadata": {},
     "output_type": "execute_result"
    }
   ],
   "source": [
    "df['TimeStamp'].iloc[1] - df['TimeStamp'].iloc[0]"
   ]
  },
  {
   "cell_type": "code",
   "execution_count": 62,
   "metadata": {},
   "outputs": [],
   "source": [
    "from scipy.fft import fft, fftfreq\n",
    "yf = fft(df['/NQ'].values)"
   ]
  },
  {
   "cell_type": "code",
   "execution_count": 63,
   "metadata": {},
   "outputs": [],
   "source": [
    "SAMPLE_RATE = 0.5 # Hertz [20 samples per minute, 1 sample each 3 seconds]\n",
    "DURATION = len(df)/SAMPLE_RATE  # Seconds\n",
    "N = int(SAMPLE_RATE * DURATION)\n",
    "xf = fftfreq(N, 1 / SAMPLE_RATE)"
   ]
  },
  {
   "cell_type": "code",
   "execution_count": 64,
   "metadata": {},
   "outputs": [
    {
     "data": {
      "image/png": "[encoded data removed]",
      "text/plain": [
       "<Figure size 432x288 with 1 Axes>"
      ]
     },
     "metadata": {
      "needs_background": "light"
     },
     "output_type": "display_data"
    }
   ],
   "source": [
    "import numpy as np\n",
    "plt.plot(xf, np.abs(yf))\n",
    "plt.show()"
   ]
  },
  {
   "cell_type": "code",
   "execution_count": 65,
   "metadata": {},
   "outputs": [
    {
     "data": {
      "image/png": "[encoded data removed]",
      "text/plain": [
       "<Figure size 432x288 with 1 Axes>"
      ]
     },
     "metadata": {
      "needs_background": "light"
     },
     "output_type": "display_data"
    }
   ],
   "source": [
    "from scipy.fft import rfft, rfftfreq\n",
    "# Note the extra 'r' at the front\n",
    "yf = rfft(df['/NQ'].values)\n",
    "xf = rfftfreq(N, 1 / SAMPLE_RATE)\n",
    "plt.plot(xf, np.abs(yf))\n",
    "plt.show()"
   ]
  },
  {
   "cell_type": "code",
   "execution_count": null,
   "metadata": {},
   "outputs": [],
   "source": []
  }
 ],
 "metadata": {
  "kernelspec": {
   "display_name": "Python 3.9.12 64-bit",
   "language": "python",
   "name": "python3"
  },
  "language_info": {
   "codemirror_mode": {
    "name": "ipython",
    "version": 3
   },
   "file_extension": ".py",
   "mimetype": "text/x-python",
   "name": "python",
   "nbconvert_exporter": "python",
   "pygments_lexer": "ipython3",
   "version": "3.9.12"
  },
  "orig_nbformat": 4,
  "vscode": {
   "interpreter": {
    "hash": "b0fa6594d8f4cbf19f97940f81e996739fb7646882a419484c72d19e05852a7e"
   }
  }
 },
 "nbformat": 4,
 "nbformat_minor": 2
}
