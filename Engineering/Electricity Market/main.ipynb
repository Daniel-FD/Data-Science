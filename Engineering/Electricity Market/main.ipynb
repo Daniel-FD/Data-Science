{
 "cells": [
  {
   "cell_type": "code",
   "execution_count": 1,
   "metadata": {},
   "outputs": [],
   "source": [
    "from main import query_prices_and_save_to_db, today_tomorrow_str_dates\n",
    "import pandas as pd"
   ]
  },
  {
   "cell_type": "code",
   "execution_count": 2,
   "metadata": {},
   "outputs": [],
   "source": [
    "# INPUTS\n",
    "yesterday_str, tomorrow_str = today_tomorrow_str_dates()\n",
    "start = pd.Timestamp(yesterday_str, tz='Europe/Brussels')\n",
    "end = pd.Timestamp(tomorrow_str, tz='Europe/Brussels')\n",
    "country_code = 'ES'\n",
    "start = pd.Timestamp('20220101', tz='Europe/Brussels')\n",
    "end = pd.Timestamp('20221231', tz='Europe/Brussels')"
   ]
  },
  {
   "cell_type": "code",
   "execution_count": 3,
   "metadata": {},
   "outputs": [
    {
     "name": "stdout",
     "output_type": "stream",
     "text": [
      "(pymysql.err.OperationalError) (1170, \"BLOB/TEXT column 'unique_id' used in key specification without a key length\")\n",
      "[SQL: ALTER TABLE `prices-table` ADD PRIMARY KEY (`unique_id`);]\n",
      "(Background on this error at: https://sqlalche.me/e/14/e3q8)\n"
     ]
    }
   ],
   "source": [
    "query_prices_and_save_to_db(start, end, country_code, save_to_path = False)"
   ]
  }
 ],
 "metadata": {
  "kernelspec": {
   "display_name": "Python 3.9.7 ('base')",
   "language": "python",
   "name": "python3"
  },
  "language_info": {
   "codemirror_mode": {
    "name": "ipython",
    "version": 3
   },
   "file_extension": ".py",
   "mimetype": "text/x-python",
   "name": "python",
   "nbconvert_exporter": "python",
   "pygments_lexer": "ipython3",
   "version": "3.9.7"
  },
  "orig_nbformat": 4,
  "vscode": {
   "interpreter": {
    "hash": "80e84fd967207d73b61aa430605dad8c12793944af9d1a99037915e6e7461b10"
   }
  }
 },
 "nbformat": 4,
 "nbformat_minor": 2
}
