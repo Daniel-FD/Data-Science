{
 "cells": [
  {
   "cell_type": "code",
   "execution_count": 12,
   "metadata": {},
   "outputs": [],
   "source": [
    "import config\n",
    "from entsoe import EntsoePandasClient\n",
    "# \n",
    "import pandas as pd\n",
    "import seaborn as sns\n",
    "from datetime import datetime\n",
    "# \n",
    "import sqlalchemy\n",
    "from sqlalchemy import create_engine\n",
    "from uuid import uuid4"
   ]
  },
  {
   "cell_type": "markdown",
   "metadata": {},
   "source": [
    "# Retrieve Prices Data from API"
   ]
  },
  {
   "cell_type": "code",
   "execution_count": 13,
   "metadata": {},
   "outputs": [],
   "source": [
    "API_KEY = config.API_KEY\n",
    "client = EntsoePandasClient(api_key=API_KEY)"
   ]
  },
  {
   "cell_type": "code",
   "execution_count": 14,
   "metadata": {},
   "outputs": [],
   "source": [
    "start = pd.Timestamp('20221115', tz='Europe/Brussels')\n",
    "end = pd.Timestamp('20221116', tz='Europe/Brussels')\n",
    "country_code = 'ES' "
   ]
  },
  {
   "cell_type": "code",
   "execution_count": 25,
   "metadata": {},
   "outputs": [
    {
     "data": {
      "text/plain": [
       "'20221115'"
      ]
     },
     "execution_count": 25,
     "metadata": {},
     "output_type": "execute_result"
    }
   ],
   "source": [
    "yesterday_str"
   ]
  },
  {
   "cell_type": "code",
   "execution_count": 26,
   "metadata": {},
   "outputs": [
    {
     "data": {
      "text/plain": [
       "'20221115'"
      ]
     },
     "execution_count": 26,
     "metadata": {},
     "output_type": "execute_result"
    }
   ],
   "source": [
    "tomorrow_str"
   ]
  },
  {
   "cell_type": "code",
   "execution_count": 24,
   "metadata": {},
   "outputs": [],
   "source": [
    "# INPUTS\n",
    "from main import today_tomorrow_str_dates\n",
    "yesterday_str, tomorrow_str = today_tomorrow_str_dates()\n",
    "start = pd.Timestamp(yesterday_str, tz='Europe/Brussels')\n",
    "end = pd.Timestamp(tomorrow_str, tz='Europe/Brussels')\n",
    "country_code = 'ES'"
   ]
  },
  {
   "cell_type": "code",
   "execution_count": 23,
   "metadata": {},
   "outputs": [
    {
     "ename": "NoMatchingDataError",
     "evalue": "",
     "output_type": "error",
     "traceback": [
      "\u001b[0;31m---------------------------------------------------------------------------\u001b[0m",
      "\u001b[0;31mNoMatchingDataError\u001b[0m                       Traceback (most recent call last)",
      "\u001b[0;32m/var/folders/tl/yx271fpd4sd_d224zzcb65840000gp/T/ipykernel_13154/892902255.py\u001b[0m in \u001b[0;36m<module>\u001b[0;34m\u001b[0m\n\u001b[0;32m----> 1\u001b[0;31m \u001b[0mprices\u001b[0m \u001b[0;34m=\u001b[0m \u001b[0mclient\u001b[0m\u001b[0;34m.\u001b[0m\u001b[0mquery_day_ahead_prices\u001b[0m\u001b[0;34m(\u001b[0m\u001b[0mcountry_code\u001b[0m\u001b[0;34m,\u001b[0m \u001b[0mstart\u001b[0m\u001b[0;34m=\u001b[0m\u001b[0mstart\u001b[0m\u001b[0;34m,\u001b[0m\u001b[0mend\u001b[0m\u001b[0;34m=\u001b[0m\u001b[0mend\u001b[0m\u001b[0;34m)\u001b[0m\u001b[0;34m\u001b[0m\u001b[0;34m\u001b[0m\u001b[0m\n\u001b[0m\u001b[1;32m      2\u001b[0m \u001b[0mdf_prices\u001b[0m \u001b[0;34m=\u001b[0m \u001b[0mpd\u001b[0m\u001b[0;34m.\u001b[0m\u001b[0mDataFrame\u001b[0m\u001b[0;34m(\u001b[0m\u001b[0;34m{\u001b[0m\u001b[0;34m'date'\u001b[0m\u001b[0;34m:\u001b[0m\u001b[0mprices\u001b[0m\u001b[0;34m.\u001b[0m\u001b[0mindex\u001b[0m\u001b[0;34m,\u001b[0m \u001b[0;34m'price'\u001b[0m\u001b[0;34m:\u001b[0m\u001b[0mprices\u001b[0m\u001b[0;34m.\u001b[0m\u001b[0mvalues\u001b[0m\u001b[0;34m}\u001b[0m\u001b[0;34m)\u001b[0m\u001b[0;34m\u001b[0m\u001b[0;34m\u001b[0m\u001b[0m\n\u001b[1;32m      3\u001b[0m \u001b[0mdf_prices\u001b[0m\u001b[0;34m[\u001b[0m\u001b[0;34m'date'\u001b[0m\u001b[0;34m]\u001b[0m \u001b[0;34m=\u001b[0m \u001b[0mpd\u001b[0m\u001b[0;34m.\u001b[0m\u001b[0mto_datetime\u001b[0m\u001b[0;34m(\u001b[0m\u001b[0mdf_prices\u001b[0m\u001b[0;34m[\u001b[0m\u001b[0;34m'date'\u001b[0m\u001b[0;34m]\u001b[0m\u001b[0;34m)\u001b[0m\u001b[0;34m\u001b[0m\u001b[0;34m\u001b[0m\u001b[0m\n\u001b[1;32m      4\u001b[0m \u001b[0mdf_prices\u001b[0m\u001b[0;34m[\u001b[0m\u001b[0;34m'country_code'\u001b[0m\u001b[0;34m]\u001b[0m \u001b[0;34m=\u001b[0m \u001b[0mcountry_code\u001b[0m\u001b[0;34m\u001b[0m\u001b[0;34m\u001b[0m\u001b[0m\n\u001b[1;32m      5\u001b[0m \u001b[0mdf_prices\u001b[0m\u001b[0;34m[\u001b[0m\u001b[0;34m'unique_id'\u001b[0m\u001b[0;34m]\u001b[0m \u001b[0;34m=\u001b[0m \u001b[0mdf_prices\u001b[0m\u001b[0;34m[\u001b[0m\u001b[0;34m'date'\u001b[0m\u001b[0;34m]\u001b[0m\u001b[0;34m.\u001b[0m\u001b[0mastype\u001b[0m\u001b[0;34m(\u001b[0m\u001b[0;34m'int64'\u001b[0m\u001b[0;34m)\u001b[0m \u001b[0;34m//\u001b[0m \u001b[0;36m10\u001b[0m\u001b[0;34m**\u001b[0m\u001b[0;36m9\u001b[0m\u001b[0;34m\u001b[0m\u001b[0;34m\u001b[0m\u001b[0m\n",
      "\u001b[0;32m~/opt/anaconda3/lib/python3.9/site-packages/entsoe/decorators.py\u001b[0m in \u001b[0;36myear_wrapper\u001b[0;34m(start, end, *args, **kwargs)\u001b[0m\n\u001b[1;32m    104\u001b[0m         \u001b[0;32mif\u001b[0m \u001b[0msum\u001b[0m\u001b[0;34m(\u001b[0m\u001b[0;34m[\u001b[0m\u001b[0mf\u001b[0m \u001b[0;32mis\u001b[0m \u001b[0;32mNone\u001b[0m \u001b[0;32mfor\u001b[0m \u001b[0mf\u001b[0m \u001b[0;32min\u001b[0m \u001b[0mframes\u001b[0m\u001b[0;34m]\u001b[0m\u001b[0;34m)\u001b[0m \u001b[0;34m==\u001b[0m \u001b[0mlen\u001b[0m\u001b[0;34m(\u001b[0m\u001b[0mframes\u001b[0m\u001b[0;34m)\u001b[0m\u001b[0;34m:\u001b[0m\u001b[0;34m\u001b[0m\u001b[0;34m\u001b[0m\u001b[0m\n\u001b[1;32m    105\u001b[0m             \u001b[0;31m# All the data returned are void\u001b[0m\u001b[0;34m\u001b[0m\u001b[0;34m\u001b[0m\u001b[0m\n\u001b[0;32m--> 106\u001b[0;31m             \u001b[0;32mraise\u001b[0m \u001b[0mNoMatchingDataError\u001b[0m\u001b[0;34m\u001b[0m\u001b[0;34m\u001b[0m\u001b[0m\n\u001b[0m\u001b[1;32m    107\u001b[0m \u001b[0;34m\u001b[0m\u001b[0m\n\u001b[1;32m    108\u001b[0m         \u001b[0mdf\u001b[0m \u001b[0;34m=\u001b[0m \u001b[0mpd\u001b[0m\u001b[0;34m.\u001b[0m\u001b[0mconcat\u001b[0m\u001b[0;34m(\u001b[0m\u001b[0mframes\u001b[0m\u001b[0;34m,\u001b[0m \u001b[0msort\u001b[0m\u001b[0;34m=\u001b[0m\u001b[0;32mTrue\u001b[0m\u001b[0;34m)\u001b[0m\u001b[0;34m\u001b[0m\u001b[0;34m\u001b[0m\u001b[0m\n",
      "\u001b[0;31mNoMatchingDataError\u001b[0m: "
     ]
    }
   ],
   "source": [
    "prices = client.query_day_ahead_prices(country_code, start=start,end=end)\n",
    "df_prices = pd.DataFrame({'date':prices.index, 'price':prices.values})\n",
    "df_prices['date'] = pd.to_datetime(df_prices['date'])\n",
    "df_prices['country_code'] = country_code\n",
    "df_prices['unique_id'] = df_prices['date'].astype('int64') // 10**9\n",
    "df_prices['unique_id'] = str(country_code) + df_prices['unique_id'].astype(str)\n",
    "df_prices.set_index('unique_id',inplace=True)\n",
    "df_prices.to_csv('prices.csv')"
   ]
  },
  {
   "cell_type": "code",
   "execution_count": 16,
   "metadata": {},
   "outputs": [
    {
     "data": {
      "text/html": [
       "<div>\n",
       "<style scoped>\n",
       "    .dataframe tbody tr th:only-of-type {\n",
       "        vertical-align: middle;\n",
       "    }\n",
       "\n",
       "    .dataframe tbody tr th {\n",
       "        vertical-align: top;\n",
       "    }\n",
       "\n",
       "    .dataframe thead th {\n",
       "        text-align: right;\n",
       "    }\n",
       "</style>\n",
       "<table border=\"1\" class=\"dataframe\">\n",
       "  <thead>\n",
       "    <tr style=\"text-align: right;\">\n",
       "      <th></th>\n",
       "      <th>date</th>\n",
       "      <th>price</th>\n",
       "      <th>country_code</th>\n",
       "    </tr>\n",
       "    <tr>\n",
       "      <th>unique_id</th>\n",
       "      <th></th>\n",
       "      <th></th>\n",
       "      <th></th>\n",
       "    </tr>\n",
       "  </thead>\n",
       "  <tbody>\n",
       "    <tr>\n",
       "      <th>ES1668466800</th>\n",
       "      <td>2022-11-15 00:00:00+01:00</td>\n",
       "      <td>110.00</td>\n",
       "      <td>ES</td>\n",
       "    </tr>\n",
       "    <tr>\n",
       "      <th>ES1668470400</th>\n",
       "      <td>2022-11-15 01:00:00+01:00</td>\n",
       "      <td>93.90</td>\n",
       "      <td>ES</td>\n",
       "    </tr>\n",
       "    <tr>\n",
       "      <th>ES1668474000</th>\n",
       "      <td>2022-11-15 02:00:00+01:00</td>\n",
       "      <td>90.36</td>\n",
       "      <td>ES</td>\n",
       "    </tr>\n",
       "    <tr>\n",
       "      <th>ES1668477600</th>\n",
       "      <td>2022-11-15 03:00:00+01:00</td>\n",
       "      <td>89.95</td>\n",
       "      <td>ES</td>\n",
       "    </tr>\n",
       "    <tr>\n",
       "      <th>ES1668481200</th>\n",
       "      <td>2022-11-15 04:00:00+01:00</td>\n",
       "      <td>87.00</td>\n",
       "      <td>ES</td>\n",
       "    </tr>\n",
       "    <tr>\n",
       "      <th>ES1668484800</th>\n",
       "      <td>2022-11-15 05:00:00+01:00</td>\n",
       "      <td>87.00</td>\n",
       "      <td>ES</td>\n",
       "    </tr>\n",
       "    <tr>\n",
       "      <th>ES1668488400</th>\n",
       "      <td>2022-11-15 06:00:00+01:00</td>\n",
       "      <td>92.10</td>\n",
       "      <td>ES</td>\n",
       "    </tr>\n",
       "    <tr>\n",
       "      <th>ES1668492000</th>\n",
       "      <td>2022-11-15 07:00:00+01:00</td>\n",
       "      <td>103.50</td>\n",
       "      <td>ES</td>\n",
       "    </tr>\n",
       "    <tr>\n",
       "      <th>ES1668495600</th>\n",
       "      <td>2022-11-15 08:00:00+01:00</td>\n",
       "      <td>117.81</td>\n",
       "      <td>ES</td>\n",
       "    </tr>\n",
       "    <tr>\n",
       "      <th>ES1668499200</th>\n",
       "      <td>2022-11-15 09:00:00+01:00</td>\n",
       "      <td>114.97</td>\n",
       "      <td>ES</td>\n",
       "    </tr>\n",
       "    <tr>\n",
       "      <th>ES1668502800</th>\n",
       "      <td>2022-11-15 10:00:00+01:00</td>\n",
       "      <td>101.10</td>\n",
       "      <td>ES</td>\n",
       "    </tr>\n",
       "    <tr>\n",
       "      <th>ES1668506400</th>\n",
       "      <td>2022-11-15 11:00:00+01:00</td>\n",
       "      <td>95.90</td>\n",
       "      <td>ES</td>\n",
       "    </tr>\n",
       "    <tr>\n",
       "      <th>ES1668510000</th>\n",
       "      <td>2022-11-15 12:00:00+01:00</td>\n",
       "      <td>94.50</td>\n",
       "      <td>ES</td>\n",
       "    </tr>\n",
       "    <tr>\n",
       "      <th>ES1668513600</th>\n",
       "      <td>2022-11-15 13:00:00+01:00</td>\n",
       "      <td>93.90</td>\n",
       "      <td>ES</td>\n",
       "    </tr>\n",
       "    <tr>\n",
       "      <th>ES1668517200</th>\n",
       "      <td>2022-11-15 14:00:00+01:00</td>\n",
       "      <td>93.90</td>\n",
       "      <td>ES</td>\n",
       "    </tr>\n",
       "    <tr>\n",
       "      <th>ES1668520800</th>\n",
       "      <td>2022-11-15 15:00:00+01:00</td>\n",
       "      <td>95.20</td>\n",
       "      <td>ES</td>\n",
       "    </tr>\n",
       "    <tr>\n",
       "      <th>ES1668524400</th>\n",
       "      <td>2022-11-15 16:00:00+01:00</td>\n",
       "      <td>105.00</td>\n",
       "      <td>ES</td>\n",
       "    </tr>\n",
       "    <tr>\n",
       "      <th>ES1668528000</th>\n",
       "      <td>2022-11-15 17:00:00+01:00</td>\n",
       "      <td>127.07</td>\n",
       "      <td>ES</td>\n",
       "    </tr>\n",
       "    <tr>\n",
       "      <th>ES1668531600</th>\n",
       "      <td>2022-11-15 18:00:00+01:00</td>\n",
       "      <td>145.00</td>\n",
       "      <td>ES</td>\n",
       "    </tr>\n",
       "    <tr>\n",
       "      <th>ES1668535200</th>\n",
       "      <td>2022-11-15 19:00:00+01:00</td>\n",
       "      <td>150.00</td>\n",
       "      <td>ES</td>\n",
       "    </tr>\n",
       "    <tr>\n",
       "      <th>ES1668538800</th>\n",
       "      <td>2022-11-15 20:00:00+01:00</td>\n",
       "      <td>154.80</td>\n",
       "      <td>ES</td>\n",
       "    </tr>\n",
       "    <tr>\n",
       "      <th>ES1668542400</th>\n",
       "      <td>2022-11-15 21:00:00+01:00</td>\n",
       "      <td>152.27</td>\n",
       "      <td>ES</td>\n",
       "    </tr>\n",
       "    <tr>\n",
       "      <th>ES1668546000</th>\n",
       "      <td>2022-11-15 22:00:00+01:00</td>\n",
       "      <td>131.53</td>\n",
       "      <td>ES</td>\n",
       "    </tr>\n",
       "    <tr>\n",
       "      <th>ES1668549600</th>\n",
       "      <td>2022-11-15 23:00:00+01:00</td>\n",
       "      <td>105.00</td>\n",
       "      <td>ES</td>\n",
       "    </tr>\n",
       "    <tr>\n",
       "      <th>ES1668553200</th>\n",
       "      <td>2022-11-16 00:00:00+01:00</td>\n",
       "      <td>90.52</td>\n",
       "      <td>ES</td>\n",
       "    </tr>\n",
       "  </tbody>\n",
       "</table>\n",
       "</div>"
      ],
      "text/plain": [
       "                                  date   price country_code\n",
       "unique_id                                                  \n",
       "ES1668466800 2022-11-15 00:00:00+01:00  110.00           ES\n",
       "ES1668470400 2022-11-15 01:00:00+01:00   93.90           ES\n",
       "ES1668474000 2022-11-15 02:00:00+01:00   90.36           ES\n",
       "ES1668477600 2022-11-15 03:00:00+01:00   89.95           ES\n",
       "ES1668481200 2022-11-15 04:00:00+01:00   87.00           ES\n",
       "ES1668484800 2022-11-15 05:00:00+01:00   87.00           ES\n",
       "ES1668488400 2022-11-15 06:00:00+01:00   92.10           ES\n",
       "ES1668492000 2022-11-15 07:00:00+01:00  103.50           ES\n",
       "ES1668495600 2022-11-15 08:00:00+01:00  117.81           ES\n",
       "ES1668499200 2022-11-15 09:00:00+01:00  114.97           ES\n",
       "ES1668502800 2022-11-15 10:00:00+01:00  101.10           ES\n",
       "ES1668506400 2022-11-15 11:00:00+01:00   95.90           ES\n",
       "ES1668510000 2022-11-15 12:00:00+01:00   94.50           ES\n",
       "ES1668513600 2022-11-15 13:00:00+01:00   93.90           ES\n",
       "ES1668517200 2022-11-15 14:00:00+01:00   93.90           ES\n",
       "ES1668520800 2022-11-15 15:00:00+01:00   95.20           ES\n",
       "ES1668524400 2022-11-15 16:00:00+01:00  105.00           ES\n",
       "ES1668528000 2022-11-15 17:00:00+01:00  127.07           ES\n",
       "ES1668531600 2022-11-15 18:00:00+01:00  145.00           ES\n",
       "ES1668535200 2022-11-15 19:00:00+01:00  150.00           ES\n",
       "ES1668538800 2022-11-15 20:00:00+01:00  154.80           ES\n",
       "ES1668542400 2022-11-15 21:00:00+01:00  152.27           ES\n",
       "ES1668546000 2022-11-15 22:00:00+01:00  131.53           ES\n",
       "ES1668549600 2022-11-15 23:00:00+01:00  105.00           ES\n",
       "ES1668553200 2022-11-16 00:00:00+01:00   90.52           ES"
      ]
     },
     "execution_count": 16,
     "metadata": {},
     "output_type": "execute_result"
    }
   ],
   "source": [
    "df_prices"
   ]
  },
  {
   "cell_type": "code",
   "execution_count": 17,
   "metadata": {},
   "outputs": [
    {
     "data": {
      "text/plain": [
       "<AxesSubplot:xlabel='date', ylabel='price'>"
      ]
     },
     "execution_count": 17,
     "metadata": {},
     "output_type": "execute_result"
    },
    {
     "data": {
      "image/png": "[encoded data removed]",
      "text/plain": [
       "<Figure size 640x480 with 1 Axes>"
      ]
     },
     "metadata": {},
     "output_type": "display_data"
    }
   ],
   "source": [
    "sns.lineplot(data=df_prices, x=\"date\", y=\"price\")"
   ]
  },
  {
   "cell_type": "markdown",
   "metadata": {},
   "source": [
    "# Store Data in AWS RDS Database"
   ]
  },
  {
   "cell_type": "code",
   "execution_count": 18,
   "metadata": {},
   "outputs": [],
   "source": [
    "HOST = config.HOST\n",
    "USER = config.USER\n",
    "PASSWORD = config.PASSWORD\n",
    "DATABASE = config.DATABASE\n",
    "PORT = config.PORT"
   ]
  },
  {
   "cell_type": "code",
   "execution_count": 19,
   "metadata": {},
   "outputs": [],
   "source": [
    "db_connection_str = f'mysql+pymysql://{USER}:{PASSWORD}@{HOST}/{DATABASE}'\n",
    "connection = create_engine(db_connection_str)"
   ]
  },
  {
   "cell_type": "code",
   "execution_count": 20,
   "metadata": {},
   "outputs": [],
   "source": [
    "\n",
    "col_options = dict(\n",
    "    dtype={\n",
    "        'unique_id': sqlalchemy.types.VARCHAR(length=25),\n",
    "        'date': sqlalchemy.types.DATETIME(),\n",
    "        'price': sqlalchemy.types.FLOAT,\n",
    "        'country_code': sqlalchemy.types.VARCHAR(length=25)\n",
    "    }\n",
    ")\n",
    "table_name = 'prices-table'\n",
    "index_name = 'unique_id'"
   ]
  },
  {
   "cell_type": "code",
   "execution_count": 21,
   "metadata": {},
   "outputs": [],
   "source": [
    "try:\n",
    "    df_prices.to_sql(name=table_name, con=connection, if_exists = 'append', index=True, index_label=index_name, **col_options)\n",
    "    with connection.connect() as con:\n",
    "        con.execute('ALTER TABLE `' + str(table_name) + '` ADD PRIMARY KEY (`'+ str(index_name) + '`);')\n",
    "except Exception as e:\n",
    "    print(e)\n",
    "    for i in range(len(df_prices)):\n",
    "        try:\n",
    "            df_prices.iloc[i:i+1].to_sql(name=table_name, con=connection, if_exists = 'append')\n",
    "        except Exception as e:\n",
    "            print(i, e)\n",
    "            pass"
   ]
  },
  {
   "cell_type": "code",
   "execution_count": null,
   "metadata": {},
   "outputs": [],
   "source": []
  }
 ],
 "metadata": {
  "kernelspec": {
   "display_name": "Python 3.9.7 ('base')",
   "language": "python",
   "name": "python3"
  },
  "language_info": {
   "codemirror_mode": {
    "name": "ipython",
    "version": 3
   },
   "file_extension": ".py",
   "mimetype": "text/x-python",
   "name": "python",
   "nbconvert_exporter": "python",
   "pygments_lexer": "ipython3",
   "version": "3.9.7"
  },
  "orig_nbformat": 4,
  "vscode": {
   "interpreter": {
    "hash": "80e84fd967207d73b61aa430605dad8c12793944af9d1a99037915e6e7461b10"
   }
  }
 },
 "nbformat": 4,
 "nbformat_minor": 2
}
