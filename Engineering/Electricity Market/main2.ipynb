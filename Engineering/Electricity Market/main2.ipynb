{
 "cells": [
  {
   "cell_type": "code",
   "execution_count": 1,
   "metadata": {},
   "outputs": [],
   "source": [
    "from entsoe import EntsoePandasClient\n",
    "import pandas as pd\n",
    "import config"
   ]
  },
  {
   "cell_type": "code",
   "execution_count": 2,
   "metadata": {},
   "outputs": [],
   "source": [
    "API_KEY = config.API_KEY"
   ]
  },
  {
   "cell_type": "code",
   "execution_count": 6,
   "metadata": {},
   "outputs": [
    {
     "name": "stdout",
     "output_type": "stream",
     "text": [
      "XXXXX\n"
     ]
    }
   ],
   "source": [
    "print(API_KEY)"
   ]
  },
  {
   "cell_type": "code",
   "execution_count": 3,
   "metadata": {},
   "outputs": [],
   "source": [
    "# client = EntsoeRawClient(api_key=<YOUR >)"
   ]
  },
  {
   "cell_type": "code",
   "execution_count": 4,
   "metadata": {},
   "outputs": [],
   "source": [
    "start = pd.Timestamp('20171201', tz='Europe/Brussels')\n",
    "end = pd.Timestamp('20180101', tz='Europe/Brussels')\n",
    "country_code = 'BE'  # Belgium\n",
    "country_code_from = 'FR'  # France\n",
    "country_code_to = 'DE_LU' # Germany-Luxembourg\n",
    "type_marketagreement_type = 'A01'\n",
    "contract_marketagreement_type = \"A01\""
   ]
  },
  {
   "cell_type": "code",
   "execution_count": 5,
   "metadata": {},
   "outputs": [
    {
     "ename": "NameError",
     "evalue": "name 'client' is not defined",
     "output_type": "error",
     "traceback": [
      "\u001b[0;31m---------------------------------------------------------------------------\u001b[0m",
      "\u001b[0;31mNameError\u001b[0m                                 Traceback (most recent call last)",
      "\u001b[0;32m/var/folders/tl/yx271fpd4sd_d224zzcb65840000gp/T/ipykernel_34640/1695340355.py\u001b[0m in \u001b[0;36m<module>\u001b[0;34m\u001b[0m\n\u001b[1;32m      1\u001b[0m \u001b[0;31m# methods that return Pandas Series\u001b[0m\u001b[0;34m\u001b[0m\u001b[0;34m\u001b[0m\u001b[0m\n\u001b[0;32m----> 2\u001b[0;31m \u001b[0mclient\u001b[0m\u001b[0;34m.\u001b[0m\u001b[0mquery_day_ahead_prices\u001b[0m\u001b[0;34m(\u001b[0m\u001b[0mcountry_code\u001b[0m\u001b[0;34m,\u001b[0m \u001b[0mstart\u001b[0m\u001b[0;34m=\u001b[0m\u001b[0mstart\u001b[0m\u001b[0;34m,\u001b[0m\u001b[0mend\u001b[0m\u001b[0;34m=\u001b[0m\u001b[0mend\u001b[0m\u001b[0;34m)\u001b[0m\u001b[0;34m\u001b[0m\u001b[0;34m\u001b[0m\u001b[0m\n\u001b[0m\u001b[1;32m      3\u001b[0m \u001b[0mclient\u001b[0m\u001b[0;34m.\u001b[0m\u001b[0mquery_net_position\u001b[0m\u001b[0;34m(\u001b[0m\u001b[0mcountry_code\u001b[0m\u001b[0;34m,\u001b[0m \u001b[0mstart\u001b[0m\u001b[0;34m=\u001b[0m\u001b[0mstart\u001b[0m\u001b[0;34m,\u001b[0m \u001b[0mend\u001b[0m\u001b[0;34m=\u001b[0m\u001b[0mend\u001b[0m\u001b[0;34m,\u001b[0m \u001b[0mdayahead\u001b[0m\u001b[0;34m=\u001b[0m\u001b[0;32mTrue\u001b[0m\u001b[0;34m)\u001b[0m\u001b[0;34m\u001b[0m\u001b[0;34m\u001b[0m\u001b[0m\n\u001b[1;32m      4\u001b[0m \u001b[0mclient\u001b[0m\u001b[0;34m.\u001b[0m\u001b[0mquery_crossborder_flows\u001b[0m\u001b[0;34m(\u001b[0m\u001b[0mcountry_code_from\u001b[0m\u001b[0;34m,\u001b[0m \u001b[0mcountry_code_to\u001b[0m\u001b[0;34m,\u001b[0m \u001b[0mstart\u001b[0m\u001b[0;34m,\u001b[0m \u001b[0mend\u001b[0m\u001b[0;34m)\u001b[0m\u001b[0;34m\u001b[0m\u001b[0;34m\u001b[0m\u001b[0m\n\u001b[1;32m      5\u001b[0m \u001b[0mclient\u001b[0m\u001b[0;34m.\u001b[0m\u001b[0mquery_scheduled_exchanges\u001b[0m\u001b[0;34m(\u001b[0m\u001b[0mcountry_code_from\u001b[0m\u001b[0;34m,\u001b[0m \u001b[0mcountry_code_to\u001b[0m\u001b[0;34m,\u001b[0m \u001b[0mstart\u001b[0m\u001b[0;34m,\u001b[0m \u001b[0mend\u001b[0m\u001b[0;34m,\u001b[0m \u001b[0mdayahead\u001b[0m\u001b[0;34m=\u001b[0m\u001b[0;32mFalse\u001b[0m\u001b[0;34m)\u001b[0m\u001b[0;34m\u001b[0m\u001b[0;34m\u001b[0m\u001b[0m\n",
      "\u001b[0;31mNameError\u001b[0m: name 'client' is not defined"
     ]
    }
   ],
   "source": [
    "# methods that return Pandas Series\n",
    "client.query_day_ahead_prices(country_code, start=start,end=end)\n",
    "client.query_net_position(country_code, start=start, end=end, dayahead=True)\n",
    "client.query_crossborder_flows(country_code_from, country_code_to, start, end)\n",
    "client.query_scheduled_exchanges(country_code_from, country_code_to, start, end, dayahead=False)\n",
    "client.query_net_transfer_capacity_dayahead(country_code_from, country_code_to, start, end)\n",
    "client.query_net_transfer_capacity_weekahead(country_code_from, country_code_to, start, end)\n",
    "client.query_net_transfer_capacity_monthahead(country_code_from, country_code_to, start, end)\n",
    "client.query_net_transfer_capacity_yearahead(country_code_from, country_code_to, start, end)\n",
    "client.query_intraday_offered_capacity(country_code_from, country_code_to, start, end,implicit=True)\n",
    "client.query_offered_capacity(country_code_from, country_code_to, start, end, contract_marketagreement_type, implicit=True)\n",
    "client.query_aggregate_water_reservoirs_and_hydro_storage(country_code, start, end)\n",
    "\n",
    "# methods that return Pandas DataFrames\n",
    "client.query_load(country_code, start=start,end=end)\n",
    "client.query_load_forecast(country_code, start=start,end=end)\n",
    "client.query_load_and_forecast(country_code, start=start, end=end)\n",
    "client.query_generation_forecast(country_code, start=start,end=end)\n",
    "client.query_wind_and_solar_forecast(country_code, start=start,end=end, psr_type=None)\n",
    "client.query_generation(country_code, start=start,end=end, psr_type=None)\n",
    "client.query_generation_per_plant(country_code, start=start,end=end, psr_type=None)\n",
    "client.query_installed_generation_capacity(country_code, start=start,end=end, psr_type=None)\n",
    "client.query_installed_generation_capacity_per_unit(country_code, start=start,end=end, psr_type=None)\n",
    "client.query_imbalance_prices(country_code, start=start,end=end, psr_type=None)\n",
    "client.query_contracted_reserve_prices(country_code, start, end, type_marketagreement_type, psr_type=None)\n",
    "client.query_contracted_reserve_amount(country_code, start, end, type_marketagreement_type, psr_type=None)\n",
    "client.query_unavailability_of_generation_units(country_code, start=start,end=end, docstatus=None, periodstartupdate=None, periodendupdate=None)\n",
    "client.query_unavailability_of_production_units(country_code, start, end, docstatus=None, periodstartupdate=None, periodendupdate=None)\n",
    "client.query_unavailability_transmission(country_code_from, country_code_to, start, end, docstatus=None, periodstartupdate=None, periodendupdate=None)\n",
    "client.query_withdrawn_unavailability_of_generation_units(country_code, start, end)\n",
    "client.query_import(country_code, start, end)\n",
    "client.query_generation_import(country_code, start, end)\n",
    "client.query_procured_balancing_capacity(country_code, start, end, process_type, type_marketagreement_type=None)"
   ]
  }
 ],
 "metadata": {
  "kernelspec": {
   "display_name": "Python 3.9.7 ('base')",
   "language": "python",
   "name": "python3"
  },
  "language_info": {
   "codemirror_mode": {
    "name": "ipython",
    "version": 3
   },
   "file_extension": ".py",
   "mimetype": "text/x-python",
   "name": "python",
   "nbconvert_exporter": "python",
   "pygments_lexer": "ipython3",
   "version": "3.9.7"
  },
  "orig_nbformat": 4,
  "vscode": {
   "interpreter": {
    "hash": "80e84fd967207d73b61aa430605dad8c12793944af9d1a99037915e6e7461b10"
   }
  }
 },
 "nbformat": 4,
 "nbformat_minor": 2
}
