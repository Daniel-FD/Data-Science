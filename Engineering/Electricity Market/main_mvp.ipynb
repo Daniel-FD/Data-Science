{
 "cells": [
  {
   "cell_type": "code",
   "execution_count": 1,
   "metadata": {},
   "outputs": [],
   "source": [
    "list_of_EIC_codes = [\"10Y1001A1001A46L\",\"10YDK-1--------W\",\"10YES-REE------0\",\"10YFR-RTE------C\"]"
   ]
  },
  {
   "cell_type": "code",
   "execution_count": 2,
   "metadata": {},
   "outputs": [],
   "source": [
    "import requests\n",
    "import pandas as pd\n",
    "import matplotlib.pyplot as plt\n",
    "import datetime\n",
    "import sys\n",
    "import gradio as gr"
   ]
  },
  {
   "cell_type": "code",
   "execution_count": 3,
   "metadata": {},
   "outputs": [
    {
     "name": "stderr",
     "output_type": "stream",
     "text": [
      "/Users/danielfiuzadosil/opt/anaconda3/lib/python3.9/site-packages/gradio/deprecation.py:43: UserWarning: You have unused kwarg parameters in Checkbox, please remove them: {'default': 'False'}\n",
      "  warnings.warn(\n"
     ]
    },
    {
     "name": "stdout",
     "output_type": "stream",
     "text": [
      "Using cache from '/Users/danielfiuzadosil/Documents/GitHub_Repo/Data-Science/Engineering/Electricity Market/gradio_cached_examples/17' directory. If method or examples have changed since last caching, delete this folder to clear cache.\n",
      "Running on local URL:  http://127.0.0.1:7863\n",
      "\n",
      "To create a public link, set `share=True` in `launch()`.\n"
     ]
    },
    {
     "data": {
      "text/html": [
       "<div><iframe src=\"http://127.0.0.1:7863/\" width=\"900\" height=\"500\" allow=\"autoplay; camera; microphone;\" frameborder=\"0\" allowfullscreen></iframe></div>"
      ],
      "text/plain": [
       "<IPython.core.display.HTML object>"
      ]
     },
     "metadata": {},
     "output_type": "display_data"
    }
   ],
   "source": [
    "def plot_e_pricing(EIC_code,start_date,end_date,tomorrow_rate):\n",
    "    # \n",
    "    if tomorrow_rate == True:\n",
    "        now = datetime.datetime.utcnow()\n",
    "        tomorrow = now + datetime.timedelta(days=1)\n",
    "        now = now.replace(microsecond=0).isoformat() + 'Z'\n",
    "        tomorrow = tomorrow.replace(microsecond=0).isoformat() + 'Z'\n",
    "        # \n",
    "        start_date = now\n",
    "        end_date = tomorrow\n",
    "    # \n",
    "    url = \"https://electri.p.rapidapi.com/api/v1/day-ahead-prices\"\n",
    "    querystring = {\"to\":end_date,\"from\":start_date,\"eic\":EIC_code}\n",
    "    headers = {\n",
    "      \"X-RapidAPI-Key\": \"7ad267cb53mshf4f5255c38f192ap19f964jsnc7abc0be43eb\",\n",
    "      \"X-RapidAPI-Host\": \"electri.p.rapidapi.com\"\n",
    "    }\n",
    "    data = requests.request(\"GET\", url, headers=headers, params=querystring).json()\n",
    "    df = pd.json_normalize(data['data']['series'])\n",
    "    df['time'] = pd.to_datetime(df['time'])\n",
    "    # \n",
    "    df_metadata = pd.json_normalize(data)\n",
    "    currency = df_metadata['data.currency'].iloc[0]\n",
    "    power_unit = df_metadata['data.unit'].iloc[0]\n",
    "    eic = df_metadata['data.eic'].iloc[0]\n",
    "    # \n",
    "    fig, ax = plt.subplots(figsize=(8, 6))\n",
    "    ax.plot(df['time'], df['price']);\n",
    "    plt.title('Electrical prices '+ str(eic))\n",
    "    plt.xlabel('Time')\n",
    "    plt.ylabel('Price [' + str(currency) + '/' + str(power_unit) + ']')\n",
    "    fig.autofmt_xdate()\n",
    "    # \n",
    "    # \n",
    "    return fig\n",
    "\n",
    "\n",
    "inputs = [\n",
    "    gr.Dropdown(list_of_EIC_codes, label=\"Electrical Provider EIC\"),\n",
    "    gr.Textbox(label=\"Start Date [YYYY-MM-DDTHH:MMZ]\"),\n",
    "    gr.Textbox(label=\"End Date [YYYY-MM-DDTHH:MMZ]\"),\n",
    "    gr.Checkbox(label=\"Tomorrow's rates?\",default='False'),\n",
    "]\n",
    "outputs = gr.Plot()\n",
    "\n",
    "demo = gr.Interface(\n",
    "    fn=plot_e_pricing,\n",
    "    inputs=inputs,\n",
    "    outputs=outputs,\n",
    "    examples=[\n",
    "        [\"10Y1001A1001A46L\",\"2022-04-05T22:00Z\",\"2022-05-05T22:00Z\",False],\n",
    "        [\"10YDK-1--------W\",\"2022-08-05T22:00Z\",\"2022-08-06T22:00Z\",False],\n",
    "        [\"10YDK-1--------W\",\" \",\" \",True],\n",
    "\n",
    "    ],\n",
    "    cache_examples=True,\n",
    ")\n",
    "\n",
    "if __name__ == \"__main__\":\n",
    "    demo.launch()"
   ]
  }
 ],
 "metadata": {
  "kernelspec": {
   "display_name": "Python 3.9.7 ('base')",
   "language": "python",
   "name": "python3"
  },
  "language_info": {
   "codemirror_mode": {
    "name": "ipython",
    "version": 3
   },
   "file_extension": ".py",
   "mimetype": "text/x-python",
   "name": "python",
   "nbconvert_exporter": "python",
   "pygments_lexer": "ipython3",
   "version": "3.9.7"
  },
  "orig_nbformat": 4,
  "vscode": {
   "interpreter": {
    "hash": "80e84fd967207d73b61aa430605dad8c12793944af9d1a99037915e6e7461b10"
   }
  }
 },
 "nbformat": 4,
 "nbformat_minor": 2
}
