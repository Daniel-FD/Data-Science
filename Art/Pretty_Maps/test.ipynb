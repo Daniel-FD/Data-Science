{
 "cells": [
  {
   "cell_type": "code",
   "execution_count": 1,
   "metadata": {},
   "outputs": [
    {
     "ename": "ModuleNotFoundError",
     "evalue": "No module named 'geopandas'",
     "output_type": "error",
     "traceback": [
      "\u001b[0;31m---------------------------------------------------------------------------\u001b[0m",
      "\u001b[0;31mModuleNotFoundError\u001b[0m                       Traceback (most recent call last)",
      "Cell \u001b[0;32mIn[1], line 1\u001b[0m\n\u001b[0;32m----> 1\u001b[0m \u001b[38;5;28;01mimport\u001b[39;00m \u001b[38;5;21;01mgeopandas\u001b[39;00m \u001b[38;5;28;01mas\u001b[39;00m \u001b[38;5;21;01mgpd\u001b[39;00m\n\u001b[1;32m      2\u001b[0m \u001b[38;5;28;01mfrom\u001b[39;00m \u001b[38;5;21;01mshapely\u001b[39;00m\u001b[38;5;21;01m.\u001b[39;00m\u001b[38;5;21;01mgeometry\u001b[39;00m \u001b[38;5;28;01mimport\u001b[39;00m Polygon\n\u001b[1;32m      5\u001b[0m lat \u001b[38;5;241m=\u001b[39m [\u001b[38;5;241m43.3538\u001b[39m,  \u001b[38;5;241m43.3923\u001b[39m]\n",
      "\u001b[0;31mModuleNotFoundError\u001b[0m: No module named 'geopandas'"
     ]
    }
   ],
   "source": [
    "import geopandas as gpd\n",
    "from shapely.geometry import Polygon\n",
    "\n",
    "\n",
    "lat = [43.3538,  43.3923]\n",
    "lon = [-8.3718, -8.4269]\n",
    "\n",
    "lat_point_list = [lat[0], lat[0], lat[1], lat[1]]\n",
    "lon_point_list = [lon[0], lon[1], lon[0], lon[1]]\n",
    "\n",
    "# lat_point_list = [43.3538, 43.3538, 43.3923,  43.3923]\n",
    "# lon_point_list = [-8.3718, -8.4269, -8.4269, -8.3718]\n",
    "# \n",
    "# point_1 -----> point_2\n",
    "# |                     |\n",
    "# point_3 -----> point_4\n",
    "# \n",
    "#  -----> X\n",
    "# |       |\n",
    "# X -----> \n",
    "point_1 = [43.3923, -8.4269]\n",
    "point_2 = [43.3923, -8.3718]\n",
    "# \n",
    "# (lat_max, lon_min) -----> (lat_max, lon_min)\n",
    "# |                                         |\n",
    "# (lat_min, lon_min) -----> (lat_min, lon_max)\n",
    "\n",
    "polygon_geom = Polygon(zip(lon_point_list, lat_point_list))\n",
    "polygon = gpd.GeoDataFrame(index=[0], crs='epsg:4326', geometry=[polygon_geom])       \n",
    "\n",
    "# polygon.to_file(filename='polygon.geojson', driver='GeoJSON')\n",
    "# polygon.to_file(filename='polygon.gpkg', driver=\"GPKG\")\n",
    "# polygon.to_file(filename='polygon.shp', driver=\"ESRI Shapefile\")"
   ]
  },
  {
   "cell_type": "code",
   "execution_count": null,
   "metadata": {},
   "outputs": [],
   "source": [
    "import folium\n",
    "m = folium.Map([43.3538, -8.4269], zoom_start=10, tiles='cartodbpositron')\n",
    "folium.GeoJson(polygon).add_to(m)\n",
    "folium.LatLngPopup().add_to(m)\n",
    "m"
   ]
  },
  {
   "cell_type": "code",
   "execution_count": null,
   "metadata": {},
   "outputs": [],
   "source": [
    "polygon"
   ]
  },
  {
   "cell_type": "code",
   "execution_count": null,
   "metadata": {},
   "outputs": [],
   "source": [
    "import prettymaps\n",
    "from matplotlib import pyplot as plt\n",
    "\n",
    "plot = prettymaps.plot(polygon)"
   ]
  },
  {
   "cell_type": "code",
   "execution_count": null,
   "metadata": {},
   "outputs": [],
   "source": []
  }
 ],
 "metadata": {
  "kernelspec": {
   "display_name": "base",
   "language": "python",
   "name": "python3"
  },
  "language_info": {
   "codemirror_mode": {
    "name": "ipython",
    "version": 3
   },
   "file_extension": ".py",
   "mimetype": "text/x-python",
   "name": "python",
   "nbconvert_exporter": "python",
   "pygments_lexer": "ipython3",
   "version": "3.11.0"
  },
  "orig_nbformat": 4
 },
 "nbformat": 4,
 "nbformat_minor": 2
}
