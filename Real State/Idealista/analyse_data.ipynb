{
 "cells": [
  {
   "cell_type": "code",
   "execution_count": 1,
   "metadata": {},
   "outputs": [],
   "source": [
    "import plotly.express as px\n",
    "import json\n",
    "import pandas as pd\n",
    "import kaleido"
   ]
  },
  {
   "cell_type": "code",
   "execution_count": 2,
   "metadata": {},
   "outputs": [],
   "source": [
    "df = pd.read_csv('/Users/danielfiuzadosil/Documents/GitHub_Repo/Data-Science/Real State/Idealista/idealista_search04142023_12:47.csv')"
   ]
  },
  {
   "cell_type": "code",
   "execution_count": 3,
   "metadata": {},
   "outputs": [
    {
     "data": {
      "text/plain": [
       "700"
      ]
     },
     "execution_count": 3,
     "metadata": {},
     "output_type": "execute_result"
    }
   ],
   "source": [
    "len(df)"
   ]
  },
  {
   "cell_type": "code",
   "execution_count": 4,
   "metadata": {},
   "outputs": [
    {
     "data": {
      "text/html": [
       "<div>\n",
       "<style scoped>\n",
       "    .dataframe tbody tr th:only-of-type {\n",
       "        vertical-align: middle;\n",
       "    }\n",
       "\n",
       "    .dataframe tbody tr th {\n",
       "        vertical-align: top;\n",
       "    }\n",
       "\n",
       "    .dataframe thead th {\n",
       "        text-align: right;\n",
       "    }\n",
       "</style>\n",
       "<table border=\"1\" class=\"dataframe\">\n",
       "  <thead>\n",
       "    <tr style=\"text-align: right;\">\n",
       "      <th></th>\n",
       "      <th>Unnamed: 0</th>\n",
       "      <th>propertyCode</th>\n",
       "      <th>numPhotos</th>\n",
       "      <th>price</th>\n",
       "      <th>size</th>\n",
       "      <th>rooms</th>\n",
       "      <th>bathrooms</th>\n",
       "      <th>latitude</th>\n",
       "      <th>longitude</th>\n",
       "      <th>distance</th>\n",
       "      <th>priceByArea</th>\n",
       "      <th>parkingSpace.parkingSpacePrice</th>\n",
       "    </tr>\n",
       "  </thead>\n",
       "  <tbody>\n",
       "    <tr>\n",
       "      <th>count</th>\n",
       "      <td>700.000000</td>\n",
       "      <td>7.000000e+02</td>\n",
       "      <td>700.000000</td>\n",
       "      <td>700.000000</td>\n",
       "      <td>700.000000</td>\n",
       "      <td>700.000000</td>\n",
       "      <td>700.000000</td>\n",
       "      <td>700.000000</td>\n",
       "      <td>700.000000</td>\n",
       "      <td>700.000000</td>\n",
       "      <td>700.000000</td>\n",
       "      <td>8.000000</td>\n",
       "    </tr>\n",
       "    <tr>\n",
       "      <th>mean</th>\n",
       "      <td>24.500000</td>\n",
       "      <td>9.875379e+07</td>\n",
       "      <td>25.282857</td>\n",
       "      <td>198080.425714</td>\n",
       "      <td>94.002857</td>\n",
       "      <td>2.608571</td>\n",
       "      <td>1.645714</td>\n",
       "      <td>43.357761</td>\n",
       "      <td>-8.406866</td>\n",
       "      <td>2557.720000</td>\n",
       "      <td>2196.377143</td>\n",
       "      <td>24625.000000</td>\n",
       "    </tr>\n",
       "    <tr>\n",
       "      <th>std</th>\n",
       "      <td>14.441189</td>\n",
       "      <td>5.052416e+06</td>\n",
       "      <td>10.838520</td>\n",
       "      <td>59458.475380</td>\n",
       "      <td>28.934933</td>\n",
       "      <td>1.012616</td>\n",
       "      <td>0.537755</td>\n",
       "      <td>0.011339</td>\n",
       "      <td>0.012333</td>\n",
       "      <td>1100.940392</td>\n",
       "      <td>686.700907</td>\n",
       "      <td>10098.620839</td>\n",
       "    </tr>\n",
       "    <tr>\n",
       "      <th>min</th>\n",
       "      <td>0.000000</td>\n",
       "      <td>2.753168e+07</td>\n",
       "      <td>0.000000</td>\n",
       "      <td>48000.000000</td>\n",
       "      <td>35.000000</td>\n",
       "      <td>0.000000</td>\n",
       "      <td>0.000000</td>\n",
       "      <td>43.333520</td>\n",
       "      <td>-8.445984</td>\n",
       "      <td>18.000000</td>\n",
       "      <td>500.000000</td>\n",
       "      <td>10000.000000</td>\n",
       "    </tr>\n",
       "    <tr>\n",
       "      <th>25%</th>\n",
       "      <td>12.000000</td>\n",
       "      <td>9.814335e+07</td>\n",
       "      <td>18.000000</td>\n",
       "      <td>154747.500000</td>\n",
       "      <td>75.000000</td>\n",
       "      <td>2.000000</td>\n",
       "      <td>1.000000</td>\n",
       "      <td>43.350961</td>\n",
       "      <td>-8.415550</td>\n",
       "      <td>2148.250000</td>\n",
       "      <td>1734.500000</td>\n",
       "      <td>17250.000000</td>\n",
       "    </tr>\n",
       "    <tr>\n",
       "      <th>50%</th>\n",
       "      <td>24.500000</td>\n",
       "      <td>9.994204e+07</td>\n",
       "      <td>24.000000</td>\n",
       "      <td>196000.000000</td>\n",
       "      <td>92.000000</td>\n",
       "      <td>3.000000</td>\n",
       "      <td>2.000000</td>\n",
       "      <td>43.357108</td>\n",
       "      <td>-8.407477</td>\n",
       "      <td>2592.000000</td>\n",
       "      <td>2154.500000</td>\n",
       "      <td>25000.000000</td>\n",
       "    </tr>\n",
       "    <tr>\n",
       "      <th>75%</th>\n",
       "      <td>37.000000</td>\n",
       "      <td>1.007218e+08</td>\n",
       "      <td>32.000000</td>\n",
       "      <td>242050.000000</td>\n",
       "      <td>107.000000</td>\n",
       "      <td>3.000000</td>\n",
       "      <td>2.000000</td>\n",
       "      <td>43.364285</td>\n",
       "      <td>-8.398266</td>\n",
       "      <td>3033.750000</td>\n",
       "      <td>2589.250000</td>\n",
       "      <td>30500.000000</td>\n",
       "    </tr>\n",
       "    <tr>\n",
       "      <th>max</th>\n",
       "      <td>49.000000</td>\n",
       "      <td>1.011070e+08</td>\n",
       "      <td>71.000000</td>\n",
       "      <td>300000.000000</td>\n",
       "      <td>260.000000</td>\n",
       "      <td>8.000000</td>\n",
       "      <td>3.000000</td>\n",
       "      <td>43.384894</td>\n",
       "      <td>-8.336977</td>\n",
       "      <td>4998.000000</td>\n",
       "      <td>7500.000000</td>\n",
       "      <td>40000.000000</td>\n",
       "    </tr>\n",
       "  </tbody>\n",
       "</table>\n",
       "</div>"
      ],
      "text/plain": [
       "       Unnamed: 0  propertyCode   numPhotos          price        size  \\\n",
       "count  700.000000  7.000000e+02  700.000000     700.000000  700.000000   \n",
       "mean    24.500000  9.875379e+07   25.282857  198080.425714   94.002857   \n",
       "std     14.441189  5.052416e+06   10.838520   59458.475380   28.934933   \n",
       "min      0.000000  2.753168e+07    0.000000   48000.000000   35.000000   \n",
       "25%     12.000000  9.814335e+07   18.000000  154747.500000   75.000000   \n",
       "50%     24.500000  9.994204e+07   24.000000  196000.000000   92.000000   \n",
       "75%     37.000000  1.007218e+08   32.000000  242050.000000  107.000000   \n",
       "max     49.000000  1.011070e+08   71.000000  300000.000000  260.000000   \n",
       "\n",
       "            rooms   bathrooms    latitude   longitude     distance  \\\n",
       "count  700.000000  700.000000  700.000000  700.000000   700.000000   \n",
       "mean     2.608571    1.645714   43.357761   -8.406866  2557.720000   \n",
       "std      1.012616    0.537755    0.011339    0.012333  1100.940392   \n",
       "min      0.000000    0.000000   43.333520   -8.445984    18.000000   \n",
       "25%      2.000000    1.000000   43.350961   -8.415550  2148.250000   \n",
       "50%      3.000000    2.000000   43.357108   -8.407477  2592.000000   \n",
       "75%      3.000000    2.000000   43.364285   -8.398266  3033.750000   \n",
       "max      8.000000    3.000000   43.384894   -8.336977  4998.000000   \n",
       "\n",
       "       priceByArea  parkingSpace.parkingSpacePrice  \n",
       "count   700.000000                        8.000000  \n",
       "mean   2196.377143                    24625.000000  \n",
       "std     686.700907                    10098.620839  \n",
       "min     500.000000                    10000.000000  \n",
       "25%    1734.500000                    17250.000000  \n",
       "50%    2154.500000                    25000.000000  \n",
       "75%    2589.250000                    30500.000000  \n",
       "max    7500.000000                    40000.000000  "
      ]
     },
     "execution_count": 4,
     "metadata": {},
     "output_type": "execute_result"
    }
   ],
   "source": [
    "df.describe()"
   ]
  },
  {
   "cell_type": "code",
   "execution_count": 5,
   "metadata": {},
   "outputs": [
    {
     "data": {
      "text/plain": [
       "Index(['Unnamed: 0', 'propertyCode', 'thumbnail', 'numPhotos', 'floor',\n",
       "       'price', 'propertyType', 'operation', 'size', 'exterior', 'rooms',\n",
       "       'bathrooms', 'address', 'province', 'municipality', 'district',\n",
       "       'country', 'latitude', 'longitude', 'showAddress', 'url', 'distance',\n",
       "       'description', 'hasVideo', 'status', 'newDevelopment', 'hasLift',\n",
       "       'priceByArea', 'hasPlan', 'has3DTour', 'has360', 'hasStaging',\n",
       "       'superTopHighlight', 'topNewDevelopment', 'detailedType.typology',\n",
       "       'suggestedTexts.subtitle', 'suggestedTexts.title', 'externalReference',\n",
       "       'parkingSpace.hasParkingSpace',\n",
       "       'parkingSpace.isParkingSpaceIncludedInPrice', 'neighborhood',\n",
       "       'detailedType.subTypology', 'labels', 'parkingSpace.parkingSpacePrice',\n",
       "       'newDevelopmentFinished'],\n",
       "      dtype='object')"
      ]
     },
     "execution_count": 5,
     "metadata": {},
     "output_type": "execute_result"
    }
   ],
   "source": [
    "df.columns"
   ]
  },
  {
   "cell_type": "code",
   "execution_count": 6,
   "metadata": {},
   "outputs": [
    {
     "data": {
      "image/png": "[encoded data removed]",
      "text/plain": [
       "<Figure size 640x480 with 1 Axes>"
      ]
     },
     "metadata": {},
     "output_type": "display_data"
    }
   ],
   "source": [
    "import matplotlib.pyplot as plt\n",
    "plt.hist(df['price'])\n",
    "plt.show()"
   ]
  },
  {
   "cell_type": "code",
   "execution_count": 7,
   "metadata": {},
   "outputs": [
    {
     "data": {
      "image/png": "[encoded data removed]",
      "text/plain": [
       "<Figure size 640x480 with 1 Axes>"
      ]
     },
     "metadata": {},
     "output_type": "display_data"
    }
   ],
   "source": [
    "plt.hist(df['size'])\n",
    "plt.show()"
   ]
  },
  {
   "cell_type": "code",
   "execution_count": 8,
   "metadata": {},
   "outputs": [
    {
     "data": {
      "text/plain": [
       "Text(0, 0.5, 'Size')"
      ]
     },
     "execution_count": 8,
     "metadata": {},
     "output_type": "execute_result"
    },
    {
     "data": {
      "image/png": "[encoded data removed]",
      "text/plain": [
       "<Figure size 640x480 with 1 Axes>"
      ]
     },
     "metadata": {},
     "output_type": "display_data"
    }
   ],
   "source": [
    "plt.scatter(df['price'], df['size'])\n",
    "plt.xlabel('Price')\n",
    "plt.ylabel('Size')"
   ]
  },
  {
   "cell_type": "code",
   "execution_count": 9,
   "metadata": {},
   "outputs": [
    {
     "data": {
      "text/plain": [
       "Text(0, 0.5, 'Rooms')"
      ]
     },
     "execution_count": 9,
     "metadata": {},
     "output_type": "execute_result"
    },
    {
     "data": {
      "image/png": "[encoded data removed]",
      "text/plain": [
       "<Figure size 640x480 with 1 Axes>"
      ]
     },
     "metadata": {},
     "output_type": "display_data"
    }
   ],
   "source": [
    "plt.scatter(df['price'], df['rooms'])\n",
    "plt.xlabel('Price')\n",
    "plt.ylabel('Rooms')"
   ]
  },
  {
   "cell_type": "code",
   "execution_count": 10,
   "metadata": {},
   "outputs": [
    {
     "name": "stderr",
     "output_type": "stream",
     "text": [
      "/Users/danielfiuzadosil/opt/anaconda3/lib/python3.9/site-packages/scipy/__init__.py:146: UserWarning: A NumPy version >=1.16.5 and <1.23.0 is required for this version of SciPy (detected version 1.24.2\n",
      "  warnings.warn(f\"A NumPy version >={np_minversion} and <{np_maxversion}\"\n"
     ]
    },
    {
     "data": {
      "image/png": "[encoded data removed]",
      "text/plain": [
       "<Figure size 640x480 with 2 Axes>"
      ]
     },
     "metadata": {},
     "output_type": "display_data"
    }
   ],
   "source": [
    "import seaborn as sn\n",
    "sn.heatmap(df.corr(), annot=True)\n",
    "sn.set(rc={'figure.figsize':(15,15)})\n",
    "plt.show()\n"
   ]
  },
  {
   "cell_type": "code",
   "execution_count": 11,
   "metadata": {},
   "outputs": [
    {
     "data": {
      "text/plain": [
       "Index(['Unnamed: 0', 'propertyCode', 'thumbnail', 'numPhotos', 'floor',\n",
       "       'price', 'propertyType', 'operation', 'size', 'exterior', 'rooms',\n",
       "       'bathrooms', 'address', 'province', 'municipality', 'district',\n",
       "       'country', 'latitude', 'longitude', 'showAddress', 'url', 'distance',\n",
       "       'description', 'hasVideo', 'status', 'newDevelopment', 'hasLift',\n",
       "       'priceByArea', 'hasPlan', 'has3DTour', 'has360', 'hasStaging',\n",
       "       'superTopHighlight', 'topNewDevelopment', 'detailedType.typology',\n",
       "       'suggestedTexts.subtitle', 'suggestedTexts.title', 'externalReference',\n",
       "       'parkingSpace.hasParkingSpace',\n",
       "       'parkingSpace.isParkingSpaceIncludedInPrice', 'neighborhood',\n",
       "       'detailedType.subTypology', 'labels', 'parkingSpace.parkingSpacePrice',\n",
       "       'newDevelopmentFinished'],\n",
       "      dtype='object')"
      ]
     },
     "execution_count": 11,
     "metadata": {},
     "output_type": "execute_result"
    }
   ],
   "source": [
    "\n",
    "df.columns"
   ]
  },
  {
   "cell_type": "code",
   "execution_count": 12,
   "metadata": {},
   "outputs": [
    {
     "data": {
      "image/png": "[encoded data removed]",
      "text/plain": [
       "<Figure size 1500x1500 with 1 Axes>"
      ]
     },
     "metadata": {},
     "output_type": "display_data"
    }
   ],
   "source": [
    "plt.hist(df['priceByArea'])\n",
    "plt.show()"
   ]
  },
  {
   "cell_type": "code",
   "execution_count": 13,
   "metadata": {},
   "outputs": [
    {
     "data": {
      "application/vnd.plotly.v1+json": {
       "config": {
        "plotlyServerURL": "https://plot.ly"
       },
       "data": [
        {
         "customdata": [
          [
           1591,
           148000,
           93,
           4,
           "https://www.idealista.com/inmueble/95334761/"
          ],
          [
           2589,
           145000,
           56,
           1,
           "https://www.idealista.com/inmueble/95313523/"
          ],
          [
           2000,
           210000,
           105,
           2,
           "https://www.idealista.com/inmueble/100677141/"
          ],
          [
           2000,
           210000,
           105,
           2,
           "https://www.idealista.com/inmueble/100006630/"
          ],
          [
           2625,
           210000,
           80,
           2,
           "https://www.idealista.com/inmueble/99233416/"
          ],
          [
           647,
           55000,
           85,
           3,
           "https://www.idealista.com/inmueble/100763565/"
          ],
          [
           2179,
           170000,
           78,
           3,
           "https://www.idealista.com/inmueble/100703396/"
          ],
          [
           2235,
           190000,
           85,
           2,
           "https://www.idealista.com/inmueble/101072545/"
          ],
          [
           2326,
           300000,
           129,
           4,
           "https://www.idealista.com/inmueble/100912573/"
          ],
          [
           1350,
           135000,
           100,
           3,
           "https://www.idealista.com/inmueble/95636332/"
          ],
          [
           2000,
           230000,
           115,
           3,
           "https://www.idealista.com/inmueble/95290503/"
          ],
          [
           2130,
           230000,
           108,
           3,
           "https://www.idealista.com/inmueble/95337346/"
          ],
          [
           1565,
           299000,
           191,
           5,
           "https://www.idealista.com/inmueble/98086600/"
          ],
          [
           2244,
           175000,
           78,
           2,
           "https://www.idealista.com/inmueble/100837881/"
          ],
          [
           561,
           55000,
           98,
           2,
           "https://www.idealista.com/inmueble/98726785/"
          ],
          [
           2143,
           119999,
           56,
           2,
           "https://www.idealista.com/inmueble/100055777/"
          ],
          [
           2529,
           220000,
           87,
           3,
           "https://www.idealista.com/inmueble/82377328/"
          ],
          [
           561,
           55000,
           98,
           3,
           "https://www.idealista.com/inmueble/98726184/"
          ],
          [
           2341,
           295000,
           126,
           4,
           "https://www.idealista.com/inmueble/100593319/"
          ],
          [
           2341,
           295000,
           126,
           4,
           "https://www.idealista.com/inmueble/100120532/"
          ],
          [
           1389,
           169500,
           122,
           4,
           "https://www.idealista.com/inmueble/99892520/"
          ],
          [
           2200,
           220000,
           100,
           3,
           "https://www.idealista.com/inmueble/100884478/"
          ],
          [
           3467,
           260000,
           75,
           2,
           "https://www.idealista.com/inmueble/100434052/"
          ],
          [
           1831,
           119000,
           65,
           1,
           "https://www.idealista.com/inmueble/100228571/"
          ],
          [
           2050,
           205000,
           100,
           3,
           "https://www.idealista.com/inmueble/100337743/"
          ],
          [
           1591,
           148000,
           93,
           3,
           "https://www.idealista.com/inmueble/97356268/"
          ],
          [
           1625,
           91000,
           56,
           2,
           "https://www.idealista.com/inmueble/99383353/"
          ],
          [
           1453,
           125000,
           86,
           3,
           "https://www.idealista.com/inmueble/101032875/"
          ],
          [
           2587,
           269000,
           104,
           2,
           "https://www.idealista.com/inmueble/38564382/"
          ],
          [
           2000,
           260000,
           130,
           4,
           "https://www.idealista.com/inmueble/97119485/"
          ],
          [
           2000,
           260000,
           130,
           4,
           "https://www.idealista.com/inmueble/97382060/"
          ],
          [
           2700,
           135000,
           50,
           2,
           "https://www.idealista.com/inmueble/96643145/"
          ],
          [
           1250,
           115000,
           92,
           3,
           "https://www.idealista.com/inmueble/100767526/"
          ],
          [
           1941,
           198000,
           102,
           3,
           "https://www.idealista.com/inmueble/99685487/"
          ],
          [
           1193,
           99000,
           83,
           3,
           "https://www.idealista.com/inmueble/100184212/"
          ],
          [
           1892,
           280000,
           148,
           4,
           "https://www.idealista.com/inmueble/98266385/"
          ],
          [
           2077,
           189020,
           91,
           2,
           "https://www.idealista.com/inmueble/94377537/"
          ],
          [
           1667,
           150000,
           90,
           3,
           "https://www.idealista.com/inmueble/100685065/"
          ],
          [
           1875,
           149999,
           80,
           2,
           "https://www.idealista.com/inmueble/96699429/"
          ],
          [
           1484,
           149900,
           101,
           4,
           "https://www.idealista.com/inmueble/100879026/"
          ],
          [
           1484,
           149900,
           101,
           4,
           "https://www.idealista.com/inmueble/99012373/"
          ],
          [
           2049,
           168000,
           82,
           2,
           "https://www.idealista.com/inmueble/98618210/"
          ],
          [
           1320,
           99000,
           75,
           3,
           "https://www.idealista.com/inmueble/100811590/"
          ],
          [
           3274,
           275000,
           84,
           3,
           "https://www.idealista.com/inmueble/100646875/"
          ],
          [
           2984,
           185000,
           62,
           2,
           "https://www.idealista.com/inmueble/100123466/"
          ],
          [
           1357,
           95000,
           70,
           3,
           "https://www.idealista.com/inmueble/96575026/"
          ],
          [
           2467,
           185000,
           75,
           2,
           "https://www.idealista.com/inmueble/100097168/"
          ],
          [
           1565,
           299000,
           191,
           5,
           "https://www.idealista.com/inmueble/99350422/"
          ],
          [
           2467,
           185000,
           75,
           2,
           "https://www.idealista.com/inmueble/100064742/"
          ],
          [
           1853,
           189000,
           102,
           3,
           "https://www.idealista.com/inmueble/100826907/"
          ],
          [
           2059,
           210000,
           102,
           4,
           "https://www.idealista.com/inmueble/99832967/"
          ],
          [
           1495,
           299000,
           200,
           5,
           "https://www.idealista.com/inmueble/98821510/"
          ],
          [
           1510,
           299000,
           198,
           5,
           "https://www.idealista.com/inmueble/100946779/"
          ],
          [
           1125,
           90000,
           80,
           3,
           "https://www.idealista.com/inmueble/100404150/"
          ],
          [
           1661,
           299000,
           180,
           5,
           "https://www.idealista.com/inmueble/100832853/"
          ],
          [
           1750,
           210000,
           120,
           3,
           "https://www.idealista.com/inmueble/100812229/"
          ],
          [
           1193,
           210000,
           176,
           3,
           "https://www.idealista.com/inmueble/81650596/"
          ],
          [
           2895,
           220000,
           76,
           1,
           "https://www.idealista.com/inmueble/99477243/"
          ],
          [
           2198,
           178000,
           81,
           2,
           "https://www.idealista.com/inmueble/100783775/"
          ],
          [
           2647,
           270000,
           102,
           3,
           "https://www.idealista.com/inmueble/98802704/"
          ],
          [
           1473,
           137000,
           93,
           2,
           "https://www.idealista.com/inmueble/100999550/"
          ],
          [
           2318,
           255000,
           110,
           3,
           "https://www.idealista.com/inmueble/100859613/"
          ],
          [
           1846,
           120000,
           65,
           3,
           "https://www.idealista.com/inmueble/100182832/"
          ],
          [
           2857,
           220000,
           77,
           2,
           "https://www.idealista.com/inmueble/100336344/"
          ],
          [
           1817,
           149000,
           82,
           3,
           "https://www.idealista.com/inmueble/99594358/"
          ],
          [
           2895,
           220000,
           76,
           1,
           "https://www.idealista.com/inmueble/100723837/"
          ],
          [
           1693,
           149000,
           88,
           3,
           "https://www.idealista.com/inmueble/100508969/"
          ],
          [
           2200,
           220000,
           100,
           4,
           "https://www.idealista.com/inmueble/99273823/"
          ],
          [
           1391,
           185000,
           133,
           4,
           "https://www.idealista.com/inmueble/99485074/"
          ],
          [
           2911,
           165900,
           57,
           1,
           "https://www.idealista.com/inmueble/98730754/"
          ],
          [
           2591,
           285000,
           110,
           3,
           "https://www.idealista.com/inmueble/97507233/"
          ],
          [
           2316,
           220000,
           95,
           3,
           "https://www.idealista.com/inmueble/99961878/"
          ],
          [
           2352,
           152900,
           65,
           2,
           "https://www.idealista.com/inmueble/100644805/"
          ],
          [
           2911,
           165900,
           57,
           1,
           "https://www.idealista.com/inmueble/99976302/"
          ],
          [
           3151,
           230000,
           73,
           2,
           "https://www.idealista.com/inmueble/99564004/"
          ],
          [
           1656,
           149000,
           90,
           3,
           "https://www.idealista.com/inmueble/99462628/"
          ],
          [
           2352,
           152900,
           65,
           2,
           "https://www.idealista.com/inmueble/100827366/"
          ],
          [
           1600,
           120000,
           75,
           3,
           "https://www.idealista.com/inmueble/100884949/"
          ],
          [
           1412,
           120000,
           85,
           3,
           "https://www.idealista.com/inmueble/100761724/"
          ],
          [
           2452,
           179000,
           73,
           2,
           "https://www.idealista.com/inmueble/99970216/"
          ],
          [
           1793,
           165000,
           92,
           2,
           "https://www.idealista.com/inmueble/100802017/"
          ],
          [
           1587,
           238000,
           150,
           4,
           "https://www.idealista.com/inmueble/100550074/"
          ],
          [
           1667,
           150000,
           90,
           3,
           "https://www.idealista.com/inmueble/100214129/"
          ],
          [
           2200,
           143000,
           65,
           2,
           "https://www.idealista.com/inmueble/100914779/"
          ],
          [
           2313,
           155000,
           67,
           2,
           "https://www.idealista.com/inmueble/100651308/"
          ],
          [
           2615,
           285000,
           109,
           3,
           "https://www.idealista.com/inmueble/97265416/"
          ],
          [
           1333,
           120000,
           90,
           3,
           "https://www.idealista.com/inmueble/100361953/"
          ],
          [
           2917,
           175000,
           60,
           1,
           "https://www.idealista.com/inmueble/100215307/"
          ],
          [
           2283,
           290000,
           127,
           3,
           "https://www.idealista.com/inmueble/95555767/"
          ],
          [
           2452,
           179000,
           73,
           2,
           "https://www.idealista.com/inmueble/100845397/"
          ],
          [
           2500,
           175000,
           70,
           2,
           "https://www.idealista.com/inmueble/100717295/"
          ],
          [
           1281,
           155000,
           121,
           4,
           "https://www.idealista.com/inmueble/100721743/"
          ],
          [
           1095,
           173000,
           158,
           4,
           "https://www.idealista.com/inmueble/100683328/"
          ],
          [
           2169,
           180000,
           83,
           2,
           "https://www.idealista.com/inmueble/94701513/"
          ],
          [
           1412,
           120000,
           85,
           3,
           "https://www.idealista.com/inmueble/100722544/"
          ],
          [
           1923,
           225000,
           117,
           4,
           "https://www.idealista.com/inmueble/99561979/"
          ],
          [
           2620,
           227900,
           87,
           2,
           "https://www.idealista.com/inmueble/97941890/"
          ],
          [
           2092,
           249000,
           119,
           4,
           "https://www.idealista.com/inmueble/98574742/"
          ],
          [
           3041,
           295000,
           97,
           3,
           "https://www.idealista.com/inmueble/100612343/"
          ],
          [
           2813,
           225000,
           80,
           2,
           "https://www.idealista.com/inmueble/100323347/"
          ],
          [
           2360,
           295000,
           125,
           3,
           "https://www.idealista.com/inmueble/100928970/"
          ],
          [
           3836,
           280000,
           73,
           2,
           "https://www.idealista.com/inmueble/100342534/"
          ],
          [
           3041,
           295000,
           97,
           3,
           "https://www.idealista.com/inmueble/100902262/"
          ],
          [
           2546,
           269900,
           106,
           4,
           "https://www.idealista.com/inmueble/100740614/"
          ],
          [
           2092,
           249000,
           119,
           4,
           "https://www.idealista.com/inmueble/98709412/"
          ],
          [
           1579,
           179999,
           114,
           4,
           "https://www.idealista.com/inmueble/100729290/"
          ],
          [
           1922,
           124900,
           65,
           2,
           "https://www.idealista.com/inmueble/100658253/"
          ],
          [
           1480,
           145000,
           98,
           4,
           "https://www.idealista.com/inmueble/98710955/"
          ],
          [
           3105,
           295000,
           95,
           3,
           "https://www.idealista.com/inmueble/100628638/"
          ],
          [
           2374,
           227900,
           96,
           2,
           "https://www.idealista.com/inmueble/97957376/"
          ],
          [
           1515,
           147000,
           97,
           3,
           "https://www.idealista.com/inmueble/100794275/"
          ],
          [
           1703,
           189000,
           111,
           3,
           "https://www.idealista.com/inmueble/96438518/"
          ],
          [
           2349,
           249000,
           106,
           4,
           "https://www.idealista.com/inmueble/99281664/"
          ],
          [
           1522,
           175000,
           115,
           3,
           "https://www.idealista.com/inmueble/100158542/"
          ],
          [
           2532,
           195000,
           77,
           2,
           "https://www.idealista.com/inmueble/101040452/"
          ],
          [
           2500,
           225000,
           90,
           3,
           "https://www.idealista.com/inmueble/100209280/"
          ],
          [
           2750,
           220000,
           80,
           2,
           "https://www.idealista.com/inmueble/100920951/"
          ],
          [
           2594,
           275000,
           106,
           4,
           "https://www.idealista.com/inmueble/99798111/"
          ],
          [
           1857,
           195000,
           105,
           3,
           "https://www.idealista.com/inmueble/100507707/"
          ],
          [
           2191,
           227900,
           104,
           3,
           "https://www.idealista.com/inmueble/99976602/"
          ],
          [
           3041,
           295000,
           97,
           3,
           "https://www.idealista.com/inmueble/100914136/"
          ],
          [
           2467,
           185000,
           75,
           2,
           "https://www.idealista.com/inmueble/100605892/"
          ],
          [
           1855,
           115000,
           62,
           2,
           "https://www.idealista.com/inmueble/99569970/"
          ],
          [
           1623,
           185000,
           114,
           3,
           "https://www.idealista.com/inmueble/100721866/"
          ],
          [
           1762,
           185000,
           105,
           3,
           "https://www.idealista.com/inmueble/99896817/"
          ],
          [
           2640,
           198000,
           75,
           2,
           "https://www.idealista.com/inmueble/100795302/"
          ],
          [
           2436,
           229000,
           94,
           3,
           "https://www.idealista.com/inmueble/100593954/"
          ],
          [
           2417,
           290000,
           120,
           3,
           "https://www.idealista.com/inmueble/100168683/"
          ],
          [
           3000,
           225000,
           75,
           2,
           "https://www.idealista.com/inmueble/100929133/"
          ],
          [
           2455,
           270000,
           110,
           3,
           "https://www.idealista.com/inmueble/100288008/"
          ],
          [
           2418,
           261100,
           108,
           3,
           "https://www.idealista.com/inmueble/96478775/"
          ],
          [
           2819,
           265000,
           94,
           3,
           "https://www.idealista.com/inmueble/99210301/"
          ],
          [
           1529,
           130000,
           85,
           3,
           "https://www.idealista.com/inmueble/101102535/"
          ],
          [
           2243,
           240000,
           107,
           3,
           "https://www.idealista.com/inmueble/98664584/"
          ],
          [
           1714,
           120000,
           70,
           0,
           "https://www.idealista.com/obra-nueva/99094744/"
          ],
          [
           2814,
           222300,
           79,
           2,
           "https://www.idealista.com/inmueble/90597824/"
          ],
          [
           3958,
           285000,
           72,
           2,
           "https://www.idealista.com/inmueble/100923951/"
          ],
          [
           1714,
           132000,
           77,
           2,
           "https://www.idealista.com/inmueble/100857928/"
          ],
          [
           2250,
           180000,
           80,
           2,
           "https://www.idealista.com/inmueble/100858759/"
          ],
          [
           2600,
           260000,
           100,
           3,
           "https://www.idealista.com/inmueble/100811214/"
          ],
          [
           2080,
           260000,
           125,
           3,
           "https://www.idealista.com/inmueble/101095725/"
          ],
          [
           1500,
           150000,
           100,
           2,
           "https://www.idealista.com/inmueble/101095884/"
          ],
          [
           1797,
           230000,
           128,
           3,
           "https://www.idealista.com/inmueble/97977221/"
          ],
          [
           2545,
           168000,
           66,
           2,
           "https://www.idealista.com/inmueble/100220434/"
          ],
          [
           1190,
           119000,
           100,
           3,
           "https://www.idealista.com/inmueble/100342073/"
          ],
          [
           1837,
           180000,
           98,
           2,
           "https://www.idealista.com/inmueble/100813209/"
          ],
          [
           2438,
           195000,
           80,
           3,
           "https://www.idealista.com/inmueble/100582469/"
          ],
          [
           1692,
           220000,
           130,
           1,
           "https://www.idealista.com/inmueble/99938516/"
          ],
          [
           1922,
           196000,
           102,
           2,
           "https://www.idealista.com/inmueble/96982371/"
          ],
          [
           2554,
           189000,
           74,
           2,
           "https://www.idealista.com/inmueble/100282249/"
          ],
          [
           1244,
           93300,
           75,
           3,
           "https://www.idealista.com/inmueble/100076179/"
          ],
          [
           2661,
           165000,
           62,
           1,
           "https://www.idealista.com/inmueble/101040376/"
          ],
          [
           2584,
           230000,
           89,
           3,
           "https://www.idealista.com/inmueble/99987392/"
          ],
          [
           2752,
           289000,
           105,
           4,
           "https://www.idealista.com/inmueble/100995247/"
          ],
          [
           2590,
           215000,
           83,
           3,
           "https://www.idealista.com/inmueble/100703384/"
          ],
          [
           1957,
           180000,
           92,
           2,
           "https://www.idealista.com/inmueble/100829566/"
          ],
          [
           2000,
           149999,
           75,
           2,
           "https://www.idealista.com/inmueble/100309904/"
          ],
          [
           1909,
           210000,
           110,
           4,
           "https://www.idealista.com/inmueble/100523396/"
          ],
          [
           2611,
           235000,
           90,
           3,
           "https://www.idealista.com/inmueble/99706084/"
          ],
          [
           2819,
           265000,
           94,
           3,
           "https://www.idealista.com/inmueble/99896792/"
          ],
          [
           2429,
           170000,
           70,
           2,
           "https://www.idealista.com/inmueble/100898949/"
          ],
          [
           2400,
           240000,
           100,
           3,
           "https://www.idealista.com/inmueble/98910753/"
          ],
          [
           1895,
           180000,
           95,
           3,
           "https://www.idealista.com/inmueble/100902548/"
          ],
          [
           1690,
           169000,
           100,
           3,
           "https://www.idealista.com/inmueble/98974824/"
          ],
          [
           2390,
           239000,
           100,
           3,
           "https://www.idealista.com/inmueble/98064481/"
          ],
          [
           2697,
           240000,
           89,
           2,
           "https://www.idealista.com/inmueble/98801030/"
          ],
          [
           2657,
           178000,
           67,
           2,
           "https://www.idealista.com/inmueble/98681529/"
          ],
          [
           2169,
           180000,
           83,
           2,
           "https://www.idealista.com/inmueble/99914185/"
          ],
          [
           2155,
           209000,
           97,
           2,
           "https://www.idealista.com/inmueble/97239540/"
          ],
          [
           2308,
           240000,
           104,
           3,
           "https://www.idealista.com/inmueble/98975644/"
          ],
          [
           1636,
           175000,
           107,
           4,
           "https://www.idealista.com/inmueble/100349639/"
          ],
          [
           1529,
           185000,
           121,
           3,
           "https://www.idealista.com/inmueble/100877031/"
          ],
          [
           1350,
           108000,
           80,
           3,
           "https://www.idealista.com/inmueble/100586705/"
          ],
          [
           1922,
           198000,
           103,
           4,
           "https://www.idealista.com/inmueble/100195219/"
          ],
          [
           2475,
           250000,
           101,
           2,
           "https://www.idealista.com/inmueble/98833690/"
          ],
          [
           2810,
           295000,
           105,
           3,
           "https://www.idealista.com/inmueble/100525085/"
          ],
          [
           1908,
           229000,
           120,
           4,
           "https://www.idealista.com/inmueble/99975862/"
          ],
          [
           2250,
           225000,
           100,
           3,
           "https://www.idealista.com/inmueble/98118366/"
          ],
          [
           2789,
           228700,
           82,
           2,
           "https://www.idealista.com/inmueble/100243363/"
          ],
          [
           2602,
           229000,
           88,
           3,
           "https://www.idealista.com/inmueble/100092840/"
          ],
          [
           1680,
           210000,
           125,
           4,
           "https://www.idealista.com/inmueble/100142910/"
          ],
          [
           1967,
           295000,
           150,
           3,
           "https://www.idealista.com/inmueble/100186003/"
          ],
          [
           2427,
           250000,
           103,
           3,
           "https://www.idealista.com/inmueble/100476300/"
          ],
          [
           2523,
           270000,
           107,
           4,
           "https://www.idealista.com/inmueble/98585156/"
          ],
          [
           2600,
           260000,
           100,
           3,
           "https://www.idealista.com/inmueble/95755903/"
          ],
          [
           2317,
           190000,
           82,
           3,
           "https://www.idealista.com/inmueble/97988069/"
          ],
          [
           3683,
           279900,
           76,
           3,
           "https://www.idealista.com/inmueble/100681005/"
          ],
          [
           2021,
           190000,
           94,
           3,
           "https://www.idealista.com/inmueble/100580732/"
          ],
          [
           1495,
           145000,
           97,
           3,
           "https://www.idealista.com/inmueble/100857636/"
          ],
          [
           1034,
           84800,
           82,
           3,
           "https://www.idealista.com/inmueble/100423825/"
          ],
          [
           2453,
           260000,
           106,
           3,
           "https://www.idealista.com/inmueble/98650337/"
          ],
          [
           1789,
           170000,
           95,
           3,
           "https://www.idealista.com/inmueble/100624837/"
          ],
          [
           2200,
           275000,
           125,
           3,
           "https://www.idealista.com/inmueble/100802976/"
          ],
          [
           3090,
           275000,
           89,
           3,
           "https://www.idealista.com/inmueble/100860888/"
          ],
          [
           1922,
           198000,
           103,
           3,
           "https://www.idealista.com/inmueble/100616988/"
          ],
          [
           1989,
           185000,
           93,
           3,
           "https://www.idealista.com/inmueble/99581978/"
          ],
          [
           1050,
           105000,
           100,
           3,
           "https://www.idealista.com/inmueble/98348139/"
          ],
          [
           1859,
           145000,
           78,
           2,
           "https://www.idealista.com/inmueble/94702063/"
          ],
          [
           1677,
           109000,
           65,
           2,
           "https://www.idealista.com/inmueble/100892193/"
          ],
          [
           1386,
           97000,
           70,
           2,
           "https://www.idealista.com/inmueble/101040649/"
          ],
          [
           2459,
           150000,
           61,
           1,
           "https://www.idealista.com/inmueble/100918271/"
          ],
          [
           2436,
           268000,
           110,
           3,
           "https://www.idealista.com/inmueble/96419523/"
          ],
          [
           2070,
           265000,
           128,
           4,
           "https://www.idealista.com/inmueble/97117013/"
          ],
          [
           1278,
           230000,
           180,
           5,
           "https://www.idealista.com/inmueble/98723606/"
          ],
          [
           1231,
           80000,
           65,
           2,
           "https://www.idealista.com/inmueble/98775363/"
          ],
          [
           3049,
           250000,
           82,
           2,
           "https://www.idealista.com/inmueble/90765648/"
          ],
          [
           3271,
           229000,
           70,
           2,
           "https://www.idealista.com/inmueble/97574450/"
          ],
          [
           1572,
           283000,
           180,
           6,
           "https://www.idealista.com/inmueble/94179318/"
          ],
          [
           1755,
           265000,
           151,
           3,
           "https://www.idealista.com/inmueble/100724751/"
          ],
          [
           1849,
           135000,
           73,
           2,
           "https://www.idealista.com/inmueble/100603509/"
          ],
          [
           1274,
           270000,
           212,
           0,
           "https://www.idealista.com/inmueble/100497236/"
          ],
          [
           2500,
           150000,
           60,
           1,
           "https://www.idealista.com/inmueble/100137512/"
          ],
          [
           2095,
           155000,
           74,
           2,
           "https://www.idealista.com/inmueble/97485533/"
          ],
          [
           3857,
           270000,
           70,
           2,
           "https://www.idealista.com/inmueble/96681927/"
          ],
          [
           3390,
           139000,
           41,
           2,
           "https://www.idealista.com/inmueble/98770042/"
          ],
          [
           3051,
           180000,
           59,
           1,
           "https://www.idealista.com/inmueble/97230626/"
          ],
          [
           1433,
           139000,
           97,
           3,
           "https://www.idealista.com/inmueble/101099554/"
          ],
          [
           2224,
           189020,
           85,
           2,
           "https://www.idealista.com/inmueble/97808013/"
          ],
          [
           1327,
           130000,
           98,
           2,
           "https://www.idealista.com/inmueble/101061648/"
          ],
          [
           1922,
           198000,
           103,
           4,
           "https://www.idealista.com/inmueble/100455224/"
          ],
          [
           2819,
           265000,
           94,
           3,
           "https://www.idealista.com/inmueble/100168631/"
          ],
          [
           2819,
           265000,
           94,
           3,
           "https://www.idealista.com/inmueble/99814186/"
          ],
          [
           2451,
           125000,
           51,
           2,
           "https://www.idealista.com/inmueble/100940484/"
          ],
          [
           2387,
           265000,
           111,
           4,
           "https://www.idealista.com/inmueble/100343914/"
          ],
          [
           2095,
           155000,
           74,
           2,
           "https://www.idealista.com/inmueble/101091838/"
          ],
          [
           2938,
           235000,
           80,
           3,
           "https://www.idealista.com/inmueble/101096593/"
          ],
          [
           1078,
           110000,
           102,
           2,
           "https://www.idealista.com/inmueble/98619825/"
          ],
          [
           1466,
           195000,
           133,
           2,
           "https://www.idealista.com/inmueble/98509549/"
          ],
          [
           2320,
           255170,
           110,
           3,
           "https://www.idealista.com/inmueble/97001837/"
          ],
          [
           2000,
           230000,
           115,
           3,
           "https://www.idealista.com/inmueble/97658372/"
          ],
          [
           2224,
           189020,
           85,
           2,
           "https://www.idealista.com/inmueble/95089937/"
          ],
          [
           2837,
           139000,
           49,
           2,
           "https://www.idealista.com/inmueble/98914239/"
          ],
          [
           1733,
           175000,
           101,
           2,
           "https://www.idealista.com/inmueble/100390358/"
          ],
          [
           1733,
           175000,
           101,
           2,
           "https://www.idealista.com/inmueble/100252273/"
          ],
          [
           1160,
           145000,
           125,
           4,
           "https://www.idealista.com/inmueble/100421926/"
          ],
          [
           2329,
           198000,
           85,
           2,
           "https://www.idealista.com/inmueble/100762642/"
          ],
          [
           2706,
           295000,
           109,
           3,
           "https://www.idealista.com/inmueble/99687777/"
          ],
          [
           1524,
           160000,
           105,
           3,
           "https://www.idealista.com/inmueble/101006296/"
          ],
          [
           2737,
           260000,
           95,
           3,
           "https://www.idealista.com/inmueble/98449565/"
          ],
          [
           2737,
           260000,
           95,
           3,
           "https://www.idealista.com/inmueble/99021404/"
          ],
          [
           2500,
           200000,
           80,
           1,
           "https://www.idealista.com/inmueble/96378301/"
          ],
          [
           1643,
           115000,
           70,
           2,
           "https://www.idealista.com/inmueble/97861326/"
          ],
          [
           2591,
           285000,
           110,
           3,
           "https://www.idealista.com/inmueble/97651292/"
          ],
          [
           1988,
           169000,
           85,
           5,
           "https://www.idealista.com/inmueble/99195965/"
          ],
          [
           2487,
           189000,
           76,
           1,
           "https://www.idealista.com/inmueble/101025670/"
          ],
          [
           2602,
           255000,
           98,
           3,
           "https://www.idealista.com/inmueble/100861653/"
          ],
          [
           1991,
           229000,
           115,
           4,
           "https://www.idealista.com/inmueble/100871047/"
          ],
          [
           1837,
           180000,
           98,
           2,
           "https://www.idealista.com/inmueble/100973424/"
          ],
          [
           1572,
           283000,
           180,
           8,
           "https://www.idealista.com/inmueble/98819376/"
          ],
          [
           1957,
           180000,
           92,
           2,
           "https://www.idealista.com/inmueble/101061120/"
          ],
          [
           3518,
           299000,
           85,
           2,
           "https://www.idealista.com/inmueble/99551686/"
          ],
          [
           1572,
           283000,
           180,
           8,
           "https://www.idealista.com/inmueble/98819376/"
          ],
          [
           1206,
           170000,
           141,
           4,
           "https://www.idealista.com/inmueble/99136230/"
          ],
          [
           1282,
           91000,
           71,
           2,
           "https://www.idealista.com/inmueble/99244794/"
          ],
          [
           1824,
           155000,
           85,
           3,
           "https://www.idealista.com/inmueble/99754315/"
          ],
          [
           1729,
           294000,
           170,
           4,
           "https://www.idealista.com/inmueble/98108093/"
          ],
          [
           3091,
           170000,
           55,
           1,
           "https://www.idealista.com/inmueble/97909378/"
          ],
          [
           3115,
           299000,
           96,
           3,
           "https://www.idealista.com/inmueble/100608403/"
          ],
          [
           1692,
           220000,
           130,
           1,
           "https://www.idealista.com/inmueble/100102379/"
          ],
          [
           3462,
           180000,
           52,
           1,
           "https://www.idealista.com/inmueble/100398812/"
          ],
          [
           2826,
           260000,
           92,
           2,
           "https://www.idealista.com/inmueble/100478650/"
          ],
          [
           2088,
           171175,
           82,
           1,
           "https://www.idealista.com/obra-nueva/97389043/"
          ],
          [
           1698,
           171500,
           101,
           2,
           "https://www.idealista.com/obra-nueva/93735293/"
          ],
          [
           1652,
           206500,
           125,
           3,
           "https://www.idealista.com/obra-nueva/100486227/"
          ],
          [
           2706,
           295000,
           109,
           3,
           "https://www.idealista.com/inmueble/98710467/"
          ],
          [
           1718,
           189000,
           110,
           3,
           "https://www.idealista.com/inmueble/100861687/"
          ],
          [
           1895,
           179999,
           95,
           2,
           "https://www.idealista.com/inmueble/99776823/"
          ],
          [
           2048,
           299000,
           146,
           4,
           "https://www.idealista.com/inmueble/98851674/"
          ],
          [
           1312,
           209999,
           160,
           3,
           "https://www.idealista.com/inmueble/99288002/"
          ],
          [
           2358,
           125000,
           53,
           1,
           "https://www.idealista.com/inmueble/100986687/"
          ],
          [
           1267,
           95000,
           75,
           3,
           "https://www.idealista.com/inmueble/100905683/"
          ],
          [
           2021,
           190000,
           94,
           3,
           "https://www.idealista.com/inmueble/100986306/"
          ],
          [
           2350,
           235000,
           100,
           2,
           "https://www.idealista.com/inmueble/98959029/"
          ],
          [
           2529,
           215000,
           85,
           2,
           "https://www.idealista.com/inmueble/99021486/"
          ],
          [
           2619,
           275000,
           105,
           2,
           "https://www.idealista.com/inmueble/98435384/"
          ],
          [
           3500,
           175000,
           50,
           1,
           "https://www.idealista.com/inmueble/98840424/"
          ],
          [
           2021,
           190000,
           94,
           3,
           "https://www.idealista.com/inmueble/100951448/"
          ],
          [
           2963,
           160000,
           54,
           1,
           "https://www.idealista.com/inmueble/99355269/"
          ],
          [
           1803,
           220000,
           122,
           4,
           "https://www.idealista.com/inmueble/98620512/"
          ],
          [
           2261,
           260000,
           115,
           3,
           "https://www.idealista.com/inmueble/99139177/"
          ],
          [
           3085,
           290000,
           94,
           2,
           "https://www.idealista.com/inmueble/98100108/"
          ],
          [
           1167,
           140000,
           120,
           5,
           "https://www.idealista.com/inmueble/99041337/"
          ],
          [
           2475,
           198000,
           80,
           2,
           "https://www.idealista.com/inmueble/100789546/"
          ],
          [
           1692,
           220000,
           130,
           0,
           "https://www.idealista.com/inmueble/99853391/"
          ],
          [
           2190,
           230000,
           105,
           3,
           "https://www.idealista.com/inmueble/89274590/"
          ],
          [
           1855,
           230000,
           124,
           2,
           "https://www.idealista.com/inmueble/95768275/"
          ],
          [
           2316,
           220000,
           95,
           2,
           "https://www.idealista.com/inmueble/96351033/"
          ],
          [
           1267,
           95000,
           75,
           3,
           "https://www.idealista.com/inmueble/100884370/"
          ],
          [
           1615,
           210000,
           130,
           4,
           "https://www.idealista.com/inmueble/98212690/"
          ],
          [
           1459,
           299000,
           205,
           4,
           "https://www.idealista.com/inmueble/100963958/"
          ],
          [
           1837,
           180000,
           98,
           2,
           "https://www.idealista.com/inmueble/100952551/"
          ],
          [
           3901,
           292600,
           75,
           2,
           "https://www.idealista.com/inmueble/100108419/"
          ],
          [
           2095,
           220000,
           105,
           2,
           "https://www.idealista.com/inmueble/101070041/"
          ],
          [
           1869,
           185000,
           99,
           3,
           "https://www.idealista.com/inmueble/100443003/"
          ],
          [
           1792,
           95000,
           53,
           1,
           "https://www.idealista.com/inmueble/96682955/"
          ],
          [
           2585,
           168000,
           65,
           2,
           "https://www.idealista.com/inmueble/100147014/"
          ],
          [
           3944,
           280000,
           71,
           2,
           "https://www.idealista.com/inmueble/97906907/"
          ],
          [
           1286,
           270000,
           210,
           5,
           "https://www.idealista.com/inmueble/100702873/"
          ],
          [
           2688,
           215000,
           80,
           1,
           "https://www.idealista.com/inmueble/100119734/"
          ],
          [
           2427,
           250000,
           103,
           3,
           "https://www.idealista.com/inmueble/100674426/"
          ],
          [
           2688,
           215000,
           80,
           1,
           "https://www.idealista.com/inmueble/100119734/"
          ],
          [
           2819,
           265000,
           94,
           3,
           "https://www.idealista.com/inmueble/99896183/"
          ],
          [
           1286,
           270000,
           210,
           5,
           "https://www.idealista.com/inmueble/100702873/"
          ],
          [
           3750,
           285000,
           76,
           2,
           "https://www.idealista.com/inmueble/100988420/"
          ],
          [
           1930,
           233510,
           121,
           2,
           "https://www.idealista.com/inmueble/97955466/"
          ],
          [
           1893,
           195000,
           103,
           3,
           "https://www.idealista.com/inmueble/96245916/"
          ],
          [
           1206,
           82000,
           68,
           2,
           "https://www.idealista.com/inmueble/100858122/"
          ],
          [
           1974,
           149999,
           76,
           2,
           "https://www.idealista.com/inmueble/96721002/"
          ],
          [
           1754,
           133290,
           76,
           2,
           "https://www.idealista.com/inmueble/97476165/"
          ],
          [
           2478,
           280000,
           113,
           5,
           "https://www.idealista.com/inmueble/93591224/"
          ],
          [
           1625,
           130000,
           80,
           3,
           "https://www.idealista.com/inmueble/100637437/"
          ],
          [
           2382,
           142900,
           60,
           1,
           "https://www.idealista.com/inmueble/97108803/"
          ],
          [
           2552,
           245000,
           96,
           4,
           "https://www.idealista.com/inmueble/99962306/"
          ],
          [
           2250,
           270000,
           120,
           4,
           "https://www.idealista.com/inmueble/97164313/"
          ],
          [
           1232,
           170000,
           138,
           5,
           "https://www.idealista.com/inmueble/98624800/"
          ],
          [
           1804,
           175000,
           97,
           2,
           "https://www.idealista.com/inmueble/100242812/"
          ],
          [
           1885,
           230000,
           122,
           3,
           "https://www.idealista.com/inmueble/101086729/"
          ],
          [
           1731,
           135000,
           78,
           2,
           "https://www.idealista.com/inmueble/100454223/"
          ],
          [
           2632,
           150000,
           57,
           1,
           "https://www.idealista.com/inmueble/100150099/"
          ],
          [
           3305,
           195000,
           59,
           2,
           "https://www.idealista.com/inmueble/100427955/"
          ],
          [
           2105,
           200000,
           95,
           2,
           "https://www.idealista.com/obra-nueva/96904601/"
          ],
          [
           3833,
           230000,
           60,
           1,
           "https://www.idealista.com/inmueble/100765282/"
          ],
          [
           2088,
           284000,
           136,
           4,
           "https://www.idealista.com/inmueble/98684964/"
          ],
          [
           2345,
           129000,
           55,
           1,
           "https://www.idealista.com/inmueble/99232572/"
          ],
          [
           1759,
           95000,
           54,
           1,
           "https://www.idealista.com/inmueble/92505264/"
          ],
          [
           3105,
           295000,
           95,
           3,
           "https://www.idealista.com/inmueble/98716389/"
          ],
          [
           2885,
           277000,
           96,
           3,
           "https://www.idealista.com/inmueble/100969686/"
          ],
          [
           2424,
           160000,
           66,
           3,
           "https://www.idealista.com/inmueble/101058692/"
          ],
          [
           3092,
           235000,
           76,
           2,
           "https://www.idealista.com/inmueble/98051544/"
          ],
          [
           2686,
           94000,
           35,
           1,
           "https://www.idealista.com/inmueble/100747232/"
          ],
          [
           2563,
           243500,
           95,
           3,
           "https://www.idealista.com/inmueble/101051226/"
          ],
          [
           2438,
           195000,
           80,
           3,
           "https://www.idealista.com/inmueble/100766487/"
          ],
          [
           2143,
           165000,
           77,
           2,
           "https://www.idealista.com/inmueble/100946551/"
          ],
          [
           2078,
           160000,
           77,
           2,
           "https://www.idealista.com/inmueble/100931162/"
          ],
          [
           2273,
           175000,
           77,
           2,
           "https://www.idealista.com/inmueble/100946809/"
          ],
          [
           2375,
           285000,
           120,
           3,
           "https://www.idealista.com/inmueble/100483120/"
          ],
          [
           2340,
           248000,
           106,
           1,
           "https://www.idealista.com/inmueble/99969769/"
          ],
          [
           2208,
           170000,
           77,
           2,
           "https://www.idealista.com/inmueble/100946756/"
          ],
          [
           3613,
           289000,
           80,
           2,
           "https://www.idealista.com/inmueble/83565669/"
          ],
          [
           2177,
           209000,
           96,
           2,
           "https://www.idealista.com/inmueble/100161295/"
          ],
          [
           3524,
           148000,
           42,
           1,
           "https://www.idealista.com/inmueble/101059939/"
          ],
          [
           1183,
           110000,
           93,
           2,
           "https://www.idealista.com/inmueble/99226951/"
          ],
          [
           1719,
           220000,
           128,
           4,
           "https://www.idealista.com/inmueble/99169524/"
          ],
          [
           1206,
           170000,
           141,
           5,
           "https://www.idealista.com/inmueble/99203773/"
          ],
          [
           1538,
           283000,
           184,
           4,
           "https://www.idealista.com/inmueble/96585322/"
          ],
          [
           2375,
           209000,
           88,
           2,
           "https://www.idealista.com/inmueble/94377135/"
          ],
          [
           1769,
           224654,
           127,
           3,
           "https://www.idealista.com/inmueble/100536200/"
          ],
          [
           3944,
           280000,
           71,
           2,
           "https://www.idealista.com/inmueble/88716292/"
          ],
          [
           1757,
           130000,
           74,
           2,
           "https://www.idealista.com/inmueble/101086874/"
          ],
          [
           1783,
           222880,
           125,
           3,
           "https://www.idealista.com/inmueble/100536292/"
          ],
          [
           4196,
           235000,
           56,
           2,
           "https://www.idealista.com/inmueble/96349895/"
          ],
          [
           565,
           48000,
           85,
           2,
           "https://www.idealista.com/inmueble/94451681/"
          ],
          [
           3944,
           280000,
           71,
           2,
           "https://www.idealista.com/inmueble/88716292/"
          ],
          [
           2000,
           210000,
           105,
           4,
           "https://www.idealista.com/inmueble/98546591/"
          ],
          [
           2950,
           295000,
           100,
           3,
           "https://www.idealista.com/inmueble/100961758/"
          ],
          [
           1746,
           199000,
           114,
           3,
           "https://www.idealista.com/inmueble/97424962/"
          ],
          [
           2474,
           287000,
           116,
           2,
           "https://www.idealista.com/inmueble/100800088/"
          ],
          [
           2681,
           185000,
           69,
           3,
           "https://www.idealista.com/inmueble/97684978/"
          ],
          [
           3855,
           212000,
           55,
           2,
           "https://www.idealista.com/inmueble/97638268/"
          ],
          [
           2539,
           193000,
           76,
           3,
           "https://www.idealista.com/inmueble/97638266/"
          ],
          [
           2579,
           196000,
           76,
           3,
           "https://www.idealista.com/inmueble/97638276/"
          ],
          [
           2500,
           190000,
           76,
           3,
           "https://www.idealista.com/inmueble/97638269/"
          ],
          [
           2011,
           175000,
           87,
           2,
           "https://www.idealista.com/inmueble/100613812/"
          ],
          [
           2526,
           240000,
           95,
           2,
           "https://www.idealista.com/inmueble/99289217/"
          ],
          [
           2200,
           275000,
           125,
           3,
           "https://www.idealista.com/inmueble/100815577/"
          ],
          [
           1308,
           119000,
           91,
           3,
           "https://www.idealista.com/inmueble/100041571/"
          ],
          [
           2019,
           210000,
           104,
           4,
           "https://www.idealista.com/inmueble/99362955/"
          ],
          [
           2908,
           247200,
           85,
           2,
           "https://www.idealista.com/inmueble/97850190/"
          ],
          [
           1692,
           220000,
           130,
           2,
           "https://www.idealista.com/inmueble/99924443/"
          ],
          [
           955,
           84000,
           88,
           3,
           "https://www.idealista.com/inmueble/95862253/"
          ],
          [
           2813,
           225000,
           80,
           2,
           "https://www.idealista.com/inmueble/100604594/"
          ],
          [
           3526,
           275000,
           78,
           2,
           "https://www.idealista.com/inmueble/97515662/"
          ],
          [
           955,
           84000,
           88,
           4,
           "https://www.idealista.com/inmueble/98569854/"
          ],
          [
           2159,
           95000,
           44,
           1,
           "https://www.idealista.com/inmueble/98564812/"
          ],
          [
           2926,
           158000,
           54,
           1,
           "https://www.idealista.com/inmueble/93895621/"
          ],
          [
           2467,
           185000,
           75,
           2,
           "https://www.idealista.com/inmueble/100095713/"
          ],
          [
           2206,
           150000,
           68,
           3,
           "https://www.idealista.com/inmueble/100281609/"
          ],
          [
           3231,
           210000,
           65,
           3,
           "https://www.idealista.com/inmueble/100367094/"
          ],
          [
           1190,
           119000,
           100,
           3,
           "https://www.idealista.com/inmueble/99292293/"
          ],
          [
           2769,
           299000,
           108,
           2,
           "https://www.idealista.com/inmueble/98205084/"
          ],
          [
           2804,
           300000,
           107,
           3,
           "https://www.idealista.com/inmueble/99796818/"
          ],
          [
           2899,
           287000,
           99,
           3,
           "https://www.idealista.com/inmueble/100747452/"
          ],
          [
           2180,
           290000,
           133,
           3,
           "https://www.idealista.com/inmueble/99410366/"
          ],
          [
           2591,
           285000,
           110,
           3,
           "https://www.idealista.com/inmueble/98454769/"
          ],
          [
           2427,
           250000,
           103,
           3,
           "https://www.idealista.com/inmueble/100945168/"
          ],
          [
           2667,
           160000,
           60,
           2,
           "https://www.idealista.com/inmueble/98144344/"
          ],
          [
           850,
           51000,
           60,
           2,
           "https://www.idealista.com/inmueble/96835477/"
          ],
          [
           2231,
           145000,
           65,
           3,
           "https://www.idealista.com/inmueble/101028152/"
          ],
          [
           2190,
           173000,
           79,
           1,
           "https://www.idealista.com/inmueble/98722820/"
          ],
          [
           3564,
           139000,
           39,
           1,
           "https://www.idealista.com/inmueble/100912434/"
          ],
          [
           2430,
           209000,
           86,
           2,
           "https://www.idealista.com/inmueble/99322031/"
          ],
          [
           1466,
           195000,
           133,
           2,
           "https://www.idealista.com/inmueble/100263643/"
          ],
          [
           2933,
           220000,
           75,
           3,
           "https://www.idealista.com/inmueble/101062180/"
          ],
          [
           2092,
           205000,
           98,
           3,
           "https://www.idealista.com/inmueble/98535812/"
          ],
          [
           1215,
           130000,
           107,
           2,
           "https://www.idealista.com/inmueble/100661197/"
          ],
          [
           1778,
           160000,
           90,
           3,
           "https://www.idealista.com/inmueble/100908438/"
          ],
          [
           1012,
           84000,
           83,
           3,
           "https://www.idealista.com/inmueble/95390311/"
          ],
          [
           1970,
           130000,
           66,
           2,
           "https://www.idealista.com/inmueble/100741483/"
          ],
          [
           2358,
           125000,
           53,
           1,
           "https://www.idealista.com/inmueble/100845800/"
          ],
          [
           2814,
           222300,
           79,
           2,
           "https://www.idealista.com/inmueble/98358096/"
          ],
          [
           2000,
           160000,
           80,
           2,
           "https://www.idealista.com/inmueble/99147440/"
          ],
          [
           4286,
           240000,
           56,
           2,
           "https://www.idealista.com/inmueble/99703611/"
          ],
          [
           2814,
           222300,
           79,
           2,
           "https://www.idealista.com/inmueble/98358096/"
          ],
          [
           2323,
           230000,
           99,
           3,
           "https://www.idealista.com/inmueble/100996602/"
          ],
          [
           1831,
           260000,
           142,
           4,
           "https://www.idealista.com/inmueble/100633650/"
          ],
          [
           3308,
           172000,
           52,
           1,
           "https://www.idealista.com/inmueble/100716392/"
          ],
          [
           2486,
           228700,
           92,
           2,
           "https://www.idealista.com/inmueble/98483525/"
          ],
          [
           1889,
           204000,
           108,
           3,
           "https://www.idealista.com/inmueble/99128473/"
          ],
          [
           3526,
           275000,
           78,
           2,
           "https://www.idealista.com/inmueble/101085237/"
          ],
          [
           2804,
           300000,
           107,
           3,
           "https://www.idealista.com/inmueble/99977885/"
          ],
          [
           3046,
           265000,
           87,
           3,
           "https://www.idealista.com/inmueble/99893896/"
          ],
          [
           2011,
           175000,
           87,
           2,
           "https://www.idealista.com/inmueble/100290164/"
          ],
          [
           2155,
           125000,
           58,
           3,
           "https://www.idealista.com/inmueble/99003161/"
          ],
          [
           1684,
           154890,
           92,
           2,
           "https://www.idealista.com/inmueble/100125664/"
          ],
          [
           7500,
           300000,
           40,
           2,
           "https://www.idealista.com/inmueble/98731661/"
          ],
          [
           3338,
           267000,
           80,
           2,
           "https://www.idealista.com/inmueble/99900229/"
          ],
          [
           3071,
           215000,
           70,
           1,
           "https://www.idealista.com/inmueble/98727615/"
          ],
          [
           2151,
           299000,
           139,
           4,
           "https://www.idealista.com/inmueble/99347799/"
          ],
          [
           1529,
           130000,
           85,
           3,
           "https://www.idealista.com/inmueble/100597268/"
          ],
          [
           2439,
           200000,
           82,
           3,
           "https://www.idealista.com/inmueble/98481039/"
          ],
          [
           2086,
           146000,
           70,
           3,
           "https://www.idealista.com/inmueble/98208590/"
          ],
          [
           2432,
           214000,
           88,
           3,
           "https://www.idealista.com/inmueble/99082282/"
          ],
          [
           2432,
           270000,
           111,
           3,
           "https://www.idealista.com/inmueble/100654320/"
          ],
          [
           2175,
           211000,
           97,
           2,
           "https://www.idealista.com/inmueble/99132029/"
          ],
          [
           2639,
           285000,
           108,
           4,
           "https://www.idealista.com/inmueble/94780688/"
          ],
          [
           2397,
           139000,
           58,
           2,
           "https://www.idealista.com/inmueble/100952020/"
          ],
          [
           1250,
           105000,
           84,
           3,
           "https://www.idealista.com/inmueble/100442387/"
          ],
          [
           1961,
           200000,
           102,
           2,
           "https://www.idealista.com/inmueble/97827864/"
          ],
          [
           2458,
           295000,
           120,
           4,
           "https://www.idealista.com/inmueble/100600520/"
          ],
          [
           1739,
           163440,
           94,
           2,
           "https://www.idealista.com/inmueble/97469143/"
          ],
          [
           2132,
           159900,
           75,
           2,
           "https://www.idealista.com/inmueble/98831785/"
          ],
          [
           2398,
           294900,
           123,
           4,
           "https://www.idealista.com/inmueble/99205281/"
          ],
          [
           1696,
           154320,
           91,
           2,
           "https://www.idealista.com/inmueble/97486317/"
          ],
          [
           2075,
           134900,
           65,
           2,
           "https://www.idealista.com/inmueble/99073781/"
          ],
          [
           1979,
           190000,
           96,
           3,
           "https://www.idealista.com/inmueble/87872885/"
          ],
          [
           1922,
           196000,
           102,
           2,
           "https://www.idealista.com/inmueble/99960333/"
          ],
          [
           1293,
           75000,
           58,
           2,
           "https://www.idealista.com/inmueble/99886395/"
          ],
          [
           3250,
           195000,
           60,
           2,
           "https://www.idealista.com/inmueble/100102614/"
          ],
          [
           2986,
           215000,
           72,
           1,
           "https://www.idealista.com/inmueble/34136100/"
          ],
          [
           1686,
           134900,
           80,
           2,
           "https://www.idealista.com/inmueble/99464606/"
          ],
          [
           2023,
           174000,
           86,
           3,
           "https://www.idealista.com/inmueble/99872342/"
          ],
          [
           1692,
           220000,
           130,
           2,
           "https://www.idealista.com/inmueble/99859437/"
          ],
          [
           1456,
           115000,
           79,
           3,
           "https://www.idealista.com/inmueble/100552798/"
          ],
          [
           1549,
           127000,
           82,
           2,
           "https://www.idealista.com/inmueble/99414983/"
          ],
          [
           3090,
           275000,
           89,
           3,
           "https://www.idealista.com/inmueble/100110698/"
          ],
          [
           2393,
           280000,
           117,
           3,
           "https://www.idealista.com/inmueble/98140362/"
          ],
          [
           1735,
           170000,
           98,
           3,
           "https://www.idealista.com/inmueble/100341497/"
          ],
          [
           2571,
           180000,
           70,
           2,
           "https://www.idealista.com/inmueble/100789761/"
          ],
          [
           2143,
           165000,
           77,
           3,
           "https://www.idealista.com/inmueble/100192002/"
          ],
          [
           1935,
           180000,
           93,
           4,
           "https://www.idealista.com/inmueble/97905136/"
          ],
          [
           2143,
           165000,
           77,
           3,
           "https://www.idealista.com/inmueble/100192002/"
          ],
          [
           3090,
           275000,
           89,
           3,
           "https://www.idealista.com/inmueble/100110698/"
          ],
          [
           1522,
           140000,
           92,
           3,
           "https://www.idealista.com/inmueble/99737210/"
          ],
          [
           1692,
           220000,
           130,
           2,
           "https://www.idealista.com/inmueble/99859437/"
          ],
          [
           1955,
           215000,
           110,
           3,
           "https://www.idealista.com/inmueble/100156770/"
          ],
          [
           3364,
           185000,
           55,
           2,
           "https://www.idealista.com/inmueble/98984975/"
          ],
          [
           2252,
           250000,
           111,
           3,
           "https://www.idealista.com/inmueble/100019482/"
          ],
          [
           1190,
           119000,
           100,
           3,
           "https://www.idealista.com/inmueble/100359919/"
          ],
          [
           3357,
           235000,
           70,
           2,
           "https://www.idealista.com/inmueble/100700028/"
          ],
          [
           2261,
           260000,
           115,
           3,
           "https://www.idealista.com/inmueble/99440097/"
          ],
          [
           1864,
           123000,
           66,
           0,
           "https://www.idealista.com/inmueble/95071332/"
          ],
          [
           1965,
           283000,
           144,
           6,
           "https://www.idealista.com/inmueble/90016337/"
          ],
          [
           3145,
           173000,
           55,
           1,
           "https://www.idealista.com/inmueble/98732623/"
          ],
          [
           1849,
           135000,
           73,
           2,
           "https://www.idealista.com/inmueble/100654251/"
          ],
          [
           2348,
           155000,
           66,
           2,
           "https://www.idealista.com/inmueble/99391780/"
          ],
          [
           2632,
           150000,
           57,
           1,
           "https://www.idealista.com/inmueble/100580412/"
          ],
          [
           2874,
           250000,
           87,
           2,
           "https://www.idealista.com/inmueble/83358741/"
          ],
          [
           2034,
           120000,
           59,
           1,
           "https://www.idealista.com/inmueble/100845976/"
          ],
          [
           2021,
           190000,
           94,
           3,
           "https://www.idealista.com/inmueble/100979829/"
          ],
          [
           2909,
           160000,
           55,
           2,
           "https://www.idealista.com/inmueble/96668719/"
          ],
          [
           2759,
           160000,
           58,
           2,
           "https://www.idealista.com/inmueble/99284356/"
          ],
          [
           2358,
           125000,
           53,
           1,
           "https://www.idealista.com/inmueble/100996576/"
          ],
          [
           1957,
           180000,
           92,
           2,
           "https://www.idealista.com/inmueble/100975566/"
          ],
          [
           2088,
           119000,
           57,
           2,
           "https://www.idealista.com/inmueble/97932307/"
          ],
          [
           1492,
           185000,
           124,
           3,
           "https://www.idealista.com/inmueble/100839555/"
          ],
          [
           2311,
           238000,
           103,
           3,
           "https://www.idealista.com/inmueble/100867950/"
          ],
          [
           2411,
           270000,
           112,
           3,
           "https://www.idealista.com/inmueble/100726903/"
          ],
          [
           3010,
           295000,
           98,
           1,
           "https://www.idealista.com/inmueble/95068478/"
          ],
          [
           1639,
           118000,
           72,
           2,
           "https://www.idealista.com/inmueble/94493426/"
          ],
          [
           1646,
           130000,
           79,
           3,
           "https://www.idealista.com/inmueble/100982221/"
          ],
          [
           1536,
           215000,
           140,
           4,
           "https://www.idealista.com/inmueble/98853055/"
          ],
          [
           1810,
           210000,
           116,
           4,
           "https://www.idealista.com/inmueble/100832461/"
          ],
          [
           2475,
           250000,
           101,
           3,
           "https://www.idealista.com/inmueble/100770775/"
          ],
          [
           3235,
           220000,
           68,
           3,
           "https://www.idealista.com/inmueble/100955119/"
          ],
          [
           3000,
           120000,
           40,
           1,
           "https://www.idealista.com/inmueble/100458064/"
          ],
          [
           2430,
           209000,
           86,
           2,
           "https://www.idealista.com/inmueble/92611365/"
          ],
          [
           2198,
           211000,
           96,
           2,
           "https://www.idealista.com/inmueble/97467307/"
          ],
          [
           2426,
           245000,
           101,
           5,
           "https://www.idealista.com/inmueble/100650978/"
          ],
          [
           1987,
           155000,
           78,
           2,
           "https://www.idealista.com/inmueble/99254547/"
          ],
          [
           1846,
           120000,
           65,
           2,
           "https://www.idealista.com/inmueble/99580278/"
          ],
          [
           3300,
           198000,
           60,
           2,
           "https://www.idealista.com/inmueble/101015040/"
          ],
          [
           1500,
           90000,
           60,
           2,
           "https://www.idealista.com/inmueble/96542870/"
          ],
          [
           2095,
           155000,
           74,
           2,
           "https://www.idealista.com/inmueble/98333819/"
          ],
          [
           1913,
           220000,
           115,
           4,
           "https://www.idealista.com/inmueble/101027804/"
          ],
          [
           3284,
           220000,
           67,
           2,
           "https://www.idealista.com/inmueble/101028068/"
          ],
          [
           3273,
           144000,
           44,
           1,
           "https://www.idealista.com/inmueble/100589824/"
          ],
          [
           1987,
           157000,
           79,
           3,
           "https://www.idealista.com/inmueble/100456291/"
          ],
          [
           1134,
           110000,
           97,
           3,
           "https://www.idealista.com/inmueble/100605838/"
          ],
          [
           2200,
           275000,
           125,
           3,
           "https://www.idealista.com/inmueble/100887956/"
          ],
          [
           1633,
           176360,
           108,
           2,
           "https://www.idealista.com/inmueble/97486291/"
          ],
          [
           1601,
           172900,
           108,
           2,
           "https://www.idealista.com/inmueble/97476152/"
          ],
          [
           978,
           91000,
           93,
           3,
           "https://www.idealista.com/inmueble/96800581/"
          ],
          [
           1716,
           152700,
           89,
           2,
           "https://www.idealista.com/inmueble/97622696/"
          ],
          [
           1622,
           120000,
           74,
           3,
           "https://www.idealista.com/inmueble/96993285/"
          ],
          [
           1913,
           220000,
           115,
           3,
           "https://www.idealista.com/inmueble/97828329/"
          ],
          [
           2162,
           160000,
           74,
           1,
           "https://www.idealista.com/inmueble/97988088/"
          ],
          [
           2134,
           175000,
           82,
           1,
           "https://www.idealista.com/inmueble/97988125/"
          ],
          [
           1250,
           155000,
           124,
           4,
           "https://www.idealista.com/inmueble/95580216/"
          ],
          [
           2095,
           155000,
           74,
           2,
           "https://www.idealista.com/inmueble/97823004/"
          ],
          [
           1000,
           100000,
           100,
           2,
           "https://www.idealista.com/inmueble/99403333/"
          ],
          [
           3476,
           285000,
           82,
           2,
           "https://www.idealista.com/inmueble/98137217/"
          ],
          [
           1633,
           176360,
           108,
           2,
           "https://www.idealista.com/inmueble/97486291/"
          ],
          [
           1111,
           100000,
           90,
           3,
           "https://www.idealista.com/inmueble/100338199/"
          ],
          [
           2244,
           285000,
           127,
           4,
           "https://www.idealista.com/inmueble/95430404/"
          ],
          [
           1615,
           105000,
           65,
           2,
           "https://www.idealista.com/inmueble/100963500/"
          ],
          [
           1261,
           93300,
           74,
           3,
           "https://www.idealista.com/inmueble/99810445/"
          ],
          [
           1957,
           180000,
           92,
           2,
           "https://www.idealista.com/inmueble/100804304/"
          ],
          [
           1478,
           170000,
           115,
           3,
           "https://www.idealista.com/inmueble/100533178/"
          ],
          [
           2545,
           168000,
           66,
           2,
           "https://www.idealista.com/inmueble/100600034/"
          ],
          [
           2670,
           299000,
           112,
           3,
           "https://www.idealista.com/inmueble/97799976/"
          ],
          [
           2814,
           242000,
           86,
           3,
           "https://www.idealista.com/inmueble/87882762/"
          ],
          [
           1797,
           115000,
           64,
           3,
           "https://www.idealista.com/inmueble/100644382/"
          ],
          [
           1908,
           166000,
           87,
           3,
           "https://www.idealista.com/inmueble/93700250/"
          ],
          [
           2935,
           135000,
           46,
           1,
           "https://www.idealista.com/inmueble/97033226/"
          ],
          [
           2778,
           150000,
           54,
           1,
           "https://www.idealista.com/inmueble/99872083/"
          ],
          [
           3560,
           178000,
           50,
           1,
           "https://www.idealista.com/inmueble/98932576/"
          ],
          [
           1929,
           135000,
           70,
           2,
           "https://www.idealista.com/inmueble/100357615/"
          ],
          [
           2769,
           299000,
           108,
           2,
           "https://www.idealista.com/inmueble/100732621/"
          ],
          [
           3971,
           139000,
           35,
           1,
           "https://www.idealista.com/inmueble/100090047/"
          ],
          [
           1923,
           125000,
           65,
           2,
           "https://www.idealista.com/inmueble/99945569/"
          ],
          [
           1500,
           90000,
           60,
           3,
           "https://www.idealista.com/inmueble/100628625/"
          ],
          [
           2048,
           170000,
           83,
           3,
           "https://www.idealista.com/inmueble/98792252/"
          ],
          [
           1190,
           119000,
           100,
           3,
           "https://www.idealista.com/inmueble/99294545/"
          ],
          [
           2507,
           188000,
           75,
           2,
           "https://www.idealista.com/inmueble/100954730/"
          ],
          [
           2361,
           170000,
           72,
           3,
           "https://www.idealista.com/inmueble/100750710/"
          ],
          [
           2662,
           244900,
           92,
           2,
           "https://www.idealista.com/inmueble/100785498/"
          ],
          [
           1167,
           140000,
           120,
           5,
           "https://www.idealista.com/inmueble/100934228/"
          ],
          [
           1322,
           160000,
           121,
           4,
           "https://www.idealista.com/inmueble/98969331/"
          ],
          [
           1357,
           95000,
           70,
           3,
           "https://www.idealista.com/inmueble/100838377/"
          ],
          [
           2679,
           209000,
           78,
           2,
           "https://www.idealista.com/inmueble/100826904/"
          ],
          [
           833,
           65000,
           78,
           3,
           "https://www.idealista.com/inmueble/100934534/"
          ],
          [
           652,
           150000,
           230,
           4,
           "https://www.idealista.com/inmueble/101035961/"
          ],
          [
           1041,
           176000,
           169,
           5,
           "https://www.idealista.com/inmueble/99619874/"
          ],
          [
           1871,
           164640,
           88,
           2,
           "https://www.idealista.com/inmueble/97490855/"
          ],
          [
           2200,
           275000,
           125,
           3,
           "https://www.idealista.com/inmueble/100804442/"
          ],
          [
           3705,
           222300,
           60,
           2,
           "https://www.idealista.com/inmueble/97516750/"
          ],
          [
           1833,
           165000,
           90,
           3,
           "https://www.idealista.com/inmueble/98477019/"
          ],
          [
           1880,
           94000,
           50,
           1,
           "https://www.idealista.com/inmueble/100745803/"
          ],
          [
           1333,
           100000,
           75,
           2,
           "https://www.idealista.com/inmueble/100410223/"
          ],
          [
           2344,
           143000,
           61,
           2,
           "https://www.idealista.com/inmueble/100661174/"
          ],
          [
           2000,
           140000,
           70,
           3,
           "https://www.idealista.com/inmueble/100752274/"
          ],
          [
           1535,
           175000,
           114,
           4,
           "https://www.idealista.com/inmueble/95772605/"
          ],
          [
           2817,
           200000,
           71,
           2,
           "https://www.idealista.com/inmueble/95589133/"
          ],
          [
           2549,
           130000,
           51,
           2,
           "https://www.idealista.com/inmueble/100679365/"
          ],
          [
           2471,
           210000,
           85,
           3,
           "https://www.idealista.com/inmueble/97900700/"
          ],
          [
           1111,
           100000,
           90,
           4,
           "https://www.idealista.com/inmueble/100208768/"
          ],
          [
           2059,
           175000,
           85,
           2,
           "https://www.idealista.com/inmueble/96838264/"
          ],
          [
           2638,
           211000,
           80,
           2,
           "https://www.idealista.com/inmueble/89200550/"
          ],
          [
           2455,
           270000,
           110,
           3,
           "https://www.idealista.com/inmueble/99977928/"
          ],
          [
           1938,
           155000,
           80,
           2,
           "https://www.idealista.com/inmueble/98850151/"
          ],
          [
           1950,
           195000,
           100,
           3,
           "https://www.idealista.com/inmueble/99977940/"
          ],
          [
           2013,
           155000,
           77,
           2,
           "https://www.idealista.com/inmueble/97943232/"
          ],
          [
           4706,
           240000,
           51,
           2,
           "https://www.idealista.com/inmueble/100479777/"
          ],
          [
           1760,
           220000,
           125,
           3,
           "https://www.idealista.com/inmueble/96048970/"
          ],
          [
           1610,
           199620,
           124,
           6,
           "https://www.idealista.com/inmueble/90252997/"
          ],
          [
           2684,
           233510,
           87,
           2,
           "https://www.idealista.com/inmueble/97947483/"
          ],
          [
           1250,
           100000,
           80,
           2,
           "https://www.idealista.com/inmueble/100403476/"
          ],
          [
           1613,
           100000,
           62,
           2,
           "https://www.idealista.com/inmueble/100275872/"
          ],
          [
           4385,
           285000,
           65,
           1,
           "https://www.idealista.com/inmueble/100709275/"
          ],
          [
           2358,
           125000,
           53,
           1,
           "https://www.idealista.com/inmueble/100987708/"
          ],
          [
           1965,
           167000,
           85,
           2,
           "https://www.idealista.com/inmueble/99757494/"
          ],
          [
           2000,
           232000,
           116,
           2,
           "https://www.idealista.com/obra-nueva/101105670/"
          ],
          [
           2101,
           287900,
           137,
           3,
           "https://www.idealista.com/obra-nueva/101105672/"
          ],
          [
           3333,
           170000,
           51,
           2,
           "https://www.idealista.com/inmueble/100103148/"
          ],
          [
           2329,
           198000,
           85,
           3,
           "https://www.idealista.com/inmueble/99293538/"
          ],
          [
           1746,
           199000,
           114,
           4,
           "https://www.idealista.com/inmueble/100062930/"
          ],
          [
           2723,
           275000,
           101,
           3,
           "https://www.idealista.com/inmueble/98795710/"
          ],
          [
           2101,
           250000,
           119,
           3,
           "https://www.idealista.com/inmueble/96422541/"
          ],
          [
           2034,
           240000,
           118,
           4,
           "https://www.idealista.com/inmueble/99732819/"
          ],
          [
           2348,
           155000,
           66,
           2,
           "https://www.idealista.com/inmueble/97448545/"
          ],
          [
           1974,
           229000,
           116,
           4,
           "https://www.idealista.com/inmueble/97151759/"
          ],
          [
           1595,
           185000,
           116,
           4,
           "https://www.idealista.com/inmueble/99796925/"
          ],
          [
           2769,
           299000,
           108,
           2,
           "https://www.idealista.com/inmueble/100001089/"
          ],
          [
           1793,
           134500,
           75,
           2,
           "https://www.idealista.com/inmueble/95387753/"
          ],
          [
           2418,
           295000,
           122,
           3,
           "https://www.idealista.com/inmueble/100491201/"
          ],
          [
           2686,
           255170,
           95,
           3,
           "https://www.idealista.com/inmueble/90597837/"
          ],
          [
           2427,
           250000,
           103,
           3,
           "https://www.idealista.com/inmueble/101096412/"
          ],
          [
           2706,
           295000,
           109,
           3,
           "https://www.idealista.com/inmueble/98635757/"
          ],
          [
           2800,
           182000,
           65,
           2,
           "https://www.idealista.com/inmueble/101105538/"
          ],
          [
           1889,
           238000,
           126,
           4,
           "https://www.idealista.com/inmueble/101104763/"
          ],
          [
           2175,
           211000,
           97,
           2,
           "https://www.idealista.com/inmueble/97472110/"
          ],
          [
           1767,
           199620,
           113,
           6,
           "https://www.idealista.com/inmueble/91528455/"
          ],
          [
           1718,
           151200,
           88,
           2,
           "https://www.idealista.com/inmueble/97496558/"
          ],
          [
           2407,
           233510,
           97,
           2,
           "https://www.idealista.com/inmueble/97944521/"
          ],
          [
           2382,
           142900,
           60,
           1,
           "https://www.idealista.com/inmueble/96940193/"
          ],
          [
           2522,
           232000,
           92,
           2,
           "https://www.idealista.com/inmueble/101101759/"
          ],
          [
           2053,
           195000,
           95,
           2,
           "https://www.idealista.com/inmueble/101096574/"
          ],
          [
           2354,
           193000,
           82,
           3,
           "https://www.idealista.com/inmueble/99857594/"
          ],
          [
           2600,
           182000,
           70,
           2,
           "https://www.idealista.com/inmueble/101106970/"
          ],
          [
           3500,
           280000,
           80,
           2,
           "https://www.idealista.com/inmueble/98329077/"
          ],
          [
           3500,
           280000,
           80,
           2,
           "https://www.idealista.com/inmueble/98329077/"
          ],
          [
           1488,
           125000,
           84,
           2,
           "https://www.idealista.com/inmueble/101105586/"
          ],
          [
           1869,
           299000,
           160,
           5,
           "https://www.idealista.com/inmueble/101021000/"
          ],
          [
           2556,
           230000,
           90,
           3,
           "https://www.idealista.com/inmueble/100813649/"
          ],
          [
           1839,
           160000,
           87,
           3,
           "https://www.idealista.com/inmueble/101096374/"
          ],
          [
           792,
           53870,
           68,
           3,
           "https://www.idealista.com/inmueble/98889796/"
          ],
          [
           1792,
           136200,
           76,
           1,
           "https://www.idealista.com/inmueble/97484944/"
          ],
          [
           1751,
           164640,
           94,
           2,
           "https://www.idealista.com/inmueble/97499586/"
          ],
          [
           2769,
           180000,
           65,
           2,
           "https://www.idealista.com/inmueble/101101748/"
          ],
          [
           2427,
           250000,
           103,
           3,
           "https://www.idealista.com/inmueble/100862638/"
          ],
          [
           1817,
           239900,
           132,
           4,
           "https://www.idealista.com/inmueble/99424851/"
          ],
          [
           1150,
           115000,
           100,
           3,
           "https://www.idealista.com/inmueble/101038379/"
          ],
          [
           3808,
           198000,
           52,
           2,
           "https://www.idealista.com/inmueble/101056364/"
          ],
          [
           1598,
           155000,
           97,
           3,
           "https://www.idealista.com/inmueble/101106790/"
          ],
          [
           1690,
           218000,
           129,
           3,
           "https://www.idealista.com/obra-nueva/101065843/"
          ],
          [
           3391,
           295000,
           87,
           1,
           "https://www.idealista.com/obra-nueva/98637538/"
          ],
          [
           500,
           130000,
           260,
           3,
           "https://www.idealista.com/inmueble/100112866/"
          ],
          [
           1988,
           169000,
           85,
           3,
           "https://www.idealista.com/inmueble/101092580/"
          ],
          [
           2664,
           285000,
           107,
           3,
           "https://www.idealista.com/inmueble/100497434/"
          ],
          [
           2257,
           228000,
           101,
           2,
           "https://www.idealista.com/obra-nueva/100712532/"
          ],
          [
           1875,
           240000,
           128,
           3,
           "https://www.idealista.com/obra-nueva/91450297/"
          ],
          [
           2384,
           195500,
           82,
           1,
           "https://www.idealista.com/obra-nueva/97765712/"
          ],
          [
           1980,
           200000,
           101,
           2,
           "https://www.idealista.com/obra-nueva/100486213/"
          ],
          [
           2467,
           239313,
           97,
           2,
           "https://www.idealista.com/obra-nueva/97591254/"
          ],
          [
           2344,
           300000,
           128,
           3,
           "https://www.idealista.com/obra-nueva/91450317/"
          ],
          [
           1849,
           220000,
           119,
           3,
           "https://www.idealista.com/obra-nueva/97765662/"
          ],
          [
           1951,
           199000,
           102,
           2,
           "https://www.idealista.com/obra-nueva/97765696/"
          ],
          [
           2016,
           213713,
           106,
           2,
           "https://www.idealista.com/obra-nueva/91450275/"
          ],
          [
           2349,
           249000,
           106,
           2,
           "https://www.idealista.com/obra-nueva/97765705/"
          ],
          [
           2063,
           264000,
           128,
           3,
           "https://www.idealista.com/obra-nueva/99133739/"
          ],
          [
           1799,
           183500,
           102,
           2,
           "https://www.idealista.com/obra-nueva/100486229/"
          ],
          [
           2188,
           221000,
           101,
           2,
           "https://www.idealista.com/obra-nueva/100712548/"
          ],
          [
           1919,
           203463,
           106,
           2,
           "https://www.idealista.com/obra-nueva/97765687/"
          ],
          [
           3105,
           242200,
           78,
           1,
           "https://www.idealista.com/obra-nueva/91450314/"
          ],
          [
           2206,
           225000,
           102,
           2,
           "https://www.idealista.com/obra-nueva/100712541/"
          ],
          [
           2049,
           209000,
           102,
           2,
           "https://www.idealista.com/obra-nueva/97765713/"
          ],
          [
           2250,
           288000,
           128,
           3,
           "https://www.idealista.com/obra-nueva/97591253/"
          ],
          [
           2151,
           228000,
           106,
           2,
           "https://www.idealista.com/obra-nueva/97765683/"
          ],
          [
           2380,
           288000,
           121,
           3,
           "https://www.idealista.com/obra-nueva/97765726/"
          ],
          [
           2119,
           214000,
           101,
           2,
           "https://www.idealista.com/obra-nueva/97765708/"
          ],
          [
           2127,
           217000,
           102,
           2,
           "https://www.idealista.com/obra-nueva/100712540/"
          ],
          [
           2162,
           233524,
           108,
           3,
           "https://www.idealista.com/obra-nueva/100861433/"
          ],
          [
           2181,
           224654,
           103,
           3,
           "https://www.idealista.com/obra-nueva/100861481/"
          ],
          [
           2185,
           222880,
           102,
           3,
           "https://www.idealista.com/obra-nueva/100861487/"
          ],
          [
           2021,
           190000,
           94,
           3,
           "https://www.idealista.com/inmueble/100948710/"
          ],
          [
           1824,
           155000,
           85,
           2,
           "https://www.idealista.com/inmueble/99928151/"
          ],
          [
           1781,
           187000,
           105,
           3,
           "https://www.idealista.com/inmueble/100945517/"
          ],
          [
           1680,
           210000,
           125,
           4,
           "https://www.idealista.com/inmueble/98114165/"
          ],
          [
           2358,
           125000,
           53,
           1,
           "https://www.idealista.com/inmueble/100995917/"
          ],
          [
           2019,
           210000,
           104,
           4,
           "https://www.idealista.com/inmueble/100897181/"
          ],
          [
           2019,
           210000,
           104,
           4,
           "https://www.idealista.com/inmueble/100897181/"
          ],
          [
           2711,
           222300,
           82,
           2,
           "https://www.idealista.com/inmueble/99537104/"
          ],
          [
           2814,
           222300,
           79,
           2,
           "https://www.idealista.com/inmueble/92724416/"
          ],
          [
           1572,
           283000,
           180,
           6,
           "https://www.idealista.com/inmueble/97012042/"
          ],
          [
           2317,
           285000,
           123,
           2,
           "https://www.idealista.com/obra-nueva/96264314/"
          ],
          [
           1688,
           135000,
           80,
           3,
           "https://www.idealista.com/inmueble/100163480/"
          ],
          [
           1845,
           238000,
           129,
           3,
           "https://www.idealista.com/obra-nueva/101043383/"
          ],
          [
           2826,
           260000,
           92,
           2,
           "https://www.idealista.com/inmueble/99443165/"
          ],
          [
           1264,
           110000,
           87,
           3,
           "https://www.idealista.com/inmueble/101010484/"
          ],
          [
           2174,
           250000,
           115,
           3,
           "https://www.idealista.com/inmueble/101099420/"
          ],
          [
           2632,
           150000,
           57,
           1,
           "https://www.idealista.com/inmueble/100441863/"
          ],
          [
           1849,
           135000,
           73,
           2,
           "https://www.idealista.com/inmueble/100361431/"
          ],
          [
           2987,
           230000,
           77,
           2,
           "https://www.idealista.com/inmueble/99076095/"
          ],
          [
           955,
           84000,
           88,
           4,
           "https://www.idealista.com/inmueble/95318151/"
          ],
          [
           2438,
           195000,
           80,
           3,
           "https://www.idealista.com/inmueble/98048716/"
          ],
          [
           2819,
           265000,
           94,
           3,
           "https://www.idealista.com/inmueble/99888979/"
          ],
          [
           3524,
           289000,
           82,
           2,
           "https://www.idealista.com/inmueble/94367929/"
          ],
          [
           1393,
           195000,
           140,
           0,
           "https://www.idealista.com/inmueble/100447017/"
          ],
          [
           2455,
           270000,
           110,
           3,
           "https://www.idealista.com/inmueble/100101177/"
          ],
          [
           1530,
           283000,
           185,
           6,
           "https://www.idealista.com/inmueble/83651355/"
          ],
          [
           1461,
           130000,
           89,
           2,
           "https://www.idealista.com/inmueble/81753313/"
          ],
          [
           1791,
           120000,
           67,
           2,
           "https://www.idealista.com/inmueble/98974199/"
          ],
          [
           1419,
           105000,
           74,
           2,
           "https://www.idealista.com/inmueble/101022510/"
          ],
          [
           2686,
           255170,
           95,
           3,
           "https://www.idealista.com/inmueble/99533836/"
          ],
          [
           2222,
           200000,
           90,
           2,
           "https://www.idealista.com/inmueble/98371003/"
          ],
          [
           2602,
           229000,
           88,
           3,
           "https://www.idealista.com/inmueble/100743325/"
          ],
          [
           2706,
           295000,
           109,
           3,
           "https://www.idealista.com/inmueble/98710367/"
          ],
          [
           2045,
           225000,
           110,
           4,
           "https://www.idealista.com/inmueble/100992232/"
          ],
          [
           3113,
           165000,
           53,
           2,
           "https://www.idealista.com/inmueble/100871591/"
          ],
          [
           1190,
           119000,
           100,
           3,
           "https://www.idealista.com/inmueble/99771498/"
          ],
          [
           2504,
           298000,
           119,
           4,
           "https://www.idealista.com/inmueble/100482644/"
          ],
          [
           2586,
           150000,
           58,
           2,
           "https://www.idealista.com/inmueble/98811912/"
          ],
          [
           1000,
           105000,
           105,
           3,
           "https://www.idealista.com/inmueble/97111729/"
          ],
          [
           1563,
           100000,
           64,
           2,
           "https://www.idealista.com/inmueble/99557886/"
          ],
          [
           2453,
           157000,
           64,
           2,
           "https://www.idealista.com/inmueble/100853137/"
          ],
          [
           2619,
           162367,
           62,
           2,
           "https://www.idealista.com/obra-nueva/98812050/"
          ],
          [
           2846,
           247600,
           87,
           3,
           "https://www.idealista.com/obra-nueva/98812105/"
          ],
          [
           2154,
           140000,
           65,
           2,
           "https://www.idealista.com/inmueble/96697517/"
          ],
          [
           2841,
           170462,
           60,
           2,
           "https://www.idealista.com/obra-nueva/98812147/"
          ],
          [
           3736,
           194270,
           52,
           1,
           "https://www.idealista.com/obra-nueva/98812149/"
          ],
          [
           1686,
           134900,
           80,
           2,
           "https://www.idealista.com/inmueble/100961281/"
          ],
          [
           2551,
           250000,
           98,
           4,
           "https://www.idealista.com/inmueble/98122300/"
          ],
          [
           1466,
           195000,
           133,
           2,
           "https://www.idealista.com/inmueble/98513574/"
          ],
          [
           1439,
           141000,
           98,
           2,
           "https://www.idealista.com/inmueble/100933893/"
          ],
          [
           3391,
           295000,
           87,
           2,
           "https://www.idealista.com/inmueble/100244164/"
          ],
          [
           1622,
           300000,
           185,
           4,
           "https://www.idealista.com/inmueble/27531680/"
          ],
          [
           2228,
           205000,
           92,
           2,
           "https://www.idealista.com/obra-nueva/100427002/"
          ],
          [
           2978,
           247200,
           83,
           2,
           "https://www.idealista.com/inmueble/97963881/"
          ],
          [
           2188,
           210000,
           96,
           2,
           "https://www.idealista.com/obra-nueva/95038714/"
          ],
          [
           2297,
           232000,
           101,
           2,
           "https://www.idealista.com/obra-nueva/99328113/"
          ]
         ],
         "hovertemplate": "<b>%{hovertext}</b><br><br>rooms=%{customdata[3]}<br>latitude=%{lat}<br>longitude=%{lon}<br>priceByArea=%{marker.color}<br>price=%{customdata[1]}<br>size=%{customdata[2]}<br>url=%{customdata[4]}<extra></extra>",
         "hovertext": [
          1591,
          2589,
          2000,
          2000,
          2625,
          647,
          2179,
          2235,
          2326,
          1350,
          2000,
          2130,
          1565,
          2244,
          561,
          2143,
          2529,
          561,
          2341,
          2341,
          1389,
          2200,
          3467,
          1831,
          2050,
          1591,
          1625,
          1453,
          2587,
          2000,
          2000,
          2700,
          1250,
          1941,
          1193,
          1892,
          2077,
          1667,
          1875,
          1484,
          1484,
          2049,
          1320,
          3274,
          2984,
          1357,
          2467,
          1565,
          2467,
          1853,
          2059,
          1495,
          1510,
          1125,
          1661,
          1750,
          1193,
          2895,
          2198,
          2647,
          1473,
          2318,
          1846,
          2857,
          1817,
          2895,
          1693,
          2200,
          1391,
          2911,
          2591,
          2316,
          2352,
          2911,
          3151,
          1656,
          2352,
          1600,
          1412,
          2452,
          1793,
          1587,
          1667,
          2200,
          2313,
          2615,
          1333,
          2917,
          2283,
          2452,
          2500,
          1281,
          1095,
          2169,
          1412,
          1923,
          2620,
          2092,
          3041,
          2813,
          2360,
          3836,
          3041,
          2546,
          2092,
          1579,
          1922,
          1480,
          3105,
          2374,
          1515,
          1703,
          2349,
          1522,
          2532,
          2500,
          2750,
          2594,
          1857,
          2191,
          3041,
          2467,
          1855,
          1623,
          1762,
          2640,
          2436,
          2417,
          3000,
          2455,
          2418,
          2819,
          1529,
          2243,
          1714,
          2814,
          3958,
          1714,
          2250,
          2600,
          2080,
          1500,
          1797,
          2545,
          1190,
          1837,
          2438,
          1692,
          1922,
          2554,
          1244,
          2661,
          2584,
          2752,
          2590,
          1957,
          2000,
          1909,
          2611,
          2819,
          2429,
          2400,
          1895,
          1690,
          2390,
          2697,
          2657,
          2169,
          2155,
          2308,
          1636,
          1529,
          1350,
          1922,
          2475,
          2810,
          1908,
          2250,
          2789,
          2602,
          1680,
          1967,
          2427,
          2523,
          2600,
          2317,
          3683,
          2021,
          1495,
          1034,
          2453,
          1789,
          2200,
          3090,
          1922,
          1989,
          1050,
          1859,
          1677,
          1386,
          2459,
          2436,
          2070,
          1278,
          1231,
          3049,
          3271,
          1572,
          1755,
          1849,
          1274,
          2500,
          2095,
          3857,
          3390,
          3051,
          1433,
          2224,
          1327,
          1922,
          2819,
          2819,
          2451,
          2387,
          2095,
          2938,
          1078,
          1466,
          2320,
          2000,
          2224,
          2837,
          1733,
          1733,
          1160,
          2329,
          2706,
          1524,
          2737,
          2737,
          2500,
          1643,
          2591,
          1988,
          2487,
          2602,
          1991,
          1837,
          1572,
          1957,
          3518,
          1572,
          1206,
          1282,
          1824,
          1729,
          3091,
          3115,
          1692,
          3462,
          2826,
          2088,
          1698,
          1652,
          2706,
          1718,
          1895,
          2048,
          1312,
          2358,
          1267,
          2021,
          2350,
          2529,
          2619,
          3500,
          2021,
          2963,
          1803,
          2261,
          3085,
          1167,
          2475,
          1692,
          2190,
          1855,
          2316,
          1267,
          1615,
          1459,
          1837,
          3901,
          2095,
          1869,
          1792,
          2585,
          3944,
          1286,
          2688,
          2427,
          2688,
          2819,
          1286,
          3750,
          1930,
          1893,
          1206,
          1974,
          1754,
          2478,
          1625,
          2382,
          2552,
          2250,
          1232,
          1804,
          1885,
          1731,
          2632,
          3305,
          2105,
          3833,
          2088,
          2345,
          1759,
          3105,
          2885,
          2424,
          3092,
          2686,
          2563,
          2438,
          2143,
          2078,
          2273,
          2375,
          2340,
          2208,
          3613,
          2177,
          3524,
          1183,
          1719,
          1206,
          1538,
          2375,
          1769,
          3944,
          1757,
          1783,
          4196,
          565,
          3944,
          2000,
          2950,
          1746,
          2474,
          2681,
          3855,
          2539,
          2579,
          2500,
          2011,
          2526,
          2200,
          1308,
          2019,
          2908,
          1692,
          955,
          2813,
          3526,
          955,
          2159,
          2926,
          2467,
          2206,
          3231,
          1190,
          2769,
          2804,
          2899,
          2180,
          2591,
          2427,
          2667,
          850,
          2231,
          2190,
          3564,
          2430,
          1466,
          2933,
          2092,
          1215,
          1778,
          1012,
          1970,
          2358,
          2814,
          2000,
          4286,
          2814,
          2323,
          1831,
          3308,
          2486,
          1889,
          3526,
          2804,
          3046,
          2011,
          2155,
          1684,
          7500,
          3338,
          3071,
          2151,
          1529,
          2439,
          2086,
          2432,
          2432,
          2175,
          2639,
          2397,
          1250,
          1961,
          2458,
          1739,
          2132,
          2398,
          1696,
          2075,
          1979,
          1922,
          1293,
          3250,
          2986,
          1686,
          2023,
          1692,
          1456,
          1549,
          3090,
          2393,
          1735,
          2571,
          2143,
          1935,
          2143,
          3090,
          1522,
          1692,
          1955,
          3364,
          2252,
          1190,
          3357,
          2261,
          1864,
          1965,
          3145,
          1849,
          2348,
          2632,
          2874,
          2034,
          2021,
          2909,
          2759,
          2358,
          1957,
          2088,
          1492,
          2311,
          2411,
          3010,
          1639,
          1646,
          1536,
          1810,
          2475,
          3235,
          3000,
          2430,
          2198,
          2426,
          1987,
          1846,
          3300,
          1500,
          2095,
          1913,
          3284,
          3273,
          1987,
          1134,
          2200,
          1633,
          1601,
          978,
          1716,
          1622,
          1913,
          2162,
          2134,
          1250,
          2095,
          1000,
          3476,
          1633,
          1111,
          2244,
          1615,
          1261,
          1957,
          1478,
          2545,
          2670,
          2814,
          1797,
          1908,
          2935,
          2778,
          3560,
          1929,
          2769,
          3971,
          1923,
          1500,
          2048,
          1190,
          2507,
          2361,
          2662,
          1167,
          1322,
          1357,
          2679,
          833,
          652,
          1041,
          1871,
          2200,
          3705,
          1833,
          1880,
          1333,
          2344,
          2000,
          1535,
          2817,
          2549,
          2471,
          1111,
          2059,
          2638,
          2455,
          1938,
          1950,
          2013,
          4706,
          1760,
          1610,
          2684,
          1250,
          1613,
          4385,
          2358,
          1965,
          2000,
          2101,
          3333,
          2329,
          1746,
          2723,
          2101,
          2034,
          2348,
          1974,
          1595,
          2769,
          1793,
          2418,
          2686,
          2427,
          2706,
          2800,
          1889,
          2175,
          1767,
          1718,
          2407,
          2382,
          2522,
          2053,
          2354,
          2600,
          3500,
          3500,
          1488,
          1869,
          2556,
          1839,
          792,
          1792,
          1751,
          2769,
          2427,
          1817,
          1150,
          3808,
          1598,
          1690,
          3391,
          500,
          1988,
          2664,
          2257,
          1875,
          2384,
          1980,
          2467,
          2344,
          1849,
          1951,
          2016,
          2349,
          2063,
          1799,
          2188,
          1919,
          3105,
          2206,
          2049,
          2250,
          2151,
          2380,
          2119,
          2127,
          2162,
          2181,
          2185,
          2021,
          1824,
          1781,
          1680,
          2358,
          2019,
          2019,
          2711,
          2814,
          1572,
          2317,
          1688,
          1845,
          2826,
          1264,
          2174,
          2632,
          1849,
          2987,
          955,
          2438,
          2819,
          3524,
          1393,
          2455,
          1530,
          1461,
          1791,
          1419,
          2686,
          2222,
          2602,
          2706,
          2045,
          3113,
          1190,
          2504,
          2586,
          1000,
          1563,
          2453,
          2619,
          2846,
          2154,
          2841,
          3736,
          1686,
          2551,
          1466,
          1439,
          3391,
          1622,
          2228,
          2978,
          2188,
          2297
         ],
         "lat": [
          43.3543389,
          43.35128,
          43.3591766,
          43.3611103,
          43.3588856,
          43.3547996,
          43.3725762,
          43.3348211,
          43.358514,
          43.34169,
          43.35108,
          43.34858,
          43.3578685,
          43.3380753,
          43.3346192,
          43.3709766,
          43.3614361,
          43.3335198,
          43.3688779,
          43.3691106,
          43.3617616,
          43.3611146,
          43.3403271,
          43.3709766,
          43.3797298,
          43.3530345,
          43.3762485,
          43.3639059,
          43.3691289,
          43.3413512,
          43.3402327,
          43.3632252,
          43.3628033,
          43.3556664,
          43.3531074,
          43.3529042,
          43.3516001,
          43.3519673,
          43.3620056,
          43.3467481,
          43.3458548,
          43.368603,
          43.3555055,
          43.3827936,
          43.3658023,
          43.3641395,
          43.3640773,
          43.3541453,
          43.3657702,
          43.3394938,
          43.3595804,
          43.3545685,
          43.3564133,
          43.3657071,
          43.3542188,
          43.3528102,
          43.3579283,
          43.3642747,
          43.3344634,
          43.3543964,
          43.3542639,
          43.3446511,
          43.3628859,
          43.3609713,
          43.3599487,
          43.3660122,
          43.3577973,
          43.345131,
          43.3525017,
          43.3614301,
          43.3790447,
          43.3536479,
          43.3539896,
          43.3600518,
          43.3737593,
          43.3599037,
          43.3550258,
          43.3597277,
          43.3631001,
          43.3528016,
          43.3566757,
          43.3586542,
          43.3528085,
          43.3593672,
          43.3569937,
          43.3591,
          43.3638786,
          43.3727614,
          43.3800405,
          43.3510386,
          43.3444449,
          43.35197,
          43.3616392,
          43.35098,
          43.3650525,
          43.3622455,
          43.3614301,
          43.3521616,
          43.3436098,
          43.373282,
          43.3456295,
          43.3708662,
          43.3451192,
          43.3630454,
          43.3518692,
          43.360076,
          43.358718,
          43.3635315,
          43.3449405,
          43.362663,
          43.3529433,
          43.3640263,
          43.350211,
          43.3526838,
          43.3513242,
          43.3373853,
          43.3396955,
          43.3719247,
          43.3574233,
          43.3594609,
          43.3457092,
          43.3530127,
          43.3547742,
          43.3580379,
          43.3567235,
          43.3616902,
          43.3537478,
          43.3578744,
          43.3517561,
          43.357724,
          43.3753671,
          43.3557611,
          43.3623334,
          43.3529188,
          43.3508107,
          43.3553944,
          43.3396066,
          43.3764075,
          43.371469,
          43.3597682,
          43.3564918,
          43.3668024,
          43.352723,
          43.3714046,
          43.3524943,
          43.3769536,
          43.3528729,
          43.3718761,
          43.3577889,
          43.3738856,
          43.360273,
          43.3692328,
          43.3716693,
          43.3713301,
          43.3625944,
          43.3770519,
          43.3600297,
          43.3447944,
          43.3600783,
          43.357621,
          43.3626513,
          43.3775157,
          43.356824,
          43.3617935,
          43.3605166,
          43.3780451,
          43.3374257,
          43.3518867,
          43.3402455,
          43.379235,
          43.3591918,
          43.3604676,
          43.3573666,
          43.3558632,
          43.38138,
          43.342105,
          43.34596,
          43.3572403,
          43.3573017,
          43.3579713,
          43.3466549,
          43.3707119,
          43.3536868,
          43.3635739,
          43.3487132,
          43.3608334,
          43.3572,
          43.3499261,
          43.3476842,
          43.3545196,
          43.3546012,
          43.3452229,
          43.3379312,
          43.3670848,
          43.3503778,
          43.3570941,
          43.3509946,
          43.3681382,
          43.3799696,
          43.3494626,
          43.3540799,
          43.3623045,
          43.3461473,
          43.3395795,
          43.3676441,
          43.3653542,
          43.3748851,
          43.3779536,
          43.3358624,
          43.3592004,
          43.3780796,
          43.3511906,
          43.338118,
          43.3590386,
          43.3403092,
          43.3726445,
          43.3479135,
          43.3533139,
          43.3420336,
          43.3539369,
          43.3551719,
          43.3577551,
          43.3553671,
          43.3616216,
          43.3354217,
          43.3515363,
          43.3411328,
          43.3545329,
          43.3557944,
          43.35048,
          43.3533139,
          43.3420226,
          43.3552139,
          43.3550904,
          43.3460347,
          43.3542505,
          43.3605524,
          43.3562106,
          43.3347141,
          43.3383481,
          43.3763242,
          43.3592585,
          43.3820447,
          43.3536823,
          43.3760206,
          43.3445323,
          43.3568378,
          43.375129,
          43.378555,
          43.3756587,
          43.3696648,
          43.378555,
          43.3395137,
          43.3542445,
          43.3810512,
          43.371919,
          43.369673,
          43.3678686,
          43.3691107,
          43.3750436,
          43.3709299,
          43.3458399,
          43.3458399,
          43.3458399,
          43.3626064,
          43.364098,
          43.3638673,
          43.3751031,
          43.3460165,
          43.3699004,
          43.3458322,
          43.3491302,
          43.375249,
          43.3352982,
          43.3415419,
          43.3760742,
          43.3501596,
          43.348488,
          43.342639,
          43.3845518,
          43.3597866,
          43.3438931,
          43.3795335,
          43.3713895,
          43.351923,
          43.337919,
          43.3606044,
          43.3472617,
          43.3457258,
          43.3560685,
          43.3765354,
          43.3724499,
          43.3500752,
          43.3612761,
          43.3611063,
          43.3729575,
          43.370915,
          43.3792307,
          43.3744931,
          43.3547493,
          43.3744931,
          43.3568492,
          43.3792307,
          43.3703609,
          43.362956,
          43.3590992,
          43.3523322,
          43.3606056,
          43.3478921,
          43.3578659,
          43.3516713,
          43.3592483,
          43.3453097,
          43.3576539,
          43.3375935,
          43.3520005,
          43.3635345,
          43.3566647,
          43.3518399,
          43.3664092,
          43.3597898,
          43.3716557,
          43.3583195,
          43.3516885,
          43.3598947,
          43.3633765,
          43.3607435,
          43.3574702,
          43.3394401,
          43.3604519,
          43.3608086,
          43.3556747,
          43.3544656,
          43.3554985,
          43.3549928,
          43.372609,
          43.3559208,
          43.3553142,
          43.3740244,
          43.3419967,
          43.3379039,
          43.3411328,
          43.342694,
          43.3398633,
          43.377755,
          43.3435261,
          43.3395531,
          43.3693442,
          43.3646577,
          43.3370374,
          43.3800162,
          43.3459191,
          43.3693442,
          43.362135,
          43.3444348,
          43.3606093,
          43.3617993,
          43.3539237,
          43.3539237,
          43.3539237,
          43.3539237,
          43.3539237,
          43.354549,
          43.377685,
          43.3377724,
          43.3501773,
          43.3607519,
          43.3707834,
          43.3706131,
          43.351898,
          43.3637296,
          43.3677388,
          43.3532085,
          43.3599852,
          43.3555606,
          43.3650712,
          43.356012,
          43.3574789,
          43.3525352,
          43.369584,
          43.3543558,
          43.3515085,
          43.3741757,
          43.3621327,
          43.3527018,
          43.3654627,
          43.3551985,
          43.3646178,
          43.3633455,
          43.3412889,
          43.3426504,
          43.3523147,
          43.3551964,
          43.3544403,
          43.3600763,
          43.3409189,
          43.3549357,
          43.3576597,
          43.3684909,
          43.3542293,
          43.368999,
          43.3633036,
          43.3542293,
          43.3550326,
          43.361239,
          43.3681828,
          43.3570556,
          43.3514335,
          43.3375826,
          43.35308,
          43.356486,
          43.3553756,
          43.3775811,
          43.3451695,
          43.3385252,
          43.356158,
          43.3598604,
          43.3629256,
          43.3546917,
          43.3599416,
          43.3518802,
          43.36331,
          43.3545439,
          43.3797673,
          43.3652115,
          43.3531419,
          43.3536798,
          43.3815317,
          43.3727233,
          43.3454531,
          43.3536758,
          43.3722218,
          43.3478615,
          43.3719778,
          43.365337,
          43.3587541,
          43.363991,
          43.3660628,
          43.3615072,
          43.3582917,
          43.3598917,
          43.3723421,
          43.3481504,
          43.3639278,
          43.3818654,
          43.3505831,
          43.3489292,
          43.3771311,
          43.3506389,
          43.3618955,
          43.3506389,
          43.3818654,
          43.3692782,
          43.3723421,
          43.3701669,
          43.3488888,
          43.3563359,
          43.3520009,
          43.3561844,
          43.3810161,
          43.3591595,
          43.37757,
          43.3626809,
          43.3590175,
          43.3395826,
          43.3544246,
          43.3613346,
          43.3566771,
          43.3525674,
          43.3639584,
          43.3594895,
          43.3690057,
          43.3767183,
          43.3631215,
          43.335498,
          43.3531177,
          43.3547727,
          43.3717275,
          43.3537872,
          43.357712,
          43.3597381,
          43.3461233,
          43.3808744,
          43.3793887,
          43.370326,
          43.3402798,
          43.3825289,
          43.3717789,
          43.366289,
          43.375229,
          43.3741864,
          43.3654248,
          43.3398408,
          43.3552964,
          43.3848936,
          43.3553584,
          43.3548546,
          43.3399383,
          43.3400168,
          43.3464471,
          43.3451471,
          43.3634191,
          43.3479622,
          43.3379156,
          43.3574271,
          43.3600334,
          43.3604334,
          43.3602083,
          43.3363616,
          43.3483458,
          43.3731356,
          43.3464471,
          43.3519843,
          43.3605476,
          43.3591113,
          43.359393,
          43.3762533,
          43.346492,
          43.3729143,
          43.3796247,
          43.3717993,
          43.3622553,
          43.3612759,
          43.3534118,
          43.3509031,
          43.373987,
          43.3596393,
          43.3730348,
          43.3355735,
          43.3806291,
          43.358944,
          43.3617759,
          43.352099,
          43.3623346,
          43.3643345,
          43.3730309,
          43.3431379,
          43.3518303,
          43.3654974,
          43.3410766,
          43.3531728,
          43.364315,
          43.3542583,
          43.3471558,
          43.3376668,
          43.353516,
          43.3521662,
          43.3596931,
          43.3654158,
          43.3545497,
          43.3733794,
          43.351198,
          43.3759873,
          43.3570844,
          43.3589283,
          43.3518442,
          43.3607435,
          43.38043,
          43.357061,
          43.3361902,
          43.35234,
          43.3672122,
          43.3706505,
          43.3584488,
          43.3510559,
          43.3599301,
          43.3665863,
          43.3408848,
          43.3673921,
          43.3683492,
          43.36964,
          43.3559309,
          43.3559309,
          43.3536993,
          43.3704568,
          43.3604762,
          43.3723855,
          43.3552861,
          43.3497277,
          43.338118,
          43.3604728,
          43.3620123,
          43.3703576,
          43.3513484,
          43.3406209,
          43.3571229,
          43.3547752,
          43.3630161,
          43.3724788,
          43.3583785,
          43.38113,
          43.3524278,
          43.3463138,
          43.3614301,
          43.3600811,
          43.3438171,
          43.3486672,
          43.3583346,
          43.3760699,
          43.3683365,
          43.3683365,
          43.3598713,
          43.3568738,
          43.3554886,
          43.3550208,
          43.3484473,
          43.3464627,
          43.3463776,
          43.3606714,
          43.3531254,
          43.3600739,
          43.3806069,
          43.3747989,
          43.3599717,
          43.3352237,
          43.3534733,
          43.3383944,
          43.3585195,
          43.3724476,
          43.3458399,
          43.3450901,
          43.3458399,
          43.3458399,
          43.3458399,
          43.3450901,
          43.3458399,
          43.3458399,
          43.3458399,
          43.3458399,
          43.3458399,
          43.3458399,
          43.3458399,
          43.3458399,
          43.3450901,
          43.3458399,
          43.3458399,
          43.3458399,
          43.3458399,
          43.3458399,
          43.3458399,
          43.3458399,
          43.338675,
          43.338675,
          43.338675,
          43.351068,
          43.3681176,
          43.3522722,
          43.3457258,
          43.370245,
          43.3585538,
          43.3585538,
          43.3557944,
          43.3556275,
          43.377355,
          43.3403294,
          43.3625558,
          43.3352237,
          43.370719,
          43.3481752,
          43.3803385,
          43.3539564,
          43.359921,
          43.3587789,
          43.3549618,
          43.3550859,
          43.3573491,
          43.3726041,
          43.3525472,
          43.3567461,
          43.3787367,
          43.3591564,
          43.359022,
          43.3549641,
          43.3557944,
          43.3728011,
          43.3581518,
          43.3599266,
          43.3483116,
          43.3804142,
          43.3508632,
          43.3617214,
          43.3612975,
          43.3517947,
          43.3484704,
          43.3740675,
          43.3472921,
          43.3472921,
          43.3341491,
          43.3472921,
          43.3472921,
          43.3587043,
          43.3558092,
          43.3546274,
          43.3628699,
          43.3536445,
          43.3623829,
          43.3352237,
          43.37117,
          43.342338,
          43.3352237
         ],
         "legendgroup": "",
         "lon": [
          -8.3934184,
          -8.39093,
          -8.4062608,
          -8.4091615,
          -8.4066074,
          -8.4137038,
          -8.4218823,
          -8.4079176,
          -8.3999536,
          -8.40243,
          -8.38883,
          -8.38903,
          -8.4010604,
          -8.4088036,
          -8.4045889,
          -8.3925863,
          -8.4080804,
          -8.4031807,
          -8.4095784,
          -8.4120078,
          -8.421465,
          -8.4060353,
          -8.3706118,
          -8.3925863,
          -8.4012137,
          -8.3932341,
          -8.4259343,
          -8.4193051,
          -8.3999158,
          -8.4118332,
          -8.4083474,
          -8.4235527,
          -8.4191612,
          -8.4010427,
          -8.396276,
          -8.3958421,
          -8.3889009,
          -8.4103957,
          -8.4180226,
          -8.3995363,
          -8.3990268,
          -8.4057928,
          -8.409076,
          -8.3961404,
          -8.4113689,
          -8.4218343,
          -8.4133764,
          -8.4017023,
          -8.4104674,
          -8.4155631,
          -8.4233378,
          -8.4038604,
          -8.4033282,
          -8.4217987,
          -8.4042619,
          -8.3961226,
          -8.417245,
          -8.4148029,
          -8.3930428,
          -8.4078676,
          -8.3931139,
          -8.41337,
          -8.4185949,
          -8.4201099,
          -8.4105036,
          -8.4134836,
          -8.4108853,
          -8.4001309,
          -8.4004692,
          -8.4148734,
          -8.3963719,
          -8.4032624,
          -8.4121044,
          -8.4155868,
          -8.4001786,
          -8.407673,
          -8.4104832,
          -8.4191985,
          -8.419716,
          -8.3986331,
          -8.4140453,
          -8.4088863,
          -8.4112371,
          -8.4077357,
          -8.4062689,
          -8.408542,
          -8.4206713,
          -8.4350659,
          -8.3998426,
          -8.3995286,
          -8.4007203,
          -8.3894019,
          -8.4174395,
          -8.39113,
          -8.4195117,
          -8.4159165,
          -8.4148734,
          -8.4086126,
          -8.3967728,
          -8.4356851,
          -8.4002179,
          -8.4077244,
          -8.3987437,
          -8.4122014,
          -8.4088129,
          -8.419943,
          -8.4201739,
          -8.4220398,
          -8.4007159,
          -8.4167555,
          -8.3999329,
          -8.419686,
          -8.412213,
          -8.408715,
          -8.3893568,
          -8.4104,
          -8.4034368,
          -8.4227988,
          -8.4273718,
          -8.4161103,
          -8.3991033,
          -8.4015983,
          -8.4126218,
          -8.4188936,
          -8.4177137,
          -8.4184225,
          -8.3985322,
          -8.3973588,
          -8.4054432,
          -8.3988899,
          -8.4296443,
          -8.3995987,
          -8.4215682,
          -8.3966361,
          -8.4046994,
          -8.4153095,
          -8.3700225,
          -8.4214721,
          -8.419463,
          -8.4134539,
          -8.3974928,
          -8.4089548,
          -8.3902367,
          -8.3927353,
          -8.3925341,
          -8.3953095,
          -8.4095275,
          -8.3912813,
          -8.4080544,
          -8.3985324,
          -8.4178228,
          -8.4025884,
          -8.4026177,
          -8.3976304,
          -8.4180368,
          -8.3977921,
          -8.4200147,
          -8.4100998,
          -8.4164951,
          -8.4000993,
          -8.4236988,
          -8.3980797,
          -8.4132081,
          -8.4252662,
          -8.4077367,
          -8.4059008,
          -8.3935881,
          -8.3892523,
          -8.4047696,
          -8.3974977,
          -8.4059754,
          -8.4185959,
          -8.4164442,
          -8.3988188,
          -8.4037,
          -8.4073785,
          -8.4074419,
          -8.4090983,
          -8.4166015,
          -8.3983724,
          -8.4095929,
          -8.3977036,
          -8.3943741,
          -8.4099374,
          -8.405719,
          -8.4106783,
          -8.4022769,
          -8.3984221,
          -8.4013758,
          -8.4111135,
          -8.4119756,
          -8.3972874,
          -8.4131648,
          -8.4230156,
          -8.3952022,
          -8.4083342,
          -8.3885633,
          -8.4334954,
          -8.4079909,
          -8.4459838,
          -8.4000815,
          -8.4113483,
          -8.4036993,
          -8.3745693,
          -8.4338224,
          -8.4245143,
          -8.43055,
          -8.4075861,
          -8.3901426,
          -8.4084156,
          -8.4022543,
          -8.3984296,
          -8.374476,
          -8.4145295,
          -8.4041404,
          -8.4260216,
          -8.4005234,
          -8.3902564,
          -8.4152509,
          -8.3969767,
          -8.4015493,
          -8.400566,
          -8.4114965,
          -8.4055674,
          -8.3795963,
          -8.3976736,
          -8.3959195,
          -8.411547,
          -8.4158095,
          -8.38993,
          -8.3902564,
          -8.4063365,
          -8.4119143,
          -8.4093597,
          -8.3981457,
          -8.388315,
          -8.4106375,
          -8.3993177,
          -8.4100931,
          -8.4101522,
          -8.4000095,
          -8.4118688,
          -8.3981719,
          -8.4135189,
          -8.3976715,
          -8.413433,
          -8.4094877,
          -8.397521,
          -8.4069042,
          -8.3978537,
          -8.4020565,
          -8.4069042,
          -8.397502,
          -8.3954447,
          -8.4086351,
          -8.4014629,
          -8.4004979,
          -8.4118552,
          -8.3909911,
          -8.4285958,
          -8.3956952,
          -8.3982663,
          -8.3982663,
          -8.3982663,
          -8.4077077,
          -8.4197289,
          -8.4180368,
          -8.4344011,
          -8.4074413,
          -8.4300458,
          -8.4018438,
          -8.3965852,
          -8.4299647,
          -8.408223,
          -8.3875123,
          -8.3972154,
          -8.3988036,
          -8.3987533,
          -8.3948056,
          -8.3962619,
          -8.4154691,
          -8.4019505,
          -8.4035753,
          -8.3931328,
          -8.3892367,
          -8.3888388,
          -8.4213737,
          -8.4026517,
          -8.4109434,
          -8.4029604,
          -8.3969107,
          -8.3965353,
          -8.399302,
          -8.4192937,
          -8.4184881,
          -8.3950318,
          -8.4175359,
          -8.4010103,
          -8.3992238,
          -8.3950103,
          -8.3992238,
          -8.3996764,
          -8.4010103,
          -8.4043017,
          -8.4135364,
          -8.4082352,
          -8.3972626,
          -8.4170226,
          -8.4174413,
          -8.4038963,
          -8.393623,
          -8.4167457,
          -8.4067984,
          -8.4185635,
          -8.3964367,
          -8.4122038,
          -8.4091062,
          -8.4126931,
          -8.3991847,
          -8.4188222,
          -8.414492,
          -8.4037138,
          -8.4035521,
          -8.3992931,
          -8.4181086,
          -8.4106212,
          -8.4150577,
          -8.4073093,
          -8.403843,
          -8.418067,
          -8.4066451,
          -8.4098802,
          -8.4112548,
          -8.4110082,
          -8.4139102,
          -8.4320549,
          -8.3972623,
          -8.4142486,
          -8.4187183,
          -8.4049664,
          -8.408958,
          -8.3959195,
          -8.394631,
          -8.397276,
          -8.4050042,
          -8.4033221,
          -8.4090908,
          -8.4177082,
          -8.4137949,
          -8.4086886,
          -8.3369771,
          -8.3922309,
          -8.4177082,
          -8.420742,
          -8.3980594,
          -8.4071353,
          -8.4071098,
          -8.4124899,
          -8.4124899,
          -8.4124899,
          -8.4124899,
          -8.4124899,
          -8.4112456,
          -8.4330515,
          -8.4141257,
          -8.3910447,
          -8.4220591,
          -8.4206919,
          -8.3930874,
          -8.3968198,
          -8.4098879,
          -8.4243317,
          -8.3956622,
          -8.4203101,
          -8.4135392,
          -8.4137542,
          -8.4160855,
          -8.4082055,
          -8.3888458,
          -8.3992549,
          -8.3975056,
          -8.4026201,
          -8.4325136,
          -8.4243171,
          -8.3962776,
          -8.4215001,
          -8.4137847,
          -8.4178114,
          -8.4141384,
          -8.4037865,
          -8.4032056,
          -8.4111957,
          -8.4110281,
          -8.3967539,
          -8.4203993,
          -8.4158287,
          -8.3934744,
          -8.4182098,
          -8.4315055,
          -8.4141504,
          -8.4303908,
          -8.4117871,
          -8.4141504,
          -8.3949051,
          -8.4212168,
          -8.4045232,
          -8.4140306,
          -8.3879312,
          -8.3697733,
          -8.3955679,
          -8.4024179,
          -8.4121106,
          -8.3959578,
          -8.4196076,
          -8.3692677,
          -8.413582,
          -8.4074502,
          -8.4106228,
          -8.3941381,
          -8.4168735,
          -8.3892504,
          -8.41051,
          -8.4030387,
          -8.4072896,
          -8.4217938,
          -8.390249,
          -8.4152651,
          -8.4020016,
          -8.3978956,
          -8.4163835,
          -8.3988153,
          -8.4332043,
          -8.4189934,
          -8.4012259,
          -8.4133535,
          -8.4058742,
          -8.4218278,
          -8.4114382,
          -8.4066355,
          -8.4198568,
          -8.4280401,
          -8.3936709,
          -8.4451755,
          -8.4191968,
          -8.3944891,
          -8.401679,
          -8.3985655,
          -8.3985132,
          -8.3982854,
          -8.4168952,
          -8.3982854,
          -8.3944891,
          -8.4304108,
          -8.3936709,
          -8.391762,
          -8.4008547,
          -8.3967177,
          -8.3916654,
          -8.4160992,
          -8.4019759,
          -8.4110288,
          -8.4065999,
          -8.4167949,
          -8.4096402,
          -8.3736516,
          -8.394132,
          -8.4058911,
          -8.4129825,
          -8.3984601,
          -8.420765,
          -8.4169582,
          -8.4319171,
          -8.3955316,
          -8.420571,
          -8.3757636,
          -8.4070742,
          -8.3981301,
          -8.3954706,
          -8.411775,
          -8.4094327,
          -8.4056352,
          -8.4116319,
          -8.3385804,
          -8.3987485,
          -8.392779,
          -8.404161,
          -8.4069325,
          -8.4184255,
          -8.4322018,
          -8.3967293,
          -8.3989038,
          -8.4203992,
          -8.3766387,
          -8.4053005,
          -8.3939951,
          -8.3939568,
          -8.3985976,
          -8.4146992,
          -8.4117464,
          -8.4180535,
          -8.4183958,
          -8.424232,
          -8.4157965,
          -8.3739132,
          -8.3982959,
          -8.4119783,
          -8.4107783,
          -8.419833,
          -8.3750727,
          -8.4452245,
          -8.4044287,
          -8.4180535,
          -8.4123031,
          -8.4204565,
          -8.4104001,
          -8.418243,
          -8.3981345,
          -8.3990281,
          -8.3952059,
          -8.4010418,
          -8.3945148,
          -8.4191598,
          -8.4230389,
          -8.4100384,
          -8.3994445,
          -8.3956352,
          -8.4109339,
          -8.3965503,
          -8.4083475,
          -8.4006501,
          -8.4071589,
          -8.4222389,
          -8.3917379,
          -8.4173515,
          -8.422322,
          -8.3953108,
          -8.4006757,
          -8.388273,
          -8.4214271,
          -8.4037997,
          -8.4142912,
          -8.4202879,
          -8.4096631,
          -8.4177331,
          -8.4111905,
          -8.4168618,
          -8.4093198,
          -8.4167978,
          -8.4229379,
          -8.4143009,
          -8.3947264,
          -8.3887299,
          -8.3996134,
          -8.4185572,
          -8.415545,
          -8.4154255,
          -8.4095068,
          -8.4055699,
          -8.3981837,
          -8.3739162,
          -8.4092853,
          -8.4334497,
          -8.4024706,
          -8.4157863,
          -8.4027318,
          -8.4159734,
          -8.4225947,
          -8.4171233,
          -8.4122159,
          -8.430086,
          -8.4044304,
          -8.4149695,
          -8.4149695,
          -8.3900269,
          -8.4051761,
          -8.4067597,
          -8.4005074,
          -8.3924351,
          -8.3999148,
          -8.375576,
          -8.40746,
          -8.4190949,
          -8.3984589,
          -8.4136761,
          -8.4060052,
          -8.4166922,
          -8.3948607,
          -8.4084157,
          -8.427435,
          -8.4097077,
          -8.4062699,
          -8.4047118,
          -8.4176863,
          -8.4148734,
          -8.4164874,
          -8.3922866,
          -8.3901884,
          -8.4001974,
          -8.4249808,
          -8.4197678,
          -8.4197678,
          -8.4214778,
          -8.4014558,
          -8.4027587,
          -8.4133462,
          -8.401356,
          -8.4175182,
          -8.4176099,
          -8.4097764,
          -8.3956975,
          -8.4200212,
          -8.4030654,
          -8.3991184,
          -8.4074948,
          -8.409246,
          -8.3935852,
          -8.412928,
          -8.4199321,
          -8.4324446,
          -8.3982663,
          -8.3934634,
          -8.3982663,
          -8.3982663,
          -8.3982663,
          -8.3934634,
          -8.3982663,
          -8.3982663,
          -8.3982663,
          -8.3982663,
          -8.3982663,
          -8.3982663,
          -8.3982663,
          -8.3982663,
          -8.3934634,
          -8.3982663,
          -8.3982663,
          -8.3982663,
          -8.3982663,
          -8.3982663,
          -8.3982663,
          -8.3982663,
          -8.4094613,
          -8.4094613,
          -8.4094613,
          -8.3961674,
          -8.431943,
          -8.3929908,
          -8.4109434,
          -8.4287996,
          -8.4091441,
          -8.4091441,
          -8.4158095,
          -8.4159098,
          -8.4082042,
          -8.4126976,
          -8.4202002,
          -8.409246,
          -8.3942306,
          -8.4080985,
          -8.4049637,
          -8.3982153,
          -8.4133689,
          -8.4200012,
          -8.3943763,
          -8.4091288,
          -8.3998012,
          -8.4198913,
          -8.4096123,
          -8.400256,
          -8.4062213,
          -8.4181138,
          -8.4239419,
          -8.4141549,
          -8.4158095,
          -8.4258839,
          -8.4011539,
          -8.4110735,
          -8.4099915,
          -8.4036669,
          -8.392815,
          -8.4180135,
          -8.4175023,
          -8.3932012,
          -8.4454778,
          -8.4235633,
          -8.3909908,
          -8.3909908,
          -8.390444,
          -8.3909908,
          -8.3909908,
          -8.417456,
          -8.3959509,
          -8.412009,
          -8.4186151,
          -8.3947788,
          -8.4205874,
          -8.409246,
          -8.4177,
          -8.393334,
          -8.409246
         ],
         "marker": {
          "color": [
           1591,
           2589,
           2000,
           2000,
           2625,
           647,
           2179,
           2235,
           2326,
           1350,
           2000,
           2130,
           1565,
           2244,
           561,
           2143,
           2529,
           561,
           2341,
           2341,
           1389,
           2200,
           3467,
           1831,
           2050,
           1591,
           1625,
           1453,
           2587,
           2000,
           2000,
           2700,
           1250,
           1941,
           1193,
           1892,
           2077,
           1667,
           1875,
           1484,
           1484,
           2049,
           1320,
           3274,
           2984,
           1357,
           2467,
           1565,
           2467,
           1853,
           2059,
           1495,
           1510,
           1125,
           1661,
           1750,
           1193,
           2895,
           2198,
           2647,
           1473,
           2318,
           1846,
           2857,
           1817,
           2895,
           1693,
           2200,
           1391,
           2911,
           2591,
           2316,
           2352,
           2911,
           3151,
           1656,
           2352,
           1600,
           1412,
           2452,
           1793,
           1587,
           1667,
           2200,
           2313,
           2615,
           1333,
           2917,
           2283,
           2452,
           2500,
           1281,
           1095,
           2169,
           1412,
           1923,
           2620,
           2092,
           3041,
           2813,
           2360,
           3836,
           3041,
           2546,
           2092,
           1579,
           1922,
           1480,
           3105,
           2374,
           1515,
           1703,
           2349,
           1522,
           2532,
           2500,
           2750,
           2594,
           1857,
           2191,
           3041,
           2467,
           1855,
           1623,
           1762,
           2640,
           2436,
           2417,
           3000,
           2455,
           2418,
           2819,
           1529,
           2243,
           1714,
           2814,
           3958,
           1714,
           2250,
           2600,
           2080,
           1500,
           1797,
           2545,
           1190,
           1837,
           2438,
           1692,
           1922,
           2554,
           1244,
           2661,
           2584,
           2752,
           2590,
           1957,
           2000,
           1909,
           2611,
           2819,
           2429,
           2400,
           1895,
           1690,
           2390,
           2697,
           2657,
           2169,
           2155,
           2308,
           1636,
           1529,
           1350,
           1922,
           2475,
           2810,
           1908,
           2250,
           2789,
           2602,
           1680,
           1967,
           2427,
           2523,
           2600,
           2317,
           3683,
           2021,
           1495,
           1034,
           2453,
           1789,
           2200,
           3090,
           1922,
           1989,
           1050,
           1859,
           1677,
           1386,
           2459,
           2436,
           2070,
           1278,
           1231,
           3049,
           3271,
           1572,
           1755,
           1849,
           1274,
           2500,
           2095,
           3857,
           3390,
           3051,
           1433,
           2224,
           1327,
           1922,
           2819,
           2819,
           2451,
           2387,
           2095,
           2938,
           1078,
           1466,
           2320,
           2000,
           2224,
           2837,
           1733,
           1733,
           1160,
           2329,
           2706,
           1524,
           2737,
           2737,
           2500,
           1643,
           2591,
           1988,
           2487,
           2602,
           1991,
           1837,
           1572,
           1957,
           3518,
           1572,
           1206,
           1282,
           1824,
           1729,
           3091,
           3115,
           1692,
           3462,
           2826,
           2088,
           1698,
           1652,
           2706,
           1718,
           1895,
           2048,
           1312,
           2358,
           1267,
           2021,
           2350,
           2529,
           2619,
           3500,
           2021,
           2963,
           1803,
           2261,
           3085,
           1167,
           2475,
           1692,
           2190,
           1855,
           2316,
           1267,
           1615,
           1459,
           1837,
           3901,
           2095,
           1869,
           1792,
           2585,
           3944,
           1286,
           2688,
           2427,
           2688,
           2819,
           1286,
           3750,
           1930,
           1893,
           1206,
           1974,
           1754,
           2478,
           1625,
           2382,
           2552,
           2250,
           1232,
           1804,
           1885,
           1731,
           2632,
           3305,
           2105,
           3833,
           2088,
           2345,
           1759,
           3105,
           2885,
           2424,
           3092,
           2686,
           2563,
           2438,
           2143,
           2078,
           2273,
           2375,
           2340,
           2208,
           3613,
           2177,
           3524,
           1183,
           1719,
           1206,
           1538,
           2375,
           1769,
           3944,
           1757,
           1783,
           4196,
           565,
           3944,
           2000,
           2950,
           1746,
           2474,
           2681,
           3855,
           2539,
           2579,
           2500,
           2011,
           2526,
           2200,
           1308,
           2019,
           2908,
           1692,
           955,
           2813,
           3526,
           955,
           2159,
           2926,
           2467,
           2206,
           3231,
           1190,
           2769,
           2804,
           2899,
           2180,
           2591,
           2427,
           2667,
           850,
           2231,
           2190,
           3564,
           2430,
           1466,
           2933,
           2092,
           1215,
           1778,
           1012,
           1970,
           2358,
           2814,
           2000,
           4286,
           2814,
           2323,
           1831,
           3308,
           2486,
           1889,
           3526,
           2804,
           3046,
           2011,
           2155,
           1684,
           7500,
           3338,
           3071,
           2151,
           1529,
           2439,
           2086,
           2432,
           2432,
           2175,
           2639,
           2397,
           1250,
           1961,
           2458,
           1739,
           2132,
           2398,
           1696,
           2075,
           1979,
           1922,
           1293,
           3250,
           2986,
           1686,
           2023,
           1692,
           1456,
           1549,
           3090,
           2393,
           1735,
           2571,
           2143,
           1935,
           2143,
           3090,
           1522,
           1692,
           1955,
           3364,
           2252,
           1190,
           3357,
           2261,
           1864,
           1965,
           3145,
           1849,
           2348,
           2632,
           2874,
           2034,
           2021,
           2909,
           2759,
           2358,
           1957,
           2088,
           1492,
           2311,
           2411,
           3010,
           1639,
           1646,
           1536,
           1810,
           2475,
           3235,
           3000,
           2430,
           2198,
           2426,
           1987,
           1846,
           3300,
           1500,
           2095,
           1913,
           3284,
           3273,
           1987,
           1134,
           2200,
           1633,
           1601,
           978,
           1716,
           1622,
           1913,
           2162,
           2134,
           1250,
           2095,
           1000,
           3476,
           1633,
           1111,
           2244,
           1615,
           1261,
           1957,
           1478,
           2545,
           2670,
           2814,
           1797,
           1908,
           2935,
           2778,
           3560,
           1929,
           2769,
           3971,
           1923,
           1500,
           2048,
           1190,
           2507,
           2361,
           2662,
           1167,
           1322,
           1357,
           2679,
           833,
           652,
           1041,
           1871,
           2200,
           3705,
           1833,
           1880,
           1333,
           2344,
           2000,
           1535,
           2817,
           2549,
           2471,
           1111,
           2059,
           2638,
           2455,
           1938,
           1950,
           2013,
           4706,
           1760,
           1610,
           2684,
           1250,
           1613,
           4385,
           2358,
           1965,
           2000,
           2101,
           3333,
           2329,
           1746,
           2723,
           2101,
           2034,
           2348,
           1974,
           1595,
           2769,
           1793,
           2418,
           2686,
           2427,
           2706,
           2800,
           1889,
           2175,
           1767,
           1718,
           2407,
           2382,
           2522,
           2053,
           2354,
           2600,
           3500,
           3500,
           1488,
           1869,
           2556,
           1839,
           792,
           1792,
           1751,
           2769,
           2427,
           1817,
           1150,
           3808,
           1598,
           1690,
           3391,
           500,
           1988,
           2664,
           2257,
           1875,
           2384,
           1980,
           2467,
           2344,
           1849,
           1951,
           2016,
           2349,
           2063,
           1799,
           2188,
           1919,
           3105,
           2206,
           2049,
           2250,
           2151,
           2380,
           2119,
           2127,
           2162,
           2181,
           2185,
           2021,
           1824,
           1781,
           1680,
           2358,
           2019,
           2019,
           2711,
           2814,
           1572,
           2317,
           1688,
           1845,
           2826,
           1264,
           2174,
           2632,
           1849,
           2987,
           955,
           2438,
           2819,
           3524,
           1393,
           2455,
           1530,
           1461,
           1791,
           1419,
           2686,
           2222,
           2602,
           2706,
           2045,
           3113,
           1190,
           2504,
           2586,
           1000,
           1563,
           2453,
           2619,
           2846,
           2154,
           2841,
           3736,
           1686,
           2551,
           1466,
           1439,
           3391,
           1622,
           2228,
           2978,
           2188,
           2297
          ],
          "coloraxis": "coloraxis",
          "size": [
           4,
           1,
           2,
           2,
           2,
           3,
           3,
           2,
           4,
           3,
           3,
           3,
           5,
           2,
           2,
           2,
           3,
           3,
           4,
           4,
           4,
           3,
           2,
           1,
           3,
           3,
           2,
           3,
           2,
           4,
           4,
           2,
           3,
           3,
           3,
           4,
           2,
           3,
           2,
           4,
           4,
           2,
           3,
           3,
           2,
           3,
           2,
           5,
           2,
           3,
           4,
           5,
           5,
           3,
           5,
           3,
           3,
           1,
           2,
           3,
           2,
           3,
           3,
           2,
           3,
           1,
           3,
           4,
           4,
           1,
           3,
           3,
           2,
           1,
           2,
           3,
           2,
           3,
           3,
           2,
           2,
           4,
           3,
           2,
           2,
           3,
           3,
           1,
           3,
           2,
           2,
           4,
           4,
           2,
           3,
           4,
           2,
           4,
           3,
           2,
           3,
           2,
           3,
           4,
           4,
           4,
           2,
           4,
           3,
           2,
           3,
           3,
           4,
           3,
           2,
           3,
           2,
           4,
           3,
           3,
           3,
           2,
           2,
           3,
           3,
           2,
           3,
           3,
           2,
           3,
           3,
           3,
           3,
           3,
           0,
           2,
           2,
           2,
           2,
           3,
           3,
           2,
           3,
           2,
           3,
           2,
           3,
           1,
           2,
           2,
           3,
           1,
           3,
           4,
           3,
           2,
           2,
           4,
           3,
           3,
           2,
           3,
           3,
           3,
           3,
           2,
           2,
           2,
           2,
           3,
           4,
           3,
           3,
           4,
           2,
           3,
           4,
           3,
           2,
           3,
           4,
           3,
           3,
           4,
           3,
           3,
           3,
           3,
           3,
           3,
           3,
           3,
           3,
           3,
           3,
           3,
           3,
           2,
           2,
           2,
           1,
           3,
           4,
           5,
           2,
           2,
           2,
           6,
           3,
           2,
           0,
           1,
           2,
           2,
           2,
           1,
           3,
           2,
           2,
           4,
           3,
           3,
           2,
           4,
           2,
           3,
           2,
           2,
           3,
           3,
           2,
           2,
           2,
           2,
           4,
           2,
           3,
           3,
           3,
           3,
           1,
           2,
           3,
           5,
           1,
           3,
           4,
           2,
           8,
           2,
           2,
           8,
           4,
           2,
           3,
           4,
           1,
           3,
           1,
           1,
           2,
           1,
           2,
           3,
           3,
           3,
           2,
           4,
           3,
           1,
           3,
           3,
           2,
           2,
           2,
           1,
           3,
           1,
           4,
           3,
           2,
           5,
           2,
           0,
           3,
           2,
           2,
           3,
           4,
           4,
           2,
           2,
           2,
           3,
           1,
           2,
           2,
           5,
           1,
           3,
           1,
           3,
           5,
           2,
           2,
           3,
           2,
           2,
           2,
           5,
           3,
           1,
           4,
           4,
           5,
           2,
           3,
           2,
           1,
           2,
           2,
           1,
           4,
           1,
           1,
           3,
           3,
           3,
           2,
           1,
           3,
           3,
           2,
           2,
           2,
           3,
           1,
           2,
           2,
           2,
           1,
           2,
           4,
           5,
           4,
           2,
           3,
           2,
           2,
           3,
           2,
           2,
           2,
           4,
           3,
           3,
           2,
           3,
           2,
           3,
           3,
           3,
           2,
           2,
           3,
           3,
           4,
           2,
           2,
           3,
           2,
           2,
           4,
           1,
           1,
           2,
           3,
           3,
           3,
           2,
           3,
           3,
           3,
           3,
           3,
           2,
           2,
           3,
           1,
           1,
           2,
           2,
           3,
           3,
           2,
           3,
           3,
           2,
           1,
           2,
           2,
           2,
           2,
           3,
           4,
           1,
           2,
           3,
           2,
           3,
           3,
           2,
           3,
           2,
           2,
           2,
           1,
           4,
           3,
           3,
           3,
           3,
           3,
           2,
           4,
           2,
           3,
           2,
           4,
           2,
           2,
           4,
           2,
           2,
           3,
           2,
           2,
           2,
           1,
           2,
           3,
           2,
           3,
           2,
           3,
           3,
           3,
           2,
           3,
           4,
           3,
           3,
           3,
           2,
           3,
           2,
           3,
           3,
           2,
           3,
           0,
           6,
           1,
           2,
           2,
           1,
           2,
           1,
           3,
           2,
           2,
           1,
           2,
           2,
           3,
           3,
           3,
           1,
           2,
           3,
           4,
           4,
           3,
           3,
           1,
           2,
           2,
           5,
           2,
           2,
           2,
           2,
           2,
           4,
           2,
           1,
           3,
           3,
           3,
           2,
           2,
           3,
           2,
           3,
           3,
           1,
           1,
           4,
           2,
           2,
           2,
           2,
           3,
           4,
           2,
           3,
           2,
           3,
           2,
           3,
           3,
           3,
           3,
           1,
           1,
           1,
           2,
           2,
           1,
           2,
           3,
           3,
           3,
           2,
           3,
           2,
           5,
           4,
           3,
           2,
           3,
           4,
           5,
           2,
           3,
           2,
           3,
           1,
           2,
           2,
           3,
           4,
           2,
           2,
           3,
           4,
           2,
           2,
           3,
           2,
           3,
           2,
           2,
           3,
           6,
           2,
           2,
           2,
           1,
           1,
           2,
           2,
           3,
           2,
           3,
           4,
           3,
           3,
           4,
           2,
           4,
           4,
           2,
           2,
           3,
           3,
           3,
           3,
           2,
           4,
           2,
           6,
           2,
           2,
           1,
           2,
           2,
           3,
           2,
           2,
           2,
           2,
           5,
           3,
           3,
           3,
           1,
           2,
           2,
           3,
           4,
           3,
           2,
           3,
           3,
           1,
           3,
           3,
           3,
           2,
           3,
           1,
           2,
           2,
           3,
           3,
           2,
           2,
           2,
           3,
           2,
           2,
           2,
           1,
           2,
           2,
           3,
           2,
           3,
           2,
           2,
           3,
           3,
           3,
           3,
           2,
           3,
           4,
           1,
           4,
           4,
           2,
           2,
           6,
           2,
           3,
           3,
           2,
           3,
           3,
           1,
           2,
           2,
           4,
           3,
           3,
           2,
           0,
           3,
           6,
           2,
           2,
           2,
           3,
           2,
           3,
           3,
           4,
           2,
           3,
           4,
           2,
           3,
           2,
           2,
           2,
           3,
           2,
           2,
           1,
           2,
           4,
           2,
           2,
           2,
           4,
           2,
           2,
           2,
           2
          ],
          "sizemode": "area",
          "sizeref": 0.02
         },
         "mode": "markers",
         "name": "",
         "showlegend": false,
         "subplot": "mapbox",
         "type": "scattermapbox"
        }
       ],
       "layout": {
        "coloraxis": {
         "colorbar": {
          "title": {
           "text": "priceByArea"
          }
         },
         "colorscale": [
          [
           0,
           "blue"
          ],
          [
           1,
           "red"
          ]
         ]
        },
        "height": 800,
        "legend": {
         "itemsizing": "constant",
         "tracegroupgap": 0
        },
        "mapbox": {
         "center": {
          "lat": 43.357760764000005,
          "lon": -8.406866231285688
         },
         "domain": {
          "x": [
           0,
           1
          ],
          "y": [
           0,
           1
          ]
         },
         "style": "carto-positron",
         "zoom": 13
        },
        "margin": {
         "b": 0,
         "l": 0,
         "r": 0,
         "t": 0
        },
        "template": {
         "data": {
          "bar": [
           {
            "error_x": {
             "color": "#2a3f5f"
            },
            "error_y": {
             "color": "#2a3f5f"
            },
            "marker": {
             "line": {
              "color": "#E5ECF6",
              "width": 0.5
             },
             "pattern": {
              "fillmode": "overlay",
              "size": 10,
              "solidity": 0.2
             }
            },
            "type": "bar"
           }
          ],
          "barpolar": [
           {
            "marker": {
             "line": {
              "color": "#E5ECF6",
              "width": 0.5
             },
             "pattern": {
              "fillmode": "overlay",
              "size": 10,
              "solidity": 0.2
             }
            },
            "type": "barpolar"
           }
          ],
          "carpet": [
           {
            "aaxis": {
             "endlinecolor": "#2a3f5f",
             "gridcolor": "white",
             "linecolor": "white",
             "minorgridcolor": "white",
             "startlinecolor": "#2a3f5f"
            },
            "baxis": {
             "endlinecolor": "#2a3f5f",
             "gridcolor": "white",
             "linecolor": "white",
             "minorgridcolor": "white",
             "startlinecolor": "#2a3f5f"
            },
            "type": "carpet"
           }
          ],
          "choropleth": [
           {
            "colorbar": {
             "outlinewidth": 0,
             "ticks": ""
            },
            "type": "choropleth"
           }
          ],
          "contour": [
           {
            "colorbar": {
             "outlinewidth": 0,
             "ticks": ""
            },
            "colorscale": [
             [
              0,
              "#0d0887"
             ],
             [
              0.1111111111111111,
              "#46039f"
             ],
             [
              0.2222222222222222,
              "#7201a8"
             ],
             [
              0.3333333333333333,
              "#9c179e"
             ],
             [
              0.4444444444444444,
              "#bd3786"
             ],
             [
              0.5555555555555556,
              "#d8576b"
             ],
             [
              0.6666666666666666,
              "#ed7953"
             ],
             [
              0.7777777777777778,
              "#fb9f3a"
             ],
             [
              0.8888888888888888,
              "#fdca26"
             ],
             [
              1,
              "#f0f921"
             ]
            ],
            "type": "contour"
           }
          ],
          "contourcarpet": [
           {
            "colorbar": {
             "outlinewidth": 0,
             "ticks": ""
            },
            "type": "contourcarpet"
           }
          ],
          "heatmap": [
           {
            "colorbar": {
             "outlinewidth": 0,
             "ticks": ""
            },
            "colorscale": [
             [
              0,
              "#0d0887"
             ],
             [
              0.1111111111111111,
              "#46039f"
             ],
             [
              0.2222222222222222,
              "#7201a8"
             ],
             [
              0.3333333333333333,
              "#9c179e"
             ],
             [
              0.4444444444444444,
              "#bd3786"
             ],
             [
              0.5555555555555556,
              "#d8576b"
             ],
             [
              0.6666666666666666,
              "#ed7953"
             ],
             [
              0.7777777777777778,
              "#fb9f3a"
             ],
             [
              0.8888888888888888,
              "#fdca26"
             ],
             [
              1,
              "#f0f921"
             ]
            ],
            "type": "heatmap"
           }
          ],
          "heatmapgl": [
           {
            "colorbar": {
             "outlinewidth": 0,
             "ticks": ""
            },
            "colorscale": [
             [
              0,
              "#0d0887"
             ],
             [
              0.1111111111111111,
              "#46039f"
             ],
             [
              0.2222222222222222,
              "#7201a8"
             ],
             [
              0.3333333333333333,
              "#9c179e"
             ],
             [
              0.4444444444444444,
              "#bd3786"
             ],
             [
              0.5555555555555556,
              "#d8576b"
             ],
             [
              0.6666666666666666,
              "#ed7953"
             ],
             [
              0.7777777777777778,
              "#fb9f3a"
             ],
             [
              0.8888888888888888,
              "#fdca26"
             ],
             [
              1,
              "#f0f921"
             ]
            ],
            "type": "heatmapgl"
           }
          ],
          "histogram": [
           {
            "marker": {
             "pattern": {
              "fillmode": "overlay",
              "size": 10,
              "solidity": 0.2
             }
            },
            "type": "histogram"
           }
          ],
          "histogram2d": [
           {
            "colorbar": {
             "outlinewidth": 0,
             "ticks": ""
            },
            "colorscale": [
             [
              0,
              "#0d0887"
             ],
             [
              0.1111111111111111,
              "#46039f"
             ],
             [
              0.2222222222222222,
              "#7201a8"
             ],
             [
              0.3333333333333333,
              "#9c179e"
             ],
             [
              0.4444444444444444,
              "#bd3786"
             ],
             [
              0.5555555555555556,
              "#d8576b"
             ],
             [
              0.6666666666666666,
              "#ed7953"
             ],
             [
              0.7777777777777778,
              "#fb9f3a"
             ],
             [
              0.8888888888888888,
              "#fdca26"
             ],
             [
              1,
              "#f0f921"
             ]
            ],
            "type": "histogram2d"
           }
          ],
          "histogram2dcontour": [
           {
            "colorbar": {
             "outlinewidth": 0,
             "ticks": ""
            },
            "colorscale": [
             [
              0,
              "#0d0887"
             ],
             [
              0.1111111111111111,
              "#46039f"
             ],
             [
              0.2222222222222222,
              "#7201a8"
             ],
             [
              0.3333333333333333,
              "#9c179e"
             ],
             [
              0.4444444444444444,
              "#bd3786"
             ],
             [
              0.5555555555555556,
              "#d8576b"
             ],
             [
              0.6666666666666666,
              "#ed7953"
             ],
             [
              0.7777777777777778,
              "#fb9f3a"
             ],
             [
              0.8888888888888888,
              "#fdca26"
             ],
             [
              1,
              "#f0f921"
             ]
            ],
            "type": "histogram2dcontour"
           }
          ],
          "mesh3d": [
           {
            "colorbar": {
             "outlinewidth": 0,
             "ticks": ""
            },
            "type": "mesh3d"
           }
          ],
          "parcoords": [
           {
            "line": {
             "colorbar": {
              "outlinewidth": 0,
              "ticks": ""
             }
            },
            "type": "parcoords"
           }
          ],
          "pie": [
           {
            "automargin": true,
            "type": "pie"
           }
          ],
          "scatter": [
           {
            "fillpattern": {
             "fillmode": "overlay",
             "size": 10,
             "solidity": 0.2
            },
            "type": "scatter"
           }
          ],
          "scatter3d": [
           {
            "line": {
             "colorbar": {
              "outlinewidth": 0,
              "ticks": ""
             }
            },
            "marker": {
             "colorbar": {
              "outlinewidth": 0,
              "ticks": ""
             }
            },
            "type": "scatter3d"
           }
          ],
          "scattercarpet": [
           {
            "marker": {
             "colorbar": {
              "outlinewidth": 0,
              "ticks": ""
             }
            },
            "type": "scattercarpet"
           }
          ],
          "scattergeo": [
           {
            "marker": {
             "colorbar": {
              "outlinewidth": 0,
              "ticks": ""
             }
            },
            "type": "scattergeo"
           }
          ],
          "scattergl": [
           {
            "marker": {
             "colorbar": {
              "outlinewidth": 0,
              "ticks": ""
             }
            },
            "type": "scattergl"
           }
          ],
          "scattermapbox": [
           {
            "marker": {
             "colorbar": {
              "outlinewidth": 0,
              "ticks": ""
             }
            },
            "type": "scattermapbox"
           }
          ],
          "scatterpolar": [
           {
            "marker": {
             "colorbar": {
              "outlinewidth": 0,
              "ticks": ""
             }
            },
            "type": "scatterpolar"
           }
          ],
          "scatterpolargl": [
           {
            "marker": {
             "colorbar": {
              "outlinewidth": 0,
              "ticks": ""
             }
            },
            "type": "scatterpolargl"
           }
          ],
          "scatterternary": [
           {
            "marker": {
             "colorbar": {
              "outlinewidth": 0,
              "ticks": ""
             }
            },
            "type": "scatterternary"
           }
          ],
          "surface": [
           {
            "colorbar": {
             "outlinewidth": 0,
             "ticks": ""
            },
            "colorscale": [
             [
              0,
              "#0d0887"
             ],
             [
              0.1111111111111111,
              "#46039f"
             ],
             [
              0.2222222222222222,
              "#7201a8"
             ],
             [
              0.3333333333333333,
              "#9c179e"
             ],
             [
              0.4444444444444444,
              "#bd3786"
             ],
             [
              0.5555555555555556,
              "#d8576b"
             ],
             [
              0.6666666666666666,
              "#ed7953"
             ],
             [
              0.7777777777777778,
              "#fb9f3a"
             ],
             [
              0.8888888888888888,
              "#fdca26"
             ],
             [
              1,
              "#f0f921"
             ]
            ],
            "type": "surface"
           }
          ],
          "table": [
           {
            "cells": {
             "fill": {
              "color": "#EBF0F8"
             },
             "line": {
              "color": "white"
             }
            },
            "header": {
             "fill": {
              "color": "#C8D4E3"
             },
             "line": {
              "color": "white"
             }
            },
            "type": "table"
           }
          ]
         },
         "layout": {
          "annotationdefaults": {
           "arrowcolor": "#2a3f5f",
           "arrowhead": 0,
           "arrowwidth": 1
          },
          "autotypenumbers": "strict",
          "coloraxis": {
           "colorbar": {
            "outlinewidth": 0,
            "ticks": ""
           }
          },
          "colorscale": {
           "diverging": [
            [
             0,
             "#8e0152"
            ],
            [
             0.1,
             "#c51b7d"
            ],
            [
             0.2,
             "#de77ae"
            ],
            [
             0.3,
             "#f1b6da"
            ],
            [
             0.4,
             "#fde0ef"
            ],
            [
             0.5,
             "#f7f7f7"
            ],
            [
             0.6,
             "#e6f5d0"
            ],
            [
             0.7,
             "#b8e186"
            ],
            [
             0.8,
             "#7fbc41"
            ],
            [
             0.9,
             "#4d9221"
            ],
            [
             1,
             "#276419"
            ]
           ],
           "sequential": [
            [
             0,
             "#0d0887"
            ],
            [
             0.1111111111111111,
             "#46039f"
            ],
            [
             0.2222222222222222,
             "#7201a8"
            ],
            [
             0.3333333333333333,
             "#9c179e"
            ],
            [
             0.4444444444444444,
             "#bd3786"
            ],
            [
             0.5555555555555556,
             "#d8576b"
            ],
            [
             0.6666666666666666,
             "#ed7953"
            ],
            [
             0.7777777777777778,
             "#fb9f3a"
            ],
            [
             0.8888888888888888,
             "#fdca26"
            ],
            [
             1,
             "#f0f921"
            ]
           ],
           "sequentialminus": [
            [
             0,
             "#0d0887"
            ],
            [
             0.1111111111111111,
             "#46039f"
            ],
            [
             0.2222222222222222,
             "#7201a8"
            ],
            [
             0.3333333333333333,
             "#9c179e"
            ],
            [
             0.4444444444444444,
             "#bd3786"
            ],
            [
             0.5555555555555556,
             "#d8576b"
            ],
            [
             0.6666666666666666,
             "#ed7953"
            ],
            [
             0.7777777777777778,
             "#fb9f3a"
            ],
            [
             0.8888888888888888,
             "#fdca26"
            ],
            [
             1,
             "#f0f921"
            ]
           ]
          },
          "colorway": [
           "#636efa",
           "#EF553B",
           "#00cc96",
           "#ab63fa",
           "#FFA15A",
           "#19d3f3",
           "#FF6692",
           "#B6E880",
           "#FF97FF",
           "#FECB52"
          ],
          "font": {
           "color": "#2a3f5f"
          },
          "geo": {
           "bgcolor": "white",
           "lakecolor": "white",
           "landcolor": "#E5ECF6",
           "showlakes": true,
           "showland": true,
           "subunitcolor": "white"
          },
          "hoverlabel": {
           "align": "left"
          },
          "hovermode": "closest",
          "mapbox": {
           "style": "light"
          },
          "paper_bgcolor": "white",
          "plot_bgcolor": "#E5ECF6",
          "polar": {
           "angularaxis": {
            "gridcolor": "white",
            "linecolor": "white",
            "ticks": ""
           },
           "bgcolor": "#E5ECF6",
           "radialaxis": {
            "gridcolor": "white",
            "linecolor": "white",
            "ticks": ""
           }
          },
          "scene": {
           "xaxis": {
            "backgroundcolor": "#E5ECF6",
            "gridcolor": "white",
            "gridwidth": 2,
            "linecolor": "white",
            "showbackground": true,
            "ticks": "",
            "zerolinecolor": "white"
           },
           "yaxis": {
            "backgroundcolor": "#E5ECF6",
            "gridcolor": "white",
            "gridwidth": 2,
            "linecolor": "white",
            "showbackground": true,
            "ticks": "",
            "zerolinecolor": "white"
           },
           "zaxis": {
            "backgroundcolor": "#E5ECF6",
            "gridcolor": "white",
            "gridwidth": 2,
            "linecolor": "white",
            "showbackground": true,
            "ticks": "",
            "zerolinecolor": "white"
           }
          },
          "shapedefaults": {
           "line": {
            "color": "#2a3f5f"
           }
          },
          "ternary": {
           "aaxis": {
            "gridcolor": "white",
            "linecolor": "white",
            "ticks": ""
           },
           "baxis": {
            "gridcolor": "white",
            "linecolor": "white",
            "ticks": ""
           },
           "bgcolor": "#E5ECF6",
           "caxis": {
            "gridcolor": "white",
            "linecolor": "white",
            "ticks": ""
           }
          },
          "title": {
           "x": 0.05
          },
          "xaxis": {
           "automargin": true,
           "gridcolor": "white",
           "linecolor": "white",
           "ticks": "",
           "title": {
            "standoff": 15
           },
           "zerolinecolor": "white",
           "zerolinewidth": 2
          },
          "yaxis": {
           "automargin": true,
           "gridcolor": "white",
           "linecolor": "white",
           "ticks": "",
           "title": {
            "standoff": 15
           },
           "zerolinecolor": "white",
           "zerolinewidth": 2
          }
         }
        },
        "width": 800
       }
      }
     },
     "metadata": {},
     "output_type": "display_data"
    }
   ],
   "source": [
    "df_temp = df\n",
    "# \n",
    "color_scale = [(0, 'blue'), (1,'red')]\n",
    "fig = px.scatter_mapbox(df_temp, \n",
    "                        lat=\"latitude\", \n",
    "                        lon=\"longitude\", \n",
    "                        hover_name=\"priceByArea\", \n",
    "                        hover_data=[\"priceByArea\",\"price\",\"size\",\"rooms\",\"url\"],\n",
    "                        color=\"priceByArea\",\n",
    "                        color_continuous_scale=color_scale,\n",
    "                        size=\"rooms\",\n",
    "                        zoom=13,\n",
    "                        height=800,\n",
    "                        width=800)\n",
    "# fig.update_layout(mapbox_style=\"open-street-map\")\n",
    "fig.update_layout(mapbox_style=\"carto-positron\") \n",
    "# fig.update_layout(mapbox_style=\"stamen-terrain\")\n",
    "# fig.update_layout(mapbox_style=\"satellite\") -> Need Mapbox API\n",
    "fig.update_layout(margin={\"r\":0,\"t\":0,\"l\":0,\"b\":0})\n",
    "fig.show()"
   ]
  },
  {
   "cell_type": "code",
   "execution_count": 14,
   "metadata": {},
   "outputs": [
    {
     "data": {
      "application/vnd.plotly.v1+json": {
       "config": {
        "plotlyServerURL": "https://plot.ly"
       },
       "data": [
        {
         "customdata": [
          [
           647,
           55000,
           85,
           3,
           "https://www.idealista.com/inmueble/100763565/"
          ],
          [
           1350,
           135000,
           100,
           3,
           "https://www.idealista.com/inmueble/95636332/"
          ],
          [
           561,
           55000,
           98,
           2,
           "https://www.idealista.com/inmueble/98726785/"
          ],
          [
           561,
           55000,
           98,
           3,
           "https://www.idealista.com/inmueble/98726184/"
          ],
          [
           1389,
           169500,
           122,
           4,
           "https://www.idealista.com/inmueble/99892520/"
          ],
          [
           1250,
           115000,
           92,
           3,
           "https://www.idealista.com/inmueble/100767526/"
          ],
          [
           1193,
           99000,
           83,
           3,
           "https://www.idealista.com/inmueble/100184212/"
          ],
          [
           1320,
           99000,
           75,
           3,
           "https://www.idealista.com/inmueble/100811590/"
          ],
          [
           1357,
           95000,
           70,
           3,
           "https://www.idealista.com/inmueble/96575026/"
          ],
          [
           1125,
           90000,
           80,
           3,
           "https://www.idealista.com/inmueble/100404150/"
          ],
          [
           1193,
           210000,
           176,
           3,
           "https://www.idealista.com/inmueble/81650596/"
          ],
          [
           1391,
           185000,
           133,
           4,
           "https://www.idealista.com/inmueble/99485074/"
          ],
          [
           1333,
           120000,
           90,
           3,
           "https://www.idealista.com/inmueble/100361953/"
          ],
          [
           1281,
           155000,
           121,
           4,
           "https://www.idealista.com/inmueble/100721743/"
          ],
          [
           1095,
           173000,
           158,
           4,
           "https://www.idealista.com/inmueble/100683328/"
          ],
          [
           1190,
           119000,
           100,
           3,
           "https://www.idealista.com/inmueble/100342073/"
          ],
          [
           1244,
           93300,
           75,
           3,
           "https://www.idealista.com/inmueble/100076179/"
          ],
          [
           1350,
           108000,
           80,
           3,
           "https://www.idealista.com/inmueble/100586705/"
          ],
          [
           1034,
           84800,
           82,
           3,
           "https://www.idealista.com/inmueble/100423825/"
          ],
          [
           1050,
           105000,
           100,
           3,
           "https://www.idealista.com/inmueble/98348139/"
          ],
          [
           1386,
           97000,
           70,
           2,
           "https://www.idealista.com/inmueble/101040649/"
          ],
          [
           1278,
           230000,
           180,
           5,
           "https://www.idealista.com/inmueble/98723606/"
          ],
          [
           1231,
           80000,
           65,
           2,
           "https://www.idealista.com/inmueble/98775363/"
          ],
          [
           1274,
           270000,
           212,
           0,
           "https://www.idealista.com/inmueble/100497236/"
          ],
          [
           1327,
           130000,
           98,
           2,
           "https://www.idealista.com/inmueble/101061648/"
          ],
          [
           1078,
           110000,
           102,
           2,
           "https://www.idealista.com/inmueble/98619825/"
          ],
          [
           1160,
           145000,
           125,
           4,
           "https://www.idealista.com/inmueble/100421926/"
          ],
          [
           1206,
           170000,
           141,
           4,
           "https://www.idealista.com/inmueble/99136230/"
          ],
          [
           1282,
           91000,
           71,
           2,
           "https://www.idealista.com/inmueble/99244794/"
          ],
          [
           1312,
           209999,
           160,
           3,
           "https://www.idealista.com/inmueble/99288002/"
          ],
          [
           1267,
           95000,
           75,
           3,
           "https://www.idealista.com/inmueble/100905683/"
          ],
          [
           1167,
           140000,
           120,
           5,
           "https://www.idealista.com/inmueble/99041337/"
          ],
          [
           1267,
           95000,
           75,
           3,
           "https://www.idealista.com/inmueble/100884370/"
          ],
          [
           1286,
           270000,
           210,
           5,
           "https://www.idealista.com/inmueble/100702873/"
          ],
          [
           1286,
           270000,
           210,
           5,
           "https://www.idealista.com/inmueble/100702873/"
          ],
          [
           1206,
           82000,
           68,
           2,
           "https://www.idealista.com/inmueble/100858122/"
          ],
          [
           1232,
           170000,
           138,
           5,
           "https://www.idealista.com/inmueble/98624800/"
          ],
          [
           1183,
           110000,
           93,
           2,
           "https://www.idealista.com/inmueble/99226951/"
          ],
          [
           1206,
           170000,
           141,
           5,
           "https://www.idealista.com/inmueble/99203773/"
          ],
          [
           565,
           48000,
           85,
           2,
           "https://www.idealista.com/inmueble/94451681/"
          ],
          [
           1308,
           119000,
           91,
           3,
           "https://www.idealista.com/inmueble/100041571/"
          ],
          [
           955,
           84000,
           88,
           3,
           "https://www.idealista.com/inmueble/95862253/"
          ],
          [
           955,
           84000,
           88,
           4,
           "https://www.idealista.com/inmueble/98569854/"
          ],
          [
           1190,
           119000,
           100,
           3,
           "https://www.idealista.com/inmueble/99292293/"
          ],
          [
           850,
           51000,
           60,
           2,
           "https://www.idealista.com/inmueble/96835477/"
          ],
          [
           1215,
           130000,
           107,
           2,
           "https://www.idealista.com/inmueble/100661197/"
          ],
          [
           1012,
           84000,
           83,
           3,
           "https://www.idealista.com/inmueble/95390311/"
          ],
          [
           1250,
           105000,
           84,
           3,
           "https://www.idealista.com/inmueble/100442387/"
          ],
          [
           1293,
           75000,
           58,
           2,
           "https://www.idealista.com/inmueble/99886395/"
          ],
          [
           1190,
           119000,
           100,
           3,
           "https://www.idealista.com/inmueble/100359919/"
          ],
          [
           1134,
           110000,
           97,
           3,
           "https://www.idealista.com/inmueble/100605838/"
          ],
          [
           978,
           91000,
           93,
           3,
           "https://www.idealista.com/inmueble/96800581/"
          ],
          [
           1250,
           155000,
           124,
           4,
           "https://www.idealista.com/inmueble/95580216/"
          ],
          [
           1000,
           100000,
           100,
           2,
           "https://www.idealista.com/inmueble/99403333/"
          ],
          [
           1111,
           100000,
           90,
           3,
           "https://www.idealista.com/inmueble/100338199/"
          ],
          [
           1261,
           93300,
           74,
           3,
           "https://www.idealista.com/inmueble/99810445/"
          ],
          [
           1190,
           119000,
           100,
           3,
           "https://www.idealista.com/inmueble/99294545/"
          ],
          [
           1167,
           140000,
           120,
           5,
           "https://www.idealista.com/inmueble/100934228/"
          ],
          [
           1322,
           160000,
           121,
           4,
           "https://www.idealista.com/inmueble/98969331/"
          ],
          [
           1357,
           95000,
           70,
           3,
           "https://www.idealista.com/inmueble/100838377/"
          ],
          [
           833,
           65000,
           78,
           3,
           "https://www.idealista.com/inmueble/100934534/"
          ],
          [
           652,
           150000,
           230,
           4,
           "https://www.idealista.com/inmueble/101035961/"
          ],
          [
           1041,
           176000,
           169,
           5,
           "https://www.idealista.com/inmueble/99619874/"
          ],
          [
           1333,
           100000,
           75,
           2,
           "https://www.idealista.com/inmueble/100410223/"
          ],
          [
           1111,
           100000,
           90,
           4,
           "https://www.idealista.com/inmueble/100208768/"
          ],
          [
           1250,
           100000,
           80,
           2,
           "https://www.idealista.com/inmueble/100403476/"
          ],
          [
           792,
           53870,
           68,
           3,
           "https://www.idealista.com/inmueble/98889796/"
          ],
          [
           1150,
           115000,
           100,
           3,
           "https://www.idealista.com/inmueble/101038379/"
          ],
          [
           500,
           130000,
           260,
           3,
           "https://www.idealista.com/inmueble/100112866/"
          ],
          [
           1264,
           110000,
           87,
           3,
           "https://www.idealista.com/inmueble/101010484/"
          ],
          [
           955,
           84000,
           88,
           4,
           "https://www.idealista.com/inmueble/95318151/"
          ],
          [
           1393,
           195000,
           140,
           0,
           "https://www.idealista.com/inmueble/100447017/"
          ],
          [
           1190,
           119000,
           100,
           3,
           "https://www.idealista.com/inmueble/99771498/"
          ],
          [
           1000,
           105000,
           105,
           3,
           "https://www.idealista.com/inmueble/97111729/"
          ]
         ],
         "hovertemplate": "<b>%{hovertext}</b><br><br>priceByArea=%{customdata[0]}<br>latitude=%{lat}<br>longitude=%{lon}<br>price=%{marker.color}<br>size=%{customdata[2]}<br>rooms=%{customdata[3]}<br>url=%{customdata[4]}<extra></extra>",
         "hovertext": [
          647,
          1350,
          561,
          561,
          1389,
          1250,
          1193,
          1320,
          1357,
          1125,
          1193,
          1391,
          1333,
          1281,
          1095,
          1190,
          1244,
          1350,
          1034,
          1050,
          1386,
          1278,
          1231,
          1274,
          1327,
          1078,
          1160,
          1206,
          1282,
          1312,
          1267,
          1167,
          1267,
          1286,
          1286,
          1206,
          1232,
          1183,
          1206,
          565,
          1308,
          955,
          955,
          1190,
          850,
          1215,
          1012,
          1250,
          1293,
          1190,
          1134,
          978,
          1250,
          1000,
          1111,
          1261,
          1190,
          1167,
          1322,
          1357,
          833,
          652,
          1041,
          1333,
          1111,
          1250,
          792,
          1150,
          500,
          1264,
          955,
          1393,
          1190,
          1000
         ],
         "lat": [
          43.3547996,
          43.34169,
          43.3346192,
          43.3335198,
          43.3617616,
          43.3628033,
          43.3531074,
          43.3555055,
          43.3641395,
          43.3657071,
          43.3579283,
          43.3525017,
          43.3638786,
          43.35197,
          43.3616392,
          43.3524943,
          43.360273,
          43.3573666,
          43.3545196,
          43.3509946,
          43.3494626,
          43.3395795,
          43.3676441,
          43.3780796,
          43.3420336,
          43.3411328,
          43.3460347,
          43.3395137,
          43.3542445,
          43.3460165,
          43.3458322,
          43.3438931,
          43.3472617,
          43.3792307,
          43.3792307,
          43.3523322,
          43.3375935,
          43.3411328,
          43.3398633,
          43.3459191,
          43.3501773,
          43.351898,
          43.3532085,
          43.3525352,
          43.3551985,
          43.3600763,
          43.3549357,
          43.3536798,
          43.363991,
          43.3520009,
          43.3399383,
          43.3634191,
          43.3602083,
          43.3483458,
          43.3519843,
          43.359393,
          43.352099,
          43.3431379,
          43.3518303,
          43.3654974,
          43.3531728,
          43.364315,
          43.3542583,
          43.3654158,
          43.3518442,
          43.3665863,
          43.3484473,
          43.3806069,
          43.3383944,
          43.3481752,
          43.3549618,
          43.3525472,
          43.3508632,
          43.3517947
         ],
         "legendgroup": "",
         "lon": [
          -8.4137038,
          -8.40243,
          -8.4045889,
          -8.4031807,
          -8.421465,
          -8.4191612,
          -8.396276,
          -8.409076,
          -8.4218343,
          -8.4217987,
          -8.417245,
          -8.4004692,
          -8.4206713,
          -8.3894019,
          -8.4174395,
          -8.3925341,
          -8.4178228,
          -8.4164442,
          -8.4111135,
          -8.3885633,
          -8.4459838,
          -8.3745693,
          -8.4338224,
          -8.4022543,
          -8.4152509,
          -8.3959195,
          -8.3981457,
          -8.397502,
          -8.3954447,
          -8.4074413,
          -8.4018438,
          -8.4019505,
          -8.4026517,
          -8.4010103,
          -8.4010103,
          -8.3972626,
          -8.3964367,
          -8.3959195,
          -8.397276,
          -8.3922309,
          -8.3910447,
          -8.3968198,
          -8.3956622,
          -8.3888458,
          -8.4137847,
          -8.4203993,
          -8.3934744,
          -8.4152651,
          -8.4218278,
          -8.3916654,
          -8.4146992,
          -8.424232,
          -8.419833,
          -8.4452245,
          -8.4123031,
          -8.418243,
          -8.3917379,
          -8.4006757,
          -8.388273,
          -8.4214271,
          -8.4142912,
          -8.4202879,
          -8.4096631,
          -8.4229379,
          -8.4154255,
          -8.4225947,
          -8.401356,
          -8.4030654,
          -8.412928,
          -8.4080985,
          -8.3943763,
          -8.4096123,
          -8.392815,
          -8.3932012
         ],
         "marker": {
          "color": [
           55000,
           135000,
           55000,
           55000,
           169500,
           115000,
           99000,
           99000,
           95000,
           90000,
           210000,
           185000,
           120000,
           155000,
           173000,
           119000,
           93300,
           108000,
           84800,
           105000,
           97000,
           230000,
           80000,
           270000,
           130000,
           110000,
           145000,
           170000,
           91000,
           209999,
           95000,
           140000,
           95000,
           270000,
           270000,
           82000,
           170000,
           110000,
           170000,
           48000,
           119000,
           84000,
           84000,
           119000,
           51000,
           130000,
           84000,
           105000,
           75000,
           119000,
           110000,
           91000,
           155000,
           100000,
           100000,
           93300,
           119000,
           140000,
           160000,
           95000,
           65000,
           150000,
           176000,
           100000,
           100000,
           100000,
           53870,
           115000,
           130000,
           110000,
           84000,
           195000,
           119000,
           105000
          ],
          "coloraxis": "coloraxis",
          "size": [
           647,
           1350,
           561,
           561,
           1389,
           1250,
           1193,
           1320,
           1357,
           1125,
           1193,
           1391,
           1333,
           1281,
           1095,
           1190,
           1244,
           1350,
           1034,
           1050,
           1386,
           1278,
           1231,
           1274,
           1327,
           1078,
           1160,
           1206,
           1282,
           1312,
           1267,
           1167,
           1267,
           1286,
           1286,
           1206,
           1232,
           1183,
           1206,
           565,
           1308,
           955,
           955,
           1190,
           850,
           1215,
           1012,
           1250,
           1293,
           1190,
           1134,
           978,
           1250,
           1000,
           1111,
           1261,
           1190,
           1167,
           1322,
           1357,
           833,
           652,
           1041,
           1333,
           1111,
           1250,
           792,
           1150,
           500,
           1264,
           955,
           1393,
           1190,
           1000
          ],
          "sizemode": "area",
          "sizeref": 3.4825
         },
         "mode": "markers",
         "name": "",
         "showlegend": false,
         "subplot": "mapbox",
         "type": "scattermapbox"
        }
       ],
       "layout": {
        "coloraxis": {
         "colorbar": {
          "title": {
           "text": "price"
          }
         },
         "colorscale": [
          [
           0,
           "blue"
          ],
          [
           1,
           "red"
          ]
         ]
        },
        "height": 800,
        "legend": {
         "itemsizing": "constant",
         "tracegroupgap": 0
        },
        "mapbox": {
         "center": {
          "lat": 43.35367820945946,
          "lon": -8.407097787837836
         },
         "domain": {
          "x": [
           0,
           1
          ],
          "y": [
           0,
           1
          ]
         },
         "style": "carto-positron",
         "zoom": 13
        },
        "margin": {
         "b": 0,
         "l": 0,
         "r": 0,
         "t": 0
        },
        "template": {
         "data": {
          "bar": [
           {
            "error_x": {
             "color": "#2a3f5f"
            },
            "error_y": {
             "color": "#2a3f5f"
            },
            "marker": {
             "line": {
              "color": "#E5ECF6",
              "width": 0.5
             },
             "pattern": {
              "fillmode": "overlay",
              "size": 10,
              "solidity": 0.2
             }
            },
            "type": "bar"
           }
          ],
          "barpolar": [
           {
            "marker": {
             "line": {
              "color": "#E5ECF6",
              "width": 0.5
             },
             "pattern": {
              "fillmode": "overlay",
              "size": 10,
              "solidity": 0.2
             }
            },
            "type": "barpolar"
           }
          ],
          "carpet": [
           {
            "aaxis": {
             "endlinecolor": "#2a3f5f",
             "gridcolor": "white",
             "linecolor": "white",
             "minorgridcolor": "white",
             "startlinecolor": "#2a3f5f"
            },
            "baxis": {
             "endlinecolor": "#2a3f5f",
             "gridcolor": "white",
             "linecolor": "white",
             "minorgridcolor": "white",
             "startlinecolor": "#2a3f5f"
            },
            "type": "carpet"
           }
          ],
          "choropleth": [
           {
            "colorbar": {
             "outlinewidth": 0,
             "ticks": ""
            },
            "type": "choropleth"
           }
          ],
          "contour": [
           {
            "colorbar": {
             "outlinewidth": 0,
             "ticks": ""
            },
            "colorscale": [
             [
              0,
              "#0d0887"
             ],
             [
              0.1111111111111111,
              "#46039f"
             ],
             [
              0.2222222222222222,
              "#7201a8"
             ],
             [
              0.3333333333333333,
              "#9c179e"
             ],
             [
              0.4444444444444444,
              "#bd3786"
             ],
             [
              0.5555555555555556,
              "#d8576b"
             ],
             [
              0.6666666666666666,
              "#ed7953"
             ],
             [
              0.7777777777777778,
              "#fb9f3a"
             ],
             [
              0.8888888888888888,
              "#fdca26"
             ],
             [
              1,
              "#f0f921"
             ]
            ],
            "type": "contour"
           }
          ],
          "contourcarpet": [
           {
            "colorbar": {
             "outlinewidth": 0,
             "ticks": ""
            },
            "type": "contourcarpet"
           }
          ],
          "heatmap": [
           {
            "colorbar": {
             "outlinewidth": 0,
             "ticks": ""
            },
            "colorscale": [
             [
              0,
              "#0d0887"
             ],
             [
              0.1111111111111111,
              "#46039f"
             ],
             [
              0.2222222222222222,
              "#7201a8"
             ],
             [
              0.3333333333333333,
              "#9c179e"
             ],
             [
              0.4444444444444444,
              "#bd3786"
             ],
             [
              0.5555555555555556,
              "#d8576b"
             ],
             [
              0.6666666666666666,
              "#ed7953"
             ],
             [
              0.7777777777777778,
              "#fb9f3a"
             ],
             [
              0.8888888888888888,
              "#fdca26"
             ],
             [
              1,
              "#f0f921"
             ]
            ],
            "type": "heatmap"
           }
          ],
          "heatmapgl": [
           {
            "colorbar": {
             "outlinewidth": 0,
             "ticks": ""
            },
            "colorscale": [
             [
              0,
              "#0d0887"
             ],
             [
              0.1111111111111111,
              "#46039f"
             ],
             [
              0.2222222222222222,
              "#7201a8"
             ],
             [
              0.3333333333333333,
              "#9c179e"
             ],
             [
              0.4444444444444444,
              "#bd3786"
             ],
             [
              0.5555555555555556,
              "#d8576b"
             ],
             [
              0.6666666666666666,
              "#ed7953"
             ],
             [
              0.7777777777777778,
              "#fb9f3a"
             ],
             [
              0.8888888888888888,
              "#fdca26"
             ],
             [
              1,
              "#f0f921"
             ]
            ],
            "type": "heatmapgl"
           }
          ],
          "histogram": [
           {
            "marker": {
             "pattern": {
              "fillmode": "overlay",
              "size": 10,
              "solidity": 0.2
             }
            },
            "type": "histogram"
           }
          ],
          "histogram2d": [
           {
            "colorbar": {
             "outlinewidth": 0,
             "ticks": ""
            },
            "colorscale": [
             [
              0,
              "#0d0887"
             ],
             [
              0.1111111111111111,
              "#46039f"
             ],
             [
              0.2222222222222222,
              "#7201a8"
             ],
             [
              0.3333333333333333,
              "#9c179e"
             ],
             [
              0.4444444444444444,
              "#bd3786"
             ],
             [
              0.5555555555555556,
              "#d8576b"
             ],
             [
              0.6666666666666666,
              "#ed7953"
             ],
             [
              0.7777777777777778,
              "#fb9f3a"
             ],
             [
              0.8888888888888888,
              "#fdca26"
             ],
             [
              1,
              "#f0f921"
             ]
            ],
            "type": "histogram2d"
           }
          ],
          "histogram2dcontour": [
           {
            "colorbar": {
             "outlinewidth": 0,
             "ticks": ""
            },
            "colorscale": [
             [
              0,
              "#0d0887"
             ],
             [
              0.1111111111111111,
              "#46039f"
             ],
             [
              0.2222222222222222,
              "#7201a8"
             ],
             [
              0.3333333333333333,
              "#9c179e"
             ],
             [
              0.4444444444444444,
              "#bd3786"
             ],
             [
              0.5555555555555556,
              "#d8576b"
             ],
             [
              0.6666666666666666,
              "#ed7953"
             ],
             [
              0.7777777777777778,
              "#fb9f3a"
             ],
             [
              0.8888888888888888,
              "#fdca26"
             ],
             [
              1,
              "#f0f921"
             ]
            ],
            "type": "histogram2dcontour"
           }
          ],
          "mesh3d": [
           {
            "colorbar": {
             "outlinewidth": 0,
             "ticks": ""
            },
            "type": "mesh3d"
           }
          ],
          "parcoords": [
           {
            "line": {
             "colorbar": {
              "outlinewidth": 0,
              "ticks": ""
             }
            },
            "type": "parcoords"
           }
          ],
          "pie": [
           {
            "automargin": true,
            "type": "pie"
           }
          ],
          "scatter": [
           {
            "fillpattern": {
             "fillmode": "overlay",
             "size": 10,
             "solidity": 0.2
            },
            "type": "scatter"
           }
          ],
          "scatter3d": [
           {
            "line": {
             "colorbar": {
              "outlinewidth": 0,
              "ticks": ""
             }
            },
            "marker": {
             "colorbar": {
              "outlinewidth": 0,
              "ticks": ""
             }
            },
            "type": "scatter3d"
           }
          ],
          "scattercarpet": [
           {
            "marker": {
             "colorbar": {
              "outlinewidth": 0,
              "ticks": ""
             }
            },
            "type": "scattercarpet"
           }
          ],
          "scattergeo": [
           {
            "marker": {
             "colorbar": {
              "outlinewidth": 0,
              "ticks": ""
             }
            },
            "type": "scattergeo"
           }
          ],
          "scattergl": [
           {
            "marker": {
             "colorbar": {
              "outlinewidth": 0,
              "ticks": ""
             }
            },
            "type": "scattergl"
           }
          ],
          "scattermapbox": [
           {
            "marker": {
             "colorbar": {
              "outlinewidth": 0,
              "ticks": ""
             }
            },
            "type": "scattermapbox"
           }
          ],
          "scatterpolar": [
           {
            "marker": {
             "colorbar": {
              "outlinewidth": 0,
              "ticks": ""
             }
            },
            "type": "scatterpolar"
           }
          ],
          "scatterpolargl": [
           {
            "marker": {
             "colorbar": {
              "outlinewidth": 0,
              "ticks": ""
             }
            },
            "type": "scatterpolargl"
           }
          ],
          "scatterternary": [
           {
            "marker": {
             "colorbar": {
              "outlinewidth": 0,
              "ticks": ""
             }
            },
            "type": "scatterternary"
           }
          ],
          "surface": [
           {
            "colorbar": {
             "outlinewidth": 0,
             "ticks": ""
            },
            "colorscale": [
             [
              0,
              "#0d0887"
             ],
             [
              0.1111111111111111,
              "#46039f"
             ],
             [
              0.2222222222222222,
              "#7201a8"
             ],
             [
              0.3333333333333333,
              "#9c179e"
             ],
             [
              0.4444444444444444,
              "#bd3786"
             ],
             [
              0.5555555555555556,
              "#d8576b"
             ],
             [
              0.6666666666666666,
              "#ed7953"
             ],
             [
              0.7777777777777778,
              "#fb9f3a"
             ],
             [
              0.8888888888888888,
              "#fdca26"
             ],
             [
              1,
              "#f0f921"
             ]
            ],
            "type": "surface"
           }
          ],
          "table": [
           {
            "cells": {
             "fill": {
              "color": "#EBF0F8"
             },
             "line": {
              "color": "white"
             }
            },
            "header": {
             "fill": {
              "color": "#C8D4E3"
             },
             "line": {
              "color": "white"
             }
            },
            "type": "table"
           }
          ]
         },
         "layout": {
          "annotationdefaults": {
           "arrowcolor": "#2a3f5f",
           "arrowhead": 0,
           "arrowwidth": 1
          },
          "autotypenumbers": "strict",
          "coloraxis": {
           "colorbar": {
            "outlinewidth": 0,
            "ticks": ""
           }
          },
          "colorscale": {
           "diverging": [
            [
             0,
             "#8e0152"
            ],
            [
             0.1,
             "#c51b7d"
            ],
            [
             0.2,
             "#de77ae"
            ],
            [
             0.3,
             "#f1b6da"
            ],
            [
             0.4,
             "#fde0ef"
            ],
            [
             0.5,
             "#f7f7f7"
            ],
            [
             0.6,
             "#e6f5d0"
            ],
            [
             0.7,
             "#b8e186"
            ],
            [
             0.8,
             "#7fbc41"
            ],
            [
             0.9,
             "#4d9221"
            ],
            [
             1,
             "#276419"
            ]
           ],
           "sequential": [
            [
             0,
             "#0d0887"
            ],
            [
             0.1111111111111111,
             "#46039f"
            ],
            [
             0.2222222222222222,
             "#7201a8"
            ],
            [
             0.3333333333333333,
             "#9c179e"
            ],
            [
             0.4444444444444444,
             "#bd3786"
            ],
            [
             0.5555555555555556,
             "#d8576b"
            ],
            [
             0.6666666666666666,
             "#ed7953"
            ],
            [
             0.7777777777777778,
             "#fb9f3a"
            ],
            [
             0.8888888888888888,
             "#fdca26"
            ],
            [
             1,
             "#f0f921"
            ]
           ],
           "sequentialminus": [
            [
             0,
             "#0d0887"
            ],
            [
             0.1111111111111111,
             "#46039f"
            ],
            [
             0.2222222222222222,
             "#7201a8"
            ],
            [
             0.3333333333333333,
             "#9c179e"
            ],
            [
             0.4444444444444444,
             "#bd3786"
            ],
            [
             0.5555555555555556,
             "#d8576b"
            ],
            [
             0.6666666666666666,
             "#ed7953"
            ],
            [
             0.7777777777777778,
             "#fb9f3a"
            ],
            [
             0.8888888888888888,
             "#fdca26"
            ],
            [
             1,
             "#f0f921"
            ]
           ]
          },
          "colorway": [
           "#636efa",
           "#EF553B",
           "#00cc96",
           "#ab63fa",
           "#FFA15A",
           "#19d3f3",
           "#FF6692",
           "#B6E880",
           "#FF97FF",
           "#FECB52"
          ],
          "font": {
           "color": "#2a3f5f"
          },
          "geo": {
           "bgcolor": "white",
           "lakecolor": "white",
           "landcolor": "#E5ECF6",
           "showlakes": true,
           "showland": true,
           "subunitcolor": "white"
          },
          "hoverlabel": {
           "align": "left"
          },
          "hovermode": "closest",
          "mapbox": {
           "style": "light"
          },
          "paper_bgcolor": "white",
          "plot_bgcolor": "#E5ECF6",
          "polar": {
           "angularaxis": {
            "gridcolor": "white",
            "linecolor": "white",
            "ticks": ""
           },
           "bgcolor": "#E5ECF6",
           "radialaxis": {
            "gridcolor": "white",
            "linecolor": "white",
            "ticks": ""
           }
          },
          "scene": {
           "xaxis": {
            "backgroundcolor": "#E5ECF6",
            "gridcolor": "white",
            "gridwidth": 2,
            "linecolor": "white",
            "showbackground": true,
            "ticks": "",
            "zerolinecolor": "white"
           },
           "yaxis": {
            "backgroundcolor": "#E5ECF6",
            "gridcolor": "white",
            "gridwidth": 2,
            "linecolor": "white",
            "showbackground": true,
            "ticks": "",
            "zerolinecolor": "white"
           },
           "zaxis": {
            "backgroundcolor": "#E5ECF6",
            "gridcolor": "white",
            "gridwidth": 2,
            "linecolor": "white",
            "showbackground": true,
            "ticks": "",
            "zerolinecolor": "white"
           }
          },
          "shapedefaults": {
           "line": {
            "color": "#2a3f5f"
           }
          },
          "ternary": {
           "aaxis": {
            "gridcolor": "white",
            "linecolor": "white",
            "ticks": ""
           },
           "baxis": {
            "gridcolor": "white",
            "linecolor": "white",
            "ticks": ""
           },
           "bgcolor": "#E5ECF6",
           "caxis": {
            "gridcolor": "white",
            "linecolor": "white",
            "ticks": ""
           }
          },
          "title": {
           "x": 0.05
          },
          "xaxis": {
           "automargin": true,
           "gridcolor": "white",
           "linecolor": "white",
           "ticks": "",
           "title": {
            "standoff": 15
           },
           "zerolinecolor": "white",
           "zerolinewidth": 2
          },
          "yaxis": {
           "automargin": true,
           "gridcolor": "white",
           "linecolor": "white",
           "ticks": "",
           "title": {
            "standoff": 15
           },
           "zerolinecolor": "white",
           "zerolinewidth": 2
          }
         }
        },
        "width": 800
       }
      }
     },
     "metadata": {},
     "output_type": "display_data"
    }
   ],
   "source": [
    "df.sort_values(by='priceByArea', ascending = True)\n",
    "df_temp = df[df['priceByArea'] < 1400]\n",
    "# \n",
    "color_scale = [(0, 'blue'), (1,'red')]\n",
    "fig = px.scatter_mapbox(df_temp, \n",
    "                        lat=\"latitude\", \n",
    "                        lon=\"longitude\", \n",
    "                        hover_name=\"priceByArea\", \n",
    "                        hover_data=[\"priceByArea\",\"price\",\"size\",\"rooms\",\"url\"],\n",
    "                        color=\"price\",\n",
    "                        color_continuous_scale=color_scale,\n",
    "                        size=\"priceByArea\",\n",
    "                        zoom=13,\n",
    "                        height=800,\n",
    "                        width=800)\n",
    "# fig.update_layout(mapbox_style=\"open-street-map\")\n",
    "fig.update_layout(mapbox_style=\"carto-positron\") \n",
    "# fig.update_layout(mapbox_style=\"stamen-terrain\")\n",
    "# fig.update_layout(mapbox_style=\"satellite\") -> Need Mapbox API\n",
    "fig.update_layout(margin={\"r\":0,\"t\":0,\"l\":0,\"b\":0})\n",
    "fig.show()"
   ]
  },
  {
   "cell_type": "code",
   "execution_count": 15,
   "metadata": {},
   "outputs": [
    {
     "data": {
      "application/vnd.plotly.v1+json": {
       "config": {
        "plotlyServerURL": "https://plot.ly"
       },
       "data": [
        {
         "customdata": [
          [
           647,
           55000,
           85,
           3,
           "https://www.idealista.com/inmueble/100763565/",
           100763565
          ],
          [
           1350,
           135000,
           100,
           3,
           "https://www.idealista.com/inmueble/95636332/",
           95636332
          ],
          [
           561,
           55000,
           98,
           2,
           "https://www.idealista.com/inmueble/98726785/",
           98726785
          ],
          [
           561,
           55000,
           98,
           3,
           "https://www.idealista.com/inmueble/98726184/",
           98726184
          ],
          [
           1389,
           169500,
           122,
           4,
           "https://www.idealista.com/inmueble/99892520/",
           99892520
          ],
          [
           1453,
           125000,
           86,
           3,
           "https://www.idealista.com/inmueble/101032875/",
           101032875
          ],
          [
           1250,
           115000,
           92,
           3,
           "https://www.idealista.com/inmueble/100767526/",
           100767526
          ],
          [
           1193,
           99000,
           83,
           3,
           "https://www.idealista.com/inmueble/100184212/",
           100184212
          ],
          [
           1484,
           149900,
           101,
           4,
           "https://www.idealista.com/inmueble/100879026/",
           100879026
          ],
          [
           1484,
           149900,
           101,
           4,
           "https://www.idealista.com/inmueble/99012373/",
           99012373
          ],
          [
           1320,
           99000,
           75,
           3,
           "https://www.idealista.com/inmueble/100811590/",
           100811590
          ],
          [
           1357,
           95000,
           70,
           3,
           "https://www.idealista.com/inmueble/96575026/",
           96575026
          ],
          [
           1495,
           299000,
           200,
           5,
           "https://www.idealista.com/inmueble/98821510/",
           98821510
          ],
          [
           1125,
           90000,
           80,
           3,
           "https://www.idealista.com/inmueble/100404150/",
           100404150
          ],
          [
           1193,
           210000,
           176,
           3,
           "https://www.idealista.com/inmueble/81650596/",
           81650596
          ],
          [
           1473,
           137000,
           93,
           2,
           "https://www.idealista.com/inmueble/100999550/",
           100999550
          ],
          [
           1391,
           185000,
           133,
           4,
           "https://www.idealista.com/inmueble/99485074/",
           99485074
          ],
          [
           1412,
           120000,
           85,
           3,
           "https://www.idealista.com/inmueble/100761724/",
           100761724
          ],
          [
           1333,
           120000,
           90,
           3,
           "https://www.idealista.com/inmueble/100361953/",
           100361953
          ],
          [
           1281,
           155000,
           121,
           4,
           "https://www.idealista.com/inmueble/100721743/",
           100721743
          ],
          [
           1095,
           173000,
           158,
           4,
           "https://www.idealista.com/inmueble/100683328/",
           100683328
          ],
          [
           1412,
           120000,
           85,
           3,
           "https://www.idealista.com/inmueble/100722544/",
           100722544
          ],
          [
           1480,
           145000,
           98,
           4,
           "https://www.idealista.com/inmueble/98710955/",
           98710955
          ],
          [
           1190,
           119000,
           100,
           3,
           "https://www.idealista.com/inmueble/100342073/",
           100342073
          ],
          [
           1244,
           93300,
           75,
           3,
           "https://www.idealista.com/inmueble/100076179/",
           100076179
          ],
          [
           1350,
           108000,
           80,
           3,
           "https://www.idealista.com/inmueble/100586705/",
           100586705
          ],
          [
           1495,
           145000,
           97,
           3,
           "https://www.idealista.com/inmueble/100857636/",
           100857636
          ],
          [
           1034,
           84800,
           82,
           3,
           "https://www.idealista.com/inmueble/100423825/",
           100423825
          ],
          [
           1050,
           105000,
           100,
           3,
           "https://www.idealista.com/inmueble/98348139/",
           98348139
          ],
          [
           1386,
           97000,
           70,
           2,
           "https://www.idealista.com/inmueble/101040649/",
           101040649
          ],
          [
           1278,
           230000,
           180,
           5,
           "https://www.idealista.com/inmueble/98723606/",
           98723606
          ],
          [
           1231,
           80000,
           65,
           2,
           "https://www.idealista.com/inmueble/98775363/",
           98775363
          ],
          [
           1274,
           270000,
           212,
           0,
           "https://www.idealista.com/inmueble/100497236/",
           100497236
          ],
          [
           1433,
           139000,
           97,
           3,
           "https://www.idealista.com/inmueble/101099554/",
           101099554
          ],
          [
           1327,
           130000,
           98,
           2,
           "https://www.idealista.com/inmueble/101061648/",
           101061648
          ],
          [
           1078,
           110000,
           102,
           2,
           "https://www.idealista.com/inmueble/98619825/",
           98619825
          ],
          [
           1466,
           195000,
           133,
           2,
           "https://www.idealista.com/inmueble/98509549/",
           98509549
          ],
          [
           1160,
           145000,
           125,
           4,
           "https://www.idealista.com/inmueble/100421926/",
           100421926
          ],
          [
           1206,
           170000,
           141,
           4,
           "https://www.idealista.com/inmueble/99136230/",
           99136230
          ],
          [
           1282,
           91000,
           71,
           2,
           "https://www.idealista.com/inmueble/99244794/",
           99244794
          ],
          [
           1312,
           209999,
           160,
           3,
           "https://www.idealista.com/inmueble/99288002/",
           99288002
          ],
          [
           1267,
           95000,
           75,
           3,
           "https://www.idealista.com/inmueble/100905683/",
           100905683
          ],
          [
           1167,
           140000,
           120,
           5,
           "https://www.idealista.com/inmueble/99041337/",
           99041337
          ],
          [
           1267,
           95000,
           75,
           3,
           "https://www.idealista.com/inmueble/100884370/",
           100884370
          ],
          [
           1459,
           299000,
           205,
           4,
           "https://www.idealista.com/inmueble/100963958/",
           100963958
          ],
          [
           1286,
           270000,
           210,
           5,
           "https://www.idealista.com/inmueble/100702873/",
           100702873
          ],
          [
           1286,
           270000,
           210,
           5,
           "https://www.idealista.com/inmueble/100702873/",
           100702873
          ],
          [
           1206,
           82000,
           68,
           2,
           "https://www.idealista.com/inmueble/100858122/",
           100858122
          ],
          [
           1232,
           170000,
           138,
           5,
           "https://www.idealista.com/inmueble/98624800/",
           98624800
          ],
          [
           1183,
           110000,
           93,
           2,
           "https://www.idealista.com/inmueble/99226951/",
           99226951
          ],
          [
           1206,
           170000,
           141,
           5,
           "https://www.idealista.com/inmueble/99203773/",
           99203773
          ],
          [
           565,
           48000,
           85,
           2,
           "https://www.idealista.com/inmueble/94451681/",
           94451681
          ],
          [
           1308,
           119000,
           91,
           3,
           "https://www.idealista.com/inmueble/100041571/",
           100041571
          ],
          [
           955,
           84000,
           88,
           3,
           "https://www.idealista.com/inmueble/95862253/",
           95862253
          ],
          [
           955,
           84000,
           88,
           4,
           "https://www.idealista.com/inmueble/98569854/",
           98569854
          ],
          [
           1190,
           119000,
           100,
           3,
           "https://www.idealista.com/inmueble/99292293/",
           99292293
          ],
          [
           850,
           51000,
           60,
           2,
           "https://www.idealista.com/inmueble/96835477/",
           96835477
          ],
          [
           1466,
           195000,
           133,
           2,
           "https://www.idealista.com/inmueble/100263643/",
           100263643
          ],
          [
           1215,
           130000,
           107,
           2,
           "https://www.idealista.com/inmueble/100661197/",
           100661197
          ],
          [
           1012,
           84000,
           83,
           3,
           "https://www.idealista.com/inmueble/95390311/",
           95390311
          ],
          [
           1250,
           105000,
           84,
           3,
           "https://www.idealista.com/inmueble/100442387/",
           100442387
          ],
          [
           1293,
           75000,
           58,
           2,
           "https://www.idealista.com/inmueble/99886395/",
           99886395
          ],
          [
           1456,
           115000,
           79,
           3,
           "https://www.idealista.com/inmueble/100552798/",
           100552798
          ],
          [
           1190,
           119000,
           100,
           3,
           "https://www.idealista.com/inmueble/100359919/",
           100359919
          ],
          [
           1492,
           185000,
           124,
           3,
           "https://www.idealista.com/inmueble/100839555/",
           100839555
          ],
          [
           1134,
           110000,
           97,
           3,
           "https://www.idealista.com/inmueble/100605838/",
           100605838
          ],
          [
           978,
           91000,
           93,
           3,
           "https://www.idealista.com/inmueble/96800581/",
           96800581
          ],
          [
           1250,
           155000,
           124,
           4,
           "https://www.idealista.com/inmueble/95580216/",
           95580216
          ],
          [
           1000,
           100000,
           100,
           2,
           "https://www.idealista.com/inmueble/99403333/",
           99403333
          ],
          [
           1111,
           100000,
           90,
           3,
           "https://www.idealista.com/inmueble/100338199/",
           100338199
          ],
          [
           1261,
           93300,
           74,
           3,
           "https://www.idealista.com/inmueble/99810445/",
           99810445
          ],
          [
           1478,
           170000,
           115,
           3,
           "https://www.idealista.com/inmueble/100533178/",
           100533178
          ],
          [
           1190,
           119000,
           100,
           3,
           "https://www.idealista.com/inmueble/99294545/",
           99294545
          ],
          [
           1167,
           140000,
           120,
           5,
           "https://www.idealista.com/inmueble/100934228/",
           100934228
          ],
          [
           1322,
           160000,
           121,
           4,
           "https://www.idealista.com/inmueble/98969331/",
           98969331
          ],
          [
           1357,
           95000,
           70,
           3,
           "https://www.idealista.com/inmueble/100838377/",
           100838377
          ],
          [
           833,
           65000,
           78,
           3,
           "https://www.idealista.com/inmueble/100934534/",
           100934534
          ],
          [
           652,
           150000,
           230,
           4,
           "https://www.idealista.com/inmueble/101035961/",
           101035961
          ],
          [
           1041,
           176000,
           169,
           5,
           "https://www.idealista.com/inmueble/99619874/",
           99619874
          ],
          [
           1333,
           100000,
           75,
           2,
           "https://www.idealista.com/inmueble/100410223/",
           100410223
          ],
          [
           1111,
           100000,
           90,
           4,
           "https://www.idealista.com/inmueble/100208768/",
           100208768
          ],
          [
           1250,
           100000,
           80,
           2,
           "https://www.idealista.com/inmueble/100403476/",
           100403476
          ],
          [
           1488,
           125000,
           84,
           2,
           "https://www.idealista.com/inmueble/101105586/",
           101105586
          ],
          [
           792,
           53870,
           68,
           3,
           "https://www.idealista.com/inmueble/98889796/",
           98889796
          ],
          [
           1150,
           115000,
           100,
           3,
           "https://www.idealista.com/inmueble/101038379/",
           101038379
          ],
          [
           500,
           130000,
           260,
           3,
           "https://www.idealista.com/inmueble/100112866/",
           100112866
          ],
          [
           1264,
           110000,
           87,
           3,
           "https://www.idealista.com/inmueble/101010484/",
           101010484
          ],
          [
           955,
           84000,
           88,
           4,
           "https://www.idealista.com/inmueble/95318151/",
           95318151
          ],
          [
           1393,
           195000,
           140,
           0,
           "https://www.idealista.com/inmueble/100447017/",
           100447017
          ],
          [
           1461,
           130000,
           89,
           2,
           "https://www.idealista.com/inmueble/81753313/",
           81753313
          ],
          [
           1419,
           105000,
           74,
           2,
           "https://www.idealista.com/inmueble/101022510/",
           101022510
          ],
          [
           1190,
           119000,
           100,
           3,
           "https://www.idealista.com/inmueble/99771498/",
           99771498
          ],
          [
           1000,
           105000,
           105,
           3,
           "https://www.idealista.com/inmueble/97111729/",
           97111729
          ],
          [
           1466,
           195000,
           133,
           2,
           "https://www.idealista.com/inmueble/98513574/",
           98513574
          ],
          [
           1439,
           141000,
           98,
           2,
           "https://www.idealista.com/inmueble/100933893/",
           100933893
          ]
         ],
         "hovertemplate": "<b>%{hovertext}</b><br><br>price=%{customdata[1]}<br>latitude=%{lat}<br>longitude=%{lon}<br>priceByArea=%{marker.color}<br>size=%{customdata[2]}<br>rooms=%{customdata[3]}<br>url=%{customdata[4]}<br>propertyCode=%{customdata[5]}<extra></extra>",
         "hovertext": [
          55000,
          135000,
          55000,
          55000,
          169500,
          125000,
          115000,
          99000,
          149900,
          149900,
          99000,
          95000,
          299000,
          90000,
          210000,
          137000,
          185000,
          120000,
          120000,
          155000,
          173000,
          120000,
          145000,
          119000,
          93300,
          108000,
          145000,
          84800,
          105000,
          97000,
          230000,
          80000,
          270000,
          139000,
          130000,
          110000,
          195000,
          145000,
          170000,
          91000,
          209999,
          95000,
          140000,
          95000,
          299000,
          270000,
          270000,
          82000,
          170000,
          110000,
          170000,
          48000,
          119000,
          84000,
          84000,
          119000,
          51000,
          195000,
          130000,
          84000,
          105000,
          75000,
          115000,
          119000,
          185000,
          110000,
          91000,
          155000,
          100000,
          100000,
          93300,
          170000,
          119000,
          140000,
          160000,
          95000,
          65000,
          150000,
          176000,
          100000,
          100000,
          100000,
          125000,
          53870,
          115000,
          130000,
          110000,
          84000,
          195000,
          130000,
          105000,
          119000,
          105000,
          195000,
          141000
         ],
         "lat": [
          43.3547996,
          43.34169,
          43.3346192,
          43.3335198,
          43.3617616,
          43.3639059,
          43.3628033,
          43.3531074,
          43.3467481,
          43.3458548,
          43.3555055,
          43.3641395,
          43.3545685,
          43.3657071,
          43.3579283,
          43.3542639,
          43.3525017,
          43.3631001,
          43.3638786,
          43.35197,
          43.3616392,
          43.3650525,
          43.3635315,
          43.3524943,
          43.360273,
          43.3573666,
          43.3476842,
          43.3545196,
          43.3509946,
          43.3494626,
          43.3395795,
          43.3676441,
          43.3780796,
          43.3479135,
          43.3420336,
          43.3411328,
          43.3545329,
          43.3460347,
          43.3395137,
          43.3542445,
          43.3460165,
          43.3458322,
          43.3438931,
          43.3472617,
          43.3560685,
          43.3792307,
          43.3792307,
          43.3523322,
          43.3375935,
          43.3411328,
          43.3398633,
          43.3459191,
          43.3501773,
          43.351898,
          43.3532085,
          43.3525352,
          43.3551985,
          43.3523147,
          43.3600763,
          43.3549357,
          43.3536798,
          43.363991,
          43.3481504,
          43.3520009,
          43.335498,
          43.3399383,
          43.3634191,
          43.3602083,
          43.3483458,
          43.3519843,
          43.359393,
          43.346492,
          43.352099,
          43.3431379,
          43.3518303,
          43.3654974,
          43.3531728,
          43.364315,
          43.3542583,
          43.3654158,
          43.3518442,
          43.3665863,
          43.3598713,
          43.3484473,
          43.3806069,
          43.3383944,
          43.3481752,
          43.3549618,
          43.3525472,
          43.3591564,
          43.3549641,
          43.3508632,
          43.3517947,
          43.3546274,
          43.3628699
         ],
         "legendgroup": "",
         "lon": [
          -8.4137038,
          -8.40243,
          -8.4045889,
          -8.4031807,
          -8.421465,
          -8.4193051,
          -8.4191612,
          -8.396276,
          -8.3995363,
          -8.3990268,
          -8.409076,
          -8.4218343,
          -8.4038604,
          -8.4217987,
          -8.417245,
          -8.3931139,
          -8.4004692,
          -8.419716,
          -8.4206713,
          -8.3894019,
          -8.4174395,
          -8.4195117,
          -8.4220398,
          -8.3925341,
          -8.4178228,
          -8.4164442,
          -8.4013758,
          -8.4111135,
          -8.3885633,
          -8.4459838,
          -8.3745693,
          -8.4338224,
          -8.4022543,
          -8.4005234,
          -8.4152509,
          -8.3959195,
          -8.411547,
          -8.3981457,
          -8.397502,
          -8.3954447,
          -8.4074413,
          -8.4018438,
          -8.4019505,
          -8.4026517,
          -8.4029604,
          -8.4010103,
          -8.4010103,
          -8.3972626,
          -8.3964367,
          -8.3959195,
          -8.397276,
          -8.3922309,
          -8.3910447,
          -8.3968198,
          -8.3956622,
          -8.3888458,
          -8.4137847,
          -8.4111957,
          -8.4203993,
          -8.3934744,
          -8.4152651,
          -8.4218278,
          -8.4451755,
          -8.3916654,
          -8.3757636,
          -8.4146992,
          -8.424232,
          -8.419833,
          -8.4452245,
          -8.4123031,
          -8.418243,
          -8.3990281,
          -8.3917379,
          -8.4006757,
          -8.388273,
          -8.4214271,
          -8.4142912,
          -8.4202879,
          -8.4096631,
          -8.4229379,
          -8.4154255,
          -8.4225947,
          -8.4214778,
          -8.401356,
          -8.4030654,
          -8.412928,
          -8.4080985,
          -8.3943763,
          -8.4096123,
          -8.4181138,
          -8.4141549,
          -8.392815,
          -8.3932012,
          -8.412009,
          -8.4186151
         ],
         "marker": {
          "color": [
           647,
           1350,
           561,
           561,
           1389,
           1453,
           1250,
           1193,
           1484,
           1484,
           1320,
           1357,
           1495,
           1125,
           1193,
           1473,
           1391,
           1412,
           1333,
           1281,
           1095,
           1412,
           1480,
           1190,
           1244,
           1350,
           1495,
           1034,
           1050,
           1386,
           1278,
           1231,
           1274,
           1433,
           1327,
           1078,
           1466,
           1160,
           1206,
           1282,
           1312,
           1267,
           1167,
           1267,
           1459,
           1286,
           1286,
           1206,
           1232,
           1183,
           1206,
           565,
           1308,
           955,
           955,
           1190,
           850,
           1466,
           1215,
           1012,
           1250,
           1293,
           1456,
           1190,
           1492,
           1134,
           978,
           1250,
           1000,
           1111,
           1261,
           1478,
           1190,
           1167,
           1322,
           1357,
           833,
           652,
           1041,
           1333,
           1111,
           1250,
           1488,
           792,
           1150,
           500,
           1264,
           955,
           1393,
           1461,
           1419,
           1190,
           1000,
           1466,
           1439
          ],
          "coloraxis": "coloraxis",
          "size": [
           55000,
           135000,
           55000,
           55000,
           169500,
           125000,
           115000,
           99000,
           149900,
           149900,
           99000,
           95000,
           299000,
           90000,
           210000,
           137000,
           185000,
           120000,
           120000,
           155000,
           173000,
           120000,
           145000,
           119000,
           93300,
           108000,
           145000,
           84800,
           105000,
           97000,
           230000,
           80000,
           270000,
           139000,
           130000,
           110000,
           195000,
           145000,
           170000,
           91000,
           209999,
           95000,
           140000,
           95000,
           299000,
           270000,
           270000,
           82000,
           170000,
           110000,
           170000,
           48000,
           119000,
           84000,
           84000,
           119000,
           51000,
           195000,
           130000,
           84000,
           105000,
           75000,
           115000,
           119000,
           185000,
           110000,
           91000,
           155000,
           100000,
           100000,
           93300,
           170000,
           119000,
           140000,
           160000,
           95000,
           65000,
           150000,
           176000,
           100000,
           100000,
           100000,
           125000,
           53870,
           115000,
           130000,
           110000,
           84000,
           195000,
           130000,
           105000,
           119000,
           105000,
           195000,
           141000
          ],
          "sizemode": "area",
          "sizeref": 747.5
         },
         "mode": "markers",
         "name": "",
         "showlegend": false,
         "subplot": "mapbox",
         "type": "scattermapbox"
        }
       ],
       "layout": {
        "coloraxis": {
         "colorbar": {
          "title": {
           "text": "priceByArea"
          }
         },
         "colorscale": [
          [
           0,
           "blue"
          ],
          [
           1,
           "red"
          ]
         ]
        },
        "height": 800,
        "legend": {
         "itemsizing": "constant",
         "tracegroupgap": 0
        },
        "mapbox": {
         "center": {
          "lat": 43.353782695789484,
          "lon": -8.407718804210521
         },
         "domain": {
          "x": [
           0,
           1
          ],
          "y": [
           0,
           1
          ]
         },
         "style": "carto-positron",
         "zoom": 13
        },
        "margin": {
         "b": 0,
         "l": 0,
         "r": 0,
         "t": 0
        },
        "template": {
         "data": {
          "bar": [
           {
            "error_x": {
             "color": "#2a3f5f"
            },
            "error_y": {
             "color": "#2a3f5f"
            },
            "marker": {
             "line": {
              "color": "#E5ECF6",
              "width": 0.5
             },
             "pattern": {
              "fillmode": "overlay",
              "size": 10,
              "solidity": 0.2
             }
            },
            "type": "bar"
           }
          ],
          "barpolar": [
           {
            "marker": {
             "line": {
              "color": "#E5ECF6",
              "width": 0.5
             },
             "pattern": {
              "fillmode": "overlay",
              "size": 10,
              "solidity": 0.2
             }
            },
            "type": "barpolar"
           }
          ],
          "carpet": [
           {
            "aaxis": {
             "endlinecolor": "#2a3f5f",
             "gridcolor": "white",
             "linecolor": "white",
             "minorgridcolor": "white",
             "startlinecolor": "#2a3f5f"
            },
            "baxis": {
             "endlinecolor": "#2a3f5f",
             "gridcolor": "white",
             "linecolor": "white",
             "minorgridcolor": "white",
             "startlinecolor": "#2a3f5f"
            },
            "type": "carpet"
           }
          ],
          "choropleth": [
           {
            "colorbar": {
             "outlinewidth": 0,
             "ticks": ""
            },
            "type": "choropleth"
           }
          ],
          "contour": [
           {
            "colorbar": {
             "outlinewidth": 0,
             "ticks": ""
            },
            "colorscale": [
             [
              0,
              "#0d0887"
             ],
             [
              0.1111111111111111,
              "#46039f"
             ],
             [
              0.2222222222222222,
              "#7201a8"
             ],
             [
              0.3333333333333333,
              "#9c179e"
             ],
             [
              0.4444444444444444,
              "#bd3786"
             ],
             [
              0.5555555555555556,
              "#d8576b"
             ],
             [
              0.6666666666666666,
              "#ed7953"
             ],
             [
              0.7777777777777778,
              "#fb9f3a"
             ],
             [
              0.8888888888888888,
              "#fdca26"
             ],
             [
              1,
              "#f0f921"
             ]
            ],
            "type": "contour"
           }
          ],
          "contourcarpet": [
           {
            "colorbar": {
             "outlinewidth": 0,
             "ticks": ""
            },
            "type": "contourcarpet"
           }
          ],
          "heatmap": [
           {
            "colorbar": {
             "outlinewidth": 0,
             "ticks": ""
            },
            "colorscale": [
             [
              0,
              "#0d0887"
             ],
             [
              0.1111111111111111,
              "#46039f"
             ],
             [
              0.2222222222222222,
              "#7201a8"
             ],
             [
              0.3333333333333333,
              "#9c179e"
             ],
             [
              0.4444444444444444,
              "#bd3786"
             ],
             [
              0.5555555555555556,
              "#d8576b"
             ],
             [
              0.6666666666666666,
              "#ed7953"
             ],
             [
              0.7777777777777778,
              "#fb9f3a"
             ],
             [
              0.8888888888888888,
              "#fdca26"
             ],
             [
              1,
              "#f0f921"
             ]
            ],
            "type": "heatmap"
           }
          ],
          "heatmapgl": [
           {
            "colorbar": {
             "outlinewidth": 0,
             "ticks": ""
            },
            "colorscale": [
             [
              0,
              "#0d0887"
             ],
             [
              0.1111111111111111,
              "#46039f"
             ],
             [
              0.2222222222222222,
              "#7201a8"
             ],
             [
              0.3333333333333333,
              "#9c179e"
             ],
             [
              0.4444444444444444,
              "#bd3786"
             ],
             [
              0.5555555555555556,
              "#d8576b"
             ],
             [
              0.6666666666666666,
              "#ed7953"
             ],
             [
              0.7777777777777778,
              "#fb9f3a"
             ],
             [
              0.8888888888888888,
              "#fdca26"
             ],
             [
              1,
              "#f0f921"
             ]
            ],
            "type": "heatmapgl"
           }
          ],
          "histogram": [
           {
            "marker": {
             "pattern": {
              "fillmode": "overlay",
              "size": 10,
              "solidity": 0.2
             }
            },
            "type": "histogram"
           }
          ],
          "histogram2d": [
           {
            "colorbar": {
             "outlinewidth": 0,
             "ticks": ""
            },
            "colorscale": [
             [
              0,
              "#0d0887"
             ],
             [
              0.1111111111111111,
              "#46039f"
             ],
             [
              0.2222222222222222,
              "#7201a8"
             ],
             [
              0.3333333333333333,
              "#9c179e"
             ],
             [
              0.4444444444444444,
              "#bd3786"
             ],
             [
              0.5555555555555556,
              "#d8576b"
             ],
             [
              0.6666666666666666,
              "#ed7953"
             ],
             [
              0.7777777777777778,
              "#fb9f3a"
             ],
             [
              0.8888888888888888,
              "#fdca26"
             ],
             [
              1,
              "#f0f921"
             ]
            ],
            "type": "histogram2d"
           }
          ],
          "histogram2dcontour": [
           {
            "colorbar": {
             "outlinewidth": 0,
             "ticks": ""
            },
            "colorscale": [
             [
              0,
              "#0d0887"
             ],
             [
              0.1111111111111111,
              "#46039f"
             ],
             [
              0.2222222222222222,
              "#7201a8"
             ],
             [
              0.3333333333333333,
              "#9c179e"
             ],
             [
              0.4444444444444444,
              "#bd3786"
             ],
             [
              0.5555555555555556,
              "#d8576b"
             ],
             [
              0.6666666666666666,
              "#ed7953"
             ],
             [
              0.7777777777777778,
              "#fb9f3a"
             ],
             [
              0.8888888888888888,
              "#fdca26"
             ],
             [
              1,
              "#f0f921"
             ]
            ],
            "type": "histogram2dcontour"
           }
          ],
          "mesh3d": [
           {
            "colorbar": {
             "outlinewidth": 0,
             "ticks": ""
            },
            "type": "mesh3d"
           }
          ],
          "parcoords": [
           {
            "line": {
             "colorbar": {
              "outlinewidth": 0,
              "ticks": ""
             }
            },
            "type": "parcoords"
           }
          ],
          "pie": [
           {
            "automargin": true,
            "type": "pie"
           }
          ],
          "scatter": [
           {
            "fillpattern": {
             "fillmode": "overlay",
             "size": 10,
             "solidity": 0.2
            },
            "type": "scatter"
           }
          ],
          "scatter3d": [
           {
            "line": {
             "colorbar": {
              "outlinewidth": 0,
              "ticks": ""
             }
            },
            "marker": {
             "colorbar": {
              "outlinewidth": 0,
              "ticks": ""
             }
            },
            "type": "scatter3d"
           }
          ],
          "scattercarpet": [
           {
            "marker": {
             "colorbar": {
              "outlinewidth": 0,
              "ticks": ""
             }
            },
            "type": "scattercarpet"
           }
          ],
          "scattergeo": [
           {
            "marker": {
             "colorbar": {
              "outlinewidth": 0,
              "ticks": ""
             }
            },
            "type": "scattergeo"
           }
          ],
          "scattergl": [
           {
            "marker": {
             "colorbar": {
              "outlinewidth": 0,
              "ticks": ""
             }
            },
            "type": "scattergl"
           }
          ],
          "scattermapbox": [
           {
            "marker": {
             "colorbar": {
              "outlinewidth": 0,
              "ticks": ""
             }
            },
            "type": "scattermapbox"
           }
          ],
          "scatterpolar": [
           {
            "marker": {
             "colorbar": {
              "outlinewidth": 0,
              "ticks": ""
             }
            },
            "type": "scatterpolar"
           }
          ],
          "scatterpolargl": [
           {
            "marker": {
             "colorbar": {
              "outlinewidth": 0,
              "ticks": ""
             }
            },
            "type": "scatterpolargl"
           }
          ],
          "scatterternary": [
           {
            "marker": {
             "colorbar": {
              "outlinewidth": 0,
              "ticks": ""
             }
            },
            "type": "scatterternary"
           }
          ],
          "surface": [
           {
            "colorbar": {
             "outlinewidth": 0,
             "ticks": ""
            },
            "colorscale": [
             [
              0,
              "#0d0887"
             ],
             [
              0.1111111111111111,
              "#46039f"
             ],
             [
              0.2222222222222222,
              "#7201a8"
             ],
             [
              0.3333333333333333,
              "#9c179e"
             ],
             [
              0.4444444444444444,
              "#bd3786"
             ],
             [
              0.5555555555555556,
              "#d8576b"
             ],
             [
              0.6666666666666666,
              "#ed7953"
             ],
             [
              0.7777777777777778,
              "#fb9f3a"
             ],
             [
              0.8888888888888888,
              "#fdca26"
             ],
             [
              1,
              "#f0f921"
             ]
            ],
            "type": "surface"
           }
          ],
          "table": [
           {
            "cells": {
             "fill": {
              "color": "#EBF0F8"
             },
             "line": {
              "color": "white"
             }
            },
            "header": {
             "fill": {
              "color": "#C8D4E3"
             },
             "line": {
              "color": "white"
             }
            },
            "type": "table"
           }
          ]
         },
         "layout": {
          "annotationdefaults": {
           "arrowcolor": "#2a3f5f",
           "arrowhead": 0,
           "arrowwidth": 1
          },
          "autotypenumbers": "strict",
          "coloraxis": {
           "colorbar": {
            "outlinewidth": 0,
            "ticks": ""
           }
          },
          "colorscale": {
           "diverging": [
            [
             0,
             "#8e0152"
            ],
            [
             0.1,
             "#c51b7d"
            ],
            [
             0.2,
             "#de77ae"
            ],
            [
             0.3,
             "#f1b6da"
            ],
            [
             0.4,
             "#fde0ef"
            ],
            [
             0.5,
             "#f7f7f7"
            ],
            [
             0.6,
             "#e6f5d0"
            ],
            [
             0.7,
             "#b8e186"
            ],
            [
             0.8,
             "#7fbc41"
            ],
            [
             0.9,
             "#4d9221"
            ],
            [
             1,
             "#276419"
            ]
           ],
           "sequential": [
            [
             0,
             "#0d0887"
            ],
            [
             0.1111111111111111,
             "#46039f"
            ],
            [
             0.2222222222222222,
             "#7201a8"
            ],
            [
             0.3333333333333333,
             "#9c179e"
            ],
            [
             0.4444444444444444,
             "#bd3786"
            ],
            [
             0.5555555555555556,
             "#d8576b"
            ],
            [
             0.6666666666666666,
             "#ed7953"
            ],
            [
             0.7777777777777778,
             "#fb9f3a"
            ],
            [
             0.8888888888888888,
             "#fdca26"
            ],
            [
             1,
             "#f0f921"
            ]
           ],
           "sequentialminus": [
            [
             0,
             "#0d0887"
            ],
            [
             0.1111111111111111,
             "#46039f"
            ],
            [
             0.2222222222222222,
             "#7201a8"
            ],
            [
             0.3333333333333333,
             "#9c179e"
            ],
            [
             0.4444444444444444,
             "#bd3786"
            ],
            [
             0.5555555555555556,
             "#d8576b"
            ],
            [
             0.6666666666666666,
             "#ed7953"
            ],
            [
             0.7777777777777778,
             "#fb9f3a"
            ],
            [
             0.8888888888888888,
             "#fdca26"
            ],
            [
             1,
             "#f0f921"
            ]
           ]
          },
          "colorway": [
           "#636efa",
           "#EF553B",
           "#00cc96",
           "#ab63fa",
           "#FFA15A",
           "#19d3f3",
           "#FF6692",
           "#B6E880",
           "#FF97FF",
           "#FECB52"
          ],
          "font": {
           "color": "#2a3f5f"
          },
          "geo": {
           "bgcolor": "white",
           "lakecolor": "white",
           "landcolor": "#E5ECF6",
           "showlakes": true,
           "showland": true,
           "subunitcolor": "white"
          },
          "hoverlabel": {
           "align": "left"
          },
          "hovermode": "closest",
          "mapbox": {
           "style": "light"
          },
          "paper_bgcolor": "white",
          "plot_bgcolor": "#E5ECF6",
          "polar": {
           "angularaxis": {
            "gridcolor": "white",
            "linecolor": "white",
            "ticks": ""
           },
           "bgcolor": "#E5ECF6",
           "radialaxis": {
            "gridcolor": "white",
            "linecolor": "white",
            "ticks": ""
           }
          },
          "scene": {
           "xaxis": {
            "backgroundcolor": "#E5ECF6",
            "gridcolor": "white",
            "gridwidth": 2,
            "linecolor": "white",
            "showbackground": true,
            "ticks": "",
            "zerolinecolor": "white"
           },
           "yaxis": {
            "backgroundcolor": "#E5ECF6",
            "gridcolor": "white",
            "gridwidth": 2,
            "linecolor": "white",
            "showbackground": true,
            "ticks": "",
            "zerolinecolor": "white"
           },
           "zaxis": {
            "backgroundcolor": "#E5ECF6",
            "gridcolor": "white",
            "gridwidth": 2,
            "linecolor": "white",
            "showbackground": true,
            "ticks": "",
            "zerolinecolor": "white"
           }
          },
          "shapedefaults": {
           "line": {
            "color": "#2a3f5f"
           }
          },
          "ternary": {
           "aaxis": {
            "gridcolor": "white",
            "linecolor": "white",
            "ticks": ""
           },
           "baxis": {
            "gridcolor": "white",
            "linecolor": "white",
            "ticks": ""
           },
           "bgcolor": "#E5ECF6",
           "caxis": {
            "gridcolor": "white",
            "linecolor": "white",
            "ticks": ""
           }
          },
          "title": {
           "x": 0.05
          },
          "xaxis": {
           "automargin": true,
           "gridcolor": "white",
           "linecolor": "white",
           "ticks": "",
           "title": {
            "standoff": 15
           },
           "zerolinecolor": "white",
           "zerolinewidth": 2
          },
          "yaxis": {
           "automargin": true,
           "gridcolor": "white",
           "linecolor": "white",
           "ticks": "",
           "title": {
            "standoff": 15
           },
           "zerolinecolor": "white",
           "zerolinewidth": 2
          }
         }
        },
        "width": 800
       }
      }
     },
     "metadata": {},
     "output_type": "display_data"
    }
   ],
   "source": [
    "df_temp = df[df['priceByArea'] < 1500]\n",
    "# df_temp = df_temp[df_temp['price'] < 100000]\n",
    "\n",
    "# \n",
    "color_scale = [(0, 'blue'), (1,'red')]\n",
    "fig = px.scatter_mapbox(df_temp, \n",
    "                        lat=\"latitude\", \n",
    "                        lon=\"longitude\", \n",
    "                        hover_name=\"price\", \n",
    "                        hover_data=[\"priceByArea\",\"price\",\"size\",\"rooms\",\"url\",\"propertyCode\"],\n",
    "                        color=\"priceByArea\",\n",
    "                        color_continuous_scale=color_scale,\n",
    "                        size=\"price\",\n",
    "                        zoom=13,\n",
    "                        height=800,\n",
    "                        width=800)\n",
    "# fig.update_layout(mapbox_style=\"open-street-map\")\n",
    "fig.update_layout(mapbox_style=\"carto-positron\") \n",
    "# fig.update_layout(mapbox_style=\"stamen-terrain\")\n",
    "# fig.update_layout(mapbox_style=\"satellite\") -> Need Mapbox API\n",
    "fig.update_layout(margin={\"r\":0,\"t\":0,\"l\":0,\"b\":0})\n",
    "fig.show()"
   ]
  },
  {
   "cell_type": "code",
   "execution_count": 16,
   "metadata": {},
   "outputs": [],
   "source": [
    "fig.write_image(\"price_heatmap.png\") "
   ]
  },
  {
   "cell_type": "code",
   "execution_count": 17,
   "metadata": {},
   "outputs": [
    {
     "data": {
      "text/plain": [
       "2418.695652173913"
      ]
     },
     "execution_count": 17,
     "metadata": {},
     "output_type": "execute_result"
    }
   ],
   "source": [
    "df[df['district']=='Monte Alto - Zalaeta - Atocha']['priceByArea'].mean()"
   ]
  },
  {
   "cell_type": "code",
   "execution_count": 18,
   "metadata": {},
   "outputs": [
    {
     "data": {
      "text/html": [
       "<div>\n",
       "<style scoped>\n",
       "    .dataframe tbody tr th:only-of-type {\n",
       "        vertical-align: middle;\n",
       "    }\n",
       "\n",
       "    .dataframe tbody tr th {\n",
       "        vertical-align: top;\n",
       "    }\n",
       "\n",
       "    .dataframe thead th {\n",
       "        text-align: right;\n",
       "    }\n",
       "</style>\n",
       "<table border=\"1\" class=\"dataframe\">\n",
       "  <thead>\n",
       "    <tr style=\"text-align: right;\">\n",
       "      <th></th>\n",
       "      <th>url</th>\n",
       "      <th>price</th>\n",
       "      <th>priceByArea</th>\n",
       "      <th>size</th>\n",
       "      <th>district</th>\n",
       "    </tr>\n",
       "  </thead>\n",
       "  <tbody>\n",
       "    <tr>\n",
       "      <th>14</th>\n",
       "      <td>https://www.idealista.com/inmueble/98726785/</td>\n",
       "      <td>55000.0</td>\n",
       "      <td>561.0</td>\n",
       "      <td>98.0</td>\n",
       "      <td>Elviña - A Zapateira</td>\n",
       "    </tr>\n",
       "    <tr>\n",
       "      <th>17</th>\n",
       "      <td>https://www.idealista.com/inmueble/98726184/</td>\n",
       "      <td>55000.0</td>\n",
       "      <td>561.0</td>\n",
       "      <td>98.0</td>\n",
       "      <td>Elviña - A Zapateira</td>\n",
       "    </tr>\n",
       "    <tr>\n",
       "      <th>32</th>\n",
       "      <td>https://www.idealista.com/inmueble/100767526/</td>\n",
       "      <td>115000.0</td>\n",
       "      <td>1250.0</td>\n",
       "      <td>92.0</td>\n",
       "      <td>Agra del Orzán - Ventorrillo</td>\n",
       "    </tr>\n",
       "    <tr>\n",
       "      <th>53</th>\n",
       "      <td>https://www.idealista.com/inmueble/100404150/</td>\n",
       "      <td>90000.0</td>\n",
       "      <td>1125.0</td>\n",
       "      <td>80.0</td>\n",
       "      <td>Agra del Orzán - Ventorrillo</td>\n",
       "    </tr>\n",
       "    <tr>\n",
       "      <th>56</th>\n",
       "      <td>https://www.idealista.com/inmueble/81650596/</td>\n",
       "      <td>210000.0</td>\n",
       "      <td>1193.0</td>\n",
       "      <td>176.0</td>\n",
       "      <td>Sagrada Familia</td>\n",
       "    </tr>\n",
       "    <tr>\n",
       "      <th>92</th>\n",
       "      <td>https://www.idealista.com/inmueble/100683328/</td>\n",
       "      <td>173000.0</td>\n",
       "      <td>1095.0</td>\n",
       "      <td>158.0</td>\n",
       "      <td>Agra del Orzán - Ventorrillo</td>\n",
       "    </tr>\n",
       "    <tr>\n",
       "      <th>150</th>\n",
       "      <td>https://www.idealista.com/inmueble/100076179/</td>\n",
       "      <td>93300.0</td>\n",
       "      <td>1244.0</td>\n",
       "      <td>75.0</td>\n",
       "      <td>Agra del Orzán - Ventorrillo</td>\n",
       "    </tr>\n",
       "    <tr>\n",
       "      <th>203</th>\n",
       "      <td>https://www.idealista.com/inmueble/98723606/</td>\n",
       "      <td>230000.0</td>\n",
       "      <td>1278.0</td>\n",
       "      <td>180.0</td>\n",
       "      <td>Perillo</td>\n",
       "    </tr>\n",
       "    <tr>\n",
       "      <th>204</th>\n",
       "      <td>https://www.idealista.com/inmueble/98775363/</td>\n",
       "      <td>80000.0</td>\n",
       "      <td>1231.0</td>\n",
       "      <td>65.0</td>\n",
       "      <td>Agra del Orzán - Ventorrillo</td>\n",
       "    </tr>\n",
       "    <tr>\n",
       "      <th>210</th>\n",
       "      <td>https://www.idealista.com/inmueble/100497236/</td>\n",
       "      <td>270000.0</td>\n",
       "      <td>1274.0</td>\n",
       "      <td>212.0</td>\n",
       "      <td>Monte Alto - Zalaeta - Atocha</td>\n",
       "    </tr>\n",
       "    <tr>\n",
       "      <th>226</th>\n",
       "      <td>https://www.idealista.com/inmueble/98619825/</td>\n",
       "      <td>110000.0</td>\n",
       "      <td>1078.0</td>\n",
       "      <td>102.0</td>\n",
       "      <td>Someso - Matogrande</td>\n",
       "    </tr>\n",
       "    <tr>\n",
       "      <th>252</th>\n",
       "      <td>https://www.idealista.com/inmueble/99136230/</td>\n",
       "      <td>170000.0</td>\n",
       "      <td>1206.0</td>\n",
       "      <td>141.0</td>\n",
       "      <td>Eirís</td>\n",
       "    </tr>\n",
       "    <tr>\n",
       "      <th>281</th>\n",
       "      <td>https://www.idealista.com/inmueble/99041337/</td>\n",
       "      <td>140000.0</td>\n",
       "      <td>1167.0</td>\n",
       "      <td>120.0</td>\n",
       "      <td>Someso - Matogrande</td>\n",
       "    </tr>\n",
       "    <tr>\n",
       "      <th>287</th>\n",
       "      <td>https://www.idealista.com/inmueble/100884370/</td>\n",
       "      <td>95000.0</td>\n",
       "      <td>1267.0</td>\n",
       "      <td>75.0</td>\n",
       "      <td>Someso - Matogrande</td>\n",
       "    </tr>\n",
       "    <tr>\n",
       "      <th>297</th>\n",
       "      <td>https://www.idealista.com/inmueble/100702873/</td>\n",
       "      <td>270000.0</td>\n",
       "      <td>1286.0</td>\n",
       "      <td>210.0</td>\n",
       "      <td>Monte Alto - Zalaeta - Atocha</td>\n",
       "    </tr>\n",
       "    <tr>\n",
       "      <th>302</th>\n",
       "      <td>https://www.idealista.com/inmueble/100702873/</td>\n",
       "      <td>270000.0</td>\n",
       "      <td>1286.0</td>\n",
       "      <td>210.0</td>\n",
       "      <td>Monte Alto - Zalaeta - Atocha</td>\n",
       "    </tr>\n",
       "    <tr>\n",
       "      <th>314</th>\n",
       "      <td>https://www.idealista.com/inmueble/98624800/</td>\n",
       "      <td>170000.0</td>\n",
       "      <td>1232.0</td>\n",
       "      <td>138.0</td>\n",
       "      <td>Eirís</td>\n",
       "    </tr>\n",
       "    <tr>\n",
       "      <th>341</th>\n",
       "      <td>https://www.idealista.com/inmueble/99226951/</td>\n",
       "      <td>110000.0</td>\n",
       "      <td>1183.0</td>\n",
       "      <td>93.0</td>\n",
       "      <td>Eirís</td>\n",
       "    </tr>\n",
       "    <tr>\n",
       "      <th>343</th>\n",
       "      <td>https://www.idealista.com/inmueble/99203773/</td>\n",
       "      <td>170000.0</td>\n",
       "      <td>1206.0</td>\n",
       "      <td>141.0</td>\n",
       "      <td>Eirís</td>\n",
       "    </tr>\n",
       "    <tr>\n",
       "      <th>351</th>\n",
       "      <td>https://www.idealista.com/inmueble/94451681/</td>\n",
       "      <td>48000.0</td>\n",
       "      <td>565.0</td>\n",
       "      <td>85.0</td>\n",
       "      <td>Eirís</td>\n",
       "    </tr>\n",
       "    <tr>\n",
       "      <th>394</th>\n",
       "      <td>https://www.idealista.com/inmueble/100661197/</td>\n",
       "      <td>130000.0</td>\n",
       "      <td>1215.0</td>\n",
       "      <td>107.0</td>\n",
       "      <td>Sagrada Familia</td>\n",
       "    </tr>\n",
       "    <tr>\n",
       "      <th>436</th>\n",
       "      <td>https://www.idealista.com/inmueble/99886395/</td>\n",
       "      <td>75000.0</td>\n",
       "      <td>1293.0</td>\n",
       "      <td>58.0</td>\n",
       "      <td>Agra del Orzán - Ventorrillo</td>\n",
       "    </tr>\n",
       "    <tr>\n",
       "      <th>497</th>\n",
       "      <td>https://www.idealista.com/inmueble/100605838/</td>\n",
       "      <td>110000.0</td>\n",
       "      <td>1134.0</td>\n",
       "      <td>97.0</td>\n",
       "      <td>Someso - Matogrande</td>\n",
       "    </tr>\n",
       "    <tr>\n",
       "      <th>501</th>\n",
       "      <td>https://www.idealista.com/inmueble/96800581/</td>\n",
       "      <td>91000.0</td>\n",
       "      <td>978.0</td>\n",
       "      <td>93.0</td>\n",
       "      <td>Agra del Orzán - Ventorrillo</td>\n",
       "    </tr>\n",
       "    <tr>\n",
       "      <th>507</th>\n",
       "      <td>https://www.idealista.com/inmueble/95580216/</td>\n",
       "      <td>155000.0</td>\n",
       "      <td>1250.0</td>\n",
       "      <td>124.0</td>\n",
       "      <td>Agra del Orzán - Ventorrillo</td>\n",
       "    </tr>\n",
       "    <tr>\n",
       "      <th>509</th>\n",
       "      <td>https://www.idealista.com/inmueble/99403333/</td>\n",
       "      <td>100000.0</td>\n",
       "      <td>1000.0</td>\n",
       "      <td>100.0</td>\n",
       "      <td>Suevos-Pastoriza</td>\n",
       "    </tr>\n",
       "    <tr>\n",
       "      <th>515</th>\n",
       "      <td>https://www.idealista.com/inmueble/99810445/</td>\n",
       "      <td>93300.0</td>\n",
       "      <td>1261.0</td>\n",
       "      <td>74.0</td>\n",
       "      <td>Agra del Orzán - Ventorrillo</td>\n",
       "    </tr>\n",
       "    <tr>\n",
       "      <th>536</th>\n",
       "      <td>https://www.idealista.com/inmueble/100934228/</td>\n",
       "      <td>140000.0</td>\n",
       "      <td>1167.0</td>\n",
       "      <td>120.0</td>\n",
       "      <td>Someso - Matogrande</td>\n",
       "    </tr>\n",
       "    <tr>\n",
       "      <th>541</th>\n",
       "      <td>https://www.idealista.com/inmueble/101035961/</td>\n",
       "      <td>150000.0</td>\n",
       "      <td>652.0</td>\n",
       "      <td>230.0</td>\n",
       "      <td>Agra del Orzán - Ventorrillo</td>\n",
       "    </tr>\n",
       "    <tr>\n",
       "      <th>566</th>\n",
       "      <td>https://www.idealista.com/inmueble/100403476/</td>\n",
       "      <td>100000.0</td>\n",
       "      <td>1250.0</td>\n",
       "      <td>80.0</td>\n",
       "      <td>Agra del Orzán - Ventorrillo</td>\n",
       "    </tr>\n",
       "    <tr>\n",
       "      <th>611</th>\n",
       "      <td>https://www.idealista.com/inmueble/101038379/</td>\n",
       "      <td>115000.0</td>\n",
       "      <td>1150.0</td>\n",
       "      <td>100.0</td>\n",
       "      <td>Monte Alto - Zalaeta - Atocha</td>\n",
       "    </tr>\n",
       "    <tr>\n",
       "      <th>616</th>\n",
       "      <td>https://www.idealista.com/inmueble/100112866/</td>\n",
       "      <td>130000.0</td>\n",
       "      <td>500.0</td>\n",
       "      <td>260.0</td>\n",
       "      <td>Someso - Matogrande</td>\n",
       "    </tr>\n",
       "    <tr>\n",
       "      <th>658</th>\n",
       "      <td>https://www.idealista.com/inmueble/101010484/</td>\n",
       "      <td>110000.0</td>\n",
       "      <td>1264.0</td>\n",
       "      <td>87.0</td>\n",
       "      <td>Someso - Matogrande</td>\n",
       "    </tr>\n",
       "  </tbody>\n",
       "</table>\n",
       "</div>"
      ],
      "text/plain": [
       "                                               url     price  priceByArea  \\\n",
       "14    https://www.idealista.com/inmueble/98726785/   55000.0        561.0   \n",
       "17    https://www.idealista.com/inmueble/98726184/   55000.0        561.0   \n",
       "32   https://www.idealista.com/inmueble/100767526/  115000.0       1250.0   \n",
       "53   https://www.idealista.com/inmueble/100404150/   90000.0       1125.0   \n",
       "56    https://www.idealista.com/inmueble/81650596/  210000.0       1193.0   \n",
       "92   https://www.idealista.com/inmueble/100683328/  173000.0       1095.0   \n",
       "150  https://www.idealista.com/inmueble/100076179/   93300.0       1244.0   \n",
       "203   https://www.idealista.com/inmueble/98723606/  230000.0       1278.0   \n",
       "204   https://www.idealista.com/inmueble/98775363/   80000.0       1231.0   \n",
       "210  https://www.idealista.com/inmueble/100497236/  270000.0       1274.0   \n",
       "226   https://www.idealista.com/inmueble/98619825/  110000.0       1078.0   \n",
       "252   https://www.idealista.com/inmueble/99136230/  170000.0       1206.0   \n",
       "281   https://www.idealista.com/inmueble/99041337/  140000.0       1167.0   \n",
       "287  https://www.idealista.com/inmueble/100884370/   95000.0       1267.0   \n",
       "297  https://www.idealista.com/inmueble/100702873/  270000.0       1286.0   \n",
       "302  https://www.idealista.com/inmueble/100702873/  270000.0       1286.0   \n",
       "314   https://www.idealista.com/inmueble/98624800/  170000.0       1232.0   \n",
       "341   https://www.idealista.com/inmueble/99226951/  110000.0       1183.0   \n",
       "343   https://www.idealista.com/inmueble/99203773/  170000.0       1206.0   \n",
       "351   https://www.idealista.com/inmueble/94451681/   48000.0        565.0   \n",
       "394  https://www.idealista.com/inmueble/100661197/  130000.0       1215.0   \n",
       "436   https://www.idealista.com/inmueble/99886395/   75000.0       1293.0   \n",
       "497  https://www.idealista.com/inmueble/100605838/  110000.0       1134.0   \n",
       "501   https://www.idealista.com/inmueble/96800581/   91000.0        978.0   \n",
       "507   https://www.idealista.com/inmueble/95580216/  155000.0       1250.0   \n",
       "509   https://www.idealista.com/inmueble/99403333/  100000.0       1000.0   \n",
       "515   https://www.idealista.com/inmueble/99810445/   93300.0       1261.0   \n",
       "536  https://www.idealista.com/inmueble/100934228/  140000.0       1167.0   \n",
       "541  https://www.idealista.com/inmueble/101035961/  150000.0        652.0   \n",
       "566  https://www.idealista.com/inmueble/100403476/  100000.0       1250.0   \n",
       "611  https://www.idealista.com/inmueble/101038379/  115000.0       1150.0   \n",
       "616  https://www.idealista.com/inmueble/100112866/  130000.0        500.0   \n",
       "658  https://www.idealista.com/inmueble/101010484/  110000.0       1264.0   \n",
       "\n",
       "      size                       district  \n",
       "14    98.0           Elviña - A Zapateira  \n",
       "17    98.0           Elviña - A Zapateira  \n",
       "32    92.0   Agra del Orzán - Ventorrillo  \n",
       "53    80.0   Agra del Orzán - Ventorrillo  \n",
       "56   176.0                Sagrada Familia  \n",
       "92   158.0   Agra del Orzán - Ventorrillo  \n",
       "150   75.0   Agra del Orzán - Ventorrillo  \n",
       "203  180.0                        Perillo  \n",
       "204   65.0   Agra del Orzán - Ventorrillo  \n",
       "210  212.0  Monte Alto - Zalaeta - Atocha  \n",
       "226  102.0            Someso - Matogrande  \n",
       "252  141.0                          Eirís  \n",
       "281  120.0            Someso - Matogrande  \n",
       "287   75.0            Someso - Matogrande  \n",
       "297  210.0  Monte Alto - Zalaeta - Atocha  \n",
       "302  210.0  Monte Alto - Zalaeta - Atocha  \n",
       "314  138.0                          Eirís  \n",
       "341   93.0                          Eirís  \n",
       "343  141.0                          Eirís  \n",
       "351   85.0                          Eirís  \n",
       "394  107.0                Sagrada Familia  \n",
       "436   58.0   Agra del Orzán - Ventorrillo  \n",
       "497   97.0            Someso - Matogrande  \n",
       "501   93.0   Agra del Orzán - Ventorrillo  \n",
       "507  124.0   Agra del Orzán - Ventorrillo  \n",
       "509  100.0               Suevos-Pastoriza  \n",
       "515   74.0   Agra del Orzán - Ventorrillo  \n",
       "536  120.0            Someso - Matogrande  \n",
       "541  230.0   Agra del Orzán - Ventorrillo  \n",
       "566   80.0   Agra del Orzán - Ventorrillo  \n",
       "611  100.0  Monte Alto - Zalaeta - Atocha  \n",
       "616  260.0            Someso - Matogrande  \n",
       "658   87.0            Someso - Matogrande  "
      ]
     },
     "execution_count": 18,
     "metadata": {},
     "output_type": "execute_result"
    }
   ],
   "source": [
    "df[(df['priceByArea']<1300) & (df['district']!='Los Castros - Castrillón') & (df['district']!='Os Mallos')][['url', 'price', 'priceByArea', 'size','district']]"
   ]
  },
  {
   "cell_type": "code",
   "execution_count": 19,
   "metadata": {},
   "outputs": [
    {
     "data": {
      "text/plain": [
       "20      https://www.idealista.com/inmueble/99892520/\n",
       "39     https://www.idealista.com/inmueble/100879026/\n",
       "40      https://www.idealista.com/inmueble/99012373/\n",
       "51      https://www.idealista.com/inmueble/98821510/\n",
       "56      https://www.idealista.com/inmueble/81650596/\n",
       "68      https://www.idealista.com/inmueble/99485074/\n",
       "91     https://www.idealista.com/inmueble/100721743/\n",
       "92     https://www.idealista.com/inmueble/100683328/\n",
       "203     https://www.idealista.com/inmueble/98723606/\n",
       "210    https://www.idealista.com/inmueble/100497236/\n",
       "226     https://www.idealista.com/inmueble/98619825/\n",
       "227     https://www.idealista.com/inmueble/98509549/\n",
       "234    https://www.idealista.com/inmueble/100421926/\n",
       "252     https://www.idealista.com/inmueble/99136230/\n",
       "268     https://www.idealista.com/inmueble/99288002/\n",
       "281     https://www.idealista.com/inmueble/99041337/\n",
       "289    https://www.idealista.com/inmueble/100963958/\n",
       "297    https://www.idealista.com/inmueble/100702873/\n",
       "302    https://www.idealista.com/inmueble/100702873/\n",
       "314     https://www.idealista.com/inmueble/98624800/\n",
       "343     https://www.idealista.com/inmueble/99203773/\n",
       "391    https://www.idealista.com/inmueble/100263643/\n",
       "394    https://www.idealista.com/inmueble/100661197/\n",
       "474    https://www.idealista.com/inmueble/100839555/\n",
       "507     https://www.idealista.com/inmueble/95580216/\n",
       "517    https://www.idealista.com/inmueble/100533178/\n",
       "536    https://www.idealista.com/inmueble/100934228/\n",
       "537     https://www.idealista.com/inmueble/98969331/\n",
       "541    https://www.idealista.com/inmueble/101035961/\n",
       "542     https://www.idealista.com/inmueble/99619874/\n",
       "616    https://www.idealista.com/inmueble/100112866/\n",
       "667    https://www.idealista.com/inmueble/100447017/\n",
       "682     https://www.idealista.com/inmueble/97111729/\n",
       "692     https://www.idealista.com/inmueble/98513574/\n",
       "Name: url, dtype: object"
      ]
     },
     "execution_count": 19,
     "metadata": {},
     "output_type": "execute_result"
    }
   ],
   "source": [
    "df_temp[df_temp['size']>100]['url']"
   ]
  },
  {
   "cell_type": "code",
   "execution_count": 20,
   "metadata": {},
   "outputs": [
    {
     "data": {
      "text/plain": [
       "427    https://www.idealista.com/inmueble/97827864/\n",
       "Name: url, dtype: object"
      ]
     },
     "execution_count": 20,
     "metadata": {},
     "output_type": "execute_result"
    }
   ],
   "source": [
    "df[(df['price']==200000) & (df['priceByArea']==1961)]['url']"
   ]
  },
  {
   "cell_type": "code",
   "execution_count": 21,
   "metadata": {},
   "outputs": [
    {
     "data": {
      "text/plain": [
       "204    https://www.idealista.com/inmueble/98775363/\n",
       "Name: url, dtype: object"
      ]
     },
     "execution_count": 21,
     "metadata": {},
     "output_type": "execute_result"
    }
   ],
   "source": [
    "df[df['price']==80000]['url']"
   ]
  },
  {
   "cell_type": "code",
   "execution_count": 22,
   "metadata": {},
   "outputs": [
    {
     "data": {
      "text/plain": [
       "Unnamed: 0                                                                                    4\n",
       "propertyCode                                                                           98775363\n",
       "thumbnail                                     https://img3.idealista.com/blur/WEB_LISTING/0/...\n",
       "numPhotos                                                                                    21\n",
       "floor                                                                                       NaN\n",
       "price                                                                                   80000.0\n",
       "propertyType                                                                             chalet\n",
       "operation                                                                                  sale\n",
       "size                                                                                       65.0\n",
       "exterior                                                                                  False\n",
       "rooms                                                                                         2\n",
       "bathrooms                                                                                     0\n",
       "address                                                                          LUGAR LOUREIRO\n",
       "province                                                                               A Coruña\n",
       "municipality                                                                           A Coruña\n",
       "district                                                           Agra del Orzán - Ventorrillo\n",
       "country                                                                                      es\n",
       "latitude                                                                              43.367644\n",
       "longitude                                                                             -8.433822\n",
       "showAddress                                                                               False\n",
       "url                                                https://www.idealista.com/inmueble/98775363/\n",
       "distance                                                                                   3048\n",
       "description                                   ¡Y POR FIN UNA CASA A MI GUSTO! Hoy en VIPKEL ...\n",
       "hasVideo                                                                                   True\n",
       "status                                                                                    renew\n",
       "newDevelopment                                                                            False\n",
       "hasLift                                                                                     NaN\n",
       "priceByArea                                                                              1231.0\n",
       "hasPlan                                                                                    True\n",
       "has3DTour                                                                                 False\n",
       "has360                                                                                    False\n",
       "hasStaging                                                                                False\n",
       "superTopHighlight                                                                         False\n",
       "topNewDevelopment                                                                         False\n",
       "detailedType.typology                                                                    chalet\n",
       "suggestedTexts.subtitle                                  Agra del Orzán - Ventorrillo, A Coruña\n",
       "suggestedTexts.title                                           Chalet pareado en Lugar Loureiro\n",
       "externalReference                                                                     JA - 0129\n",
       "parkingSpace.hasParkingSpace                                                                NaN\n",
       "parkingSpace.isParkingSpaceIncludedInPrice                                                  NaN\n",
       "neighborhood                                                                                NaN\n",
       "detailedType.subTypology                                                      semidetachedHouse\n",
       "labels                                                                                      NaN\n",
       "parkingSpace.parkingSpacePrice                                                              NaN\n",
       "newDevelopmentFinished                                                                      NaN\n",
       "Name: 204, dtype: object"
      ]
     },
     "execution_count": 22,
     "metadata": {},
     "output_type": "execute_result"
    }
   ],
   "source": [
    "df[df['price']==80000].iloc[0]"
   ]
  },
  {
   "cell_type": "code",
   "execution_count": 23,
   "metadata": {},
   "outputs": [
    {
     "data": {
      "text/plain": [
       "Series([], Name: url, dtype: object)"
      ]
     },
     "execution_count": 23,
     "metadata": {},
     "output_type": "execute_result"
    }
   ],
   "source": [
    "df[df['propertyCode']==99269703]['url']"
   ]
  },
  {
   "cell_type": "code",
   "execution_count": 24,
   "metadata": {},
   "outputs": [
    {
     "data": {
      "text/html": [
       "<div>\n",
       "<style scoped>\n",
       "    .dataframe tbody tr th:only-of-type {\n",
       "        vertical-align: middle;\n",
       "    }\n",
       "\n",
       "    .dataframe tbody tr th {\n",
       "        vertical-align: top;\n",
       "    }\n",
       "\n",
       "    .dataframe thead th {\n",
       "        text-align: right;\n",
       "    }\n",
       "</style>\n",
       "<table border=\"1\" class=\"dataframe\">\n",
       "  <thead>\n",
       "    <tr style=\"text-align: right;\">\n",
       "      <th></th>\n",
       "      <th>url</th>\n",
       "      <th>price</th>\n",
       "      <th>size</th>\n",
       "      <th>suggestedTexts.title</th>\n",
       "    </tr>\n",
       "  </thead>\n",
       "  <tbody>\n",
       "    <tr>\n",
       "      <th>5</th>\n",
       "      <td>https://www.idealista.com/inmueble/100763565/</td>\n",
       "      <td>55000.0</td>\n",
       "      <td>85.0</td>\n",
       "      <td>Ático</td>\n",
       "    </tr>\n",
       "    <tr>\n",
       "      <th>14</th>\n",
       "      <td>https://www.idealista.com/inmueble/98726785/</td>\n",
       "      <td>55000.0</td>\n",
       "      <td>98.0</td>\n",
       "      <td>Chalet adosado en Calle o Portalón, 38</td>\n",
       "    </tr>\n",
       "    <tr>\n",
       "      <th>17</th>\n",
       "      <td>https://www.idealista.com/inmueble/98726184/</td>\n",
       "      <td>55000.0</td>\n",
       "      <td>98.0</td>\n",
       "      <td>Chalet adosado en Calle o Portalon</td>\n",
       "    </tr>\n",
       "    <tr>\n",
       "      <th>351</th>\n",
       "      <td>https://www.idealista.com/inmueble/94451681/</td>\n",
       "      <td>48000.0</td>\n",
       "      <td>85.0</td>\n",
       "      <td>Chalet pareado en Lugar Lamadosa</td>\n",
       "    </tr>\n",
       "    <tr>\n",
       "      <th>386</th>\n",
       "      <td>https://www.idealista.com/inmueble/96835477/</td>\n",
       "      <td>51000.0</td>\n",
       "      <td>60.0</td>\n",
       "      <td>Piso en Calle Francisco Tettamancy</td>\n",
       "    </tr>\n",
       "    <tr>\n",
       "      <th>436</th>\n",
       "      <td>https://www.idealista.com/inmueble/99886395/</td>\n",
       "      <td>75000.0</td>\n",
       "      <td>58.0</td>\n",
       "      <td>Piso en Calle Bellavista</td>\n",
       "    </tr>\n",
       "    <tr>\n",
       "      <th>540</th>\n",
       "      <td>https://www.idealista.com/inmueble/100934534/</td>\n",
       "      <td>65000.0</td>\n",
       "      <td>78.0</td>\n",
       "      <td>Piso</td>\n",
       "    </tr>\n",
       "    <tr>\n",
       "      <th>605</th>\n",
       "      <td>https://www.idealista.com/inmueble/98889796/</td>\n",
       "      <td>53870.0</td>\n",
       "      <td>68.0</td>\n",
       "      <td>Piso en Camino De La Iglesia, 3</td>\n",
       "    </tr>\n",
       "  </tbody>\n",
       "</table>\n",
       "</div>"
      ],
      "text/plain": [
       "                                               url    price  size  \\\n",
       "5    https://www.idealista.com/inmueble/100763565/  55000.0  85.0   \n",
       "14    https://www.idealista.com/inmueble/98726785/  55000.0  98.0   \n",
       "17    https://www.idealista.com/inmueble/98726184/  55000.0  98.0   \n",
       "351   https://www.idealista.com/inmueble/94451681/  48000.0  85.0   \n",
       "386   https://www.idealista.com/inmueble/96835477/  51000.0  60.0   \n",
       "436   https://www.idealista.com/inmueble/99886395/  75000.0  58.0   \n",
       "540  https://www.idealista.com/inmueble/100934534/  65000.0  78.0   \n",
       "605   https://www.idealista.com/inmueble/98889796/  53870.0  68.0   \n",
       "\n",
       "                       suggestedTexts.title  \n",
       "5                                     Ático  \n",
       "14   Chalet adosado en Calle o Portalón, 38  \n",
       "17       Chalet adosado en Calle o Portalon  \n",
       "351        Chalet pareado en Lugar Lamadosa  \n",
       "386      Piso en Calle Francisco Tettamancy  \n",
       "436                Piso en Calle Bellavista  \n",
       "540                                    Piso  \n",
       "605         Piso en Camino De La Iglesia, 3  "
      ]
     },
     "execution_count": 24,
     "metadata": {},
     "output_type": "execute_result"
    }
   ],
   "source": [
    "df[df['price']<80000][['url','price','size','suggestedTexts.title']]"
   ]
  },
  {
   "cell_type": "code",
   "execution_count": null,
   "metadata": {},
   "outputs": [],
   "source": []
  }
 ],
 "metadata": {
  "kernelspec": {
   "display_name": "Python 3.9.7 ('base')",
   "language": "python",
   "name": "python3"
  },
  "language_info": {
   "codemirror_mode": {
    "name": "ipython",
    "version": 3
   },
   "file_extension": ".py",
   "mimetype": "text/x-python",
   "name": "python",
   "nbconvert_exporter": "python",
   "pygments_lexer": "ipython3",
   "version": "3.9.7"
  },
  "orig_nbformat": 4,
  "vscode": {
   "interpreter": {
    "hash": "80e84fd967207d73b61aa430605dad8c12793944af9d1a99037915e6e7461b10"
   }
  }
 },
 "nbformat": 4,
 "nbformat_minor": 2
}
