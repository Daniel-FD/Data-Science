{
 "cells": [
  {
   "cell_type": "code",
   "execution_count": 1,
   "metadata": {},
   "outputs": [],
   "source": [
    "import plotly.express as px\n",
    "import json\n",
    "import pandas as pd\n",
    "import kaleido"
   ]
  },
  {
   "cell_type": "code",
   "execution_count": 2,
   "metadata": {},
   "outputs": [],
   "source": [
    "df = pd.read_csv('/Users/danielfiuzadosil/Documents/GitHub_Repo/Data-Science/Real State/Idealista/idealista_search12202022_16:37.csv')"
   ]
  },
  {
   "cell_type": "code",
   "execution_count": 3,
   "metadata": {},
   "outputs": [
    {
     "data": {
      "text/plain": [
       "700"
      ]
     },
     "execution_count": 3,
     "metadata": {},
     "output_type": "execute_result"
    }
   ],
   "source": [
    "len(df)"
   ]
  },
  {
   "cell_type": "code",
   "execution_count": 4,
   "metadata": {},
   "outputs": [
    {
     "data": {
      "text/html": [
       "<div>\n",
       "<style scoped>\n",
       "    .dataframe tbody tr th:only-of-type {\n",
       "        vertical-align: middle;\n",
       "    }\n",
       "\n",
       "    .dataframe tbody tr th {\n",
       "        vertical-align: top;\n",
       "    }\n",
       "\n",
       "    .dataframe thead th {\n",
       "        text-align: right;\n",
       "    }\n",
       "</style>\n",
       "<table border=\"1\" class=\"dataframe\">\n",
       "  <thead>\n",
       "    <tr style=\"text-align: right;\">\n",
       "      <th></th>\n",
       "      <th>Unnamed: 0</th>\n",
       "      <th>propertyCode</th>\n",
       "      <th>numPhotos</th>\n",
       "      <th>price</th>\n",
       "      <th>size</th>\n",
       "      <th>rooms</th>\n",
       "      <th>bathrooms</th>\n",
       "      <th>latitude</th>\n",
       "      <th>longitude</th>\n",
       "      <th>distance</th>\n",
       "      <th>priceByArea</th>\n",
       "      <th>parkingSpace.parkingSpacePrice</th>\n",
       "    </tr>\n",
       "  </thead>\n",
       "  <tbody>\n",
       "    <tr>\n",
       "      <th>count</th>\n",
       "      <td>700.000000</td>\n",
       "      <td>7.000000e+02</td>\n",
       "      <td>700.000000</td>\n",
       "      <td>700.000000</td>\n",
       "      <td>700.000000</td>\n",
       "      <td>700.000000</td>\n",
       "      <td>700.000000</td>\n",
       "      <td>700.000000</td>\n",
       "      <td>700.000000</td>\n",
       "      <td>700.000000</td>\n",
       "      <td>700.000000</td>\n",
       "      <td>18.000000</td>\n",
       "    </tr>\n",
       "    <tr>\n",
       "      <th>mean</th>\n",
       "      <td>24.500000</td>\n",
       "      <td>9.721572e+07</td>\n",
       "      <td>24.967143</td>\n",
       "      <td>190821.677143</td>\n",
       "      <td>91.992857</td>\n",
       "      <td>2.550000</td>\n",
       "      <td>1.614286</td>\n",
       "      <td>43.357088</td>\n",
       "      <td>-8.407360</td>\n",
       "      <td>2637.438571</td>\n",
       "      <td>2172.807143</td>\n",
       "      <td>20115.666667</td>\n",
       "    </tr>\n",
       "    <tr>\n",
       "      <th>std</th>\n",
       "      <td>14.441189</td>\n",
       "      <td>6.950387e+06</td>\n",
       "      <td>11.032936</td>\n",
       "      <td>60125.825495</td>\n",
       "      <td>29.094857</td>\n",
       "      <td>1.007305</td>\n",
       "      <td>0.521165</td>\n",
       "      <td>0.011440</td>\n",
       "      <td>0.012392</td>\n",
       "      <td>1105.414447</td>\n",
       "      <td>749.130293</td>\n",
       "      <td>8311.883435</td>\n",
       "    </tr>\n",
       "    <tr>\n",
       "      <th>min</th>\n",
       "      <td>0.000000</td>\n",
       "      <td>2.753168e+07</td>\n",
       "      <td>0.000000</td>\n",
       "      <td>39000.000000</td>\n",
       "      <td>30.000000</td>\n",
       "      <td>0.000000</td>\n",
       "      <td>1.000000</td>\n",
       "      <td>43.333078</td>\n",
       "      <td>-8.445478</td>\n",
       "      <td>42.000000</td>\n",
       "      <td>393.000000</td>\n",
       "      <td>82.000000</td>\n",
       "    </tr>\n",
       "    <tr>\n",
       "      <th>25%</th>\n",
       "      <td>12.000000</td>\n",
       "      <td>9.747379e+07</td>\n",
       "      <td>17.000000</td>\n",
       "      <td>148950.000000</td>\n",
       "      <td>74.750000</td>\n",
       "      <td>2.000000</td>\n",
       "      <td>1.000000</td>\n",
       "      <td>43.348648</td>\n",
       "      <td>-8.416639</td>\n",
       "      <td>2184.250000</td>\n",
       "      <td>1643.750000</td>\n",
       "      <td>18000.000000</td>\n",
       "    </tr>\n",
       "    <tr>\n",
       "      <th>50%</th>\n",
       "      <td>24.500000</td>\n",
       "      <td>9.866324e+07</td>\n",
       "      <td>24.000000</td>\n",
       "      <td>189500.000000</td>\n",
       "      <td>88.000000</td>\n",
       "      <td>2.000000</td>\n",
       "      <td>2.000000</td>\n",
       "      <td>43.356724</td>\n",
       "      <td>-8.408283</td>\n",
       "      <td>2623.500000</td>\n",
       "      <td>2092.500000</td>\n",
       "      <td>20000.000000</td>\n",
       "    </tr>\n",
       "    <tr>\n",
       "      <th>75%</th>\n",
       "      <td>37.000000</td>\n",
       "      <td>9.932791e+07</td>\n",
       "      <td>31.000000</td>\n",
       "      <td>235000.000000</td>\n",
       "      <td>106.000000</td>\n",
       "      <td>3.000000</td>\n",
       "      <td>2.000000</td>\n",
       "      <td>43.363408</td>\n",
       "      <td>-8.398456</td>\n",
       "      <td>3249.250000</td>\n",
       "      <td>2624.250000</td>\n",
       "      <td>25000.000000</td>\n",
       "    </tr>\n",
       "    <tr>\n",
       "      <th>max</th>\n",
       "      <td>49.000000</td>\n",
       "      <td>9.995827e+07</td>\n",
       "      <td>87.000000</td>\n",
       "      <td>300000.000000</td>\n",
       "      <td>331.000000</td>\n",
       "      <td>8.000000</td>\n",
       "      <td>3.000000</td>\n",
       "      <td>43.384552</td>\n",
       "      <td>-8.337533</td>\n",
       "      <td>4995.000000</td>\n",
       "      <td>7500.000000</td>\n",
       "      <td>35000.000000</td>\n",
       "    </tr>\n",
       "  </tbody>\n",
       "</table>\n",
       "</div>"
      ],
      "text/plain": [
       "       Unnamed: 0  propertyCode   numPhotos          price        size  \\\n",
       "count  700.000000  7.000000e+02  700.000000     700.000000  700.000000   \n",
       "mean    24.500000  9.721572e+07   24.967143  190821.677143   91.992857   \n",
       "std     14.441189  6.950387e+06   11.032936   60125.825495   29.094857   \n",
       "min      0.000000  2.753168e+07    0.000000   39000.000000   30.000000   \n",
       "25%     12.000000  9.747379e+07   17.000000  148950.000000   74.750000   \n",
       "50%     24.500000  9.866324e+07   24.000000  189500.000000   88.000000   \n",
       "75%     37.000000  9.932791e+07   31.000000  235000.000000  106.000000   \n",
       "max     49.000000  9.995827e+07   87.000000  300000.000000  331.000000   \n",
       "\n",
       "            rooms   bathrooms    latitude   longitude     distance  \\\n",
       "count  700.000000  700.000000  700.000000  700.000000   700.000000   \n",
       "mean     2.550000    1.614286   43.357088   -8.407360  2637.438571   \n",
       "std      1.007305    0.521165    0.011440    0.012392  1105.414447   \n",
       "min      0.000000    1.000000   43.333078   -8.445478    42.000000   \n",
       "25%      2.000000    1.000000   43.348648   -8.416639  2184.250000   \n",
       "50%      2.000000    2.000000   43.356724   -8.408283  2623.500000   \n",
       "75%      3.000000    2.000000   43.363408   -8.398456  3249.250000   \n",
       "max      8.000000    3.000000   43.384552   -8.337533  4995.000000   \n",
       "\n",
       "       priceByArea  parkingSpace.parkingSpacePrice  \n",
       "count   700.000000                       18.000000  \n",
       "mean   2172.807143                    20115.666667  \n",
       "std     749.130293                     8311.883435  \n",
       "min     393.000000                       82.000000  \n",
       "25%    1643.750000                    18000.000000  \n",
       "50%    2092.500000                    20000.000000  \n",
       "75%    2624.250000                    25000.000000  \n",
       "max    7500.000000                    35000.000000  "
      ]
     },
     "execution_count": 4,
     "metadata": {},
     "output_type": "execute_result"
    }
   ],
   "source": [
    "df.describe()"
   ]
  },
  {
   "cell_type": "code",
   "execution_count": 5,
   "metadata": {},
   "outputs": [
    {
     "data": {
      "text/plain": [
       "Index(['Unnamed: 0', 'propertyCode', 'thumbnail', 'externalReference',\n",
       "       'numPhotos', 'floor', 'price', 'propertyType', 'operation', 'size',\n",
       "       'exterior', 'rooms', 'bathrooms', 'address', 'province', 'municipality',\n",
       "       'district', 'country', 'latitude', 'longitude', 'showAddress', 'url',\n",
       "       'distance', 'description', 'hasVideo', 'status', 'newDevelopment',\n",
       "       'hasLift', 'priceByArea', 'hasPlan', 'has3DTour', 'has360',\n",
       "       'hasStaging', 'topNewDevelopment', 'superTopHighlight',\n",
       "       'detailedType.typology', 'suggestedTexts.subtitle',\n",
       "       'suggestedTexts.title', 'neighborhood', 'parkingSpace.hasParkingSpace',\n",
       "       'parkingSpace.isParkingSpaceIncludedInPrice',\n",
       "       'detailedType.subTypology', 'parkingSpace.parkingSpacePrice', 'labels',\n",
       "       'newDevelopmentFinished'],\n",
       "      dtype='object')"
      ]
     },
     "execution_count": 5,
     "metadata": {},
     "output_type": "execute_result"
    }
   ],
   "source": [
    "df.columns"
   ]
  },
  {
   "cell_type": "code",
   "execution_count": 6,
   "metadata": {},
   "outputs": [
    {
     "data": {
      "image/png": "[encoded data removed]",
      "text/plain": [
       "<Figure size 640x480 with 1 Axes>"
      ]
     },
     "metadata": {},
     "output_type": "display_data"
    }
   ],
   "source": [
    "import matplotlib.pyplot as plt\n",
    "plt.hist(df['price'])\n",
    "plt.show()"
   ]
  },
  {
   "cell_type": "code",
   "execution_count": 7,
   "metadata": {},
   "outputs": [
    {
     "data": {
      "image/png": "[encoded data removed]",
      "text/plain": [
       "<Figure size 640x480 with 1 Axes>"
      ]
     },
     "metadata": {},
     "output_type": "display_data"
    }
   ],
   "source": [
    "plt.hist(df['size'])\n",
    "plt.show()"
   ]
  },
  {
   "cell_type": "code",
   "execution_count": 8,
   "metadata": {},
   "outputs": [
    {
     "data": {
      "text/plain": [
       "Text(0, 0.5, 'Size')"
      ]
     },
     "execution_count": 8,
     "metadata": {},
     "output_type": "execute_result"
    },
    {
     "data": {
      "image/png": "[encoded data removed]",
      "text/plain": [
       "<Figure size 640x480 with 1 Axes>"
      ]
     },
     "metadata": {},
     "output_type": "display_data"
    }
   ],
   "source": [
    "plt.scatter(df['price'], df['size'])\n",
    "plt.xlabel('Price')\n",
    "plt.ylabel('Size')"
   ]
  },
  {
   "cell_type": "code",
   "execution_count": 9,
   "metadata": {},
   "outputs": [
    {
     "data": {
      "text/plain": [
       "Text(0, 0.5, 'Rooms')"
      ]
     },
     "execution_count": 9,
     "metadata": {},
     "output_type": "execute_result"
    },
    {
     "data": {
      "image/png": "[encoded data removed]",
      "text/plain": [
       "<Figure size 640x480 with 1 Axes>"
      ]
     },
     "metadata": {},
     "output_type": "display_data"
    }
   ],
   "source": [
    "plt.scatter(df['price'], df['rooms'])\n",
    "plt.xlabel('Price')\n",
    "plt.ylabel('Rooms')"
   ]
  },
  {
   "cell_type": "code",
   "execution_count": 10,
   "metadata": {},
   "outputs": [
    {
     "data": {
      "image/png": "[encoded data removed]",
      "text/plain": [
       "<Figure size 640x480 with 2 Axes>"
      ]
     },
     "metadata": {},
     "output_type": "display_data"
    }
   ],
   "source": [
    "import seaborn as sn\n",
    "sn.heatmap(df.corr(), annot=True)\n",
    "sn.set(rc={'figure.figsize':(15,15)})\n",
    "plt.show()\n"
   ]
  },
  {
   "cell_type": "code",
   "execution_count": 11,
   "metadata": {},
   "outputs": [
    {
     "data": {
      "text/plain": [
       "Index(['Unnamed: 0', 'propertyCode', 'thumbnail', 'externalReference',\n",
       "       'numPhotos', 'floor', 'price', 'propertyType', 'operation', 'size',\n",
       "       'exterior', 'rooms', 'bathrooms', 'address', 'province', 'municipality',\n",
       "       'district', 'country', 'latitude', 'longitude', 'showAddress', 'url',\n",
       "       'distance', 'description', 'hasVideo', 'status', 'newDevelopment',\n",
       "       'hasLift', 'priceByArea', 'hasPlan', 'has3DTour', 'has360',\n",
       "       'hasStaging', 'topNewDevelopment', 'superTopHighlight',\n",
       "       'detailedType.typology', 'suggestedTexts.subtitle',\n",
       "       'suggestedTexts.title', 'neighborhood', 'parkingSpace.hasParkingSpace',\n",
       "       'parkingSpace.isParkingSpaceIncludedInPrice',\n",
       "       'detailedType.subTypology', 'parkingSpace.parkingSpacePrice', 'labels',\n",
       "       'newDevelopmentFinished'],\n",
       "      dtype='object')"
      ]
     },
     "execution_count": 11,
     "metadata": {},
     "output_type": "execute_result"
    }
   ],
   "source": [
    "\n",
    "df.columns"
   ]
  },
  {
   "cell_type": "code",
   "execution_count": 12,
   "metadata": {},
   "outputs": [
    {
     "data": {
      "image/png": "[encoded data removed]",
      "text/plain": [
       "<Figure size 1500x1500 with 1 Axes>"
      ]
     },
     "metadata": {},
     "output_type": "display_data"
    }
   ],
   "source": [
    "plt.hist(df['priceByArea'])\n",
    "plt.show()"
   ]
  },
  {
   "cell_type": "code",
   "execution_count": 13,
   "metadata": {},
   "outputs": [
    {
     "data": {
      "application/vnd.plotly.v1+json": {
       "config": {
        "plotlyServerURL": "https://plot.ly"
       },
       "data": [
        {
         "customdata": [
          [
           1389,
           75000,
           54,
           3,
           "https://www.idealista.com/inmueble/98508410/"
          ],
          [
           4167,
           250000,
           60,
           2,
           "https://www.idealista.com/inmueble/99744246/"
          ],
          [
           1353,
           115000,
           85,
           3,
           "https://www.idealista.com/inmueble/97943866/"
          ],
          [
           1114,
           98000,
           88,
           3,
           "https://www.idealista.com/inmueble/99428153/"
          ],
          [
           2767,
           249000,
           90,
           2,
           "https://www.idealista.com/inmueble/99019049/"
          ],
          [
           1000,
           183000,
           183,
           3,
           "https://www.idealista.com/inmueble/99599858/"
          ],
          [
           2440,
           195200,
           80,
           1,
           "https://www.idealista.com/inmueble/99133375/"
          ],
          [
           1280,
           170200,
           133,
           1,
           "https://www.idealista.com/inmueble/99133374/"
          ],
          [
           3797,
           300000,
           79,
           3,
           "https://www.idealista.com/inmueble/99607496/"
          ],
          [
           1000,
           105000,
           105,
           3,
           "https://www.idealista.com/inmueble/97111729/"
          ],
          [
           3448,
           300000,
           87,
           3,
           "https://www.idealista.com/inmueble/99449182/"
          ],
          [
           3333,
           300000,
           90,
           3,
           "https://www.idealista.com/inmueble/99562878/"
          ],
          [
           3067,
           230000,
           75,
           2,
           "https://www.idealista.com/inmueble/98880371/"
          ],
          [
           2243,
           240000,
           107,
           3,
           "https://www.idealista.com/inmueble/98664584/"
          ],
          [
           1294,
           110000,
           85,
           2,
           "https://www.idealista.com/inmueble/99530463/"
          ],
          [
           892,
           140000,
           157,
           4,
           "https://www.idealista.com/inmueble/99583965/"
          ],
          [
           2345,
           129000,
           55,
           1,
           "https://www.idealista.com/inmueble/99232572/"
          ],
          [
           2250,
           135000,
           60,
           2,
           "https://www.idealista.com/inmueble/99513415/"
          ],
          [
           1228,
           140000,
           114,
           4,
           "https://www.idealista.com/inmueble/99538521/"
          ],
          [
           1580,
           158000,
           100,
           3,
           "https://www.idealista.com/inmueble/91598170/"
          ],
          [
           1364,
           135000,
           99,
           3,
           "https://www.idealista.com/inmueble/99359136/"
          ],
          [
           393,
           130000,
           331,
           3,
           "https://www.idealista.com/inmueble/96989656/"
          ],
          [
           1764,
           127000,
           72,
           3,
           "https://www.idealista.com/inmueble/99066958/"
          ],
          [
           2071,
           145000,
           70,
           2,
           "https://www.idealista.com/inmueble/99144901/"
          ],
          [
           1839,
           160000,
           87,
           3,
           "https://www.idealista.com/inmueble/98145966/"
          ],
          [
           1828,
           159000,
           87,
           2,
           "https://www.idealista.com/inmueble/97004886/"
          ],
          [
           2609,
           300000,
           115,
           3,
           "https://www.idealista.com/inmueble/99097663/"
          ],
          [
           1154,
           150000,
           130,
           4,
           "https://www.idealista.com/inmueble/96825468/"
          ],
          [
           2848,
           94000,
           33,
           1,
           "https://www.idealista.com/inmueble/99167168/"
          ],
          [
           1500,
           180000,
           120,
           4,
           "https://www.idealista.com/inmueble/99211884/"
          ],
          [
           2614,
           298000,
           114,
           3,
           "https://www.idealista.com/inmueble/98972462/"
          ],
          [
           1605,
           199000,
           124,
           4,
           "https://www.idealista.com/inmueble/99544776/"
          ],
          [
           2248,
           191120,
           85,
           2,
           "https://www.idealista.com/inmueble/95089937/"
          ],
          [
           1500,
           180000,
           120,
           4,
           "https://www.idealista.com/inmueble/99461626/"
          ],
          [
           1792,
           138000,
           77,
           3,
           "https://www.idealista.com/inmueble/98624662/"
          ],
          [
           1500,
           180000,
           120,
           4,
           "https://www.idealista.com/inmueble/99484832/"
          ],
          [
           1500,
           180000,
           120,
           4,
           "https://www.idealista.com/inmueble/99463445/"
          ],
          [
           1253,
           94000,
           75,
           3,
           "https://www.idealista.com/inmueble/99518152/"
          ],
          [
           1500,
           180000,
           120,
           4,
           "https://www.idealista.com/inmueble/99464570/"
          ],
          [
           2432,
           233510,
           96,
           2,
           "https://www.idealista.com/inmueble/97957376/"
          ],
          [
           1965,
           283000,
           144,
           6,
           "https://www.idealista.com/inmueble/90016337/"
          ],
          [
           1683,
           138000,
           82,
           3,
           "https://www.idealista.com/inmueble/98822153/"
          ],
          [
           1871,
           164640,
           88,
           2,
           "https://www.idealista.com/inmueble/97490855/"
          ],
          [
           2684,
           233550,
           87,
           2,
           "https://www.idealista.com/inmueble/97947483/"
          ],
          [
           1028,
           64740,
           63,
           3,
           "https://www.idealista.com/inmueble/92204035/"
          ],
          [
           1605,
           199000,
           124,
           4,
           "https://www.idealista.com/inmueble/81752587/"
          ],
          [
           2684,
           233510,
           87,
           2,
           "https://www.idealista.com/inmueble/97988582/"
          ],
          [
           1709,
           133290,
           78,
           1,
           "https://www.idealista.com/inmueble/97473787/"
          ],
          [
           1697,
           156090,
           92,
           2,
           "https://www.idealista.com/inmueble/97473788/"
          ],
          [
           1751,
           164640,
           94,
           2,
           "https://www.idealista.com/inmueble/97486977/"
          ],
          [
           1751,
           164640,
           94,
           2,
           "https://www.idealista.com/inmueble/97486977/"
          ],
          [
           2222,
           133290,
           60,
           1,
           "https://www.idealista.com/inmueble/97472568/"
          ],
          [
           2247,
           191000,
           85,
           2,
           "https://www.idealista.com/inmueble/97549837/"
          ],
          [
           792,
           53870,
           68,
           1,
           "https://www.idealista.com/inmueble/96945657/"
          ],
          [
           1697,
           156090,
           92,
           2,
           "https://www.idealista.com/inmueble/97483489/"
          ],
          [
           1709,
           155520,
           91,
           2,
           "https://www.idealista.com/inmueble/97483465/"
          ],
          [
           1731,
           133290,
           77,
           1,
           "https://www.idealista.com/inmueble/97483496/"
          ],
          [
           2255,
           164640,
           73,
           2,
           "https://www.idealista.com/inmueble/97483487/"
          ],
          [
           1500,
           180000,
           120,
           4,
           "https://www.idealista.com/inmueble/99477464/"
          ],
          [
           2684,
           233510,
           87,
           2,
           "https://www.idealista.com/inmueble/97954467/"
          ],
          [
           1731,
           133290,
           77,
           2,
           "https://www.idealista.com/inmueble/99152870/"
          ],
          [
           1620,
           155520,
           96,
           2,
           "https://www.idealista.com/inmueble/97639819/"
          ],
          [
           1838,
           191120,
           104,
           2,
           "https://www.idealista.com/inmueble/89627168/"
          ],
          [
           2100,
           191120,
           91,
           2,
           "https://www.idealista.com/inmueble/87820390/"
          ],
          [
           792,
           53870,
           68,
           1,
           "https://www.idealista.com/inmueble/93788741/"
          ],
          [
           1028,
           64740,
           63,
           3,
           "https://www.idealista.com/inmueble/93458909/"
          ],
          [
           2018,
           177560,
           88,
           2,
           "https://www.idealista.com/inmueble/97491065/"
          ],
          [
           4012,
           240710,
           60,
           2,
           "https://www.idealista.com/inmueble/97516730/"
          ],
          [
           1774,
           156090,
           88,
           2,
           "https://www.idealista.com/inmueble/97472394/"
          ],
          [
           1767,
           155520,
           88,
           2,
           "https://www.idealista.com/inmueble/97490791/"
          ],
          [
           2536,
           258670,
           102,
           3,
           "https://www.idealista.com/inmueble/31415023/"
          ],
          [
           1644,
           177560,
           108,
           2,
           "https://www.idealista.com/inmueble/97473836/"
          ],
          [
           1605,
           199000,
           124,
           4,
           "https://www.idealista.com/inmueble/28718115/"
          ],
          [
           1605,
           199000,
           124,
           4,
           "https://www.idealista.com/inmueble/38821349/"
          ],
          [
           1644,
           177560,
           108,
           2,
           "https://www.idealista.com/inmueble/97483486/"
          ],
          [
           1012,
           64740,
           64,
           3,
           "https://www.idealista.com/inmueble/96946778/"
          ],
          [
           1244,
           199000,
           160,
           4,
           "https://www.idealista.com/inmueble/92164121/"
          ],
          [
           1079,
           64740,
           60,
           3,
           "https://www.idealista.com/inmueble/87122130/"
          ],
          [
           1012,
           64740,
           64,
           1,
           "https://www.idealista.com/inmueble/93632171/"
          ],
          [
           1244,
           199000,
           160,
           1,
           "https://www.idealista.com/inmueble/35710544/"
          ],
          [
           3929,
           275000,
           70,
           2,
           "https://www.idealista.com/inmueble/99625602/"
          ],
          [
           2248,
           191120,
           85,
           2,
           "https://www.idealista.com/inmueble/87681645/"
          ],
          [
           1012,
           64740,
           64,
           1,
           "https://www.idealista.com/inmueble/86357340/"
          ],
          [
           2190,
           173000,
           79,
           1,
           "https://www.idealista.com/inmueble/98724583/"
          ],
          [
           2716,
           239000,
           88,
           3,
           "https://www.idealista.com/inmueble/98414979/"
          ],
          [
           1343,
           94000,
           70,
           2,
           "https://www.idealista.com/inmueble/98761306/"
          ],
          [
           1643,
           115000,
           70,
           2,
           "https://www.idealista.com/inmueble/97861326/"
          ],
          [
           1083,
           130000,
           120,
           4,
           "https://www.idealista.com/inmueble/98354863/"
          ],
          [
           1585,
           130000,
           82,
           2,
           "https://www.idealista.com/inmueble/99336152/"
          ],
          [
           3145,
           173000,
           55,
           1,
           "https://www.idealista.com/inmueble/98732623/"
          ],
          [
           2190,
           173000,
           79,
           1,
           "https://www.idealista.com/inmueble/98722820/"
          ],
          [
           2200,
           143000,
           65,
           2,
           "https://www.idealista.com/inmueble/99073781/"
          ],
          [
           1704,
           138000,
           81,
           3,
           "https://www.idealista.com/inmueble/97943230/"
          ],
          [
           3681,
           173000,
           47,
           1,
           "https://www.idealista.com/inmueble/98960265/"
          ],
          [
           1886,
           249000,
           132,
           4,
           "https://www.idealista.com/inmueble/99424851/"
          ],
          [
           3293,
           270000,
           82,
           2,
           "https://www.idealista.com/inmueble/99548741/"
          ],
          [
           1527,
           139000,
           91,
           3,
           "https://www.idealista.com/inmueble/99375409/"
          ],
          [
           2794,
           299000,
           107,
           3,
           "https://www.idealista.com/inmueble/98711528/"
          ],
          [
           1250,
           124995,
           100,
           3,
           "https://www.idealista.com/inmueble/97643039/"
          ],
          [
           1643,
           115000,
           70,
           3,
           "https://www.idealista.com/inmueble/99854677/"
          ],
          [
           1492,
           94000,
           63,
           3,
           "https://www.idealista.com/inmueble/98766137/"
          ],
          [
           3681,
           173000,
           47,
           1,
           "https://www.idealista.com/inmueble/97243074/"
          ],
          [
           1390,
           139000,
           100,
           3,
           "https://www.idealista.com/inmueble/99320233/"
          ],
          [
           1390,
           139000,
           100,
           3,
           "https://www.idealista.com/inmueble/99294545/"
          ],
          [
           1390,
           139000,
           100,
           3,
           "https://www.idealista.com/inmueble/99359404/"
          ],
          [
           3035,
           173000,
           57,
           1,
           "https://www.idealista.com/inmueble/98744966/"
          ],
          [
           1675,
           129000,
           77,
           3,
           "https://www.idealista.com/inmueble/83095951/"
          ],
          [
           1489,
           195000,
           131,
           4,
           "https://www.idealista.com/inmueble/98432127/"
          ],
          [
           2214,
           155000,
           70,
           2,
           "https://www.idealista.com/inmueble/97480954/"
          ],
          [
           1393,
           195000,
           140,
           4,
           "https://www.idealista.com/inmueble/98015346/"
          ],
          [
           1489,
           195000,
           131,
           4,
           "https://www.idealista.com/inmueble/98061710/"
          ],
          [
           3518,
           299000,
           85,
           2,
           "https://www.idealista.com/inmueble/99551686/"
          ],
          [
           2224,
           189000,
           85,
           2,
           "https://www.idealista.com/inmueble/99027121/"
          ],
          [
           2432,
           214000,
           88,
           2,
           "https://www.idealista.com/inmueble/99493122/"
          ],
          [
           2177,
           135000,
           62,
           3,
           "https://www.idealista.com/inmueble/98588175/"
          ],
          [
           1489,
           195000,
           131,
           4,
           "https://www.idealista.com/inmueble/98431276/"
          ],
          [
           1354,
           195000,
           144,
           4,
           "https://www.idealista.com/inmueble/99017656/"
          ],
          [
           2413,
           193000,
           80,
           2,
           "https://www.idealista.com/inmueble/98368997/"
          ],
          [
           2099,
           170000,
           81,
           2,
           "https://www.idealista.com/inmueble/98849452/"
          ],
          [
           1141,
           73000,
           64,
           2,
           "https://www.idealista.com/inmueble/99377127/"
          ],
          [
           1889,
           204000,
           108,
           3,
           "https://www.idealista.com/inmueble/99128473/"
          ],
          [
           2651,
           167000,
           63,
           2,
           "https://www.idealista.com/inmueble/98400305/"
          ],
          [
           2500,
           205000,
           82,
           3,
           "https://www.idealista.com/inmueble/99857594/"
          ],
          [
           2420,
           167000,
           69,
           2,
           "https://www.idealista.com/inmueble/98357430/"
          ],
          [
           2015,
           135000,
           67,
           1,
           "https://www.idealista.com/inmueble/99444548/"
          ],
          [
           2783,
           167000,
           60,
           2,
           "https://www.idealista.com/inmueble/98306182/"
          ],
          [
           1215,
           89900,
           74,
           2,
           "https://www.idealista.com/inmueble/99003281/"
          ],
          [
           1383,
           83000,
           60,
           2,
           "https://www.idealista.com/inmueble/98640114/"
          ],
          [
           2819,
           265000,
           94,
           3,
           "https://www.idealista.com/inmueble/99210301/"
          ],
          [
           2468,
           274000,
           111,
           2,
           "https://www.idealista.com/inmueble/99812170/"
          ],
          [
           1261,
           193000,
           153,
           4,
           "https://www.idealista.com/inmueble/99485074/"
          ],
          [
           1328,
           158000,
           119,
           1,
           "https://www.idealista.com/inmueble/99377128/"
          ],
          [
           2468,
           274000,
           111,
           2,
           "https://www.idealista.com/inmueble/98523641/"
          ],
          [
           2697,
           240000,
           89,
           2,
           "https://www.idealista.com/inmueble/98801030/"
          ],
          [
           1845,
           155000,
           84,
           2,
           "https://www.idealista.com/inmueble/99143269/"
          ],
          [
           2155,
           209000,
           97,
           2,
           "https://www.idealista.com/inmueble/97239540/"
          ],
          [
           2709,
           284400,
           105,
           3,
           "https://www.idealista.com/inmueble/96484628/"
          ],
          [
           2059,
           210000,
           102,
           3,
           "https://www.idealista.com/inmueble/99685487/"
          ],
          [
           2931,
           299000,
           102,
           3,
           "https://www.idealista.com/inmueble/98802704/"
          ],
          [
           1750,
           98000,
           56,
           2,
           "https://www.idealista.com/inmueble/99383353/"
          ],
          [
           2706,
           295000,
           109,
           3,
           "https://www.idealista.com/inmueble/98635757/"
          ],
          [
           2717,
           250000,
           92,
           2,
           "https://www.idealista.com/inmueble/99955268/"
          ],
          [
           2923,
           228000,
           78,
           2,
           "https://www.idealista.com/inmueble/96359192/"
          ],
          [
           1797,
           230000,
           128,
           3,
           "https://www.idealista.com/inmueble/97977221/"
          ],
          [
           2235,
           190000,
           85,
           2,
           "https://www.idealista.com/inmueble/96758289/"
          ],
          [
           1960,
           196000,
           100,
           2,
           "https://www.idealista.com/inmueble/96982371/"
          ],
          [
           2203,
           253400,
           115,
           3,
           "https://www.idealista.com/inmueble/97658372/"
          ],
          [
           2352,
           258670,
           110,
           3,
           "https://www.idealista.com/inmueble/97001837/"
          ],
          [
           988,
           80000,
           81,
           3,
           "https://www.idealista.com/inmueble/99916192/"
          ],
          [
           1542,
           185000,
           120,
           4,
           "https://www.idealista.com/inmueble/99211590/"
          ],
          [
           2350,
           235000,
           100,
           2,
           "https://www.idealista.com/inmueble/98959029/"
          ],
          [
           2269,
           295000,
           130,
           4,
           "https://www.idealista.com/inmueble/97324266/"
          ],
          [
           3132,
           238000,
           76,
           1,
           "https://www.idealista.com/inmueble/99477243/"
          ],
          [
           2069,
           149000,
           72,
           2,
           "https://www.idealista.com/inmueble/99308200/"
          ],
          [
           1489,
           195000,
           131,
           4,
           "https://www.idealista.com/inmueble/98228677/"
          ],
          [
           1700,
           255000,
           150,
           3,
           "https://www.idealista.com/inmueble/99206584/"
          ],
          [
           2544,
           145000,
           57,
           2,
           "https://www.idealista.com/inmueble/99935422/"
          ],
          [
           1957,
           229000,
           117,
           4,
           "https://www.idealista.com/inmueble/99561979/"
          ],
          [
           2819,
           265000,
           94,
           3,
           "https://www.idealista.com/inmueble/99896792/"
          ],
          [
           2182,
           240000,
           110,
           3,
           "https://www.idealista.com/inmueble/99135899/"
          ],
          [
           1510,
           148000,
           98,
           4,
           "https://www.idealista.com/inmueble/98710955/"
          ],
          [
           1600,
           160000,
           100,
           3,
           "https://www.idealista.com/inmueble/98595934/"
          ],
          [
           3134,
           210000,
           67,
           2,
           "https://www.idealista.com/inmueble/97897301/"
          ],
          [
           3027,
           227000,
           75,
           3,
           "https://www.idealista.com/inmueble/99786732/"
          ],
          [
           2560,
           256000,
           100,
           3,
           "https://www.idealista.com/inmueble/98910753/"
          ],
          [
           3114,
           246000,
           79,
           2,
           "https://www.idealista.com/inmueble/90597824/"
          ],
          [
           1690,
           169000,
           100,
           3,
           "https://www.idealista.com/inmueble/98974824/"
          ],
          [
           2121,
           140000,
           66,
           2,
           "https://www.idealista.com/inmueble/96493532/"
          ],
          [
           1526,
           145000,
           95,
           3,
           "https://www.idealista.com/inmueble/98790638/"
          ],
          [
           2390,
           239000,
           100,
           3,
           "https://www.idealista.com/inmueble/98064481/"
          ],
          [
           2080,
           208000,
           100,
           3,
           "https://www.idealista.com/inmueble/99272479/"
          ],
          [
           2727,
           180000,
           66,
           2,
           "https://www.idealista.com/inmueble/99581293/"
          ],
          [
           1975,
           156000,
           79,
           2,
           "https://www.idealista.com/inmueble/99804911/"
          ],
          [
           3056,
           275000,
           90,
           3,
           "https://www.idealista.com/inmueble/99387139/"
          ],
          [
           2462,
           256000,
           104,
           3,
           "https://www.idealista.com/inmueble/98975644/"
          ],
          [
           1859,
           159900,
           86,
           2,
           "https://www.idealista.com/inmueble/99363698/"
          ],
          [
           1322,
           160000,
           121,
           5,
           "https://www.idealista.com/inmueble/98139669/"
          ],
          [
           2500,
           250000,
           100,
           3,
           "https://www.idealista.com/inmueble/96755597/"
          ],
          [
           1773,
           195000,
           110,
           3,
           "https://www.idealista.com/inmueble/94203355/"
          ],
          [
           2225,
           198000,
           89,
           2,
           "https://www.idealista.com/inmueble/98707048/"
          ],
          [
           3083,
           148000,
           48,
           2,
           "https://www.idealista.com/inmueble/99843271/"
          ],
          [
           2329,
           198000,
           85,
           3,
           "https://www.idealista.com/inmueble/99293538/"
          ],
          [
           2671,
           227000,
           85,
           3,
           "https://www.idealista.com/inmueble/99358043/"
          ],
          [
           2813,
           225000,
           80,
           2,
           "https://www.idealista.com/inmueble/97990000/"
          ],
          [
           1859,
           159900,
           86,
           2,
           "https://www.idealista.com/inmueble/98661895/"
          ],
          [
           2766,
           296000,
           107,
           4,
           "https://www.idealista.com/inmueble/98585156/"
          ],
          [
           2026,
           154000,
           76,
           2,
           "https://www.idealista.com/inmueble/96765290/"
          ],
          [
           2600,
           260000,
           100,
           3,
           "https://www.idealista.com/inmueble/95755903/"
          ],
          [
           1732,
           174900,
           101,
           2,
           "https://www.idealista.com/inmueble/99129513/"
          ],
          [
           2317,
           190000,
           82,
           3,
           "https://www.idealista.com/inmueble/97988069/"
          ],
          [
           1517,
           220000,
           145,
           3,
           "https://www.idealista.com/inmueble/99541926/"
          ],
          [
           1929,
           270000,
           140,
           4,
           "https://www.idealista.com/inmueble/97062772/"
          ],
          [
           3258,
           215000,
           66,
           2,
           "https://www.idealista.com/inmueble/99544237/"
          ],
          [
           2653,
           199000,
           75,
           2,
           "https://www.idealista.com/inmueble/97565641/"
          ],
          [
           1692,
           220000,
           130,
           0,
           "https://www.idealista.com/inmueble/99938516/"
          ],
          [
           2111,
           190000,
           90,
           5,
           "https://www.idealista.com/inmueble/99953249/"
          ],
          [
           1768,
           175000,
           99,
           2,
           "https://www.idealista.com/inmueble/99475496/"
          ],
          [
           934,
           84999,
           91,
           3,
           "https://www.idealista.com/inmueble/99943162/"
          ],
          [
           2097,
           195000,
           93,
           3,
           "https://www.idealista.com/inmueble/99581978/"
          ],
          [
           1714,
           120000,
           70,
           0,
           "https://www.idealista.com/obra-nueva/99094744/"
          ],
          [
           1961,
           200000,
           102,
           3,
           "https://www.idealista.com/inmueble/99139846/"
          ],
          [
           2453,
           260000,
           106,
           3,
           "https://www.idealista.com/inmueble/98650337/"
          ],
          [
           2020,
           299000,
           148,
           4,
           "https://www.idealista.com/inmueble/98266385/"
          ],
          [
           1857,
           130000,
           70,
           3,
           "https://www.idealista.com/inmueble/95289034/"
          ],
          [
           1980,
           297000,
           150,
           0,
           "https://www.idealista.com/inmueble/97262960/"
          ],
          [
           2333,
           182000,
           78,
           2,
           "https://www.idealista.com/inmueble/99782460/"
          ],
          [
           2712,
           160000,
           59,
           2,
           "https://www.idealista.com/inmueble/99814442/"
          ],
          [
           1217,
           140000,
           115,
           4,
           "https://www.idealista.com/inmueble/99672547/"
          ],
          [
           2455,
           270000,
           110,
           3,
           "https://www.idealista.com/inmueble/96419523/"
          ],
          [
           2527,
           139000,
           55,
           1,
           "https://www.idealista.com/inmueble/97852717/"
          ],
          [
           1870,
           144000,
           77,
           3,
           "https://www.idealista.com/inmueble/95004191/"
          ],
          [
           1680,
           210000,
           125,
           4,
           "https://www.idealista.com/inmueble/97824303/"
          ],
          [
           3051,
           180000,
           59,
           1,
           "https://www.idealista.com/inmueble/97230626/"
          ],
          [
           2600,
           195000,
           75,
           2,
           "https://www.idealista.com/inmueble/99951407/"
          ],
          [
           2358,
           250000,
           106,
           3,
           "https://www.idealista.com/inmueble/99383146/"
          ],
          [
           2095,
           155000,
           74,
           2,
           "https://www.idealista.com/inmueble/97485533/"
          ],
          [
           3273,
           180000,
           55,
           1,
           "https://www.idealista.com/inmueble/98062319/"
          ],
          [
           1278,
           230000,
           180,
           5,
           "https://www.idealista.com/inmueble/98723606/"
          ],
          [
           3857,
           270000,
           70,
           2,
           "https://www.idealista.com/inmueble/96681927/"
          ],
          [
           3049,
           250000,
           82,
           2,
           "https://www.idealista.com/inmueble/90765648/"
          ],
          [
           3010,
           298000,
           99,
           3,
           "https://www.idealista.com/inmueble/97989921/"
          ],
          [
           1572,
           283000,
           180,
           6,
           "https://www.idealista.com/inmueble/94179318/"
          ],
          [
           3146,
           129000,
           41,
           1,
           "https://www.idealista.com/inmueble/98105501/"
          ],
          [
           5455,
           300000,
           55,
           2,
           "https://www.idealista.com/inmueble/95255326/"
          ],
          [
           3258,
           215000,
           66,
           2,
           "https://www.idealista.com/inmueble/98964188/"
          ],
          [
           3390,
           139000,
           41,
           2,
           "https://www.idealista.com/inmueble/98770042/"
          ],
          [
           3271,
           229000,
           70,
           2,
           "https://www.idealista.com/inmueble/97574450/"
          ],
          [
           1842,
           140000,
           76,
           2,
           "https://www.idealista.com/inmueble/97998528/"
          ],
          [
           2759,
           160000,
           58,
           2,
           "https://www.idealista.com/inmueble/99922811/"
          ],
          [
           1623,
           198000,
           122,
           4,
           "https://www.idealista.com/inmueble/99936594/"
          ],
          [
           1211,
           138000,
           114,
           4,
           "https://www.idealista.com/inmueble/99949101/"
          ],
          [
           1465,
           148000,
           101,
           2,
           "https://www.idealista.com/inmueble/95503029/"
          ],
          [
           1641,
           210000,
           128,
           4,
           "https://www.idealista.com/inmueble/99922986/"
          ],
          [
           1987,
           155000,
           78,
           2,
           "https://www.idealista.com/inmueble/94702063/"
          ],
          [
           1385,
           90000,
           65,
           2,
           "https://www.idealista.com/inmueble/98775363/"
          ],
          [
           2737,
           260000,
           95,
           3,
           "https://www.idealista.com/inmueble/99021404/"
          ],
          [
           2500,
           250000,
           100,
           3,
           "https://www.idealista.com/inmueble/99021469/"
          ],
          [
           2737,
           260000,
           95,
           3,
           "https://www.idealista.com/inmueble/98449565/"
          ],
          [
           980,
           99000,
           101,
           3,
           "https://www.idealista.com/inmueble/99824339/"
          ],
          [
           2709,
           298000,
           110,
           3,
           "https://www.idealista.com/inmueble/97651292/"
          ],
          [
           2153,
           183000,
           85,
           4,
           "https://www.idealista.com/inmueble/99195965/"
          ],
          [
           1859,
           159900,
           86,
           2,
           "https://www.idealista.com/inmueble/98640468/"
          ],
          [
           1572,
           283000,
           180,
           8,
           "https://www.idealista.com/inmueble/98819376/"
          ],
          [
           988,
           80000,
           81,
           3,
           "https://www.idealista.com/inmueble/99444882/"
          ],
          [
           1338,
           95000,
           71,
           2,
           "https://www.idealista.com/inmueble/99244794/"
          ],
          [
           1732,
           220000,
           127,
           1,
           "https://www.idealista.com/inmueble/99926376/"
          ],
          [
           1735,
           295000,
           170,
           4,
           "https://www.idealista.com/inmueble/98108093/"
          ],
          [
           2819,
           265000,
           94,
           3,
           "https://www.idealista.com/inmueble/99814186/"
          ],
          [
           1849,
           220000,
           119,
           3,
           "https://www.idealista.com/obra-nueva/97765662/"
          ],
          [
           1895,
           179999,
           95,
           2,
           "https://www.idealista.com/inmueble/99776823/"
          ],
          [
           2088,
           171175,
           82,
           1,
           "https://www.idealista.com/obra-nueva/97389043/"
          ],
          [
           2712,
           160000,
           59,
           2,
           "https://www.idealista.com/inmueble/99814237/"
          ],
          [
           2819,
           265000,
           94,
           3,
           "https://www.idealista.com/inmueble/99814186/"
          ],
          [
           3437,
           299000,
           87,
           2,
           "https://www.idealista.com/inmueble/99928052/"
          ],
          [
           2048,
           299000,
           146,
           4,
           "https://www.idealista.com/inmueble/98851674/"
          ],
          [
           718,
           62500,
           87,
           4,
           "https://www.idealista.com/inmueble/99734242/"
          ],
          [
           1965,
           169000,
           86,
           3,
           "https://www.idealista.com/inmueble/98124883/"
          ],
          [
           2706,
           295000,
           109,
           3,
           "https://www.idealista.com/inmueble/98710467/"
          ],
          [
           2010,
           205000,
           102,
           3,
           "https://www.idealista.com/inmueble/97343719/"
          ],
          [
           2706,
           295000,
           109,
           3,
           "https://www.idealista.com/inmueble/99687777/"
          ],
          [
           2471,
           210000,
           85,
           2,
           "https://www.idealista.com/inmueble/99021486/"
          ],
          [
           1544,
           210000,
           136,
           4,
           "https://www.idealista.com/inmueble/99353591/"
          ],
          [
           473,
           150000,
           317,
           4,
           "https://www.idealista.com/inmueble/99321034/"
          ],
          [
           2540,
           254000,
           100,
           3,
           "https://www.idealista.com/inmueble/99021392/"
          ],
          [
           1544,
           210000,
           136,
           4,
           "https://www.idealista.com/inmueble/99306734/"
          ],
          [
           2671,
           227000,
           85,
           3,
           "https://www.idealista.com/inmueble/99782873/"
          ],
          [
           1438,
           230000,
           160,
           3,
           "https://www.idealista.com/inmueble/99288002/"
          ],
          [
           1842,
           140000,
           76,
           2,
           "https://www.idealista.com/inmueble/96787362/"
          ],
          [
           2540,
           254000,
           100,
           3,
           "https://www.idealista.com/inmueble/98448037/"
          ],
          [
           2819,
           265000,
           94,
           3,
           "https://www.idealista.com/inmueble/99896183/"
          ],
          [
           2813,
           225000,
           80,
           2,
           "https://www.idealista.com/inmueble/99021465/"
          ],
          [
           3085,
           290000,
           94,
           2,
           "https://www.idealista.com/inmueble/98100108/"
          ],
          [
           3400,
           289000,
           85,
           2,
           "https://www.idealista.com/inmueble/97523993/"
          ],
          [
           1855,
           230000,
           124,
           2,
           "https://www.idealista.com/inmueble/95768275/"
          ],
          [
           1466,
           195000,
           133,
           2,
           "https://www.idealista.com/inmueble/98509549/"
          ],
          [
           1505,
           280000,
           186,
           5,
           "https://www.idealista.com/inmueble/92720094/"
          ],
          [
           2837,
           139000,
           49,
           2,
           "https://www.idealista.com/inmueble/98914239/"
          ],
          [
           1369,
           115000,
           84,
           3,
           "https://www.idealista.com/inmueble/94216838/"
          ],
          [
           1580,
           139000,
           88,
           3,
           "https://www.idealista.com/inmueble/92586590/"
          ],
          [
           1580,
           139000,
           88,
           3,
           "https://www.idealista.com/inmueble/93871189/"
          ],
          [
           2169,
           180000,
           83,
           3,
           "https://www.idealista.com/inmueble/96840165/"
          ],
          [
           1813,
           165000,
           91,
           2,
           "https://www.idealista.com/inmueble/96154132/"
          ],
          [
           2588,
           220000,
           85,
           2,
           "https://www.idealista.com/inmueble/99290814/"
          ],
          [
           1700,
           255000,
           150,
           3,
           "https://www.idealista.com/inmueble/98739934/"
          ],
          [
           1459,
           159000,
           109,
           4,
           "https://www.idealista.com/inmueble/99412422/"
          ],
          [
           1792,
           95000,
           53,
           1,
           "https://www.idealista.com/inmueble/96682955/"
          ],
          [
           3944,
           280000,
           71,
           2,
           "https://www.idealista.com/inmueble/97906907/"
          ],
          [
           1276,
           142900,
           112,
           1,
           "https://www.idealista.com/inmueble/97108803/"
          ],
          [
           1238,
           99000,
           80,
           3,
           "https://www.idealista.com/inmueble/99329814/"
          ],
          [
           1885,
           230000,
           122,
           2,
           "https://www.idealista.com/inmueble/99136730/"
          ],
          [
           2048,
           297000,
           145,
           4,
           "https://www.idealista.com/inmueble/93460685/"
          ],
          [
           2022,
           244700,
           121,
           2,
           "https://www.idealista.com/inmueble/97955466/"
          ],
          [
           3209,
           215000,
           67,
           2,
           "https://www.idealista.com/inmueble/99644790/"
          ],
          [
           1792,
           136200,
           76,
           2,
           "https://www.idealista.com/inmueble/97476165/"
          ],
          [
           1718,
           151200,
           88,
           2,
           "https://www.idealista.com/inmueble/97472541/"
          ],
          [
           1500,
           120000,
           80,
           3,
           "https://www.idealista.com/inmueble/98740773/"
          ],
          [
           1755,
           193000,
           110,
           3,
           "https://www.idealista.com/inmueble/97994482/"
          ],
          [
           2105,
           200000,
           95,
           2,
           "https://www.idealista.com/obra-nueva/96904601/"
          ],
          [
           2826,
           260000,
           92,
           2,
           "https://www.idealista.com/inmueble/99443165/"
          ],
          [
           1095,
           104000,
           95,
           3,
           "https://www.idealista.com/inmueble/97358818/"
          ],
          [
           2455,
           270000,
           110,
           4,
           "https://www.idealista.com/inmueble/97682576/"
          ],
          [
           1974,
           229000,
           116,
           4,
           "https://www.idealista.com/inmueble/97151759/"
          ],
          [
           1397,
           109000,
           78,
           3,
           "https://www.idealista.com/inmueble/99815288/"
          ],
          [
           2580,
           258000,
           100,
           3,
           "https://www.idealista.com/inmueble/99274403/"
          ],
          [
           1541,
           149500,
           97,
           3,
           "https://www.idealista.com/inmueble/98579697/"
          ],
          [
           3105,
           295000,
           95,
           3,
           "https://www.idealista.com/inmueble/98716389/"
          ],
          [
           1759,
           95000,
           54,
           1,
           "https://www.idealista.com/inmueble/92505264/"
          ],
          [
           1893,
           195000,
           103,
           3,
           "https://www.idealista.com/inmueble/96245916/"
          ],
          [
           2227,
           265000,
           119,
           4,
           "https://www.idealista.com/inmueble/98709412/"
          ],
          [
           2478,
           280000,
           113,
           5,
           "https://www.idealista.com/inmueble/93591224/"
          ],
          [
           2035,
           175000,
           86,
           3,
           "https://www.idealista.com/inmueble/99395389/"
          ],
          [
           3636,
           160000,
           44,
           1,
           "https://www.idealista.com/inmueble/96766519/"
          ],
          [
           2697,
           294000,
           109,
           3,
           "https://www.idealista.com/inmueble/97265416/"
          ],
          [
           3613,
           289000,
           80,
           2,
           "https://www.idealista.com/inmueble/83565669/"
          ],
          [
           1250,
           110000,
           88,
           2,
           "https://www.idealista.com/inmueble/98794532/"
          ],
          [
           1277,
           180000,
           141,
           5,
           "https://www.idealista.com/inmueble/99203773/"
          ],
          [
           1720,
           160000,
           93,
           3,
           "https://www.idealista.com/inmueble/97356268/"
          ],
          [
           1797,
           230000,
           128,
           4,
           "https://www.idealista.com/inmueble/99169524/"
          ],
          [
           1290,
           120000,
           93,
           2,
           "https://www.idealista.com/inmueble/99226951/"
          ],
          [
           2938,
           235000,
           80,
           2,
           "https://www.idealista.com/inmueble/99844376/"
          ],
          [
           565,
           48000,
           85,
           2,
           "https://www.idealista.com/inmueble/94451681/"
          ],
          [
           1326,
           118000,
           89,
           3,
           "https://www.idealista.com/inmueble/99618227/"
          ],
          [
           2878,
           259000,
           90,
           2,
           "https://www.idealista.com/inmueble/98985989/"
          ],
          [
           1769,
           283000,
           160,
           6,
           "https://www.idealista.com/inmueble/94943486/"
          ],
          [
           2231,
           270000,
           121,
           4,
           "https://www.idealista.com/inmueble/97163289/"
          ],
          [
           1935,
           180000,
           93,
           3,
           "https://www.idealista.com/inmueble/98719448/"
          ],
          [
           3103,
           180000,
           58,
           1,
           "https://www.idealista.com/inmueble/99797332/"
          ],
          [
           3433,
           230000,
           67,
           2,
           "https://www.idealista.com/inmueble/99797337/"
          ],
          [
           1538,
           283000,
           184,
           4,
           "https://www.idealista.com/inmueble/96585322/"
          ],
          [
           2500,
           190000,
           76,
           3,
           "https://www.idealista.com/inmueble/97638269/"
          ],
          [
           3855,
           212000,
           55,
           2,
           "https://www.idealista.com/inmueble/97638268/"
          ],
          [
           2375,
           209000,
           88,
           2,
           "https://www.idealista.com/inmueble/94377135/"
          ],
          [
           2579,
           196000,
           76,
           3,
           "https://www.idealista.com/inmueble/97638276/"
          ],
          [
           2539,
           193000,
           76,
           3,
           "https://www.idealista.com/inmueble/97638266/"
          ],
          [
           2681,
           185000,
           69,
           3,
           "https://www.idealista.com/inmueble/97684978/"
          ],
          [
           2722,
           245000,
           90,
           2,
           "https://www.idealista.com/inmueble/98755434/"
          ],
          [
           1692,
           220000,
           130,
           2,
           "https://www.idealista.com/inmueble/99924443/"
          ],
          [
           2526,
           240000,
           95,
           2,
           "https://www.idealista.com/inmueble/99289217/"
          ],
          [
           3442,
           265000,
           77,
           2,
           "https://www.idealista.com/inmueble/99874317/"
          ],
          [
           2115,
           220000,
           104,
           4,
           "https://www.idealista.com/inmueble/99362955/"
          ],
          [
           3056,
           275000,
           90,
           3,
           "https://www.idealista.com/inmueble/99477215/"
          ],
          [
           2322,
           209000,
           90,
           2,
           "https://www.idealista.com/inmueble/95375036/"
          ],
          [
           2322,
           209000,
           90,
           2,
           "https://www.idealista.com/inmueble/96973168/"
          ],
          [
           1822,
           195000,
           107,
           3,
           "https://www.idealista.com/inmueble/97703375/"
          ],
          [
           1591,
           148000,
           93,
           3,
           "https://www.idealista.com/inmueble/99265029/"
          ],
          [
           2159,
           95000,
           44,
           1,
           "https://www.idealista.com/inmueble/98564812/"
          ],
          [
           1842,
           140000,
           76,
           2,
           "https://www.idealista.com/inmueble/98963821/"
          ],
          [
           2048,
           215000,
           105,
           4,
           "https://www.idealista.com/inmueble/98546591/"
          ],
          [
           1068,
           94000,
           88,
           4,
           "https://www.idealista.com/inmueble/98569854/"
          ],
          [
           3944,
           280000,
           71,
           2,
           "https://www.idealista.com/inmueble/88716292/"
          ],
          [
           2088,
           284000,
           136,
           4,
           "https://www.idealista.com/inmueble/98684964/"
          ],
          [
           1746,
           199000,
           114,
           3,
           "https://www.idealista.com/inmueble/97424962/"
          ],
          [
           4286,
           240000,
           56,
           2,
           "https://www.idealista.com/inmueble/99703611/"
          ],
          [
           2700,
           189000,
           70,
           1,
           "https://www.idealista.com/inmueble/99307484/"
          ],
          [
           2619,
           275000,
           105,
           2,
           "https://www.idealista.com/inmueble/98435384/"
          ],
          [
           1333,
           120000,
           90,
           4,
           "https://www.idealista.com/inmueble/99613254/"
          ],
          [
           2640,
           227000,
           86,
           3,
           "https://www.idealista.com/inmueble/99785840/"
          ],
          [
           2304,
           265000,
           115,
           3,
           "https://www.idealista.com/inmueble/99139177/"
          ],
          [
           1795,
           149000,
           83,
           2,
           "https://www.idealista.com/inmueble/99358673/"
          ],
          [
           1781,
           187000,
           105,
           3,
           "https://www.idealista.com/inmueble/99896817/"
          ],
          [
           2363,
           189000,
           80,
           3,
           "https://www.idealista.com/inmueble/98017168/"
          ],
          [
           1615,
           210000,
           130,
           4,
           "https://www.idealista.com/inmueble/98212690/"
          ],
          [
           1237,
           94000,
           76,
           3,
           "https://www.idealista.com/inmueble/99137849/"
          ],
          [
           1167,
           140000,
           120,
           5,
           "https://www.idealista.com/inmueble/99041337/"
          ],
          [
           2816,
           290000,
           103,
           4,
           "https://www.idealista.com/inmueble/97150849/"
          ],
          [
           2067,
           155000,
           75,
           2,
           "https://www.idealista.com/inmueble/99160914/"
          ],
          [
           2430,
           209000,
           86,
           2,
           "https://www.idealista.com/inmueble/99322031/"
          ],
          [
           2378,
           195000,
           82,
           3,
           "https://www.idealista.com/inmueble/99908956/"
          ],
          [
           1322,
           160000,
           121,
           5,
           "https://www.idealista.com/inmueble/97315253/"
          ],
          [
           2092,
           205000,
           98,
           3,
           "https://www.idealista.com/inmueble/98535812/"
          ],
          [
           2744,
           225000,
           82,
           2,
           "https://www.idealista.com/inmueble/94812497/"
          ],
          [
           1273,
           140000,
           110,
           4,
           "https://www.idealista.com/inmueble/99626838/"
          ],
          [
           1500,
           120000,
           80,
           2,
           "https://www.idealista.com/inmueble/97910734/"
          ],
          [
           3072,
           298000,
           97,
           3,
           "https://www.idealista.com/inmueble/37170717/"
          ],
          [
           2052,
           158000,
           77,
           3,
           "https://www.idealista.com/inmueble/98671311/"
          ],
          [
           1133,
           94000,
           83,
           3,
           "https://www.idealista.com/inmueble/95390311/"
          ],
          [
           1522,
           140000,
           92,
           3,
           "https://www.idealista.com/inmueble/99737210/"
          ],
          [
           2093,
           180000,
           86,
           3,
           "https://www.idealista.com/inmueble/99872342/"
          ],
          [
           3648,
           259000,
           71,
           1,
           "https://www.idealista.com/inmueble/99796939/"
          ],
          [
           2941,
           297000,
           101,
           3,
           "https://www.idealista.com/inmueble/98836323/"
          ],
          [
           1554,
           115000,
           74,
           3,
           "https://www.idealista.com/inmueble/97854074/"
          ],
          [
           2573,
           229000,
           89,
           2,
           "https://www.idealista.com/inmueble/98916646/"
          ],
          [
           1802,
           155000,
           86,
           3,
           "https://www.idealista.com/inmueble/98020353/"
          ],
          [
           3114,
           246000,
           79,
           2,
           "https://www.idealista.com/inmueble/98358096/"
          ],
          [
           2477,
           267530,
           108,
           3,
           "https://www.idealista.com/inmueble/98483523/"
          ],
          [
           2667,
           160000,
           60,
           2,
           "https://www.idealista.com/inmueble/98144344/"
          ],
          [
           2339,
           255000,
           109,
           4,
           "https://www.idealista.com/inmueble/98576722/"
          ],
          [
           2723,
           258670,
           95,
           3,
           "https://www.idealista.com/inmueble/98375945/"
          ],
          [
           2180,
           290000,
           133,
           3,
           "https://www.idealista.com/inmueble/99410366/"
          ],
          [
           2215,
           299000,
           135,
           4,
           "https://www.idealista.com/inmueble/95108694/"
          ],
          [
           2368,
           180000,
           76,
           2,
           "https://www.idealista.com/inmueble/98199627/"
          ],
          [
           1932,
           170000,
           88,
           4,
           "https://www.idealista.com/inmueble/99758111/"
          ],
          [
           3425,
           250000,
           73,
           2,
           "https://www.idealista.com/inmueble/98986790/"
          ],
          [
           2718,
           299000,
           110,
           3,
           "https://www.idealista.com/inmueble/98454769/"
          ],
          [
           2000,
           160000,
           80,
           2,
           "https://www.idealista.com/inmueble/99147440/"
          ],
          [
           3438,
           275000,
           80,
           2,
           "https://www.idealista.com/inmueble/99900229/"
          ],
          [
           2616,
           240710,
           92,
           2,
           "https://www.idealista.com/inmueble/98483525/"
          ],
          [
           3014,
           220000,
           73,
           2,
           "https://www.idealista.com/inmueble/98572455/"
          ],
          [
           2439,
           200000,
           82,
           3,
           "https://www.idealista.com/inmueble/98481039/"
          ],
          [
           2208,
           200900,
           91,
           2,
           "https://www.idealista.com/inmueble/94377537/"
          ],
          [
           1787,
           168000,
           94,
           2,
           "https://www.idealista.com/inmueble/97469143/"
          ],
          [
           1896,
           146000,
           77,
           3,
           "https://www.idealista.com/inmueble/98525524/"
          ],
          [
           2223,
           229000,
           103,
           2,
           "https://www.idealista.com/inmueble/98597707/"
          ],
          [
           1790,
           145000,
           81,
           4,
           "https://www.idealista.com/inmueble/94524669/"
          ],
          [
           2556,
           230000,
           90,
           3,
           "https://www.idealista.com/inmueble/99164019/"
          ],
          [
           1750,
           140000,
           80,
           3,
           "https://www.idealista.com/inmueble/99541864/"
          ],
          [
           3071,
           215000,
           70,
           1,
           "https://www.idealista.com/inmueble/98727615/"
          ],
          [
           1526,
           148000,
           97,
           3,
           "https://www.idealista.com/inmueble/98759555/"
          ],
          [
           2439,
           200000,
           82,
           3,
           "https://www.idealista.com/inmueble/98481039/"
          ],
          [
           2208,
           200900,
           91,
           2,
           "https://www.idealista.com/inmueble/94377537/"
          ],
          [
           2073,
           170000,
           82,
           3,
           "https://www.idealista.com/inmueble/99594358/"
          ],
          [
           1746,
           199000,
           114,
           3,
           "https://www.idealista.com/inmueble/99139342/"
          ],
          [
           1793,
           163200,
           91,
           2,
           "https://www.idealista.com/inmueble/97486317/"
          ],
          [
           2398,
           294900,
           123,
           4,
           "https://www.idealista.com/inmueble/99205281/"
          ],
          [
           7500,
           300000,
           40,
           2,
           "https://www.idealista.com/inmueble/98731661/"
          ],
          [
           2438,
           195000,
           80,
           2,
           "https://www.idealista.com/inmueble/99329563/"
          ],
          [
           2351,
           228000,
           97,
           2,
           "https://www.idealista.com/inmueble/99132029/"
          ],
          [
           2769,
           299000,
           108,
           4,
           "https://www.idealista.com/inmueble/94780688/"
          ],
          [
           1666,
           174900,
           105,
           2,
           "https://www.idealista.com/inmueble/97902075/"
          ],
          [
           2132,
           159900,
           75,
           2,
           "https://www.idealista.com/inmueble/98831785/"
          ],
          [
           2727,
           180000,
           66,
           2,
           "https://www.idealista.com/inmueble/99823616/"
          ],
          [
           1765,
           150000,
           85,
           2,
           "https://www.idealista.com/inmueble/96721002/"
          ],
          [
           2529,
           215000,
           85,
           3,
           "https://www.idealista.com/inmueble/99572967/"
          ],
          [
           1510,
           148000,
           98,
           4,
           "https://www.idealista.com/inmueble/98722154/"
          ],
          [
           1403,
           159900,
           114,
           3,
           "https://www.idealista.com/inmueble/98590286/"
          ],
          [
           1087,
           99990,
           92,
           4,
           "https://www.idealista.com/inmueble/96339597/"
          ],
          [
           1316,
           175000,
           133,
           3,
           "https://www.idealista.com/inmueble/99453117/"
          ],
          [
           1987,
           155000,
           78,
           2,
           "https://www.idealista.com/inmueble/99881801/"
          ],
          [
           1707,
           210000,
           123,
           3,
           "https://www.idealista.com/inmueble/97452801/"
          ],
          [
           1500,
           93000,
           62,
           2,
           "https://www.idealista.com/inmueble/99449731/"
          ],
          [
           1318,
           195000,
           148,
           3,
           "https://www.idealista.com/inmueble/95431632/"
          ],
          [
           1455,
           80000,
           55,
           2,
           "https://www.idealista.com/inmueble/98730461/"
          ],
          [
           1338,
           99000,
           74,
           3,
           "https://www.idealista.com/inmueble/98129311/"
          ],
          [
           1934,
           205000,
           106,
           4,
           "https://www.idealista.com/inmueble/99211717/"
          ],
          [
           3273,
           180000,
           55,
           1,
           "https://www.idealista.com/inmueble/98694176/"
          ],
          [
           3181,
           229000,
           72,
           2,
           "https://www.idealista.com/inmueble/98544111/"
          ],
          [
           1556,
           210000,
           135,
           4,
           "https://www.idealista.com/inmueble/97770934/"
          ],
          [
           3137,
           298000,
           95,
           3,
           "https://www.idealista.com/inmueble/95372645/"
          ],
          [
           2155,
           125000,
           58,
           3,
           "https://www.idealista.com/inmueble/99003161/"
          ],
          [
           2756,
           215000,
           78,
           1,
           "https://www.idealista.com/inmueble/99857247/"
          ],
          [
           1435,
           155000,
           108,
           4,
           "https://www.idealista.com/inmueble/95481694/"
          ],
          [
           2086,
           146000,
           70,
           3,
           "https://www.idealista.com/inmueble/98208590/"
          ],
          [
           2986,
           215000,
           72,
           1,
           "https://www.idealista.com/inmueble/34136100/"
          ],
          [
           5433,
           163000,
           30,
           1,
           "https://www.idealista.com/inmueble/99233394/"
          ],
          [
           2800,
           280000,
           100,
           3,
           "https://www.idealista.com/inmueble/98140362/"
          ],
          [
           2458,
           295000,
           120,
           4,
           "https://www.idealista.com/inmueble/98635223/"
          ],
          [
           1549,
           127000,
           82,
           2,
           "https://www.idealista.com/inmueble/99414983/"
          ],
          [
           2500,
           155000,
           62,
           2,
           "https://www.idealista.com/inmueble/97433370/"
          ],
          [
           2614,
           230000,
           88,
           3,
           "https://www.idealista.com/inmueble/99082282/"
          ],
          [
           2357,
           165000,
           70,
           2,
           "https://www.idealista.com/inmueble/98282684/"
          ],
          [
           2261,
           260000,
           115,
           3,
           "https://www.idealista.com/inmueble/99440097/"
          ],
          [
           3703,
           137000,
           37,
           1,
           "https://www.idealista.com/inmueble/98519624/"
          ],
          [
           1575,
           115000,
           73,
           2,
           "https://www.idealista.com/inmueble/98577348/"
          ],
          [
           1935,
           180000,
           93,
           4,
           "https://www.idealista.com/inmueble/97905136/"
          ],
          [
           1922,
           173000,
           90,
           3,
           "https://www.idealista.com/inmueble/99270731/"
          ],
          [
           2462,
           160000,
           65,
           2,
           "https://www.idealista.com/inmueble/99792763/"
          ],
          [
           2600,
           169000,
           65,
           1,
           "https://www.idealista.com/inmueble/98709326/"
          ],
          [
           3393,
           285000,
           84,
           3,
           "https://www.idealista.com/inmueble/98921205/"
          ],
          [
           1898,
           298000,
           157,
           3,
           "https://www.idealista.com/inmueble/99209581/"
          ],
          [
           1864,
           123000,
           66,
           0,
           "https://www.idealista.com/inmueble/95071332/"
          ],
          [
           2483,
           149000,
           60,
           1,
           "https://www.idealista.com/inmueble/99167732/"
          ],
          [
           2656,
           170000,
           64,
           2,
           "https://www.idealista.com/inmueble/97752842/"
          ],
          [
           2909,
           160000,
           55,
           2,
           "https://www.idealista.com/inmueble/96668719/"
          ],
          [
           2874,
           250000,
           87,
           2,
           "https://www.idealista.com/inmueble/83358741/"
          ],
          [
           1920,
           144000,
           75,
           3,
           "https://www.idealista.com/inmueble/94997205/"
          ],
          [
           2348,
           155000,
           66,
           2,
           "https://www.idealista.com/inmueble/99391780/"
          ],
          [
           2759,
           160000,
           58,
           2,
           "https://www.idealista.com/inmueble/99284356/"
          ],
          [
           2727,
           300000,
           110,
           2,
           "https://www.idealista.com/inmueble/93185296/"
          ],
          [
           2867,
           129000,
           45,
           1,
           "https://www.idealista.com/inmueble/99584883/"
          ],
          [
           1597,
           123000,
           77,
           2,
           "https://www.idealista.com/inmueble/99500204/"
          ],
          [
           1639,
           118000,
           72,
           2,
           "https://www.idealista.com/inmueble/94493426/"
          ],
          [
           2156,
           194000,
           90,
           1,
           "https://www.idealista.com/inmueble/97379383/"
          ],
          [
           2611,
           235000,
           90,
           3,
           "https://www.idealista.com/inmueble/99706084/"
          ],
          [
           3010,
           295000,
           98,
           1,
           "https://www.idealista.com/inmueble/95068478/"
          ],
          [
           2390,
           239000,
           100,
           3,
           "https://www.idealista.com/inmueble/98462208/"
          ],
          [
           2908,
           247200,
           85,
           2,
           "https://www.idealista.com/inmueble/97850190/"
          ],
          [
           2358,
           125000,
           53,
           1,
           "https://www.idealista.com/inmueble/99855739/"
          ],
          [
           1536,
           215000,
           140,
           4,
           "https://www.idealista.com/inmueble/98853055/"
          ],
          [
           1909,
           105000,
           55,
           1,
           "https://www.idealista.com/inmueble/99855736/"
          ],
          [
           2163,
           225000,
           104,
           4,
           "https://www.idealista.com/inmueble/98656256/"
          ],
          [
           1169,
           90000,
           77,
           2,
           "https://www.idealista.com/inmueble/97927506/"
          ],
          [
           1261,
           93300,
           74,
           3,
           "https://www.idealista.com/inmueble/99810445/"
          ],
          [
           889,
           80000,
           90,
           3,
           "https://www.idealista.com/inmueble/99600302/"
          ],
          [
           2378,
           195000,
           82,
           2,
           "https://www.idealista.com/inmueble/84192679/"
          ],
          [
           1429,
           140000,
           98,
           3,
           "https://www.idealista.com/inmueble/99810442/"
          ],
          [
           2557,
           225000,
           88,
           3,
           "https://www.idealista.com/inmueble/99841009/"
          ],
          [
           2909,
           160000,
           55,
           2,
           "https://www.idealista.com/inmueble/99776259/"
          ],
          [
           2227,
           265000,
           119,
           4,
           "https://www.idealista.com/inmueble/98574742/"
          ],
          [
           1068,
           94000,
           88,
           3,
           "https://www.idealista.com/inmueble/95862253/"
          ],
          [
           716,
           58000,
           81,
           4,
           "https://www.idealista.com/inmueble/94898808/"
          ],
          [
           1609,
           148000,
           92,
           3,
           "https://www.idealista.com/inmueble/98732088/"
          ],
          [
           1846,
           120000,
           65,
           2,
           "https://www.idealista.com/inmueble/99580278/"
          ],
          [
           1987,
           155000,
           78,
           2,
           "https://www.idealista.com/inmueble/99254547/"
          ],
          [
           2909,
           160000,
           55,
           2,
           "https://www.idealista.com/inmueble/99786720/"
          ],
          [
           2095,
           155000,
           74,
           2,
           "https://www.idealista.com/inmueble/98333819/"
          ],
          [
           2462,
           160000,
           65,
           2,
           "https://www.idealista.com/inmueble/99813890/"
          ],
          [
           2059,
           175000,
           85,
           2,
           "https://www.idealista.com/inmueble/98972189/"
          ],
          [
           2134,
           175000,
           82,
           1,
           "https://www.idealista.com/inmueble/97988125/"
          ],
          [
           2162,
           160000,
           74,
           1,
           "https://www.idealista.com/inmueble/97988088/"
          ],
          [
           1678,
           181200,
           108,
           2,
           "https://www.idealista.com/inmueble/97476152/"
          ],
          [
           1800,
           160200,
           89,
           2,
           "https://www.idealista.com/inmueble/97622696/"
          ],
          [
           1000,
           100000,
           100,
           2,
           "https://www.idealista.com/inmueble/99403333/"
          ],
          [
           1690,
           142000,
           84,
           3,
           "https://www.idealista.com/inmueble/96979008/"
          ],
          [
           1913,
           220000,
           115,
           3,
           "https://www.idealista.com/inmueble/97828329/"
          ],
          [
           2095,
           155000,
           74,
           2,
           "https://www.idealista.com/inmueble/97823004/"
          ],
          [
           2014,
           145000,
           72,
           3,
           "https://www.idealista.com/inmueble/99166518/"
          ],
          [
           2059,
           175000,
           85,
           2,
           "https://www.idealista.com/inmueble/98972189/"
          ],
          [
           1678,
           181200,
           108,
           2,
           "https://www.idealista.com/inmueble/97476152/"
          ],
          [
           2134,
           175000,
           82,
           1,
           "https://www.idealista.com/inmueble/97988125/"
          ],
          [
           2162,
           160000,
           74,
           1,
           "https://www.idealista.com/inmueble/97988088/"
          ],
          [
           2223,
           229000,
           103,
           2,
           "https://www.idealista.com/inmueble/98764876/"
          ],
          [
           1369,
           115000,
           84,
           3,
           "https://www.idealista.com/inmueble/98805828/"
          ],
          [
           4091,
           180000,
           44,
           1,
           "https://www.idealista.com/inmueble/98712808/"
          ],
          [
           1622,
           120000,
           74,
           3,
           "https://www.idealista.com/inmueble/96993285/"
          ],
          [
           3476,
           285000,
           82,
           2,
           "https://www.idealista.com/inmueble/98137217/"
          ],
          [
           1432,
           159000,
           111,
           4,
           "https://www.idealista.com/inmueble/99370218/"
          ],
          [
           2176,
           198000,
           91,
           2,
           "https://www.idealista.com/inmueble/95133849/"
          ],
          [
           1815,
           199620,
           110,
           5,
           "https://www.idealista.com/inmueble/96942334/"
          ],
          [
           1445,
           159000,
           110,
           4,
           "https://www.idealista.com/inmueble/99365563/"
          ],
          [
           2814,
           242000,
           86,
           3,
           "https://www.idealista.com/inmueble/87882762/"
          ],
          [
           1031,
           99000,
           96,
           2,
           "https://www.idealista.com/inmueble/97502398/"
          ],
          [
           1908,
           166000,
           87,
           3,
           "https://www.idealista.com/inmueble/93700250/"
          ],
          [
           2478,
           280000,
           113,
           1,
           "https://www.idealista.com/inmueble/96142917/"
          ],
          [
           1823,
           175000,
           96,
           2,
           "https://www.idealista.com/inmueble/95224469/"
          ],
          [
           2527,
           139000,
           55,
           1,
           "https://www.idealista.com/inmueble/98740987/"
          ],
          [
           2048,
           170000,
           83,
           3,
           "https://www.idealista.com/inmueble/98792252/"
          ],
          [
           3560,
           178000,
           50,
           1,
           "https://www.idealista.com/inmueble/98932576/"
          ],
          [
           1644,
           148000,
           90,
           3,
           "https://www.idealista.com/inmueble/98723405/"
          ],
          [
           3056,
           275000,
           90,
           3,
           "https://www.idealista.com/inmueble/99380458/"
          ],
          [
           1432,
           159000,
           111,
           4,
           "https://www.idealista.com/inmueble/99624289/"
          ],
          [
           1945,
           107000,
           55,
           3,
           "https://www.idealista.com/inmueble/99492083/"
          ],
          [
           1573,
           129000,
           82,
           2,
           "https://www.idealista.com/inmueble/99883986/"
          ],
          [
           2500,
           150000,
           60,
           1,
           "https://www.idealista.com/inmueble/99883710/"
          ],
          [
           1322,
           160000,
           121,
           4,
           "https://www.idealista.com/inmueble/98969331/"
          ],
          [
           1043,
           73000,
           70,
           2,
           "https://www.idealista.com/inmueble/99678717/"
          ],
          [
           2712,
           160000,
           59,
           2,
           "https://www.idealista.com/inmueble/99786695/"
          ],
          [
           2348,
           155000,
           66,
           2,
           "https://www.idealista.com/inmueble/99779980/"
          ],
          [
           1833,
           165000,
           90,
           3,
           "https://www.idealista.com/inmueble/98477019/"
          ],
          [
           2375,
           228000,
           96,
           2,
           "https://www.idealista.com/inmueble/97467307/"
          ],
          [
           3545,
           195000,
           55,
           1,
           "https://www.idealista.com/inmueble/92412289/"
          ],
          [
           3225,
           129000,
           40,
           1,
           "https://www.idealista.com/inmueble/98838154/"
          ],
          [
           4362,
           205000,
           47,
           1,
           "https://www.idealista.com/inmueble/98830701/"
          ],
          [
           1938,
           155000,
           80,
           2,
           "https://www.idealista.com/inmueble/98850151/"
          ],
          [
           4362,
           205000,
           47,
           1,
           "https://www.idealista.com/inmueble/98922943/"
          ],
          [
           1374,
           169000,
           123,
           3,
           "https://www.idealista.com/inmueble/97303873/"
          ],
          [
           1626,
           148000,
           91,
           3,
           "https://www.idealista.com/inmueble/99125317/"
          ],
          [
           1632,
           155000,
           95,
           3,
           "https://www.idealista.com/inmueble/92138763/"
          ],
          [
           2679,
           209000,
           78,
           2,
           "https://www.idealista.com/inmueble/95955295/"
          ],
          [
           2872,
           135000,
           47,
           1,
           "https://www.idealista.com/inmueble/97033226/"
          ],
          [
           2817,
           200000,
           71,
           2,
           "https://www.idealista.com/inmueble/95589133/"
          ],
          [
           2817,
           200000,
           71,
           2,
           "https://www.idealista.com/inmueble/95589133/"
          ],
          [
           2471,
           210000,
           85,
           3,
           "https://www.idealista.com/inmueble/97900700/"
          ],
          [
           2059,
           175000,
           85,
           2,
           "https://www.idealista.com/inmueble/96838264/"
          ],
          [
           1535,
           175000,
           114,
           4,
           "https://www.idealista.com/inmueble/95772605/"
          ],
          [
           1041,
           176000,
           169,
           5,
           "https://www.idealista.com/inmueble/99619874/"
          ],
          [
           2078,
           160000,
           77,
           2,
           "https://www.idealista.com/inmueble/97943232/"
          ],
          [
           1278,
           230000,
           180,
           5,
           "https://www.idealista.com/inmueble/95575599/"
          ],
          [
           1680,
           210000,
           125,
           3,
           "https://www.idealista.com/inmueble/96048970/"
          ],
          [
           4100,
           246000,
           60,
           2,
           "https://www.idealista.com/inmueble/97516750/"
          ],
          [
           2400,
           168000,
           70,
           2,
           "https://www.idealista.com/inmueble/99380771/"
          ],
          [
           1524,
           160000,
           105,
           3,
           "https://www.idealista.com/inmueble/99233401/"
          ],
          [
           1965,
           167000,
           85,
           2,
           "https://www.idealista.com/inmueble/99757494/"
          ],
          [
           2364,
           196200,
           83,
           2,
           "https://www.idealista.com/inmueble/99914185/"
          ],
          [
           2475,
           250000,
           101,
           2,
           "https://www.idealista.com/inmueble/98833690/"
          ],
          [
           2806,
           275000,
           98,
           3,
           "https://www.idealista.com/inmueble/83363328/"
          ],
          [
           2262,
           190000,
           84,
           3,
           "https://www.idealista.com/inmueble/99891874/"
          ],
          [
           2034,
           240000,
           118,
           4,
           "https://www.idealista.com/inmueble/99732819/"
          ],
          [
           2143,
           255000,
           119,
           3,
           "https://www.idealista.com/inmueble/96422541/"
          ],
          [
           2348,
           155000,
           66,
           2,
           "https://www.idealista.com/inmueble/97448545/"
          ],
          [
           2345,
           272000,
           116,
           2,
           "https://www.idealista.com/obra-nueva/98061330/"
          ],
          [
           2362,
           300000,
           127,
           3,
           "https://www.idealista.com/inmueble/95555767/"
          ],
          [
           2819,
           265000,
           94,
           3,
           "https://www.idealista.com/inmueble/99888979/"
          ],
          [
           3056,
           275000,
           90,
           3,
           "https://www.idealista.com/inmueble/99398357/"
          ],
          [
           1835,
           199990,
           109,
           3,
           "https://www.idealista.com/inmueble/93990920/"
          ],
          [
           2921,
           295000,
           101,
           4,
           "https://www.idealista.com/inmueble/97788056/"
          ],
          [
           2358,
           250000,
           106,
           3,
           "https://www.idealista.com/inmueble/98083765/"
          ],
          [
           2056,
           185000,
           90,
           3,
           "https://www.idealista.com/inmueble/99954010/"
          ],
          [
           3260,
           163000,
           50,
           1,
           "https://www.idealista.com/inmueble/99256486/"
          ],
          [
           1690,
           147000,
           87,
           3,
           "https://www.idealista.com/inmueble/97300648/"
          ],
          [
           3145,
           195000,
           62,
           2,
           "https://www.idealista.com/inmueble/99354583/"
          ],
          [
           1767,
           199620,
           113,
           6,
           "https://www.idealista.com/inmueble/91528455/"
          ],
          [
           2351,
           228000,
           97,
           2,
           "https://www.idealista.com/inmueble/97472110/"
          ],
          [
           2364,
           200900,
           85,
           2,
           "https://www.idealista.com/inmueble/97808013/"
          ],
          [
           1718,
           151200,
           88,
           2,
           "https://www.idealista.com/inmueble/97496558/"
          ],
          [
           2813,
           244700,
           87,
           2,
           "https://www.idealista.com/inmueble/97944521/"
          ],
          [
           2382,
           142900,
           60,
           1,
           "https://www.idealista.com/inmueble/96940193/"
          ],
          [
           3500,
           280000,
           80,
           2,
           "https://www.idealista.com/inmueble/98329077/"
          ],
          [
           3524,
           289000,
           82,
           2,
           "https://www.idealista.com/inmueble/98689669/"
          ],
          [
           2325,
           223200,
           96,
           3,
           "https://www.idealista.com/inmueble/89187209/"
          ],
          [
           2778,
           263900,
           95,
           3,
           "https://www.idealista.com/inmueble/86497268/"
          ],
          [
           1136,
           68140,
           60,
           3,
           "https://www.idealista.com/inmueble/86571981/"
          ],
          [
           1787,
           168000,
           94,
           2,
           "https://www.idealista.com/inmueble/97499586/"
          ],
          [
           457,
           48000,
           105,
           0,
           "https://www.idealista.com/inmueble/99958270/"
          ],
          [
           834,
           56700,
           68,
           3,
           "https://www.idealista.com/inmueble/98889796/"
          ],
          [
           1792,
           136200,
           76,
           1,
           "https://www.idealista.com/inmueble/97484944/"
          ],
          [
           3020,
           166100,
           55,
           1,
           "https://www.idealista.com/inmueble/99284977/"
          ],
          [
           1923,
           125000,
           65,
           2,
           "https://www.idealista.com/inmueble/99945569/"
          ],
          [
           1026,
           39000,
           38,
           1,
           "https://www.idealista.com/inmueble/99951245/"
          ],
          [
           2067,
           155000,
           75,
           2,
           "https://www.idealista.com/inmueble/99941153/"
          ],
          [
           1958,
           148800,
           76,
           2,
           "https://www.idealista.com/inmueble/94295687/"
          ],
          [
           1958,
           148800,
           76,
           2,
           "https://www.idealista.com/inmueble/94295687/"
          ],
          [
           1746,
           110000,
           63,
           2,
           "https://www.idealista.com/inmueble/98547036/"
          ],
          [
           3175,
           181000,
           57,
           1,
           "https://www.idealista.com/inmueble/98730754/"
          ],
          [
           2234,
           185400,
           83,
           2,
           "https://www.idealista.com/inmueble/96185548/"
          ],
          [
           692,
           45000,
           65,
           2,
           "https://www.idealista.com/inmueble/99942215/"
          ],
          [
           2032,
           254000,
           125,
           3,
           "https://www.idealista.com/obra-nueva/99085371/"
          ],
          [
           3621,
           210000,
           58,
           2,
           "https://www.idealista.com/obra-nueva/99906226/"
          ],
          [
           2245,
           217788,
           97,
           2,
           "https://www.idealista.com/obra-nueva/98968418/"
          ],
          [
           2344,
           300000,
           128,
           3,
           "https://www.idealista.com/obra-nueva/91450317/"
          ],
          [
           2016,
           213713,
           106,
           2,
           "https://www.idealista.com/obra-nueva/91450275/"
          ],
          [
           2384,
           195500,
           82,
           1,
           "https://www.idealista.com/obra-nueva/97765712/"
          ],
          [
           2151,
           228000,
           106,
           2,
           "https://www.idealista.com/obra-nueva/97765683/"
          ],
          [
           2364,
           243500,
           103,
           2,
           "https://www.idealista.com/obra-nueva/97765715/"
          ],
          [
           3391,
           295000,
           87,
           1,
           "https://www.idealista.com/obra-nueva/98637538/"
          ],
          [
           1875,
           240000,
           128,
           3,
           "https://www.idealista.com/obra-nueva/91450297/"
          ],
          [
           2250,
           288000,
           128,
           3,
           "https://www.idealista.com/obra-nueva/97591253/"
          ],
          [
           3793,
           220000,
           58,
           2,
           "https://www.idealista.com/obra-nueva/99906201/"
          ],
          [
           1083,
           65000,
           60,
           3,
           "https://www.idealista.com/inmueble/99130874/"
          ],
          [
           2063,
           264000,
           128,
           3,
           "https://www.idealista.com/obra-nueva/99133739/"
          ],
          [
           2467,
           239313,
           97,
           2,
           "https://www.idealista.com/obra-nueva/97591254/"
          ],
          [
           2380,
           288000,
           121,
           3,
           "https://www.idealista.com/obra-nueva/97765726/"
          ],
          [
           1919,
           203463,
           106,
           2,
           "https://www.idealista.com/obra-nueva/97765687/"
          ],
          [
           2349,
           249000,
           106,
           2,
           "https://www.idealista.com/obra-nueva/97765705/"
          ],
          [
           2000,
           240000,
           120,
           4,
           "https://www.idealista.com/inmueble/99947601/"
          ],
          [
           3200,
           160000,
           50,
           1,
           "https://www.idealista.com/obra-nueva/99906228/"
          ],
          [
           3800,
           190000,
           50,
           1,
           "https://www.idealista.com/obra-nueva/99906216/"
          ],
          [
           3362,
           195000,
           58,
           2,
           "https://www.idealista.com/obra-nueva/99906202/"
          ],
          [
           2119,
           214000,
           101,
           2,
           "https://www.idealista.com/obra-nueva/97765708/"
          ],
          [
           2049,
           209000,
           102,
           2,
           "https://www.idealista.com/obra-nueva/97765713/"
          ],
          [
           2723,
           275000,
           101,
           3,
           "https://www.idealista.com/inmueble/98795710/"
          ],
          [
           2933,
           220000,
           75,
           2,
           "https://www.idealista.com/inmueble/98923833/"
          ],
          [
           3077,
           160000,
           52,
           2,
           "https://www.idealista.com/inmueble/99917398/"
          ],
          [
           2263,
           140300,
           62,
           1,
           "https://www.idealista.com/inmueble/97471996/"
          ],
          [
           1957,
           135000,
           69,
           3,
           "https://www.idealista.com/inmueble/97253167/"
          ],
          [
           1569,
           160000,
           102,
           4,
           "https://www.idealista.com/inmueble/98688562/"
          ],
          [
           1458,
           105000,
           72,
           3,
           "https://www.idealista.com/inmueble/99945176/"
          ],
          [
           2067,
           155000,
           75,
           2,
           "https://www.idealista.com/inmueble/99163171/"
          ],
          [
           1981,
           105000,
           53,
           0,
           "https://www.idealista.com/inmueble/91991710/"
          ],
          [
           1438,
           115000,
           80,
           2,
           "https://www.idealista.com/inmueble/98885575/"
          ],
          [
           1680,
           210000,
           125,
           4,
           "https://www.idealista.com/inmueble/98114165/"
          ],
          [
           1100,
           99000,
           90,
           3,
           "https://www.idealista.com/inmueble/98607049/"
          ],
          [
           1176,
           120000,
           102,
           2,
           "https://www.idealista.com/inmueble/98619825/"
          ],
          [
           1390,
           139000,
           100,
           3,
           "https://www.idealista.com/inmueble/99771498/"
          ],
          [
           2929,
           240170,
           82,
           2,
           "https://www.idealista.com/inmueble/99537104/"
          ],
          [
           2198,
           142900,
           65,
           1,
           "https://www.idealista.com/inmueble/96951421/"
          ],
          [
           2813,
           244700,
           87,
           2,
           "https://www.idealista.com/inmueble/97941890/"
          ],
          [
           1729,
           223000,
           129,
           3,
           "https://www.idealista.com/obra-nueva/99327716/"
          ],
          [
           2292,
           220000,
           96,
           2,
           "https://www.idealista.com/obra-nueva/97888850/"
          ],
          [
           2070,
           265000,
           128,
           3,
           "https://www.idealista.com/obra-nueva/98960683/"
          ],
          [
           1875,
           240000,
           128,
           3,
           "https://www.idealista.com/obra-nueva/99327910/"
          ],
          [
           1927,
           185000,
           96,
           2,
           "https://www.idealista.com/obra-nueva/99327570/"
          ],
          [
           1572,
           283000,
           180,
           6,
           "https://www.idealista.com/inmueble/97012042/"
          ],
          [
           2073,
           199000,
           96,
           2,
           "https://www.idealista.com/obra-nueva/99327734/"
          ],
          [
           2317,
           285000,
           123,
           2,
           "https://www.idealista.com/obra-nueva/96264314/"
          ],
          [
           1729,
           223000,
           129,
           3,
           "https://www.idealista.com/obra-nueva/99327716/"
          ],
          [
           2070,
           265000,
           128,
           3,
           "https://www.idealista.com/obra-nueva/98960683/"
          ],
          [
           2292,
           220000,
           96,
           2,
           "https://www.idealista.com/obra-nueva/97888850/"
          ],
          [
           1739,
           193000,
           111,
           3,
           "https://www.idealista.com/inmueble/96438518/"
          ],
          [
           1875,
           240000,
           128,
           3,
           "https://www.idealista.com/obra-nueva/99327910/"
          ],
          [
           2177,
           209000,
           96,
           2,
           "https://www.idealista.com/obra-nueva/98960722/"
          ],
          [
           2205,
           163200,
           74,
           2,
           "https://www.idealista.com/inmueble/97471984/"
          ],
          [
           2244,
           163800,
           73,
           2,
           "https://www.idealista.com/inmueble/97471982/"
          ],
          [
           2107,
           181200,
           86,
           2,
           "https://www.idealista.com/inmueble/97471990/"
          ],
          [
           2240,
           168000,
           75,
           2,
           "https://www.idealista.com/inmueble/97471986/"
          ],
          [
           2195,
           160200,
           73,
           2,
           "https://www.idealista.com/inmueble/97471980/"
          ],
          [
           1510,
           148000,
           98,
           3,
           "https://www.idealista.com/inmueble/99003941/"
          ],
          [
           2573,
           229000,
           89,
           2,
           "https://www.idealista.com/inmueble/99904292/"
          ],
          [
           1530,
           283000,
           185,
           6,
           "https://www.idealista.com/inmueble/83651355/"
          ],
          [
           3010,
           298000,
           99,
           3,
           "https://www.idealista.com/inmueble/97330433/"
          ],
          [
           2987,
           230000,
           77,
           2,
           "https://www.idealista.com/inmueble/99076095/"
          ],
          [
           1461,
           130000,
           89,
           2,
           "https://www.idealista.com/inmueble/81753313/"
          ],
          [
           2438,
           195000,
           80,
           3,
           "https://www.idealista.com/inmueble/98048716/"
          ],
          [
           1068,
           94000,
           88,
           4,
           "https://www.idealista.com/inmueble/95318151/"
          ],
          [
           2723,
           258670,
           95,
           3,
           "https://www.idealista.com/inmueble/99533836/"
          ],
          [
           2743,
           96000,
           35,
           1,
           "https://www.idealista.com/inmueble/99943985/"
          ],
          [
           1187,
           89000,
           75,
           3,
           "https://www.idealista.com/inmueble/99935274/"
          ],
          [
           2222,
           200000,
           90,
           2,
           "https://www.idealista.com/inmueble/98371003/"
          ],
          [
           3846,
           250000,
           65,
           2,
           "https://www.idealista.com/inmueble/98873667/"
          ],
          [
           1791,
           120000,
           67,
           2,
           "https://www.idealista.com/inmueble/98974199/"
          ],
          [
           1609,
           148000,
           92,
           2,
           "https://www.idealista.com/inmueble/98890204/"
          ],
          [
           2059,
           175000,
           85,
           3,
           "https://www.idealista.com/inmueble/99211828/"
          ],
          [
           2586,
           150000,
           58,
           2,
           "https://www.idealista.com/inmueble/98811912/"
          ],
          [
           2706,
           295000,
           109,
           3,
           "https://www.idealista.com/inmueble/98710367/"
          ],
          [
           1563,
           100000,
           64,
           2,
           "https://www.idealista.com/inmueble/99557886/"
          ],
          [
           2500,
           265000,
           106,
           4,
           "https://www.idealista.com/inmueble/99281664/"
          ],
          [
           2841,
           170462,
           60,
           2,
           "https://www.idealista.com/obra-nueva/98812147/"
          ],
          [
           2154,
           140000,
           65,
           2,
           "https://www.idealista.com/inmueble/96697517/"
          ],
          [
           2846,
           247600,
           87,
           3,
           "https://www.idealista.com/obra-nueva/98812105/"
          ],
          [
           1716,
           139000,
           81,
           3,
           "https://www.idealista.com/inmueble/99713115/"
          ],
          [
           2619,
           162367,
           62,
           2,
           "https://www.idealista.com/obra-nueva/98812050/"
          ],
          [
           3736,
           194270,
           52,
           1,
           "https://www.idealista.com/obra-nueva/98812149/"
          ],
          [
           1477,
           195000,
           132,
           2,
           "https://www.idealista.com/inmueble/98513574/"
          ],
          [
           2978,
           247200,
           83,
           2,
           "https://www.idealista.com/inmueble/97963881/"
          ],
          [
           1615,
           210000,
           130,
           4,
           "https://www.idealista.com/inmueble/99805947/"
          ],
          [
           2014,
           280000,
           139,
           3,
           "https://www.idealista.com/obra-nueva/96904594/"
          ],
          [
           4318,
           285000,
           66,
           1,
           "https://www.idealista.com/obra-nueva/98886153/"
          ],
          [
           1622,
           300000,
           185,
           4,
           "https://www.idealista.com/inmueble/27531680/"
          ],
          [
           2188,
           210000,
           96,
           2,
           "https://www.idealista.com/obra-nueva/95038714/"
          ],
          [
           2709,
           298000,
           110,
           3,
           "https://www.idealista.com/inmueble/97507233/"
          ],
          [
           3014,
           220000,
           73,
           2,
           "https://www.idealista.com/inmueble/99441638/"
          ]
         ],
         "hovertemplate": "<b>%{hovertext}</b><br><br>rooms=%{customdata[3]}<br>latitude=%{lat}<br>longitude=%{lon}<br>priceByArea=%{marker.color}<br>price=%{customdata[1]}<br>size=%{customdata[2]}<br>url=%{customdata[4]}<extra></extra>",
         "hovertext": [
          1389,
          4167,
          1353,
          1114,
          2767,
          1000,
          2440,
          1280,
          3797,
          1000,
          3448,
          3333,
          3067,
          2243,
          1294,
          892,
          2345,
          2250,
          1228,
          1580,
          1364,
          393,
          1764,
          2071,
          1839,
          1828,
          2609,
          1154,
          2848,
          1500,
          2614,
          1605,
          2248,
          1500,
          1792,
          1500,
          1500,
          1253,
          1500,
          2432,
          1965,
          1683,
          1871,
          2684,
          1028,
          1605,
          2684,
          1709,
          1697,
          1751,
          1751,
          2222,
          2247,
          792,
          1697,
          1709,
          1731,
          2255,
          1500,
          2684,
          1731,
          1620,
          1838,
          2100,
          792,
          1028,
          2018,
          4012,
          1774,
          1767,
          2536,
          1644,
          1605,
          1605,
          1644,
          1012,
          1244,
          1079,
          1012,
          1244,
          3929,
          2248,
          1012,
          2190,
          2716,
          1343,
          1643,
          1083,
          1585,
          3145,
          2190,
          2200,
          1704,
          3681,
          1886,
          3293,
          1527,
          2794,
          1250,
          1643,
          1492,
          3681,
          1390,
          1390,
          1390,
          3035,
          1675,
          1489,
          2214,
          1393,
          1489,
          3518,
          2224,
          2432,
          2177,
          1489,
          1354,
          2413,
          2099,
          1141,
          1889,
          2651,
          2500,
          2420,
          2015,
          2783,
          1215,
          1383,
          2819,
          2468,
          1261,
          1328,
          2468,
          2697,
          1845,
          2155,
          2709,
          2059,
          2931,
          1750,
          2706,
          2717,
          2923,
          1797,
          2235,
          1960,
          2203,
          2352,
          988,
          1542,
          2350,
          2269,
          3132,
          2069,
          1489,
          1700,
          2544,
          1957,
          2819,
          2182,
          1510,
          1600,
          3134,
          3027,
          2560,
          3114,
          1690,
          2121,
          1526,
          2390,
          2080,
          2727,
          1975,
          3056,
          2462,
          1859,
          1322,
          2500,
          1773,
          2225,
          3083,
          2329,
          2671,
          2813,
          1859,
          2766,
          2026,
          2600,
          1732,
          2317,
          1517,
          1929,
          3258,
          2653,
          1692,
          2111,
          1768,
          934,
          2097,
          1714,
          1961,
          2453,
          2020,
          1857,
          1980,
          2333,
          2712,
          1217,
          2455,
          2527,
          1870,
          1680,
          3051,
          2600,
          2358,
          2095,
          3273,
          1278,
          3857,
          3049,
          3010,
          1572,
          3146,
          5455,
          3258,
          3390,
          3271,
          1842,
          2759,
          1623,
          1211,
          1465,
          1641,
          1987,
          1385,
          2737,
          2500,
          2737,
          980,
          2709,
          2153,
          1859,
          1572,
          988,
          1338,
          1732,
          1735,
          2819,
          1849,
          1895,
          2088,
          2712,
          2819,
          3437,
          2048,
          718,
          1965,
          2706,
          2010,
          2706,
          2471,
          1544,
          473,
          2540,
          1544,
          2671,
          1438,
          1842,
          2540,
          2819,
          2813,
          3085,
          3400,
          1855,
          1466,
          1505,
          2837,
          1369,
          1580,
          1580,
          2169,
          1813,
          2588,
          1700,
          1459,
          1792,
          3944,
          1276,
          1238,
          1885,
          2048,
          2022,
          3209,
          1792,
          1718,
          1500,
          1755,
          2105,
          2826,
          1095,
          2455,
          1974,
          1397,
          2580,
          1541,
          3105,
          1759,
          1893,
          2227,
          2478,
          2035,
          3636,
          2697,
          3613,
          1250,
          1277,
          1720,
          1797,
          1290,
          2938,
          565,
          1326,
          2878,
          1769,
          2231,
          1935,
          3103,
          3433,
          1538,
          2500,
          3855,
          2375,
          2579,
          2539,
          2681,
          2722,
          1692,
          2526,
          3442,
          2115,
          3056,
          2322,
          2322,
          1822,
          1591,
          2159,
          1842,
          2048,
          1068,
          3944,
          2088,
          1746,
          4286,
          2700,
          2619,
          1333,
          2640,
          2304,
          1795,
          1781,
          2363,
          1615,
          1237,
          1167,
          2816,
          2067,
          2430,
          2378,
          1322,
          2092,
          2744,
          1273,
          1500,
          3072,
          2052,
          1133,
          1522,
          2093,
          3648,
          2941,
          1554,
          2573,
          1802,
          3114,
          2477,
          2667,
          2339,
          2723,
          2180,
          2215,
          2368,
          1932,
          3425,
          2718,
          2000,
          3438,
          2616,
          3014,
          2439,
          2208,
          1787,
          1896,
          2223,
          1790,
          2556,
          1750,
          3071,
          1526,
          2439,
          2208,
          2073,
          1746,
          1793,
          2398,
          7500,
          2438,
          2351,
          2769,
          1666,
          2132,
          2727,
          1765,
          2529,
          1510,
          1403,
          1087,
          1316,
          1987,
          1707,
          1500,
          1318,
          1455,
          1338,
          1934,
          3273,
          3181,
          1556,
          3137,
          2155,
          2756,
          1435,
          2086,
          2986,
          5433,
          2800,
          2458,
          1549,
          2500,
          2614,
          2357,
          2261,
          3703,
          1575,
          1935,
          1922,
          2462,
          2600,
          3393,
          1898,
          1864,
          2483,
          2656,
          2909,
          2874,
          1920,
          2348,
          2759,
          2727,
          2867,
          1597,
          1639,
          2156,
          2611,
          3010,
          2390,
          2908,
          2358,
          1536,
          1909,
          2163,
          1169,
          1261,
          889,
          2378,
          1429,
          2557,
          2909,
          2227,
          1068,
          716,
          1609,
          1846,
          1987,
          2909,
          2095,
          2462,
          2059,
          2134,
          2162,
          1678,
          1800,
          1000,
          1690,
          1913,
          2095,
          2014,
          2059,
          1678,
          2134,
          2162,
          2223,
          1369,
          4091,
          1622,
          3476,
          1432,
          2176,
          1815,
          1445,
          2814,
          1031,
          1908,
          2478,
          1823,
          2527,
          2048,
          3560,
          1644,
          3056,
          1432,
          1945,
          1573,
          2500,
          1322,
          1043,
          2712,
          2348,
          1833,
          2375,
          3545,
          3225,
          4362,
          1938,
          4362,
          1374,
          1626,
          1632,
          2679,
          2872,
          2817,
          2817,
          2471,
          2059,
          1535,
          1041,
          2078,
          1278,
          1680,
          4100,
          2400,
          1524,
          1965,
          2364,
          2475,
          2806,
          2262,
          2034,
          2143,
          2348,
          2345,
          2362,
          2819,
          3056,
          1835,
          2921,
          2358,
          2056,
          3260,
          1690,
          3145,
          1767,
          2351,
          2364,
          1718,
          2813,
          2382,
          3500,
          3524,
          2325,
          2778,
          1136,
          1787,
          457,
          834,
          1792,
          3020,
          1923,
          1026,
          2067,
          1958,
          1958,
          1746,
          3175,
          2234,
          692,
          2032,
          3621,
          2245,
          2344,
          2016,
          2384,
          2151,
          2364,
          3391,
          1875,
          2250,
          3793,
          1083,
          2063,
          2467,
          2380,
          1919,
          2349,
          2000,
          3200,
          3800,
          3362,
          2119,
          2049,
          2723,
          2933,
          3077,
          2263,
          1957,
          1569,
          1458,
          2067,
          1981,
          1438,
          1680,
          1100,
          1176,
          1390,
          2929,
          2198,
          2813,
          1729,
          2292,
          2070,
          1875,
          1927,
          1572,
          2073,
          2317,
          1729,
          2070,
          2292,
          1739,
          1875,
          2177,
          2205,
          2244,
          2107,
          2240,
          2195,
          1510,
          2573,
          1530,
          3010,
          2987,
          1461,
          2438,
          1068,
          2723,
          2743,
          1187,
          2222,
          3846,
          1791,
          1609,
          2059,
          2586,
          2706,
          1563,
          2500,
          2841,
          2154,
          2846,
          1716,
          2619,
          3736,
          1477,
          2978,
          1615,
          2014,
          4318,
          1622,
          2188,
          2709,
          3014
         ],
         "lat": [
          43.3806695,
          43.3638165,
          43.3653335,
          43.3531353,
          43.3714519,
          43.3499222,
          43.344659,
          43.342459,
          43.363048,
          43.3524554,
          43.3670243,
          43.3663704,
          43.3404255,
          43.3529188,
          43.3460667,
          43.3439598,
          43.3516885,
          43.3383465,
          43.3583402,
          43.3622732,
          43.3598214,
          43.33686,
          43.3792287,
          43.3625258,
          43.3625879,
          43.3624596,
          43.3527396,
          43.3593081,
          43.3685023,
          43.3434142,
          43.3668959,
          43.3600469,
          43.3533139,
          43.3424713,
          43.3644383,
          43.3447771,
          43.3439847,
          43.3551907,
          43.3460012,
          43.3613853,
          43.37757,
          43.3637383,
          43.3462933,
          43.3599301,
          43.3543529,
          43.3595017,
          43.3613893,
          43.3449659,
          43.3488659,
          43.3461774,
          43.3461774,
          43.3478694,
          43.3532887,
          43.3484473,
          43.3482659,
          43.3451659,
          43.3448659,
          43.3468659,
          43.3457874,
          43.3621118,
          43.346611,
          43.346611,
          43.3518139,
          43.3533139,
          43.3488601,
          43.3557376,
          43.3476115,
          43.355755,
          43.3480417,
          43.346329,
          43.3531719,
          43.3476476,
          43.3583498,
          43.3593498,
          43.3468659,
          43.3543529,
          43.3577664,
          43.3550529,
          43.3532529,
          43.3567498,
          43.3694652,
          43.3527139,
          43.3554174,
          43.3614301,
          43.3555614,
          43.358247,
          43.3592585,
          43.3597071,
          43.3533223,
          43.3603565,
          43.3603001,
          43.3719778,
          43.3617383,
          43.3633301,
          43.3624045,
          43.3381862,
          43.3507191,
          43.370284,
          43.3530857,
          43.3573123,
          43.358447,
          43.3614301,
          43.3531156,
          43.352099,
          43.3512435,
          43.3620893,
          43.3543783,
          43.3509983,
          43.3397994,
          43.3524925,
          43.3534925,
          43.3696648,
          43.3639831,
          43.3535664,
          43.3805072,
          43.3536925,
          43.3524925,
          43.3534997,
          43.353279,
          43.3590567,
          43.3514335,
          43.3550852,
          43.3583346,
          43.356284,
          43.3527963,
          43.3564852,
          43.3772887,
          43.3517958,
          43.355437,
          43.3414416,
          43.3525017,
          43.3748169,
          43.3403868,
          43.3632655,
          43.3605737,
          43.3402455,
          43.3753671,
          43.3556664,
          43.3543964,
          43.3762485,
          43.361084,
          43.3696122,
          43.3527351,
          43.352723,
          43.3525351,
          43.3577889,
          43.35048,
          43.3557944,
          43.3606494,
          43.3549552,
          43.375249,
          43.3734225,
          43.3642747,
          43.3635551,
          43.3529925,
          43.3569621,
          43.3373331,
          43.3622455,
          43.357621,
          43.3594866,
          43.3635315,
          43.3559652,
          43.3714604,
          43.3703565,
          43.3775157,
          43.3553944,
          43.3608533,
          43.3447468,
          43.3619397,
          43.3605166,
          43.3503499,
          43.3374794,
          43.3779542,
          43.3765791,
          43.379235,
          43.3393107,
          43.3791029,
          43.3352846,
          43.3367299,
          43.3615908,
          43.3689382,
          43.3704568,
          43.3705542,
          43.3359846,
          43.3401441,
          43.3635739,
          43.3637258,
          43.3487132,
          43.3520539,
          43.3608334,
          43.3385097,
          43.3461222,
          43.3811431,
          43.355238,
          43.3718761,
          43.345137,
          43.3462117,
          43.3612846,
          43.3570941,
          43.3508107,
          43.3811317,
          43.3546012,
          43.3529042,
          43.3546574,
          43.3555919,
          43.3663577,
          43.3584927,
          43.3546432,
          43.3623045,
          43.3707376,
          43.3610405,
          43.3457258,
          43.3748784,
          43.381082,
          43.3557454,
          43.338118,
          43.3682376,
          43.3395795,
          43.3590386,
          43.3657882,
          43.367664,
          43.379355,
          43.3347301,
          43.3713041,
          43.3797513,
          43.3403092,
          43.3726698,
          43.3451406,
          43.3568138,
          43.3397704,
          43.3659002,
          43.3638315,
          43.3615374,
          43.3681382,
          43.3686653,
          43.3357846,
          43.3357846,
          43.3347846,
          43.3516923,
          43.3820447,
          43.3536823,
          43.3400848,
          43.378555,
          43.3612825,
          43.3542445,
          43.3709951,
          43.371919,
          43.3577309,
          43.3458399,
          43.3638673,
          43.3458399,
          43.3580884,
          43.3577309,
          43.3774925,
          43.3751031,
          43.3523796,
          43.3537404,
          43.3604593,
          43.3617026,
          43.3604678,
          43.3375846,
          43.3617033,
          43.3336234,
          43.3371846,
          43.3617512,
          43.3708976,
          43.3460165,
          43.3455454,
          43.3353846,
          43.3544509,
          43.3373846,
          43.3598339,
          43.3726041,
          43.337919,
          43.3545329,
          43.3582045,
          43.3394282,
          43.3420459,
          43.3574521,
          43.3600855,
          43.3544509,
          43.3455626,
          43.3465901,
          43.3549095,
          43.3578542,
          43.3614287,
          43.3696525,
          43.3582811,
          43.3551979,
          43.343359,
          43.3435744,
          43.3597434,
          43.3485942,
          43.348511,
          43.346611,
          43.3608821,
          43.3653546,
          43.3597898,
          43.370719,
          43.367347,
          43.36078,
          43.3604728,
          43.3456569,
          43.3517234,
          43.3791981,
          43.3633765,
          43.3598947,
          43.3590992,
          43.3518692,
          43.3578659,
          43.369078,
          43.37961,
          43.3591,
          43.3740244,
          43.3604702,
          43.3398633,
          43.3530345,
          43.342694,
          43.3411328,
          43.3394536,
          43.3459191,
          43.346223,
          43.3366879,
          43.378555,
          43.3585539,
          43.3632489,
          43.3478636,
          43.3478636,
          43.377755,
          43.3539237,
          43.3539237,
          43.3435261,
          43.3539237,
          43.3539237,
          43.3539237,
          43.3503251,
          43.3706131,
          43.3752,
          43.3684201,
          43.3619807,
          43.3750436,
          43.34287,
          43.3405798,
          43.3585077,
          43.3625315,
          43.3591373,
          43.3421406,
          43.362135,
          43.3542737,
          43.3693442,
          43.3583195,
          43.3606093,
          43.3641027,
          43.3716126,
          43.3415419,
          43.3403703,
          43.3729019,
          43.3845518,
          43.3530442,
          43.3569493,
          43.374087,
          43.3457258,
          43.3551979,
          43.3438931,
          43.3745487,
          43.3625258,
          43.3426504,
          43.3585262,
          43.3764146,
          43.3544403,
          43.3540437,
          43.3540275,
          43.3545137,
          43.3588728,
          43.3566818,
          43.3549357,
          43.3692782,
          43.3598917,
          43.3707854,
          43.3587287,
          43.3418674,
          43.3531315,
          43.3791778,
          43.3541944,
          43.3558944,
          43.3654627,
          43.356403,
          43.3550944,
          43.3741757,
          43.3584647,
          43.3812286,
          43.3801393,
          43.3655277,
          43.3621327,
          43.368999,
          43.356158,
          43.3572944,
          43.3757825,
          43.3599416,
          43.3521139,
          43.3470776,
          43.355751,
          43.3556868,
          43.3620106,
          43.3820899,
          43.356698,
          43.3608072,
          43.3654037,
          43.3599416,
          43.3521139,
          43.361256,
          43.3612093,
          43.348111,
          43.3722218,
          43.3385252,
          43.3651276,
          43.38053,
          43.3652115,
          43.3538933,
          43.3536758,
          43.3371971,
          43.3606056,
          43.3526707,
          43.3623037,
          43.3617263,
          43.3550804,
          43.3577959,
          43.3530203,
          43.3601283,
          43.3620808,
          43.3478577,
          43.3543349,
          43.3527728,
          43.357484,
          43.3707376,
          43.3543315,
          43.3467258,
          43.3655093,
          43.3775811,
          43.3622553,
          43.3520188,
          43.3518802,
          43.3615072,
          43.3605772,
          43.3505831,
          43.3373817,
          43.3639278,
          43.337718,
          43.36331,
          43.3330776,
          43.3810161,
          43.3787231,
          43.3636698,
          43.3618955,
          43.3778372,
          43.3568138,
          43.3776377,
          43.3559137,
          43.3765568,
          43.3591595,
          43.3374648,
          43.3543094,
          43.3651326,
          43.3613346,
          43.3629629,
          43.3383544,
          43.3594895,
          43.366677,
          43.3368981,
          43.3532295,
          43.3537872,
          43.3751799,
          43.3600783,
          43.3717275,
          43.3583166,
          43.3679241,
          43.370326,
          43.3597381,
          43.370326,
          43.3625851,
          43.3558783,
          43.359393,
          43.3621082,
          43.3775015,
          43.3531519,
          43.3562588,
          43.3557097,
          43.3521616,
          43.3523317,
          43.3587226,
          43.3628722,
          43.375229,
          43.3679643,
          43.3562411,
          43.340018,
          43.3569332,
          43.3592435,
          43.3604334,
          43.3600334,
          43.3480627,
          43.3483138,
          43.3483458,
          43.3613226,
          43.3574271,
          43.3363616,
          43.3813187,
          43.3592435,
          43.3480627,
          43.3604334,
          43.3600334,
          43.355093,
          43.3570852,
          43.3686053,
          43.3379156,
          43.3728409,
          43.3588503,
          43.3799313,
          43.3537874,
          43.3554996,
          43.3701717,
          43.3532258,
          43.3612759,
          43.3712366,
          43.3530573,
          43.3710376,
          43.3617759,
          43.373987,
          43.3635037,
          43.3760999,
          43.3609776,
          43.361934,
          43.3558783,
          43.350726,
          43.3518303,
          43.3591715,
          43.3573747,
          43.3378741,
          43.3521662,
          43.3824514,
          43.3692657,
          43.3355981,
          43.364232,
          43.3361902,
          43.364232,
          43.3589159,
          43.3652037,
          43.3659382,
          43.3427798,
          43.35473,
          43.3759873,
          43.3759873,
          43.3589283,
          43.3607435,
          43.351198,
          43.3534458,
          43.3672122,
          43.337109,
          43.3584488,
          43.3536842,
          43.358019,
          43.3513653,
          43.36964,
          43.3518867,
          43.38138,
          43.3466413,
          43.3643238,
          43.3497277,
          43.3534868,
          43.338118,
          43.3559309,
          43.3780601,
          43.356959,
          43.3764274,
          43.3596486,
          43.3561787,
          43.3550929,
          43.3440158,
          43.3585327,
          43.3807893,
          43.3726742,
          43.3524278,
          43.38113,
          43.3533139,
          43.3463138,
          43.3614301,
          43.3600811,
          43.3683365,
          43.3726041,
          43.3741963,
          43.3557944,
          43.3543529,
          43.3463776,
          43.3682706,
          43.3484473,
          43.3464627,
          43.35048,
          43.3806291,
          43.3806766,
          43.3779727,
          43.3739556,
          43.3739556,
          43.3579852,
          43.3614301,
          43.35168,
          43.3614258,
          43.3458399,
          43.3486478,
          43.3458399,
          43.3450901,
          43.3458399,
          43.3458399,
          43.3458399,
          43.3458399,
          43.3534733,
          43.3450901,
          43.3458399,
          43.3486478,
          43.3530455,
          43.3458399,
          43.3458399,
          43.3458399,
          43.3458399,
          43.3458399,
          43.3607677,
          43.3486478,
          43.3486478,
          43.3486478,
          43.3458399,
          43.3458399,
          43.3714611,
          43.3742377,
          43.3580094,
          43.346611,
          43.3546342,
          43.3527474,
          43.3648758,
          43.3613258,
          43.337368,
          43.3383949,
          43.3457258,
          43.3516923,
          43.3411328,
          43.3508632,
          43.3557944,
          43.3600811,
          43.3614301,
          43.3352237,
          43.3352237,
          43.3352237,
          43.3352237,
          43.3352237,
          43.377355,
          43.3352237,
          43.3403294,
          43.3352237,
          43.3352237,
          43.3352237,
          43.3640263,
          43.3352237,
          43.3352237,
          43.346611,
          43.3463776,
          43.346611,
          43.3463776,
          43.3463138,
          43.3644037,
          43.3531315,
          43.3797673,
          43.3679093,
          43.3622044,
          43.3589453,
          43.3522341,
          43.3540737,
          43.3557944,
          43.363304,
          43.3536548,
          43.3728011,
          43.3656277,
          43.359022,
          43.3649524,
          43.3482129,
          43.3586056,
          43.3610593,
          43.3484704,
          43.350211,
          43.3472921,
          43.3341491,
          43.3472921,
          43.3534563,
          43.3472921,
          43.3472921,
          43.3552598,
          43.37117,
          43.3615374,
          43.3597898,
          43.3753793,
          43.3623829,
          43.342338,
          43.3790447,
          43.35308
         ],
         "legendgroup": "",
         "lon": [
          -8.4002011,
          -8.4175517,
          -8.4197289,
          -8.4145459,
          -8.402792,
          -8.4114801,
          -8.3954237,
          -8.3968237,
          -8.4080224,
          -8.3937539,
          -8.4102682,
          -8.4079323,
          -8.4052384,
          -8.3966361,
          -8.3932671,
          -8.4028895,
          -8.3992931,
          -8.3770976,
          -8.4210791,
          -8.4238254,
          -8.4091919,
          -8.40406,
          -8.4076598,
          -8.423071,
          -8.4188372,
          -8.4139881,
          -8.3949753,
          -8.4075215,
          -8.3921757,
          -8.3972321,
          -8.4237473,
          -8.412471,
          -8.3902564,
          -8.3970352,
          -8.4188641,
          -8.395113,
          -8.3975704,
          -8.4114608,
          -8.3978459,
          -8.4133919,
          -8.4065999,
          -8.4206641,
          -8.4158438,
          -8.4159734,
          -8.4107338,
          -8.414526,
          -8.4148128,
          -8.4162889,
          -8.4177889,
          -8.4166346,
          -8.4166346,
          -8.4161995,
          -8.3913991,
          -8.401356,
          -8.4185889,
          -8.4158889,
          -8.4173889,
          -8.4155889,
          -8.3943405,
          -8.416011,
          -8.4173387,
          -8.4173387,
          -8.3887564,
          -8.3902564,
          -8.401109,
          -8.4124212,
          -8.4164416,
          -8.4161588,
          -8.4182929,
          -8.4161194,
          -8.416767,
          -8.4162101,
          -8.4134406,
          -8.4118406,
          -8.4159889,
          -8.4107338,
          -8.4120325,
          -8.4116338,
          -8.4095338,
          -8.4113406,
          -8.3953766,
          -8.3917564,
          -8.4114045,
          -8.4148734,
          -8.3984487,
          -8.4126044,
          -8.4118688,
          -8.4192365,
          -8.4083286,
          -8.414096,
          -8.4167372,
          -8.4012259,
          -8.4189641,
          -8.4160734,
          -8.4194442,
          -8.3694479,
          -8.39059,
          -8.3963549,
          -8.3964819,
          -8.410664,
          -8.4126044,
          -8.4148734,
          -8.391758,
          -8.3917379,
          -8.3919415,
          -8.4138128,
          -8.4108763,
          -8.3899586,
          -8.3755158,
          -8.3894424,
          -8.3913424,
          -8.4020565,
          -8.4192577,
          -8.3943855,
          -8.4070775,
          -8.3912424,
          -8.3906424,
          -8.4033023,
          -8.3954859,
          -8.4140003,
          -8.3879312,
          -8.4116471,
          -8.4001974,
          -8.4110003,
          -8.397039,
          -8.4144471,
          -8.4257771,
          -8.3960578,
          -8.4018651,
          -8.4046009,
          -8.4004692,
          -8.4037652,
          -8.4054473,
          -8.4125678,
          -8.4192403,
          -8.4047696,
          -8.4296443,
          -8.4010427,
          -8.4078676,
          -8.4259343,
          -8.4076415,
          -8.394362,
          -8.3962731,
          -8.3902367,
          -8.3942731,
          -8.4080544,
          -8.38993,
          -8.4158095,
          -8.421749,
          -8.39863,
          -8.4299647,
          -8.3966002,
          -8.4148029,
          -8.4245979,
          -8.3883424,
          -8.4136581,
          -8.3908578,
          -8.4159165,
          -8.4000993,
          -8.4176019,
          -8.4220398,
          -8.4175879,
          -8.3967174,
          -8.4040326,
          -8.3980797,
          -8.4153095,
          -8.4249662,
          -8.3991487,
          -8.4157331,
          -8.4077367,
          -8.3908134,
          -8.375238,
          -8.3375325,
          -8.4294736,
          -8.3974977,
          -8.4183166,
          -8.4009792,
          -8.4075257,
          -8.4079726,
          -8.4175809,
          -8.3907591,
          -8.4051761,
          -8.4006245,
          -8.4074257,
          -8.4196301,
          -8.4099374,
          -8.4253671,
          -8.405719,
          -8.4086911,
          -8.4106783,
          -8.3934523,
          -8.4072304,
          -8.4046036,
          -8.3995263,
          -8.3912813,
          -8.4094727,
          -8.4138237,
          -8.4208527,
          -8.4083342,
          -8.4046994,
          -8.4006016,
          -8.4119756,
          -8.3958421,
          -8.4024546,
          -8.3987622,
          -8.4241524,
          -8.4001626,
          -8.4067866,
          -8.4113483,
          -8.4052197,
          -8.4170921,
          -8.4125434,
          -8.4269956,
          -8.4005154,
          -8.4018583,
          -8.374476,
          -8.4054197,
          -8.3745693,
          -8.4145295,
          -8.4262792,
          -8.4102518,
          -8.4089042,
          -8.3787958,
          -8.4186913,
          -8.4044812,
          -8.4041404,
          -8.4336186,
          -8.3985717,
          -8.3999626,
          -8.3926596,
          -8.4198389,
          -8.4190398,
          -8.4139364,
          -8.4334954,
          -8.433695,
          -8.4113257,
          -8.4112257,
          -8.4080257,
          -8.3880538,
          -8.3981719,
          -8.4135189,
          -8.4212147,
          -8.4069042,
          -8.4208426,
          -8.3954447,
          -8.3968391,
          -8.4014629,
          -8.3994065,
          -8.3982663,
          -8.4180368,
          -8.3982663,
          -8.3984588,
          -8.3994065,
          -8.4028251,
          -8.4344011,
          -8.4137314,
          -8.3997127,
          -8.4079491,
          -8.4095774,
          -8.4095285,
          -8.4098257,
          -8.411875,
          -8.4048662,
          -8.4109257,
          -8.4148683,
          -8.4027209,
          -8.4074413,
          -8.3938214,
          -8.4090257,
          -8.3988138,
          -8.4074257,
          -8.4139174,
          -8.4198913,
          -8.3888388,
          -8.411547,
          -8.41267,
          -8.4053682,
          -8.41597,
          -8.419228,
          -8.419606,
          -8.3949136,
          -8.399635,
          -8.4147962,
          -8.4111539,
          -8.4180486,
          -8.4171156,
          -8.4177216,
          -8.4168874,
          -8.4114619,
          -8.3946443,
          -8.4088265,
          -8.4134878,
          -8.4018361,
          -8.4189387,
          -8.4166387,
          -8.417814,
          -8.4208432,
          -8.414492,
          -8.3942306,
          -8.42026,
          -8.422,
          -8.40746,
          -8.4423074,
          -8.3892355,
          -8.4040739,
          -8.4106212,
          -8.4181086,
          -8.4082352,
          -8.4088129,
          -8.4038963,
          -8.3967325,
          -8.40117,
          -8.408542,
          -8.4187183,
          -8.4204357,
          -8.397276,
          -8.3932341,
          -8.394631,
          -8.3959195,
          -8.4045036,
          -8.3922309,
          -8.4030007,
          -8.3762289,
          -8.4069042,
          -8.4177635,
          -8.4217781,
          -8.4013157,
          -8.4013157,
          -8.4050042,
          -8.4124899,
          -8.4124899,
          -8.4033221,
          -8.4124899,
          -8.4124899,
          -8.4124899,
          -8.4174661,
          -8.3930874,
          -8.4342395,
          -8.4197385,
          -8.4229358,
          -8.4285958,
          -8.4056,
          -8.404061,
          -8.4105059,
          -8.4210398,
          -8.4187566,
          -8.3978717,
          -8.420742,
          -8.3953593,
          -8.4177082,
          -8.4035521,
          -8.4071353,
          -8.4123579,
          -8.3924495,
          -8.3875123,
          -8.4165903,
          -8.4040519,
          -8.3962619,
          -8.3946911,
          -8.4194236,
          -8.3957152,
          -8.4109434,
          -8.4114619,
          -8.4019505,
          -8.3978376,
          -8.422471,
          -8.4032056,
          -8.4168826,
          -8.4014189,
          -8.3967539,
          -8.4004572,
          -8.4079728,
          -8.4001476,
          -8.3983125,
          -8.407882,
          -8.3934744,
          -8.4304108,
          -8.4280401,
          -8.3923899,
          -8.4055644,
          -8.4152678,
          -8.3945353,
          -8.4008789,
          -8.4173095,
          -8.4170095,
          -8.4215001,
          -8.4032662,
          -8.4176095,
          -8.4325136,
          -8.4048505,
          -8.4070767,
          -8.3985336,
          -8.4114623,
          -8.4243171,
          -8.4303908,
          -8.413582,
          -8.4177095,
          -8.4399656,
          -8.4168735,
          -8.3892564,
          -8.4176099,
          -8.3975751,
          -8.3937741,
          -8.4192425,
          -8.4008487,
          -8.4178146,
          -8.4075355,
          -8.4229853,
          -8.4168735,
          -8.3892564,
          -8.4109604,
          -8.4067353,
          -8.4168387,
          -8.4332043,
          -8.3692677,
          -8.4180372,
          -8.4043699,
          -8.4217938,
          -8.4129806,
          -8.3988153,
          -8.3767422,
          -8.4170226,
          -8.3936421,
          -8.4212853,
          -8.4253374,
          -8.4135607,
          -8.4200017,
          -8.3993301,
          -8.417745,
          -8.4254393,
          -8.410442,
          -8.3957242,
          -8.3937018,
          -8.4063376,
          -8.4058197,
          -8.3957353,
          -8.4127434,
          -8.4112911,
          -8.3959578,
          -8.4082366,
          -8.4125837,
          -8.3892504,
          -8.4066355,
          -8.4050784,
          -8.401679,
          -8.3929119,
          -8.4191968,
          -8.377276,
          -8.41051,
          -8.3876101,
          -8.4019759,
          -8.402418,
          -8.4243077,
          -8.4168952,
          -8.4043698,
          -8.3999626,
          -8.4055947,
          -8.4013476,
          -8.4040857,
          -8.4110288,
          -8.4102046,
          -8.4125293,
          -8.4185351,
          -8.4058911,
          -8.4198867,
          -8.3749649,
          -8.4169582,
          -8.4231986,
          -8.3770425,
          -8.3916686,
          -8.411775,
          -8.42483,
          -8.4164951,
          -8.3954706,
          -8.4080367,
          -8.4211348,
          -8.392779,
          -8.4056352,
          -8.392779,
          -8.4215482,
          -8.4113763,
          -8.418243,
          -8.4206338,
          -8.4006752,
          -8.4077772,
          -8.4201485,
          -8.400131,
          -8.4086126,
          -8.3960234,
          -8.4159553,
          -8.4194233,
          -8.3967293,
          -8.434142,
          -8.3981664,
          -8.373576,
          -8.3986341,
          -8.4075068,
          -8.4107783,
          -8.4119783,
          -8.4190182,
          -8.4189863,
          -8.4452245,
          -8.4170439,
          -8.3982959,
          -8.3750727,
          -8.4015976,
          -8.4075068,
          -8.4190182,
          -8.4107783,
          -8.4119783,
          -8.3932228,
          -8.4126679,
          -8.4046147,
          -8.3739132,
          -8.4020339,
          -8.4141185,
          -8.4033713,
          -8.4039057,
          -8.4256468,
          -8.3925029,
          -8.3937018,
          -8.4230389,
          -8.4034959,
          -8.3969752,
          -8.4046197,
          -8.4222389,
          -8.3956352,
          -8.4216853,
          -8.4295958,
          -8.4166387,
          -8.4229202,
          -8.4113763,
          -8.3966508,
          -8.388273,
          -8.4164844,
          -8.401251,
          -8.3774783,
          -8.4093198,
          -8.4074265,
          -8.4045049,
          -8.3758425,
          -8.4081577,
          -8.3739162,
          -8.4103577,
          -8.4239344,
          -8.4226853,
          -8.4222784,
          -8.406661,
          -8.41123,
          -8.3996134,
          -8.3996134,
          -8.415545,
          -8.4095068,
          -8.3887299,
          -8.4083889,
          -8.4334497,
          -8.3780995,
          -8.4157863,
          -8.4174934,
          -8.4203568,
          -8.393876,
          -8.4044304,
          -8.3892523,
          -8.4037,
          -8.4000496,
          -8.4230059,
          -8.3999148,
          -8.3936741,
          -8.375576,
          -8.4149695,
          -8.4010117,
          -8.4019939,
          -8.4292927,
          -8.4199,
          -8.404935,
          -8.3979579,
          -8.4133345,
          -8.4077681,
          -8.4002493,
          -8.3982749,
          -8.4047118,
          -8.4062699,
          -8.3902564,
          -8.4176863,
          -8.4148734,
          -8.4164874,
          -8.4197678,
          -8.4198913,
          -8.4243048,
          -8.4158095,
          -8.4107338,
          -8.4176099,
          -8.4336293,
          -8.401356,
          -8.4175182,
          -8.38993,
          -8.4006501,
          -8.4021784,
          -8.3958048,
          -8.3995232,
          -8.3995232,
          -8.4119471,
          -8.4148734,
          -8.39153,
          -8.4176087,
          -8.3982663,
          -8.4020429,
          -8.3982663,
          -8.3934634,
          -8.3982663,
          -8.3982663,
          -8.3982663,
          -8.3982663,
          -8.3935852,
          -8.3934634,
          -8.3982663,
          -8.4020429,
          -8.4072333,
          -8.3982663,
          -8.3982663,
          -8.3982663,
          -8.3982663,
          -8.3982663,
          -8.4205032,
          -8.4020429,
          -8.4020429,
          -8.4020429,
          -8.3982663,
          -8.3982663,
          -8.4008134,
          -8.4375058,
          -8.4012651,
          -8.4173387,
          -8.4001898,
          -8.4084974,
          -8.4238484,
          -8.421271,
          -8.410806,
          -8.4129282,
          -8.4109434,
          -8.3880538,
          -8.3959195,
          -8.392815,
          -8.4158095,
          -8.4164874,
          -8.4148734,
          -8.409246,
          -8.409246,
          -8.409246,
          -8.409246,
          -8.409246,
          -8.4082042,
          -8.409246,
          -8.4126976,
          -8.409246,
          -8.409246,
          -8.409246,
          -8.419686,
          -8.409246,
          -8.409246,
          -8.4173387,
          -8.4176099,
          -8.4173387,
          -8.4176099,
          -8.4176863,
          -8.4231853,
          -8.3945353,
          -8.4049322,
          -8.4091911,
          -8.4214737,
          -8.417472,
          -8.4101127,
          -8.3970593,
          -8.4158095,
          -8.4192076,
          -8.3943447,
          -8.4258839,
          -8.4097623,
          -8.4239419,
          -8.4200601,
          -8.4015456,
          -8.4186226,
          -8.4086491,
          -8.4454778,
          -8.412213,
          -8.3909908,
          -8.390444,
          -8.3909908,
          -8.4160394,
          -8.3909908,
          -8.3909908,
          -8.4121335,
          -8.4177,
          -8.4139364,
          -8.414492,
          -8.4015471,
          -8.4205874,
          -8.393334,
          -8.3963719,
          -8.39062
         ],
         "marker": {
          "color": [
           1389,
           4167,
           1353,
           1114,
           2767,
           1000,
           2440,
           1280,
           3797,
           1000,
           3448,
           3333,
           3067,
           2243,
           1294,
           892,
           2345,
           2250,
           1228,
           1580,
           1364,
           393,
           1764,
           2071,
           1839,
           1828,
           2609,
           1154,
           2848,
           1500,
           2614,
           1605,
           2248,
           1500,
           1792,
           1500,
           1500,
           1253,
           1500,
           2432,
           1965,
           1683,
           1871,
           2684,
           1028,
           1605,
           2684,
           1709,
           1697,
           1751,
           1751,
           2222,
           2247,
           792,
           1697,
           1709,
           1731,
           2255,
           1500,
           2684,
           1731,
           1620,
           1838,
           2100,
           792,
           1028,
           2018,
           4012,
           1774,
           1767,
           2536,
           1644,
           1605,
           1605,
           1644,
           1012,
           1244,
           1079,
           1012,
           1244,
           3929,
           2248,
           1012,
           2190,
           2716,
           1343,
           1643,
           1083,
           1585,
           3145,
           2190,
           2200,
           1704,
           3681,
           1886,
           3293,
           1527,
           2794,
           1250,
           1643,
           1492,
           3681,
           1390,
           1390,
           1390,
           3035,
           1675,
           1489,
           2214,
           1393,
           1489,
           3518,
           2224,
           2432,
           2177,
           1489,
           1354,
           2413,
           2099,
           1141,
           1889,
           2651,
           2500,
           2420,
           2015,
           2783,
           1215,
           1383,
           2819,
           2468,
           1261,
           1328,
           2468,
           2697,
           1845,
           2155,
           2709,
           2059,
           2931,
           1750,
           2706,
           2717,
           2923,
           1797,
           2235,
           1960,
           2203,
           2352,
           988,
           1542,
           2350,
           2269,
           3132,
           2069,
           1489,
           1700,
           2544,
           1957,
           2819,
           2182,
           1510,
           1600,
           3134,
           3027,
           2560,
           3114,
           1690,
           2121,
           1526,
           2390,
           2080,
           2727,
           1975,
           3056,
           2462,
           1859,
           1322,
           2500,
           1773,
           2225,
           3083,
           2329,
           2671,
           2813,
           1859,
           2766,
           2026,
           2600,
           1732,
           2317,
           1517,
           1929,
           3258,
           2653,
           1692,
           2111,
           1768,
           934,
           2097,
           1714,
           1961,
           2453,
           2020,
           1857,
           1980,
           2333,
           2712,
           1217,
           2455,
           2527,
           1870,
           1680,
           3051,
           2600,
           2358,
           2095,
           3273,
           1278,
           3857,
           3049,
           3010,
           1572,
           3146,
           5455,
           3258,
           3390,
           3271,
           1842,
           2759,
           1623,
           1211,
           1465,
           1641,
           1987,
           1385,
           2737,
           2500,
           2737,
           980,
           2709,
           2153,
           1859,
           1572,
           988,
           1338,
           1732,
           1735,
           2819,
           1849,
           1895,
           2088,
           2712,
           2819,
           3437,
           2048,
           718,
           1965,
           2706,
           2010,
           2706,
           2471,
           1544,
           473,
           2540,
           1544,
           2671,
           1438,
           1842,
           2540,
           2819,
           2813,
           3085,
           3400,
           1855,
           1466,
           1505,
           2837,
           1369,
           1580,
           1580,
           2169,
           1813,
           2588,
           1700,
           1459,
           1792,
           3944,
           1276,
           1238,
           1885,
           2048,
           2022,
           3209,
           1792,
           1718,
           1500,
           1755,
           2105,
           2826,
           1095,
           2455,
           1974,
           1397,
           2580,
           1541,
           3105,
           1759,
           1893,
           2227,
           2478,
           2035,
           3636,
           2697,
           3613,
           1250,
           1277,
           1720,
           1797,
           1290,
           2938,
           565,
           1326,
           2878,
           1769,
           2231,
           1935,
           3103,
           3433,
           1538,
           2500,
           3855,
           2375,
           2579,
           2539,
           2681,
           2722,
           1692,
           2526,
           3442,
           2115,
           3056,
           2322,
           2322,
           1822,
           1591,
           2159,
           1842,
           2048,
           1068,
           3944,
           2088,
           1746,
           4286,
           2700,
           2619,
           1333,
           2640,
           2304,
           1795,
           1781,
           2363,
           1615,
           1237,
           1167,
           2816,
           2067,
           2430,
           2378,
           1322,
           2092,
           2744,
           1273,
           1500,
           3072,
           2052,
           1133,
           1522,
           2093,
           3648,
           2941,
           1554,
           2573,
           1802,
           3114,
           2477,
           2667,
           2339,
           2723,
           2180,
           2215,
           2368,
           1932,
           3425,
           2718,
           2000,
           3438,
           2616,
           3014,
           2439,
           2208,
           1787,
           1896,
           2223,
           1790,
           2556,
           1750,
           3071,
           1526,
           2439,
           2208,
           2073,
           1746,
           1793,
           2398,
           7500,
           2438,
           2351,
           2769,
           1666,
           2132,
           2727,
           1765,
           2529,
           1510,
           1403,
           1087,
           1316,
           1987,
           1707,
           1500,
           1318,
           1455,
           1338,
           1934,
           3273,
           3181,
           1556,
           3137,
           2155,
           2756,
           1435,
           2086,
           2986,
           5433,
           2800,
           2458,
           1549,
           2500,
           2614,
           2357,
           2261,
           3703,
           1575,
           1935,
           1922,
           2462,
           2600,
           3393,
           1898,
           1864,
           2483,
           2656,
           2909,
           2874,
           1920,
           2348,
           2759,
           2727,
           2867,
           1597,
           1639,
           2156,
           2611,
           3010,
           2390,
           2908,
           2358,
           1536,
           1909,
           2163,
           1169,
           1261,
           889,
           2378,
           1429,
           2557,
           2909,
           2227,
           1068,
           716,
           1609,
           1846,
           1987,
           2909,
           2095,
           2462,
           2059,
           2134,
           2162,
           1678,
           1800,
           1000,
           1690,
           1913,
           2095,
           2014,
           2059,
           1678,
           2134,
           2162,
           2223,
           1369,
           4091,
           1622,
           3476,
           1432,
           2176,
           1815,
           1445,
           2814,
           1031,
           1908,
           2478,
           1823,
           2527,
           2048,
           3560,
           1644,
           3056,
           1432,
           1945,
           1573,
           2500,
           1322,
           1043,
           2712,
           2348,
           1833,
           2375,
           3545,
           3225,
           4362,
           1938,
           4362,
           1374,
           1626,
           1632,
           2679,
           2872,
           2817,
           2817,
           2471,
           2059,
           1535,
           1041,
           2078,
           1278,
           1680,
           4100,
           2400,
           1524,
           1965,
           2364,
           2475,
           2806,
           2262,
           2034,
           2143,
           2348,
           2345,
           2362,
           2819,
           3056,
           1835,
           2921,
           2358,
           2056,
           3260,
           1690,
           3145,
           1767,
           2351,
           2364,
           1718,
           2813,
           2382,
           3500,
           3524,
           2325,
           2778,
           1136,
           1787,
           457,
           834,
           1792,
           3020,
           1923,
           1026,
           2067,
           1958,
           1958,
           1746,
           3175,
           2234,
           692,
           2032,
           3621,
           2245,
           2344,
           2016,
           2384,
           2151,
           2364,
           3391,
           1875,
           2250,
           3793,
           1083,
           2063,
           2467,
           2380,
           1919,
           2349,
           2000,
           3200,
           3800,
           3362,
           2119,
           2049,
           2723,
           2933,
           3077,
           2263,
           1957,
           1569,
           1458,
           2067,
           1981,
           1438,
           1680,
           1100,
           1176,
           1390,
           2929,
           2198,
           2813,
           1729,
           2292,
           2070,
           1875,
           1927,
           1572,
           2073,
           2317,
           1729,
           2070,
           2292,
           1739,
           1875,
           2177,
           2205,
           2244,
           2107,
           2240,
           2195,
           1510,
           2573,
           1530,
           3010,
           2987,
           1461,
           2438,
           1068,
           2723,
           2743,
           1187,
           2222,
           3846,
           1791,
           1609,
           2059,
           2586,
           2706,
           1563,
           2500,
           2841,
           2154,
           2846,
           1716,
           2619,
           3736,
           1477,
           2978,
           1615,
           2014,
           4318,
           1622,
           2188,
           2709,
           3014
          ],
          "coloraxis": "coloraxis",
          "size": [
           3,
           2,
           3,
           3,
           2,
           3,
           1,
           1,
           3,
           3,
           3,
           3,
           2,
           3,
           2,
           4,
           1,
           2,
           4,
           3,
           3,
           3,
           3,
           2,
           3,
           2,
           3,
           4,
           1,
           4,
           3,
           4,
           2,
           4,
           3,
           4,
           4,
           3,
           4,
           2,
           6,
           3,
           2,
           2,
           3,
           4,
           2,
           1,
           2,
           2,
           2,
           1,
           2,
           1,
           2,
           2,
           1,
           2,
           4,
           2,
           2,
           2,
           2,
           2,
           1,
           3,
           2,
           2,
           2,
           2,
           3,
           2,
           4,
           4,
           2,
           3,
           4,
           3,
           1,
           1,
           2,
           2,
           1,
           1,
           3,
           2,
           2,
           4,
           2,
           1,
           1,
           2,
           3,
           1,
           4,
           2,
           3,
           3,
           3,
           3,
           3,
           1,
           3,
           3,
           3,
           1,
           3,
           4,
           2,
           4,
           4,
           2,
           2,
           2,
           3,
           4,
           4,
           2,
           2,
           2,
           3,
           2,
           3,
           2,
           1,
           2,
           2,
           2,
           3,
           2,
           4,
           1,
           2,
           2,
           2,
           2,
           3,
           3,
           3,
           2,
           3,
           2,
           2,
           3,
           2,
           2,
           3,
           3,
           3,
           4,
           2,
           4,
           1,
           2,
           4,
           3,
           2,
           4,
           3,
           3,
           4,
           3,
           2,
           3,
           3,
           2,
           3,
           2,
           3,
           3,
           3,
           2,
           2,
           3,
           3,
           2,
           5,
           3,
           3,
           2,
           2,
           3,
           3,
           2,
           2,
           4,
           2,
           3,
           2,
           3,
           3,
           4,
           2,
           2,
           0,
           5,
           2,
           3,
           3,
           0,
           3,
           3,
           4,
           3,
           0,
           2,
           2,
           4,
           3,
           1,
           3,
           4,
           1,
           2,
           3,
           2,
           1,
           5,
           2,
           2,
           3,
           6,
           1,
           2,
           2,
           2,
           2,
           2,
           2,
           4,
           4,
           2,
           4,
           2,
           2,
           3,
           3,
           3,
           3,
           3,
           4,
           2,
           8,
           3,
           2,
           1,
           4,
           3,
           3,
           2,
           1,
           2,
           3,
           2,
           4,
           4,
           3,
           3,
           3,
           3,
           2,
           4,
           4,
           3,
           4,
           3,
           3,
           2,
           3,
           3,
           2,
           2,
           2,
           2,
           2,
           5,
           2,
           3,
           3,
           3,
           3,
           2,
           2,
           3,
           4,
           1,
           2,
           1,
           3,
           2,
           4,
           2,
           2,
           2,
           2,
           3,
           3,
           2,
           2,
           3,
           4,
           4,
           3,
           3,
           3,
           3,
           1,
           3,
           4,
           5,
           3,
           1,
           3,
           2,
           2,
           5,
           3,
           4,
           2,
           2,
           2,
           3,
           2,
           6,
           4,
           3,
           1,
           2,
           4,
           3,
           2,
           2,
           3,
           3,
           3,
           2,
           2,
           2,
           2,
           4,
           3,
           2,
           2,
           3,
           3,
           1,
           2,
           4,
           4,
           2,
           4,
           3,
           2,
           1,
           2,
           4,
           3,
           3,
           2,
           3,
           3,
           4,
           3,
           5,
           4,
           2,
           2,
           3,
           5,
           3,
           2,
           4,
           2,
           3,
           3,
           3,
           3,
           3,
           1,
           3,
           3,
           2,
           3,
           2,
           3,
           2,
           4,
           3,
           3,
           4,
           2,
           4,
           2,
           3,
           2,
           2,
           2,
           2,
           3,
           2,
           2,
           3,
           2,
           4,
           3,
           3,
           1,
           3,
           3,
           2,
           3,
           3,
           2,
           4,
           2,
           2,
           2,
           4,
           2,
           2,
           2,
           2,
           3,
           4,
           3,
           4,
           3,
           2,
           3,
           2,
           3,
           2,
           3,
           4,
           1,
           2,
           4,
           3,
           3,
           1,
           4,
           3,
           1,
           1,
           3,
           4,
           2,
           2,
           3,
           2,
           3,
           1,
           2,
           4,
           3,
           2,
           1,
           3,
           3,
           0,
           1,
           2,
           2,
           2,
           3,
           2,
           2,
           2,
           1,
           2,
           2,
           1,
           3,
           1,
           3,
           2,
           1,
           4,
           1,
           4,
           2,
           3,
           3,
           2,
           3,
           3,
           2,
           4,
           3,
           4,
           3,
           2,
           2,
           2,
           2,
           2,
           2,
           1,
           1,
           2,
           2,
           2,
           3,
           3,
           2,
           3,
           2,
           2,
           1,
           1,
           2,
           3,
           1,
           3,
           2,
           4,
           2,
           5,
           4,
           3,
           2,
           3,
           1,
           2,
           1,
           3,
           1,
           3,
           3,
           4,
           3,
           2,
           1,
           4,
           2,
           2,
           2,
           3,
           2,
           1,
           1,
           1,
           2,
           1,
           3,
           3,
           3,
           2,
           1,
           2,
           2,
           3,
           2,
           4,
           5,
           2,
           5,
           3,
           2,
           2,
           3,
           2,
           2,
           2,
           3,
           3,
           4,
           3,
           2,
           2,
           3,
           3,
           3,
           3,
           4,
           3,
           3,
           1,
           3,
           2,
           6,
           2,
           2,
           2,
           2,
           1,
           2,
           2,
           3,
           3,
           3,
           2,
           0,
           3,
           1,
           1,
           2,
           1,
           2,
           2,
           2,
           2,
           1,
           2,
           2,
           3,
           2,
           2,
           3,
           2,
           1,
           2,
           2,
           1,
           3,
           3,
           2,
           3,
           3,
           2,
           3,
           2,
           2,
           4,
           1,
           1,
           2,
           2,
           2,
           3,
           2,
           2,
           1,
           3,
           4,
           3,
           2,
           0,
           2,
           4,
           3,
           2,
           3,
           2,
           1,
           2,
           3,
           2,
           3,
           3,
           2,
           6,
           2,
           2,
           3,
           3,
           2,
           3,
           3,
           2,
           2,
           2,
           2,
           2,
           2,
           3,
           2,
           6,
           3,
           2,
           2,
           3,
           4,
           3,
           1,
           3,
           2,
           2,
           2,
           2,
           3,
           2,
           3,
           2,
           4,
           2,
           2,
           3,
           3,
           2,
           1,
           2,
           2,
           4,
           3,
           1,
           4,
           2,
           3,
           2
          ],
          "sizemode": "area",
          "sizeref": 0.02
         },
         "mode": "markers",
         "name": "",
         "showlegend": false,
         "subplot": "mapbox",
         "type": "scattermapbox"
        }
       ],
       "layout": {
        "coloraxis": {
         "colorbar": {
          "title": {
           "text": "priceByArea"
          }
         },
         "colorscale": [
          [
           0,
           "blue"
          ],
          [
           1,
           "red"
          ]
         ]
        },
        "height": 800,
        "legend": {
         "itemsizing": "constant",
         "tracegroupgap": 0
        },
        "mapbox": {
         "center": {
          "lat": 43.357088301714285,
          "lon": -8.407360184857133
         },
         "domain": {
          "x": [
           0,
           1
          ],
          "y": [
           0,
           1
          ]
         },
         "style": "carto-positron",
         "zoom": 13
        },
        "margin": {
         "b": 0,
         "l": 0,
         "r": 0,
         "t": 0
        },
        "template": {
         "data": {
          "bar": [
           {
            "error_x": {
             "color": "#2a3f5f"
            },
            "error_y": {
             "color": "#2a3f5f"
            },
            "marker": {
             "line": {
              "color": "#E5ECF6",
              "width": 0.5
             },
             "pattern": {
              "fillmode": "overlay",
              "size": 10,
              "solidity": 0.2
             }
            },
            "type": "bar"
           }
          ],
          "barpolar": [
           {
            "marker": {
             "line": {
              "color": "#E5ECF6",
              "width": 0.5
             },
             "pattern": {
              "fillmode": "overlay",
              "size": 10,
              "solidity": 0.2
             }
            },
            "type": "barpolar"
           }
          ],
          "carpet": [
           {
            "aaxis": {
             "endlinecolor": "#2a3f5f",
             "gridcolor": "white",
             "linecolor": "white",
             "minorgridcolor": "white",
             "startlinecolor": "#2a3f5f"
            },
            "baxis": {
             "endlinecolor": "#2a3f5f",
             "gridcolor": "white",
             "linecolor": "white",
             "minorgridcolor": "white",
             "startlinecolor": "#2a3f5f"
            },
            "type": "carpet"
           }
          ],
          "choropleth": [
           {
            "colorbar": {
             "outlinewidth": 0,
             "ticks": ""
            },
            "type": "choropleth"
           }
          ],
          "contour": [
           {
            "colorbar": {
             "outlinewidth": 0,
             "ticks": ""
            },
            "colorscale": [
             [
              0,
              "#0d0887"
             ],
             [
              0.1111111111111111,
              "#46039f"
             ],
             [
              0.2222222222222222,
              "#7201a8"
             ],
             [
              0.3333333333333333,
              "#9c179e"
             ],
             [
              0.4444444444444444,
              "#bd3786"
             ],
             [
              0.5555555555555556,
              "#d8576b"
             ],
             [
              0.6666666666666666,
              "#ed7953"
             ],
             [
              0.7777777777777778,
              "#fb9f3a"
             ],
             [
              0.8888888888888888,
              "#fdca26"
             ],
             [
              1,
              "#f0f921"
             ]
            ],
            "type": "contour"
           }
          ],
          "contourcarpet": [
           {
            "colorbar": {
             "outlinewidth": 0,
             "ticks": ""
            },
            "type": "contourcarpet"
           }
          ],
          "heatmap": [
           {
            "colorbar": {
             "outlinewidth": 0,
             "ticks": ""
            },
            "colorscale": [
             [
              0,
              "#0d0887"
             ],
             [
              0.1111111111111111,
              "#46039f"
             ],
             [
              0.2222222222222222,
              "#7201a8"
             ],
             [
              0.3333333333333333,
              "#9c179e"
             ],
             [
              0.4444444444444444,
              "#bd3786"
             ],
             [
              0.5555555555555556,
              "#d8576b"
             ],
             [
              0.6666666666666666,
              "#ed7953"
             ],
             [
              0.7777777777777778,
              "#fb9f3a"
             ],
             [
              0.8888888888888888,
              "#fdca26"
             ],
             [
              1,
              "#f0f921"
             ]
            ],
            "type": "heatmap"
           }
          ],
          "heatmapgl": [
           {
            "colorbar": {
             "outlinewidth": 0,
             "ticks": ""
            },
            "colorscale": [
             [
              0,
              "#0d0887"
             ],
             [
              0.1111111111111111,
              "#46039f"
             ],
             [
              0.2222222222222222,
              "#7201a8"
             ],
             [
              0.3333333333333333,
              "#9c179e"
             ],
             [
              0.4444444444444444,
              "#bd3786"
             ],
             [
              0.5555555555555556,
              "#d8576b"
             ],
             [
              0.6666666666666666,
              "#ed7953"
             ],
             [
              0.7777777777777778,
              "#fb9f3a"
             ],
             [
              0.8888888888888888,
              "#fdca26"
             ],
             [
              1,
              "#f0f921"
             ]
            ],
            "type": "heatmapgl"
           }
          ],
          "histogram": [
           {
            "marker": {
             "pattern": {
              "fillmode": "overlay",
              "size": 10,
              "solidity": 0.2
             }
            },
            "type": "histogram"
           }
          ],
          "histogram2d": [
           {
            "colorbar": {
             "outlinewidth": 0,
             "ticks": ""
            },
            "colorscale": [
             [
              0,
              "#0d0887"
             ],
             [
              0.1111111111111111,
              "#46039f"
             ],
             [
              0.2222222222222222,
              "#7201a8"
             ],
             [
              0.3333333333333333,
              "#9c179e"
             ],
             [
              0.4444444444444444,
              "#bd3786"
             ],
             [
              0.5555555555555556,
              "#d8576b"
             ],
             [
              0.6666666666666666,
              "#ed7953"
             ],
             [
              0.7777777777777778,
              "#fb9f3a"
             ],
             [
              0.8888888888888888,
              "#fdca26"
             ],
             [
              1,
              "#f0f921"
             ]
            ],
            "type": "histogram2d"
           }
          ],
          "histogram2dcontour": [
           {
            "colorbar": {
             "outlinewidth": 0,
             "ticks": ""
            },
            "colorscale": [
             [
              0,
              "#0d0887"
             ],
             [
              0.1111111111111111,
              "#46039f"
             ],
             [
              0.2222222222222222,
              "#7201a8"
             ],
             [
              0.3333333333333333,
              "#9c179e"
             ],
             [
              0.4444444444444444,
              "#bd3786"
             ],
             [
              0.5555555555555556,
              "#d8576b"
             ],
             [
              0.6666666666666666,
              "#ed7953"
             ],
             [
              0.7777777777777778,
              "#fb9f3a"
             ],
             [
              0.8888888888888888,
              "#fdca26"
             ],
             [
              1,
              "#f0f921"
             ]
            ],
            "type": "histogram2dcontour"
           }
          ],
          "mesh3d": [
           {
            "colorbar": {
             "outlinewidth": 0,
             "ticks": ""
            },
            "type": "mesh3d"
           }
          ],
          "parcoords": [
           {
            "line": {
             "colorbar": {
              "outlinewidth": 0,
              "ticks": ""
             }
            },
            "type": "parcoords"
           }
          ],
          "pie": [
           {
            "automargin": true,
            "type": "pie"
           }
          ],
          "scatter": [
           {
            "fillpattern": {
             "fillmode": "overlay",
             "size": 10,
             "solidity": 0.2
            },
            "type": "scatter"
           }
          ],
          "scatter3d": [
           {
            "line": {
             "colorbar": {
              "outlinewidth": 0,
              "ticks": ""
             }
            },
            "marker": {
             "colorbar": {
              "outlinewidth": 0,
              "ticks": ""
             }
            },
            "type": "scatter3d"
           }
          ],
          "scattercarpet": [
           {
            "marker": {
             "colorbar": {
              "outlinewidth": 0,
              "ticks": ""
             }
            },
            "type": "scattercarpet"
           }
          ],
          "scattergeo": [
           {
            "marker": {
             "colorbar": {
              "outlinewidth": 0,
              "ticks": ""
             }
            },
            "type": "scattergeo"
           }
          ],
          "scattergl": [
           {
            "marker": {
             "colorbar": {
              "outlinewidth": 0,
              "ticks": ""
             }
            },
            "type": "scattergl"
           }
          ],
          "scattermapbox": [
           {
            "marker": {
             "colorbar": {
              "outlinewidth": 0,
              "ticks": ""
             }
            },
            "type": "scattermapbox"
           }
          ],
          "scatterpolar": [
           {
            "marker": {
             "colorbar": {
              "outlinewidth": 0,
              "ticks": ""
             }
            },
            "type": "scatterpolar"
           }
          ],
          "scatterpolargl": [
           {
            "marker": {
             "colorbar": {
              "outlinewidth": 0,
              "ticks": ""
             }
            },
            "type": "scatterpolargl"
           }
          ],
          "scatterternary": [
           {
            "marker": {
             "colorbar": {
              "outlinewidth": 0,
              "ticks": ""
             }
            },
            "type": "scatterternary"
           }
          ],
          "surface": [
           {
            "colorbar": {
             "outlinewidth": 0,
             "ticks": ""
            },
            "colorscale": [
             [
              0,
              "#0d0887"
             ],
             [
              0.1111111111111111,
              "#46039f"
             ],
             [
              0.2222222222222222,
              "#7201a8"
             ],
             [
              0.3333333333333333,
              "#9c179e"
             ],
             [
              0.4444444444444444,
              "#bd3786"
             ],
             [
              0.5555555555555556,
              "#d8576b"
             ],
             [
              0.6666666666666666,
              "#ed7953"
             ],
             [
              0.7777777777777778,
              "#fb9f3a"
             ],
             [
              0.8888888888888888,
              "#fdca26"
             ],
             [
              1,
              "#f0f921"
             ]
            ],
            "type": "surface"
           }
          ],
          "table": [
           {
            "cells": {
             "fill": {
              "color": "#EBF0F8"
             },
             "line": {
              "color": "white"
             }
            },
            "header": {
             "fill": {
              "color": "#C8D4E3"
             },
             "line": {
              "color": "white"
             }
            },
            "type": "table"
           }
          ]
         },
         "layout": {
          "annotationdefaults": {
           "arrowcolor": "#2a3f5f",
           "arrowhead": 0,
           "arrowwidth": 1
          },
          "autotypenumbers": "strict",
          "coloraxis": {
           "colorbar": {
            "outlinewidth": 0,
            "ticks": ""
           }
          },
          "colorscale": {
           "diverging": [
            [
             0,
             "#8e0152"
            ],
            [
             0.1,
             "#c51b7d"
            ],
            [
             0.2,
             "#de77ae"
            ],
            [
             0.3,
             "#f1b6da"
            ],
            [
             0.4,
             "#fde0ef"
            ],
            [
             0.5,
             "#f7f7f7"
            ],
            [
             0.6,
             "#e6f5d0"
            ],
            [
             0.7,
             "#b8e186"
            ],
            [
             0.8,
             "#7fbc41"
            ],
            [
             0.9,
             "#4d9221"
            ],
            [
             1,
             "#276419"
            ]
           ],
           "sequential": [
            [
             0,
             "#0d0887"
            ],
            [
             0.1111111111111111,
             "#46039f"
            ],
            [
             0.2222222222222222,
             "#7201a8"
            ],
            [
             0.3333333333333333,
             "#9c179e"
            ],
            [
             0.4444444444444444,
             "#bd3786"
            ],
            [
             0.5555555555555556,
             "#d8576b"
            ],
            [
             0.6666666666666666,
             "#ed7953"
            ],
            [
             0.7777777777777778,
             "#fb9f3a"
            ],
            [
             0.8888888888888888,
             "#fdca26"
            ],
            [
             1,
             "#f0f921"
            ]
           ],
           "sequentialminus": [
            [
             0,
             "#0d0887"
            ],
            [
             0.1111111111111111,
             "#46039f"
            ],
            [
             0.2222222222222222,
             "#7201a8"
            ],
            [
             0.3333333333333333,
             "#9c179e"
            ],
            [
             0.4444444444444444,
             "#bd3786"
            ],
            [
             0.5555555555555556,
             "#d8576b"
            ],
            [
             0.6666666666666666,
             "#ed7953"
            ],
            [
             0.7777777777777778,
             "#fb9f3a"
            ],
            [
             0.8888888888888888,
             "#fdca26"
            ],
            [
             1,
             "#f0f921"
            ]
           ]
          },
          "colorway": [
           "#636efa",
           "#EF553B",
           "#00cc96",
           "#ab63fa",
           "#FFA15A",
           "#19d3f3",
           "#FF6692",
           "#B6E880",
           "#FF97FF",
           "#FECB52"
          ],
          "font": {
           "color": "#2a3f5f"
          },
          "geo": {
           "bgcolor": "white",
           "lakecolor": "white",
           "landcolor": "#E5ECF6",
           "showlakes": true,
           "showland": true,
           "subunitcolor": "white"
          },
          "hoverlabel": {
           "align": "left"
          },
          "hovermode": "closest",
          "mapbox": {
           "style": "light"
          },
          "paper_bgcolor": "white",
          "plot_bgcolor": "#E5ECF6",
          "polar": {
           "angularaxis": {
            "gridcolor": "white",
            "linecolor": "white",
            "ticks": ""
           },
           "bgcolor": "#E5ECF6",
           "radialaxis": {
            "gridcolor": "white",
            "linecolor": "white",
            "ticks": ""
           }
          },
          "scene": {
           "xaxis": {
            "backgroundcolor": "#E5ECF6",
            "gridcolor": "white",
            "gridwidth": 2,
            "linecolor": "white",
            "showbackground": true,
            "ticks": "",
            "zerolinecolor": "white"
           },
           "yaxis": {
            "backgroundcolor": "#E5ECF6",
            "gridcolor": "white",
            "gridwidth": 2,
            "linecolor": "white",
            "showbackground": true,
            "ticks": "",
            "zerolinecolor": "white"
           },
           "zaxis": {
            "backgroundcolor": "#E5ECF6",
            "gridcolor": "white",
            "gridwidth": 2,
            "linecolor": "white",
            "showbackground": true,
            "ticks": "",
            "zerolinecolor": "white"
           }
          },
          "shapedefaults": {
           "line": {
            "color": "#2a3f5f"
           }
          },
          "ternary": {
           "aaxis": {
            "gridcolor": "white",
            "linecolor": "white",
            "ticks": ""
           },
           "baxis": {
            "gridcolor": "white",
            "linecolor": "white",
            "ticks": ""
           },
           "bgcolor": "#E5ECF6",
           "caxis": {
            "gridcolor": "white",
            "linecolor": "white",
            "ticks": ""
           }
          },
          "title": {
           "x": 0.05
          },
          "xaxis": {
           "automargin": true,
           "gridcolor": "white",
           "linecolor": "white",
           "ticks": "",
           "title": {
            "standoff": 15
           },
           "zerolinecolor": "white",
           "zerolinewidth": 2
          },
          "yaxis": {
           "automargin": true,
           "gridcolor": "white",
           "linecolor": "white",
           "ticks": "",
           "title": {
            "standoff": 15
           },
           "zerolinecolor": "white",
           "zerolinewidth": 2
          }
         }
        },
        "width": 800
       }
      }
     },
     "metadata": {},
     "output_type": "display_data"
    }
   ],
   "source": [
    "df_temp = df\n",
    "# \n",
    "color_scale = [(0, 'blue'), (1,'red')]\n",
    "fig = px.scatter_mapbox(df_temp, \n",
    "                        lat=\"latitude\", \n",
    "                        lon=\"longitude\", \n",
    "                        hover_name=\"priceByArea\", \n",
    "                        hover_data=[\"priceByArea\",\"price\",\"size\",\"rooms\",\"url\"],\n",
    "                        color=\"priceByArea\",\n",
    "                        color_continuous_scale=color_scale,\n",
    "                        size=\"rooms\",\n",
    "                        zoom=13,\n",
    "                        height=800,\n",
    "                        width=800)\n",
    "# fig.update_layout(mapbox_style=\"open-street-map\")\n",
    "fig.update_layout(mapbox_style=\"carto-positron\") \n",
    "# fig.update_layout(mapbox_style=\"stamen-terrain\")\n",
    "# fig.update_layout(mapbox_style=\"satellite\") -> Need Mapbox API\n",
    "fig.update_layout(margin={\"r\":0,\"t\":0,\"l\":0,\"b\":0})\n",
    "fig.show()"
   ]
  },
  {
   "cell_type": "code",
   "execution_count": 14,
   "metadata": {},
   "outputs": [
    {
     "data": {
      "application/vnd.plotly.v1+json": {
       "config": {
        "plotlyServerURL": "https://plot.ly"
       },
       "data": [
        {
         "customdata": [
          [
           1389,
           75000,
           54,
           3,
           "https://www.idealista.com/inmueble/98508410/"
          ],
          [
           1353,
           115000,
           85,
           3,
           "https://www.idealista.com/inmueble/97943866/"
          ],
          [
           1114,
           98000,
           88,
           3,
           "https://www.idealista.com/inmueble/99428153/"
          ],
          [
           1000,
           183000,
           183,
           3,
           "https://www.idealista.com/inmueble/99599858/"
          ],
          [
           1280,
           170200,
           133,
           1,
           "https://www.idealista.com/inmueble/99133374/"
          ],
          [
           1000,
           105000,
           105,
           3,
           "https://www.idealista.com/inmueble/97111729/"
          ],
          [
           1294,
           110000,
           85,
           2,
           "https://www.idealista.com/inmueble/99530463/"
          ],
          [
           892,
           140000,
           157,
           4,
           "https://www.idealista.com/inmueble/99583965/"
          ],
          [
           1228,
           140000,
           114,
           4,
           "https://www.idealista.com/inmueble/99538521/"
          ],
          [
           1364,
           135000,
           99,
           3,
           "https://www.idealista.com/inmueble/99359136/"
          ],
          [
           393,
           130000,
           331,
           3,
           "https://www.idealista.com/inmueble/96989656/"
          ],
          [
           1154,
           150000,
           130,
           4,
           "https://www.idealista.com/inmueble/96825468/"
          ],
          [
           1253,
           94000,
           75,
           3,
           "https://www.idealista.com/inmueble/99518152/"
          ],
          [
           1028,
           64740,
           63,
           3,
           "https://www.idealista.com/inmueble/92204035/"
          ],
          [
           792,
           53870,
           68,
           1,
           "https://www.idealista.com/inmueble/96945657/"
          ],
          [
           792,
           53870,
           68,
           1,
           "https://www.idealista.com/inmueble/93788741/"
          ],
          [
           1028,
           64740,
           63,
           3,
           "https://www.idealista.com/inmueble/93458909/"
          ],
          [
           1012,
           64740,
           64,
           3,
           "https://www.idealista.com/inmueble/96946778/"
          ],
          [
           1244,
           199000,
           160,
           4,
           "https://www.idealista.com/inmueble/92164121/"
          ],
          [
           1079,
           64740,
           60,
           3,
           "https://www.idealista.com/inmueble/87122130/"
          ],
          [
           1012,
           64740,
           64,
           1,
           "https://www.idealista.com/inmueble/93632171/"
          ],
          [
           1244,
           199000,
           160,
           1,
           "https://www.idealista.com/inmueble/35710544/"
          ],
          [
           1012,
           64740,
           64,
           1,
           "https://www.idealista.com/inmueble/86357340/"
          ],
          [
           1343,
           94000,
           70,
           2,
           "https://www.idealista.com/inmueble/98761306/"
          ],
          [
           1083,
           130000,
           120,
           4,
           "https://www.idealista.com/inmueble/98354863/"
          ],
          [
           1250,
           124995,
           100,
           3,
           "https://www.idealista.com/inmueble/97643039/"
          ],
          [
           1390,
           139000,
           100,
           3,
           "https://www.idealista.com/inmueble/99320233/"
          ],
          [
           1390,
           139000,
           100,
           3,
           "https://www.idealista.com/inmueble/99294545/"
          ],
          [
           1390,
           139000,
           100,
           3,
           "https://www.idealista.com/inmueble/99359404/"
          ],
          [
           1393,
           195000,
           140,
           4,
           "https://www.idealista.com/inmueble/98015346/"
          ],
          [
           1354,
           195000,
           144,
           4,
           "https://www.idealista.com/inmueble/99017656/"
          ],
          [
           1141,
           73000,
           64,
           2,
           "https://www.idealista.com/inmueble/99377127/"
          ],
          [
           1215,
           89900,
           74,
           2,
           "https://www.idealista.com/inmueble/99003281/"
          ],
          [
           1383,
           83000,
           60,
           2,
           "https://www.idealista.com/inmueble/98640114/"
          ],
          [
           1261,
           193000,
           153,
           4,
           "https://www.idealista.com/inmueble/99485074/"
          ],
          [
           1328,
           158000,
           119,
           1,
           "https://www.idealista.com/inmueble/99377128/"
          ],
          [
           988,
           80000,
           81,
           3,
           "https://www.idealista.com/inmueble/99916192/"
          ],
          [
           1322,
           160000,
           121,
           5,
           "https://www.idealista.com/inmueble/98139669/"
          ],
          [
           934,
           84999,
           91,
           3,
           "https://www.idealista.com/inmueble/99943162/"
          ],
          [
           1217,
           140000,
           115,
           4,
           "https://www.idealista.com/inmueble/99672547/"
          ],
          [
           1278,
           230000,
           180,
           5,
           "https://www.idealista.com/inmueble/98723606/"
          ],
          [
           1211,
           138000,
           114,
           4,
           "https://www.idealista.com/inmueble/99949101/"
          ],
          [
           1385,
           90000,
           65,
           2,
           "https://www.idealista.com/inmueble/98775363/"
          ],
          [
           980,
           99000,
           101,
           3,
           "https://www.idealista.com/inmueble/99824339/"
          ],
          [
           988,
           80000,
           81,
           3,
           "https://www.idealista.com/inmueble/99444882/"
          ],
          [
           1338,
           95000,
           71,
           2,
           "https://www.idealista.com/inmueble/99244794/"
          ],
          [
           718,
           62500,
           87,
           4,
           "https://www.idealista.com/inmueble/99734242/"
          ],
          [
           473,
           150000,
           317,
           4,
           "https://www.idealista.com/inmueble/99321034/"
          ],
          [
           1369,
           115000,
           84,
           3,
           "https://www.idealista.com/inmueble/94216838/"
          ],
          [
           1276,
           142900,
           112,
           1,
           "https://www.idealista.com/inmueble/97108803/"
          ],
          [
           1238,
           99000,
           80,
           3,
           "https://www.idealista.com/inmueble/99329814/"
          ],
          [
           1095,
           104000,
           95,
           3,
           "https://www.idealista.com/inmueble/97358818/"
          ],
          [
           1397,
           109000,
           78,
           3,
           "https://www.idealista.com/inmueble/99815288/"
          ],
          [
           1250,
           110000,
           88,
           2,
           "https://www.idealista.com/inmueble/98794532/"
          ],
          [
           1277,
           180000,
           141,
           5,
           "https://www.idealista.com/inmueble/99203773/"
          ],
          [
           1290,
           120000,
           93,
           2,
           "https://www.idealista.com/inmueble/99226951/"
          ],
          [
           565,
           48000,
           85,
           2,
           "https://www.idealista.com/inmueble/94451681/"
          ],
          [
           1326,
           118000,
           89,
           3,
           "https://www.idealista.com/inmueble/99618227/"
          ],
          [
           1068,
           94000,
           88,
           4,
           "https://www.idealista.com/inmueble/98569854/"
          ],
          [
           1333,
           120000,
           90,
           4,
           "https://www.idealista.com/inmueble/99613254/"
          ],
          [
           1237,
           94000,
           76,
           3,
           "https://www.idealista.com/inmueble/99137849/"
          ],
          [
           1167,
           140000,
           120,
           5,
           "https://www.idealista.com/inmueble/99041337/"
          ],
          [
           1322,
           160000,
           121,
           5,
           "https://www.idealista.com/inmueble/97315253/"
          ],
          [
           1273,
           140000,
           110,
           4,
           "https://www.idealista.com/inmueble/99626838/"
          ],
          [
           1133,
           94000,
           83,
           3,
           "https://www.idealista.com/inmueble/95390311/"
          ],
          [
           1087,
           99990,
           92,
           4,
           "https://www.idealista.com/inmueble/96339597/"
          ],
          [
           1316,
           175000,
           133,
           3,
           "https://www.idealista.com/inmueble/99453117/"
          ],
          [
           1318,
           195000,
           148,
           3,
           "https://www.idealista.com/inmueble/95431632/"
          ],
          [
           1338,
           99000,
           74,
           3,
           "https://www.idealista.com/inmueble/98129311/"
          ],
          [
           1169,
           90000,
           77,
           2,
           "https://www.idealista.com/inmueble/97927506/"
          ],
          [
           1261,
           93300,
           74,
           3,
           "https://www.idealista.com/inmueble/99810445/"
          ],
          [
           889,
           80000,
           90,
           3,
           "https://www.idealista.com/inmueble/99600302/"
          ],
          [
           1068,
           94000,
           88,
           3,
           "https://www.idealista.com/inmueble/95862253/"
          ],
          [
           716,
           58000,
           81,
           4,
           "https://www.idealista.com/inmueble/94898808/"
          ],
          [
           1000,
           100000,
           100,
           2,
           "https://www.idealista.com/inmueble/99403333/"
          ],
          [
           1369,
           115000,
           84,
           3,
           "https://www.idealista.com/inmueble/98805828/"
          ],
          [
           1031,
           99000,
           96,
           2,
           "https://www.idealista.com/inmueble/97502398/"
          ],
          [
           1322,
           160000,
           121,
           4,
           "https://www.idealista.com/inmueble/98969331/"
          ],
          [
           1043,
           73000,
           70,
           2,
           "https://www.idealista.com/inmueble/99678717/"
          ],
          [
           1374,
           169000,
           123,
           3,
           "https://www.idealista.com/inmueble/97303873/"
          ],
          [
           1041,
           176000,
           169,
           5,
           "https://www.idealista.com/inmueble/99619874/"
          ],
          [
           1278,
           230000,
           180,
           5,
           "https://www.idealista.com/inmueble/95575599/"
          ],
          [
           1136,
           68140,
           60,
           3,
           "https://www.idealista.com/inmueble/86571981/"
          ],
          [
           457,
           48000,
           105,
           0,
           "https://www.idealista.com/inmueble/99958270/"
          ],
          [
           834,
           56700,
           68,
           3,
           "https://www.idealista.com/inmueble/98889796/"
          ],
          [
           1026,
           39000,
           38,
           1,
           "https://www.idealista.com/inmueble/99951245/"
          ],
          [
           692,
           45000,
           65,
           2,
           "https://www.idealista.com/inmueble/99942215/"
          ],
          [
           1083,
           65000,
           60,
           3,
           "https://www.idealista.com/inmueble/99130874/"
          ],
          [
           1100,
           99000,
           90,
           3,
           "https://www.idealista.com/inmueble/98607049/"
          ],
          [
           1176,
           120000,
           102,
           2,
           "https://www.idealista.com/inmueble/98619825/"
          ],
          [
           1390,
           139000,
           100,
           3,
           "https://www.idealista.com/inmueble/99771498/"
          ],
          [
           1068,
           94000,
           88,
           4,
           "https://www.idealista.com/inmueble/95318151/"
          ],
          [
           1187,
           89000,
           75,
           3,
           "https://www.idealista.com/inmueble/99935274/"
          ]
         ],
         "hovertemplate": "<b>%{hovertext}</b><br><br>priceByArea=%{customdata[0]}<br>latitude=%{lat}<br>longitude=%{lon}<br>price=%{marker.color}<br>size=%{customdata[2]}<br>rooms=%{customdata[3]}<br>url=%{customdata[4]}<extra></extra>",
         "hovertext": [
          1389,
          1353,
          1114,
          1000,
          1280,
          1000,
          1294,
          892,
          1228,
          1364,
          393,
          1154,
          1253,
          1028,
          792,
          792,
          1028,
          1012,
          1244,
          1079,
          1012,
          1244,
          1012,
          1343,
          1083,
          1250,
          1390,
          1390,
          1390,
          1393,
          1354,
          1141,
          1215,
          1383,
          1261,
          1328,
          988,
          1322,
          934,
          1217,
          1278,
          1211,
          1385,
          980,
          988,
          1338,
          718,
          473,
          1369,
          1276,
          1238,
          1095,
          1397,
          1250,
          1277,
          1290,
          565,
          1326,
          1068,
          1333,
          1237,
          1167,
          1322,
          1273,
          1133,
          1087,
          1316,
          1318,
          1338,
          1169,
          1261,
          889,
          1068,
          716,
          1000,
          1369,
          1031,
          1322,
          1043,
          1374,
          1041,
          1278,
          1136,
          457,
          834,
          1026,
          692,
          1083,
          1100,
          1176,
          1390,
          1068,
          1187
         ],
         "lat": [
          43.3806695,
          43.3653335,
          43.3531353,
          43.3499222,
          43.342459,
          43.3524554,
          43.3460667,
          43.3439598,
          43.3583402,
          43.3598214,
          43.33686,
          43.3593081,
          43.3551907,
          43.3543529,
          43.3484473,
          43.3488601,
          43.3557376,
          43.3543529,
          43.3577664,
          43.3550529,
          43.3532529,
          43.3567498,
          43.3554174,
          43.358247,
          43.3597071,
          43.3530857,
          43.3531156,
          43.352099,
          43.3512435,
          43.3524925,
          43.3524925,
          43.3590567,
          43.3772887,
          43.3517958,
          43.3525017,
          43.3748169,
          43.3606494,
          43.3791029,
          43.3612846,
          43.3546432,
          43.3395795,
          43.3659002,
          43.3686653,
          43.3516923,
          43.3612825,
          43.3542445,
          43.3523796,
          43.3336234,
          43.3420459,
          43.3582811,
          43.3551979,
          43.367347,
          43.3456569,
          43.3604702,
          43.3398633,
          43.3411328,
          43.3459191,
          43.346223,
          43.3542737,
          43.3403703,
          43.3551979,
          43.3438931,
          43.3764146,
          43.3540275,
          43.3549357,
          43.3550804,
          43.3577959,
          43.3478577,
          43.3527728,
          43.3558783,
          43.359393,
          43.3621082,
          43.3523317,
          43.3587226,
          43.3483458,
          43.3570852,
          43.3532258,
          43.3518303,
          43.3591715,
          43.3589159,
          43.3534458,
          43.337109,
          43.3543529,
          43.3682706,
          43.3484473,
          43.3806766,
          43.3614258,
          43.3530455,
          43.3516923,
          43.3411328,
          43.3508632,
          43.3540737,
          43.3536548
         ],
         "legendgroup": "",
         "lon": [
          -8.4002011,
          -8.4197289,
          -8.4145459,
          -8.4114801,
          -8.3968237,
          -8.3937539,
          -8.3932671,
          -8.4028895,
          -8.4210791,
          -8.4091919,
          -8.40406,
          -8.4075215,
          -8.4114608,
          -8.4107338,
          -8.401356,
          -8.401109,
          -8.4124212,
          -8.4107338,
          -8.4120325,
          -8.4116338,
          -8.4095338,
          -8.4113406,
          -8.4114045,
          -8.4126044,
          -8.4192365,
          -8.3964819,
          -8.391758,
          -8.3917379,
          -8.3919415,
          -8.3894424,
          -8.3906424,
          -8.4140003,
          -8.4257771,
          -8.3960578,
          -8.4004692,
          -8.4037652,
          -8.421749,
          -8.4009792,
          -8.4208527,
          -8.4067866,
          -8.3745693,
          -8.4198389,
          -8.433695,
          -8.3880538,
          -8.4208426,
          -8.3954447,
          -8.4137314,
          -8.4048662,
          -8.41597,
          -8.4168874,
          -8.4114619,
          -8.42026,
          -8.4423074,
          -8.4204357,
          -8.397276,
          -8.3959195,
          -8.3922309,
          -8.4030007,
          -8.3953593,
          -8.4165903,
          -8.4114619,
          -8.4019505,
          -8.4014189,
          -8.4079728,
          -8.3934744,
          -8.4135607,
          -8.4200017,
          -8.410442,
          -8.3937018,
          -8.4113763,
          -8.418243,
          -8.4206338,
          -8.3960234,
          -8.4159553,
          -8.4452245,
          -8.4126679,
          -8.3937018,
          -8.388273,
          -8.4164844,
          -8.4239344,
          -8.4083889,
          -8.3780995,
          -8.4107338,
          -8.4336293,
          -8.401356,
          -8.4021784,
          -8.4176087,
          -8.4072333,
          -8.3880538,
          -8.3959195,
          -8.392815,
          -8.3970593,
          -8.3943447
         ],
         "marker": {
          "color": [
           75000,
           115000,
           98000,
           183000,
           170200,
           105000,
           110000,
           140000,
           140000,
           135000,
           130000,
           150000,
           94000,
           64740,
           53870,
           53870,
           64740,
           64740,
           199000,
           64740,
           64740,
           199000,
           64740,
           94000,
           130000,
           124995,
           139000,
           139000,
           139000,
           195000,
           195000,
           73000,
           89900,
           83000,
           193000,
           158000,
           80000,
           160000,
           84999,
           140000,
           230000,
           138000,
           90000,
           99000,
           80000,
           95000,
           62500,
           150000,
           115000,
           142900,
           99000,
           104000,
           109000,
           110000,
           180000,
           120000,
           48000,
           118000,
           94000,
           120000,
           94000,
           140000,
           160000,
           140000,
           94000,
           99990,
           175000,
           195000,
           99000,
           90000,
           93300,
           80000,
           94000,
           58000,
           100000,
           115000,
           99000,
           160000,
           73000,
           169000,
           176000,
           230000,
           68140,
           48000,
           56700,
           39000,
           45000,
           65000,
           99000,
           120000,
           139000,
           94000,
           89000
          ],
          "coloraxis": "coloraxis",
          "size": [
           1389,
           1353,
           1114,
           1000,
           1280,
           1000,
           1294,
           892,
           1228,
           1364,
           393,
           1154,
           1253,
           1028,
           792,
           792,
           1028,
           1012,
           1244,
           1079,
           1012,
           1244,
           1012,
           1343,
           1083,
           1250,
           1390,
           1390,
           1390,
           1393,
           1354,
           1141,
           1215,
           1383,
           1261,
           1328,
           988,
           1322,
           934,
           1217,
           1278,
           1211,
           1385,
           980,
           988,
           1338,
           718,
           473,
           1369,
           1276,
           1238,
           1095,
           1397,
           1250,
           1277,
           1290,
           565,
           1326,
           1068,
           1333,
           1237,
           1167,
           1322,
           1273,
           1133,
           1087,
           1316,
           1318,
           1338,
           1169,
           1261,
           889,
           1068,
           716,
           1000,
           1369,
           1031,
           1322,
           1043,
           1374,
           1041,
           1278,
           1136,
           457,
           834,
           1026,
           692,
           1083,
           1100,
           1176,
           1390,
           1068,
           1187
          ],
          "sizemode": "area",
          "sizeref": 3.4925
         },
         "mode": "markers",
         "name": "",
         "showlegend": false,
         "subplot": "mapbox",
         "type": "scattermapbox"
        }
       ],
       "layout": {
        "coloraxis": {
         "colorbar": {
          "title": {
           "text": "price"
          }
         },
         "colorscale": [
          [
           0,
           "blue"
          ],
          [
           1,
           "red"
          ]
         ]
        },
        "height": 800,
        "legend": {
         "itemsizing": "constant",
         "tracegroupgap": 0
        },
        "mapbox": {
         "center": {
          "lat": 43.35477911290321,
          "lon": -8.40704568064516
         },
         "domain": {
          "x": [
           0,
           1
          ],
          "y": [
           0,
           1
          ]
         },
         "style": "carto-positron",
         "zoom": 13
        },
        "margin": {
         "b": 0,
         "l": 0,
         "r": 0,
         "t": 0
        },
        "template": {
         "data": {
          "bar": [
           {
            "error_x": {
             "color": "#2a3f5f"
            },
            "error_y": {
             "color": "#2a3f5f"
            },
            "marker": {
             "line": {
              "color": "#E5ECF6",
              "width": 0.5
             },
             "pattern": {
              "fillmode": "overlay",
              "size": 10,
              "solidity": 0.2
             }
            },
            "type": "bar"
           }
          ],
          "barpolar": [
           {
            "marker": {
             "line": {
              "color": "#E5ECF6",
              "width": 0.5
             },
             "pattern": {
              "fillmode": "overlay",
              "size": 10,
              "solidity": 0.2
             }
            },
            "type": "barpolar"
           }
          ],
          "carpet": [
           {
            "aaxis": {
             "endlinecolor": "#2a3f5f",
             "gridcolor": "white",
             "linecolor": "white",
             "minorgridcolor": "white",
             "startlinecolor": "#2a3f5f"
            },
            "baxis": {
             "endlinecolor": "#2a3f5f",
             "gridcolor": "white",
             "linecolor": "white",
             "minorgridcolor": "white",
             "startlinecolor": "#2a3f5f"
            },
            "type": "carpet"
           }
          ],
          "choropleth": [
           {
            "colorbar": {
             "outlinewidth": 0,
             "ticks": ""
            },
            "type": "choropleth"
           }
          ],
          "contour": [
           {
            "colorbar": {
             "outlinewidth": 0,
             "ticks": ""
            },
            "colorscale": [
             [
              0,
              "#0d0887"
             ],
             [
              0.1111111111111111,
              "#46039f"
             ],
             [
              0.2222222222222222,
              "#7201a8"
             ],
             [
              0.3333333333333333,
              "#9c179e"
             ],
             [
              0.4444444444444444,
              "#bd3786"
             ],
             [
              0.5555555555555556,
              "#d8576b"
             ],
             [
              0.6666666666666666,
              "#ed7953"
             ],
             [
              0.7777777777777778,
              "#fb9f3a"
             ],
             [
              0.8888888888888888,
              "#fdca26"
             ],
             [
              1,
              "#f0f921"
             ]
            ],
            "type": "contour"
           }
          ],
          "contourcarpet": [
           {
            "colorbar": {
             "outlinewidth": 0,
             "ticks": ""
            },
            "type": "contourcarpet"
           }
          ],
          "heatmap": [
           {
            "colorbar": {
             "outlinewidth": 0,
             "ticks": ""
            },
            "colorscale": [
             [
              0,
              "#0d0887"
             ],
             [
              0.1111111111111111,
              "#46039f"
             ],
             [
              0.2222222222222222,
              "#7201a8"
             ],
             [
              0.3333333333333333,
              "#9c179e"
             ],
             [
              0.4444444444444444,
              "#bd3786"
             ],
             [
              0.5555555555555556,
              "#d8576b"
             ],
             [
              0.6666666666666666,
              "#ed7953"
             ],
             [
              0.7777777777777778,
              "#fb9f3a"
             ],
             [
              0.8888888888888888,
              "#fdca26"
             ],
             [
              1,
              "#f0f921"
             ]
            ],
            "type": "heatmap"
           }
          ],
          "heatmapgl": [
           {
            "colorbar": {
             "outlinewidth": 0,
             "ticks": ""
            },
            "colorscale": [
             [
              0,
              "#0d0887"
             ],
             [
              0.1111111111111111,
              "#46039f"
             ],
             [
              0.2222222222222222,
              "#7201a8"
             ],
             [
              0.3333333333333333,
              "#9c179e"
             ],
             [
              0.4444444444444444,
              "#bd3786"
             ],
             [
              0.5555555555555556,
              "#d8576b"
             ],
             [
              0.6666666666666666,
              "#ed7953"
             ],
             [
              0.7777777777777778,
              "#fb9f3a"
             ],
             [
              0.8888888888888888,
              "#fdca26"
             ],
             [
              1,
              "#f0f921"
             ]
            ],
            "type": "heatmapgl"
           }
          ],
          "histogram": [
           {
            "marker": {
             "pattern": {
              "fillmode": "overlay",
              "size": 10,
              "solidity": 0.2
             }
            },
            "type": "histogram"
           }
          ],
          "histogram2d": [
           {
            "colorbar": {
             "outlinewidth": 0,
             "ticks": ""
            },
            "colorscale": [
             [
              0,
              "#0d0887"
             ],
             [
              0.1111111111111111,
              "#46039f"
             ],
             [
              0.2222222222222222,
              "#7201a8"
             ],
             [
              0.3333333333333333,
              "#9c179e"
             ],
             [
              0.4444444444444444,
              "#bd3786"
             ],
             [
              0.5555555555555556,
              "#d8576b"
             ],
             [
              0.6666666666666666,
              "#ed7953"
             ],
             [
              0.7777777777777778,
              "#fb9f3a"
             ],
             [
              0.8888888888888888,
              "#fdca26"
             ],
             [
              1,
              "#f0f921"
             ]
            ],
            "type": "histogram2d"
           }
          ],
          "histogram2dcontour": [
           {
            "colorbar": {
             "outlinewidth": 0,
             "ticks": ""
            },
            "colorscale": [
             [
              0,
              "#0d0887"
             ],
             [
              0.1111111111111111,
              "#46039f"
             ],
             [
              0.2222222222222222,
              "#7201a8"
             ],
             [
              0.3333333333333333,
              "#9c179e"
             ],
             [
              0.4444444444444444,
              "#bd3786"
             ],
             [
              0.5555555555555556,
              "#d8576b"
             ],
             [
              0.6666666666666666,
              "#ed7953"
             ],
             [
              0.7777777777777778,
              "#fb9f3a"
             ],
             [
              0.8888888888888888,
              "#fdca26"
             ],
             [
              1,
              "#f0f921"
             ]
            ],
            "type": "histogram2dcontour"
           }
          ],
          "mesh3d": [
           {
            "colorbar": {
             "outlinewidth": 0,
             "ticks": ""
            },
            "type": "mesh3d"
           }
          ],
          "parcoords": [
           {
            "line": {
             "colorbar": {
              "outlinewidth": 0,
              "ticks": ""
             }
            },
            "type": "parcoords"
           }
          ],
          "pie": [
           {
            "automargin": true,
            "type": "pie"
           }
          ],
          "scatter": [
           {
            "fillpattern": {
             "fillmode": "overlay",
             "size": 10,
             "solidity": 0.2
            },
            "type": "scatter"
           }
          ],
          "scatter3d": [
           {
            "line": {
             "colorbar": {
              "outlinewidth": 0,
              "ticks": ""
             }
            },
            "marker": {
             "colorbar": {
              "outlinewidth": 0,
              "ticks": ""
             }
            },
            "type": "scatter3d"
           }
          ],
          "scattercarpet": [
           {
            "marker": {
             "colorbar": {
              "outlinewidth": 0,
              "ticks": ""
             }
            },
            "type": "scattercarpet"
           }
          ],
          "scattergeo": [
           {
            "marker": {
             "colorbar": {
              "outlinewidth": 0,
              "ticks": ""
             }
            },
            "type": "scattergeo"
           }
          ],
          "scattergl": [
           {
            "marker": {
             "colorbar": {
              "outlinewidth": 0,
              "ticks": ""
             }
            },
            "type": "scattergl"
           }
          ],
          "scattermapbox": [
           {
            "marker": {
             "colorbar": {
              "outlinewidth": 0,
              "ticks": ""
             }
            },
            "type": "scattermapbox"
           }
          ],
          "scatterpolar": [
           {
            "marker": {
             "colorbar": {
              "outlinewidth": 0,
              "ticks": ""
             }
            },
            "type": "scatterpolar"
           }
          ],
          "scatterpolargl": [
           {
            "marker": {
             "colorbar": {
              "outlinewidth": 0,
              "ticks": ""
             }
            },
            "type": "scatterpolargl"
           }
          ],
          "scatterternary": [
           {
            "marker": {
             "colorbar": {
              "outlinewidth": 0,
              "ticks": ""
             }
            },
            "type": "scatterternary"
           }
          ],
          "surface": [
           {
            "colorbar": {
             "outlinewidth": 0,
             "ticks": ""
            },
            "colorscale": [
             [
              0,
              "#0d0887"
             ],
             [
              0.1111111111111111,
              "#46039f"
             ],
             [
              0.2222222222222222,
              "#7201a8"
             ],
             [
              0.3333333333333333,
              "#9c179e"
             ],
             [
              0.4444444444444444,
              "#bd3786"
             ],
             [
              0.5555555555555556,
              "#d8576b"
             ],
             [
              0.6666666666666666,
              "#ed7953"
             ],
             [
              0.7777777777777778,
              "#fb9f3a"
             ],
             [
              0.8888888888888888,
              "#fdca26"
             ],
             [
              1,
              "#f0f921"
             ]
            ],
            "type": "surface"
           }
          ],
          "table": [
           {
            "cells": {
             "fill": {
              "color": "#EBF0F8"
             },
             "line": {
              "color": "white"
             }
            },
            "header": {
             "fill": {
              "color": "#C8D4E3"
             },
             "line": {
              "color": "white"
             }
            },
            "type": "table"
           }
          ]
         },
         "layout": {
          "annotationdefaults": {
           "arrowcolor": "#2a3f5f",
           "arrowhead": 0,
           "arrowwidth": 1
          },
          "autotypenumbers": "strict",
          "coloraxis": {
           "colorbar": {
            "outlinewidth": 0,
            "ticks": ""
           }
          },
          "colorscale": {
           "diverging": [
            [
             0,
             "#8e0152"
            ],
            [
             0.1,
             "#c51b7d"
            ],
            [
             0.2,
             "#de77ae"
            ],
            [
             0.3,
             "#f1b6da"
            ],
            [
             0.4,
             "#fde0ef"
            ],
            [
             0.5,
             "#f7f7f7"
            ],
            [
             0.6,
             "#e6f5d0"
            ],
            [
             0.7,
             "#b8e186"
            ],
            [
             0.8,
             "#7fbc41"
            ],
            [
             0.9,
             "#4d9221"
            ],
            [
             1,
             "#276419"
            ]
           ],
           "sequential": [
            [
             0,
             "#0d0887"
            ],
            [
             0.1111111111111111,
             "#46039f"
            ],
            [
             0.2222222222222222,
             "#7201a8"
            ],
            [
             0.3333333333333333,
             "#9c179e"
            ],
            [
             0.4444444444444444,
             "#bd3786"
            ],
            [
             0.5555555555555556,
             "#d8576b"
            ],
            [
             0.6666666666666666,
             "#ed7953"
            ],
            [
             0.7777777777777778,
             "#fb9f3a"
            ],
            [
             0.8888888888888888,
             "#fdca26"
            ],
            [
             1,
             "#f0f921"
            ]
           ],
           "sequentialminus": [
            [
             0,
             "#0d0887"
            ],
            [
             0.1111111111111111,
             "#46039f"
            ],
            [
             0.2222222222222222,
             "#7201a8"
            ],
            [
             0.3333333333333333,
             "#9c179e"
            ],
            [
             0.4444444444444444,
             "#bd3786"
            ],
            [
             0.5555555555555556,
             "#d8576b"
            ],
            [
             0.6666666666666666,
             "#ed7953"
            ],
            [
             0.7777777777777778,
             "#fb9f3a"
            ],
            [
             0.8888888888888888,
             "#fdca26"
            ],
            [
             1,
             "#f0f921"
            ]
           ]
          },
          "colorway": [
           "#636efa",
           "#EF553B",
           "#00cc96",
           "#ab63fa",
           "#FFA15A",
           "#19d3f3",
           "#FF6692",
           "#B6E880",
           "#FF97FF",
           "#FECB52"
          ],
          "font": {
           "color": "#2a3f5f"
          },
          "geo": {
           "bgcolor": "white",
           "lakecolor": "white",
           "landcolor": "#E5ECF6",
           "showlakes": true,
           "showland": true,
           "subunitcolor": "white"
          },
          "hoverlabel": {
           "align": "left"
          },
          "hovermode": "closest",
          "mapbox": {
           "style": "light"
          },
          "paper_bgcolor": "white",
          "plot_bgcolor": "#E5ECF6",
          "polar": {
           "angularaxis": {
            "gridcolor": "white",
            "linecolor": "white",
            "ticks": ""
           },
           "bgcolor": "#E5ECF6",
           "radialaxis": {
            "gridcolor": "white",
            "linecolor": "white",
            "ticks": ""
           }
          },
          "scene": {
           "xaxis": {
            "backgroundcolor": "#E5ECF6",
            "gridcolor": "white",
            "gridwidth": 2,
            "linecolor": "white",
            "showbackground": true,
            "ticks": "",
            "zerolinecolor": "white"
           },
           "yaxis": {
            "backgroundcolor": "#E5ECF6",
            "gridcolor": "white",
            "gridwidth": 2,
            "linecolor": "white",
            "showbackground": true,
            "ticks": "",
            "zerolinecolor": "white"
           },
           "zaxis": {
            "backgroundcolor": "#E5ECF6",
            "gridcolor": "white",
            "gridwidth": 2,
            "linecolor": "white",
            "showbackground": true,
            "ticks": "",
            "zerolinecolor": "white"
           }
          },
          "shapedefaults": {
           "line": {
            "color": "#2a3f5f"
           }
          },
          "ternary": {
           "aaxis": {
            "gridcolor": "white",
            "linecolor": "white",
            "ticks": ""
           },
           "baxis": {
            "gridcolor": "white",
            "linecolor": "white",
            "ticks": ""
           },
           "bgcolor": "#E5ECF6",
           "caxis": {
            "gridcolor": "white",
            "linecolor": "white",
            "ticks": ""
           }
          },
          "title": {
           "x": 0.05
          },
          "xaxis": {
           "automargin": true,
           "gridcolor": "white",
           "linecolor": "white",
           "ticks": "",
           "title": {
            "standoff": 15
           },
           "zerolinecolor": "white",
           "zerolinewidth": 2
          },
          "yaxis": {
           "automargin": true,
           "gridcolor": "white",
           "linecolor": "white",
           "ticks": "",
           "title": {
            "standoff": 15
           },
           "zerolinecolor": "white",
           "zerolinewidth": 2
          }
         }
        },
        "width": 800
       }
      }
     },
     "metadata": {},
     "output_type": "display_data"
    }
   ],
   "source": [
    "df.sort_values(by='priceByArea', ascending = True)\n",
    "df_temp = df[df['priceByArea'] < 1400]\n",
    "# \n",
    "color_scale = [(0, 'blue'), (1,'red')]\n",
    "fig = px.scatter_mapbox(df_temp, \n",
    "                        lat=\"latitude\", \n",
    "                        lon=\"longitude\", \n",
    "                        hover_name=\"priceByArea\", \n",
    "                        hover_data=[\"priceByArea\",\"price\",\"size\",\"rooms\",\"url\"],\n",
    "                        color=\"price\",\n",
    "                        color_continuous_scale=color_scale,\n",
    "                        size=\"priceByArea\",\n",
    "                        zoom=13,\n",
    "                        height=800,\n",
    "                        width=800)\n",
    "# fig.update_layout(mapbox_style=\"open-street-map\")\n",
    "fig.update_layout(mapbox_style=\"carto-positron\") \n",
    "# fig.update_layout(mapbox_style=\"stamen-terrain\")\n",
    "# fig.update_layout(mapbox_style=\"satellite\") -> Need Mapbox API\n",
    "fig.update_layout(margin={\"r\":0,\"t\":0,\"l\":0,\"b\":0})\n",
    "fig.show()"
   ]
  },
  {
   "cell_type": "code",
   "execution_count": 23,
   "metadata": {},
   "outputs": [
    {
     "data": {
      "application/vnd.plotly.v1+json": {
       "config": {
        "plotlyServerURL": "https://plot.ly"
       },
       "data": [
        {
         "customdata": [
          [
           1389,
           75000,
           54,
           3,
           "https://www.idealista.com/inmueble/98508410/",
           98508410
          ],
          [
           1353,
           115000,
           85,
           3,
           "https://www.idealista.com/inmueble/97943866/",
           97943866
          ],
          [
           1114,
           98000,
           88,
           3,
           "https://www.idealista.com/inmueble/99428153/",
           99428153
          ],
          [
           1000,
           183000,
           183,
           3,
           "https://www.idealista.com/inmueble/99599858/",
           99599858
          ],
          [
           1280,
           170200,
           133,
           1,
           "https://www.idealista.com/inmueble/99133374/",
           99133374
          ],
          [
           1000,
           105000,
           105,
           3,
           "https://www.idealista.com/inmueble/97111729/",
           97111729
          ],
          [
           1294,
           110000,
           85,
           2,
           "https://www.idealista.com/inmueble/99530463/",
           99530463
          ],
          [
           892,
           140000,
           157,
           4,
           "https://www.idealista.com/inmueble/99583965/",
           99583965
          ],
          [
           1228,
           140000,
           114,
           4,
           "https://www.idealista.com/inmueble/99538521/",
           99538521
          ],
          [
           1364,
           135000,
           99,
           3,
           "https://www.idealista.com/inmueble/99359136/",
           99359136
          ],
          [
           393,
           130000,
           331,
           3,
           "https://www.idealista.com/inmueble/96989656/",
           96989656
          ],
          [
           1154,
           150000,
           130,
           4,
           "https://www.idealista.com/inmueble/96825468/",
           96825468
          ],
          [
           1253,
           94000,
           75,
           3,
           "https://www.idealista.com/inmueble/99518152/",
           99518152
          ],
          [
           1028,
           64740,
           63,
           3,
           "https://www.idealista.com/inmueble/92204035/",
           92204035
          ],
          [
           792,
           53870,
           68,
           1,
           "https://www.idealista.com/inmueble/96945657/",
           96945657
          ],
          [
           792,
           53870,
           68,
           1,
           "https://www.idealista.com/inmueble/93788741/",
           93788741
          ],
          [
           1028,
           64740,
           63,
           3,
           "https://www.idealista.com/inmueble/93458909/",
           93458909
          ],
          [
           1012,
           64740,
           64,
           3,
           "https://www.idealista.com/inmueble/96946778/",
           96946778
          ],
          [
           1244,
           199000,
           160,
           4,
           "https://www.idealista.com/inmueble/92164121/",
           92164121
          ],
          [
           1079,
           64740,
           60,
           3,
           "https://www.idealista.com/inmueble/87122130/",
           87122130
          ],
          [
           1012,
           64740,
           64,
           1,
           "https://www.idealista.com/inmueble/93632171/",
           93632171
          ],
          [
           1244,
           199000,
           160,
           1,
           "https://www.idealista.com/inmueble/35710544/",
           35710544
          ],
          [
           1012,
           64740,
           64,
           1,
           "https://www.idealista.com/inmueble/86357340/",
           86357340
          ],
          [
           1343,
           94000,
           70,
           2,
           "https://www.idealista.com/inmueble/98761306/",
           98761306
          ],
          [
           1083,
           130000,
           120,
           4,
           "https://www.idealista.com/inmueble/98354863/",
           98354863
          ],
          [
           1250,
           124995,
           100,
           3,
           "https://www.idealista.com/inmueble/97643039/",
           97643039
          ],
          [
           1492,
           94000,
           63,
           3,
           "https://www.idealista.com/inmueble/98766137/",
           98766137
          ],
          [
           1390,
           139000,
           100,
           3,
           "https://www.idealista.com/inmueble/99320233/",
           99320233
          ],
          [
           1390,
           139000,
           100,
           3,
           "https://www.idealista.com/inmueble/99294545/",
           99294545
          ],
          [
           1390,
           139000,
           100,
           3,
           "https://www.idealista.com/inmueble/99359404/",
           99359404
          ],
          [
           1489,
           195000,
           131,
           4,
           "https://www.idealista.com/inmueble/98432127/",
           98432127
          ],
          [
           1393,
           195000,
           140,
           4,
           "https://www.idealista.com/inmueble/98015346/",
           98015346
          ],
          [
           1489,
           195000,
           131,
           4,
           "https://www.idealista.com/inmueble/98061710/",
           98061710
          ],
          [
           1489,
           195000,
           131,
           4,
           "https://www.idealista.com/inmueble/98431276/",
           98431276
          ],
          [
           1354,
           195000,
           144,
           4,
           "https://www.idealista.com/inmueble/99017656/",
           99017656
          ],
          [
           1141,
           73000,
           64,
           2,
           "https://www.idealista.com/inmueble/99377127/",
           99377127
          ],
          [
           1215,
           89900,
           74,
           2,
           "https://www.idealista.com/inmueble/99003281/",
           99003281
          ],
          [
           1383,
           83000,
           60,
           2,
           "https://www.idealista.com/inmueble/98640114/",
           98640114
          ],
          [
           1261,
           193000,
           153,
           4,
           "https://www.idealista.com/inmueble/99485074/",
           99485074
          ],
          [
           1328,
           158000,
           119,
           1,
           "https://www.idealista.com/inmueble/99377128/",
           99377128
          ],
          [
           988,
           80000,
           81,
           3,
           "https://www.idealista.com/inmueble/99916192/",
           99916192
          ],
          [
           1489,
           195000,
           131,
           4,
           "https://www.idealista.com/inmueble/98228677/",
           98228677
          ],
          [
           1322,
           160000,
           121,
           5,
           "https://www.idealista.com/inmueble/98139669/",
           98139669
          ],
          [
           934,
           84999,
           91,
           3,
           "https://www.idealista.com/inmueble/99943162/",
           99943162
          ],
          [
           1217,
           140000,
           115,
           4,
           "https://www.idealista.com/inmueble/99672547/",
           99672547
          ],
          [
           1278,
           230000,
           180,
           5,
           "https://www.idealista.com/inmueble/98723606/",
           98723606
          ],
          [
           1211,
           138000,
           114,
           4,
           "https://www.idealista.com/inmueble/99949101/",
           99949101
          ],
          [
           1465,
           148000,
           101,
           2,
           "https://www.idealista.com/inmueble/95503029/",
           95503029
          ],
          [
           1385,
           90000,
           65,
           2,
           "https://www.idealista.com/inmueble/98775363/",
           98775363
          ],
          [
           980,
           99000,
           101,
           3,
           "https://www.idealista.com/inmueble/99824339/",
           99824339
          ],
          [
           988,
           80000,
           81,
           3,
           "https://www.idealista.com/inmueble/99444882/",
           99444882
          ],
          [
           1338,
           95000,
           71,
           2,
           "https://www.idealista.com/inmueble/99244794/",
           99244794
          ],
          [
           718,
           62500,
           87,
           4,
           "https://www.idealista.com/inmueble/99734242/",
           99734242
          ],
          [
           473,
           150000,
           317,
           4,
           "https://www.idealista.com/inmueble/99321034/",
           99321034
          ],
          [
           1438,
           230000,
           160,
           3,
           "https://www.idealista.com/inmueble/99288002/",
           99288002
          ],
          [
           1466,
           195000,
           133,
           2,
           "https://www.idealista.com/inmueble/98509549/",
           98509549
          ],
          [
           1369,
           115000,
           84,
           3,
           "https://www.idealista.com/inmueble/94216838/",
           94216838
          ],
          [
           1459,
           159000,
           109,
           4,
           "https://www.idealista.com/inmueble/99412422/",
           99412422
          ],
          [
           1276,
           142900,
           112,
           1,
           "https://www.idealista.com/inmueble/97108803/",
           97108803
          ],
          [
           1238,
           99000,
           80,
           3,
           "https://www.idealista.com/inmueble/99329814/",
           99329814
          ],
          [
           1095,
           104000,
           95,
           3,
           "https://www.idealista.com/inmueble/97358818/",
           97358818
          ],
          [
           1397,
           109000,
           78,
           3,
           "https://www.idealista.com/inmueble/99815288/",
           99815288
          ],
          [
           1250,
           110000,
           88,
           2,
           "https://www.idealista.com/inmueble/98794532/",
           98794532
          ],
          [
           1277,
           180000,
           141,
           5,
           "https://www.idealista.com/inmueble/99203773/",
           99203773
          ],
          [
           1290,
           120000,
           93,
           2,
           "https://www.idealista.com/inmueble/99226951/",
           99226951
          ],
          [
           565,
           48000,
           85,
           2,
           "https://www.idealista.com/inmueble/94451681/",
           94451681
          ],
          [
           1326,
           118000,
           89,
           3,
           "https://www.idealista.com/inmueble/99618227/",
           99618227
          ],
          [
           1068,
           94000,
           88,
           4,
           "https://www.idealista.com/inmueble/98569854/",
           98569854
          ],
          [
           1333,
           120000,
           90,
           4,
           "https://www.idealista.com/inmueble/99613254/",
           99613254
          ],
          [
           1237,
           94000,
           76,
           3,
           "https://www.idealista.com/inmueble/99137849/",
           99137849
          ],
          [
           1167,
           140000,
           120,
           5,
           "https://www.idealista.com/inmueble/99041337/",
           99041337
          ],
          [
           1322,
           160000,
           121,
           5,
           "https://www.idealista.com/inmueble/97315253/",
           97315253
          ],
          [
           1273,
           140000,
           110,
           4,
           "https://www.idealista.com/inmueble/99626838/",
           99626838
          ],
          [
           1133,
           94000,
           83,
           3,
           "https://www.idealista.com/inmueble/95390311/",
           95390311
          ],
          [
           1403,
           159900,
           114,
           3,
           "https://www.idealista.com/inmueble/98590286/",
           98590286
          ],
          [
           1087,
           99990,
           92,
           4,
           "https://www.idealista.com/inmueble/96339597/",
           96339597
          ],
          [
           1316,
           175000,
           133,
           3,
           "https://www.idealista.com/inmueble/99453117/",
           99453117
          ],
          [
           1318,
           195000,
           148,
           3,
           "https://www.idealista.com/inmueble/95431632/",
           95431632
          ],
          [
           1455,
           80000,
           55,
           2,
           "https://www.idealista.com/inmueble/98730461/",
           98730461
          ],
          [
           1338,
           99000,
           74,
           3,
           "https://www.idealista.com/inmueble/98129311/",
           98129311
          ],
          [
           1435,
           155000,
           108,
           4,
           "https://www.idealista.com/inmueble/95481694/",
           95481694
          ],
          [
           1169,
           90000,
           77,
           2,
           "https://www.idealista.com/inmueble/97927506/",
           97927506
          ],
          [
           1261,
           93300,
           74,
           3,
           "https://www.idealista.com/inmueble/99810445/",
           99810445
          ],
          [
           889,
           80000,
           90,
           3,
           "https://www.idealista.com/inmueble/99600302/",
           99600302
          ],
          [
           1429,
           140000,
           98,
           3,
           "https://www.idealista.com/inmueble/99810442/",
           99810442
          ],
          [
           1068,
           94000,
           88,
           3,
           "https://www.idealista.com/inmueble/95862253/",
           95862253
          ],
          [
           716,
           58000,
           81,
           4,
           "https://www.idealista.com/inmueble/94898808/",
           94898808
          ],
          [
           1000,
           100000,
           100,
           2,
           "https://www.idealista.com/inmueble/99403333/",
           99403333
          ],
          [
           1369,
           115000,
           84,
           3,
           "https://www.idealista.com/inmueble/98805828/",
           98805828
          ],
          [
           1432,
           159000,
           111,
           4,
           "https://www.idealista.com/inmueble/99370218/",
           99370218
          ],
          [
           1445,
           159000,
           110,
           4,
           "https://www.idealista.com/inmueble/99365563/",
           99365563
          ],
          [
           1031,
           99000,
           96,
           2,
           "https://www.idealista.com/inmueble/97502398/",
           97502398
          ],
          [
           1432,
           159000,
           111,
           4,
           "https://www.idealista.com/inmueble/99624289/",
           99624289
          ],
          [
           1322,
           160000,
           121,
           4,
           "https://www.idealista.com/inmueble/98969331/",
           98969331
          ],
          [
           1043,
           73000,
           70,
           2,
           "https://www.idealista.com/inmueble/99678717/",
           99678717
          ],
          [
           1374,
           169000,
           123,
           3,
           "https://www.idealista.com/inmueble/97303873/",
           97303873
          ],
          [
           1041,
           176000,
           169,
           5,
           "https://www.idealista.com/inmueble/99619874/",
           99619874
          ],
          [
           1278,
           230000,
           180,
           5,
           "https://www.idealista.com/inmueble/95575599/",
           95575599
          ],
          [
           1136,
           68140,
           60,
           3,
           "https://www.idealista.com/inmueble/86571981/",
           86571981
          ],
          [
           457,
           48000,
           105,
           0,
           "https://www.idealista.com/inmueble/99958270/",
           99958270
          ],
          [
           834,
           56700,
           68,
           3,
           "https://www.idealista.com/inmueble/98889796/",
           98889796
          ],
          [
           1026,
           39000,
           38,
           1,
           "https://www.idealista.com/inmueble/99951245/",
           99951245
          ],
          [
           692,
           45000,
           65,
           2,
           "https://www.idealista.com/inmueble/99942215/",
           99942215
          ],
          [
           1083,
           65000,
           60,
           3,
           "https://www.idealista.com/inmueble/99130874/",
           99130874
          ],
          [
           1458,
           105000,
           72,
           3,
           "https://www.idealista.com/inmueble/99945176/",
           99945176
          ],
          [
           1438,
           115000,
           80,
           2,
           "https://www.idealista.com/inmueble/98885575/",
           98885575
          ],
          [
           1100,
           99000,
           90,
           3,
           "https://www.idealista.com/inmueble/98607049/",
           98607049
          ],
          [
           1176,
           120000,
           102,
           2,
           "https://www.idealista.com/inmueble/98619825/",
           98619825
          ],
          [
           1390,
           139000,
           100,
           3,
           "https://www.idealista.com/inmueble/99771498/",
           99771498
          ],
          [
           1461,
           130000,
           89,
           2,
           "https://www.idealista.com/inmueble/81753313/",
           81753313
          ],
          [
           1068,
           94000,
           88,
           4,
           "https://www.idealista.com/inmueble/95318151/",
           95318151
          ],
          [
           1187,
           89000,
           75,
           3,
           "https://www.idealista.com/inmueble/99935274/",
           99935274
          ],
          [
           1477,
           195000,
           132,
           2,
           "https://www.idealista.com/inmueble/98513574/",
           98513574
          ]
         ],
         "hovertemplate": "<b>%{hovertext}</b><br><br>price=%{customdata[1]}<br>latitude=%{lat}<br>longitude=%{lon}<br>priceByArea=%{marker.color}<br>size=%{customdata[2]}<br>rooms=%{customdata[3]}<br>url=%{customdata[4]}<br>propertyCode=%{customdata[5]}<extra></extra>",
         "hovertext": [
          75000,
          115000,
          98000,
          183000,
          170200,
          105000,
          110000,
          140000,
          140000,
          135000,
          130000,
          150000,
          94000,
          64740,
          53870,
          53870,
          64740,
          64740,
          199000,
          64740,
          64740,
          199000,
          64740,
          94000,
          130000,
          124995,
          94000,
          139000,
          139000,
          139000,
          195000,
          195000,
          195000,
          195000,
          195000,
          73000,
          89900,
          83000,
          193000,
          158000,
          80000,
          195000,
          160000,
          84999,
          140000,
          230000,
          138000,
          148000,
          90000,
          99000,
          80000,
          95000,
          62500,
          150000,
          230000,
          195000,
          115000,
          159000,
          142900,
          99000,
          104000,
          109000,
          110000,
          180000,
          120000,
          48000,
          118000,
          94000,
          120000,
          94000,
          140000,
          160000,
          140000,
          94000,
          159900,
          99990,
          175000,
          195000,
          80000,
          99000,
          155000,
          90000,
          93300,
          80000,
          140000,
          94000,
          58000,
          100000,
          115000,
          159000,
          159000,
          99000,
          159000,
          160000,
          73000,
          169000,
          176000,
          230000,
          68140,
          48000,
          56700,
          39000,
          45000,
          65000,
          105000,
          115000,
          99000,
          120000,
          139000,
          130000,
          94000,
          89000,
          195000
         ],
         "lat": [
          43.3806695,
          43.3653335,
          43.3531353,
          43.3499222,
          43.342459,
          43.3524554,
          43.3460667,
          43.3439598,
          43.3583402,
          43.3598214,
          43.33686,
          43.3593081,
          43.3551907,
          43.3543529,
          43.3484473,
          43.3488601,
          43.3557376,
          43.3543529,
          43.3577664,
          43.3550529,
          43.3532529,
          43.3567498,
          43.3554174,
          43.358247,
          43.3597071,
          43.3530857,
          43.358447,
          43.3531156,
          43.352099,
          43.3512435,
          43.3509983,
          43.3524925,
          43.3534925,
          43.3536925,
          43.3524925,
          43.3590567,
          43.3772887,
          43.3517958,
          43.3525017,
          43.3748169,
          43.3606494,
          43.3529925,
          43.3791029,
          43.3612846,
          43.3546432,
          43.3395795,
          43.3659002,
          43.3638315,
          43.3686653,
          43.3516923,
          43.3612825,
          43.3542445,
          43.3523796,
          43.3336234,
          43.3460165,
          43.3545329,
          43.3420459,
          43.3578542,
          43.3582811,
          43.3551979,
          43.367347,
          43.3456569,
          43.3604702,
          43.3398633,
          43.3411328,
          43.3459191,
          43.346223,
          43.3542737,
          43.3403703,
          43.3551979,
          43.3438931,
          43.3764146,
          43.3540275,
          43.3549357,
          43.3617263,
          43.3550804,
          43.3577959,
          43.3478577,
          43.3543349,
          43.3527728,
          43.3520188,
          43.3558783,
          43.359393,
          43.3621082,
          43.3531519,
          43.3523317,
          43.3587226,
          43.3483458,
          43.3570852,
          43.3588503,
          43.3554996,
          43.3532258,
          43.3609776,
          43.3518303,
          43.3591715,
          43.3589159,
          43.3534458,
          43.337109,
          43.3543529,
          43.3682706,
          43.3484473,
          43.3806766,
          43.3614258,
          43.3530455,
          43.3648758,
          43.3383949,
          43.3516923,
          43.3411328,
          43.3508632,
          43.3589453,
          43.3540737,
          43.3536548,
          43.3552598
         ],
         "legendgroup": "",
         "lon": [
          -8.4002011,
          -8.4197289,
          -8.4145459,
          -8.4114801,
          -8.3968237,
          -8.3937539,
          -8.3932671,
          -8.4028895,
          -8.4210791,
          -8.4091919,
          -8.40406,
          -8.4075215,
          -8.4114608,
          -8.4107338,
          -8.401356,
          -8.401109,
          -8.4124212,
          -8.4107338,
          -8.4120325,
          -8.4116338,
          -8.4095338,
          -8.4113406,
          -8.4114045,
          -8.4126044,
          -8.4192365,
          -8.3964819,
          -8.4126044,
          -8.391758,
          -8.3917379,
          -8.3919415,
          -8.3899586,
          -8.3894424,
          -8.3913424,
          -8.3912424,
          -8.3906424,
          -8.4140003,
          -8.4257771,
          -8.3960578,
          -8.4004692,
          -8.4037652,
          -8.421749,
          -8.3883424,
          -8.4009792,
          -8.4208527,
          -8.4067866,
          -8.3745693,
          -8.4198389,
          -8.4190398,
          -8.433695,
          -8.3880538,
          -8.4208426,
          -8.3954447,
          -8.4137314,
          -8.4048662,
          -8.4074413,
          -8.411547,
          -8.41597,
          -8.4180486,
          -8.4168874,
          -8.4114619,
          -8.42026,
          -8.4423074,
          -8.4204357,
          -8.397276,
          -8.3959195,
          -8.3922309,
          -8.4030007,
          -8.3953593,
          -8.4165903,
          -8.4114619,
          -8.4019505,
          -8.4014189,
          -8.4079728,
          -8.3934744,
          -8.4253374,
          -8.4135607,
          -8.4200017,
          -8.410442,
          -8.3957242,
          -8.3937018,
          -8.4125837,
          -8.4113763,
          -8.418243,
          -8.4206338,
          -8.4077772,
          -8.3960234,
          -8.4159553,
          -8.4452245,
          -8.4126679,
          -8.4141185,
          -8.4256468,
          -8.3937018,
          -8.4166387,
          -8.388273,
          -8.4164844,
          -8.4239344,
          -8.4083889,
          -8.3780995,
          -8.4107338,
          -8.4336293,
          -8.401356,
          -8.4021784,
          -8.4176087,
          -8.4072333,
          -8.4238484,
          -8.4129282,
          -8.3880538,
          -8.3959195,
          -8.392815,
          -8.417472,
          -8.3970593,
          -8.3943447,
          -8.4121335
         ],
         "marker": {
          "color": [
           1389,
           1353,
           1114,
           1000,
           1280,
           1000,
           1294,
           892,
           1228,
           1364,
           393,
           1154,
           1253,
           1028,
           792,
           792,
           1028,
           1012,
           1244,
           1079,
           1012,
           1244,
           1012,
           1343,
           1083,
           1250,
           1492,
           1390,
           1390,
           1390,
           1489,
           1393,
           1489,
           1489,
           1354,
           1141,
           1215,
           1383,
           1261,
           1328,
           988,
           1489,
           1322,
           934,
           1217,
           1278,
           1211,
           1465,
           1385,
           980,
           988,
           1338,
           718,
           473,
           1438,
           1466,
           1369,
           1459,
           1276,
           1238,
           1095,
           1397,
           1250,
           1277,
           1290,
           565,
           1326,
           1068,
           1333,
           1237,
           1167,
           1322,
           1273,
           1133,
           1403,
           1087,
           1316,
           1318,
           1455,
           1338,
           1435,
           1169,
           1261,
           889,
           1429,
           1068,
           716,
           1000,
           1369,
           1432,
           1445,
           1031,
           1432,
           1322,
           1043,
           1374,
           1041,
           1278,
           1136,
           457,
           834,
           1026,
           692,
           1083,
           1458,
           1438,
           1100,
           1176,
           1390,
           1461,
           1068,
           1187,
           1477
          ],
          "coloraxis": "coloraxis",
          "size": [
           75000,
           115000,
           98000,
           183000,
           170200,
           105000,
           110000,
           140000,
           140000,
           135000,
           130000,
           150000,
           94000,
           64740,
           53870,
           53870,
           64740,
           64740,
           199000,
           64740,
           64740,
           199000,
           64740,
           94000,
           130000,
           124995,
           94000,
           139000,
           139000,
           139000,
           195000,
           195000,
           195000,
           195000,
           195000,
           73000,
           89900,
           83000,
           193000,
           158000,
           80000,
           195000,
           160000,
           84999,
           140000,
           230000,
           138000,
           148000,
           90000,
           99000,
           80000,
           95000,
           62500,
           150000,
           230000,
           195000,
           115000,
           159000,
           142900,
           99000,
           104000,
           109000,
           110000,
           180000,
           120000,
           48000,
           118000,
           94000,
           120000,
           94000,
           140000,
           160000,
           140000,
           94000,
           159900,
           99990,
           175000,
           195000,
           80000,
           99000,
           155000,
           90000,
           93300,
           80000,
           140000,
           94000,
           58000,
           100000,
           115000,
           159000,
           159000,
           99000,
           159000,
           160000,
           73000,
           169000,
           176000,
           230000,
           68140,
           48000,
           56700,
           39000,
           45000,
           65000,
           105000,
           115000,
           99000,
           120000,
           139000,
           130000,
           94000,
           89000,
           195000
          ],
          "sizemode": "area",
          "sizeref": 575
         },
         "mode": "markers",
         "name": "",
         "showlegend": false,
         "subplot": "mapbox",
         "type": "scattermapbox"
        }
       ],
       "layout": {
        "coloraxis": {
         "colorbar": {
          "title": {
           "text": "priceByArea"
          }
         },
         "colorscale": [
          [
           0,
           "blue"
          ],
          [
           1,
           "red"
          ]
         ]
        },
        "height": 800,
        "legend": {
         "itemsizing": "constant",
         "tracegroupgap": 0
        },
        "mapbox": {
         "center": {
          "lat": 43.354870359292036,
          "lon": -8.407513484955752
         },
         "domain": {
          "x": [
           0,
           1
          ],
          "y": [
           0,
           1
          ]
         },
         "style": "carto-positron",
         "zoom": 13
        },
        "margin": {
         "b": 0,
         "l": 0,
         "r": 0,
         "t": 0
        },
        "template": {
         "data": {
          "bar": [
           {
            "error_x": {
             "color": "#2a3f5f"
            },
            "error_y": {
             "color": "#2a3f5f"
            },
            "marker": {
             "line": {
              "color": "#E5ECF6",
              "width": 0.5
             },
             "pattern": {
              "fillmode": "overlay",
              "size": 10,
              "solidity": 0.2
             }
            },
            "type": "bar"
           }
          ],
          "barpolar": [
           {
            "marker": {
             "line": {
              "color": "#E5ECF6",
              "width": 0.5
             },
             "pattern": {
              "fillmode": "overlay",
              "size": 10,
              "solidity": 0.2
             }
            },
            "type": "barpolar"
           }
          ],
          "carpet": [
           {
            "aaxis": {
             "endlinecolor": "#2a3f5f",
             "gridcolor": "white",
             "linecolor": "white",
             "minorgridcolor": "white",
             "startlinecolor": "#2a3f5f"
            },
            "baxis": {
             "endlinecolor": "#2a3f5f",
             "gridcolor": "white",
             "linecolor": "white",
             "minorgridcolor": "white",
             "startlinecolor": "#2a3f5f"
            },
            "type": "carpet"
           }
          ],
          "choropleth": [
           {
            "colorbar": {
             "outlinewidth": 0,
             "ticks": ""
            },
            "type": "choropleth"
           }
          ],
          "contour": [
           {
            "colorbar": {
             "outlinewidth": 0,
             "ticks": ""
            },
            "colorscale": [
             [
              0,
              "#0d0887"
             ],
             [
              0.1111111111111111,
              "#46039f"
             ],
             [
              0.2222222222222222,
              "#7201a8"
             ],
             [
              0.3333333333333333,
              "#9c179e"
             ],
             [
              0.4444444444444444,
              "#bd3786"
             ],
             [
              0.5555555555555556,
              "#d8576b"
             ],
             [
              0.6666666666666666,
              "#ed7953"
             ],
             [
              0.7777777777777778,
              "#fb9f3a"
             ],
             [
              0.8888888888888888,
              "#fdca26"
             ],
             [
              1,
              "#f0f921"
             ]
            ],
            "type": "contour"
           }
          ],
          "contourcarpet": [
           {
            "colorbar": {
             "outlinewidth": 0,
             "ticks": ""
            },
            "type": "contourcarpet"
           }
          ],
          "heatmap": [
           {
            "colorbar": {
             "outlinewidth": 0,
             "ticks": ""
            },
            "colorscale": [
             [
              0,
              "#0d0887"
             ],
             [
              0.1111111111111111,
              "#46039f"
             ],
             [
              0.2222222222222222,
              "#7201a8"
             ],
             [
              0.3333333333333333,
              "#9c179e"
             ],
             [
              0.4444444444444444,
              "#bd3786"
             ],
             [
              0.5555555555555556,
              "#d8576b"
             ],
             [
              0.6666666666666666,
              "#ed7953"
             ],
             [
              0.7777777777777778,
              "#fb9f3a"
             ],
             [
              0.8888888888888888,
              "#fdca26"
             ],
             [
              1,
              "#f0f921"
             ]
            ],
            "type": "heatmap"
           }
          ],
          "heatmapgl": [
           {
            "colorbar": {
             "outlinewidth": 0,
             "ticks": ""
            },
            "colorscale": [
             [
              0,
              "#0d0887"
             ],
             [
              0.1111111111111111,
              "#46039f"
             ],
             [
              0.2222222222222222,
              "#7201a8"
             ],
             [
              0.3333333333333333,
              "#9c179e"
             ],
             [
              0.4444444444444444,
              "#bd3786"
             ],
             [
              0.5555555555555556,
              "#d8576b"
             ],
             [
              0.6666666666666666,
              "#ed7953"
             ],
             [
              0.7777777777777778,
              "#fb9f3a"
             ],
             [
              0.8888888888888888,
              "#fdca26"
             ],
             [
              1,
              "#f0f921"
             ]
            ],
            "type": "heatmapgl"
           }
          ],
          "histogram": [
           {
            "marker": {
             "pattern": {
              "fillmode": "overlay",
              "size": 10,
              "solidity": 0.2
             }
            },
            "type": "histogram"
           }
          ],
          "histogram2d": [
           {
            "colorbar": {
             "outlinewidth": 0,
             "ticks": ""
            },
            "colorscale": [
             [
              0,
              "#0d0887"
             ],
             [
              0.1111111111111111,
              "#46039f"
             ],
             [
              0.2222222222222222,
              "#7201a8"
             ],
             [
              0.3333333333333333,
              "#9c179e"
             ],
             [
              0.4444444444444444,
              "#bd3786"
             ],
             [
              0.5555555555555556,
              "#d8576b"
             ],
             [
              0.6666666666666666,
              "#ed7953"
             ],
             [
              0.7777777777777778,
              "#fb9f3a"
             ],
             [
              0.8888888888888888,
              "#fdca26"
             ],
             [
              1,
              "#f0f921"
             ]
            ],
            "type": "histogram2d"
           }
          ],
          "histogram2dcontour": [
           {
            "colorbar": {
             "outlinewidth": 0,
             "ticks": ""
            },
            "colorscale": [
             [
              0,
              "#0d0887"
             ],
             [
              0.1111111111111111,
              "#46039f"
             ],
             [
              0.2222222222222222,
              "#7201a8"
             ],
             [
              0.3333333333333333,
              "#9c179e"
             ],
             [
              0.4444444444444444,
              "#bd3786"
             ],
             [
              0.5555555555555556,
              "#d8576b"
             ],
             [
              0.6666666666666666,
              "#ed7953"
             ],
             [
              0.7777777777777778,
              "#fb9f3a"
             ],
             [
              0.8888888888888888,
              "#fdca26"
             ],
             [
              1,
              "#f0f921"
             ]
            ],
            "type": "histogram2dcontour"
           }
          ],
          "mesh3d": [
           {
            "colorbar": {
             "outlinewidth": 0,
             "ticks": ""
            },
            "type": "mesh3d"
           }
          ],
          "parcoords": [
           {
            "line": {
             "colorbar": {
              "outlinewidth": 0,
              "ticks": ""
             }
            },
            "type": "parcoords"
           }
          ],
          "pie": [
           {
            "automargin": true,
            "type": "pie"
           }
          ],
          "scatter": [
           {
            "fillpattern": {
             "fillmode": "overlay",
             "size": 10,
             "solidity": 0.2
            },
            "type": "scatter"
           }
          ],
          "scatter3d": [
           {
            "line": {
             "colorbar": {
              "outlinewidth": 0,
              "ticks": ""
             }
            },
            "marker": {
             "colorbar": {
              "outlinewidth": 0,
              "ticks": ""
             }
            },
            "type": "scatter3d"
           }
          ],
          "scattercarpet": [
           {
            "marker": {
             "colorbar": {
              "outlinewidth": 0,
              "ticks": ""
             }
            },
            "type": "scattercarpet"
           }
          ],
          "scattergeo": [
           {
            "marker": {
             "colorbar": {
              "outlinewidth": 0,
              "ticks": ""
             }
            },
            "type": "scattergeo"
           }
          ],
          "scattergl": [
           {
            "marker": {
             "colorbar": {
              "outlinewidth": 0,
              "ticks": ""
             }
            },
            "type": "scattergl"
           }
          ],
          "scattermapbox": [
           {
            "marker": {
             "colorbar": {
              "outlinewidth": 0,
              "ticks": ""
             }
            },
            "type": "scattermapbox"
           }
          ],
          "scatterpolar": [
           {
            "marker": {
             "colorbar": {
              "outlinewidth": 0,
              "ticks": ""
             }
            },
            "type": "scatterpolar"
           }
          ],
          "scatterpolargl": [
           {
            "marker": {
             "colorbar": {
              "outlinewidth": 0,
              "ticks": ""
             }
            },
            "type": "scatterpolargl"
           }
          ],
          "scatterternary": [
           {
            "marker": {
             "colorbar": {
              "outlinewidth": 0,
              "ticks": ""
             }
            },
            "type": "scatterternary"
           }
          ],
          "surface": [
           {
            "colorbar": {
             "outlinewidth": 0,
             "ticks": ""
            },
            "colorscale": [
             [
              0,
              "#0d0887"
             ],
             [
              0.1111111111111111,
              "#46039f"
             ],
             [
              0.2222222222222222,
              "#7201a8"
             ],
             [
              0.3333333333333333,
              "#9c179e"
             ],
             [
              0.4444444444444444,
              "#bd3786"
             ],
             [
              0.5555555555555556,
              "#d8576b"
             ],
             [
              0.6666666666666666,
              "#ed7953"
             ],
             [
              0.7777777777777778,
              "#fb9f3a"
             ],
             [
              0.8888888888888888,
              "#fdca26"
             ],
             [
              1,
              "#f0f921"
             ]
            ],
            "type": "surface"
           }
          ],
          "table": [
           {
            "cells": {
             "fill": {
              "color": "#EBF0F8"
             },
             "line": {
              "color": "white"
             }
            },
            "header": {
             "fill": {
              "color": "#C8D4E3"
             },
             "line": {
              "color": "white"
             }
            },
            "type": "table"
           }
          ]
         },
         "layout": {
          "annotationdefaults": {
           "arrowcolor": "#2a3f5f",
           "arrowhead": 0,
           "arrowwidth": 1
          },
          "autotypenumbers": "strict",
          "coloraxis": {
           "colorbar": {
            "outlinewidth": 0,
            "ticks": ""
           }
          },
          "colorscale": {
           "diverging": [
            [
             0,
             "#8e0152"
            ],
            [
             0.1,
             "#c51b7d"
            ],
            [
             0.2,
             "#de77ae"
            ],
            [
             0.3,
             "#f1b6da"
            ],
            [
             0.4,
             "#fde0ef"
            ],
            [
             0.5,
             "#f7f7f7"
            ],
            [
             0.6,
             "#e6f5d0"
            ],
            [
             0.7,
             "#b8e186"
            ],
            [
             0.8,
             "#7fbc41"
            ],
            [
             0.9,
             "#4d9221"
            ],
            [
             1,
             "#276419"
            ]
           ],
           "sequential": [
            [
             0,
             "#0d0887"
            ],
            [
             0.1111111111111111,
             "#46039f"
            ],
            [
             0.2222222222222222,
             "#7201a8"
            ],
            [
             0.3333333333333333,
             "#9c179e"
            ],
            [
             0.4444444444444444,
             "#bd3786"
            ],
            [
             0.5555555555555556,
             "#d8576b"
            ],
            [
             0.6666666666666666,
             "#ed7953"
            ],
            [
             0.7777777777777778,
             "#fb9f3a"
            ],
            [
             0.8888888888888888,
             "#fdca26"
            ],
            [
             1,
             "#f0f921"
            ]
           ],
           "sequentialminus": [
            [
             0,
             "#0d0887"
            ],
            [
             0.1111111111111111,
             "#46039f"
            ],
            [
             0.2222222222222222,
             "#7201a8"
            ],
            [
             0.3333333333333333,
             "#9c179e"
            ],
            [
             0.4444444444444444,
             "#bd3786"
            ],
            [
             0.5555555555555556,
             "#d8576b"
            ],
            [
             0.6666666666666666,
             "#ed7953"
            ],
            [
             0.7777777777777778,
             "#fb9f3a"
            ],
            [
             0.8888888888888888,
             "#fdca26"
            ],
            [
             1,
             "#f0f921"
            ]
           ]
          },
          "colorway": [
           "#636efa",
           "#EF553B",
           "#00cc96",
           "#ab63fa",
           "#FFA15A",
           "#19d3f3",
           "#FF6692",
           "#B6E880",
           "#FF97FF",
           "#FECB52"
          ],
          "font": {
           "color": "#2a3f5f"
          },
          "geo": {
           "bgcolor": "white",
           "lakecolor": "white",
           "landcolor": "#E5ECF6",
           "showlakes": true,
           "showland": true,
           "subunitcolor": "white"
          },
          "hoverlabel": {
           "align": "left"
          },
          "hovermode": "closest",
          "mapbox": {
           "style": "light"
          },
          "paper_bgcolor": "white",
          "plot_bgcolor": "#E5ECF6",
          "polar": {
           "angularaxis": {
            "gridcolor": "white",
            "linecolor": "white",
            "ticks": ""
           },
           "bgcolor": "#E5ECF6",
           "radialaxis": {
            "gridcolor": "white",
            "linecolor": "white",
            "ticks": ""
           }
          },
          "scene": {
           "xaxis": {
            "backgroundcolor": "#E5ECF6",
            "gridcolor": "white",
            "gridwidth": 2,
            "linecolor": "white",
            "showbackground": true,
            "ticks": "",
            "zerolinecolor": "white"
           },
           "yaxis": {
            "backgroundcolor": "#E5ECF6",
            "gridcolor": "white",
            "gridwidth": 2,
            "linecolor": "white",
            "showbackground": true,
            "ticks": "",
            "zerolinecolor": "white"
           },
           "zaxis": {
            "backgroundcolor": "#E5ECF6",
            "gridcolor": "white",
            "gridwidth": 2,
            "linecolor": "white",
            "showbackground": true,
            "ticks": "",
            "zerolinecolor": "white"
           }
          },
          "shapedefaults": {
           "line": {
            "color": "#2a3f5f"
           }
          },
          "ternary": {
           "aaxis": {
            "gridcolor": "white",
            "linecolor": "white",
            "ticks": ""
           },
           "baxis": {
            "gridcolor": "white",
            "linecolor": "white",
            "ticks": ""
           },
           "bgcolor": "#E5ECF6",
           "caxis": {
            "gridcolor": "white",
            "linecolor": "white",
            "ticks": ""
           }
          },
          "title": {
           "x": 0.05
          },
          "xaxis": {
           "automargin": true,
           "gridcolor": "white",
           "linecolor": "white",
           "ticks": "",
           "title": {
            "standoff": 15
           },
           "zerolinecolor": "white",
           "zerolinewidth": 2
          },
          "yaxis": {
           "automargin": true,
           "gridcolor": "white",
           "linecolor": "white",
           "ticks": "",
           "title": {
            "standoff": 15
           },
           "zerolinecolor": "white",
           "zerolinewidth": 2
          }
         }
        },
        "width": 800
       }
      }
     },
     "metadata": {},
     "output_type": "display_data"
    }
   ],
   "source": [
    "df_temp = df[df['priceByArea'] < 1500]\n",
    "# df_temp = df_temp[df_temp['price'] < 100000]\n",
    "\n",
    "# \n",
    "color_scale = [(0, 'blue'), (1,'red')]\n",
    "fig = px.scatter_mapbox(df_temp, \n",
    "                        lat=\"latitude\", \n",
    "                        lon=\"longitude\", \n",
    "                        hover_name=\"price\", \n",
    "                        hover_data=[\"priceByArea\",\"price\",\"size\",\"rooms\",\"url\",\"propertyCode\"],\n",
    "                        color=\"priceByArea\",\n",
    "                        color_continuous_scale=color_scale,\n",
    "                        size=\"price\",\n",
    "                        zoom=13,\n",
    "                        height=800,\n",
    "                        width=800)\n",
    "# fig.update_layout(mapbox_style=\"open-street-map\")\n",
    "fig.update_layout(mapbox_style=\"carto-positron\") \n",
    "# fig.update_layout(mapbox_style=\"stamen-terrain\")\n",
    "# fig.update_layout(mapbox_style=\"satellite\") -> Need Mapbox API\n",
    "fig.update_layout(margin={\"r\":0,\"t\":0,\"l\":0,\"b\":0})\n",
    "fig.show()"
   ]
  },
  {
   "cell_type": "code",
   "execution_count": 16,
   "metadata": {},
   "outputs": [],
   "source": [
    "fig.write_image(\"price_heatmap.png\") "
   ]
  },
  {
   "cell_type": "code",
   "execution_count": 46,
   "metadata": {},
   "outputs": [
    {
     "data": {
      "text/plain": [
       "2323.1363636363635"
      ]
     },
     "execution_count": 46,
     "metadata": {},
     "output_type": "execute_result"
    }
   ],
   "source": [
    "df[df['district']=='Monte Alto - Zalaeta - Atocha']['priceByArea'].mean()"
   ]
  },
  {
   "cell_type": "code",
   "execution_count": 42,
   "metadata": {},
   "outputs": [
    {
     "data": {
      "text/html": [
       "<div>\n",
       "<style scoped>\n",
       "    .dataframe tbody tr th:only-of-type {\n",
       "        vertical-align: middle;\n",
       "    }\n",
       "\n",
       "    .dataframe tbody tr th {\n",
       "        vertical-align: top;\n",
       "    }\n",
       "\n",
       "    .dataframe thead th {\n",
       "        text-align: right;\n",
       "    }\n",
       "</style>\n",
       "<table border=\"1\" class=\"dataframe\">\n",
       "  <thead>\n",
       "    <tr style=\"text-align: right;\">\n",
       "      <th></th>\n",
       "      <th>url</th>\n",
       "      <th>price</th>\n",
       "      <th>priceByArea</th>\n",
       "      <th>size</th>\n",
       "      <th>district</th>\n",
       "    </tr>\n",
       "  </thead>\n",
       "  <tbody>\n",
       "    <tr>\n",
       "      <th>5</th>\n",
       "      <td>https://www.idealista.com/inmueble/99599858/</td>\n",
       "      <td>183000.0</td>\n",
       "      <td>1000.0</td>\n",
       "      <td>183.0</td>\n",
       "      <td>Someso - Matogrande</td>\n",
       "    </tr>\n",
       "    <tr>\n",
       "      <th>7</th>\n",
       "      <td>https://www.idealista.com/inmueble/99133374/</td>\n",
       "      <td>170200.0</td>\n",
       "      <td>1280.0</td>\n",
       "      <td>133.0</td>\n",
       "      <td>Eirís</td>\n",
       "    </tr>\n",
       "    <tr>\n",
       "      <th>14</th>\n",
       "      <td>https://www.idealista.com/inmueble/99530463/</td>\n",
       "      <td>110000.0</td>\n",
       "      <td>1294.0</td>\n",
       "      <td>85.0</td>\n",
       "      <td>Eirís</td>\n",
       "    </tr>\n",
       "    <tr>\n",
       "      <th>15</th>\n",
       "      <td>https://www.idealista.com/inmueble/99583965/</td>\n",
       "      <td>140000.0</td>\n",
       "      <td>892.0</td>\n",
       "      <td>157.0</td>\n",
       "      <td>Someso - Matogrande</td>\n",
       "    </tr>\n",
       "    <tr>\n",
       "      <th>18</th>\n",
       "      <td>https://www.idealista.com/inmueble/99538521/</td>\n",
       "      <td>140000.0</td>\n",
       "      <td>1228.0</td>\n",
       "      <td>114.0</td>\n",
       "      <td>Agra del Orzán - Ventorrillo</td>\n",
       "    </tr>\n",
       "    <tr>\n",
       "      <th>21</th>\n",
       "      <td>https://www.idealista.com/inmueble/96989656/</td>\n",
       "      <td>130000.0</td>\n",
       "      <td>393.0</td>\n",
       "      <td>331.0</td>\n",
       "      <td>Elviña - A Zapateira</td>\n",
       "    </tr>\n",
       "    <tr>\n",
       "      <th>27</th>\n",
       "      <td>https://www.idealista.com/inmueble/96825468/</td>\n",
       "      <td>150000.0</td>\n",
       "      <td>1154.0</td>\n",
       "      <td>130.0</td>\n",
       "      <td>Ensanche - Juan Florez</td>\n",
       "    </tr>\n",
       "    <tr>\n",
       "      <th>76</th>\n",
       "      <td>https://www.idealista.com/inmueble/92164121/</td>\n",
       "      <td>199000.0</td>\n",
       "      <td>1244.0</td>\n",
       "      <td>160.0</td>\n",
       "      <td>Sagrada Familia</td>\n",
       "    </tr>\n",
       "    <tr>\n",
       "      <th>79</th>\n",
       "      <td>https://www.idealista.com/inmueble/35710544/</td>\n",
       "      <td>199000.0</td>\n",
       "      <td>1244.0</td>\n",
       "      <td>160.0</td>\n",
       "      <td>Sagrada Familia</td>\n",
       "    </tr>\n",
       "    <tr>\n",
       "      <th>87</th>\n",
       "      <td>https://www.idealista.com/inmueble/98354863/</td>\n",
       "      <td>130000.0</td>\n",
       "      <td>1083.0</td>\n",
       "      <td>120.0</td>\n",
       "      <td>Sagrada Familia</td>\n",
       "    </tr>\n",
       "    <tr>\n",
       "      <th>119</th>\n",
       "      <td>https://www.idealista.com/inmueble/99377127/</td>\n",
       "      <td>73000.0</td>\n",
       "      <td>1141.0</td>\n",
       "      <td>64.0</td>\n",
       "      <td>Sagrada Familia</td>\n",
       "    </tr>\n",
       "    <tr>\n",
       "      <th>126</th>\n",
       "      <td>https://www.idealista.com/inmueble/99003281/</td>\n",
       "      <td>89900.0</td>\n",
       "      <td>1215.0</td>\n",
       "      <td>74.0</td>\n",
       "      <td>Riazor - Los Rosales</td>\n",
       "    </tr>\n",
       "    <tr>\n",
       "      <th>130</th>\n",
       "      <td>https://www.idealista.com/inmueble/99485074/</td>\n",
       "      <td>193000.0</td>\n",
       "      <td>1261.0</td>\n",
       "      <td>153.0</td>\n",
       "      <td>Cuatro Caminos - Plaza de la Cubela</td>\n",
       "    </tr>\n",
       "    <tr>\n",
       "      <th>148</th>\n",
       "      <td>https://www.idealista.com/inmueble/99916192/</td>\n",
       "      <td>80000.0</td>\n",
       "      <td>988.0</td>\n",
       "      <td>81.0</td>\n",
       "      <td>Agra del Orzán - Ventorrillo</td>\n",
       "    </tr>\n",
       "    <tr>\n",
       "      <th>197</th>\n",
       "      <td>https://www.idealista.com/inmueble/99943162/</td>\n",
       "      <td>84999.0</td>\n",
       "      <td>934.0</td>\n",
       "      <td>91.0</td>\n",
       "      <td>Agra del Orzán - Ventorrillo</td>\n",
       "    </tr>\n",
       "    <tr>\n",
       "      <th>217</th>\n",
       "      <td>https://www.idealista.com/inmueble/98723606/</td>\n",
       "      <td>230000.0</td>\n",
       "      <td>1278.0</td>\n",
       "      <td>180.0</td>\n",
       "      <td>Perillo</td>\n",
       "    </tr>\n",
       "    <tr>\n",
       "      <th>230</th>\n",
       "      <td>https://www.idealista.com/inmueble/99949101/</td>\n",
       "      <td>138000.0</td>\n",
       "      <td>1211.0</td>\n",
       "      <td>114.0</td>\n",
       "      <td>Riazor - Los Rosales</td>\n",
       "    </tr>\n",
       "    <tr>\n",
       "      <th>243</th>\n",
       "      <td>https://www.idealista.com/inmueble/99444882/</td>\n",
       "      <td>80000.0</td>\n",
       "      <td>988.0</td>\n",
       "      <td>81.0</td>\n",
       "      <td>Agra del Orzán - Ventorrillo</td>\n",
       "    </tr>\n",
       "    <tr>\n",
       "      <th>262</th>\n",
       "      <td>https://www.idealista.com/inmueble/99321034/</td>\n",
       "      <td>150000.0</td>\n",
       "      <td>473.0</td>\n",
       "      <td>317.0</td>\n",
       "      <td>Elviña - A Zapateira</td>\n",
       "    </tr>\n",
       "    <tr>\n",
       "      <th>287</th>\n",
       "      <td>https://www.idealista.com/inmueble/97108803/</td>\n",
       "      <td>142900.0</td>\n",
       "      <td>1276.0</td>\n",
       "      <td>112.0</td>\n",
       "      <td>Sagrada Familia</td>\n",
       "    </tr>\n",
       "    <tr>\n",
       "      <th>299</th>\n",
       "      <td>https://www.idealista.com/inmueble/97358818/</td>\n",
       "      <td>104000.0</td>\n",
       "      <td>1095.0</td>\n",
       "      <td>95.0</td>\n",
       "      <td>Agra del Orzán - Ventorrillo</td>\n",
       "    </tr>\n",
       "    <tr>\n",
       "      <th>314</th>\n",
       "      <td>https://www.idealista.com/inmueble/98794532/</td>\n",
       "      <td>110000.0</td>\n",
       "      <td>1250.0</td>\n",
       "      <td>88.0</td>\n",
       "      <td>Agra del Orzán - Ventorrillo</td>\n",
       "    </tr>\n",
       "    <tr>\n",
       "      <th>315</th>\n",
       "      <td>https://www.idealista.com/inmueble/99203773/</td>\n",
       "      <td>180000.0</td>\n",
       "      <td>1277.0</td>\n",
       "      <td>141.0</td>\n",
       "      <td>Eirís</td>\n",
       "    </tr>\n",
       "    <tr>\n",
       "      <th>318</th>\n",
       "      <td>https://www.idealista.com/inmueble/99226951/</td>\n",
       "      <td>120000.0</td>\n",
       "      <td>1290.0</td>\n",
       "      <td>93.0</td>\n",
       "      <td>Eirís</td>\n",
       "    </tr>\n",
       "    <tr>\n",
       "      <th>320</th>\n",
       "      <td>https://www.idealista.com/inmueble/94451681/</td>\n",
       "      <td>48000.0</td>\n",
       "      <td>565.0</td>\n",
       "      <td>85.0</td>\n",
       "      <td>Eirís</td>\n",
       "    </tr>\n",
       "    <tr>\n",
       "      <th>363</th>\n",
       "      <td>https://www.idealista.com/inmueble/99041337/</td>\n",
       "      <td>140000.0</td>\n",
       "      <td>1167.0</td>\n",
       "      <td>120.0</td>\n",
       "      <td>Someso - Matogrande</td>\n",
       "    </tr>\n",
       "    <tr>\n",
       "      <th>481</th>\n",
       "      <td>https://www.idealista.com/inmueble/99810445/</td>\n",
       "      <td>93300.0</td>\n",
       "      <td>1261.0</td>\n",
       "      <td>74.0</td>\n",
       "      <td>Agra del Orzán - Ventorrillo</td>\n",
       "    </tr>\n",
       "    <tr>\n",
       "      <th>482</th>\n",
       "      <td>https://www.idealista.com/inmueble/99600302/</td>\n",
       "      <td>80000.0</td>\n",
       "      <td>889.0</td>\n",
       "      <td>90.0</td>\n",
       "      <td>Agra del Orzán - Ventorrillo</td>\n",
       "    </tr>\n",
       "    <tr>\n",
       "      <th>489</th>\n",
       "      <td>https://www.idealista.com/inmueble/94898808/</td>\n",
       "      <td>58000.0</td>\n",
       "      <td>716.0</td>\n",
       "      <td>81.0</td>\n",
       "      <td>Sagrada Familia</td>\n",
       "    </tr>\n",
       "    <tr>\n",
       "      <th>501</th>\n",
       "      <td>https://www.idealista.com/inmueble/99403333/</td>\n",
       "      <td>100000.0</td>\n",
       "      <td>1000.0</td>\n",
       "      <td>100.0</td>\n",
       "      <td>Suevos-Pastoriza</td>\n",
       "    </tr>\n",
       "    <tr>\n",
       "      <th>534</th>\n",
       "      <td>https://www.idealista.com/inmueble/99678717/</td>\n",
       "      <td>73000.0</td>\n",
       "      <td>1043.0</td>\n",
       "      <td>70.0</td>\n",
       "      <td>Sagrada Familia</td>\n",
       "    </tr>\n",
       "    <tr>\n",
       "      <th>556</th>\n",
       "      <td>https://www.idealista.com/inmueble/95575599/</td>\n",
       "      <td>230000.0</td>\n",
       "      <td>1278.0</td>\n",
       "      <td>180.0</td>\n",
       "      <td>Perillo</td>\n",
       "    </tr>\n",
       "    <tr>\n",
       "      <th>592</th>\n",
       "      <td>https://www.idealista.com/inmueble/99958270/</td>\n",
       "      <td>48000.0</td>\n",
       "      <td>457.0</td>\n",
       "      <td>105.0</td>\n",
       "      <td>Agra del Orzán - Ventorrillo</td>\n",
       "    </tr>\n",
       "    <tr>\n",
       "      <th>597</th>\n",
       "      <td>https://www.idealista.com/inmueble/99951245/</td>\n",
       "      <td>39000.0</td>\n",
       "      <td>1026.0</td>\n",
       "      <td>38.0</td>\n",
       "      <td>Monte Alto - Zalaeta - Atocha</td>\n",
       "    </tr>\n",
       "    <tr>\n",
       "      <th>604</th>\n",
       "      <td>https://www.idealista.com/inmueble/99942215/</td>\n",
       "      <td>45000.0</td>\n",
       "      <td>692.0</td>\n",
       "      <td>65.0</td>\n",
       "      <td>Sagrada Familia</td>\n",
       "    </tr>\n",
       "    <tr>\n",
       "      <th>641</th>\n",
       "      <td>https://www.idealista.com/inmueble/98619825/</td>\n",
       "      <td>120000.0</td>\n",
       "      <td>1176.0</td>\n",
       "      <td>102.0</td>\n",
       "      <td>Someso - Matogrande</td>\n",
       "    </tr>\n",
       "  </tbody>\n",
       "</table>\n",
       "</div>"
      ],
      "text/plain": [
       "                                              url     price  priceByArea  \\\n",
       "5    https://www.idealista.com/inmueble/99599858/  183000.0       1000.0   \n",
       "7    https://www.idealista.com/inmueble/99133374/  170200.0       1280.0   \n",
       "14   https://www.idealista.com/inmueble/99530463/  110000.0       1294.0   \n",
       "15   https://www.idealista.com/inmueble/99583965/  140000.0        892.0   \n",
       "18   https://www.idealista.com/inmueble/99538521/  140000.0       1228.0   \n",
       "21   https://www.idealista.com/inmueble/96989656/  130000.0        393.0   \n",
       "27   https://www.idealista.com/inmueble/96825468/  150000.0       1154.0   \n",
       "76   https://www.idealista.com/inmueble/92164121/  199000.0       1244.0   \n",
       "79   https://www.idealista.com/inmueble/35710544/  199000.0       1244.0   \n",
       "87   https://www.idealista.com/inmueble/98354863/  130000.0       1083.0   \n",
       "119  https://www.idealista.com/inmueble/99377127/   73000.0       1141.0   \n",
       "126  https://www.idealista.com/inmueble/99003281/   89900.0       1215.0   \n",
       "130  https://www.idealista.com/inmueble/99485074/  193000.0       1261.0   \n",
       "148  https://www.idealista.com/inmueble/99916192/   80000.0        988.0   \n",
       "197  https://www.idealista.com/inmueble/99943162/   84999.0        934.0   \n",
       "217  https://www.idealista.com/inmueble/98723606/  230000.0       1278.0   \n",
       "230  https://www.idealista.com/inmueble/99949101/  138000.0       1211.0   \n",
       "243  https://www.idealista.com/inmueble/99444882/   80000.0        988.0   \n",
       "262  https://www.idealista.com/inmueble/99321034/  150000.0        473.0   \n",
       "287  https://www.idealista.com/inmueble/97108803/  142900.0       1276.0   \n",
       "299  https://www.idealista.com/inmueble/97358818/  104000.0       1095.0   \n",
       "314  https://www.idealista.com/inmueble/98794532/  110000.0       1250.0   \n",
       "315  https://www.idealista.com/inmueble/99203773/  180000.0       1277.0   \n",
       "318  https://www.idealista.com/inmueble/99226951/  120000.0       1290.0   \n",
       "320  https://www.idealista.com/inmueble/94451681/   48000.0        565.0   \n",
       "363  https://www.idealista.com/inmueble/99041337/  140000.0       1167.0   \n",
       "481  https://www.idealista.com/inmueble/99810445/   93300.0       1261.0   \n",
       "482  https://www.idealista.com/inmueble/99600302/   80000.0        889.0   \n",
       "489  https://www.idealista.com/inmueble/94898808/   58000.0        716.0   \n",
       "501  https://www.idealista.com/inmueble/99403333/  100000.0       1000.0   \n",
       "534  https://www.idealista.com/inmueble/99678717/   73000.0       1043.0   \n",
       "556  https://www.idealista.com/inmueble/95575599/  230000.0       1278.0   \n",
       "592  https://www.idealista.com/inmueble/99958270/   48000.0        457.0   \n",
       "597  https://www.idealista.com/inmueble/99951245/   39000.0       1026.0   \n",
       "604  https://www.idealista.com/inmueble/99942215/   45000.0        692.0   \n",
       "641  https://www.idealista.com/inmueble/98619825/  120000.0       1176.0   \n",
       "\n",
       "      size                             district  \n",
       "5    183.0                  Someso - Matogrande  \n",
       "7    133.0                                Eirís  \n",
       "14    85.0                                Eirís  \n",
       "15   157.0                  Someso - Matogrande  \n",
       "18   114.0         Agra del Orzán - Ventorrillo  \n",
       "21   331.0                 Elviña - A Zapateira  \n",
       "27   130.0               Ensanche - Juan Florez  \n",
       "76   160.0                      Sagrada Familia  \n",
       "79   160.0                      Sagrada Familia  \n",
       "87   120.0                      Sagrada Familia  \n",
       "119   64.0                      Sagrada Familia  \n",
       "126   74.0                 Riazor - Los Rosales  \n",
       "130  153.0  Cuatro Caminos - Plaza de la Cubela  \n",
       "148   81.0         Agra del Orzán - Ventorrillo  \n",
       "197   91.0         Agra del Orzán - Ventorrillo  \n",
       "217  180.0                              Perillo  \n",
       "230  114.0                 Riazor - Los Rosales  \n",
       "243   81.0         Agra del Orzán - Ventorrillo  \n",
       "262  317.0                 Elviña - A Zapateira  \n",
       "287  112.0                      Sagrada Familia  \n",
       "299   95.0         Agra del Orzán - Ventorrillo  \n",
       "314   88.0         Agra del Orzán - Ventorrillo  \n",
       "315  141.0                                Eirís  \n",
       "318   93.0                                Eirís  \n",
       "320   85.0                                Eirís  \n",
       "363  120.0                  Someso - Matogrande  \n",
       "481   74.0         Agra del Orzán - Ventorrillo  \n",
       "482   90.0         Agra del Orzán - Ventorrillo  \n",
       "489   81.0                      Sagrada Familia  \n",
       "501  100.0                     Suevos-Pastoriza  \n",
       "534   70.0                      Sagrada Familia  \n",
       "556  180.0                              Perillo  \n",
       "592  105.0         Agra del Orzán - Ventorrillo  \n",
       "597   38.0        Monte Alto - Zalaeta - Atocha  \n",
       "604   65.0                      Sagrada Familia  \n",
       "641  102.0                  Someso - Matogrande  "
      ]
     },
     "execution_count": 42,
     "metadata": {},
     "output_type": "execute_result"
    }
   ],
   "source": [
    "df[(df['priceByArea']<1300) & (df['district']!='Los Castros - Castrillón') & (df['district']!='Os Mallos')][['url', 'price', 'priceByArea', 'size','district']]"
   ]
  },
  {
   "cell_type": "code",
   "execution_count": 17,
   "metadata": {},
   "outputs": [
    {
     "data": {
      "text/plain": [
       "5        https://www.idealista.com/inmueble/99599858/\n",
       "7        https://www.idealista.com/inmueble/99133374/\n",
       "9        https://www.idealista.com/inmueble/97111729/\n",
       "15       https://www.idealista.com/inmueble/99583965/\n",
       "18       https://www.idealista.com/inmueble/99538521/\n",
       "                            ...                      \n",
       "658    https://www.idealista.com/obra-nueva/99327910/\n",
       "667      https://www.idealista.com/inmueble/83651355/\n",
       "691      https://www.idealista.com/inmueble/98513574/\n",
       "693      https://www.idealista.com/inmueble/99805947/\n",
       "696      https://www.idealista.com/inmueble/27531680/\n",
       "Name: url, Length: 128, dtype: object"
      ]
     },
     "execution_count": 17,
     "metadata": {},
     "output_type": "execute_result"
    }
   ],
   "source": [
    "df_temp[df_temp['size']>100]['url']"
   ]
  },
  {
   "cell_type": "code",
   "execution_count": 18,
   "metadata": {},
   "outputs": [
    {
     "data": {
      "text/plain": [
       "200    https://www.idealista.com/inmueble/99139846/\n",
       "Name: url, dtype: object"
      ]
     },
     "execution_count": 18,
     "metadata": {},
     "output_type": "execute_result"
    }
   ],
   "source": [
    "df[(df['price']==200000) & (df['priceByArea']==1961)]['url']"
   ]
  },
  {
   "cell_type": "code",
   "execution_count": 19,
   "metadata": {},
   "outputs": [
    {
     "data": {
      "text/plain": [
       "148    https://www.idealista.com/inmueble/99916192/\n",
       "243    https://www.idealista.com/inmueble/99444882/\n",
       "431    https://www.idealista.com/inmueble/98730461/\n",
       "482    https://www.idealista.com/inmueble/99600302/\n",
       "Name: url, dtype: object"
      ]
     },
     "execution_count": 19,
     "metadata": {},
     "output_type": "execute_result"
    }
   ],
   "source": [
    "df[df['price']==80000]['url']"
   ]
  },
  {
   "cell_type": "code",
   "execution_count": 20,
   "metadata": {},
   "outputs": [
    {
     "data": {
      "text/plain": [
       "Unnamed: 0                                                                                   48\n",
       "propertyCode                                                                           99916192\n",
       "thumbnail                                     https://img3.idealista.com/blur/WEB_LISTING/0/...\n",
       "externalReference                                                                        707598\n",
       "numPhotos                                                                                    23\n",
       "floor                                                                                         4\n",
       "price                                                                                   80000.0\n",
       "propertyType                                                                               flat\n",
       "operation                                                                                  sale\n",
       "size                                                                                       81.0\n",
       "exterior                                                                                   True\n",
       "rooms                                                                                         3\n",
       "bathrooms                                                                                     1\n",
       "address                                                            Agra del Orzán - Ventorrillo\n",
       "province                                                                               A Coruña\n",
       "municipality                                                                           A Coruña\n",
       "district                                                           Agra del Orzán - Ventorrillo\n",
       "country                                                                                      es\n",
       "latitude                                                                              43.360649\n",
       "longitude                                                                             -8.421749\n",
       "showAddress                                                                               False\n",
       "url                                                https://www.idealista.com/inmueble/99916192/\n",
       "distance                                                                                   2636\n",
       "description                                   Ref. 707598 Best House. \"OPORTUNIDAD PARA INVE...\n",
       "hasVideo                                                                                   True\n",
       "status                                                                                    renew\n",
       "newDevelopment                                                                            False\n",
       "hasLift                                                                                   False\n",
       "priceByArea                                                                               988.0\n",
       "hasPlan                                                                                    True\n",
       "has3DTour                                                                                 False\n",
       "has360                                                                                    False\n",
       "hasStaging                                                                                False\n",
       "topNewDevelopment                                                                         False\n",
       "superTopHighlight                                                                         False\n",
       "detailedType.typology                                                                      flat\n",
       "suggestedTexts.subtitle                                  Agra del Orzán - Ventorrillo, A Coruña\n",
       "suggestedTexts.title                                                                       Piso\n",
       "neighborhood                                                                                NaN\n",
       "parkingSpace.hasParkingSpace                                                                NaN\n",
       "parkingSpace.isParkingSpaceIncludedInPrice                                                  NaN\n",
       "detailedType.subTypology                                                                    NaN\n",
       "parkingSpace.parkingSpacePrice                                                              NaN\n",
       "labels                                                                                      NaN\n",
       "newDevelopmentFinished                                                                      NaN\n",
       "Name: 148, dtype: object"
      ]
     },
     "execution_count": 20,
     "metadata": {},
     "output_type": "execute_result"
    }
   ],
   "source": [
    "df[df['price']==80000].iloc[0]"
   ]
  },
  {
   "cell_type": "code",
   "execution_count": 21,
   "metadata": {},
   "outputs": [
    {
     "data": {
      "text/plain": [
       "Series([], Name: url, dtype: object)"
      ]
     },
     "execution_count": 21,
     "metadata": {},
     "output_type": "execute_result"
    }
   ],
   "source": [
    "df[df['propertyCode']==99269703]['url']"
   ]
  },
  {
   "cell_type": "code",
   "execution_count": 22,
   "metadata": {},
   "outputs": [
    {
     "data": {
      "text/html": [
       "<div>\n",
       "<style scoped>\n",
       "    .dataframe tbody tr th:only-of-type {\n",
       "        vertical-align: middle;\n",
       "    }\n",
       "\n",
       "    .dataframe tbody tr th {\n",
       "        vertical-align: top;\n",
       "    }\n",
       "\n",
       "    .dataframe thead th {\n",
       "        text-align: right;\n",
       "    }\n",
       "</style>\n",
       "<table border=\"1\" class=\"dataframe\">\n",
       "  <thead>\n",
       "    <tr style=\"text-align: right;\">\n",
       "      <th></th>\n",
       "      <th>url</th>\n",
       "      <th>price</th>\n",
       "      <th>size</th>\n",
       "      <th>suggestedTexts.title</th>\n",
       "    </tr>\n",
       "  </thead>\n",
       "  <tbody>\n",
       "    <tr>\n",
       "      <th>0</th>\n",
       "      <td>https://www.idealista.com/inmueble/98508410/</td>\n",
       "      <td>75000.0</td>\n",
       "      <td>54.0</td>\n",
       "      <td>Piso en Calle Valencia</td>\n",
       "    </tr>\n",
       "    <tr>\n",
       "      <th>44</th>\n",
       "      <td>https://www.idealista.com/inmueble/92204035/</td>\n",
       "      <td>64740.0</td>\n",
       "      <td>63.0</td>\n",
       "      <td>Piso en Calle San Luís, 40</td>\n",
       "    </tr>\n",
       "    <tr>\n",
       "      <th>53</th>\n",
       "      <td>https://www.idealista.com/inmueble/96945657/</td>\n",
       "      <td>53870.0</td>\n",
       "      <td>68.0</td>\n",
       "      <td>Piso en Camino Igrexa, 3</td>\n",
       "    </tr>\n",
       "    <tr>\n",
       "      <th>64</th>\n",
       "      <td>https://www.idealista.com/inmueble/93788741/</td>\n",
       "      <td>53870.0</td>\n",
       "      <td>68.0</td>\n",
       "      <td>Piso en Camino Igrexa</td>\n",
       "    </tr>\n",
       "    <tr>\n",
       "      <th>65</th>\n",
       "      <td>https://www.idealista.com/inmueble/93458909/</td>\n",
       "      <td>64740.0</td>\n",
       "      <td>63.0</td>\n",
       "      <td>Piso</td>\n",
       "    </tr>\n",
       "    <tr>\n",
       "      <th>75</th>\n",
       "      <td>https://www.idealista.com/inmueble/96946778/</td>\n",
       "      <td>64740.0</td>\n",
       "      <td>64.0</td>\n",
       "      <td>Piso en Calle San Luis, 40</td>\n",
       "    </tr>\n",
       "    <tr>\n",
       "      <th>77</th>\n",
       "      <td>https://www.idealista.com/inmueble/87122130/</td>\n",
       "      <td>64740.0</td>\n",
       "      <td>60.0</td>\n",
       "      <td>Piso en Rúa San Luís</td>\n",
       "    </tr>\n",
       "    <tr>\n",
       "      <th>78</th>\n",
       "      <td>https://www.idealista.com/inmueble/93632171/</td>\n",
       "      <td>64740.0</td>\n",
       "      <td>64.0</td>\n",
       "      <td>Piso en Calle San Luís</td>\n",
       "    </tr>\n",
       "    <tr>\n",
       "      <th>82</th>\n",
       "      <td>https://www.idealista.com/inmueble/86357340/</td>\n",
       "      <td>64740.0</td>\n",
       "      <td>64.0</td>\n",
       "      <td>Piso en Calle San Luís</td>\n",
       "    </tr>\n",
       "    <tr>\n",
       "      <th>119</th>\n",
       "      <td>https://www.idealista.com/inmueble/99377127/</td>\n",
       "      <td>73000.0</td>\n",
       "      <td>64.0</td>\n",
       "      <td>Piso</td>\n",
       "    </tr>\n",
       "    <tr>\n",
       "      <th>255</th>\n",
       "      <td>https://www.idealista.com/inmueble/99734242/</td>\n",
       "      <td>62500.0</td>\n",
       "      <td>87.0</td>\n",
       "      <td>Piso en Calle San Rosendo</td>\n",
       "    </tr>\n",
       "    <tr>\n",
       "      <th>320</th>\n",
       "      <td>https://www.idealista.com/inmueble/94451681/</td>\n",
       "      <td>48000.0</td>\n",
       "      <td>85.0</td>\n",
       "      <td>Chalet pareado en Lugar Lamadosa</td>\n",
       "    </tr>\n",
       "    <tr>\n",
       "      <th>489</th>\n",
       "      <td>https://www.idealista.com/inmueble/94898808/</td>\n",
       "      <td>58000.0</td>\n",
       "      <td>81.0</td>\n",
       "      <td>Piso en Calle San Isidoro</td>\n",
       "    </tr>\n",
       "    <tr>\n",
       "      <th>534</th>\n",
       "      <td>https://www.idealista.com/inmueble/99678717/</td>\n",
       "      <td>73000.0</td>\n",
       "      <td>70.0</td>\n",
       "      <td>Piso</td>\n",
       "    </tr>\n",
       "    <tr>\n",
       "      <th>590</th>\n",
       "      <td>https://www.idealista.com/inmueble/86571981/</td>\n",
       "      <td>68140.0</td>\n",
       "      <td>60.0</td>\n",
       "      <td>Piso en Calle SAN LUIS, 40</td>\n",
       "    </tr>\n",
       "    <tr>\n",
       "      <th>592</th>\n",
       "      <td>https://www.idealista.com/inmueble/99958270/</td>\n",
       "      <td>48000.0</td>\n",
       "      <td>105.0</td>\n",
       "      <td>Chalet pareado en loureiro, 39</td>\n",
       "    </tr>\n",
       "    <tr>\n",
       "      <th>593</th>\n",
       "      <td>https://www.idealista.com/inmueble/98889796/</td>\n",
       "      <td>56700.0</td>\n",
       "      <td>68.0</td>\n",
       "      <td>Piso en Camino DE LA IGLESIA, 3</td>\n",
       "    </tr>\n",
       "    <tr>\n",
       "      <th>597</th>\n",
       "      <td>https://www.idealista.com/inmueble/99951245/</td>\n",
       "      <td>39000.0</td>\n",
       "      <td>38.0</td>\n",
       "      <td>Piso en Calle Valencia</td>\n",
       "    </tr>\n",
       "    <tr>\n",
       "      <th>604</th>\n",
       "      <td>https://www.idealista.com/inmueble/99942215/</td>\n",
       "      <td>45000.0</td>\n",
       "      <td>65.0</td>\n",
       "      <td>Piso en San Isidoro</td>\n",
       "    </tr>\n",
       "    <tr>\n",
       "      <th>617</th>\n",
       "      <td>https://www.idealista.com/inmueble/99130874/</td>\n",
       "      <td>65000.0</td>\n",
       "      <td>60.0</td>\n",
       "      <td>Piso</td>\n",
       "    </tr>\n",
       "  </tbody>\n",
       "</table>\n",
       "</div>"
      ],
      "text/plain": [
       "                                              url    price   size  \\\n",
       "0    https://www.idealista.com/inmueble/98508410/  75000.0   54.0   \n",
       "44   https://www.idealista.com/inmueble/92204035/  64740.0   63.0   \n",
       "53   https://www.idealista.com/inmueble/96945657/  53870.0   68.0   \n",
       "64   https://www.idealista.com/inmueble/93788741/  53870.0   68.0   \n",
       "65   https://www.idealista.com/inmueble/93458909/  64740.0   63.0   \n",
       "75   https://www.idealista.com/inmueble/96946778/  64740.0   64.0   \n",
       "77   https://www.idealista.com/inmueble/87122130/  64740.0   60.0   \n",
       "78   https://www.idealista.com/inmueble/93632171/  64740.0   64.0   \n",
       "82   https://www.idealista.com/inmueble/86357340/  64740.0   64.0   \n",
       "119  https://www.idealista.com/inmueble/99377127/  73000.0   64.0   \n",
       "255  https://www.idealista.com/inmueble/99734242/  62500.0   87.0   \n",
       "320  https://www.idealista.com/inmueble/94451681/  48000.0   85.0   \n",
       "489  https://www.idealista.com/inmueble/94898808/  58000.0   81.0   \n",
       "534  https://www.idealista.com/inmueble/99678717/  73000.0   70.0   \n",
       "590  https://www.idealista.com/inmueble/86571981/  68140.0   60.0   \n",
       "592  https://www.idealista.com/inmueble/99958270/  48000.0  105.0   \n",
       "593  https://www.idealista.com/inmueble/98889796/  56700.0   68.0   \n",
       "597  https://www.idealista.com/inmueble/99951245/  39000.0   38.0   \n",
       "604  https://www.idealista.com/inmueble/99942215/  45000.0   65.0   \n",
       "617  https://www.idealista.com/inmueble/99130874/  65000.0   60.0   \n",
       "\n",
       "                 suggestedTexts.title  \n",
       "0              Piso en Calle Valencia  \n",
       "44         Piso en Calle San Luís, 40  \n",
       "53           Piso en Camino Igrexa, 3  \n",
       "64              Piso en Camino Igrexa  \n",
       "65                               Piso  \n",
       "75         Piso en Calle San Luis, 40  \n",
       "77               Piso en Rúa San Luís  \n",
       "78             Piso en Calle San Luís  \n",
       "82             Piso en Calle San Luís  \n",
       "119                              Piso  \n",
       "255         Piso en Calle San Rosendo  \n",
       "320  Chalet pareado en Lugar Lamadosa  \n",
       "489         Piso en Calle San Isidoro  \n",
       "534                              Piso  \n",
       "590        Piso en Calle SAN LUIS, 40  \n",
       "592    Chalet pareado en loureiro, 39  \n",
       "593   Piso en Camino DE LA IGLESIA, 3  \n",
       "597            Piso en Calle Valencia  \n",
       "604               Piso en San Isidoro  \n",
       "617                              Piso  "
      ]
     },
     "execution_count": 22,
     "metadata": {},
     "output_type": "execute_result"
    }
   ],
   "source": [
    "df[df['price']<80000][['url','price','size','suggestedTexts.title']]"
   ]
  },
  {
   "cell_type": "code",
   "execution_count": null,
   "metadata": {},
   "outputs": [],
   "source": []
  }
 ],
 "metadata": {
  "kernelspec": {
   "display_name": "Python 3.9.7 ('base')",
   "language": "python",
   "name": "python3"
  },
  "language_info": {
   "codemirror_mode": {
    "name": "ipython",
    "version": 3
   },
   "file_extension": ".py",
   "mimetype": "text/x-python",
   "name": "python",
   "nbconvert_exporter": "python",
   "pygments_lexer": "ipython3",
   "version": "3.9.7 (default, Sep 16 2021, 08:50:36) \n[Clang 10.0.0 ]"
  },
  "orig_nbformat": 4,
  "vscode": {
   "interpreter": {
    "hash": "80e84fd967207d73b61aa430605dad8c12793944af9d1a99037915e6e7461b10"
   }
  }
 },
 "nbformat": 4,
 "nbformat_minor": 2
}
