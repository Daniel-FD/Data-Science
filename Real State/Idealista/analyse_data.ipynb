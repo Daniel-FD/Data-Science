{
 "cells": [
  {
   "cell_type": "code",
   "execution_count": 1,
   "metadata": {},
   "outputs": [],
   "source": [
    "import plotly.express as px\n",
    "import json\n",
    "import pandas as pd"
   ]
  },
  {
   "cell_type": "code",
   "execution_count": 2,
   "metadata": {},
   "outputs": [],
   "source": [
    "df = pd.read_csv('/Users/danielfiuzadosil/Documents/GitHub_Repo/Data-Science/Real State/Idealista/idealista_search10212022_14:20.csv')"
   ]
  },
  {
   "cell_type": "code",
   "execution_count": 3,
   "metadata": {},
   "outputs": [
    {
     "data": {
      "text/plain": [
       "700"
      ]
     },
     "execution_count": 3,
     "metadata": {},
     "output_type": "execute_result"
    }
   ],
   "source": [
    "len(df)"
   ]
  },
  {
   "cell_type": "code",
   "execution_count": 4,
   "metadata": {},
   "outputs": [
    {
     "data": {
      "text/html": [
       "<div>\n",
       "<style scoped>\n",
       "    .dataframe tbody tr th:only-of-type {\n",
       "        vertical-align: middle;\n",
       "    }\n",
       "\n",
       "    .dataframe tbody tr th {\n",
       "        vertical-align: top;\n",
       "    }\n",
       "\n",
       "    .dataframe thead th {\n",
       "        text-align: right;\n",
       "    }\n",
       "</style>\n",
       "<table border=\"1\" class=\"dataframe\">\n",
       "  <thead>\n",
       "    <tr style=\"text-align: right;\">\n",
       "      <th></th>\n",
       "      <th>Unnamed: 0</th>\n",
       "      <th>propertyCode</th>\n",
       "      <th>numPhotos</th>\n",
       "      <th>price</th>\n",
       "      <th>size</th>\n",
       "      <th>rooms</th>\n",
       "      <th>bathrooms</th>\n",
       "      <th>latitude</th>\n",
       "      <th>longitude</th>\n",
       "      <th>distance</th>\n",
       "      <th>priceByArea</th>\n",
       "      <th>parkingSpace.parkingSpacePrice</th>\n",
       "    </tr>\n",
       "  </thead>\n",
       "  <tbody>\n",
       "    <tr>\n",
       "      <th>count</th>\n",
       "      <td>700.000000</td>\n",
       "      <td>7.000000e+02</td>\n",
       "      <td>700.000000</td>\n",
       "      <td>700.000000</td>\n",
       "      <td>700.000000</td>\n",
       "      <td>700.000000</td>\n",
       "      <td>700.000000</td>\n",
       "      <td>700.000000</td>\n",
       "      <td>700.000000</td>\n",
       "      <td>700.000000</td>\n",
       "      <td>700.000000</td>\n",
       "      <td>16.000000</td>\n",
       "    </tr>\n",
       "    <tr>\n",
       "      <th>mean</th>\n",
       "      <td>24.500000</td>\n",
       "      <td>9.683412e+07</td>\n",
       "      <td>25.387143</td>\n",
       "      <td>194428.597143</td>\n",
       "      <td>91.900000</td>\n",
       "      <td>2.641429</td>\n",
       "      <td>1.668571</td>\n",
       "      <td>43.356921</td>\n",
       "      <td>-8.408005</td>\n",
       "      <td>2670.900000</td>\n",
       "      <td>2211.407143</td>\n",
       "      <td>19380.125000</td>\n",
       "    </tr>\n",
       "    <tr>\n",
       "      <th>std</th>\n",
       "      <td>14.441189</td>\n",
       "      <td>4.985851e+06</td>\n",
       "      <td>10.082073</td>\n",
       "      <td>57047.096922</td>\n",
       "      <td>27.114894</td>\n",
       "      <td>1.021233</td>\n",
       "      <td>0.520136</td>\n",
       "      <td>0.011826</td>\n",
       "      <td>0.012210</td>\n",
       "      <td>1134.317168</td>\n",
       "      <td>719.293648</td>\n",
       "      <td>8256.628867</td>\n",
       "    </tr>\n",
       "    <tr>\n",
       "      <th>min</th>\n",
       "      <td>0.000000</td>\n",
       "      <td>3.302544e+07</td>\n",
       "      <td>1.000000</td>\n",
       "      <td>35000.000000</td>\n",
       "      <td>25.000000</td>\n",
       "      <td>0.000000</td>\n",
       "      <td>1.000000</td>\n",
       "      <td>43.333078</td>\n",
       "      <td>-8.448702</td>\n",
       "      <td>42.000000</td>\n",
       "      <td>389.000000</td>\n",
       "      <td>82.000000</td>\n",
       "    </tr>\n",
       "    <tr>\n",
       "      <th>25%</th>\n",
       "      <td>12.000000</td>\n",
       "      <td>9.689466e+07</td>\n",
       "      <td>18.000000</td>\n",
       "      <td>154000.000000</td>\n",
       "      <td>75.000000</td>\n",
       "      <td>2.000000</td>\n",
       "      <td>1.000000</td>\n",
       "      <td>43.348302</td>\n",
       "      <td>-8.416790</td>\n",
       "      <td>2208.250000</td>\n",
       "      <td>1742.000000</td>\n",
       "      <td>17250.000000</td>\n",
       "    </tr>\n",
       "    <tr>\n",
       "      <th>50%</th>\n",
       "      <td>24.500000</td>\n",
       "      <td>9.799650e+07</td>\n",
       "      <td>25.000000</td>\n",
       "      <td>195000.000000</td>\n",
       "      <td>90.000000</td>\n",
       "      <td>3.000000</td>\n",
       "      <td>2.000000</td>\n",
       "      <td>43.356495</td>\n",
       "      <td>-8.408963</td>\n",
       "      <td>2620.500000</td>\n",
       "      <td>2100.000000</td>\n",
       "      <td>20000.000000</td>\n",
       "    </tr>\n",
       "    <tr>\n",
       "      <th>75%</th>\n",
       "      <td>37.000000</td>\n",
       "      <td>9.878815e+07</td>\n",
       "      <td>31.000000</td>\n",
       "      <td>239078.250000</td>\n",
       "      <td>107.000000</td>\n",
       "      <td>3.000000</td>\n",
       "      <td>2.000000</td>\n",
       "      <td>43.363504</td>\n",
       "      <td>-8.400198</td>\n",
       "      <td>3396.250000</td>\n",
       "      <td>2597.000000</td>\n",
       "      <td>21250.000000</td>\n",
       "    </tr>\n",
       "    <tr>\n",
       "      <th>max</th>\n",
       "      <td>49.000000</td>\n",
       "      <td>9.927073e+07</td>\n",
       "      <td>73.000000</td>\n",
       "      <td>300000.000000</td>\n",
       "      <td>347.000000</td>\n",
       "      <td>8.000000</td>\n",
       "      <td>3.000000</td>\n",
       "      <td>43.383275</td>\n",
       "      <td>-8.338537</td>\n",
       "      <td>4995.000000</td>\n",
       "      <td>7500.000000</td>\n",
       "      <td>35000.000000</td>\n",
       "    </tr>\n",
       "  </tbody>\n",
       "</table>\n",
       "</div>"
      ],
      "text/plain": [
       "       Unnamed: 0  propertyCode   numPhotos          price        size  \\\n",
       "count  700.000000  7.000000e+02  700.000000     700.000000  700.000000   \n",
       "mean    24.500000  9.683412e+07   25.387143  194428.597143   91.900000   \n",
       "std     14.441189  4.985851e+06   10.082073   57047.096922   27.114894   \n",
       "min      0.000000  3.302544e+07    1.000000   35000.000000   25.000000   \n",
       "25%     12.000000  9.689466e+07   18.000000  154000.000000   75.000000   \n",
       "50%     24.500000  9.799650e+07   25.000000  195000.000000   90.000000   \n",
       "75%     37.000000  9.878815e+07   31.000000  239078.250000  107.000000   \n",
       "max     49.000000  9.927073e+07   73.000000  300000.000000  347.000000   \n",
       "\n",
       "            rooms   bathrooms    latitude   longitude     distance  \\\n",
       "count  700.000000  700.000000  700.000000  700.000000   700.000000   \n",
       "mean     2.641429    1.668571   43.356921   -8.408005  2670.900000   \n",
       "std      1.021233    0.520136    0.011826    0.012210  1134.317168   \n",
       "min      0.000000    1.000000   43.333078   -8.448702    42.000000   \n",
       "25%      2.000000    1.000000   43.348302   -8.416790  2208.250000   \n",
       "50%      3.000000    2.000000   43.356495   -8.408963  2620.500000   \n",
       "75%      3.000000    2.000000   43.363504   -8.400198  3396.250000   \n",
       "max      8.000000    3.000000   43.383275   -8.338537  4995.000000   \n",
       "\n",
       "       priceByArea  parkingSpace.parkingSpacePrice  \n",
       "count   700.000000                       16.000000  \n",
       "mean   2211.407143                    19380.125000  \n",
       "std     719.293648                     8256.628867  \n",
       "min     389.000000                       82.000000  \n",
       "25%    1742.000000                    17250.000000  \n",
       "50%    2100.000000                    20000.000000  \n",
       "75%    2597.000000                    21250.000000  \n",
       "max    7500.000000                    35000.000000  "
      ]
     },
     "execution_count": 4,
     "metadata": {},
     "output_type": "execute_result"
    }
   ],
   "source": [
    "df.describe()"
   ]
  },
  {
   "cell_type": "code",
   "execution_count": 5,
   "metadata": {},
   "outputs": [
    {
     "data": {
      "text/plain": [
       "Index(['Unnamed: 0', 'propertyCode', 'thumbnail', 'externalReference',\n",
       "       'numPhotos', 'floor', 'price', 'propertyType', 'operation', 'size',\n",
       "       'exterior', 'rooms', 'bathrooms', 'address', 'province', 'municipality',\n",
       "       'district', 'country', 'latitude', 'longitude', 'showAddress', 'url',\n",
       "       'distance', 'description', 'hasVideo', 'status', 'newDevelopment',\n",
       "       'hasLift', 'priceByArea', 'hasPlan', 'has3DTour', 'has360',\n",
       "       'hasStaging', 'superTopHighlight', 'topNewDevelopment',\n",
       "       'detailedType.typology', 'suggestedTexts.subtitle',\n",
       "       'suggestedTexts.title', 'parkingSpace.hasParkingSpace',\n",
       "       'parkingSpace.isParkingSpaceIncludedInPrice',\n",
       "       'detailedType.subTypology', 'labels', 'neighborhood',\n",
       "       'parkingSpace.parkingSpacePrice', 'newDevelopmentFinished'],\n",
       "      dtype='object')"
      ]
     },
     "execution_count": 5,
     "metadata": {},
     "output_type": "execute_result"
    }
   ],
   "source": [
    "df.columns"
   ]
  },
  {
   "cell_type": "code",
   "execution_count": 6,
   "metadata": {},
   "outputs": [
    {
     "data": {
      "image/png": "[encoded data removed]",
      "text/plain": [
       "<Figure size 432x288 with 1 Axes>"
      ]
     },
     "metadata": {
      "needs_background": "light"
     },
     "output_type": "display_data"
    }
   ],
   "source": [
    "import matplotlib.pyplot as plt\n",
    "plt.hist(df['price'])\n",
    "plt.show()"
   ]
  },
  {
   "cell_type": "code",
   "execution_count": 7,
   "metadata": {},
   "outputs": [
    {
     "data": {
      "image/png": "[encoded data removed]",
      "text/plain": [
       "<Figure size 432x288 with 1 Axes>"
      ]
     },
     "metadata": {
      "needs_background": "light"
     },
     "output_type": "display_data"
    }
   ],
   "source": [
    "plt.hist(df['size'])\n",
    "plt.show()"
   ]
  },
  {
   "cell_type": "code",
   "execution_count": 8,
   "metadata": {},
   "outputs": [
    {
     "data": {
      "text/plain": [
       "Text(0, 0.5, 'Size')"
      ]
     },
     "execution_count": 8,
     "metadata": {},
     "output_type": "execute_result"
    },
    {
     "data": {
      "image/png": "[encoded data removed]",
      "text/plain": [
       "<Figure size 432x288 with 1 Axes>"
      ]
     },
     "metadata": {
      "needs_background": "light"
     },
     "output_type": "display_data"
    }
   ],
   "source": [
    "plt.scatter(df['price'], df['size'])\n",
    "plt.xlabel('Price')\n",
    "plt.ylabel('Size')"
   ]
  },
  {
   "cell_type": "code",
   "execution_count": 9,
   "metadata": {},
   "outputs": [
    {
     "data": {
      "text/plain": [
       "Text(0, 0.5, 'Rooms')"
      ]
     },
     "execution_count": 9,
     "metadata": {},
     "output_type": "execute_result"
    },
    {
     "data": {
      "image/png": "[encoded data removed]",
      "text/plain": [
       "<Figure size 432x288 with 1 Axes>"
      ]
     },
     "metadata": {
      "needs_background": "light"
     },
     "output_type": "display_data"
    }
   ],
   "source": [
    "plt.scatter(df['price'], df['rooms'])\n",
    "plt.xlabel('Price')\n",
    "plt.ylabel('Rooms')"
   ]
  },
  {
   "cell_type": "code",
   "execution_count": 10,
   "metadata": {},
   "outputs": [
    {
     "data": {
      "image/png": "[encoded data removed]",
      "text/plain": [
       "<Figure size 432x288 with 2 Axes>"
      ]
     },
     "metadata": {
      "needs_background": "light"
     },
     "output_type": "display_data"
    }
   ],
   "source": [
    "import seaborn as sn\n",
    "sn.heatmap(df.corr(), annot=True)\n",
    "sn.set(rc={'figure.figsize':(15,15)})\n",
    "plt.show()\n"
   ]
  },
  {
   "cell_type": "code",
   "execution_count": 11,
   "metadata": {},
   "outputs": [
    {
     "data": {
      "text/plain": [
       "Index(['Unnamed: 0', 'propertyCode', 'thumbnail', 'externalReference',\n",
       "       'numPhotos', 'floor', 'price', 'propertyType', 'operation', 'size',\n",
       "       'exterior', 'rooms', 'bathrooms', 'address', 'province', 'municipality',\n",
       "       'district', 'country', 'latitude', 'longitude', 'showAddress', 'url',\n",
       "       'distance', 'description', 'hasVideo', 'status', 'newDevelopment',\n",
       "       'hasLift', 'priceByArea', 'hasPlan', 'has3DTour', 'has360',\n",
       "       'hasStaging', 'superTopHighlight', 'topNewDevelopment',\n",
       "       'detailedType.typology', 'suggestedTexts.subtitle',\n",
       "       'suggestedTexts.title', 'parkingSpace.hasParkingSpace',\n",
       "       'parkingSpace.isParkingSpaceIncludedInPrice',\n",
       "       'detailedType.subTypology', 'labels', 'neighborhood',\n",
       "       'parkingSpace.parkingSpacePrice', 'newDevelopmentFinished'],\n",
       "      dtype='object')"
      ]
     },
     "execution_count": 11,
     "metadata": {},
     "output_type": "execute_result"
    }
   ],
   "source": [
    "\n",
    "df.columns"
   ]
  },
  {
   "cell_type": "code",
   "execution_count": 12,
   "metadata": {},
   "outputs": [
    {
     "data": {
      "image/png": "[encoded data removed]",
      "text/plain": [
       "<Figure size 1080x1080 with 1 Axes>"
      ]
     },
     "metadata": {},
     "output_type": "display_data"
    }
   ],
   "source": [
    "plt.hist(df['priceByArea'])\n",
    "plt.show()"
   ]
  },
  {
   "cell_type": "code",
   "execution_count": 22,
   "metadata": {},
   "outputs": [
    {
     "data": {
      "application/vnd.plotly.v1+json": {
       "config": {
        "plotlyServerURL": "https://plot.ly"
       },
       "data": [
        {
         "customdata": [
          [
           1095,
           104000,
           95,
           3,
           "https://www.idealista.com/inmueble/97358818/"
          ],
          [
           1224,
           104000,
           85,
           3,
           "https://www.idealista.com/inmueble/97422652/"
          ],
          [
           1547,
           212000,
           137,
           4,
           "https://www.idealista.com/inmueble/97504416/"
          ],
          [
           1789,
           195000,
           109,
           3,
           "https://www.idealista.com/inmueble/96363274/"
          ],
          [
           1333,
           80000,
           60,
           2,
           "https://www.idealista.com/inmueble/98951857/"
          ],
          [
           1382,
           105000,
           76,
           3,
           "https://www.idealista.com/inmueble/99137849/"
          ],
          [
           1429,
           200000,
           140,
           4,
           "https://www.idealista.com/inmueble/98015346/"
          ],
          [
           1790,
           299000,
           167,
           4,
           "https://www.idealista.com/inmueble/98671983/"
          ],
          [
           1875,
           150000,
           80,
           3,
           "https://www.idealista.com/inmueble/98548994/"
          ],
          [
           1833,
           110000,
           60,
           2,
           "https://www.idealista.com/inmueble/93642827/"
          ],
          [
           1728,
           197000,
           114,
           4,
           "https://www.idealista.com/inmueble/98568742/"
          ],
          [
           1923,
           225000,
           117,
           4,
           "https://www.idealista.com/inmueble/97815655/"
          ],
          [
           1987,
           298000,
           150,
           3,
           "https://www.idealista.com/inmueble/97926519/"
          ],
          [
           2130,
           115000,
           54,
           3,
           "https://www.idealista.com/inmueble/98508410/"
          ],
          [
           1875,
           225000,
           120,
           4,
           "https://www.idealista.com/inmueble/98787320/"
          ],
          [
           1594,
           110000,
           69,
           2,
           "https://www.idealista.com/inmueble/98749461/"
          ],
          [
           2931,
           299000,
           102,
           3,
           "https://www.idealista.com/inmueble/98802704/"
          ],
          [
           1800,
           135000,
           75,
           2,
           "https://www.idealista.com/inmueble/98749928/"
          ],
          [
           2453,
           260000,
           106,
           3,
           "https://www.idealista.com/inmueble/98650337/"
          ],
          [
           3146,
           129000,
           41,
           1,
           "https://www.idealista.com/inmueble/98105501/"
          ],
          [
           1505,
           280000,
           186,
           5,
           "https://www.idealista.com/inmueble/92720094/"
          ],
          [
           3225,
           129000,
           40,
           1,
           "https://www.idealista.com/inmueble/98838154/"
          ],
          [
           3225,
           129000,
           40,
           1,
           "https://www.idealista.com/inmueble/98687183/"
          ],
          [
           3225,
           129000,
           40,
           1,
           "https://www.idealista.com/inmueble/98771371/"
          ],
          [
           1014,
           140000,
           138,
           3,
           "https://www.idealista.com/inmueble/98295947/"
          ],
          [
           1445,
           185000,
           128,
           3,
           "https://www.idealista.com/inmueble/97131959/"
          ],
          [
           3686,
           129000,
           35,
           1,
           "https://www.idealista.com/inmueble/97917222/"
          ],
          [
           3289,
           250000,
           76,
           2,
           "https://www.idealista.com/inmueble/99155497/"
          ],
          [
           1299,
           129900,
           100,
           3,
           "https://www.idealista.com/inmueble/97643039/"
          ],
          [
           2063,
           260000,
           126,
           3,
           "https://www.idealista.com/inmueble/98657163/"
          ],
          [
           2580,
           129000,
           50,
           1,
           "https://www.idealista.com/inmueble/98680713/"
          ],
          [
           1421,
           135000,
           95,
           3,
           "https://www.idealista.com/inmueble/97694350/"
          ],
          [
           1322,
           160000,
           121,
           5,
           "https://www.idealista.com/inmueble/98139669/"
          ],
          [
           1800,
           225000,
           125,
           4,
           "https://www.idealista.com/inmueble/97824303/"
          ],
          [
           1731,
           225000,
           130,
           4,
           "https://www.idealista.com/inmueble/98212690/"
          ],
          [
           1455,
           80000,
           55,
           2,
           "https://www.idealista.com/inmueble/98730461/"
          ],
          [
           2018,
           230000,
           114,
           4,
           "https://www.idealista.com/inmueble/96986825/"
          ],
          [
           2363,
           189000,
           80,
           3,
           "https://www.idealista.com/inmueble/98017168/"
          ],
          [
           1765,
           150000,
           85,
           2,
           "https://www.idealista.com/inmueble/96721002/"
          ],
          [
           1667,
           225000,
           135,
           4,
           "https://www.idealista.com/inmueble/97770934/"
          ],
          [
           3571,
           250000,
           70,
           2,
           "https://www.idealista.com/inmueble/94076483/"
          ],
          [
           1769,
           230000,
           130,
           4,
           "https://www.idealista.com/inmueble/97478623/"
          ],
          [
           1923,
           225000,
           117,
           4,
           "https://www.idealista.com/inmueble/98462042/"
          ],
          [
           1684,
           160000,
           95,
           4,
           "https://www.idealista.com/inmueble/97989325/"
          ],
          [
           2018,
           230000,
           114,
           4,
           "https://www.idealista.com/inmueble/97185588/"
          ],
          [
           1800,
           225000,
           125,
           4,
           "https://www.idealista.com/inmueble/98114165/"
          ],
          [
           2586,
           150000,
           58,
           2,
           "https://www.idealista.com/inmueble/98811912/"
          ],
          [
           1618,
           169900,
           105,
           2,
           "https://www.idealista.com/inmueble/97990819/"
          ],
          [
           1428,
           139900,
           98,
           3,
           "https://www.idealista.com/inmueble/97642901/"
          ],
          [
           2253,
           169000,
           75,
           2,
           "https://www.idealista.com/inmueble/97957658/"
          ],
          [
           3333,
           250000,
           75,
           2,
           "https://www.idealista.com/inmueble/97284062/"
          ],
          [
           2143,
           150000,
           70,
           2,
           "https://www.idealista.com/inmueble/97135080/"
          ],
          [
           2143,
           150000,
           70,
           2,
           "https://www.idealista.com/inmueble/98778554/"
          ],
          [
           2132,
           159900,
           75,
           2,
           "https://www.idealista.com/inmueble/98831785/"
          ],
          [
           3431,
           175000,
           51,
           1,
           "https://www.idealista.com/inmueble/98736022/"
          ],
          [
           1527,
           200000,
           131,
           4,
           "https://www.idealista.com/inmueble/98061710/"
          ],
          [
           2816,
           267530,
           95,
           3,
           "https://www.idealista.com/inmueble/90597837/"
          ],
          [
           3889,
           175000,
           45,
           1,
           "https://www.idealista.com/inmueble/98965871/"
          ],
          [
           2477,
           267530,
           108,
           3,
           "https://www.idealista.com/inmueble/98483523/"
          ],
          [
           2723,
           258670,
           95,
           3,
           "https://www.idealista.com/inmueble/98375945/"
          ],
          [
           2616,
           240710,
           92,
           2,
           "https://www.idealista.com/inmueble/98483525/"
          ],
          [
           1961,
           200000,
           102,
           2,
           "https://www.idealista.com/inmueble/97827864/"
          ],
          [
           3431,
           175000,
           51,
           1,
           "https://www.idealista.com/inmueble/98950893/"
          ],
          [
           1767,
           199620,
           113,
           6,
           "https://www.idealista.com/inmueble/91528455/"
          ],
          [
           1959,
           190000,
           97,
           3,
           "https://www.idealista.com/inmueble/95570333/"
          ],
          [
           1767,
           199620,
           113,
           6,
           "https://www.idealista.com/inmueble/96018632/"
          ],
          [
           2163,
           225000,
           104,
           4,
           "https://www.idealista.com/inmueble/98613978/"
          ],
          [
           2636,
           145000,
           55,
           2,
           "https://www.idealista.com/inmueble/96675000/"
          ],
          [
           2816,
           267530,
           95,
           3,
           "https://www.idealista.com/obra-nueva/86464779/"
          ],
          [
           3431,
           175000,
           51,
           1,
           "https://www.idealista.com/inmueble/98958353/"
          ],
          [
           2935,
           240710,
           82,
           2,
           "https://www.idealista.com/inmueble/89624343/"
          ],
          [
           1767,
           199620,
           113,
           5,
           "https://www.idealista.com/inmueble/91739517/"
          ],
          [
           1527,
           200000,
           131,
           4,
           "https://www.idealista.com/inmueble/98431276/"
          ],
          [
           2242,
           139000,
           62,
           3,
           "https://www.idealista.com/inmueble/98588175/"
          ],
          [
           2935,
           240710,
           82,
           2,
           "https://www.idealista.com/obra-nueva/88646675/"
          ],
          [
           2723,
           258670,
           95,
           3,
           "https://www.idealista.com/obra-nueva/89237511/"
          ],
          [
           2723,
           258670,
           95,
           3,
           "https://www.idealista.com/inmueble/89624333/"
          ],
          [
           1610,
           199620,
           124,
           6,
           "https://www.idealista.com/inmueble/90257380/"
          ],
          [
           1429,
           200000,
           140,
           4,
           "https://www.idealista.com/inmueble/98821123/"
          ],
          [
           1610,
           199620,
           124,
           5,
           "https://www.idealista.com/inmueble/90743977/"
          ],
          [
           2935,
           240710,
           82,
           2,
           "https://www.idealista.com/inmueble/86463396/"
          ],
          [
           2723,
           258670,
           95,
           3,
           "https://www.idealista.com/inmueble/86463547/"
          ],
          [
           1378,
           124000,
           90,
           3,
           "https://www.idealista.com/inmueble/39590562/"
          ],
          [
           1767,
           199620,
           113,
           6,
           "https://www.idealista.com/inmueble/90377031/"
          ],
          [
           1610,
           199620,
           124,
           6,
           "https://www.idealista.com/inmueble/90252997/"
          ],
          [
           2837,
           139000,
           49,
           2,
           "https://www.idealista.com/inmueble/98914239/"
          ],
          [
           1530,
           179000,
           117,
           3,
           "https://www.idealista.com/inmueble/97251562/"
          ],
          [
           2671,
           187000,
           70,
           2,
           "https://www.idealista.com/inmueble/97734488/"
          ],
          [
           3390,
           139000,
           41,
           2,
           "https://www.idealista.com/inmueble/98770042/"
          ],
          [
           1525,
           154000,
           101,
           2,
           "https://www.idealista.com/inmueble/95503029/"
          ],
          [
           2223,
           229000,
           103,
           2,
           "https://www.idealista.com/inmueble/98597707/"
          ],
          [
           1588,
           154000,
           97,
           3,
           "https://www.idealista.com/inmueble/98759555/"
          ],
          [
           3117,
           187000,
           60,
           2,
           "https://www.idealista.com/inmueble/99025490/"
          ],
          [
           1126,
           125000,
           111,
           3,
           "https://www.idealista.com/inmueble/98972832/"
          ],
          [
           2977,
           139900,
           47,
           2,
           "https://www.idealista.com/inmueble/98761280/"
          ],
          [
           2832,
           269000,
           95,
           3,
           "https://www.idealista.com/inmueble/98735890/"
          ],
          [
           1674,
           154000,
           92,
           3,
           "https://www.idealista.com/inmueble/97594013/"
          ],
          [
           3181,
           229000,
           72,
           2,
           "https://www.idealista.com/inmueble/98544111/"
          ],
          [
           1711,
           154000,
           90,
           3,
           "https://www.idealista.com/inmueble/98723405/"
          ],
          [
           1674,
           154000,
           92,
           3,
           "https://www.idealista.com/inmueble/98732088/"
          ],
          [
           1674,
           154000,
           92,
           3,
           "https://www.idealista.com/inmueble/99125317/"
          ],
          [
           2223,
           229000,
           103,
           2,
           "https://www.idealista.com/inmueble/98764876/"
          ],
          [
           3016,
           187000,
           62,
           2,
           "https://www.idealista.com/inmueble/98537459/"
          ],
          [
           1571,
           154000,
           98,
           3,
           "https://www.idealista.com/inmueble/99003941/"
          ],
          [
           1357,
           95000,
           70,
           3,
           "https://www.idealista.com/inmueble/98672566/"
          ],
          [
           1523,
           163000,
           107,
           4,
           "https://www.idealista.com/inmueble/99237615/"
          ],
          [
           2987,
           230000,
           77,
           2,
           "https://www.idealista.com/inmueble/99047332/"
          ],
          [
           1630,
           163000,
           100,
           4,
           "https://www.idealista.com/inmueble/98419842/"
          ],
          [
           1571,
           154000,
           98,
           2,
           "https://www.idealista.com/inmueble/98910141/"
          ],
          [
           3564,
           139000,
           39,
           2,
           "https://www.idealista.com/inmueble/99082419/"
          ],
          [
           1674,
           154000,
           92,
           2,
           "https://www.idealista.com/inmueble/98890204/"
          ],
          [
           2037,
           220000,
           108,
           3,
           "https://www.idealista.com/inmueble/96730312/"
          ],
          [
           1571,
           154000,
           98,
           4,
           "https://www.idealista.com/inmueble/98722154/"
          ],
          [
           1571,
           154000,
           98,
           3,
           "https://www.idealista.com/inmueble/98909484/"
          ],
          [
           1541,
           114000,
           74,
           3,
           "https://www.idealista.com/inmueble/97365701/"
          ],
          [
           1855,
           154000,
           83,
           2,
           "https://www.idealista.com/inmueble/98478446/"
          ],
          [
           2421,
           230000,
           95,
           4,
           "https://www.idealista.com/inmueble/97516799/"
          ],
          [
           1340,
           130000,
           97,
           2,
           "https://www.idealista.com/inmueble/97125626/"
          ],
          [
           1058,
           110000,
           104,
           4,
           "https://www.idealista.com/inmueble/97504338/"
          ],
          [
           4483,
           260000,
           58,
           2,
           "https://www.idealista.com/inmueble/33025443/"
          ],
          [
           1588,
           154000,
           97,
           3,
           "https://www.idealista.com/inmueble/95498461/"
          ],
          [
           2718,
           299000,
           110,
           3,
           "https://www.idealista.com/inmueble/95720614/"
          ],
          [
           2273,
           150000,
           66,
           3,
           "https://www.idealista.com/inmueble/98401298/"
          ],
          [
           2743,
           299000,
           109,
           3,
           "https://www.idealista.com/inmueble/97627687/"
          ],
          [
           2990,
           299000,
           100,
           3,
           "https://www.idealista.com/inmueble/99092426/"
          ],
          [
           1929,
           270000,
           140,
           4,
           "https://www.idealista.com/inmueble/97062772/"
          ],
          [
           2095,
           155000,
           74,
           2,
           "https://www.idealista.com/inmueble/97485533/"
          ],
          [
           2500,
           150000,
           60,
           2,
           "https://www.idealista.com/inmueble/98328006/"
          ],
          [
           1882,
           144900,
           77,
           3,
           "https://www.idealista.com/inmueble/98624662/"
          ],
          [
           1423,
           74000,
           52,
           3,
           "https://www.idealista.com/inmueble/97484683/"
          ],
          [
           2670,
           299000,
           112,
           3,
           "https://www.idealista.com/inmueble/96101699/"
          ],
          [
           1746,
           199000,
           114,
           3,
           "https://www.idealista.com/inmueble/97424962/"
          ],
          [
           1578,
           149900,
           95,
           3,
           "https://www.idealista.com/inmueble/98902802/"
          ],
          [
           2095,
           155000,
           74,
           2,
           "https://www.idealista.com/inmueble/97823004/"
          ],
          [
           2500,
           155000,
           62,
           2,
           "https://www.idealista.com/inmueble/97433370/"
          ],
          [
           1935,
           180000,
           93,
           4,
           "https://www.idealista.com/inmueble/97905136/"
          ],
          [
           1786,
           150000,
           84,
           3,
           "https://www.idealista.com/inmueble/97654923/"
          ],
          [
           1823,
           175000,
           96,
           2,
           "https://www.idealista.com/inmueble/95224469/"
          ],
          [
           2756,
           248000,
           90,
           2,
           "https://www.idealista.com/inmueble/98909456/"
          ],
          [
           2095,
           155000,
           74,
           2,
           "https://www.idealista.com/inmueble/98333819/"
          ],
          [
           1938,
           155000,
           80,
           2,
           "https://www.idealista.com/inmueble/98850151/"
          ],
          [
           2348,
           155000,
           66,
           2,
           "https://www.idealista.com/inmueble/97448545/"
          ],
          [
           1948,
           150000,
           77,
           2,
           "https://www.idealista.com/inmueble/98350604/"
          ],
          [
           2352,
           258670,
           110,
           3,
           "https://www.idealista.com/inmueble/97001837/"
          ],
          [
           1875,
           165000,
           88,
           3,
           "https://www.idealista.com/inmueble/90342585/"
          ],
          [
           1722,
           155000,
           90,
           3,
           "https://www.idealista.com/inmueble/97411251/"
          ],
          [
           2596,
           270000,
           104,
           4,
           "https://www.idealista.com/inmueble/98980313/"
          ],
          [
           1722,
           155000,
           90,
           3,
           "https://www.idealista.com/inmueble/95389487/"
          ],
          [
           1442,
           150000,
           104,
           4,
           "https://www.idealista.com/inmueble/90750019/"
          ],
          [
           1767,
           144900,
           82,
           3,
           "https://www.idealista.com/inmueble/98822153/"
          ],
          [
           1862,
           175000,
           94,
           3,
           "https://www.idealista.com/inmueble/98463802/"
          ],
          [
           2105,
           160000,
           76,
           2,
           "https://www.idealista.com/inmueble/95960502/"
          ],
          [
           2143,
           150000,
           70,
           3,
           "https://www.idealista.com/inmueble/98830925/"
          ],
          [
           1419,
           97900,
           69,
           2,
           "https://www.idealista.com/inmueble/87432760/"
          ],
          [
           2095,
           155000,
           74,
           2,
           "https://www.idealista.com/inmueble/98144743/"
          ],
          [
           1778,
           160000,
           90,
           2,
           "https://www.idealista.com/inmueble/95344799/"
          ],
          [
           1960,
           196000,
           100,
           2,
           "https://www.idealista.com/inmueble/96982371/"
          ],
          [
           2333,
           245000,
           105,
           3,
           "https://www.idealista.com/inmueble/98946803/"
          ],
          [
           2095,
           220000,
           105,
           4,
           "https://www.idealista.com/inmueble/98546591/"
          ],
          [
           3114,
           246000,
           79,
           2,
           "https://www.idealista.com/inmueble/90597824/"
          ],
          [
           2163,
           225000,
           104,
           4,
           "https://www.idealista.com/inmueble/98656256/"
          ],
          [
           3114,
           246000,
           79,
           2,
           "https://www.idealista.com/inmueble/98358096/"
          ],
          [
           2065,
           159000,
           77,
           2,
           "https://www.idealista.com/inmueble/98350387/"
          ],
          [
           4100,
           246000,
           60,
           2,
           "https://www.idealista.com/inmueble/97516750/"
          ],
          [
           3114,
           246000,
           79,
           2,
           "https://www.idealista.com/inmueble/92724416/"
          ],
          [
           1992,
           259000,
           130,
           4,
           "https://www.idealista.com/inmueble/98784045/"
          ],
          [
           1960,
           196000,
           100,
           2,
           "https://www.idealista.com/inmueble/97736231/"
          ],
          [
           3114,
           246000,
           79,
           2,
           "https://www.idealista.com/inmueble/88765293/"
          ],
          [
           2078,
           239000,
           115,
           4,
           "https://www.idealista.com/inmueble/97659260/"
          ],
          [
           1983,
           119000,
           60,
           2,
           "https://www.idealista.com/inmueble/97280661/"
          ],
          [
           2563,
           246000,
           96,
           2,
           "https://www.idealista.com/obra-nueva/88646677/"
          ],
          [
           3308,
           215000,
           65,
           2,
           "https://www.idealista.com/inmueble/94081561/"
          ],
          [
           2563,
           246000,
           96,
           2,
           "https://www.idealista.com/inmueble/89624340/"
          ],
          [
           3114,
           246000,
           79,
           2,
           "https://www.idealista.com/inmueble/89413897/"
          ],
          [
           2964,
           249000,
           84,
           3,
           "https://www.idealista.com/inmueble/98792281/"
          ],
          [
           1913,
           164500,
           86,
           2,
           "https://www.idealista.com/inmueble/98661895/"
          ],
          [
           2921,
           295000,
           101,
           4,
           "https://www.idealista.com/inmueble/97788056/"
          ],
          [
           1855,
           230000,
           124,
           4,
           "https://www.idealista.com/inmueble/96400509/"
          ],
          [
           1913,
           164500,
           86,
           2,
           "https://www.idealista.com/inmueble/98640468/"
          ],
          [
           1833,
           275000,
           150,
           3,
           "https://www.idealista.com/inmueble/98739934/"
          ],
          [
           1791,
           163000,
           91,
           3,
           "https://www.idealista.com/inmueble/98425275/"
          ],
          [
           2820,
           282000,
           100,
           2,
           "https://www.idealista.com/inmueble/98523641/"
          ],
          [
           2564,
           294900,
           115,
           4,
           "https://www.idealista.com/inmueble/98816905/"
          ],
          [
           1729,
           185000,
           107,
           3,
           "https://www.idealista.com/inmueble/97647550/"
          ],
          [
           2697,
           240000,
           89,
           2,
           "https://www.idealista.com/inmueble/98801030/"
          ],
          [
           2155,
           209000,
           97,
           2,
           "https://www.idealista.com/inmueble/97239540/"
          ],
          [
           2432,
           267530,
           110,
           3,
           "https://www.idealista.com/inmueble/92203922/"
          ],
          [
           2552,
           245000,
           96,
           3,
           "https://www.idealista.com/inmueble/97108748/"
          ],
          [
           1934,
           205000,
           106,
           4,
           "https://www.idealista.com/inmueble/98658793/"
          ],
          [
           2291,
           181000,
           79,
           1,
           "https://www.idealista.com/inmueble/98724583/"
          ],
          [
           2706,
           295000,
           109,
           3,
           "https://www.idealista.com/inmueble/98635757/"
          ],
          [
           1980,
           297000,
           150,
           0,
           "https://www.idealista.com/inmueble/97262960/"
          ],
          [
           1845,
           155000,
           84,
           2,
           "https://www.idealista.com/inmueble/99143269/"
          ],
          [
           1797,
           230000,
           128,
           3,
           "https://www.idealista.com/inmueble/97977221/"
          ],
          [
           2923,
           228000,
           78,
           2,
           "https://www.idealista.com/inmueble/96359192/"
          ],
          [
           2235,
           190000,
           85,
           2,
           "https://www.idealista.com/inmueble/96758289/"
          ],
          [
           2892,
           240000,
           83,
           3,
           "https://www.idealista.com/inmueble/97727453/"
          ],
          [
           2968,
           279000,
           94,
           3,
           "https://www.idealista.com/inmueble/99210301/"
          ],
          [
           2067,
           223200,
           108,
           3,
           "https://www.idealista.com/inmueble/92204039/"
          ],
          [
           2203,
           253400,
           115,
           3,
           "https://www.idealista.com/inmueble/97658372/"
          ],
          [
           2390,
           239000,
           100,
           2,
           "https://www.idealista.com/inmueble/98959029/"
          ],
          [
           2538,
           198000,
           78,
           2,
           "https://www.idealista.com/inmueble/99080758/"
          ],
          [
           1833,
           275000,
           150,
           3,
           "https://www.idealista.com/inmueble/99206584/"
          ],
          [
           3273,
           180000,
           55,
           1,
           "https://www.idealista.com/inmueble/98057820/"
          ],
          [
           3816,
           290000,
           76,
           1,
           "https://www.idealista.com/inmueble/98926266/"
          ],
          [
           1527,
           200000,
           131,
           4,
           "https://www.idealista.com/inmueble/98228677/"
          ],
          [
           3944,
           280000,
           71,
           2,
           "https://www.idealista.com/inmueble/97906907/"
          ],
          [
           1439,
           190000,
           132,
           2,
           "https://www.idealista.com/inmueble/98513574/"
          ],
          [
           1250,
           110000,
           88,
           2,
           "https://www.idealista.com/inmueble/98794532/"
          ],
          [
           2185,
           177000,
           81,
           2,
           "https://www.idealista.com/inmueble/93343620/"
          ],
          [
           2182,
           240000,
           110,
           3,
           "https://www.idealista.com/inmueble/99135899/"
          ],
          [
           1633,
           160000,
           98,
           4,
           "https://www.idealista.com/inmueble/98710955/"
          ],
          [
           1896,
           146000,
           77,
           3,
           "https://www.idealista.com/inmueble/98525524/"
          ],
          [
           2560,
           256000,
           100,
           3,
           "https://www.idealista.com/inmueble/98910753/"
          ],
          [
           3134,
           210000,
           67,
           2,
           "https://www.idealista.com/inmueble/97897301/"
          ],
          [
           1839,
           160000,
           87,
           2,
           "https://www.idealista.com/inmueble/98055350/"
          ],
          [
           1690,
           169000,
           100,
           3,
           "https://www.idealista.com/inmueble/98974824/"
          ],
          [
           1526,
           145000,
           95,
           3,
           "https://www.idealista.com/inmueble/98790638/"
          ],
          [
           2390,
           239000,
           100,
           3,
           "https://www.idealista.com/inmueble/98064481/"
          ],
          [
           2538,
           198000,
           78,
           2,
           "https://www.idealista.com/inmueble/98870116/"
          ],
          [
           2312,
           289000,
           125,
           4,
           "https://www.idealista.com/inmueble/98519955/"
          ],
          [
           2462,
           256000,
           104,
           3,
           "https://www.idealista.com/inmueble/98975644/"
          ],
          [
           2429,
           170000,
           70,
           2,
           "https://www.idealista.com/inmueble/98327780/"
          ],
          [
           1762,
           215000,
           122,
           4,
           "https://www.idealista.com/inmueble/97576787/"
          ],
          [
           2500,
           250000,
           100,
           3,
           "https://www.idealista.com/inmueble/96755597/"
          ],
          [
           3333,
           250000,
           75,
           2,
           "https://www.idealista.com/inmueble/98880371/"
          ],
          [
           2225,
           198000,
           89,
           2,
           "https://www.idealista.com/inmueble/98707048/"
          ],
          [
           2813,
           225000,
           80,
           2,
           "https://www.idealista.com/inmueble/97990000/"
          ],
          [
           1781,
           179900,
           101,
           2,
           "https://www.idealista.com/inmueble/99129513/"
          ],
          [
           1338,
           95000,
           71,
           2,
           "https://www.idealista.com/inmueble/99244794/"
          ],
          [
           1731,
           135000,
           78,
           2,
           "https://www.idealista.com/inmueble/96204896/"
          ],
          [
           2026,
           154000,
           76,
           2,
           "https://www.idealista.com/inmueble/96765290/"
          ],
          [
           2600,
           260000,
           100,
           3,
           "https://www.idealista.com/inmueble/95755903/"
          ],
          [
           2317,
           190000,
           82,
           3,
           "https://www.idealista.com/inmueble/97988069/"
          ],
          [
           1484,
           135000,
           91,
           3,
           "https://www.idealista.com/inmueble/98740961/"
          ],
          [
           2653,
           199000,
           75,
           2,
           "https://www.idealista.com/inmueble/97565641/"
          ],
          [
           2024,
           255000,
           126,
           4,
           "https://www.idealista.com/inmueble/99074026/"
          ],
          [
           1714,
           120000,
           70,
           0,
           "https://www.idealista.com/obra-nueva/99094744/"
          ],
          [
           1471,
           100000,
           68,
           3,
           "https://www.idealista.com/inmueble/96864857/"
          ],
          [
           1742,
           169000,
           97,
           3,
           "https://www.idealista.com/inmueble/96976409/"
          ],
          [
           1603,
           210000,
           131,
           4,
           "https://www.idealista.com/inmueble/98432127/"
          ],
          [
           2358,
           250000,
           106,
           3,
           "https://www.idealista.com/inmueble/98083765/"
          ],
          [
           1857,
           130000,
           70,
           3,
           "https://www.idealista.com/inmueble/95289034/"
          ],
          [
           2020,
           299000,
           148,
           4,
           "https://www.idealista.com/inmueble/98266385/"
          ],
          [
           3271,
           229000,
           70,
           2,
           "https://www.idealista.com/inmueble/97574450/"
          ],
          [
           2018,
           230000,
           114,
           4,
           "https://www.idealista.com/inmueble/99066987/"
          ],
          [
           3258,
           215000,
           66,
           2,
           "https://www.idealista.com/inmueble/98964188/"
          ],
          [
           2397,
           290000,
           121,
           3,
           "https://www.idealista.com/inmueble/99257939/"
          ],
          [
           2932,
           258000,
           88,
           3,
           "https://www.idealista.com/inmueble/98414979/"
          ],
          [
           2682,
           295000,
           110,
           3,
           "https://www.idealista.com/inmueble/96419523/"
          ],
          [
           2636,
           145000,
           55,
           1,
           "https://www.idealista.com/inmueble/97852717/"
          ],
          [
           1278,
           230000,
           180,
           5,
           "https://www.idealista.com/inmueble/98723606/"
          ],
          [
           3273,
           180000,
           55,
           1,
           "https://www.idealista.com/inmueble/98062319/"
          ],
          [
           1150,
           115000,
           100,
           3,
           "https://www.idealista.com/inmueble/98348139/"
          ],
          [
           1870,
           144000,
           77,
           3,
           "https://www.idealista.com/inmueble/95004191/"
          ],
          [
           3051,
           180000,
           59,
           1,
           "https://www.idealista.com/inmueble/97230626/"
          ],
          [
           3393,
           190000,
           56,
           2,
           "https://www.idealista.com/inmueble/98085868/"
          ],
          [
           1833,
           220000,
           120,
           3,
           "https://www.idealista.com/inmueble/98627216/"
          ],
          [
           3010,
           298000,
           99,
           3,
           "https://www.idealista.com/inmueble/97989921/"
          ],
          [
           1742,
           115000,
           66,
           2,
           "https://www.idealista.com/inmueble/97127116/"
          ],
          [
           5455,
           300000,
           55,
           2,
           "https://www.idealista.com/inmueble/95255326/"
          ],
          [
           1842,
           140000,
           76,
           2,
           "https://www.idealista.com/inmueble/97998528/"
          ],
          [
           1572,
           283000,
           180,
           6,
           "https://www.idealista.com/inmueble/94179318/"
          ],
          [
           2176,
           185000,
           85,
           3,
           "https://www.idealista.com/inmueble/99195965/"
          ],
          [
           1400,
           98000,
           70,
           2,
           "https://www.idealista.com/inmueble/98761306/"
          ],
          [
           3857,
           270000,
           70,
           2,
           "https://www.idealista.com/inmueble/96681927/"
          ],
          [
           1987,
           155000,
           78,
           2,
           "https://www.idealista.com/inmueble/99254547/"
          ],
          [
           1542,
           185000,
           120,
           4,
           "https://www.idealista.com/inmueble/99211590/"
          ],
          [
           1987,
           155000,
           78,
           2,
           "https://www.idealista.com/inmueble/94702063/"
          ],
          [
           2000,
           220000,
           110,
           3,
           "https://www.idealista.com/inmueble/94203355/"
          ],
          [
           2737,
           260000,
           95,
           3,
           "https://www.idealista.com/inmueble/99021404/"
          ],
          [
           2500,
           250000,
           100,
           3,
           "https://www.idealista.com/inmueble/99021469/"
          ],
          [
           1385,
           90000,
           65,
           2,
           "https://www.idealista.com/inmueble/98775363/"
          ],
          [
           3049,
           250000,
           82,
           2,
           "https://www.idealista.com/inmueble/90765648/"
          ],
          [
           2737,
           260000,
           95,
           3,
           "https://www.idealista.com/inmueble/98449565/"
          ],
          [
           2409,
           265000,
           110,
           3,
           "https://www.idealista.com/inmueble/99241929/"
          ],
          [
           1277,
           180000,
           141,
           4,
           "https://www.idealista.com/inmueble/99136230/"
          ],
          [
           2873,
           158000,
           55,
           1,
           "https://www.idealista.com/inmueble/99003392/"
          ],
          [
           1250,
           75000,
           60,
           3,
           "https://www.idealista.com/inmueble/99130874/"
          ],
          [
           1125,
           135000,
           120,
           4,
           "https://www.idealista.com/inmueble/98354863/"
          ],
          [
           2709,
           298000,
           110,
           3,
           "https://www.idealista.com/inmueble/97651292/"
          ],
          [
           1714,
           120000,
           70,
           2,
           "https://www.idealista.com/inmueble/97861326/"
          ],
          [
           2527,
           139000,
           55,
           1,
           "https://www.idealista.com/inmueble/99232572/"
          ],
          [
           1803,
           128000,
           71,
           3,
           "https://www.idealista.com/inmueble/99209052/"
          ],
          [
           1934,
           205000,
           106,
           4,
           "https://www.idealista.com/inmueble/99088907/"
          ],
          [
           1572,
           283000,
           180,
           8,
           "https://www.idealista.com/inmueble/98819376/"
          ],
          [
           1277,
           180000,
           141,
           5,
           "https://www.idealista.com/inmueble/99203773/"
          ],
          [
           1290,
           120000,
           93,
           2,
           "https://www.idealista.com/inmueble/99226951/"
          ],
          [
           1797,
           230000,
           128,
           4,
           "https://www.idealista.com/inmueble/99169524/"
          ],
          [
           2813,
           225000,
           80,
           2,
           "https://www.idealista.com/inmueble/99021465/"
          ],
          [
           2471,
           210000,
           85,
           2,
           "https://www.idealista.com/inmueble/99021486/"
          ],
          [
           2563,
           205000,
           80,
           2,
           "https://www.idealista.com/inmueble/99025137/"
          ],
          [
           2540,
           254000,
           100,
           3,
           "https://www.idealista.com/inmueble/99021392/"
          ],
          [
           1662,
           128000,
           77,
           3,
           "https://www.idealista.com/inmueble/99202876/"
          ],
          [
           2263,
           140300,
           62,
           1,
           "https://www.idealista.com/inmueble/97471996/"
          ],
          [
           1965,
           202438,
           103,
           2,
           "https://www.idealista.com/obra-nueva/97371294/"
          ],
          [
           2016,
           213713,
           106,
           2,
           "https://www.idealista.com/obra-nueva/91450275/"
          ],
          [
           2706,
           295000,
           109,
           3,
           "https://www.idealista.com/inmueble/98710467/"
          ],
          [
           1934,
           197313,
           102,
           2,
           "https://www.idealista.com/obra-nueva/97765696/"
          ],
          [
           2500,
           180000,
           72,
           3,
           "https://www.idealista.com/inmueble/98615545/"
          ],
          [
           2010,
           205000,
           102,
           3,
           "https://www.idealista.com/inmueble/97343719/"
          ],
          [
           2265,
           264990,
           117,
           3,
           "https://www.idealista.com/inmueble/96312216/"
          ],
          [
           1965,
           169000,
           86,
           3,
           "https://www.idealista.com/inmueble/98124883/"
          ],
          [
           2500,
           180000,
           72,
           3,
           "https://www.idealista.com/inmueble/98615545/"
          ],
          [
           2563,
           205000,
           80,
           2,
           "https://www.idealista.com/inmueble/98444950/"
          ],
          [
           2471,
           210000,
           85,
           2,
           "https://www.idealista.com/inmueble/98444538/"
          ],
          [
           2540,
           254000,
           100,
           3,
           "https://www.idealista.com/inmueble/98448037/"
          ],
          [
           1842,
           140000,
           76,
           2,
           "https://www.idealista.com/inmueble/96787362/"
          ],
          [
           2538,
           198000,
           78,
           2,
           "https://www.idealista.com/inmueble/99021476/"
          ],
          [
           1875,
           150000,
           80,
           3,
           "https://www.idealista.com/inmueble/99262143/"
          ],
          [
           1885,
           230000,
           122,
           2,
           "https://www.idealista.com/inmueble/99136730/"
          ],
          [
           1758,
           218000,
           124,
           2,
           "https://www.idealista.com/inmueble/95768275/"
          ],
          [
           2766,
           296000,
           107,
           4,
           "https://www.idealista.com/inmueble/98585156/"
          ],
          [
           2169,
           180000,
           83,
           3,
           "https://www.idealista.com/inmueble/96840165/"
          ],
          [
           1369,
           115000,
           84,
           3,
           "https://www.idealista.com/inmueble/94216838/"
          ],
          [
           1580,
           139000,
           88,
           3,
           "https://www.idealista.com/inmueble/92586590/"
          ],
          [
           1580,
           139000,
           88,
           3,
           "https://www.idealista.com/inmueble/93871189/"
          ],
          [
           1792,
           95000,
           53,
           1,
           "https://www.idealista.com/inmueble/96682955/"
          ],
          [
           2185,
           177000,
           81,
           2,
           "https://www.idealista.com/inmueble/93445966/"
          ],
          [
           1813,
           165000,
           91,
           2,
           "https://www.idealista.com/inmueble/96154132/"
          ],
          [
           1844,
           249000,
           135,
           4,
           "https://www.idealista.com/inmueble/99201759/"
          ],
          [
           2706,
           295000,
           109,
           3,
           "https://www.idealista.com/inmueble/98710367/"
          ],
          [
           1792,
           136200,
           76,
           2,
           "https://www.idealista.com/inmueble/97476165/"
          ],
          [
           1718,
           151200,
           88,
           2,
           "https://www.idealista.com/inmueble/97472541/"
          ],
          [
           2468,
           195000,
           79,
           3,
           "https://www.idealista.com/inmueble/99236708/"
          ],
          [
           3085,
           290000,
           94,
           2,
           "https://www.idealista.com/inmueble/98100108/"
          ],
          [
           1276,
           142900,
           112,
           1,
           "https://www.idealista.com/inmueble/97108803/"
          ],
          [
           2398,
           294900,
           123,
           4,
           "https://www.idealista.com/inmueble/99205281/"
          ],
          [
           2022,
           244700,
           121,
           2,
           "https://www.idealista.com/inmueble/97955466/"
          ],
          [
           2463,
           165000,
           67,
           2,
           "https://www.idealista.com/inmueble/97265370/"
          ],
          [
           1480,
           148000,
           100,
           3,
           "https://www.idealista.com/inmueble/99247839/"
          ],
          [
           2438,
           195000,
           80,
           2,
           "https://www.idealista.com/inmueble/98742152/"
          ],
          [
           1787,
           168000,
           94,
           2,
           "https://www.idealista.com/inmueble/97469143/"
          ],
          [
           2980,
           298000,
           100,
           3,
           "https://www.idealista.com/inmueble/95678120/"
          ],
          [
           2857,
           240000,
           84,
           3,
           "https://www.idealista.com/inmueble/97517843/"
          ],
          [
           1060,
           89000,
           84,
           3,
           "https://www.idealista.com/inmueble/98948219/"
          ],
          [
           1755,
           193000,
           110,
           3,
           "https://www.idealista.com/inmueble/97994482/"
          ],
          [
           1500,
           120000,
           80,
           3,
           "https://www.idealista.com/inmueble/98740773/"
          ],
          [
           2227,
           265000,
           119,
           4,
           "https://www.idealista.com/inmueble/98709412/"
          ],
          [
           2124,
           240000,
           113,
           4,
           "https://www.idealista.com/inmueble/93271418/"
          ],
          [
           1893,
           195000,
           103,
           3,
           "https://www.idealista.com/inmueble/96245916/"
          ],
          [
           1835,
           189000,
           103,
           4,
           "https://www.idealista.com/inmueble/95676152/"
          ],
          [
           3700,
           185000,
           50,
           1,
           "https://www.idealista.com/inmueble/99233394/"
          ],
          [
           2105,
           200000,
           95,
           2,
           "https://www.idealista.com/obra-nueva/96904601/"
          ],
          [
           3105,
           295000,
           95,
           3,
           "https://www.idealista.com/inmueble/98716389/"
          ],
          [
           1759,
           95000,
           54,
           1,
           "https://www.idealista.com/inmueble/92505264/"
          ],
          [
           1934,
           205000,
           106,
           1,
           "https://www.idealista.com/inmueble/99211717/"
          ],
          [
           2455,
           270000,
           110,
           4,
           "https://www.idealista.com/inmueble/97682576/"
          ],
          [
           2478,
           280000,
           113,
           5,
           "https://www.idealista.com/inmueble/93591224/"
          ],
          [
           1803,
           128000,
           71,
           3,
           "https://www.idealista.com/inmueble/99247853/"
          ],
          [
           1898,
           298000,
           157,
           3,
           "https://www.idealista.com/inmueble/99209581/"
          ],
          [
           3636,
           160000,
           44,
           1,
           "https://www.idealista.com/inmueble/96766519/"
          ],
          [
           3613,
           289000,
           80,
           2,
           "https://www.idealista.com/inmueble/83565669/"
          ],
          [
           2889,
           260000,
           90,
           2,
           "https://www.idealista.com/inmueble/98985989/"
          ],
          [
           2697,
           294000,
           109,
           3,
           "https://www.idealista.com/inmueble/97265416/"
          ],
          [
           1842,
           140000,
           76,
           2,
           "https://www.idealista.com/inmueble/98963821/"
          ],
          [
           2798,
           235000,
           84,
           1,
           "https://www.idealista.com/inmueble/92626747/"
          ],
          [
           2140,
           199000,
           93,
           3,
           "https://www.idealista.com/inmueble/97356268/"
          ],
          [
           565,
           48000,
           85,
           2,
           "https://www.idealista.com/inmueble/94451681/"
          ],
          [
           2474,
           188000,
           76,
           3,
           "https://www.idealista.com/inmueble/99096575/"
          ],
          [
           2000,
           150000,
           75,
           3,
           "https://www.idealista.com/inmueble/99005313/"
          ],
          [
           1974,
           229000,
           116,
           4,
           "https://www.idealista.com/inmueble/97151759/"
          ],
          [
           861,
           99000,
           115,
           4,
           "https://www.idealista.com/inmueble/98329761/"
          ],
          [
           1769,
           283000,
           160,
           6,
           "https://www.idealista.com/inmueble/94943486/"
          ],
          [
           2231,
           270000,
           121,
           4,
           "https://www.idealista.com/inmueble/97163289/"
          ],
          [
           1935,
           180000,
           93,
           3,
           "https://www.idealista.com/inmueble/98719448/"
          ],
          [
           1500,
           180000,
           120,
           5,
           "https://www.idealista.com/inmueble/99041337/"
          ],
          [
           2833,
           255000,
           90,
           2,
           "https://www.idealista.com/inmueble/98755434/"
          ],
          [
           2067,
           155000,
           75,
           2,
           "https://www.idealista.com/inmueble/99160914/"
          ],
          [
           2368,
           180000,
           76,
           3,
           "https://www.idealista.com/inmueble/97638269/"
          ],
          [
           3673,
           202000,
           55,
           2,
           "https://www.idealista.com/inmueble/97638268/"
          ],
          [
           2408,
           183000,
           76,
           3,
           "https://www.idealista.com/inmueble/97638266/"
          ],
          [
           1538,
           283000,
           184,
           4,
           "https://www.idealista.com/inmueble/96585322/"
          ],
          [
           2536,
           175000,
           69,
           3,
           "https://www.idealista.com/inmueble/97684978/"
          ],
          [
           2375,
           209000,
           88,
           2,
           "https://www.idealista.com/inmueble/94377135/"
          ],
          [
           2447,
           186000,
           76,
           3,
           "https://www.idealista.com/inmueble/97638276/"
          ],
          [
           2322,
           209000,
           90,
           2,
           "https://www.idealista.com/inmueble/95375036/"
          ],
          [
           2322,
           209000,
           90,
           2,
           "https://www.idealista.com/inmueble/96973168/"
          ],
          [
           2647,
           225000,
           85,
           2,
           "https://www.idealista.com/inmueble/99027121/"
          ],
          [
           2159,
           95000,
           44,
           1,
           "https://www.idealista.com/inmueble/98564812/"
          ],
          [
           2573,
           229000,
           89,
           2,
           "https://www.idealista.com/inmueble/98916646/"
          ],
          [
           1822,
           195000,
           107,
           3,
           "https://www.idealista.com/inmueble/97703375/"
          ],
          [
           1674,
           154000,
           92,
           3,
           "https://www.idealista.com/inmueble/99160806/"
          ],
          [
           2185,
           177000,
           81,
           2,
           "https://www.idealista.com/inmueble/97403097/"
          ],
          [
           3944,
           280000,
           71,
           2,
           "https://www.idealista.com/inmueble/88716292/"
          ],
          [
           2088,
           284000,
           136,
           4,
           "https://www.idealista.com/inmueble/98684964/"
          ],
          [
           1068,
           94000,
           88,
           4,
           "https://www.idealista.com/inmueble/98569854/"
          ],
          [
           2100,
           151200,
           72,
           2,
           "https://www.idealista.com/inmueble/97500353/"
          ],
          [
           3654,
           285000,
           78,
           2,
           "https://www.idealista.com/inmueble/99081869/"
          ],
          [
           2556,
           230000,
           90,
           3,
           "https://www.idealista.com/inmueble/99164019/"
          ],
          [
           2312,
           289000,
           125,
           4,
           "https://www.idealista.com/inmueble/99123668/"
          ],
          [
           1935,
           209000,
           108,
           3,
           "https://www.idealista.com/inmueble/99128473/"
          ],
          [
           1746,
           199000,
           114,
           3,
           "https://www.idealista.com/inmueble/99139342/"
          ],
          [
           2538,
           198000,
           78,
           2,
           "https://www.idealista.com/inmueble/99123555/"
          ],
          [
           2818,
           248000,
           88,
           2,
           "https://www.idealista.com/inmueble/85382212/"
          ],
          [
           2351,
           228000,
           97,
           2,
           "https://www.idealista.com/inmueble/99132029/"
          ],
          [
           2000,
           160000,
           80,
           2,
           "https://www.idealista.com/inmueble/99147440/"
          ],
          [
           3425,
           250000,
           73,
           2,
           "https://www.idealista.com/inmueble/98986790/"
          ],
          [
           2100,
           210000,
           100,
           3,
           "https://www.idealista.com/inmueble/97156872/"
          ],
          [
           1885,
           230000,
           122,
           4,
           "https://www.idealista.com/inmueble/98620512/"
          ],
          [
           2100,
           210000,
           100,
           3,
           "https://www.idealista.com/inmueble/97156872/"
          ],
          [
           1885,
           230000,
           122,
           4,
           "https://www.idealista.com/inmueble/98620512/"
          ],
          [
           2619,
           275000,
           105,
           2,
           "https://www.idealista.com/inmueble/98435384/"
          ],
          [
           2816,
           290000,
           103,
           4,
           "https://www.idealista.com/inmueble/97150849/"
          ],
          [
           1430,
           133000,
           93,
           4,
           "https://www.idealista.com/inmueble/97240200/"
          ],
          [
           1322,
           160000,
           121,
           5,
           "https://www.idealista.com/inmueble/97315253/"
          ],
          [
           2385,
           155000,
           65,
           2,
           "https://www.idealista.com/inmueble/99073781/"
          ],
          [
           2744,
           225000,
           82,
           2,
           "https://www.idealista.com/inmueble/94812497/"
          ],
          [
           1133,
           94000,
           83,
           3,
           "https://www.idealista.com/inmueble/95390311/"
          ],
          [
           1881,
           190000,
           101,
           3,
           "https://www.idealista.com/inmueble/98979137/"
          ],
          [
           2092,
           205000,
           98,
           3,
           "https://www.idealista.com/inmueble/98535812/"
          ],
          [
           1684,
           165000,
           98,
           2,
           "https://www.idealista.com/inmueble/96776257/"
          ],
          [
           1694,
           210000,
           124,
           3,
           "https://www.idealista.com/inmueble/86484656/"
          ],
          [
           1500,
           120000,
           80,
           2,
           "https://www.idealista.com/inmueble/97910734/"
          ],
          [
           2617,
           280000,
           107,
           3,
           "https://www.idealista.com/inmueble/98664584/"
          ],
          [
           2614,
           230000,
           88,
           3,
           "https://www.idealista.com/inmueble/99082282/"
          ],
          [
           2052,
           158000,
           77,
           3,
           "https://www.idealista.com/inmueble/98671311/"
          ],
          [
           2182,
           120000,
           55,
           1,
           "https://www.idealista.com/inmueble/81364267/"
          ],
          [
           2214,
           155000,
           70,
           2,
           "https://www.idealista.com/inmueble/99144901/"
          ],
          [
           1438,
           69000,
           48,
           2,
           "https://www.idealista.com/inmueble/98131098/"
          ],
          [
           2169,
           180000,
           83,
           3,
           "https://www.idealista.com/inmueble/99015179/"
          ],
          [
           2890,
           289000,
           100,
           4,
           "https://www.idealista.com/inmueble/99086389/"
          ],
          [
           4071,
           285000,
           70,
           2,
           "https://www.idealista.com/inmueble/98234220/"
          ],
          [
           2155,
           125000,
           58,
           3,
           "https://www.idealista.com/inmueble/99003161/"
          ],
          [
           2216,
           195000,
           88,
           3,
           "https://www.idealista.com/inmueble/95420683/"
          ],
          [
           2538,
           198000,
           78,
           2,
           "https://www.idealista.com/inmueble/99081642/"
          ],
          [
           1958,
           139000,
           71,
           2,
           "https://www.idealista.com/inmueble/96796286/"
          ],
          [
           3014,
           220000,
           73,
           2,
           "https://www.idealista.com/inmueble/98572455/"
          ],
          [
           2718,
           299000,
           110,
           3,
           "https://www.idealista.com/inmueble/98454769/"
          ],
          [
           2469,
           200000,
           81,
           1,
           "https://www.idealista.com/inmueble/94956621/"
          ],
          [
           1588,
           135000,
           85,
           3,
           "https://www.idealista.com/inmueble/98604471/"
          ],
          [
           1700,
           255000,
           150,
           4,
           "https://www.idealista.com/inmueble/97624605/"
          ],
          [
           2215,
           299000,
           135,
           4,
           "https://www.idealista.com/inmueble/95108694/"
          ],
          [
           2368,
           180000,
           76,
           2,
           "https://www.idealista.com/inmueble/98199627/"
          ],
          [
           2769,
           299000,
           108,
           4,
           "https://www.idealista.com/inmueble/94780688/"
          ],
          [
           2667,
           160000,
           60,
           2,
           "https://www.idealista.com/inmueble/98144344/"
          ],
          [
           1666,
           174900,
           105,
           2,
           "https://www.idealista.com/inmueble/97902075/"
          ],
          [
           2500,
           150000,
           60,
           1,
           "https://www.idealista.com/inmueble/99167732/"
          ],
          [
           3071,
           215000,
           70,
           1,
           "https://www.idealista.com/inmueble/98727615/"
          ],
          [
           3026,
           230000,
           76,
           2,
           "https://www.idealista.com/inmueble/98886910/"
          ],
          [
           2339,
           255000,
           109,
           4,
           "https://www.idealista.com/inmueble/98576722/"
          ],
          [
           2439,
           200000,
           82,
           3,
           "https://www.idealista.com/inmueble/98481039/"
          ],
          [
           2291,
           181000,
           79,
           1,
           "https://www.idealista.com/inmueble/98722820/"
          ],
          [
           2941,
           297000,
           101,
           3,
           "https://www.idealista.com/inmueble/98836323/"
          ],
          [
           2208,
           200900,
           91,
           2,
           "https://www.idealista.com/inmueble/94377537/"
          ],
          [
           1802,
           155000,
           86,
           3,
           "https://www.idealista.com/inmueble/98020353/"
          ],
          [
           1793,
           163200,
           91,
           2,
           "https://www.idealista.com/inmueble/97486317/"
          ],
          [
           7500,
           300000,
           40,
           2,
           "https://www.idealista.com/inmueble/98731661/"
          ],
          [
           1087,
           99990,
           92,
           4,
           "https://www.idealista.com/inmueble/96339597/"
          ],
          [
           1447,
           165000,
           114,
           3,
           "https://www.idealista.com/inmueble/98590286/"
          ],
          [
           2184,
           190000,
           87,
           3,
           "https://www.idealista.com/inmueble/96303150/"
          ],
          [
           1374,
           169000,
           123,
           3,
           "https://www.idealista.com/inmueble/96711482/"
          ],
          [
           2100,
           210000,
           100,
           3,
           "https://www.idealista.com/inmueble/93869962/"
          ],
          [
           458,
           65000,
           142,
           1,
           "https://www.idealista.com/inmueble/98400091/"
          ],
          [
           1707,
           210000,
           123,
           3,
           "https://www.idealista.com/inmueble/97452801/"
          ],
          [
           1600,
           160000,
           100,
           3,
           "https://www.idealista.com/inmueble/98595934/"
          ],
          [
           1222,
           110000,
           90,
           3,
           "https://www.idealista.com/inmueble/95051863/"
          ],
          [
           2529,
           177000,
           70,
           2,
           "https://www.idealista.com/inmueble/93857021/"
          ],
          [
           3800,
           190000,
           50,
           2,
           "https://www.idealista.com/inmueble/98085076/"
          ],
          [
           3649,
           135000,
           37,
           1,
           "https://www.idealista.com/inmueble/98568214/"
          ],
          [
           3273,
           180000,
           55,
           1,
           "https://www.idealista.com/inmueble/98694176/"
          ],
          [
           2833,
           170000,
           60,
           2,
           "https://www.idealista.com/inmueble/98393398/"
          ],
          [
           1534,
           135000,
           88,
           3,
           "https://www.idealista.com/inmueble/95102101/"
          ],
          [
           3137,
           298000,
           95,
           3,
           "https://www.idealista.com/inmueble/95372645/"
          ],
          [
           4400,
           220000,
           50,
           2,
           "https://www.idealista.com/inmueble/98221497/"
          ],
          [
           2086,
           146000,
           70,
           3,
           "https://www.idealista.com/inmueble/98208590/"
          ],
          [
           1435,
           155000,
           108,
           4,
           "https://www.idealista.com/inmueble/95481694/"
          ],
          [
           2458,
           295000,
           120,
           4,
           "https://www.idealista.com/inmueble/98635223/"
          ],
          [
           1402,
           150000,
           107,
           4,
           "https://www.idealista.com/inmueble/97420114/"
          ],
          [
           1410,
           110000,
           78,
           2,
           "https://www.idealista.com/inmueble/98859113/"
          ],
          [
           2986,
           215000,
           72,
           1,
           "https://www.idealista.com/inmueble/34136100/"
          ],
          [
           1250,
           120000,
           96,
           3,
           "https://www.idealista.com/inmueble/97330187/"
          ],
          [
           2469,
           79000,
           32,
           1,
           "https://www.idealista.com/inmueble/97610978/"
          ],
          [
           1453,
           215000,
           148,
           3,
           "https://www.idealista.com/inmueble/95431632/"
          ],
          [
           2814,
           242000,
           86,
           3,
           "https://www.idealista.com/inmueble/87882762/"
          ],
          [
           2429,
           170000,
           70,
           2,
           "https://www.idealista.com/inmueble/98282684/"
          ],
          [
           1236,
           110000,
           89,
           3,
           "https://www.idealista.com/inmueble/94894144/"
          ],
          [
           2407,
           260000,
           108,
           3,
           "https://www.idealista.com/inmueble/97758352/"
          ],
          [
           2600,
           169000,
           65,
           1,
           "https://www.idealista.com/inmueble/98709326/"
          ],
          [
           1068,
           94000,
           88,
           3,
           "https://www.idealista.com/inmueble/95862253/"
          ],
          [
           2656,
           170000,
           64,
           2,
           "https://www.idealista.com/inmueble/97752842/"
          ],
          [
           1910,
           210120,
           110,
           5,
           "https://www.idealista.com/inmueble/96942334/"
          ],
          [
           3291,
           181000,
           55,
           1,
           "https://www.idealista.com/inmueble/98732623/"
          ],
          [
           2874,
           250000,
           87,
           2,
           "https://www.idealista.com/inmueble/83358741/"
          ],
          [
           2727,
           300000,
           110,
           2,
           "https://www.idealista.com/inmueble/93185296/"
          ],
          [
           2325,
           223200,
           96,
           3,
           "https://www.idealista.com/inmueble/89205005/"
          ],
          [
           2014,
           145000,
           72,
           3,
           "https://www.idealista.com/inmueble/99166518/"
          ],
          [
           1122,
           92000,
           82,
           3,
           "https://www.idealista.com/inmueble/99167245/"
          ],
          [
           2908,
           247200,
           85,
           2,
           "https://www.idealista.com/inmueble/97850190/"
          ],
          [
           2031,
           195000,
           96,
           3,
           "https://www.idealista.com/inmueble/96708589/"
          ],
          [
           1935,
           120000,
           62,
           2,
           "https://www.idealista.com/inmueble/99168635/"
          ],
          [
           2273,
           200000,
           88,
           3,
           "https://www.idealista.com/inmueble/97084662/"
          ],
          [
           1536,
           215000,
           140,
           4,
           "https://www.idealista.com/inmueble/98853055/"
          ],
          [
           1639,
           118000,
           72,
           2,
           "https://www.idealista.com/inmueble/94493426/"
          ],
          [
           1250,
           135000,
           108,
           4,
           "https://www.idealista.com/inmueble/98965892/"
          ],
          [
           1961,
           200000,
           102,
           2,
           "https://www.idealista.com/inmueble/99139846/"
          ],
          [
           2227,
           265000,
           119,
           4,
           "https://www.idealista.com/inmueble/98574742/"
          ],
          [
           1169,
           90000,
           77,
           2,
           "https://www.idealista.com/inmueble/97927506/"
          ],
          [
           2549,
           244700,
           96,
           2,
           "https://www.idealista.com/inmueble/97957376/"
          ],
          [
           2378,
           195000,
           82,
           2,
           "https://www.idealista.com/inmueble/84192679/"
          ],
          [
           1379,
           80000,
           58,
           3,
           "https://www.idealista.com/inmueble/99128660/"
          ],
          [
           3560,
           178000,
           50,
           1,
           "https://www.idealista.com/inmueble/98932576/"
          ],
          [
           2162,
           160000,
           74,
           1,
           "https://www.idealista.com/inmueble/97988088/"
          ],
          [
           2134,
           175000,
           82,
           1,
           "https://www.idealista.com/inmueble/97988125/"
          ],
          [
           1678,
           181200,
           108,
           2,
           "https://www.idealista.com/inmueble/97476152/"
          ],
          [
           2529,
           220000,
           87,
           3,
           "https://www.idealista.com/inmueble/96520235/"
          ],
          [
           3526,
           275000,
           78,
           2,
           "https://www.idealista.com/inmueble/97515662/"
          ],
          [
           1800,
           160200,
           89,
           2,
           "https://www.idealista.com/inmueble/97622696/"
          ],
          [
           1678,
           181200,
           108,
           2,
           "https://www.idealista.com/inmueble/97486291/"
          ],
          [
           2278,
           223200,
           98,
           3,
           "https://www.idealista.com/inmueble/94710813/"
          ],
          [
           2090,
           140000,
           67,
           2,
           "https://www.idealista.com/inmueble/95607358/"
          ],
          [
           978,
           91000,
           93,
           3,
           "https://www.idealista.com/inmueble/96800581/"
          ],
          [
           1500,
           135000,
           90,
           3,
           "https://www.idealista.com/inmueble/98296231/"
          ],
          [
           3476,
           285000,
           82,
           2,
           "https://www.idealista.com/inmueble/98137217/"
          ],
          [
           1622,
           120000,
           74,
           3,
           "https://www.idealista.com/inmueble/96993285/"
          ],
          [
           2308,
           210000,
           91,
           4,
           "https://www.idealista.com/inmueble/97636910/"
          ],
          [
           2167,
           195000,
           90,
           4,
           "https://www.idealista.com/inmueble/95689210/"
          ],
          [
           1369,
           115000,
           84,
           3,
           "https://www.idealista.com/inmueble/98805828/"
          ],
          [
           4091,
           180000,
           44,
           1,
           "https://www.idealista.com/inmueble/98712808/"
          ],
          [
           1500,
           120000,
           80,
           3,
           "https://www.idealista.com/inmueble/98637854/"
          ],
          [
           1690,
           142000,
           84,
           3,
           "https://www.idealista.com/inmueble/96979008/"
          ],
          [
           3010,
           295000,
           98,
           1,
           "https://www.idealista.com/inmueble/95068478/"
          ],
          [
           1898,
           298000,
           157,
           3,
           "https://www.idealista.com/inmueble/93527150/"
          ],
          [
           1913,
           220000,
           115,
           3,
           "https://www.idealista.com/inmueble/97828329/"
          ],
          [
           2390,
           239000,
           100,
           3,
           "https://www.idealista.com/inmueble/98462208/"
          ],
          [
           1250,
           155000,
           124,
           4,
           "https://www.idealista.com/inmueble/95580216/"
          ],
          [
           2176,
           198000,
           91,
           2,
           "https://www.idealista.com/inmueble/95133849/"
          ],
          [
           2284,
           159900,
           70,
           2,
           "https://www.idealista.com/inmueble/97480954/"
          ],
          [
           1904,
           198000,
           104,
           2,
           "https://www.idealista.com/inmueble/98325098/"
          ],
          [
           797,
           63000,
           79,
           3,
           "https://www.idealista.com/inmueble/94760209/"
          ],
          [
           1304,
           180000,
           138,
           5,
           "https://www.idealista.com/inmueble/98624800/"
          ],
          [
           3133,
           188000,
           60,
           2,
           "https://www.idealista.com/inmueble/98208380/"
          ],
          [
           1031,
           99000,
           96,
           2,
           "https://www.idealista.com/inmueble/97502398/"
          ],
          [
           2333,
           210000,
           90,
           3,
           "https://www.idealista.com/inmueble/95462604/"
          ],
          [
           1908,
           166000,
           87,
           3,
           "https://www.idealista.com/inmueble/93700250/"
          ],
          [
           2636,
           145000,
           55,
           1,
           "https://www.idealista.com/inmueble/98740987/"
          ],
          [
           2478,
           280000,
           113,
           1,
           "https://www.idealista.com/inmueble/96142917/"
          ],
          [
           2955,
           130000,
           44,
           1,
           "https://www.idealista.com/inmueble/97770932/"
          ],
          [
           2048,
           170000,
           83,
           3,
           "https://www.idealista.com/inmueble/98792252/"
          ],
          [
           1322,
           160000,
           121,
           4,
           "https://www.idealista.com/inmueble/98969331/"
          ],
          [
           2375,
           228000,
           96,
           2,
           "https://www.idealista.com/inmueble/97467307/"
          ],
          [
           1613,
           150000,
           93,
           3,
           "https://www.idealista.com/inmueble/99144761/"
          ],
          [
           3267,
           245000,
           75,
           3,
           "https://www.idealista.com/inmueble/99173955/"
          ],
          [
           1234,
           79000,
           64,
           2,
           "https://www.idealista.com/inmueble/98661141/"
          ],
          [
           2909,
           160000,
           55,
           2,
           "https://www.idealista.com/inmueble/96668719/"
          ],
          [
           1833,
           165000,
           90,
           3,
           "https://www.idealista.com/inmueble/98477019/"
          ],
          [
           4170,
           196000,
           47,
           2,
           "https://www.idealista.com/inmueble/97955673/"
          ],
          [
           1920,
           144000,
           75,
           3,
           "https://www.idealista.com/inmueble/94997205/"
          ],
          [
           4362,
           205000,
           47,
           1,
           "https://www.idealista.com/inmueble/98922943/"
          ],
          [
           1391,
           160000,
           115,
           3,
           "https://www.idealista.com/inmueble/99233401/"
          ],
          [
           2121,
           140000,
           66,
           2,
           "https://www.idealista.com/inmueble/96493532/"
          ],
          [
           1892,
           123000,
           65,
           2,
           "https://www.idealista.com/inmueble/96590335/"
          ],
          [
           2872,
           135000,
           47,
           1,
           "https://www.idealista.com/inmueble/97033226/"
          ],
          [
           2646,
           209000,
           79,
           2,
           "https://www.idealista.com/inmueble/95955295/"
          ],
          [
           1374,
           169000,
           123,
           3,
           "https://www.idealista.com/inmueble/97303873/"
          ],
          [
           2658,
           210000,
           79,
           3,
           "https://www.idealista.com/inmueble/97341548/"
          ],
          [
           612,
           60000,
           98,
           3,
           "https://www.idealista.com/inmueble/98726184/"
          ],
          [
           4362,
           205000,
           47,
           1,
           "https://www.idealista.com/inmueble/98830701/"
          ],
          [
           1535,
           175000,
           114,
           4,
           "https://www.idealista.com/inmueble/95772605/"
          ],
          [
           1632,
           155000,
           95,
           3,
           "https://www.idealista.com/inmueble/92138763/"
          ],
          [
           1909,
           210000,
           110,
           3,
           "https://www.idealista.com/inmueble/95464801/"
          ],
          [
           2471,
           210000,
           85,
           3,
           "https://www.idealista.com/inmueble/97900700/"
          ],
          [
           2059,
           175000,
           85,
           2,
           "https://www.idealista.com/inmueble/96838264/"
          ],
          [
           2817,
           200000,
           71,
           2,
           "https://www.idealista.com/inmueble/95589133/"
          ],
          [
           3160,
           79000,
           25,
           1,
           "https://www.idealista.com/inmueble/89845163/"
          ],
          [
           2078,
           160000,
           77,
           2,
           "https://www.idealista.com/inmueble/97943232/"
          ],
          [
           1453,
           93000,
           64,
           2,
           "https://www.idealista.com/inmueble/97845045/"
          ],
          [
           3851,
           181000,
           47,
           1,
           "https://www.idealista.com/inmueble/98960265/"
          ],
          [
           1680,
           210000,
           125,
           3,
           "https://www.idealista.com/inmueble/96048970/"
          ],
          [
           1909,
           168000,
           88,
           2,
           "https://www.idealista.com/inmueble/97490855/"
          ],
          [
           1024,
           85000,
           83,
           4,
           "https://www.idealista.com/inmueble/97080486/"
          ],
          [
           2813,
           244700,
           87,
           2,
           "https://www.idealista.com/inmueble/97947483/"
          ],
          [
           2169,
           180000,
           83,
           1,
           "https://www.idealista.com/inmueble/87263811/"
          ],
          [
           3017,
           175000,
           58,
           2,
           "https://www.idealista.com/inmueble/98445704/"
          ],
          [
           1667,
           200000,
           120,
           4,
           "https://www.idealista.com/inmueble/99211884/"
          ],
          [
           2350,
           235000,
           100,
           3,
           "https://www.idealista.com/inmueble/98118366/"
          ],
          [
           2143,
           255000,
           119,
           3,
           "https://www.idealista.com/inmueble/96422541/"
          ],
          [
           3451,
           245000,
           71,
           2,
           "https://www.idealista.com/inmueble/98541301/"
          ],
          [
           2345,
           272000,
           116,
           2,
           "https://www.idealista.com/obra-nueva/98061330/"
          ],
          [
           2362,
           300000,
           127,
           3,
           "https://www.idealista.com/inmueble/95555767/"
          ],
          [
           2525,
           149000,
           59,
           1,
           "https://www.idealista.com/inmueble/99269703/"
          ],
          [
           1550,
           93000,
           60,
           3,
           "https://www.idealista.com/inmueble/99262040/"
          ],
          [
           1835,
           199990,
           109,
           3,
           "https://www.idealista.com/inmueble/93990920/"
          ],
          [
           1852,
           199990,
           108,
           4,
           "https://www.idealista.com/inmueble/94009259/"
          ],
          [
           1269,
           180253,
           142,
           4,
           "https://www.idealista.com/inmueble/98882632/"
          ],
          [
           2759,
           240000,
           87,
           3,
           "https://www.idealista.com/inmueble/99268269/"
          ],
          [
           1690,
           147000,
           87,
           3,
           "https://www.idealista.com/inmueble/97300648/"
          ],
          [
           1922,
           173000,
           90,
           3,
           "https://www.idealista.com/inmueble/99270731/"
          ],
          [
           1387,
           165000,
           119,
           1,
           "https://www.idealista.com/inmueble/99248692/"
          ],
          [
           2527,
           278000,
           110,
           3,
           "https://www.idealista.com/inmueble/98134045/"
          ],
          [
           3400,
           170000,
           50,
           0,
           "https://www.idealista.com/inmueble/99269191/"
          ],
          [
           2351,
           228000,
           97,
           2,
           "https://www.idealista.com/inmueble/97472110/"
          ],
          [
           2813,
           244700,
           87,
           2,
           "https://www.idealista.com/inmueble/97944521/"
          ],
          [
           2243,
           134600,
           60,
           1,
           "https://www.idealista.com/inmueble/96940193/"
          ],
          [
           1718,
           151200,
           88,
           2,
           "https://www.idealista.com/inmueble/97496558/"
          ],
          [
           2364,
           200900,
           85,
           2,
           "https://www.idealista.com/inmueble/97808013/"
          ],
          [
           2271,
           159000,
           70,
           2,
           "https://www.idealista.com/inmueble/99258100/"
          ],
          [
           3500,
           280000,
           80,
           2,
           "https://www.idealista.com/inmueble/98329077/"
          ],
          [
           1680,
           168000,
           100,
           4,
           "https://www.idealista.com/inmueble/96258522/"
          ],
          [
           1837,
           169000,
           92,
           3,
           "https://www.idealista.com/inmueble/98638418/"
          ],
          [
           3529,
           300000,
           85,
           2,
           "https://www.idealista.com/inmueble/98753238/"
          ],
          [
           1427,
           167000,
           117,
           3,
           "https://www.idealista.com/inmueble/99266034/"
          ],
          [
           1803,
           128000,
           71,
           3,
           "https://www.idealista.com/inmueble/99269202/"
          ],
          [
           3158,
           240000,
           76,
           3,
           "https://www.idealista.com/inmueble/99253104/"
          ],
          [
           3524,
           289000,
           82,
           2,
           "https://www.idealista.com/inmueble/98689669/"
          ],
          [
           3917,
           235000,
           60,
           1,
           "https://www.idealista.com/inmueble/99266101/"
          ],
          [
           2325,
           223200,
           96,
           3,
           "https://www.idealista.com/inmueble/89187209/"
          ],
          [
           834,
           56700,
           68,
           3,
           "https://www.idealista.com/inmueble/98889796/"
          ],
          [
           1136,
           68140,
           60,
           3,
           "https://www.idealista.com/inmueble/86571981/"
          ],
          [
           1792,
           136200,
           76,
           1,
           "https://www.idealista.com/inmueble/97484944/"
          ],
          [
           2778,
           263900,
           95,
           3,
           "https://www.idealista.com/inmueble/86497268/"
          ],
          [
           1787,
           168000,
           94,
           2,
           "https://www.idealista.com/inmueble/97499586/"
          ],
          [
           2324,
           79000,
           34,
           1,
           "https://www.idealista.com/inmueble/89831362/"
          ],
          [
           1880,
           188000,
           100,
           3,
           "https://www.idealista.com/inmueble/85000162/"
          ],
          [
           2698,
           170000,
           63,
           2,
           "https://www.idealista.com/inmueble/98329330/"
          ],
          [
           5172,
           300000,
           58,
           2,
           "https://www.idealista.com/inmueble/95749403/"
          ],
          [
           2059,
           175000,
           85,
           3,
           "https://www.idealista.com/inmueble/99211828/"
          ],
          [
           1746,
           110000,
           63,
           2,
           "https://www.idealista.com/inmueble/98547036/"
          ],
          [
           3175,
           181000,
           57,
           1,
           "https://www.idealista.com/inmueble/98730754/"
          ],
          [
           3700,
           185000,
           50,
           1,
           "https://www.idealista.com/inmueble/99256486/"
          ],
          [
           1638,
           190000,
           116,
           4,
           "https://www.idealista.com/inmueble/98347287/"
          ],
          [
           2364,
           196200,
           83,
           2,
           "https://www.idealista.com/inmueble/96185548/"
          ],
          [
           2933,
           220000,
           75,
           2,
           "https://www.idealista.com/inmueble/98923833/"
          ],
          [
           1872,
           189113,
           101,
           2,
           "https://www.idealista.com/obra-nueva/91450308/"
          ],
          [
           2372,
           230088,
           97,
           2,
           "https://www.idealista.com/obra-nueva/98968412/"
          ],
          [
           2245,
           217788,
           97,
           2,
           "https://www.idealista.com/obra-nueva/98968418/"
          ],
          [
           1943,
           242925,
           125,
           3,
           "https://www.idealista.com/obra-nueva/99085371/"
          ],
          [
           1866,
           238825,
           128,
           3,
           "https://www.idealista.com/obra-nueva/99133739/"
          ],
          [
           3391,
           295000,
           87,
           1,
           "https://www.idealista.com/obra-nueva/98637538/"
          ],
          [
           2067,
           155000,
           75,
           2,
           "https://www.idealista.com/inmueble/99163171/"
          ],
          [
           1438,
           115000,
           80,
           2,
           "https://www.idealista.com/inmueble/98885575/"
          ],
          [
           2723,
           275000,
           101,
           3,
           "https://www.idealista.com/inmueble/98795710/"
          ],
          [
           2103,
           222938,
           106,
           2,
           "https://www.idealista.com/obra-nueva/97765683/"
          ],
          [
           2334,
           240363,
           103,
           2,
           "https://www.idealista.com/obra-nueva/97765715/"
          ],
          [
           2274,
           291100,
           128,
           3,
           "https://www.idealista.com/obra-nueva/91450317/"
          ],
          [
           2369,
           194238,
           82,
           1,
           "https://www.idealista.com/obra-nueva/97765712/"
          ],
          [
           1778,
           227550,
           128,
           3,
           "https://www.idealista.com/obra-nueva/91450297/"
          ],
          [
           2090,
           267525,
           128,
           3,
           "https://www.idealista.com/obra-nueva/97591253/"
          ],
          [
           1839,
           218838,
           119,
           3,
           "https://www.idealista.com/obra-nueva/97765662/"
          ],
          [
           2014,
           203463,
           101,
           2,
           "https://www.idealista.com/obra-nueva/97765708/"
          ],
          [
           2035,
           207563,
           102,
           2,
           "https://www.idealista.com/obra-nueva/97765713/"
          ],
          [
           2088,
           171175,
           82,
           1,
           "https://www.idealista.com/obra-nueva/97389043/"
          ],
          [
           2287,
           242413,
           106,
           2,
           "https://www.idealista.com/obra-nueva/97765705/"
          ],
          [
           1919,
           203463,
           106,
           2,
           "https://www.idealista.com/obra-nueva/97765687/"
          ],
          [
           2467,
           239313,
           97,
           2,
           "https://www.idealista.com/obra-nueva/97591254/"
          ],
          [
           2338,
           282900,
           121,
           3,
           "https://www.idealista.com/obra-nueva/91450312/"
          ],
          [
           2308,
           279313,
           121,
           3,
           "https://www.idealista.com/obra-nueva/97765726/"
          ],
          [
           2177,
           209000,
           96,
           2,
           "https://www.idealista.com/obra-nueva/98960722/"
          ],
          [
           1928,
           241000,
           125,
           3,
           "https://www.idealista.com/obra-nueva/98960703/"
          ],
          [
           2000,
           228000,
           114,
           2,
           "https://www.idealista.com/inmueble/97471009/"
          ],
          [
           1979,
           190000,
           96,
           2,
           "https://www.idealista.com/obra-nueva/98960701/"
          ],
          [
           1928,
           241000,
           125,
           3,
           "https://www.idealista.com/obra-nueva/98960703/"
          ],
          [
           2000,
           228000,
           114,
           2,
           "https://www.idealista.com/inmueble/97471009/"
          ],
          [
           1922,
           248000,
           129,
           3,
           "https://www.idealista.com/obra-nueva/98960682/"
          ],
          [
           1544,
           210000,
           136,
           4,
           "https://www.idealista.com/inmueble/99233436/"
          ],
          [
           1981,
           105000,
           53,
           0,
           "https://www.idealista.com/inmueble/91991710/"
          ],
          [
           1622,
           180000,
           111,
           5,
           "https://www.idealista.com/inmueble/99142116/"
          ],
          [
           2312,
           289000,
           125,
           4,
           "https://www.idealista.com/inmueble/99081069/"
          ],
          [
           2987,
           230000,
           77,
           2,
           "https://www.idealista.com/inmueble/99076095/"
          ],
          [
           2526,
           240000,
           95,
           3,
           "https://www.idealista.com/inmueble/99138604/"
          ],
          [
           2813,
           244700,
           87,
           2,
           "https://www.idealista.com/inmueble/97941890/"
          ],
          [
           2198,
           142900,
           65,
           1,
           "https://www.idealista.com/inmueble/96951421/"
          ],
          [
           1791,
           120000,
           67,
           2,
           "https://www.idealista.com/inmueble/98974199/"
          ],
          [
           389,
           35000,
           90,
           3,
           "https://www.idealista.com/inmueble/98579735/"
          ],
          [
           3333,
           250000,
           75,
           2,
           "https://www.idealista.com/inmueble/99260920/"
          ],
          [
           1957,
           135000,
           69,
           3,
           "https://www.idealista.com/inmueble/97253167/"
          ],
          [
           663,
           230000,
           347,
           6,
           "https://www.idealista.com/inmueble/96099948/"
          ],
          [
           1176,
           120000,
           102,
           2,
           "https://www.idealista.com/inmueble/98619825/"
          ],
          [
           2292,
           220000,
           96,
           2,
           "https://www.idealista.com/obra-nueva/97888850/"
          ],
          [
           2195,
           160200,
           73,
           2,
           "https://www.idealista.com/inmueble/97471980/"
          ],
          [
           2364,
           200900,
           85,
           2,
           "https://www.idealista.com/inmueble/95089937/"
          ],
          [
           2337,
           236000,
           101,
           2,
           "https://www.idealista.com/obra-nueva/98575268/"
          ],
          [
           1739,
           193000,
           111,
           3,
           "https://www.idealista.com/inmueble/96438518/"
          ],
          [
           1690,
           218000,
           129,
           3,
           "https://www.idealista.com/obra-nueva/98575296/"
          ],
          [
           2317,
           285000,
           123,
           2,
           "https://www.idealista.com/obra-nueva/96264314/"
          ],
          [
           2240,
           168000,
           75,
           2,
           "https://www.idealista.com/inmueble/97471986/"
          ],
          [
           2244,
           163800,
           73,
           2,
           "https://www.idealista.com/inmueble/97471982/"
          ],
          [
           2107,
           181200,
           86,
           2,
           "https://www.idealista.com/inmueble/97471990/"
          ],
          [
           2205,
           163200,
           74,
           2,
           "https://www.idealista.com/inmueble/97471984/"
          ],
          [
           2021,
           194000,
           96,
           2,
           "https://www.idealista.com/obra-nueva/97255829/"
          ],
          [
           1572,
           283000,
           180,
           6,
           "https://www.idealista.com/inmueble/97012042/"
          ],
          [
           1964,
           273000,
           139,
           3,
           "https://www.idealista.com/obra-nueva/98961266/"
          ],
          [
           2625,
           210000,
           80,
           2,
           "https://www.idealista.com/inmueble/88063962/"
          ],
          [
           2100,
           210000,
           100,
           3,
           "https://www.idealista.com/inmueble/97035718/"
          ],
          [
           1461,
           130000,
           89,
           2,
           "https://www.idealista.com/inmueble/81753313/"
          ],
          [
           2063,
           165000,
           80,
           3,
           "https://www.idealista.com/inmueble/98048716/"
          ],
          [
           1797,
           133000,
           74,
           4,
           "https://www.idealista.com/inmueble/98535612/"
          ],
          [
           1729,
           185000,
           107,
           3,
           "https://www.idealista.com/inmueble/99204848/"
          ],
          [
           1988,
           165000,
           83,
           2,
           "https://www.idealista.com/inmueble/97761526/"
          ],
          [
           3010,
           298000,
           99,
           3,
           "https://www.idealista.com/inmueble/97330433/"
          ],
          [
           1530,
           283000,
           185,
           6,
           "https://www.idealista.com/inmueble/83651355/"
          ],
          [
           1190,
           125000,
           105,
           3,
           "https://www.idealista.com/inmueble/97111729/"
          ],
          [
           1277,
           129000,
           101,
           4,
           "https://www.idealista.com/inmueble/82276988/"
          ],
          [
           1694,
           210000,
           124,
           4,
           "https://www.idealista.com/inmueble/81752587/"
          ],
          [
           2222,
           200000,
           90,
           2,
           "https://www.idealista.com/inmueble/98371003/"
          ],
          [
           3846,
           250000,
           65,
           2,
           "https://www.idealista.com/inmueble/98873667/"
          ],
          [
           1881,
           190000,
           101,
           3,
           "https://www.idealista.com/inmueble/95969022/"
          ],
          [
           2154,
           140000,
           65,
           2,
           "https://www.idealista.com/inmueble/96697517/"
          ],
          [
           2619,
           162367,
           62,
           2,
           "https://www.idealista.com/obra-nueva/98812050/"
          ],
          [
           3736,
           194270,
           52,
           1,
           "https://www.idealista.com/obra-nueva/98812149/"
          ]
         ],
         "hovertemplate": "<b>%{hovertext}</b><br><br>rooms=%{customdata[3]}<br>latitude=%{lat}<br>longitude=%{lon}<br>priceByArea=%{marker.color}<br>price=%{customdata[1]}<br>size=%{customdata[2]}<br>url=%{customdata[4]}<extra></extra>",
         "hovertext": [
          1095,
          1224,
          1547,
          1789,
          1333,
          1382,
          1429,
          1790,
          1875,
          1833,
          1728,
          1923,
          1987,
          2130,
          1875,
          1594,
          2931,
          1800,
          2453,
          3146,
          1505,
          3225,
          3225,
          3225,
          1014,
          1445,
          3686,
          3289,
          1299,
          2063,
          2580,
          1421,
          1322,
          1800,
          1731,
          1455,
          2018,
          2363,
          1765,
          1667,
          3571,
          1769,
          1923,
          1684,
          2018,
          1800,
          2586,
          1618,
          1428,
          2253,
          3333,
          2143,
          2143,
          2132,
          3431,
          1527,
          2816,
          3889,
          2477,
          2723,
          2616,
          1961,
          3431,
          1767,
          1959,
          1767,
          2163,
          2636,
          2816,
          3431,
          2935,
          1767,
          1527,
          2242,
          2935,
          2723,
          2723,
          1610,
          1429,
          1610,
          2935,
          2723,
          1378,
          1767,
          1610,
          2837,
          1530,
          2671,
          3390,
          1525,
          2223,
          1588,
          3117,
          1126,
          2977,
          2832,
          1674,
          3181,
          1711,
          1674,
          1674,
          2223,
          3016,
          1571,
          1357,
          1523,
          2987,
          1630,
          1571,
          3564,
          1674,
          2037,
          1571,
          1571,
          1541,
          1855,
          2421,
          1340,
          1058,
          4483,
          1588,
          2718,
          2273,
          2743,
          2990,
          1929,
          2095,
          2500,
          1882,
          1423,
          2670,
          1746,
          1578,
          2095,
          2500,
          1935,
          1786,
          1823,
          2756,
          2095,
          1938,
          2348,
          1948,
          2352,
          1875,
          1722,
          2596,
          1722,
          1442,
          1767,
          1862,
          2105,
          2143,
          1419,
          2095,
          1778,
          1960,
          2333,
          2095,
          3114,
          2163,
          3114,
          2065,
          4100,
          3114,
          1992,
          1960,
          3114,
          2078,
          1983,
          2563,
          3308,
          2563,
          3114,
          2964,
          1913,
          2921,
          1855,
          1913,
          1833,
          1791,
          2820,
          2564,
          1729,
          2697,
          2155,
          2432,
          2552,
          1934,
          2291,
          2706,
          1980,
          1845,
          1797,
          2923,
          2235,
          2892,
          2968,
          2067,
          2203,
          2390,
          2538,
          1833,
          3273,
          3816,
          1527,
          3944,
          1439,
          1250,
          2185,
          2182,
          1633,
          1896,
          2560,
          3134,
          1839,
          1690,
          1526,
          2390,
          2538,
          2312,
          2462,
          2429,
          1762,
          2500,
          3333,
          2225,
          2813,
          1781,
          1338,
          1731,
          2026,
          2600,
          2317,
          1484,
          2653,
          2024,
          1714,
          1471,
          1742,
          1603,
          2358,
          1857,
          2020,
          3271,
          2018,
          3258,
          2397,
          2932,
          2682,
          2636,
          1278,
          3273,
          1150,
          1870,
          3051,
          3393,
          1833,
          3010,
          1742,
          5455,
          1842,
          1572,
          2176,
          1400,
          3857,
          1987,
          1542,
          1987,
          2000,
          2737,
          2500,
          1385,
          3049,
          2737,
          2409,
          1277,
          2873,
          1250,
          1125,
          2709,
          1714,
          2527,
          1803,
          1934,
          1572,
          1277,
          1290,
          1797,
          2813,
          2471,
          2563,
          2540,
          1662,
          2263,
          1965,
          2016,
          2706,
          1934,
          2500,
          2010,
          2265,
          1965,
          2500,
          2563,
          2471,
          2540,
          1842,
          2538,
          1875,
          1885,
          1758,
          2766,
          2169,
          1369,
          1580,
          1580,
          1792,
          2185,
          1813,
          1844,
          2706,
          1792,
          1718,
          2468,
          3085,
          1276,
          2398,
          2022,
          2463,
          1480,
          2438,
          1787,
          2980,
          2857,
          1060,
          1755,
          1500,
          2227,
          2124,
          1893,
          1835,
          3700,
          2105,
          3105,
          1759,
          1934,
          2455,
          2478,
          1803,
          1898,
          3636,
          3613,
          2889,
          2697,
          1842,
          2798,
          2140,
          565,
          2474,
          2000,
          1974,
          861,
          1769,
          2231,
          1935,
          1500,
          2833,
          2067,
          2368,
          3673,
          2408,
          1538,
          2536,
          2375,
          2447,
          2322,
          2322,
          2647,
          2159,
          2573,
          1822,
          1674,
          2185,
          3944,
          2088,
          1068,
          2100,
          3654,
          2556,
          2312,
          1935,
          1746,
          2538,
          2818,
          2351,
          2000,
          3425,
          2100,
          1885,
          2100,
          1885,
          2619,
          2816,
          1430,
          1322,
          2385,
          2744,
          1133,
          1881,
          2092,
          1684,
          1694,
          1500,
          2617,
          2614,
          2052,
          2182,
          2214,
          1438,
          2169,
          2890,
          4071,
          2155,
          2216,
          2538,
          1958,
          3014,
          2718,
          2469,
          1588,
          1700,
          2215,
          2368,
          2769,
          2667,
          1666,
          2500,
          3071,
          3026,
          2339,
          2439,
          2291,
          2941,
          2208,
          1802,
          1793,
          7500,
          1087,
          1447,
          2184,
          1374,
          2100,
          458,
          1707,
          1600,
          1222,
          2529,
          3800,
          3649,
          3273,
          2833,
          1534,
          3137,
          4400,
          2086,
          1435,
          2458,
          1402,
          1410,
          2986,
          1250,
          2469,
          1453,
          2814,
          2429,
          1236,
          2407,
          2600,
          1068,
          2656,
          1910,
          3291,
          2874,
          2727,
          2325,
          2014,
          1122,
          2908,
          2031,
          1935,
          2273,
          1536,
          1639,
          1250,
          1961,
          2227,
          1169,
          2549,
          2378,
          1379,
          3560,
          2162,
          2134,
          1678,
          2529,
          3526,
          1800,
          1678,
          2278,
          2090,
          978,
          1500,
          3476,
          1622,
          2308,
          2167,
          1369,
          4091,
          1500,
          1690,
          3010,
          1898,
          1913,
          2390,
          1250,
          2176,
          2284,
          1904,
          797,
          1304,
          3133,
          1031,
          2333,
          1908,
          2636,
          2478,
          2955,
          2048,
          1322,
          2375,
          1613,
          3267,
          1234,
          2909,
          1833,
          4170,
          1920,
          4362,
          1391,
          2121,
          1892,
          2872,
          2646,
          1374,
          2658,
          612,
          4362,
          1535,
          1632,
          1909,
          2471,
          2059,
          2817,
          3160,
          2078,
          1453,
          3851,
          1680,
          1909,
          1024,
          2813,
          2169,
          3017,
          1667,
          2350,
          2143,
          3451,
          2345,
          2362,
          2525,
          1550,
          1835,
          1852,
          1269,
          2759,
          1690,
          1922,
          1387,
          2527,
          3400,
          2351,
          2813,
          2243,
          1718,
          2364,
          2271,
          3500,
          1680,
          1837,
          3529,
          1427,
          1803,
          3158,
          3524,
          3917,
          2325,
          834,
          1136,
          1792,
          2778,
          1787,
          2324,
          1880,
          2698,
          5172,
          2059,
          1746,
          3175,
          3700,
          1638,
          2364,
          2933,
          1872,
          2372,
          2245,
          1943,
          1866,
          3391,
          2067,
          1438,
          2723,
          2103,
          2334,
          2274,
          2369,
          1778,
          2090,
          1839,
          2014,
          2035,
          2088,
          2287,
          1919,
          2467,
          2338,
          2308,
          2177,
          1928,
          2000,
          1979,
          1928,
          2000,
          1922,
          1544,
          1981,
          1622,
          2312,
          2987,
          2526,
          2813,
          2198,
          1791,
          389,
          3333,
          1957,
          663,
          1176,
          2292,
          2195,
          2364,
          2337,
          1739,
          1690,
          2317,
          2240,
          2244,
          2107,
          2205,
          2021,
          1572,
          1964,
          2625,
          2100,
          1461,
          2063,
          1797,
          1729,
          1988,
          3010,
          1530,
          1190,
          1277,
          1694,
          2222,
          3846,
          1881,
          2154,
          2619,
          3736
         ],
         "lat": [
          43.367347,
          43.366747,
          43.3501046,
          43.351287,
          43.3816913,
          43.3551979,
          43.3524925,
          43.3421674,
          43.3594232,
          43.3529078,
          43.3515985,
          43.3457258,
          43.3762123,
          43.3806695,
          43.3437258,
          43.3799486,
          43.3543964,
          43.3541565,
          43.3546012,
          43.3347301,
          43.3582045,
          43.3355981,
          43.3375981,
          43.3365301,
          43.3426653,
          43.354613,
          43.3362981,
          43.365077,
          43.3530857,
          43.3563012,
          43.3383981,
          43.3520253,
          43.3791029,
          43.3457258,
          43.3457258,
          43.3537291,
          43.3686194,
          43.374087,
          43.3606056,
          43.3467258,
          43.3699715,
          43.3658194,
          43.3437258,
          43.3531248,
          43.3692194,
          43.3457258,
          43.3586056,
          43.3527302,
          43.3520587,
          43.3542933,
          43.3724927,
          43.3612056,
          43.3622936,
          43.3536758,
          43.353753,
          43.3534925,
          43.3575944,
          43.354053,
          43.3558944,
          43.3550944,
          43.3572944,
          43.3815317,
          43.352453,
          43.3524278,
          43.3525889,
          43.3524278,
          43.3620904,
          43.3611252,
          43.3560621,
          43.354353,
          43.3549944,
          43.3524278,
          43.3536925,
          43.3810696,
          43.3549621,
          43.3527621,
          43.3542944,
          43.3513278,
          43.3542925,
          43.3510692,
          43.3557944,
          43.3547944,
          43.364034,
          43.3516278,
          43.352359,
          43.3385868,
          43.3386758,
          43.3427448,
          43.3397646,
          43.3638315,
          43.3556868,
          43.3654037,
          43.3422899,
          43.3584232,
          43.3405646,
          43.3556679,
          43.3635037,
          43.3543315,
          43.3635037,
          43.3644037,
          43.3652037,
          43.355093,
          43.3401448,
          43.3644037,
          43.351517,
          43.3627158,
          43.3622044,
          43.3622377,
          43.3635037,
          43.3420646,
          43.3616037,
          43.351417,
          43.3623037,
          43.3619455,
          43.3796351,
          43.3648037,
          43.3598734,
          43.3419325,
          43.3534722,
          43.3759022,
          43.3621037,
          43.342112,
          43.3660896,
          43.341212,
          43.342112,
          43.3461222,
          43.338118,
          43.3683896,
          43.3644383,
          43.3638002,
          43.339612,
          43.3606093,
          43.3532173,
          43.3363616,
          43.337718,
          43.3618955,
          43.3508925,
          43.3530573,
          43.3794491,
          43.340018,
          43.3361902,
          43.338118,
          43.3653896,
          43.3557944,
          43.3541566,
          43.3540597,
          43.3483747,
          43.3533982,
          43.3445154,
          43.3637383,
          43.3478129,
          43.3533223,
          43.3680896,
          43.3488371,
          43.338318,
          43.352345,
          43.3577889,
          43.3752824,
          43.362135,
          43.3553944,
          43.3625851,
          43.3541944,
          43.3594019,
          43.3557346,
          43.3556275,
          43.3532598,
          43.3605166,
          43.3557944,
          43.3523546,
          43.3626805,
          43.3554621,
          43.3772082,
          43.3545944,
          43.3571944,
          43.3747824,
          43.3401441,
          43.3561787,
          43.3683194,
          43.3400848,
          43.3569621,
          43.3586585,
          43.3403868,
          43.3728516,
          43.3400151,
          43.3803633,
          43.3404279,
          43.3557944,
          43.3808712,
          43.3351301,
          43.3614301,
          43.3603593,
          43.3555919,
          43.3599258,
          43.352723,
          43.3527351,
          43.3525351,
          43.3706142,
          43.3576465,
          43.3741963,
          43.35048,
          43.375249,
          43.3384648,
          43.3569621,
          43.3693677,
          43.3662747,
          43.3529925,
          43.3711403,
          43.3522182,
          43.3604702,
          43.3786403,
          43.3594866,
          43.3635315,
          43.355751,
          43.3775157,
          43.3745775,
          43.3632627,
          43.3604507,
          43.3619397,
          43.3605166,
          43.3390648,
          43.3422039,
          43.377565,
          43.3585852,
          43.3546308,
          43.3352846,
          43.33978,
          43.3615908,
          43.3359846,
          43.3520539,
          43.3542445,
          43.3498655,
          43.3637258,
          43.3487132,
          43.3608334,
          43.340197,
          43.355238,
          43.3612405,
          43.3508107,
          43.3514002,
          43.3617159,
          43.3514925,
          43.3550929,
          43.3546574,
          43.3529042,
          43.3733359,
          43.3685851,
          43.3797513,
          43.3816086,
          43.3555614,
          43.3623045,
          43.3707376,
          43.3395795,
          43.3682376,
          43.3509946,
          43.3629462,
          43.3748784,
          43.3802453,
          43.3549552,
          43.367664,
          43.3566928,
          43.3713041,
          43.3451406,
          43.379355,
          43.3536823,
          43.358247,
          43.3559078,
          43.3666181,
          43.3549552,
          43.3681382,
          43.33973,
          43.3357846,
          43.3357846,
          43.3686653,
          43.3657882,
          43.3347846,
          43.3386748,
          43.3395137,
          43.3763456,
          43.3530455,
          43.3597071,
          43.3820447,
          43.3592585,
          43.3542165,
          43.3551165,
          43.334658,
          43.378555,
          43.3398633,
          43.3411328,
          43.342694,
          43.3373846,
          43.3375846,
          43.3374846,
          43.3371846,
          43.3561165,
          43.346611,
          43.3458399,
          43.3458399,
          43.3604593,
          43.3458399,
          43.3732744,
          43.3617026,
          43.3713413,
          43.3537404,
          43.3732744,
          43.3384846,
          43.3360846,
          43.3353846,
          43.3455454,
          43.3367648,
          43.3612635,
          43.343359,
          43.337919,
          43.3635739,
          43.3544509,
          43.3420705,
          43.3574521,
          43.3600855,
          43.3614287,
          43.3794403,
          43.3455626,
          43.3601084,
          43.3610593,
          43.348511,
          43.346611,
          43.3547271,
          43.3598339,
          43.3582811,
          43.3771369,
          43.3605893,
          43.3751916,
          43.3491644,
          43.3621831,
          43.3470776,
          43.3689199,
          43.3704142,
          43.3609164,
          43.3653546,
          43.3608821,
          43.3518692,
          43.3572297,
          43.3590992,
          43.3603734,
          43.3605772,
          43.3597898,
          43.3633765,
          43.3598947,
          43.357484,
          43.36078,
          43.3578659,
          43.356829,
          43.3744244,
          43.37961,
          43.3740244,
          43.3366879,
          43.3591,
          43.3421406,
          43.3726424,
          43.3530345,
          43.3459191,
          43.3541795,
          43.3634573,
          43.3604728,
          43.3578078,
          43.378555,
          43.3585539,
          43.3632489,
          43.3438931,
          43.3503251,
          43.3625258,
          43.3539237,
          43.3539237,
          43.3539237,
          43.377755,
          43.3539237,
          43.3435261,
          43.3539237,
          43.34287,
          43.3405798,
          43.3639831,
          43.3591373,
          43.3531315,
          43.3585077,
          43.3635037,
          43.3795403,
          43.3693442,
          43.3583195,
          43.3542737,
          43.346711,
          43.33786,
          43.3832747,
          43.3404039,
          43.3514335,
          43.3612093,
          43.3359648,
          43.3774371,
          43.38053,
          43.368999,
          43.3655277,
          43.3610012,
          43.342639,
          43.3610012,
          43.342639,
          43.3415419,
          43.3745487,
          43.34621,
          43.3764146,
          43.3719778,
          43.3540437,
          43.3549357,
          43.3528866,
          43.3544403,
          43.3795112,
          43.3588664,
          43.3545137,
          43.3529188,
          43.36331,
          43.35755,
          43.3471144,
          43.3625258,
          43.3577666,
          43.3795853,
          43.3417039,
          43.3722409,
          43.3775811,
          43.3571875,
          43.3358648,
          43.375829,
          43.3757825,
          43.3621327,
          43.3710939,
          43.34034,
          43.3615405,
          43.3584647,
          43.3812286,
          43.3652115,
          43.3654627,
          43.3538933,
          43.3374648,
          43.3608072,
          43.3372755,
          43.356403,
          43.3599416,
          43.3622301,
          43.3587287,
          43.3521139,
          43.3791778,
          43.348111,
          43.3385252,
          43.3550804,
          43.3617263,
          43.3538875,
          43.3613159,
          43.3610012,
          43.3545217,
          43.3601283,
          43.3559652,
          43.3599825,
          43.3785403,
          43.3782453,
          43.3621362,
          43.3707376,
          43.3559991,
          43.3644284,
          43.3655093,
          43.3690604,
          43.3518802,
          43.3520188,
          43.3373817,
          43.3612815,
          43.3648329,
          43.3615072,
          43.3796372,
          43.3509404,
          43.3478577,
          43.3703512,
          43.3330776,
          43.3623725,
          43.3472735,
          43.3776377,
          43.3522737,
          43.3570991,
          43.3537874,
          43.3602301,
          43.3613346,
          43.366677,
          43.3748963,
          43.3813187,
          43.359264,
          43.36987,
          43.3597288,
          43.3634215,
          43.3565875,
          43.3597381,
          43.3537872,
          43.3633705,
          43.3811317,
          43.3521616,
          43.3558783,
          43.3628301,
          43.3775015,
          43.3641533,
          43.373987,
          43.3600334,
          43.3604334,
          43.3480627,
          43.3557875,
          43.3677388,
          43.3483138,
          43.3474627,
          43.3724963,
          43.3572955,
          43.3643295,
          43.3615587,
          43.3728409,
          43.3379156,
          43.3605682,
          43.3550878,
          43.3570852,
          43.3686053,
          43.3395994,
          43.3613226,
          43.3717275,
          43.3752161,
          43.3574271,
          43.3583166,
          43.3602083,
          43.3799313,
          43.339918,
          43.3389676,
          43.3482675,
          43.3375935,
          43.352636,
          43.3532258,
          43.3625012,
          43.3612759,
          43.3710376,
          43.3712366,
          43.3421712,
          43.3617759,
          43.3518303,
          43.38183,
          43.3603822,
          43.3471426,
          43.3585823,
          43.3659627,
          43.3521662,
          43.3728766,
          43.3607332,
          43.364232,
          43.3513653,
          43.3445406,
          43.3657592,
          43.35473,
          43.3427798,
          43.3589159,
          43.3630012,
          43.3335198,
          43.364232,
          43.351198,
          43.3659382,
          43.3619885,
          43.3589283,
          43.3607435,
          43.3759873,
          43.3515867,
          43.3672122,
          43.3546832,
          43.3633301,
          43.3584488,
          43.3475776,
          43.3626711,
          43.3599301,
          43.3585081,
          43.3509735,
          43.342804,
          43.3572403,
          43.3534868,
          43.3709747,
          43.3559309,
          43.3814247,
          43.369686,
          43.3624299,
          43.3596486,
          43.3580874,
          43.3524829,
          43.3611014,
          43.3807893,
          43.3778372,
          43.3773547,
          43.3511176,
          43.339375,
          43.38113,
          43.3614301,
          43.3600811,
          43.3463138,
          43.3533139,
          43.3572783,
          43.3683365,
          43.3725947,
          43.3588344,
          43.3698118,
          43.379178,
          43.3549947,
          43.352833,
          43.3726041,
          43.3686541,
          43.3741963,
          43.3484473,
          43.3543529,
          43.3464627,
          43.3557944,
          43.3463776,
          43.3521867,
          43.33831,
          43.3555852,
          43.3738041,
          43.3482129,
          43.3579852,
          43.3614301,
          43.359309,
          43.3621717,
          43.35168,
          43.3726033,
          43.3458399,
          43.3458399,
          43.3458399,
          43.3458399,
          43.3458399,
          43.3534733,
          43.3613258,
          43.3383949,
          43.3714611,
          43.3458399,
          43.3458399,
          43.3450901,
          43.3458399,
          43.3450901,
          43.3458399,
          43.3458399,
          43.3458399,
          43.3458399,
          43.3458399,
          43.3458399,
          43.3458399,
          43.3458399,
          43.3450901,
          43.3458399,
          43.3352237,
          43.3352237,
          43.38113,
          43.3352237,
          43.3352237,
          43.38113,
          43.3352237,
          43.3594072,
          43.337368,
          43.3432598,
          43.3421039,
          43.3622044,
          43.354733,
          43.3614301,
          43.3600811,
          43.359022,
          43.359342,
          43.3704715,
          43.3546342,
          43.3441254,
          43.3411328,
          43.3352237,
          43.3463138,
          43.3533139,
          43.3352237,
          43.3640263,
          43.3352237,
          43.3403294,
          43.3463776,
          43.3463776,
          43.346611,
          43.346611,
          43.3352237,
          43.377355,
          43.3597898,
          43.36727,
          43.3629012,
          43.3589453,
          43.3545662,
          43.34791,
          43.3554303,
          43.3538223,
          43.3679093,
          43.3797673,
          43.3547653,
          43.3580406,
          43.3592664,
          43.3728011,
          43.3656277,
          43.3570875,
          43.3341491,
          43.3472921,
          43.3472921
         ],
         "legendgroup": "",
         "lon": [
          -8.42026,
          -8.42036,
          -8.3987506,
          -8.3902033,
          -8.4012427,
          -8.4114619,
          -8.3894424,
          -8.4110533,
          -8.4108578,
          -8.4140915,
          -8.409969,
          -8.4109434,
          -8.4017758,
          -8.4002011,
          -8.4099434,
          -8.4016728,
          -8.4078676,
          -8.3954886,
          -8.4119756,
          -8.3787958,
          -8.41267,
          -8.3758425,
          -8.3763425,
          -8.3774958,
          -8.3970583,
          -8.4103206,
          -8.3781425,
          -8.4229986,
          -8.3964819,
          -8.4108756,
          -8.3778425,
          -8.4164167,
          -8.4009792,
          -8.4125434,
          -8.4109434,
          -8.3985264,
          -8.4234971,
          -8.3957152,
          -8.4170226,
          -8.4127434,
          -8.3912179,
          -8.4227971,
          -8.4091434,
          -8.4083487,
          -8.4229971,
          -8.4109434,
          -8.4186226,
          -8.4105464,
          -8.410171,
          -8.4128806,
          -8.3923471,
          -8.4194226,
          -8.4166942,
          -8.3988153,
          -8.413774,
          -8.3913424,
          -8.4162095,
          -8.416074,
          -8.4170095,
          -8.4176095,
          -8.4177095,
          -8.4020016,
          -8.416474,
          -8.4047118,
          -8.3935177,
          -8.4047118,
          -8.4210568,
          -8.4244527,
          -8.4148865,
          -8.415774,
          -8.4158095,
          -8.4047118,
          -8.3912424,
          -8.4060581,
          -8.4164865,
          -8.4154865,
          -8.4170095,
          -8.4052118,
          -8.3888424,
          -8.403791,
          -8.4146095,
          -8.4156095,
          -8.4241411,
          -8.4043118,
          -8.4021348,
          -8.4067473,
          -8.3767483,
          -8.404166,
          -8.4043652,
          -8.4190398,
          -8.3937741,
          -8.4229853,
          -8.4050065,
          -8.4190006,
          -8.4033652,
          -8.4101699,
          -8.4211853,
          -8.3957353,
          -8.4216853,
          -8.4230853,
          -8.4226853,
          -8.3932228,
          -8.403366,
          -8.4231853,
          -8.4131324,
          -8.420528,
          -8.4200737,
          -8.4234708,
          -8.4211853,
          -8.4049652,
          -8.4229853,
          -8.403039,
          -8.4212853,
          -8.4218973,
          -8.4057375,
          -8.4219853,
          -8.4090211,
          -8.4155997,
          -8.397286,
          -8.396963,
          -8.4206853,
          -8.404948,
          -8.4209418,
          -8.405148,
          -8.402748,
          -8.4072304,
          -8.374476,
          -8.4241418,
          -8.4188641,
          -8.4223777,
          -8.402148,
          -8.4071353,
          -8.390749,
          -8.3750727,
          -8.377276,
          -8.4168952,
          -8.3908624,
          -8.3969752,
          -8.4023082,
          -8.373576,
          -8.3739162,
          -8.375576,
          -8.4236418,
          -8.4158095,
          -8.3904714,
          -8.4117821,
          -8.4056377,
          -8.4118824,
          -8.3986339,
          -8.4206641,
          -8.4005456,
          -8.4088286,
          -8.4209418,
          -8.4457856,
          -8.376476,
          -8.4077917,
          -8.4080544,
          -8.4277824,
          -8.420742,
          -8.4153095,
          -8.4215482,
          -8.4173095,
          -8.4108204,
          -8.4136963,
          -8.4159098,
          -8.4081941,
          -8.4057367,
          -8.4158095,
          -8.4109572,
          -8.4213659,
          -8.4150865,
          -8.3999431,
          -8.4148095,
          -8.4176095,
          -8.4275824,
          -8.4196301,
          -8.404935,
          -8.4251971,
          -8.4212147,
          -8.4102581,
          -8.4240224,
          -8.4054473,
          -8.4304542,
          -8.3916822,
          -8.4084222,
          -8.4045445,
          -8.4158095,
          -8.4027034,
          -8.3793958,
          -8.4148734,
          -8.4094491,
          -8.3987622,
          -8.421271,
          -8.3902367,
          -8.3962731,
          -8.3942731,
          -8.4038963,
          -8.4016045,
          -8.4243048,
          -8.38993,
          -8.4299647,
          -8.4119046,
          -8.4136581,
          -8.4035874,
          -8.4162029,
          -8.3883424,
          -8.417269,
          -8.4127902,
          -8.4204357,
          -8.4023793,
          -8.4176019,
          -8.4220398,
          -8.3975751,
          -8.3980797,
          -8.3952764,
          -8.4194001,
          -8.425834,
          -8.4157331,
          -8.4077367,
          -8.4092046,
          -8.4136527,
          -8.3974992,
          -8.4105471,
          -8.3928262,
          -8.4075257,
          -8.4016,
          -8.4175809,
          -8.4074257,
          -8.4086911,
          -8.3954447,
          -8.4156317,
          -8.4253671,
          -8.405719,
          -8.4106783,
          -8.4142058,
          -8.3995263,
          -8.4073062,
          -8.4046994,
          -8.3975247,
          -8.4250344,
          -8.3892424,
          -8.3979579,
          -8.4024546,
          -8.3958421,
          -8.4317454,
          -8.4212175,
          -8.4044812,
          -8.3975639,
          -8.3984487,
          -8.4113483,
          -8.4052197,
          -8.3745693,
          -8.4054197,
          -8.3885633,
          -8.4178781,
          -8.4269956,
          -8.4019825,
          -8.39733,
          -8.4102518,
          -8.4180583,
          -8.4186913,
          -8.3985717,
          -8.4089042,
          -8.4135189,
          -8.4126044,
          -8.4146992,
          -8.432691,
          -8.39863,
          -8.4334954,
          -8.4077899,
          -8.4113257,
          -8.4112257,
          -8.433695,
          -8.4262792,
          -8.4080257,
          -8.4067975,
          -8.397502,
          -8.3981805,
          -8.4072333,
          -8.4192365,
          -8.3981719,
          -8.4118688,
          -8.3983717,
          -8.4032527,
          -8.3806994,
          -8.4069042,
          -8.397276,
          -8.3959195,
          -8.394631,
          -8.4074257,
          -8.4098257,
          -8.4100257,
          -8.4109257,
          -8.4024527,
          -8.4173387,
          -8.3982663,
          -8.3982663,
          -8.4079491,
          -8.3982663,
          -8.4005285,
          -8.4095774,
          -8.4034976,
          -8.3997127,
          -8.4005285,
          -8.4087257,
          -8.4084257,
          -8.4090257,
          -8.3938214,
          -8.4110046,
          -8.4090211,
          -8.3946443,
          -8.3888388,
          -8.4099374,
          -8.3949136,
          -8.4155587,
          -8.419228,
          -8.419606,
          -8.4171156,
          -8.3985793,
          -8.399635,
          -8.4179368,
          -8.4086491,
          -8.4189387,
          -8.4166387,
          -8.3961959,
          -8.4139174,
          -8.4168874,
          -8.4326654,
          -8.4159128,
          -8.3385366,
          -8.395458,
          -8.4200577,
          -8.4176099,
          -8.412201,
          -8.4007963,
          -8.4173491,
          -8.4208432,
          -8.417814,
          -8.4088129,
          -8.4011247,
          -8.4082352,
          -8.4248227,
          -8.4050784,
          -8.414492,
          -8.4106212,
          -8.4181086,
          -8.4063376,
          -8.422,
          -8.4038963,
          -8.401727,
          -8.4041995,
          -8.40117,
          -8.4187183,
          -8.3762289,
          -8.408542,
          -8.3978717,
          -8.4200855,
          -8.3932341,
          -8.3922309,
          -8.4144002,
          -8.4177584,
          -8.40746,
          -8.4158992,
          -8.4069042,
          -8.4177635,
          -8.4217781,
          -8.4019505,
          -8.4174661,
          -8.422471,
          -8.4124899,
          -8.4124899,
          -8.4124899,
          -8.4050042,
          -8.4124899,
          -8.4033221,
          -8.4124899,
          -8.4056,
          -8.404061,
          -8.4192577,
          -8.4187566,
          -8.3945353,
          -8.4105059,
          -8.4211853,
          -8.3994793,
          -8.4177082,
          -8.4035521,
          -8.3953593,
          -8.4166387,
          -8.37292,
          -8.4017262,
          -8.4100527,
          -8.3879312,
          -8.4067353,
          -8.4116046,
          -8.4013125,
          -8.4043699,
          -8.4303908,
          -8.4114623,
          -8.4074838,
          -8.3948056,
          -8.4074838,
          -8.3948056,
          -8.3875123,
          -8.3978376,
          -8.40969,
          -8.4014189,
          -8.4012259,
          -8.4004572,
          -8.3934744,
          -8.3934164,
          -8.3967539,
          -8.4038033,
          -8.4134325,
          -8.4001476,
          -8.3966361,
          -8.41051,
          -8.40545,
          -8.41648,
          -8.423071,
          -8.4143414,
          -8.404025,
          -8.4138527,
          -8.4035339,
          -8.3959578,
          -8.4037274,
          -8.4112046,
          -8.3973293,
          -8.4399656,
          -8.4243171,
          -8.4027968,
          -8.41645,
          -8.4083062,
          -8.4048505,
          -8.4070767,
          -8.4217938,
          -8.4215001,
          -8.4129806,
          -8.4102046,
          -8.4075355,
          -8.3776768,
          -8.4032662,
          -8.4168735,
          -8.4132734,
          -8.4055644,
          -8.3892564,
          -8.4008789,
          -8.4168387,
          -8.3692677,
          -8.4135607,
          -8.4253374,
          -8.4046274,
          -8.4243344,
          -8.4074838,
          -8.4417623,
          -8.417745,
          -8.4175879,
          -8.4195426,
          -8.3992793,
          -8.4031825,
          -8.4167599,
          -8.4058197,
          -8.414275,
          -8.4234093,
          -8.4112911,
          -8.3946409,
          -8.3892504,
          -8.4125837,
          -8.3929119,
          -8.4177272,
          -8.4247698,
          -8.4066355,
          -8.4072086,
          -8.3992352,
          -8.410442,
          -8.3923462,
          -8.3876101,
          -8.4168969,
          -8.413579,
          -8.4055947,
          -8.3969593,
          -8.412075,
          -8.4039057,
          -8.4162734,
          -8.4058911,
          -8.4231986,
          -8.4259048,
          -8.4015976,
          -8.4162592,
          -8.4178,
          -8.414831,
          -8.420471,
          -8.4057274,
          -8.4056352,
          -8.411775,
          -8.4215062,
          -8.4006016,
          -8.4086126,
          -8.4113763,
          -8.4167734,
          -8.4006752,
          -8.4258262,
          -8.3956352,
          -8.4119783,
          -8.4107783,
          -8.4190182,
          -8.4048274,
          -8.4243317,
          -8.4189863,
          -8.4192182,
          -8.4228048,
          -8.4144179,
          -8.4248449,
          -8.4188509,
          -8.4020339,
          -8.3739132,
          -8.4142539,
          -8.4026172,
          -8.4126679,
          -8.4046147,
          -8.4151472,
          -8.4170439,
          -8.3954706,
          -8.4013236,
          -8.3982959,
          -8.4080367,
          -8.419833,
          -8.4033713,
          -8.375076,
          -8.3744433,
          -8.4444066,
          -8.3964367,
          -8.3909203,
          -8.3937018,
          -8.4055838,
          -8.4230389,
          -8.4046197,
          -8.4034959,
          -8.396473,
          -8.4222389,
          -8.388273,
          -8.4077699,
          -8.4082208,
          -8.3982635,
          -8.4163934,
          -8.4185001,
          -8.4093198,
          -8.4373747,
          -8.4177718,
          -8.4103577,
          -8.393876,
          -8.3955717,
          -8.4222142,
          -8.41123,
          -8.406661,
          -8.4239344,
          -8.4077838,
          -8.4031807,
          -8.4081577,
          -8.3887299,
          -8.4222784,
          -8.4086325,
          -8.415545,
          -8.4095068,
          -8.3996134,
          -8.3968458,
          -8.4334497,
          -8.3938447,
          -8.4160734,
          -8.4157863,
          -8.4191099,
          -8.4138525,
          -8.4159734,
          -8.4149734,
          -8.4040622,
          -8.39404,
          -8.4090983,
          -8.3936741,
          -8.421686,
          -8.4149695,
          -8.3976418,
          -8.401084,
          -8.4228168,
          -8.4199,
          -8.4206248,
          -8.4044037,
          -8.410023,
          -8.4002493,
          -8.4043698,
          -8.4038182,
          -8.4048298,
          -8.4040737,
          -8.4062699,
          -8.4148734,
          -8.4164874,
          -8.4176863,
          -8.3902564,
          -8.4112126,
          -8.4197678,
          -8.4223699,
          -8.422833,
          -8.4196284,
          -8.4034967,
          -8.4041758,
          -8.3984065,
          -8.4198913,
          -8.408324,
          -8.4243048,
          -8.401356,
          -8.4107338,
          -8.4175182,
          -8.4158095,
          -8.4176099,
          -8.3983458,
          -8.39272,
          -8.4113471,
          -8.4216913,
          -8.4015456,
          -8.4119471,
          -8.4148734,
          -8.4067334,
          -8.4167456,
          -8.39153,
          -8.4383105,
          -8.3982663,
          -8.3982663,
          -8.3982663,
          -8.3982663,
          -8.3982663,
          -8.3935852,
          -8.421271,
          -8.4129282,
          -8.4008134,
          -8.3982663,
          -8.3982663,
          -8.3934634,
          -8.3982663,
          -8.3934634,
          -8.3982663,
          -8.3982663,
          -8.3982663,
          -8.3982663,
          -8.3982663,
          -8.3982663,
          -8.3982663,
          -8.3982663,
          -8.3934634,
          -8.3982663,
          -8.409246,
          -8.409246,
          -8.4062699,
          -8.409246,
          -8.409246,
          -8.4062699,
          -8.409246,
          -8.4141391,
          -8.410806,
          -8.4042895,
          -8.4102527,
          -8.4214737,
          -8.3996065,
          -8.4148734,
          -8.4164874,
          -8.4239419,
          -8.4487025,
          -8.3932179,
          -8.4001898,
          -8.4149052,
          -8.3959195,
          -8.409246,
          -8.4176863,
          -8.3902564,
          -8.409246,
          -8.419686,
          -8.409246,
          -8.4126976,
          -8.4176099,
          -8.4176099,
          -8.4173387,
          -8.4173387,
          -8.409246,
          -8.4082042,
          -8.414492,
          -8.407641,
          -8.4057838,
          -8.417472,
          -8.4107198,
          -8.40959,
          -8.394285,
          -8.4068286,
          -8.4091911,
          -8.4049322,
          -8.390676,
          -8.4160885,
          -8.4128325,
          -8.4258839,
          -8.4097623,
          -8.4050274,
          -8.390444,
          -8.3909908,
          -8.3909908
         ],
         "marker": {
          "color": [
           1095,
           1224,
           1547,
           1789,
           1333,
           1382,
           1429,
           1790,
           1875,
           1833,
           1728,
           1923,
           1987,
           2130,
           1875,
           1594,
           2931,
           1800,
           2453,
           3146,
           1505,
           3225,
           3225,
           3225,
           1014,
           1445,
           3686,
           3289,
           1299,
           2063,
           2580,
           1421,
           1322,
           1800,
           1731,
           1455,
           2018,
           2363,
           1765,
           1667,
           3571,
           1769,
           1923,
           1684,
           2018,
           1800,
           2586,
           1618,
           1428,
           2253,
           3333,
           2143,
           2143,
           2132,
           3431,
           1527,
           2816,
           3889,
           2477,
           2723,
           2616,
           1961,
           3431,
           1767,
           1959,
           1767,
           2163,
           2636,
           2816,
           3431,
           2935,
           1767,
           1527,
           2242,
           2935,
           2723,
           2723,
           1610,
           1429,
           1610,
           2935,
           2723,
           1378,
           1767,
           1610,
           2837,
           1530,
           2671,
           3390,
           1525,
           2223,
           1588,
           3117,
           1126,
           2977,
           2832,
           1674,
           3181,
           1711,
           1674,
           1674,
           2223,
           3016,
           1571,
           1357,
           1523,
           2987,
           1630,
           1571,
           3564,
           1674,
           2037,
           1571,
           1571,
           1541,
           1855,
           2421,
           1340,
           1058,
           4483,
           1588,
           2718,
           2273,
           2743,
           2990,
           1929,
           2095,
           2500,
           1882,
           1423,
           2670,
           1746,
           1578,
           2095,
           2500,
           1935,
           1786,
           1823,
           2756,
           2095,
           1938,
           2348,
           1948,
           2352,
           1875,
           1722,
           2596,
           1722,
           1442,
           1767,
           1862,
           2105,
           2143,
           1419,
           2095,
           1778,
           1960,
           2333,
           2095,
           3114,
           2163,
           3114,
           2065,
           4100,
           3114,
           1992,
           1960,
           3114,
           2078,
           1983,
           2563,
           3308,
           2563,
           3114,
           2964,
           1913,
           2921,
           1855,
           1913,
           1833,
           1791,
           2820,
           2564,
           1729,
           2697,
           2155,
           2432,
           2552,
           1934,
           2291,
           2706,
           1980,
           1845,
           1797,
           2923,
           2235,
           2892,
           2968,
           2067,
           2203,
           2390,
           2538,
           1833,
           3273,
           3816,
           1527,
           3944,
           1439,
           1250,
           2185,
           2182,
           1633,
           1896,
           2560,
           3134,
           1839,
           1690,
           1526,
           2390,
           2538,
           2312,
           2462,
           2429,
           1762,
           2500,
           3333,
           2225,
           2813,
           1781,
           1338,
           1731,
           2026,
           2600,
           2317,
           1484,
           2653,
           2024,
           1714,
           1471,
           1742,
           1603,
           2358,
           1857,
           2020,
           3271,
           2018,
           3258,
           2397,
           2932,
           2682,
           2636,
           1278,
           3273,
           1150,
           1870,
           3051,
           3393,
           1833,
           3010,
           1742,
           5455,
           1842,
           1572,
           2176,
           1400,
           3857,
           1987,
           1542,
           1987,
           2000,
           2737,
           2500,
           1385,
           3049,
           2737,
           2409,
           1277,
           2873,
           1250,
           1125,
           2709,
           1714,
           2527,
           1803,
           1934,
           1572,
           1277,
           1290,
           1797,
           2813,
           2471,
           2563,
           2540,
           1662,
           2263,
           1965,
           2016,
           2706,
           1934,
           2500,
           2010,
           2265,
           1965,
           2500,
           2563,
           2471,
           2540,
           1842,
           2538,
           1875,
           1885,
           1758,
           2766,
           2169,
           1369,
           1580,
           1580,
           1792,
           2185,
           1813,
           1844,
           2706,
           1792,
           1718,
           2468,
           3085,
           1276,
           2398,
           2022,
           2463,
           1480,
           2438,
           1787,
           2980,
           2857,
           1060,
           1755,
           1500,
           2227,
           2124,
           1893,
           1835,
           3700,
           2105,
           3105,
           1759,
           1934,
           2455,
           2478,
           1803,
           1898,
           3636,
           3613,
           2889,
           2697,
           1842,
           2798,
           2140,
           565,
           2474,
           2000,
           1974,
           861,
           1769,
           2231,
           1935,
           1500,
           2833,
           2067,
           2368,
           3673,
           2408,
           1538,
           2536,
           2375,
           2447,
           2322,
           2322,
           2647,
           2159,
           2573,
           1822,
           1674,
           2185,
           3944,
           2088,
           1068,
           2100,
           3654,
           2556,
           2312,
           1935,
           1746,
           2538,
           2818,
           2351,
           2000,
           3425,
           2100,
           1885,
           2100,
           1885,
           2619,
           2816,
           1430,
           1322,
           2385,
           2744,
           1133,
           1881,
           2092,
           1684,
           1694,
           1500,
           2617,
           2614,
           2052,
           2182,
           2214,
           1438,
           2169,
           2890,
           4071,
           2155,
           2216,
           2538,
           1958,
           3014,
           2718,
           2469,
           1588,
           1700,
           2215,
           2368,
           2769,
           2667,
           1666,
           2500,
           3071,
           3026,
           2339,
           2439,
           2291,
           2941,
           2208,
           1802,
           1793,
           7500,
           1087,
           1447,
           2184,
           1374,
           2100,
           458,
           1707,
           1600,
           1222,
           2529,
           3800,
           3649,
           3273,
           2833,
           1534,
           3137,
           4400,
           2086,
           1435,
           2458,
           1402,
           1410,
           2986,
           1250,
           2469,
           1453,
           2814,
           2429,
           1236,
           2407,
           2600,
           1068,
           2656,
           1910,
           3291,
           2874,
           2727,
           2325,
           2014,
           1122,
           2908,
           2031,
           1935,
           2273,
           1536,
           1639,
           1250,
           1961,
           2227,
           1169,
           2549,
           2378,
           1379,
           3560,
           2162,
           2134,
           1678,
           2529,
           3526,
           1800,
           1678,
           2278,
           2090,
           978,
           1500,
           3476,
           1622,
           2308,
           2167,
           1369,
           4091,
           1500,
           1690,
           3010,
           1898,
           1913,
           2390,
           1250,
           2176,
           2284,
           1904,
           797,
           1304,
           3133,
           1031,
           2333,
           1908,
           2636,
           2478,
           2955,
           2048,
           1322,
           2375,
           1613,
           3267,
           1234,
           2909,
           1833,
           4170,
           1920,
           4362,
           1391,
           2121,
           1892,
           2872,
           2646,
           1374,
           2658,
           612,
           4362,
           1535,
           1632,
           1909,
           2471,
           2059,
           2817,
           3160,
           2078,
           1453,
           3851,
           1680,
           1909,
           1024,
           2813,
           2169,
           3017,
           1667,
           2350,
           2143,
           3451,
           2345,
           2362,
           2525,
           1550,
           1835,
           1852,
           1269,
           2759,
           1690,
           1922,
           1387,
           2527,
           3400,
           2351,
           2813,
           2243,
           1718,
           2364,
           2271,
           3500,
           1680,
           1837,
           3529,
           1427,
           1803,
           3158,
           3524,
           3917,
           2325,
           834,
           1136,
           1792,
           2778,
           1787,
           2324,
           1880,
           2698,
           5172,
           2059,
           1746,
           3175,
           3700,
           1638,
           2364,
           2933,
           1872,
           2372,
           2245,
           1943,
           1866,
           3391,
           2067,
           1438,
           2723,
           2103,
           2334,
           2274,
           2369,
           1778,
           2090,
           1839,
           2014,
           2035,
           2088,
           2287,
           1919,
           2467,
           2338,
           2308,
           2177,
           1928,
           2000,
           1979,
           1928,
           2000,
           1922,
           1544,
           1981,
           1622,
           2312,
           2987,
           2526,
           2813,
           2198,
           1791,
           389,
           3333,
           1957,
           663,
           1176,
           2292,
           2195,
           2364,
           2337,
           1739,
           1690,
           2317,
           2240,
           2244,
           2107,
           2205,
           2021,
           1572,
           1964,
           2625,
           2100,
           1461,
           2063,
           1797,
           1729,
           1988,
           3010,
           1530,
           1190,
           1277,
           1694,
           2222,
           3846,
           1881,
           2154,
           2619,
           3736
          ],
          "coloraxis": "coloraxis",
          "size": [
           3,
           3,
           4,
           3,
           2,
           3,
           4,
           4,
           3,
           2,
           4,
           4,
           3,
           3,
           4,
           2,
           3,
           2,
           3,
           1,
           5,
           1,
           1,
           1,
           3,
           3,
           1,
           2,
           3,
           3,
           1,
           3,
           5,
           4,
           4,
           2,
           4,
           3,
           2,
           4,
           2,
           4,
           4,
           4,
           4,
           4,
           2,
           2,
           3,
           2,
           2,
           2,
           2,
           2,
           1,
           4,
           3,
           1,
           3,
           3,
           2,
           2,
           1,
           6,
           3,
           6,
           4,
           2,
           3,
           1,
           2,
           5,
           4,
           3,
           2,
           3,
           3,
           6,
           4,
           5,
           2,
           3,
           3,
           6,
           6,
           2,
           3,
           2,
           2,
           2,
           2,
           3,
           2,
           3,
           2,
           3,
           3,
           2,
           3,
           3,
           3,
           2,
           2,
           3,
           3,
           4,
           2,
           4,
           2,
           2,
           2,
           3,
           4,
           3,
           3,
           2,
           4,
           2,
           4,
           2,
           3,
           3,
           3,
           3,
           3,
           4,
           2,
           2,
           3,
           3,
           3,
           3,
           3,
           2,
           2,
           4,
           3,
           2,
           2,
           2,
           2,
           2,
           2,
           3,
           3,
           3,
           4,
           3,
           4,
           3,
           3,
           2,
           3,
           2,
           2,
           2,
           2,
           3,
           4,
           2,
           4,
           2,
           2,
           2,
           2,
           4,
           2,
           2,
           4,
           2,
           2,
           2,
           2,
           2,
           3,
           2,
           4,
           4,
           2,
           3,
           3,
           2,
           4,
           3,
           2,
           2,
           3,
           3,
           4,
           1,
           3,
           0,
           2,
           3,
           2,
           2,
           3,
           3,
           3,
           3,
           2,
           2,
           3,
           1,
           1,
           4,
           2,
           2,
           2,
           2,
           3,
           4,
           3,
           3,
           2,
           2,
           3,
           3,
           3,
           2,
           4,
           3,
           2,
           4,
           3,
           2,
           2,
           2,
           2,
           2,
           2,
           2,
           3,
           3,
           3,
           2,
           4,
           0,
           3,
           3,
           4,
           3,
           3,
           4,
           2,
           4,
           2,
           3,
           3,
           3,
           1,
           5,
           1,
           3,
           3,
           1,
           2,
           3,
           3,
           2,
           2,
           2,
           6,
           3,
           2,
           2,
           2,
           4,
           2,
           3,
           3,
           3,
           2,
           2,
           3,
           3,
           4,
           1,
           3,
           4,
           3,
           2,
           1,
           3,
           4,
           8,
           5,
           2,
           4,
           2,
           2,
           2,
           3,
           3,
           1,
           2,
           2,
           3,
           2,
           3,
           3,
           3,
           3,
           3,
           2,
           2,
           3,
           2,
           2,
           3,
           2,
           2,
           4,
           3,
           3,
           3,
           3,
           1,
           2,
           2,
           4,
           3,
           2,
           2,
           3,
           2,
           1,
           4,
           2,
           2,
           3,
           2,
           2,
           3,
           3,
           3,
           3,
           3,
           4,
           4,
           3,
           4,
           1,
           2,
           3,
           1,
           1,
           4,
           5,
           3,
           3,
           1,
           2,
           2,
           3,
           2,
           1,
           3,
           2,
           3,
           3,
           4,
           4,
           6,
           4,
           3,
           5,
           2,
           2,
           3,
           2,
           3,
           4,
           3,
           2,
           3,
           2,
           2,
           2,
           1,
           2,
           3,
           3,
           2,
           2,
           4,
           4,
           2,
           2,
           3,
           4,
           3,
           3,
           2,
           2,
           2,
           2,
           2,
           3,
           4,
           3,
           4,
           2,
           4,
           4,
           5,
           2,
           2,
           3,
           3,
           3,
           2,
           3,
           2,
           3,
           3,
           3,
           1,
           2,
           2,
           3,
           4,
           2,
           3,
           3,
           2,
           2,
           2,
           3,
           1,
           3,
           4,
           4,
           2,
           4,
           2,
           2,
           1,
           1,
           2,
           4,
           3,
           1,
           3,
           2,
           3,
           2,
           2,
           4,
           3,
           3,
           3,
           3,
           1,
           3,
           3,
           3,
           2,
           2,
           1,
           1,
           2,
           3,
           3,
           2,
           3,
           4,
           4,
           4,
           2,
           1,
           3,
           1,
           3,
           3,
           2,
           3,
           3,
           1,
           3,
           2,
           5,
           1,
           2,
           2,
           3,
           3,
           3,
           2,
           3,
           2,
           3,
           4,
           2,
           4,
           2,
           4,
           2,
           2,
           2,
           3,
           1,
           1,
           1,
           2,
           3,
           2,
           2,
           2,
           3,
           2,
           3,
           3,
           2,
           3,
           4,
           4,
           3,
           1,
           3,
           3,
           1,
           3,
           3,
           3,
           4,
           2,
           2,
           2,
           3,
           5,
           2,
           2,
           3,
           3,
           1,
           1,
           1,
           3,
           4,
           2,
           3,
           3,
           2,
           2,
           3,
           2,
           3,
           1,
           3,
           2,
           2,
           1,
           2,
           3,
           3,
           3,
           1,
           4,
           3,
           3,
           3,
           2,
           2,
           1,
           2,
           2,
           1,
           3,
           2,
           4,
           2,
           1,
           2,
           4,
           3,
           3,
           2,
           2,
           3,
           1,
           3,
           3,
           4,
           4,
           3,
           3,
           3,
           1,
           3,
           0,
           2,
           2,
           1,
           2,
           2,
           2,
           2,
           4,
           3,
           2,
           3,
           3,
           3,
           2,
           1,
           3,
           3,
           3,
           1,
           3,
           2,
           1,
           3,
           2,
           2,
           3,
           2,
           1,
           1,
           4,
           2,
           2,
           2,
           2,
           2,
           3,
           3,
           1,
           2,
           2,
           3,
           2,
           2,
           3,
           1,
           3,
           3,
           3,
           2,
           2,
           1,
           2,
           2,
           2,
           3,
           3,
           2,
           3,
           2,
           2,
           3,
           2,
           3,
           4,
           0,
           5,
           4,
           2,
           3,
           2,
           1,
           2,
           3,
           2,
           3,
           6,
           2,
           2,
           2,
           2,
           2,
           3,
           3,
           2,
           2,
           2,
           2,
           2,
           2,
           6,
           3,
           2,
           3,
           2,
           3,
           4,
           3,
           2,
           3,
           6,
           3,
           4,
           4,
           2,
           2,
           3,
           2,
           2,
           1
          ],
          "sizemode": "area",
          "sizeref": 0.02
         },
         "mode": "markers",
         "name": "",
         "showlegend": false,
         "subplot": "mapbox",
         "type": "scattermapbox"
        }
       ],
       "layout": {
        "coloraxis": {
         "colorbar": {
          "title": {
           "text": "priceByArea"
          }
         },
         "colorscale": [
          [
           0,
           "blue"
          ],
          [
           1,
           "red"
          ]
         ]
        },
        "height": 800,
        "legend": {
         "itemsizing": "constant",
         "tracegroupgap": 0
        },
        "mapbox": {
         "center": {
          "lat": 43.356921401857164,
          "lon": -8.408004892857138
         },
         "domain": {
          "x": [
           0,
           1
          ],
          "y": [
           0,
           1
          ]
         },
         "style": "carto-positron",
         "zoom": 13
        },
        "margin": {
         "b": 0,
         "l": 0,
         "r": 0,
         "t": 0
        },
        "template": {
         "data": {
          "bar": [
           {
            "error_x": {
             "color": "#2a3f5f"
            },
            "error_y": {
             "color": "#2a3f5f"
            },
            "marker": {
             "line": {
              "color": "#E5ECF6",
              "width": 0.5
             },
             "pattern": {
              "fillmode": "overlay",
              "size": 10,
              "solidity": 0.2
             }
            },
            "type": "bar"
           }
          ],
          "barpolar": [
           {
            "marker": {
             "line": {
              "color": "#E5ECF6",
              "width": 0.5
             },
             "pattern": {
              "fillmode": "overlay",
              "size": 10,
              "solidity": 0.2
             }
            },
            "type": "barpolar"
           }
          ],
          "carpet": [
           {
            "aaxis": {
             "endlinecolor": "#2a3f5f",
             "gridcolor": "white",
             "linecolor": "white",
             "minorgridcolor": "white",
             "startlinecolor": "#2a3f5f"
            },
            "baxis": {
             "endlinecolor": "#2a3f5f",
             "gridcolor": "white",
             "linecolor": "white",
             "minorgridcolor": "white",
             "startlinecolor": "#2a3f5f"
            },
            "type": "carpet"
           }
          ],
          "choropleth": [
           {
            "colorbar": {
             "outlinewidth": 0,
             "ticks": ""
            },
            "type": "choropleth"
           }
          ],
          "contour": [
           {
            "colorbar": {
             "outlinewidth": 0,
             "ticks": ""
            },
            "colorscale": [
             [
              0,
              "#0d0887"
             ],
             [
              0.1111111111111111,
              "#46039f"
             ],
             [
              0.2222222222222222,
              "#7201a8"
             ],
             [
              0.3333333333333333,
              "#9c179e"
             ],
             [
              0.4444444444444444,
              "#bd3786"
             ],
             [
              0.5555555555555556,
              "#d8576b"
             ],
             [
              0.6666666666666666,
              "#ed7953"
             ],
             [
              0.7777777777777778,
              "#fb9f3a"
             ],
             [
              0.8888888888888888,
              "#fdca26"
             ],
             [
              1,
              "#f0f921"
             ]
            ],
            "type": "contour"
           }
          ],
          "contourcarpet": [
           {
            "colorbar": {
             "outlinewidth": 0,
             "ticks": ""
            },
            "type": "contourcarpet"
           }
          ],
          "heatmap": [
           {
            "colorbar": {
             "outlinewidth": 0,
             "ticks": ""
            },
            "colorscale": [
             [
              0,
              "#0d0887"
             ],
             [
              0.1111111111111111,
              "#46039f"
             ],
             [
              0.2222222222222222,
              "#7201a8"
             ],
             [
              0.3333333333333333,
              "#9c179e"
             ],
             [
              0.4444444444444444,
              "#bd3786"
             ],
             [
              0.5555555555555556,
              "#d8576b"
             ],
             [
              0.6666666666666666,
              "#ed7953"
             ],
             [
              0.7777777777777778,
              "#fb9f3a"
             ],
             [
              0.8888888888888888,
              "#fdca26"
             ],
             [
              1,
              "#f0f921"
             ]
            ],
            "type": "heatmap"
           }
          ],
          "heatmapgl": [
           {
            "colorbar": {
             "outlinewidth": 0,
             "ticks": ""
            },
            "colorscale": [
             [
              0,
              "#0d0887"
             ],
             [
              0.1111111111111111,
              "#46039f"
             ],
             [
              0.2222222222222222,
              "#7201a8"
             ],
             [
              0.3333333333333333,
              "#9c179e"
             ],
             [
              0.4444444444444444,
              "#bd3786"
             ],
             [
              0.5555555555555556,
              "#d8576b"
             ],
             [
              0.6666666666666666,
              "#ed7953"
             ],
             [
              0.7777777777777778,
              "#fb9f3a"
             ],
             [
              0.8888888888888888,
              "#fdca26"
             ],
             [
              1,
              "#f0f921"
             ]
            ],
            "type": "heatmapgl"
           }
          ],
          "histogram": [
           {
            "marker": {
             "pattern": {
              "fillmode": "overlay",
              "size": 10,
              "solidity": 0.2
             }
            },
            "type": "histogram"
           }
          ],
          "histogram2d": [
           {
            "colorbar": {
             "outlinewidth": 0,
             "ticks": ""
            },
            "colorscale": [
             [
              0,
              "#0d0887"
             ],
             [
              0.1111111111111111,
              "#46039f"
             ],
             [
              0.2222222222222222,
              "#7201a8"
             ],
             [
              0.3333333333333333,
              "#9c179e"
             ],
             [
              0.4444444444444444,
              "#bd3786"
             ],
             [
              0.5555555555555556,
              "#d8576b"
             ],
             [
              0.6666666666666666,
              "#ed7953"
             ],
             [
              0.7777777777777778,
              "#fb9f3a"
             ],
             [
              0.8888888888888888,
              "#fdca26"
             ],
             [
              1,
              "#f0f921"
             ]
            ],
            "type": "histogram2d"
           }
          ],
          "histogram2dcontour": [
           {
            "colorbar": {
             "outlinewidth": 0,
             "ticks": ""
            },
            "colorscale": [
             [
              0,
              "#0d0887"
             ],
             [
              0.1111111111111111,
              "#46039f"
             ],
             [
              0.2222222222222222,
              "#7201a8"
             ],
             [
              0.3333333333333333,
              "#9c179e"
             ],
             [
              0.4444444444444444,
              "#bd3786"
             ],
             [
              0.5555555555555556,
              "#d8576b"
             ],
             [
              0.6666666666666666,
              "#ed7953"
             ],
             [
              0.7777777777777778,
              "#fb9f3a"
             ],
             [
              0.8888888888888888,
              "#fdca26"
             ],
             [
              1,
              "#f0f921"
             ]
            ],
            "type": "histogram2dcontour"
           }
          ],
          "mesh3d": [
           {
            "colorbar": {
             "outlinewidth": 0,
             "ticks": ""
            },
            "type": "mesh3d"
           }
          ],
          "parcoords": [
           {
            "line": {
             "colorbar": {
              "outlinewidth": 0,
              "ticks": ""
             }
            },
            "type": "parcoords"
           }
          ],
          "pie": [
           {
            "automargin": true,
            "type": "pie"
           }
          ],
          "scatter": [
           {
            "fillpattern": {
             "fillmode": "overlay",
             "size": 10,
             "solidity": 0.2
            },
            "type": "scatter"
           }
          ],
          "scatter3d": [
           {
            "line": {
             "colorbar": {
              "outlinewidth": 0,
              "ticks": ""
             }
            },
            "marker": {
             "colorbar": {
              "outlinewidth": 0,
              "ticks": ""
             }
            },
            "type": "scatter3d"
           }
          ],
          "scattercarpet": [
           {
            "marker": {
             "colorbar": {
              "outlinewidth": 0,
              "ticks": ""
             }
            },
            "type": "scattercarpet"
           }
          ],
          "scattergeo": [
           {
            "marker": {
             "colorbar": {
              "outlinewidth": 0,
              "ticks": ""
             }
            },
            "type": "scattergeo"
           }
          ],
          "scattergl": [
           {
            "marker": {
             "colorbar": {
              "outlinewidth": 0,
              "ticks": ""
             }
            },
            "type": "scattergl"
           }
          ],
          "scattermapbox": [
           {
            "marker": {
             "colorbar": {
              "outlinewidth": 0,
              "ticks": ""
             }
            },
            "type": "scattermapbox"
           }
          ],
          "scatterpolar": [
           {
            "marker": {
             "colorbar": {
              "outlinewidth": 0,
              "ticks": ""
             }
            },
            "type": "scatterpolar"
           }
          ],
          "scatterpolargl": [
           {
            "marker": {
             "colorbar": {
              "outlinewidth": 0,
              "ticks": ""
             }
            },
            "type": "scatterpolargl"
           }
          ],
          "scatterternary": [
           {
            "marker": {
             "colorbar": {
              "outlinewidth": 0,
              "ticks": ""
             }
            },
            "type": "scatterternary"
           }
          ],
          "surface": [
           {
            "colorbar": {
             "outlinewidth": 0,
             "ticks": ""
            },
            "colorscale": [
             [
              0,
              "#0d0887"
             ],
             [
              0.1111111111111111,
              "#46039f"
             ],
             [
              0.2222222222222222,
              "#7201a8"
             ],
             [
              0.3333333333333333,
              "#9c179e"
             ],
             [
              0.4444444444444444,
              "#bd3786"
             ],
             [
              0.5555555555555556,
              "#d8576b"
             ],
             [
              0.6666666666666666,
              "#ed7953"
             ],
             [
              0.7777777777777778,
              "#fb9f3a"
             ],
             [
              0.8888888888888888,
              "#fdca26"
             ],
             [
              1,
              "#f0f921"
             ]
            ],
            "type": "surface"
           }
          ],
          "table": [
           {
            "cells": {
             "fill": {
              "color": "#EBF0F8"
             },
             "line": {
              "color": "white"
             }
            },
            "header": {
             "fill": {
              "color": "#C8D4E3"
             },
             "line": {
              "color": "white"
             }
            },
            "type": "table"
           }
          ]
         },
         "layout": {
          "annotationdefaults": {
           "arrowcolor": "#2a3f5f",
           "arrowhead": 0,
           "arrowwidth": 1
          },
          "autotypenumbers": "strict",
          "coloraxis": {
           "colorbar": {
            "outlinewidth": 0,
            "ticks": ""
           }
          },
          "colorscale": {
           "diverging": [
            [
             0,
             "#8e0152"
            ],
            [
             0.1,
             "#c51b7d"
            ],
            [
             0.2,
             "#de77ae"
            ],
            [
             0.3,
             "#f1b6da"
            ],
            [
             0.4,
             "#fde0ef"
            ],
            [
             0.5,
             "#f7f7f7"
            ],
            [
             0.6,
             "#e6f5d0"
            ],
            [
             0.7,
             "#b8e186"
            ],
            [
             0.8,
             "#7fbc41"
            ],
            [
             0.9,
             "#4d9221"
            ],
            [
             1,
             "#276419"
            ]
           ],
           "sequential": [
            [
             0,
             "#0d0887"
            ],
            [
             0.1111111111111111,
             "#46039f"
            ],
            [
             0.2222222222222222,
             "#7201a8"
            ],
            [
             0.3333333333333333,
             "#9c179e"
            ],
            [
             0.4444444444444444,
             "#bd3786"
            ],
            [
             0.5555555555555556,
             "#d8576b"
            ],
            [
             0.6666666666666666,
             "#ed7953"
            ],
            [
             0.7777777777777778,
             "#fb9f3a"
            ],
            [
             0.8888888888888888,
             "#fdca26"
            ],
            [
             1,
             "#f0f921"
            ]
           ],
           "sequentialminus": [
            [
             0,
             "#0d0887"
            ],
            [
             0.1111111111111111,
             "#46039f"
            ],
            [
             0.2222222222222222,
             "#7201a8"
            ],
            [
             0.3333333333333333,
             "#9c179e"
            ],
            [
             0.4444444444444444,
             "#bd3786"
            ],
            [
             0.5555555555555556,
             "#d8576b"
            ],
            [
             0.6666666666666666,
             "#ed7953"
            ],
            [
             0.7777777777777778,
             "#fb9f3a"
            ],
            [
             0.8888888888888888,
             "#fdca26"
            ],
            [
             1,
             "#f0f921"
            ]
           ]
          },
          "colorway": [
           "#636efa",
           "#EF553B",
           "#00cc96",
           "#ab63fa",
           "#FFA15A",
           "#19d3f3",
           "#FF6692",
           "#B6E880",
           "#FF97FF",
           "#FECB52"
          ],
          "font": {
           "color": "#2a3f5f"
          },
          "geo": {
           "bgcolor": "white",
           "lakecolor": "white",
           "landcolor": "#E5ECF6",
           "showlakes": true,
           "showland": true,
           "subunitcolor": "white"
          },
          "hoverlabel": {
           "align": "left"
          },
          "hovermode": "closest",
          "mapbox": {
           "style": "light"
          },
          "paper_bgcolor": "white",
          "plot_bgcolor": "#E5ECF6",
          "polar": {
           "angularaxis": {
            "gridcolor": "white",
            "linecolor": "white",
            "ticks": ""
           },
           "bgcolor": "#E5ECF6",
           "radialaxis": {
            "gridcolor": "white",
            "linecolor": "white",
            "ticks": ""
           }
          },
          "scene": {
           "xaxis": {
            "backgroundcolor": "#E5ECF6",
            "gridcolor": "white",
            "gridwidth": 2,
            "linecolor": "white",
            "showbackground": true,
            "ticks": "",
            "zerolinecolor": "white"
           },
           "yaxis": {
            "backgroundcolor": "#E5ECF6",
            "gridcolor": "white",
            "gridwidth": 2,
            "linecolor": "white",
            "showbackground": true,
            "ticks": "",
            "zerolinecolor": "white"
           },
           "zaxis": {
            "backgroundcolor": "#E5ECF6",
            "gridcolor": "white",
            "gridwidth": 2,
            "linecolor": "white",
            "showbackground": true,
            "ticks": "",
            "zerolinecolor": "white"
           }
          },
          "shapedefaults": {
           "line": {
            "color": "#2a3f5f"
           }
          },
          "ternary": {
           "aaxis": {
            "gridcolor": "white",
            "linecolor": "white",
            "ticks": ""
           },
           "baxis": {
            "gridcolor": "white",
            "linecolor": "white",
            "ticks": ""
           },
           "bgcolor": "#E5ECF6",
           "caxis": {
            "gridcolor": "white",
            "linecolor": "white",
            "ticks": ""
           }
          },
          "title": {
           "x": 0.05
          },
          "xaxis": {
           "automargin": true,
           "gridcolor": "white",
           "linecolor": "white",
           "ticks": "",
           "title": {
            "standoff": 15
           },
           "zerolinecolor": "white",
           "zerolinewidth": 2
          },
          "yaxis": {
           "automargin": true,
           "gridcolor": "white",
           "linecolor": "white",
           "ticks": "",
           "title": {
            "standoff": 15
           },
           "zerolinecolor": "white",
           "zerolinewidth": 2
          }
         }
        },
        "width": 800
       }
      }
     },
     "metadata": {},
     "output_type": "display_data"
    }
   ],
   "source": [
    "df_temp = df\n",
    "# \n",
    "color_scale = [(0, 'blue'), (1,'red')]\n",
    "fig = px.scatter_mapbox(df_temp, \n",
    "                        lat=\"latitude\", \n",
    "                        lon=\"longitude\", \n",
    "                        hover_name=\"priceByArea\", \n",
    "                        hover_data=[\"priceByArea\",\"price\",\"size\",\"rooms\",\"url\"],\n",
    "                        color=\"priceByArea\",\n",
    "                        color_continuous_scale=color_scale,\n",
    "                        size=\"rooms\",\n",
    "                        zoom=13,\n",
    "                        height=800,\n",
    "                        width=800)\n",
    "# fig.update_layout(mapbox_style=\"open-street-map\")\n",
    "fig.update_layout(mapbox_style=\"carto-positron\") \n",
    "# fig.update_layout(mapbox_style=\"stamen-terrain\")\n",
    "# fig.update_layout(mapbox_style=\"satellite\") -> Need Mapbox API\n",
    "fig.update_layout(margin={\"r\":0,\"t\":0,\"l\":0,\"b\":0})\n",
    "fig.show()"
   ]
  },
  {
   "cell_type": "code",
   "execution_count": 25,
   "metadata": {},
   "outputs": [
    {
     "data": {
      "application/vnd.plotly.v1+json": {
       "config": {
        "plotlyServerURL": "https://plot.ly"
       },
       "data": [
        {
         "customdata": [
          [
           1095,
           104000,
           95,
           3,
           "https://www.idealista.com/inmueble/97358818/"
          ],
          [
           1224,
           104000,
           85,
           3,
           "https://www.idealista.com/inmueble/97422652/"
          ],
          [
           1333,
           80000,
           60,
           2,
           "https://www.idealista.com/inmueble/98951857/"
          ],
          [
           1382,
           105000,
           76,
           3,
           "https://www.idealista.com/inmueble/99137849/"
          ],
          [
           1014,
           140000,
           138,
           3,
           "https://www.idealista.com/inmueble/98295947/"
          ],
          [
           1299,
           129900,
           100,
           3,
           "https://www.idealista.com/inmueble/97643039/"
          ],
          [
           1322,
           160000,
           121,
           5,
           "https://www.idealista.com/inmueble/98139669/"
          ],
          [
           1378,
           124000,
           90,
           3,
           "https://www.idealista.com/inmueble/39590562/"
          ],
          [
           1126,
           125000,
           111,
           3,
           "https://www.idealista.com/inmueble/98972832/"
          ],
          [
           1357,
           95000,
           70,
           3,
           "https://www.idealista.com/inmueble/98672566/"
          ],
          [
           1340,
           130000,
           97,
           2,
           "https://www.idealista.com/inmueble/97125626/"
          ],
          [
           1058,
           110000,
           104,
           4,
           "https://www.idealista.com/inmueble/97504338/"
          ],
          [
           1250,
           110000,
           88,
           2,
           "https://www.idealista.com/inmueble/98794532/"
          ],
          [
           1338,
           95000,
           71,
           2,
           "https://www.idealista.com/inmueble/99244794/"
          ],
          [
           1278,
           230000,
           180,
           5,
           "https://www.idealista.com/inmueble/98723606/"
          ],
          [
           1150,
           115000,
           100,
           3,
           "https://www.idealista.com/inmueble/98348139/"
          ],
          [
           1385,
           90000,
           65,
           2,
           "https://www.idealista.com/inmueble/98775363/"
          ],
          [
           1277,
           180000,
           141,
           4,
           "https://www.idealista.com/inmueble/99136230/"
          ],
          [
           1250,
           75000,
           60,
           3,
           "https://www.idealista.com/inmueble/99130874/"
          ],
          [
           1125,
           135000,
           120,
           4,
           "https://www.idealista.com/inmueble/98354863/"
          ],
          [
           1277,
           180000,
           141,
           5,
           "https://www.idealista.com/inmueble/99203773/"
          ],
          [
           1290,
           120000,
           93,
           2,
           "https://www.idealista.com/inmueble/99226951/"
          ],
          [
           1369,
           115000,
           84,
           3,
           "https://www.idealista.com/inmueble/94216838/"
          ],
          [
           1276,
           142900,
           112,
           1,
           "https://www.idealista.com/inmueble/97108803/"
          ],
          [
           1060,
           89000,
           84,
           3,
           "https://www.idealista.com/inmueble/98948219/"
          ],
          [
           565,
           48000,
           85,
           2,
           "https://www.idealista.com/inmueble/94451681/"
          ],
          [
           861,
           99000,
           115,
           4,
           "https://www.idealista.com/inmueble/98329761/"
          ],
          [
           1068,
           94000,
           88,
           4,
           "https://www.idealista.com/inmueble/98569854/"
          ],
          [
           1322,
           160000,
           121,
           5,
           "https://www.idealista.com/inmueble/97315253/"
          ],
          [
           1133,
           94000,
           83,
           3,
           "https://www.idealista.com/inmueble/95390311/"
          ],
          [
           1087,
           99990,
           92,
           4,
           "https://www.idealista.com/inmueble/96339597/"
          ],
          [
           1374,
           169000,
           123,
           3,
           "https://www.idealista.com/inmueble/96711482/"
          ],
          [
           458,
           65000,
           142,
           1,
           "https://www.idealista.com/inmueble/98400091/"
          ],
          [
           1222,
           110000,
           90,
           3,
           "https://www.idealista.com/inmueble/95051863/"
          ],
          [
           1250,
           120000,
           96,
           3,
           "https://www.idealista.com/inmueble/97330187/"
          ],
          [
           1236,
           110000,
           89,
           3,
           "https://www.idealista.com/inmueble/94894144/"
          ],
          [
           1068,
           94000,
           88,
           3,
           "https://www.idealista.com/inmueble/95862253/"
          ],
          [
           1122,
           92000,
           82,
           3,
           "https://www.idealista.com/inmueble/99167245/"
          ],
          [
           1250,
           135000,
           108,
           4,
           "https://www.idealista.com/inmueble/98965892/"
          ],
          [
           1169,
           90000,
           77,
           2,
           "https://www.idealista.com/inmueble/97927506/"
          ],
          [
           1379,
           80000,
           58,
           3,
           "https://www.idealista.com/inmueble/99128660/"
          ],
          [
           978,
           91000,
           93,
           3,
           "https://www.idealista.com/inmueble/96800581/"
          ],
          [
           1369,
           115000,
           84,
           3,
           "https://www.idealista.com/inmueble/98805828/"
          ],
          [
           1250,
           155000,
           124,
           4,
           "https://www.idealista.com/inmueble/95580216/"
          ],
          [
           797,
           63000,
           79,
           3,
           "https://www.idealista.com/inmueble/94760209/"
          ],
          [
           1304,
           180000,
           138,
           5,
           "https://www.idealista.com/inmueble/98624800/"
          ],
          [
           1031,
           99000,
           96,
           2,
           "https://www.idealista.com/inmueble/97502398/"
          ],
          [
           1322,
           160000,
           121,
           4,
           "https://www.idealista.com/inmueble/98969331/"
          ],
          [
           1234,
           79000,
           64,
           2,
           "https://www.idealista.com/inmueble/98661141/"
          ],
          [
           1391,
           160000,
           115,
           3,
           "https://www.idealista.com/inmueble/99233401/"
          ],
          [
           1374,
           169000,
           123,
           3,
           "https://www.idealista.com/inmueble/97303873/"
          ],
          [
           612,
           60000,
           98,
           3,
           "https://www.idealista.com/inmueble/98726184/"
          ],
          [
           1024,
           85000,
           83,
           4,
           "https://www.idealista.com/inmueble/97080486/"
          ],
          [
           1269,
           180253,
           142,
           4,
           "https://www.idealista.com/inmueble/98882632/"
          ],
          [
           1387,
           165000,
           119,
           1,
           "https://www.idealista.com/inmueble/99248692/"
          ],
          [
           834,
           56700,
           68,
           3,
           "https://www.idealista.com/inmueble/98889796/"
          ],
          [
           1136,
           68140,
           60,
           3,
           "https://www.idealista.com/inmueble/86571981/"
          ],
          [
           389,
           35000,
           90,
           3,
           "https://www.idealista.com/inmueble/98579735/"
          ],
          [
           663,
           230000,
           347,
           6,
           "https://www.idealista.com/inmueble/96099948/"
          ],
          [
           1176,
           120000,
           102,
           2,
           "https://www.idealista.com/inmueble/98619825/"
          ],
          [
           1190,
           125000,
           105,
           3,
           "https://www.idealista.com/inmueble/97111729/"
          ],
          [
           1277,
           129000,
           101,
           4,
           "https://www.idealista.com/inmueble/82276988/"
          ]
         ],
         "hovertemplate": "<b>%{hovertext}</b><br><br>priceByArea=%{customdata[0]}<br>latitude=%{lat}<br>longitude=%{lon}<br>price=%{marker.color}<br>size=%{customdata[2]}<br>rooms=%{customdata[3]}<br>url=%{customdata[4]}<extra></extra>",
         "hovertext": [
          1095,
          1224,
          1333,
          1382,
          1014,
          1299,
          1322,
          1378,
          1126,
          1357,
          1340,
          1058,
          1250,
          1338,
          1278,
          1150,
          1385,
          1277,
          1250,
          1125,
          1277,
          1290,
          1369,
          1276,
          1060,
          565,
          861,
          1068,
          1322,
          1133,
          1087,
          1374,
          458,
          1222,
          1250,
          1236,
          1068,
          1122,
          1250,
          1169,
          1379,
          978,
          1369,
          1250,
          797,
          1304,
          1031,
          1322,
          1234,
          1391,
          1374,
          612,
          1024,
          1269,
          1387,
          834,
          1136,
          389,
          663,
          1176,
          1190,
          1277
         ],
         "lat": [
          43.367347,
          43.366747,
          43.3816913,
          43.3551979,
          43.3426653,
          43.3530857,
          43.3791029,
          43.364034,
          43.3584232,
          43.351517,
          43.3419325,
          43.3534722,
          43.3604702,
          43.3542445,
          43.3395795,
          43.3509946,
          43.3686653,
          43.3395137,
          43.3530455,
          43.3597071,
          43.3398633,
          43.3411328,
          43.3420705,
          43.3582811,
          43.3609164,
          43.3459191,
          43.3578078,
          43.3542737,
          43.3764146,
          43.3549357,
          43.3550804,
          43.3613159,
          43.3545217,
          43.3599825,
          43.3796372,
          43.3623725,
          43.3522737,
          43.359264,
          43.3633705,
          43.3558783,
          43.3641533,
          43.3643295,
          43.3570852,
          43.3602083,
          43.3482675,
          43.3375935,
          43.3532258,
          43.3518303,
          43.3585823,
          43.3513653,
          43.3589159,
          43.3335198,
          43.3626711,
          43.3524829,
          43.3773547,
          43.3484473,
          43.3543529,
          43.359342,
          43.3441254,
          43.3411328,
          43.3547653,
          43.3580406
         ],
         "legendgroup": "",
         "lon": [
          -8.42026,
          -8.42036,
          -8.4012427,
          -8.4114619,
          -8.3970583,
          -8.3964819,
          -8.4009792,
          -8.4241411,
          -8.4190006,
          -8.4131324,
          -8.4155997,
          -8.397286,
          -8.4204357,
          -8.3954447,
          -8.3745693,
          -8.3885633,
          -8.433695,
          -8.397502,
          -8.4072333,
          -8.4192365,
          -8.397276,
          -8.3959195,
          -8.4155587,
          -8.4168874,
          -8.4173491,
          -8.3922309,
          -8.4158992,
          -8.3953593,
          -8.4014189,
          -8.3934744,
          -8.4135607,
          -8.4243344,
          -8.4417623,
          -8.4195426,
          -8.4072086,
          -8.4168969,
          -8.3969593,
          -8.4162592,
          -8.4215062,
          -8.4113763,
          -8.4258262,
          -8.4248449,
          -8.4126679,
          -8.419833,
          -8.4444066,
          -8.3964367,
          -8.3937018,
          -8.388273,
          -8.4163934,
          -8.393876,
          -8.4239344,
          -8.4031807,
          -8.4138525,
          -8.4044037,
          -8.4038182,
          -8.401356,
          -8.4107338,
          -8.4487025,
          -8.4149052,
          -8.3959195,
          -8.390676,
          -8.4160885
         ],
         "marker": {
          "color": [
           104000,
           104000,
           80000,
           105000,
           140000,
           129900,
           160000,
           124000,
           125000,
           95000,
           130000,
           110000,
           110000,
           95000,
           230000,
           115000,
           90000,
           180000,
           75000,
           135000,
           180000,
           120000,
           115000,
           142900,
           89000,
           48000,
           99000,
           94000,
           160000,
           94000,
           99990,
           169000,
           65000,
           110000,
           120000,
           110000,
           94000,
           92000,
           135000,
           90000,
           80000,
           91000,
           115000,
           155000,
           63000,
           180000,
           99000,
           160000,
           79000,
           160000,
           169000,
           60000,
           85000,
           180253,
           165000,
           56700,
           68140,
           35000,
           230000,
           120000,
           125000,
           129000
          ],
          "coloraxis": "coloraxis",
          "size": [
           1095,
           1224,
           1333,
           1382,
           1014,
           1299,
           1322,
           1378,
           1126,
           1357,
           1340,
           1058,
           1250,
           1338,
           1278,
           1150,
           1385,
           1277,
           1250,
           1125,
           1277,
           1290,
           1369,
           1276,
           1060,
           565,
           861,
           1068,
           1322,
           1133,
           1087,
           1374,
           458,
           1222,
           1250,
           1236,
           1068,
           1122,
           1250,
           1169,
           1379,
           978,
           1369,
           1250,
           797,
           1304,
           1031,
           1322,
           1234,
           1391,
           1374,
           612,
           1024,
           1269,
           1387,
           834,
           1136,
           389,
           663,
           1176,
           1190,
           1277
          ],
          "sizemode": "area",
          "sizeref": 3.4775
         },
         "mode": "markers",
         "name": "",
         "showlegend": false,
         "subplot": "mapbox",
         "type": "scattermapbox"
        }
       ],
       "layout": {
        "coloraxis": {
         "colorbar": {
          "title": {
           "text": "price"
          }
         },
         "colorscale": [
          [
           0,
           "blue"
          ],
          [
           1,
           "red"
          ]
         ]
        },
        "height": 800,
        "legend": {
         "itemsizing": "constant",
         "tracegroupgap": 0
        },
        "mapbox": {
         "center": {
          "lat": 43.35594419032258,
          "lon": -8.409811193548386
         },
         "domain": {
          "x": [
           0,
           1
          ],
          "y": [
           0,
           1
          ]
         },
         "style": "carto-positron",
         "zoom": 13
        },
        "margin": {
         "b": 0,
         "l": 0,
         "r": 0,
         "t": 0
        },
        "template": {
         "data": {
          "bar": [
           {
            "error_x": {
             "color": "#2a3f5f"
            },
            "error_y": {
             "color": "#2a3f5f"
            },
            "marker": {
             "line": {
              "color": "#E5ECF6",
              "width": 0.5
             },
             "pattern": {
              "fillmode": "overlay",
              "size": 10,
              "solidity": 0.2
             }
            },
            "type": "bar"
           }
          ],
          "barpolar": [
           {
            "marker": {
             "line": {
              "color": "#E5ECF6",
              "width": 0.5
             },
             "pattern": {
              "fillmode": "overlay",
              "size": 10,
              "solidity": 0.2
             }
            },
            "type": "barpolar"
           }
          ],
          "carpet": [
           {
            "aaxis": {
             "endlinecolor": "#2a3f5f",
             "gridcolor": "white",
             "linecolor": "white",
             "minorgridcolor": "white",
             "startlinecolor": "#2a3f5f"
            },
            "baxis": {
             "endlinecolor": "#2a3f5f",
             "gridcolor": "white",
             "linecolor": "white",
             "minorgridcolor": "white",
             "startlinecolor": "#2a3f5f"
            },
            "type": "carpet"
           }
          ],
          "choropleth": [
           {
            "colorbar": {
             "outlinewidth": 0,
             "ticks": ""
            },
            "type": "choropleth"
           }
          ],
          "contour": [
           {
            "colorbar": {
             "outlinewidth": 0,
             "ticks": ""
            },
            "colorscale": [
             [
              0,
              "#0d0887"
             ],
             [
              0.1111111111111111,
              "#46039f"
             ],
             [
              0.2222222222222222,
              "#7201a8"
             ],
             [
              0.3333333333333333,
              "#9c179e"
             ],
             [
              0.4444444444444444,
              "#bd3786"
             ],
             [
              0.5555555555555556,
              "#d8576b"
             ],
             [
              0.6666666666666666,
              "#ed7953"
             ],
             [
              0.7777777777777778,
              "#fb9f3a"
             ],
             [
              0.8888888888888888,
              "#fdca26"
             ],
             [
              1,
              "#f0f921"
             ]
            ],
            "type": "contour"
           }
          ],
          "contourcarpet": [
           {
            "colorbar": {
             "outlinewidth": 0,
             "ticks": ""
            },
            "type": "contourcarpet"
           }
          ],
          "heatmap": [
           {
            "colorbar": {
             "outlinewidth": 0,
             "ticks": ""
            },
            "colorscale": [
             [
              0,
              "#0d0887"
             ],
             [
              0.1111111111111111,
              "#46039f"
             ],
             [
              0.2222222222222222,
              "#7201a8"
             ],
             [
              0.3333333333333333,
              "#9c179e"
             ],
             [
              0.4444444444444444,
              "#bd3786"
             ],
             [
              0.5555555555555556,
              "#d8576b"
             ],
             [
              0.6666666666666666,
              "#ed7953"
             ],
             [
              0.7777777777777778,
              "#fb9f3a"
             ],
             [
              0.8888888888888888,
              "#fdca26"
             ],
             [
              1,
              "#f0f921"
             ]
            ],
            "type": "heatmap"
           }
          ],
          "heatmapgl": [
           {
            "colorbar": {
             "outlinewidth": 0,
             "ticks": ""
            },
            "colorscale": [
             [
              0,
              "#0d0887"
             ],
             [
              0.1111111111111111,
              "#46039f"
             ],
             [
              0.2222222222222222,
              "#7201a8"
             ],
             [
              0.3333333333333333,
              "#9c179e"
             ],
             [
              0.4444444444444444,
              "#bd3786"
             ],
             [
              0.5555555555555556,
              "#d8576b"
             ],
             [
              0.6666666666666666,
              "#ed7953"
             ],
             [
              0.7777777777777778,
              "#fb9f3a"
             ],
             [
              0.8888888888888888,
              "#fdca26"
             ],
             [
              1,
              "#f0f921"
             ]
            ],
            "type": "heatmapgl"
           }
          ],
          "histogram": [
           {
            "marker": {
             "pattern": {
              "fillmode": "overlay",
              "size": 10,
              "solidity": 0.2
             }
            },
            "type": "histogram"
           }
          ],
          "histogram2d": [
           {
            "colorbar": {
             "outlinewidth": 0,
             "ticks": ""
            },
            "colorscale": [
             [
              0,
              "#0d0887"
             ],
             [
              0.1111111111111111,
              "#46039f"
             ],
             [
              0.2222222222222222,
              "#7201a8"
             ],
             [
              0.3333333333333333,
              "#9c179e"
             ],
             [
              0.4444444444444444,
              "#bd3786"
             ],
             [
              0.5555555555555556,
              "#d8576b"
             ],
             [
              0.6666666666666666,
              "#ed7953"
             ],
             [
              0.7777777777777778,
              "#fb9f3a"
             ],
             [
              0.8888888888888888,
              "#fdca26"
             ],
             [
              1,
              "#f0f921"
             ]
            ],
            "type": "histogram2d"
           }
          ],
          "histogram2dcontour": [
           {
            "colorbar": {
             "outlinewidth": 0,
             "ticks": ""
            },
            "colorscale": [
             [
              0,
              "#0d0887"
             ],
             [
              0.1111111111111111,
              "#46039f"
             ],
             [
              0.2222222222222222,
              "#7201a8"
             ],
             [
              0.3333333333333333,
              "#9c179e"
             ],
             [
              0.4444444444444444,
              "#bd3786"
             ],
             [
              0.5555555555555556,
              "#d8576b"
             ],
             [
              0.6666666666666666,
              "#ed7953"
             ],
             [
              0.7777777777777778,
              "#fb9f3a"
             ],
             [
              0.8888888888888888,
              "#fdca26"
             ],
             [
              1,
              "#f0f921"
             ]
            ],
            "type": "histogram2dcontour"
           }
          ],
          "mesh3d": [
           {
            "colorbar": {
             "outlinewidth": 0,
             "ticks": ""
            },
            "type": "mesh3d"
           }
          ],
          "parcoords": [
           {
            "line": {
             "colorbar": {
              "outlinewidth": 0,
              "ticks": ""
             }
            },
            "type": "parcoords"
           }
          ],
          "pie": [
           {
            "automargin": true,
            "type": "pie"
           }
          ],
          "scatter": [
           {
            "fillpattern": {
             "fillmode": "overlay",
             "size": 10,
             "solidity": 0.2
            },
            "type": "scatter"
           }
          ],
          "scatter3d": [
           {
            "line": {
             "colorbar": {
              "outlinewidth": 0,
              "ticks": ""
             }
            },
            "marker": {
             "colorbar": {
              "outlinewidth": 0,
              "ticks": ""
             }
            },
            "type": "scatter3d"
           }
          ],
          "scattercarpet": [
           {
            "marker": {
             "colorbar": {
              "outlinewidth": 0,
              "ticks": ""
             }
            },
            "type": "scattercarpet"
           }
          ],
          "scattergeo": [
           {
            "marker": {
             "colorbar": {
              "outlinewidth": 0,
              "ticks": ""
             }
            },
            "type": "scattergeo"
           }
          ],
          "scattergl": [
           {
            "marker": {
             "colorbar": {
              "outlinewidth": 0,
              "ticks": ""
             }
            },
            "type": "scattergl"
           }
          ],
          "scattermapbox": [
           {
            "marker": {
             "colorbar": {
              "outlinewidth": 0,
              "ticks": ""
             }
            },
            "type": "scattermapbox"
           }
          ],
          "scatterpolar": [
           {
            "marker": {
             "colorbar": {
              "outlinewidth": 0,
              "ticks": ""
             }
            },
            "type": "scatterpolar"
           }
          ],
          "scatterpolargl": [
           {
            "marker": {
             "colorbar": {
              "outlinewidth": 0,
              "ticks": ""
             }
            },
            "type": "scatterpolargl"
           }
          ],
          "scatterternary": [
           {
            "marker": {
             "colorbar": {
              "outlinewidth": 0,
              "ticks": ""
             }
            },
            "type": "scatterternary"
           }
          ],
          "surface": [
           {
            "colorbar": {
             "outlinewidth": 0,
             "ticks": ""
            },
            "colorscale": [
             [
              0,
              "#0d0887"
             ],
             [
              0.1111111111111111,
              "#46039f"
             ],
             [
              0.2222222222222222,
              "#7201a8"
             ],
             [
              0.3333333333333333,
              "#9c179e"
             ],
             [
              0.4444444444444444,
              "#bd3786"
             ],
             [
              0.5555555555555556,
              "#d8576b"
             ],
             [
              0.6666666666666666,
              "#ed7953"
             ],
             [
              0.7777777777777778,
              "#fb9f3a"
             ],
             [
              0.8888888888888888,
              "#fdca26"
             ],
             [
              1,
              "#f0f921"
             ]
            ],
            "type": "surface"
           }
          ],
          "table": [
           {
            "cells": {
             "fill": {
              "color": "#EBF0F8"
             },
             "line": {
              "color": "white"
             }
            },
            "header": {
             "fill": {
              "color": "#C8D4E3"
             },
             "line": {
              "color": "white"
             }
            },
            "type": "table"
           }
          ]
         },
         "layout": {
          "annotationdefaults": {
           "arrowcolor": "#2a3f5f",
           "arrowhead": 0,
           "arrowwidth": 1
          },
          "autotypenumbers": "strict",
          "coloraxis": {
           "colorbar": {
            "outlinewidth": 0,
            "ticks": ""
           }
          },
          "colorscale": {
           "diverging": [
            [
             0,
             "#8e0152"
            ],
            [
             0.1,
             "#c51b7d"
            ],
            [
             0.2,
             "#de77ae"
            ],
            [
             0.3,
             "#f1b6da"
            ],
            [
             0.4,
             "#fde0ef"
            ],
            [
             0.5,
             "#f7f7f7"
            ],
            [
             0.6,
             "#e6f5d0"
            ],
            [
             0.7,
             "#b8e186"
            ],
            [
             0.8,
             "#7fbc41"
            ],
            [
             0.9,
             "#4d9221"
            ],
            [
             1,
             "#276419"
            ]
           ],
           "sequential": [
            [
             0,
             "#0d0887"
            ],
            [
             0.1111111111111111,
             "#46039f"
            ],
            [
             0.2222222222222222,
             "#7201a8"
            ],
            [
             0.3333333333333333,
             "#9c179e"
            ],
            [
             0.4444444444444444,
             "#bd3786"
            ],
            [
             0.5555555555555556,
             "#d8576b"
            ],
            [
             0.6666666666666666,
             "#ed7953"
            ],
            [
             0.7777777777777778,
             "#fb9f3a"
            ],
            [
             0.8888888888888888,
             "#fdca26"
            ],
            [
             1,
             "#f0f921"
            ]
           ],
           "sequentialminus": [
            [
             0,
             "#0d0887"
            ],
            [
             0.1111111111111111,
             "#46039f"
            ],
            [
             0.2222222222222222,
             "#7201a8"
            ],
            [
             0.3333333333333333,
             "#9c179e"
            ],
            [
             0.4444444444444444,
             "#bd3786"
            ],
            [
             0.5555555555555556,
             "#d8576b"
            ],
            [
             0.6666666666666666,
             "#ed7953"
            ],
            [
             0.7777777777777778,
             "#fb9f3a"
            ],
            [
             0.8888888888888888,
             "#fdca26"
            ],
            [
             1,
             "#f0f921"
            ]
           ]
          },
          "colorway": [
           "#636efa",
           "#EF553B",
           "#00cc96",
           "#ab63fa",
           "#FFA15A",
           "#19d3f3",
           "#FF6692",
           "#B6E880",
           "#FF97FF",
           "#FECB52"
          ],
          "font": {
           "color": "#2a3f5f"
          },
          "geo": {
           "bgcolor": "white",
           "lakecolor": "white",
           "landcolor": "#E5ECF6",
           "showlakes": true,
           "showland": true,
           "subunitcolor": "white"
          },
          "hoverlabel": {
           "align": "left"
          },
          "hovermode": "closest",
          "mapbox": {
           "style": "light"
          },
          "paper_bgcolor": "white",
          "plot_bgcolor": "#E5ECF6",
          "polar": {
           "angularaxis": {
            "gridcolor": "white",
            "linecolor": "white",
            "ticks": ""
           },
           "bgcolor": "#E5ECF6",
           "radialaxis": {
            "gridcolor": "white",
            "linecolor": "white",
            "ticks": ""
           }
          },
          "scene": {
           "xaxis": {
            "backgroundcolor": "#E5ECF6",
            "gridcolor": "white",
            "gridwidth": 2,
            "linecolor": "white",
            "showbackground": true,
            "ticks": "",
            "zerolinecolor": "white"
           },
           "yaxis": {
            "backgroundcolor": "#E5ECF6",
            "gridcolor": "white",
            "gridwidth": 2,
            "linecolor": "white",
            "showbackground": true,
            "ticks": "",
            "zerolinecolor": "white"
           },
           "zaxis": {
            "backgroundcolor": "#E5ECF6",
            "gridcolor": "white",
            "gridwidth": 2,
            "linecolor": "white",
            "showbackground": true,
            "ticks": "",
            "zerolinecolor": "white"
           }
          },
          "shapedefaults": {
           "line": {
            "color": "#2a3f5f"
           }
          },
          "ternary": {
           "aaxis": {
            "gridcolor": "white",
            "linecolor": "white",
            "ticks": ""
           },
           "baxis": {
            "gridcolor": "white",
            "linecolor": "white",
            "ticks": ""
           },
           "bgcolor": "#E5ECF6",
           "caxis": {
            "gridcolor": "white",
            "linecolor": "white",
            "ticks": ""
           }
          },
          "title": {
           "x": 0.05
          },
          "xaxis": {
           "automargin": true,
           "gridcolor": "white",
           "linecolor": "white",
           "ticks": "",
           "title": {
            "standoff": 15
           },
           "zerolinecolor": "white",
           "zerolinewidth": 2
          },
          "yaxis": {
           "automargin": true,
           "gridcolor": "white",
           "linecolor": "white",
           "ticks": "",
           "title": {
            "standoff": 15
           },
           "zerolinecolor": "white",
           "zerolinewidth": 2
          }
         }
        },
        "width": 800
       }
      }
     },
     "metadata": {},
     "output_type": "display_data"
    }
   ],
   "source": [
    "df.sort_values(by='priceByArea', ascending = True)\n",
    "df_temp = df[df['priceByArea'] < 1400]\n",
    "# \n",
    "color_scale = [(0, 'blue'), (1,'red')]\n",
    "fig = px.scatter_mapbox(df_temp, \n",
    "                        lat=\"latitude\", \n",
    "                        lon=\"longitude\", \n",
    "                        hover_name=\"priceByArea\", \n",
    "                        hover_data=[\"priceByArea\",\"price\",\"size\",\"rooms\",\"url\"],\n",
    "                        color=\"price\",\n",
    "                        color_continuous_scale=color_scale,\n",
    "                        size=\"priceByArea\",\n",
    "                        zoom=13,\n",
    "                        height=800,\n",
    "                        width=800)\n",
    "# fig.update_layout(mapbox_style=\"open-street-map\")\n",
    "fig.update_layout(mapbox_style=\"carto-positron\") \n",
    "# fig.update_layout(mapbox_style=\"stamen-terrain\")\n",
    "# fig.update_layout(mapbox_style=\"satellite\") -> Need Mapbox API\n",
    "fig.update_layout(margin={\"r\":0,\"t\":0,\"l\":0,\"b\":0})\n",
    "fig.show()"
   ]
  },
  {
   "cell_type": "code",
   "execution_count": 26,
   "metadata": {},
   "outputs": [
    {
     "data": {
      "application/vnd.plotly.v1+json": {
       "config": {
        "plotlyServerURL": "https://plot.ly"
       },
       "data": [
        {
         "customdata": [
          [
           1333,
           80000,
           60,
           2,
           "https://www.idealista.com/inmueble/98951857/",
           98951857
          ],
          [
           1455,
           80000,
           55,
           2,
           "https://www.idealista.com/inmueble/98730461/",
           98730461
          ],
          [
           1357,
           95000,
           70,
           3,
           "https://www.idealista.com/inmueble/98672566/",
           98672566
          ],
          [
           1423,
           74000,
           52,
           3,
           "https://www.idealista.com/inmueble/97484683/",
           97484683
          ],
          [
           1419,
           97900,
           69,
           2,
           "https://www.idealista.com/inmueble/87432760/",
           87432760
          ],
          [
           1338,
           95000,
           71,
           2,
           "https://www.idealista.com/inmueble/99244794/",
           99244794
          ],
          [
           1400,
           98000,
           70,
           2,
           "https://www.idealista.com/inmueble/98761306/",
           98761306
          ],
          [
           1385,
           90000,
           65,
           2,
           "https://www.idealista.com/inmueble/98775363/",
           98775363
          ],
          [
           1250,
           75000,
           60,
           3,
           "https://www.idealista.com/inmueble/99130874/",
           99130874
          ],
          [
           1060,
           89000,
           84,
           3,
           "https://www.idealista.com/inmueble/98948219/",
           98948219
          ],
          [
           565,
           48000,
           85,
           2,
           "https://www.idealista.com/inmueble/94451681/",
           94451681
          ],
          [
           861,
           99000,
           115,
           4,
           "https://www.idealista.com/inmueble/98329761/",
           98329761
          ],
          [
           1068,
           94000,
           88,
           4,
           "https://www.idealista.com/inmueble/98569854/",
           98569854
          ],
          [
           1133,
           94000,
           83,
           3,
           "https://www.idealista.com/inmueble/95390311/",
           95390311
          ],
          [
           1438,
           69000,
           48,
           2,
           "https://www.idealista.com/inmueble/98131098/",
           98131098
          ],
          [
           1087,
           99990,
           92,
           4,
           "https://www.idealista.com/inmueble/96339597/",
           96339597
          ],
          [
           458,
           65000,
           142,
           1,
           "https://www.idealista.com/inmueble/98400091/",
           98400091
          ],
          [
           1068,
           94000,
           88,
           3,
           "https://www.idealista.com/inmueble/95862253/",
           95862253
          ],
          [
           1122,
           92000,
           82,
           3,
           "https://www.idealista.com/inmueble/99167245/",
           99167245
          ],
          [
           1169,
           90000,
           77,
           2,
           "https://www.idealista.com/inmueble/97927506/",
           97927506
          ],
          [
           1379,
           80000,
           58,
           3,
           "https://www.idealista.com/inmueble/99128660/",
           99128660
          ],
          [
           978,
           91000,
           93,
           3,
           "https://www.idealista.com/inmueble/96800581/",
           96800581
          ],
          [
           797,
           63000,
           79,
           3,
           "https://www.idealista.com/inmueble/94760209/",
           94760209
          ],
          [
           1031,
           99000,
           96,
           2,
           "https://www.idealista.com/inmueble/97502398/",
           97502398
          ],
          [
           1234,
           79000,
           64,
           2,
           "https://www.idealista.com/inmueble/98661141/",
           98661141
          ],
          [
           612,
           60000,
           98,
           3,
           "https://www.idealista.com/inmueble/98726184/",
           98726184
          ],
          [
           1453,
           93000,
           64,
           2,
           "https://www.idealista.com/inmueble/97845045/",
           97845045
          ],
          [
           1024,
           85000,
           83,
           4,
           "https://www.idealista.com/inmueble/97080486/",
           97080486
          ],
          [
           834,
           56700,
           68,
           3,
           "https://www.idealista.com/inmueble/98889796/",
           98889796
          ],
          [
           1136,
           68140,
           60,
           3,
           "https://www.idealista.com/inmueble/86571981/",
           86571981
          ],
          [
           389,
           35000,
           90,
           3,
           "https://www.idealista.com/inmueble/98579735/",
           98579735
          ]
         ],
         "hovertemplate": "<b>%{hovertext}</b><br><br>price=%{customdata[1]}<br>latitude=%{lat}<br>longitude=%{lon}<br>priceByArea=%{marker.color}<br>size=%{customdata[2]}<br>rooms=%{customdata[3]}<br>url=%{customdata[4]}<br>propertyCode=%{customdata[5]}<extra></extra>",
         "hovertext": [
          80000,
          80000,
          95000,
          74000,
          97900,
          95000,
          98000,
          90000,
          75000,
          89000,
          48000,
          99000,
          94000,
          94000,
          69000,
          99990,
          65000,
          94000,
          92000,
          90000,
          80000,
          91000,
          63000,
          99000,
          79000,
          60000,
          93000,
          85000,
          56700,
          68140,
          35000
         ],
         "lat": [
          43.3816913,
          43.3537291,
          43.351517,
          43.3638002,
          43.3488371,
          43.3542445,
          43.358247,
          43.3686653,
          43.3530455,
          43.3609164,
          43.3459191,
          43.3578078,
          43.3542737,
          43.3549357,
          43.3577666,
          43.3550804,
          43.3545217,
          43.3522737,
          43.359264,
          43.3558783,
          43.3641533,
          43.3643295,
          43.3482675,
          43.3532258,
          43.3585823,
          43.3335198,
          43.3546832,
          43.3626711,
          43.3484473,
          43.3543529,
          43.359342
         ],
         "legendgroup": "",
         "lon": [
          -8.4012427,
          -8.3985264,
          -8.4131324,
          -8.4223777,
          -8.4457856,
          -8.3954447,
          -8.4126044,
          -8.433695,
          -8.4072333,
          -8.4173491,
          -8.3922309,
          -8.4158992,
          -8.3953593,
          -8.3934744,
          -8.4143414,
          -8.4135607,
          -8.4417623,
          -8.3969593,
          -8.4162592,
          -8.4113763,
          -8.4258262,
          -8.4248449,
          -8.4444066,
          -8.3937018,
          -8.4163934,
          -8.4031807,
          -8.3938447,
          -8.4138525,
          -8.401356,
          -8.4107338,
          -8.4487025
         ],
         "marker": {
          "color": [
           1333,
           1455,
           1357,
           1423,
           1419,
           1338,
           1400,
           1385,
           1250,
           1060,
           565,
           861,
           1068,
           1133,
           1438,
           1087,
           458,
           1068,
           1122,
           1169,
           1379,
           978,
           797,
           1031,
           1234,
           612,
           1453,
           1024,
           834,
           1136,
           389
          ],
          "coloraxis": "coloraxis",
          "size": [
           80000,
           80000,
           95000,
           74000,
           97900,
           95000,
           98000,
           90000,
           75000,
           89000,
           48000,
           99000,
           94000,
           94000,
           69000,
           99990,
           65000,
           94000,
           92000,
           90000,
           80000,
           91000,
           63000,
           99000,
           79000,
           60000,
           93000,
           85000,
           56700,
           68140,
           35000
          ],
          "sizemode": "area",
          "sizeref": 249.975
         },
         "mode": "markers",
         "name": "",
         "showlegend": false,
         "subplot": "mapbox",
         "type": "scattermapbox"
        }
       ],
       "layout": {
        "coloraxis": {
         "colorbar": {
          "title": {
           "text": "priceByArea"
          }
         },
         "colorscale": [
          [
           0,
           "blue"
          ],
          [
           1,
           "red"
          ]
         ]
        },
        "height": 800,
        "legend": {
         "itemsizing": "constant",
         "tracegroupgap": 0
        },
        "mapbox": {
         "center": {
          "lat": 43.35625771290323,
          "lon": -8.413401851612903
         },
         "domain": {
          "x": [
           0,
           1
          ],
          "y": [
           0,
           1
          ]
         },
         "style": "carto-positron",
         "zoom": 13
        },
        "margin": {
         "b": 0,
         "l": 0,
         "r": 0,
         "t": 0
        },
        "template": {
         "data": {
          "bar": [
           {
            "error_x": {
             "color": "#2a3f5f"
            },
            "error_y": {
             "color": "#2a3f5f"
            },
            "marker": {
             "line": {
              "color": "#E5ECF6",
              "width": 0.5
             },
             "pattern": {
              "fillmode": "overlay",
              "size": 10,
              "solidity": 0.2
             }
            },
            "type": "bar"
           }
          ],
          "barpolar": [
           {
            "marker": {
             "line": {
              "color": "#E5ECF6",
              "width": 0.5
             },
             "pattern": {
              "fillmode": "overlay",
              "size": 10,
              "solidity": 0.2
             }
            },
            "type": "barpolar"
           }
          ],
          "carpet": [
           {
            "aaxis": {
             "endlinecolor": "#2a3f5f",
             "gridcolor": "white",
             "linecolor": "white",
             "minorgridcolor": "white",
             "startlinecolor": "#2a3f5f"
            },
            "baxis": {
             "endlinecolor": "#2a3f5f",
             "gridcolor": "white",
             "linecolor": "white",
             "minorgridcolor": "white",
             "startlinecolor": "#2a3f5f"
            },
            "type": "carpet"
           }
          ],
          "choropleth": [
           {
            "colorbar": {
             "outlinewidth": 0,
             "ticks": ""
            },
            "type": "choropleth"
           }
          ],
          "contour": [
           {
            "colorbar": {
             "outlinewidth": 0,
             "ticks": ""
            },
            "colorscale": [
             [
              0,
              "#0d0887"
             ],
             [
              0.1111111111111111,
              "#46039f"
             ],
             [
              0.2222222222222222,
              "#7201a8"
             ],
             [
              0.3333333333333333,
              "#9c179e"
             ],
             [
              0.4444444444444444,
              "#bd3786"
             ],
             [
              0.5555555555555556,
              "#d8576b"
             ],
             [
              0.6666666666666666,
              "#ed7953"
             ],
             [
              0.7777777777777778,
              "#fb9f3a"
             ],
             [
              0.8888888888888888,
              "#fdca26"
             ],
             [
              1,
              "#f0f921"
             ]
            ],
            "type": "contour"
           }
          ],
          "contourcarpet": [
           {
            "colorbar": {
             "outlinewidth": 0,
             "ticks": ""
            },
            "type": "contourcarpet"
           }
          ],
          "heatmap": [
           {
            "colorbar": {
             "outlinewidth": 0,
             "ticks": ""
            },
            "colorscale": [
             [
              0,
              "#0d0887"
             ],
             [
              0.1111111111111111,
              "#46039f"
             ],
             [
              0.2222222222222222,
              "#7201a8"
             ],
             [
              0.3333333333333333,
              "#9c179e"
             ],
             [
              0.4444444444444444,
              "#bd3786"
             ],
             [
              0.5555555555555556,
              "#d8576b"
             ],
             [
              0.6666666666666666,
              "#ed7953"
             ],
             [
              0.7777777777777778,
              "#fb9f3a"
             ],
             [
              0.8888888888888888,
              "#fdca26"
             ],
             [
              1,
              "#f0f921"
             ]
            ],
            "type": "heatmap"
           }
          ],
          "heatmapgl": [
           {
            "colorbar": {
             "outlinewidth": 0,
             "ticks": ""
            },
            "colorscale": [
             [
              0,
              "#0d0887"
             ],
             [
              0.1111111111111111,
              "#46039f"
             ],
             [
              0.2222222222222222,
              "#7201a8"
             ],
             [
              0.3333333333333333,
              "#9c179e"
             ],
             [
              0.4444444444444444,
              "#bd3786"
             ],
             [
              0.5555555555555556,
              "#d8576b"
             ],
             [
              0.6666666666666666,
              "#ed7953"
             ],
             [
              0.7777777777777778,
              "#fb9f3a"
             ],
             [
              0.8888888888888888,
              "#fdca26"
             ],
             [
              1,
              "#f0f921"
             ]
            ],
            "type": "heatmapgl"
           }
          ],
          "histogram": [
           {
            "marker": {
             "pattern": {
              "fillmode": "overlay",
              "size": 10,
              "solidity": 0.2
             }
            },
            "type": "histogram"
           }
          ],
          "histogram2d": [
           {
            "colorbar": {
             "outlinewidth": 0,
             "ticks": ""
            },
            "colorscale": [
             [
              0,
              "#0d0887"
             ],
             [
              0.1111111111111111,
              "#46039f"
             ],
             [
              0.2222222222222222,
              "#7201a8"
             ],
             [
              0.3333333333333333,
              "#9c179e"
             ],
             [
              0.4444444444444444,
              "#bd3786"
             ],
             [
              0.5555555555555556,
              "#d8576b"
             ],
             [
              0.6666666666666666,
              "#ed7953"
             ],
             [
              0.7777777777777778,
              "#fb9f3a"
             ],
             [
              0.8888888888888888,
              "#fdca26"
             ],
             [
              1,
              "#f0f921"
             ]
            ],
            "type": "histogram2d"
           }
          ],
          "histogram2dcontour": [
           {
            "colorbar": {
             "outlinewidth": 0,
             "ticks": ""
            },
            "colorscale": [
             [
              0,
              "#0d0887"
             ],
             [
              0.1111111111111111,
              "#46039f"
             ],
             [
              0.2222222222222222,
              "#7201a8"
             ],
             [
              0.3333333333333333,
              "#9c179e"
             ],
             [
              0.4444444444444444,
              "#bd3786"
             ],
             [
              0.5555555555555556,
              "#d8576b"
             ],
             [
              0.6666666666666666,
              "#ed7953"
             ],
             [
              0.7777777777777778,
              "#fb9f3a"
             ],
             [
              0.8888888888888888,
              "#fdca26"
             ],
             [
              1,
              "#f0f921"
             ]
            ],
            "type": "histogram2dcontour"
           }
          ],
          "mesh3d": [
           {
            "colorbar": {
             "outlinewidth": 0,
             "ticks": ""
            },
            "type": "mesh3d"
           }
          ],
          "parcoords": [
           {
            "line": {
             "colorbar": {
              "outlinewidth": 0,
              "ticks": ""
             }
            },
            "type": "parcoords"
           }
          ],
          "pie": [
           {
            "automargin": true,
            "type": "pie"
           }
          ],
          "scatter": [
           {
            "fillpattern": {
             "fillmode": "overlay",
             "size": 10,
             "solidity": 0.2
            },
            "type": "scatter"
           }
          ],
          "scatter3d": [
           {
            "line": {
             "colorbar": {
              "outlinewidth": 0,
              "ticks": ""
             }
            },
            "marker": {
             "colorbar": {
              "outlinewidth": 0,
              "ticks": ""
             }
            },
            "type": "scatter3d"
           }
          ],
          "scattercarpet": [
           {
            "marker": {
             "colorbar": {
              "outlinewidth": 0,
              "ticks": ""
             }
            },
            "type": "scattercarpet"
           }
          ],
          "scattergeo": [
           {
            "marker": {
             "colorbar": {
              "outlinewidth": 0,
              "ticks": ""
             }
            },
            "type": "scattergeo"
           }
          ],
          "scattergl": [
           {
            "marker": {
             "colorbar": {
              "outlinewidth": 0,
              "ticks": ""
             }
            },
            "type": "scattergl"
           }
          ],
          "scattermapbox": [
           {
            "marker": {
             "colorbar": {
              "outlinewidth": 0,
              "ticks": ""
             }
            },
            "type": "scattermapbox"
           }
          ],
          "scatterpolar": [
           {
            "marker": {
             "colorbar": {
              "outlinewidth": 0,
              "ticks": ""
             }
            },
            "type": "scatterpolar"
           }
          ],
          "scatterpolargl": [
           {
            "marker": {
             "colorbar": {
              "outlinewidth": 0,
              "ticks": ""
             }
            },
            "type": "scatterpolargl"
           }
          ],
          "scatterternary": [
           {
            "marker": {
             "colorbar": {
              "outlinewidth": 0,
              "ticks": ""
             }
            },
            "type": "scatterternary"
           }
          ],
          "surface": [
           {
            "colorbar": {
             "outlinewidth": 0,
             "ticks": ""
            },
            "colorscale": [
             [
              0,
              "#0d0887"
             ],
             [
              0.1111111111111111,
              "#46039f"
             ],
             [
              0.2222222222222222,
              "#7201a8"
             ],
             [
              0.3333333333333333,
              "#9c179e"
             ],
             [
              0.4444444444444444,
              "#bd3786"
             ],
             [
              0.5555555555555556,
              "#d8576b"
             ],
             [
              0.6666666666666666,
              "#ed7953"
             ],
             [
              0.7777777777777778,
              "#fb9f3a"
             ],
             [
              0.8888888888888888,
              "#fdca26"
             ],
             [
              1,
              "#f0f921"
             ]
            ],
            "type": "surface"
           }
          ],
          "table": [
           {
            "cells": {
             "fill": {
              "color": "#EBF0F8"
             },
             "line": {
              "color": "white"
             }
            },
            "header": {
             "fill": {
              "color": "#C8D4E3"
             },
             "line": {
              "color": "white"
             }
            },
            "type": "table"
           }
          ]
         },
         "layout": {
          "annotationdefaults": {
           "arrowcolor": "#2a3f5f",
           "arrowhead": 0,
           "arrowwidth": 1
          },
          "autotypenumbers": "strict",
          "coloraxis": {
           "colorbar": {
            "outlinewidth": 0,
            "ticks": ""
           }
          },
          "colorscale": {
           "diverging": [
            [
             0,
             "#8e0152"
            ],
            [
             0.1,
             "#c51b7d"
            ],
            [
             0.2,
             "#de77ae"
            ],
            [
             0.3,
             "#f1b6da"
            ],
            [
             0.4,
             "#fde0ef"
            ],
            [
             0.5,
             "#f7f7f7"
            ],
            [
             0.6,
             "#e6f5d0"
            ],
            [
             0.7,
             "#b8e186"
            ],
            [
             0.8,
             "#7fbc41"
            ],
            [
             0.9,
             "#4d9221"
            ],
            [
             1,
             "#276419"
            ]
           ],
           "sequential": [
            [
             0,
             "#0d0887"
            ],
            [
             0.1111111111111111,
             "#46039f"
            ],
            [
             0.2222222222222222,
             "#7201a8"
            ],
            [
             0.3333333333333333,
             "#9c179e"
            ],
            [
             0.4444444444444444,
             "#bd3786"
            ],
            [
             0.5555555555555556,
             "#d8576b"
            ],
            [
             0.6666666666666666,
             "#ed7953"
            ],
            [
             0.7777777777777778,
             "#fb9f3a"
            ],
            [
             0.8888888888888888,
             "#fdca26"
            ],
            [
             1,
             "#f0f921"
            ]
           ],
           "sequentialminus": [
            [
             0,
             "#0d0887"
            ],
            [
             0.1111111111111111,
             "#46039f"
            ],
            [
             0.2222222222222222,
             "#7201a8"
            ],
            [
             0.3333333333333333,
             "#9c179e"
            ],
            [
             0.4444444444444444,
             "#bd3786"
            ],
            [
             0.5555555555555556,
             "#d8576b"
            ],
            [
             0.6666666666666666,
             "#ed7953"
            ],
            [
             0.7777777777777778,
             "#fb9f3a"
            ],
            [
             0.8888888888888888,
             "#fdca26"
            ],
            [
             1,
             "#f0f921"
            ]
           ]
          },
          "colorway": [
           "#636efa",
           "#EF553B",
           "#00cc96",
           "#ab63fa",
           "#FFA15A",
           "#19d3f3",
           "#FF6692",
           "#B6E880",
           "#FF97FF",
           "#FECB52"
          ],
          "font": {
           "color": "#2a3f5f"
          },
          "geo": {
           "bgcolor": "white",
           "lakecolor": "white",
           "landcolor": "#E5ECF6",
           "showlakes": true,
           "showland": true,
           "subunitcolor": "white"
          },
          "hoverlabel": {
           "align": "left"
          },
          "hovermode": "closest",
          "mapbox": {
           "style": "light"
          },
          "paper_bgcolor": "white",
          "plot_bgcolor": "#E5ECF6",
          "polar": {
           "angularaxis": {
            "gridcolor": "white",
            "linecolor": "white",
            "ticks": ""
           },
           "bgcolor": "#E5ECF6",
           "radialaxis": {
            "gridcolor": "white",
            "linecolor": "white",
            "ticks": ""
           }
          },
          "scene": {
           "xaxis": {
            "backgroundcolor": "#E5ECF6",
            "gridcolor": "white",
            "gridwidth": 2,
            "linecolor": "white",
            "showbackground": true,
            "ticks": "",
            "zerolinecolor": "white"
           },
           "yaxis": {
            "backgroundcolor": "#E5ECF6",
            "gridcolor": "white",
            "gridwidth": 2,
            "linecolor": "white",
            "showbackground": true,
            "ticks": "",
            "zerolinecolor": "white"
           },
           "zaxis": {
            "backgroundcolor": "#E5ECF6",
            "gridcolor": "white",
            "gridwidth": 2,
            "linecolor": "white",
            "showbackground": true,
            "ticks": "",
            "zerolinecolor": "white"
           }
          },
          "shapedefaults": {
           "line": {
            "color": "#2a3f5f"
           }
          },
          "ternary": {
           "aaxis": {
            "gridcolor": "white",
            "linecolor": "white",
            "ticks": ""
           },
           "baxis": {
            "gridcolor": "white",
            "linecolor": "white",
            "ticks": ""
           },
           "bgcolor": "#E5ECF6",
           "caxis": {
            "gridcolor": "white",
            "linecolor": "white",
            "ticks": ""
           }
          },
          "title": {
           "x": 0.05
          },
          "xaxis": {
           "automargin": true,
           "gridcolor": "white",
           "linecolor": "white",
           "ticks": "",
           "title": {
            "standoff": 15
           },
           "zerolinecolor": "white",
           "zerolinewidth": 2
          },
          "yaxis": {
           "automargin": true,
           "gridcolor": "white",
           "linecolor": "white",
           "ticks": "",
           "title": {
            "standoff": 15
           },
           "zerolinecolor": "white",
           "zerolinewidth": 2
          }
         }
        },
        "width": 800
       }
      }
     },
     "metadata": {},
     "output_type": "display_data"
    }
   ],
   "source": [
    "df_temp = df[df['priceByArea'] < 1500]\n",
    "df_temp = df_temp[df_temp['price'] < 100000]\n",
    "\n",
    "# \n",
    "color_scale = [(0, 'blue'), (1,'red')]\n",
    "fig = px.scatter_mapbox(df_temp, \n",
    "                        lat=\"latitude\", \n",
    "                        lon=\"longitude\", \n",
    "                        hover_name=\"price\", \n",
    "                        hover_data=[\"priceByArea\",\"price\",\"size\",\"rooms\",\"url\",\"propertyCode\"],\n",
    "                        color=\"priceByArea\",\n",
    "                        color_continuous_scale=color_scale,\n",
    "                        size=\"price\",\n",
    "                        zoom=13,\n",
    "                        height=800,\n",
    "                        width=800)\n",
    "# fig.update_layout(mapbox_style=\"open-street-map\")\n",
    "fig.update_layout(mapbox_style=\"carto-positron\") \n",
    "# fig.update_layout(mapbox_style=\"stamen-terrain\")\n",
    "# fig.update_layout(mapbox_style=\"satellite\") -> Need Mapbox API\n",
    "fig.update_layout(margin={\"r\":0,\"t\":0,\"l\":0,\"b\":0})\n",
    "fig.show()"
   ]
  },
  {
   "cell_type": "code",
   "execution_count": 31,
   "metadata": {},
   "outputs": [
    {
     "data": {
      "text/plain": [
       "362    https://www.idealista.com/inmueble/98329761/\n",
       "453    https://www.idealista.com/inmueble/98400091/\n",
       "Name: url, dtype: object"
      ]
     },
     "execution_count": 31,
     "metadata": {},
     "output_type": "execute_result"
    }
   ],
   "source": [
    "df_temp[df_temp['size']>100]['url']"
   ]
  },
  {
   "cell_type": "code",
   "execution_count": 16,
   "metadata": {},
   "outputs": [
    {
     "data": {
      "text/plain": [
       "61     https://www.idealista.com/inmueble/97827864/\n",
       "495    https://www.idealista.com/inmueble/99139846/\n",
       "Name: url, dtype: object"
      ]
     },
     "execution_count": 16,
     "metadata": {},
     "output_type": "execute_result"
    }
   ],
   "source": [
    "df[(df['price']==200000) & (df['priceByArea']==1961)]['url']"
   ]
  },
  {
   "cell_type": "code",
   "execution_count": 17,
   "metadata": {},
   "outputs": [
    {
     "data": {
      "text/plain": [
       "4      https://www.idealista.com/inmueble/98951857/\n",
       "35     https://www.idealista.com/inmueble/98730461/\n",
       "500    https://www.idealista.com/inmueble/99128660/\n",
       "Name: url, dtype: object"
      ]
     },
     "execution_count": 17,
     "metadata": {},
     "output_type": "execute_result"
    }
   ],
   "source": [
    "df[df['price']==80000]['url']"
   ]
  },
  {
   "cell_type": "code",
   "execution_count": 18,
   "metadata": {},
   "outputs": [
    {
     "data": {
      "text/plain": [
       "Unnamed: 0                                                                                    4\n",
       "propertyCode                                                                           98951857\n",
       "thumbnail                                     https://img3.idealista.com/blur/WEB_LISTING/0/...\n",
       "externalReference                                                                         08629\n",
       "numPhotos                                                                                    16\n",
       "floor                                                                                         2\n",
       "price                                                                                   80000.0\n",
       "propertyType                                                                               flat\n",
       "operation                                                                                  sale\n",
       "size                                                                                       60.0\n",
       "exterior                                                                                  False\n",
       "rooms                                                                                         2\n",
       "bathrooms                                                                                     1\n",
       "address                                                           Monte Alto - Zalaeta - Atocha\n",
       "province                                                                               A Coruña\n",
       "municipality                                                                           A Coruña\n",
       "district                                                          Monte Alto - Zalaeta - Atocha\n",
       "country                                                                                      es\n",
       "latitude                                                                              43.381691\n",
       "longitude                                                                             -8.401243\n",
       "showAddress                                                                               False\n",
       "url                                                https://www.idealista.com/inmueble/98951857/\n",
       "distance                                                                                    535\n",
       "description                                   _Estupendo apartamento en Monte Alto, zona muy...\n",
       "hasVideo                                                                                  False\n",
       "status                                                                                     good\n",
       "newDevelopment                                                                            False\n",
       "hasLift                                                                                   False\n",
       "priceByArea                                                                              1333.0\n",
       "hasPlan                                                                                   False\n",
       "has3DTour                                                                                 False\n",
       "has360                                                                                    False\n",
       "hasStaging                                                                                False\n",
       "superTopHighlight                                                                         False\n",
       "topNewDevelopment                                                                         False\n",
       "detailedType.typology                                                                      flat\n",
       "suggestedTexts.subtitle                                 Monte Alto - Zalaeta - Atocha, A Coruña\n",
       "suggestedTexts.title                                                                       Piso\n",
       "parkingSpace.hasParkingSpace                                                                NaN\n",
       "parkingSpace.isParkingSpaceIncludedInPrice                                                  NaN\n",
       "detailedType.subTypology                                                                    NaN\n",
       "labels                                        [{'name': 'apartamentoType', 'text': 'Apartame...\n",
       "neighborhood                                                                                NaN\n",
       "parkingSpace.parkingSpacePrice                                                              NaN\n",
       "newDevelopmentFinished                                                                      NaN\n",
       "Name: 4, dtype: object"
      ]
     },
     "execution_count": 18,
     "metadata": {},
     "output_type": "execute_result"
    }
   ],
   "source": [
    "df[df['price']==80000].iloc[0]"
   ]
  },
  {
   "cell_type": "code",
   "execution_count": 19,
   "metadata": {},
   "outputs": [
    {
     "data": {
      "text/plain": [
       "580    https://www.idealista.com/inmueble/99269703/\n",
       "Name: url, dtype: object"
      ]
     },
     "execution_count": 19,
     "metadata": {},
     "output_type": "execute_result"
    }
   ],
   "source": [
    "df[df['propertyCode']==99269703]['url']"
   ]
  },
  {
   "cell_type": "code",
   "execution_count": 20,
   "metadata": {},
   "outputs": [
    {
     "data": {
      "text/html": [
       "<div>\n",
       "<style scoped>\n",
       "    .dataframe tbody tr th:only-of-type {\n",
       "        vertical-align: middle;\n",
       "    }\n",
       "\n",
       "    .dataframe tbody tr th {\n",
       "        vertical-align: top;\n",
       "    }\n",
       "\n",
       "    .dataframe thead th {\n",
       "        text-align: right;\n",
       "    }\n",
       "</style>\n",
       "<table border=\"1\" class=\"dataframe\">\n",
       "  <thead>\n",
       "    <tr style=\"text-align: right;\">\n",
       "      <th></th>\n",
       "      <th>url</th>\n",
       "      <th>price</th>\n",
       "      <th>size</th>\n",
       "      <th>suggestedTexts.title</th>\n",
       "    </tr>\n",
       "  </thead>\n",
       "  <tbody>\n",
       "    <tr>\n",
       "      <th>129</th>\n",
       "      <td>https://www.idealista.com/inmueble/97484683/</td>\n",
       "      <td>74000.0</td>\n",
       "      <td>52.0</td>\n",
       "      <td>Piso en ANTONIO PEDREIRA RIOS</td>\n",
       "    </tr>\n",
       "    <tr>\n",
       "      <th>278</th>\n",
       "      <td>https://www.idealista.com/inmueble/99130874/</td>\n",
       "      <td>75000.0</td>\n",
       "      <td>60.0</td>\n",
       "      <td>Piso</td>\n",
       "    </tr>\n",
       "    <tr>\n",
       "      <th>358</th>\n",
       "      <td>https://www.idealista.com/inmueble/94451681/</td>\n",
       "      <td>48000.0</td>\n",
       "      <td>85.0</td>\n",
       "      <td>Chalet pareado en Lugar Lamadosa</td>\n",
       "    </tr>\n",
       "    <tr>\n",
       "      <th>419</th>\n",
       "      <td>https://www.idealista.com/inmueble/98131098/</td>\n",
       "      <td>69000.0</td>\n",
       "      <td>48.0</td>\n",
       "      <td>Piso en Calle Cardenal Cisneros</td>\n",
       "    </tr>\n",
       "    <tr>\n",
       "      <th>453</th>\n",
       "      <td>https://www.idealista.com/inmueble/98400091/</td>\n",
       "      <td>65000.0</td>\n",
       "      <td>142.0</td>\n",
       "      <td>Casa de pueblo en Comeanda</td>\n",
       "    </tr>\n",
       "    <tr>\n",
       "      <th>472</th>\n",
       "      <td>https://www.idealista.com/inmueble/97610978/</td>\n",
       "      <td>79000.0</td>\n",
       "      <td>32.0</td>\n",
       "      <td>Piso</td>\n",
       "    </tr>\n",
       "    <tr>\n",
       "      <th>529</th>\n",
       "      <td>https://www.idealista.com/inmueble/94760209/</td>\n",
       "      <td>63000.0</td>\n",
       "      <td>79.0</td>\n",
       "      <td>Piso en Avenida Nostian, 3</td>\n",
       "    </tr>\n",
       "    <tr>\n",
       "      <th>543</th>\n",
       "      <td>https://www.idealista.com/inmueble/98661141/</td>\n",
       "      <td>79000.0</td>\n",
       "      <td>64.0</td>\n",
       "      <td>Piso en ANTONIO PEREIRA</td>\n",
       "    </tr>\n",
       "    <tr>\n",
       "      <th>556</th>\n",
       "      <td>https://www.idealista.com/inmueble/98726184/</td>\n",
       "      <td>60000.0</td>\n",
       "      <td>98.0</td>\n",
       "      <td>Chalet adosado en Calle O PORTALON</td>\n",
       "    </tr>\n",
       "    <tr>\n",
       "      <th>564</th>\n",
       "      <td>https://www.idealista.com/inmueble/89845163/</td>\n",
       "      <td>79000.0</td>\n",
       "      <td>25.0</td>\n",
       "      <td>Piso en Calle Montes</td>\n",
       "    </tr>\n",
       "    <tr>\n",
       "      <th>607</th>\n",
       "      <td>https://www.idealista.com/inmueble/98889796/</td>\n",
       "      <td>56700.0</td>\n",
       "      <td>68.0</td>\n",
       "      <td>Piso en Camino DE LA IGLESIA, 3</td>\n",
       "    </tr>\n",
       "    <tr>\n",
       "      <th>608</th>\n",
       "      <td>https://www.idealista.com/inmueble/86571981/</td>\n",
       "      <td>68140.0</td>\n",
       "      <td>60.0</td>\n",
       "      <td>Piso en Calle SAN LUIS, 40</td>\n",
       "    </tr>\n",
       "    <tr>\n",
       "      <th>612</th>\n",
       "      <td>https://www.idealista.com/inmueble/89831362/</td>\n",
       "      <td>79000.0</td>\n",
       "      <td>34.0</td>\n",
       "      <td>Piso en Calle MONTES, 13</td>\n",
       "    </tr>\n",
       "    <tr>\n",
       "      <th>663</th>\n",
       "      <td>https://www.idealista.com/inmueble/98579735/</td>\n",
       "      <td>35000.0</td>\n",
       "      <td>90.0</td>\n",
       "      <td>Chalet adosado en Lugar Bens, 51</td>\n",
       "    </tr>\n",
       "  </tbody>\n",
       "</table>\n",
       "</div>"
      ],
      "text/plain": [
       "                                              url    price   size  \\\n",
       "129  https://www.idealista.com/inmueble/97484683/  74000.0   52.0   \n",
       "278  https://www.idealista.com/inmueble/99130874/  75000.0   60.0   \n",
       "358  https://www.idealista.com/inmueble/94451681/  48000.0   85.0   \n",
       "419  https://www.idealista.com/inmueble/98131098/  69000.0   48.0   \n",
       "453  https://www.idealista.com/inmueble/98400091/  65000.0  142.0   \n",
       "472  https://www.idealista.com/inmueble/97610978/  79000.0   32.0   \n",
       "529  https://www.idealista.com/inmueble/94760209/  63000.0   79.0   \n",
       "543  https://www.idealista.com/inmueble/98661141/  79000.0   64.0   \n",
       "556  https://www.idealista.com/inmueble/98726184/  60000.0   98.0   \n",
       "564  https://www.idealista.com/inmueble/89845163/  79000.0   25.0   \n",
       "607  https://www.idealista.com/inmueble/98889796/  56700.0   68.0   \n",
       "608  https://www.idealista.com/inmueble/86571981/  68140.0   60.0   \n",
       "612  https://www.idealista.com/inmueble/89831362/  79000.0   34.0   \n",
       "663  https://www.idealista.com/inmueble/98579735/  35000.0   90.0   \n",
       "\n",
       "                   suggestedTexts.title  \n",
       "129       Piso en ANTONIO PEDREIRA RIOS  \n",
       "278                                Piso  \n",
       "358    Chalet pareado en Lugar Lamadosa  \n",
       "419     Piso en Calle Cardenal Cisneros  \n",
       "453          Casa de pueblo en Comeanda  \n",
       "472                                Piso  \n",
       "529          Piso en Avenida Nostian, 3  \n",
       "543             Piso en ANTONIO PEREIRA  \n",
       "556  Chalet adosado en Calle O PORTALON  \n",
       "564                Piso en Calle Montes  \n",
       "607     Piso en Camino DE LA IGLESIA, 3  \n",
       "608          Piso en Calle SAN LUIS, 40  \n",
       "612            Piso en Calle MONTES, 13  \n",
       "663    Chalet adosado en Lugar Bens, 51  "
      ]
     },
     "execution_count": 20,
     "metadata": {},
     "output_type": "execute_result"
    }
   ],
   "source": [
    "df[df['price']<80000][['url','price','size','suggestedTexts.title']]"
   ]
  },
  {
   "cell_type": "code",
   "execution_count": null,
   "metadata": {},
   "outputs": [],
   "source": []
  }
 ],
 "metadata": {
  "kernelspec": {
   "display_name": "Python 3.9.7 ('base')",
   "language": "python",
   "name": "python3"
  },
  "language_info": {
   "codemirror_mode": {
    "name": "ipython",
    "version": 3
   },
   "file_extension": ".py",
   "mimetype": "text/x-python",
   "name": "python",
   "nbconvert_exporter": "python",
   "pygments_lexer": "ipython3",
   "version": "3.9.7"
  },
  "orig_nbformat": 4,
  "vscode": {
   "interpreter": {
    "hash": "80e84fd967207d73b61aa430605dad8c12793944af9d1a99037915e6e7461b10"
   }
  }
 },
 "nbformat": 4,
 "nbformat_minor": 2
}
