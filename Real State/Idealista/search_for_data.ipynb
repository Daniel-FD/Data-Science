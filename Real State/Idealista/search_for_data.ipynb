{
 "cells": [
  {
   "cell_type": "code",
   "execution_count": null,
   "metadata": {},
   "outputs": [],
   "source": [
    "import pandas as pd\n",
    "import json\n",
    "import urllib\n",
    "import requests as rq\n",
    "import base64\n",
    "from datetime import datetime"
   ]
  },
  {
   "cell_type": "code",
   "execution_count": null,
   "metadata": {},
   "outputs": [],
   "source": [
    "# import config\n",
    "# API_KEY = config.API_KEY\n",
    "# API_SECRET = config.API_SECRET"
   ]
  },
  {
   "cell_type": "markdown",
   "metadata": {},
   "source": [
    "https://stackoverflow.com/questions/40023931/how-to-get-real-estate-data-with-idealista-api"
   ]
  },
  {
   "cell_type": "code",
   "execution_count": null,
   "metadata": {},
   "outputs": [],
   "source": [
    "def get_oauth_token(): \n",
    "    url = \"https://api.idealista.com/oauth/token\"    \n",
    "    apikey= API_KEY #sent by idealist\n",
    "    secret= API_SECRET #sent by idealista\n",
    "    apikey_secret = apikey + ':' + secret\n",
    "    auth = str(base64.b64encode(bytes(apikey_secret, 'utf-8')))[2:][:-1]\n",
    "    headers = {'Authorization' : 'Basic ' + auth,'Content-Type': 'application/x-www-form-urlencoded;charset=UTF-8'}\n",
    "    params = urllib.parse.urlencode({'grant_type':'client_credentials'}) #,'scope':'read'\n",
    "    content = rq.post(url,headers = headers, params=params)\n",
    "    bearer_token = json.loads(content.text)['access_token']\n",
    "    return bearer_token"
   ]
  },
  {
   "cell_type": "code",
   "execution_count": null,
   "metadata": {},
   "outputs": [],
   "source": [
    "def search_api(token, URL):  \n",
    "    headers = {'Content-Type': 'Content-Type: multipart/form-data;', 'Authorization' : 'Bearer ' + token}\n",
    "    content = rq.post(url, headers = headers)\n",
    "    result = json.loads(content.text)\n",
    "    return result"
   ]
  },
  {
   "cell_type": "code",
   "execution_count": null,
   "metadata": {},
   "outputs": [],
   "source": [
    "# values: es, it, pt\n",
    "country = 'es' \n",
    "# search language for summary. values: es, it, pt, en, ca\n",
    "locale = 'es' \n",
    "language = 'es' \n",
    "# items per page: 50 as maximum allowed\n",
    "max_items = '50'\n",
    "# values: sale, rent\n",
    "operation = 'sale'\n",
    "# values: homes, offices, premises, garages, bedrooms\n",
    "property_type = 'terrenos'\n",
    "# allowed values by property type:\n",
    "# garages: distance, price, street, photos, publicationDate, modificationDate (rent only), weigh, pricedown\n",
    "# premises: distance, price, street, photos, publicationDate, modificationDate, size, floor, ratioeurm2 (rent only), weigh, pricedown\n",
    "# offices: distance, price, street, photos, publicationDate, modificationDate, size, floor, ratioeurm2, weigh, pricedown\n",
    "# homes: distance, price, street, photos, publicationDate, modificationDate, size, floor, rooms, ratioeurm2 (sólo alquiler), weigh, pricedown\n",
    "# rooms: distance, price, street, photos, publicationDate, modificationDate, floor\n",
    "order = 'priceDown' \n",
    "# geographic coordinates (WGS84) (latitude,longitude)\n",
    "center = '43.3773,-8.39852' \n",
    "# distance to center, in metres (ratio)\n",
    "distance = '25000'\n",
    "# values: asc, desc\n",
    "sort = 'desc'\n",
    "# \n",
    "maxPrice = '80000'\n",
    "# numPage = 1"
   ]
  },
  {
   "cell_type": "code",
   "execution_count": null,
   "metadata": {},
   "outputs": [],
   "source": [
    "df = pd.DataFrame()\n",
    "for i in range(1,15):\n",
    "    numPage = str(i)\n",
    "    url = ('https://api.idealista.com/3.5/'+country+\n",
    "            '/search?operation='+operation+\n",
    "            '&locale='+locale+\n",
    "            '&maxItems='+max_items+\n",
    "            '&order='+order+\n",
    "            '&center='+center+\n",
    "            '&distance='+distance+\n",
    "            '&maxPrice='+maxPrice+\n",
    "            '&propertyType='+property_type+\n",
    "            '&sort='+sort+ \n",
    "            '&numPage='+numPage+\n",
    "            '&language='+language)\n",
    "    result = search_api(get_oauth_token(), url)\n",
    "    df_temp = pd.json_normalize(result, record_path = [\"elementList\"])\n",
    "    df = pd.concat([df, df_temp])\n",
    "now = datetime.now()\n",
    "date_time = now.strftime(\"%m%d%Y_%H:%M\")\n",
    "df.to_csv('idealista_search' + str(date_time) + '.csv')"
   ]
  },
  {
   "cell_type": "code",
   "execution_count": null,
   "metadata": {},
   "outputs": [],
   "source": [
    "print(len(df))\n",
    "df"
   ]
  },
  {
   "cell_type": "code",
   "execution_count": null,
   "metadata": {},
   "outputs": [],
   "source": []
  }
 ],
 "metadata": {
  "kernelspec": {
   "display_name": "base",
   "language": "python",
   "name": "python3"
  },
  "language_info": {
   "codemirror_mode": {
    "name": "ipython",
    "version": 3
   },
   "file_extension": ".py",
   "mimetype": "text/x-python",
   "name": "python",
   "nbconvert_exporter": "python",
   "pygments_lexer": "ipython3",
   "version": "3.12.2"
  },
  "orig_nbformat": 4
 },
 "nbformat": 4,
 "nbformat_minor": 2
}
