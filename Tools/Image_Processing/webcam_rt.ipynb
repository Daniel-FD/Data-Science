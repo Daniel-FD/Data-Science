{
 "cells": [
  {
   "cell_type": "code",
   "execution_count": 8,
   "metadata": {},
   "outputs": [],
   "source": [
    "import cv2\n",
    "import numpy as np\n",
    "import mediapipe as mp\n",
    "import matplotlib.pyplot as plt\n",
    "import math\n",
    "import imutils\n",
    "from IPython import display\n",
    "import time"
   ]
  },
  {
   "cell_type": "code",
   "execution_count": 9,
   "metadata": {},
   "outputs": [],
   "source": [
    "MAX_ANGLE = 10"
   ]
  },
  {
   "cell_type": "code",
   "execution_count": 10,
   "metadata": {},
   "outputs": [],
   "source": [
    "cap = cv2.VideoCapture(0)"
   ]
  },
  {
   "cell_type": "code",
   "execution_count": 11,
   "metadata": {},
   "outputs": [],
   "source": [
    "def distanceCalculate(p):\n",
    "    p1 = p[0]\n",
    "    p2 = p[1]\n",
    "    dis = ((p2[0] - p1[0]) ** 2 + (p2[1] - p1[1]) ** 2) ** 0.5\n",
    "    return dis"
   ]
  },
  {
   "cell_type": "code",
   "execution_count": 12,
   "metadata": {},
   "outputs": [],
   "source": [
    "def angleLinePoints(p):\n",
    "    p1 = p[0]\n",
    "    p2 = p[1]\n",
    "    # \n",
    "    p1_x = p1[0]\n",
    "    p1_y = p1[1]\n",
    "    p2_x = p2[0]\n",
    "    p2_y = p2[1]\n",
    "    # \n",
    "    d_x = p2_x - p1_x\n",
    "    d_y = p2_y - p1_y\n",
    "    # \n",
    "    angle_radians = np.arctan(d_y/d_x)\n",
    "    angle_degrees = math.degrees(angle_radians)\n",
    "    return angle_degrees"
   ]
  },
  {
   "cell_type": "code",
   "execution_count": 13,
   "metadata": {},
   "outputs": [],
   "source": [
    "def process_image(image):\n",
    "    # \n",
    "    (B, G, R) = cv2.split(image)\n",
    "    mp_face_mesh = mp.solutions.face_mesh\n",
    "    face_mesh = mp_face_mesh.FaceMesh(\n",
    "        static_image_mode=True,\n",
    "        max_num_faces=1,\n",
    "        refine_landmarks=True,\n",
    "        min_detection_confidence=0.5)\n",
    "    result = face_mesh.process(cv2.cvtColor(image, cv2.COLOR_BGR2RGB))\n",
    "    height, width, _ = image.shape\n",
    "    mesh_points= np.array([np.multiply([p.x, p.y], [width, height]).astype(int) for p in result.multi_face_landmarks[0].landmark])\n",
    "    # Landmark mapping\n",
    "    landmarks = {\n",
    "        'topToBottom': [10, 152],\n",
    "        'leftToRight': [234, 454],\n",
    "        'rightEyeIris': [473, 474, 475, 476, 477],\n",
    "        'leftEyeIris': [468, 469, 470, 471, 472],\n",
    "        'outerRightEyebrowUpper': 70,\n",
    "        'outerLeftEyebrowUpper': 300,\n",
    "        'silhouette': [10,  338, 297, 332, 284, 251, 389, 356, 454, 323, 361, 288,\n",
    "        397, 365, 379, 378, 400, 377, 152, 148, 176, 149, 150, 136,\n",
    "        172, 58,  132, 93,  234, 127, 162, 21,  54,  103, 67,  109]}\n",
    "    # Iris location\n",
    "    (l_cx, l_cy), l_radius = cv2.minEnclosingCircle(mesh_points[landmarks['rightEyeIris']])\n",
    "    (r_cx, r_cy), r_radius = cv2.minEnclosingCircle(mesh_points[landmarks['leftEyeIris']])\n",
    "    center_left_iris = np.array([l_cx, l_cy], dtype=np.int32)\n",
    "    center_right_iris = np.array([r_cx, r_cy], dtype=np.int32)\n",
    "    # Face dimension\n",
    "    width_face_px = distanceCalculate(mesh_points[landmarks['leftToRight']])\n",
    "    height_face_px = distanceCalculate(mesh_points[landmarks['topToBottom']])\n",
    "    # IPD calculation\n",
    "    ipd = distanceCalculate([center_left_iris, center_right_iris])\n",
    "    # Photo Quality Check\n",
    "    vertical_angle = angleLinePoints(mesh_points[landmarks['topToBottom']])\n",
    "    horizonal_angle = angleLinePoints(mesh_points[landmarks['leftToRight']])\n",
    "    # Rectangle for Card Area\n",
    "    x_start = mesh_points[landmarks['outerRightEyebrowUpper']][0]\n",
    "    y_start = mesh_points[landmarks['outerRightEyebrowUpper']][1] - 0.6*height_face_px\n",
    "    x_end, y_end =  mesh_points[landmarks['outerLeftEyebrowUpper']]\n",
    "    start_point = (int(x_start), int(y_start))\n",
    "    end_point = (int(x_end), int(y_end))\n",
    "    # \n",
    "    overlay = image.copy()\n",
    "    alpha = 0.1\n",
    "    beta = (1.0 - alpha)\n",
    "    # Plot all the information\n",
    "    # plt.imshow(image)\n",
    "    # plt.imshow(image_landmarks)\n",
    "    for facial_landmarks in result.multi_face_landmarks:\n",
    "        for i in range(0, 468):\n",
    "            pt1 = facial_landmarks.landmark[i]\n",
    "            x = int(pt1.x * width)\n",
    "            y = int(pt1.y * height)\n",
    "            cv2.circle(image, (x, y), 1, (0,255,0), -1)\n",
    "    plt.imshow(cv2.polylines(image, [mesh_points[landmarks['topToBottom']]], 1, (0,255,0), 1))\n",
    "    plt.imshow(cv2.polylines(image, [mesh_points[landmarks['leftToRight']]], 1, (0,255,0), 1))\n",
    "    plt.imshow(cv2.polylines(image, [mesh_points[landmarks['silhouette']]], 1, (0,255,0), 1))\n",
    "    plt.imshow(cv2.line(image, center_left_iris, center_right_iris, (0, 255, 0), 2))\n",
    "    plt.imshow(cv2.line(image, mesh_points[landmarks['outerLeftEyebrowUpper']], mesh_points[landmarks['outerRightEyebrowUpper']], (0, 255, 0), 1))\n",
    "    plt.imshow(cv2.rectangle(image, start_point, end_point, (255,0,0), 1))\n",
    "    plt.imshow(cv2.ellipse(image, center=(int(width/2), int(height/2)), axes=(int(min(width,height)/4),int(min(width,height)/3)), angle=0, startAngle=0, endAngle=360, color=(255,255,255), thickness=4))    \n",
    "    plt.imshow(cv2.putText(image, f'IPD: {str(ipd)} [px]', (50,50), cv2.FONT_HERSHEY_PLAIN,1, (0,0,0), 1))\n",
    "    plt.imshow(cv2.putText(image, f'Face Height: {str(height_face_px)} [px]', (50,100), cv2.FONT_HERSHEY_PLAIN,1, (0,0,0),1))\n",
    "    plt.imshow(cv2.putText(image, f'Face Width: {str(width_face_px)} [px]', (50,150), cv2.FONT_HERSHEY_PLAIN,1, (0,0,0), 1))\n",
    "    if abs(horizonal_angle) < MAX_ANGLE:\n",
    "        plt.imshow(cv2.putText(image, f'Horizonal Angle: {str(horizonal_angle)} [degrees]', (50,200), cv2.FONT_HERSHEY_PLAIN,1, (0,255,0), 1))\n",
    "        cv2.rectangle(overlay, (0,0), (width, height), (0, 255, 0), -1)  \n",
    "        image = cv2.addWeighted(overlay, alpha, image, 1 - alpha, 0)\n",
    "    elif horizonal_angle < -MAX_ANGLE:\n",
    "        plt.imshow(cv2.arrowedLine(image,[int(x_start) - (int(min(width,height)/4)),int(y_start+ height_face_px/2)], [int(x_start), int(y_start+ height_face_px/2)], (0, 255, 0), 4))\n",
    "        plt.imshow(cv2.putText(image, f'Horizonal Angle: {str(horizonal_angle)} [degrees]', (50,200), cv2.FONT_HERSHEY_PLAIN,1, (0,0,255), 1))\n",
    "        cv2.rectangle(overlay, (0,0), (width, height), (0, 0, 255), -1)  \n",
    "        image = cv2.addWeighted(overlay, alpha, image, 1 - alpha, 0)\n",
    "        plt.imshow(image)\n",
    "    elif horizonal_angle > MAX_ANGLE:\n",
    "        plt.imshow(cv2.arrowedLine(image, [int(x_start), int(y_start+ height_face_px/2)],[int(x_start) - (int(min(width,height)/4)),int(y_start+ height_face_px/2)], (0, 255, 0), 4))\n",
    "        plt.imshow(cv2.putText(image, f'Horizonal Angle: {str(horizonal_angle)} [degrees]', (50,200), cv2.FONT_HERSHEY_PLAIN,1, (0,0,255), 1))\n",
    "        cv2.rectangle(overlay, (0,0), (width, height), (0, 0, 255), -1)  \n",
    "        image = cv2.addWeighted(overlay, alpha, image, 1 - alpha, 0)\n",
    "        plt.imshow(image)\n",
    "    if abs(vertical_angle) > (90 - MAX_ANGLE): #[-80, 80] -> okay\n",
    "        plt.imshow(cv2.putText(image, f'Vertical Angle: {str(vertical_angle)} [degrees]', (50,250), cv2.FONT_HERSHEY_PLAIN,1, (0,255,0), 1))\n",
    "    else:         \n",
    "        plt.imshow(cv2.putText(image, f'Vertical Angle: {str(vertical_angle)} [degrees]', (50,250), cv2.FONT_HERSHEY_PLAIN,1, (0,0,255), 1))\n",
    "    # \n",
    "    return image"
   ]
  },
  {
   "cell_type": "code",
   "execution_count": 14,
   "metadata": {},
   "outputs": [
    {
     "name": "stderr",
     "output_type": "stream",
     "text": [
      "/var/folders/tl/yx271fpd4sd_d224zzcb65840000gp/T/ipykernel_34899/1947043760.py:13: RuntimeWarning: divide by zero encountered in long_scalars\n",
      "  angle_radians = np.arctan(d_y/d_x)\n"
     ]
    },
    {
     "ename": "",
     "evalue": "",
     "output_type": "error",
     "traceback": [
      "\u001b[1;31mThe Kernel crashed while executing code in the the current cell or a previous cell. Please review the code in the cell(s) to identify a possible cause of the failure. Click <a href='https://aka.ms/vscodeJupyterKernelCrash'>here</a> for more info. View Jupyter <a href='command:jupyter.viewOutput'>log</a> for further details."
     ]
    },
    {
     "ename": "",
     "evalue": "",
     "output_type": "error",
     "traceback": [
      "\u001b[1;31mCanceled future for execute_request message before replies were done"
     ]
    }
   ],
   "source": [
    "# Check if the webcam is opened correctly\n",
    "if not cap.isOpened():\n",
    "    raise IOError(\"Cannot open webcam\")\n",
    "while True:\n",
    "    ret, frame = cap.read()\n",
    "    # frame = cv2.resize(frame, None, fx=0.5, fy=0.5, interpolation=cv2.INTER_AREA)\n",
    "    cv2.imshow(\"Input\", process_image(frame)) \n",
    "    c = cv2.waitKey(1)\n",
    "    # if c == 27:\n",
    "    #     break\n",
    "\n",
    "cap.release()\n",
    "cv2.destroyAllWindows()"
   ]
  },
  {
   "cell_type": "code",
   "execution_count": null,
   "metadata": {},
   "outputs": [],
   "source": []
  }
 ],
 "metadata": {
  "kernelspec": {
   "display_name": "base",
   "language": "python",
   "name": "python3"
  },
  "language_info": {
   "codemirror_mode": {
    "name": "ipython",
    "version": 3
   },
   "file_extension": ".py",
   "mimetype": "text/x-python",
   "name": "python",
   "nbconvert_exporter": "python",
   "pygments_lexer": "ipython3",
   "version": "3.9.7"
  },
  "orig_nbformat": 4,
  "vscode": {
   "interpreter": {
    "hash": "80e84fd967207d73b61aa430605dad8c12793944af9d1a99037915e6e7461b10"
   }
  }
 },
 "nbformat": 4,
 "nbformat_minor": 2
}
