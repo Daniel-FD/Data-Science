{
 "cells": [
  {
   "cell_type": "code",
   "execution_count": 1,
   "metadata": {},
   "outputs": [],
   "source": [
    "url_0 = 'https://www.citizensadvice.org.uk/scotland/'"
   ]
  },
  {
   "cell_type": "code",
   "execution_count": 2,
   "metadata": {},
   "outputs": [],
   "source": [
    "import requests\n",
    "from bs4 import BeautifulSoup\n",
    "import pandas as pd\n",
    "import nltk\n",
    "from urllib.request import urlopen"
   ]
  },
  {
   "cell_type": "code",
   "execution_count": 3,
   "metadata": {},
   "outputs": [],
   "source": [
    "def get_text_content_from_ulr(url):\n",
    "    res = requests.get(url)\n",
    "    html_page = res.content\n",
    "    soup = BeautifulSoup(html_page, 'html.parser')\n",
    "    text = soup.find_all(text=True)\n",
    "    output = ''\n",
    "    blacklist = [\n",
    "        '[document]',\n",
    "        'noscript',\n",
    "        'header',\n",
    "        'html',\n",
    "        'meta',\n",
    "        'head', \n",
    "        'input',\n",
    "        'script',\n",
    "        # there may be more elements you don't want, such as \"style\", etc.\n",
    "    ]\n",
    "    for t in text:\n",
    "        if t.parent.name not in blacklist:\n",
    "            output += '{} '.format(t)\n",
    "    # \n",
    "    return output"
   ]
  },
  {
   "cell_type": "code",
   "execution_count": 4,
   "metadata": {},
   "outputs": [],
   "source": [
    "df_website = pd.DataFrame(columns=['url','text_content'])\n",
    "reqs = requests.get(url_0)\n",
    "soup = BeautifulSoup(reqs.text, 'html.parser')\n",
    "# \n",
    "i = 0\n",
    "for link in soup.find_all(\"a\"):\n",
    "   try: \n",
    "      # Get sub-urls from the main url\n",
    "      urls = link.get('href')\n",
    "      df_website.at[i,'url'] = urls\n",
    "      # Get content from urls\n",
    "      content = get_text_content_from_ulr(url_0 + urls)\n",
    "      df_website.at[i,'text_content'] = content\n",
    "   except Exception as e: print(e)\n",
    "   # \n",
    "   i = i+1"
   ]
  },
  {
   "cell_type": "code",
   "execution_count": 5,
   "metadata": {},
   "outputs": [
    {
     "data": {
      "text/html": [
       "<div>\n",
       "<style scoped>\n",
       "    .dataframe tbody tr th:only-of-type {\n",
       "        vertical-align: middle;\n",
       "    }\n",
       "\n",
       "    .dataframe tbody tr th {\n",
       "        vertical-align: top;\n",
       "    }\n",
       "\n",
       "    .dataframe thead th {\n",
       "        text-align: right;\n",
       "    }\n",
       "</style>\n",
       "<table border=\"1\" class=\"dataframe\">\n",
       "  <thead>\n",
       "    <tr style=\"text-align: right;\">\n",
       "      <th></th>\n",
       "      <th>url</th>\n",
       "      <th>text_content</th>\n",
       "    </tr>\n",
       "  </thead>\n",
       "  <tbody>\n",
       "    <tr>\n",
       "      <th>0</th>\n",
       "      <td>#main-nav</td>\n",
       "      <td>\\r\\n\\tCitizens Advice Scotland\\r\\n \\n  Google ...</td>\n",
       "    </tr>\n",
       "    <tr>\n",
       "      <th>1</th>\n",
       "      <td>#main</td>\n",
       "      <td>\\r\\n\\tCitizens Advice Scotland\\r\\n \\n  Google ...</td>\n",
       "    </tr>\n",
       "    <tr>\n",
       "      <th>2</th>\n",
       "      <td>#footer</td>\n",
       "      <td>\\r\\n\\tCitizens Advice Scotland\\r\\n \\n  Google ...</td>\n",
       "    </tr>\n",
       "    <tr>\n",
       "      <th>3</th>\n",
       "      <td>/scotland/about-us/about-us1/citizens-advice-p...</td>\n",
       "      <td>404 Page not found \\n\\t\\t    html {\\n\\t\\t\\t   ...</td>\n",
       "    </tr>\n",
       "    <tr>\n",
       "      <th>4</th>\n",
       "      <td>/scotland/</td>\n",
       "      <td>404 Page not found \\n\\t\\t    html {\\n\\t\\t\\t   ...</td>\n",
       "    </tr>\n",
       "    <tr>\n",
       "      <th>...</th>\n",
       "      <td>...</td>\n",
       "      <td>...</td>\n",
       "    </tr>\n",
       "    <tr>\n",
       "      <th>158</th>\n",
       "      <td>/scotland/resources-and-tools/about-this-site/...</td>\n",
       "      <td>404 Page not found \\n\\t\\t    html {\\n\\t\\t\\t   ...</td>\n",
       "    </tr>\n",
       "    <tr>\n",
       "      <th>159</th>\n",
       "      <td>?lang=en-GB</td>\n",
       "      <td>\\r\\n\\tCitizens Advice\\r\\n \\n  Google Tag Manag...</td>\n",
       "    </tr>\n",
       "    <tr>\n",
       "      <th>160</th>\n",
       "      <td>?lang=en-NIR</td>\n",
       "      <td>Get advice in Northern Ireland - Citizens Advi...</td>\n",
       "    </tr>\n",
       "    <tr>\n",
       "      <th>161</th>\n",
       "      <td>?lang=en-SCT</td>\n",
       "      <td>\\r\\n\\tCitizens Advice Scotland\\r\\n \\n  Google ...</td>\n",
       "    </tr>\n",
       "    <tr>\n",
       "      <th>162</th>\n",
       "      <td>?lang=en-WLS</td>\n",
       "      <td>\\n \\n  Google Tag Manager (noscript)  \\n \\n  E...</td>\n",
       "    </tr>\n",
       "  </tbody>\n",
       "</table>\n",
       "<p>163 rows × 2 columns</p>\n",
       "</div>"
      ],
      "text/plain": [
       "                                                   url  \\\n",
       "0                                            #main-nav   \n",
       "1                                                #main   \n",
       "2                                              #footer   \n",
       "3    /scotland/about-us/about-us1/citizens-advice-p...   \n",
       "4                                           /scotland/   \n",
       "..                                                 ...   \n",
       "158  /scotland/resources-and-tools/about-this-site/...   \n",
       "159                                        ?lang=en-GB   \n",
       "160                                       ?lang=en-NIR   \n",
       "161                                       ?lang=en-SCT   \n",
       "162                                       ?lang=en-WLS   \n",
       "\n",
       "                                          text_content  \n",
       "0    \\r\\n\\tCitizens Advice Scotland\\r\\n \\n  Google ...  \n",
       "1    \\r\\n\\tCitizens Advice Scotland\\r\\n \\n  Google ...  \n",
       "2    \\r\\n\\tCitizens Advice Scotland\\r\\n \\n  Google ...  \n",
       "3    404 Page not found \\n\\t\\t    html {\\n\\t\\t\\t   ...  \n",
       "4    404 Page not found \\n\\t\\t    html {\\n\\t\\t\\t   ...  \n",
       "..                                                 ...  \n",
       "158  404 Page not found \\n\\t\\t    html {\\n\\t\\t\\t   ...  \n",
       "159  \\r\\n\\tCitizens Advice\\r\\n \\n  Google Tag Manag...  \n",
       "160  Get advice in Northern Ireland - Citizens Advi...  \n",
       "161  \\r\\n\\tCitizens Advice Scotland\\r\\n \\n  Google ...  \n",
       "162  \\n \\n  Google Tag Manager (noscript)  \\n \\n  E...  \n",
       "\n",
       "[163 rows x 2 columns]"
      ]
     },
     "execution_count": 5,
     "metadata": {},
     "output_type": "execute_result"
    }
   ],
   "source": [
    "df_website"
   ]
  },
  {
   "cell_type": "code",
   "execution_count": null,
   "metadata": {},
   "outputs": [],
   "source": []
  }
 ],
 "metadata": {
  "kernelspec": {
   "display_name": "base",
   "language": "python",
   "name": "python3"
  },
  "language_info": {
   "codemirror_mode": {
    "name": "ipython",
    "version": 3
   },
   "file_extension": ".py",
   "mimetype": "text/x-python",
   "name": "python",
   "nbconvert_exporter": "python",
   "pygments_lexer": "ipython3",
   "version": "3.9.7"
  },
  "orig_nbformat": 4,
  "vscode": {
   "interpreter": {
    "hash": "80e84fd967207d73b61aa430605dad8c12793944af9d1a99037915e6e7461b10"
   }
  }
 },
 "nbformat": 4,
 "nbformat_minor": 2
}
