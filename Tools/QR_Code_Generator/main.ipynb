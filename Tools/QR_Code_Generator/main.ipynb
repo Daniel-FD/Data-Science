{
 "cells": [
  {
   "cell_type": "code",
   "execution_count": 1,
   "metadata": {},
   "outputs": [],
   "source": [
    "import qrcode\n",
    "import matplotlib.pyplot as plt"
   ]
  },
  {
   "cell_type": "code",
   "execution_count": 2,
   "metadata": {},
   "outputs": [],
   "source": [
    "url = 'https://danielfiuza.com'"
   ]
  },
  {
   "cell_type": "code",
   "execution_count": 3,
   "metadata": {},
   "outputs": [],
   "source": [
    "img = qrcode.make(url)\n",
    "type(img)\n",
    "img.save(\"qr_test.png\")"
   ]
  },
  {
   "cell_type": "code",
   "execution_count": 4,
   "metadata": {},
   "outputs": [],
   "source": [
    "fill_color = (77,77,77)"
   ]
  },
  {
   "cell_type": "code",
   "execution_count": 5,
   "metadata": {},
   "outputs": [],
   "source": [
    "qr = qrcode.QRCode(\n",
    "    version=1,\n",
    "    error_correction=qrcode.constants.ERROR_CORRECT_L,\n",
    "    box_size=30,\n",
    "    border=1,\n",
    ")\n",
    "qr.add_data(url)\n",
    "qr.make(fit=True)\n",
    "img = qr.make_image(fill_color=fill_color, back_color=\"white\")\n",
    "img.save(\"qr.png\")\n",
    "plt.show()"
   ]
  },
  {
   "cell_type": "code",
   "execution_count": 6,
   "metadata": {},
   "outputs": [
    {
     "name": "stdout",
     "output_type": "stream",
     "text": [
      "                                 \n",
      "                                 \n",
      "    █▀▀▀▀▀█  █ ▀ █▀▄█ █▀▀▀▀▀█    \n",
      "    █ ███ █ ███▀█▄▄██ █ ███ █    \n",
      "    █ ▀▀▀ █ █▄▀ █  ▄█ █ ▀▀▀ █    \n",
      "    ▀▀▀▀▀▀▀ █ █ ▀ █▄▀ ▀▀▀▀▀▀▀    \n",
      "    █▄▀▀▀▀▀▄▄█  ▄█  ▄ ▀█▀▀▀▄     \n",
      "    █ ██▀▀▀▄▀  ▀█▀▀▀▄▄█▄ ▀ ▀█    \n",
      "    █▄ ▀█▀▀▄▀█▀ ▀▀▀▀▄▀▀▄▀▄▀█▀    \n",
      "    █  █ █▀▀▄▀▄█▀▀▄█▄▀ ██▀ ▀█    \n",
      "    ▀  ▀▀ ▀ █▄█▀▄█▀▄█▀▀▀█▄▀      \n",
      "    █▀▀▀▀▀█ ▄ ▄ ▄▀█ █ ▀ █▄▀█▀    \n",
      "    █ ███ █ █▄▀ ▀█▀▀▀██▀█▄███    \n",
      "    █ ▀▀▀ █ ▀ ██▀ █▄▄  ▄▄█▀ █    \n",
      "    ▀▀▀▀▀▀▀ ▀▀ ▀▀    ▀▀▀▀▀▀▀▀    \n",
      "                                 \n",
      "                                 \n",
      "\n"
     ]
    }
   ],
   "source": [
    "import io\n",
    "import qrcode\n",
    "qr = qrcode.QRCode()\n",
    "qr.add_data(url)\n",
    "f = io.StringIO()\n",
    "qr.print_ascii(out=f)\n",
    "f.seek(0)\n",
    "print(f.read())\n"
   ]
  },
  {
   "cell_type": "code",
   "execution_count": 7,
   "metadata": {},
   "outputs": [
    {
     "name": "stdout",
     "output_type": "stream",
     "text": [
      "                                 \n",
      "                                 \n",
      "    █▀▀▀▀▀█  █ ▀ █▀▄█ █▀▀▀▀▀█    \n",
      "    █ ███ █ ███▀█▄▄██ █ ███ █    \n",
      "    █ ▀▀▀ █ █▄▀ █  ▄█ █ ▀▀▀ █    \n",
      "    ▀▀▀▀▀▀▀ █ █ ▀ █▄▀ ▀▀▀▀▀▀▀    \n",
      "    █▄▀▀▀▀▀▄▄█  ▄█  ▄ ▀█▀▀▀▄     \n",
      "    █ ██▀▀▀▄▀  ▀█▀▀▀▄▄█▄ ▀ ▀█    \n",
      "    █▄ ▀█▀▀▄▀█▀ ▀▀▀▀▄▀▀▄▀▄▀█▀    \n",
      "    █  █ █▀▀▄▀▄█▀▀▄█▄▀ ██▀ ▀█    \n",
      "    ▀  ▀▀ ▀ █▄█▀▄█▀▄█▀▀▀█▄▀      \n",
      "    █▀▀▀▀▀█ ▄ ▄ ▄▀█ █ ▀ █▄▀█▀    \n",
      "    █ ███ █ █▄▀ ▀█▀▀▀██▀█▄███    \n",
      "    █ ▀▀▀ █ ▀ ██▀ █▄▄  ▄▄█▀ █    \n",
      "    ▀▀▀▀▀▀▀ ▀▀ ▀▀    ▀▀▀▀▀▀▀▀    \n",
      "                                 \n",
      "                                 \n"
     ]
    }
   ],
   "source": [
    "!qr --ascii $url > \"test.txt\"\n",
    "!cat test.txt"
   ]
  },
  {
   "cell_type": "code",
   "execution_count": null,
   "metadata": {},
   "outputs": [],
   "source": []
  }
 ],
 "metadata": {
  "kernelspec": {
   "display_name": "base",
   "language": "python",
   "name": "python3"
  },
  "language_info": {
   "codemirror_mode": {
    "name": "ipython",
    "version": 3
   },
   "file_extension": ".py",
   "mimetype": "text/x-python",
   "name": "python",
   "nbconvert_exporter": "python",
   "pygments_lexer": "ipython3",
   "version": "3.9.7"
  },
  "orig_nbformat": 4
 },
 "nbformat": 4,
 "nbformat_minor": 2
}
