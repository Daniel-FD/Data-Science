{
 "cells": [
  {
   "cell_type": "code",
   "execution_count": 1,
   "metadata": {},
   "outputs": [],
   "source": [
    "import qrcode"
   ]
  },
  {
   "cell_type": "code",
   "execution_count": 2,
   "metadata": {},
   "outputs": [],
   "source": [
    "img = qrcode.make('Some data here')\n",
    "type(img)  # qrcode.image.pil.PilImage\n",
    "img.save(\"some_file.png\")"
   ]
  },
  {
   "cell_type": "code",
   "execution_count": 3,
   "metadata": {},
   "outputs": [],
   "source": [
    "qr = qrcode.QRCode(\n",
    "    version=1,\n",
    "    error_correction=qrcode.constants.ERROR_CORRECT_L,\n",
    "    box_size=10,\n",
    "    border=4,\n",
    ")\n",
    "qr.add_data('Some data')\n",
    "qr.make(fit=True)\n",
    "img = qr.make_image(fill_color=\"black\", back_color=\"white\")\n",
    "img.save(\"some_file2.png\")"
   ]
  },
  {
   "cell_type": "code",
   "execution_count": 4,
   "metadata": {},
   "outputs": [],
   "source": [
    "img = qr.make_image(back_color=(255, 195, 235), fill_color=(55, 95, 35))\n",
    "img.save(\"some_file3.png\")"
   ]
  },
  {
   "cell_type": "code",
   "execution_count": 5,
   "metadata": {},
   "outputs": [],
   "source": [
    "import qrcode\n",
    "import qrcode.image.svg\n",
    "# \n",
    "factory = qrcode.image.svg.SvgImage\n",
    "img = qrcode.make('Some data here', image_factory=factory)\n",
    "img.save(\"some_file_4_simple.svg\")\n",
    "#\n",
    "factory = qrcode.image.svg.SvgFragmentImage\n",
    "img = qrcode.make('Some data here', image_factory=factory)\n",
    "img.save(\"some_file_4_fragment.svg\")\n",
    "#\n",
    "factory = qrcode.image.svg.SvgPathImage\n",
    "img = qrcode.make('Some data here', image_factory=factory)\n",
    "img.save(\"some_file_4.svg\")"
   ]
  },
  {
   "cell_type": "code",
   "execution_count": 6,
   "metadata": {},
   "outputs": [],
   "source": [
    "import qrcode\n",
    "qr = qrcode.QRCode(image_factory=qrcode.image.svg.SvgPathImage)\n",
    "qr.add_data('Some data')\n",
    "qr.make(fit=True)\n",
    "\n",
    "img = qr.make_image(attrib={'class': 'some-css-class'})\n",
    "img.save(\"some_file5.svg\")"
   ]
  },
  {
   "cell_type": "code",
   "execution_count": 7,
   "metadata": {},
   "outputs": [],
   "source": [
    "import qrcode\n",
    "from qrcode.image.pure import PyPNGImage\n",
    "img = qrcode.make('Some data here', image_factory=PyPNGImage)\n",
    "img.save(\"some_file6.png\")"
   ]
  },
  {
   "cell_type": "code",
   "execution_count": 8,
   "metadata": {},
   "outputs": [],
   "source": [
    "import qrcode\n",
    "from qrcode.image.styledpil import StyledPilImage\n",
    "from qrcode.image.styles.moduledrawers.pil import RoundedModuleDrawer\n",
    "from qrcode.image.styles.colormasks import RadialGradiantColorMask\n",
    "\n",
    "qr = qrcode.QRCode(error_correction=qrcode.constants.ERROR_CORRECT_L)\n",
    "qr.add_data('Some data')\n",
    "\n",
    "img_1 = qr.make_image(image_factory=StyledPilImage, module_drawer=RoundedModuleDrawer())\n",
    "img_1.save(\"some_file7-v1.png\")\n",
    "img_2 = qr.make_image(image_factory=StyledPilImage, color_mask=RadialGradiantColorMask())\n",
    "img_2.save(\"some_file7-v2.png\")\n",
    "img_3 = qr.make_image(image_factory=StyledPilImage, embeded_image_path=\"/Users/danielfiuzadosil/Documents/GitHub_Repo/Data-Science/Tools/QR_Code/test/bd.jpeg\")\n",
    "img_3.save(\"some_file7-v3.png\")\n"
   ]
  },
  {
   "cell_type": "code",
   "execution_count": 9,
   "metadata": {},
   "outputs": [
    {
     "name": "stdout",
     "output_type": "stream",
     "text": [
      "                             \n",
      "                             \n",
      "    █▀▀▀▀▀█ ██▀█  █▀▀▀▀▀█    \n",
      "    █ ███ █ ▄ ▄▄█ █ ███ █    \n",
      "    █ ▀▀▀ █  █ █▄ █ ▀▀▀ █    \n",
      "    ▀▀▀▀▀▀▀ █ ▀▄█ ▀▀▀▀▀▀▀    \n",
      "    ▀▄▀█ █▀█▄▀▄██ █ ▄█ ▀█    \n",
      "    ██ ▀▀ ▀▄▄███  ▀█▄▄▀▀█    \n",
      "     ▀▀   ▀▀▄▄▄▄▀██ ▄ ▄▄▄    \n",
      "    █▀▀▀▀▀█ ██▀▀▀▀ █▀█▄▄     \n",
      "    █ ███ █ ▄▄▀▄▀ ██ █▀▄     \n",
      "    █ ▀▀▀ █ ▀█▀ ▀▄▀  █▀ ▄    \n",
      "    ▀▀▀▀▀▀▀ ▀ ▀  ▀  ▀ ▀      \n",
      "                             \n",
      "                             \n",
      "\n",
      "                             \n",
      "                             \n",
      "    █▀▀▀▀▀█ ▀█▀█▄ █▀▀▀▀▀█    \n",
      "    █ ███ █ ▄▀█▀▄ █ ███ █    \n",
      "    █ ▀▀▀ █ █▄▄▄▀ █ ▀▀▀ █    \n",
      "    ▀▀▀▀▀▀▀ █ ▀▄█ ▀▀▀▀▀▀▀    \n",
      "    █▄ ▄█ ▀█▀  █▄▀████ ▄▀    \n",
      "    ▀▀▀▀▄▄▀▄▄▄▀▀ ▄  █ ▀█▄    \n",
      "       ▀ ▀▀ █▄█ ██▄ ▄▄ ▀█    \n",
      "    █▀▀▀▀▀█ ▀▄ ▄█▀ ▄█  █     \n",
      "    █ ███ █ ▀█▀█▄▀▀▀▄▄▄█▄    \n",
      "    █ ▀▀▀ █  █▄▀ ▄█▄█▄       \n",
      "    ▀▀▀▀▀▀▀ ▀▀▀ ▀▀▀     ▀    \n",
      "                             \n",
      "                             \n"
     ]
    }
   ],
   "source": [
    "import io\n",
    "import qrcode\n",
    "qr = qrcode.QRCode()\n",
    "qr.add_data(\"Some text\")\n",
    "f = io.StringIO()\n",
    "qr.print_ascii(out=f)\n",
    "f.seek(0)\n",
    "print(f.read())\n",
    "!qr --ascii \"Some data\" > \"test.txt\"\n",
    "!cat test.txt\n"
   ]
  },
  {
   "cell_type": "markdown",
   "metadata": {},
   "source": []
  }
 ],
 "metadata": {
  "kernelspec": {
   "display_name": "base",
   "language": "python",
   "name": "python3"
  },
  "language_info": {
   "codemirror_mode": {
    "name": "ipython",
    "version": 3
   },
   "file_extension": ".py",
   "mimetype": "text/x-python",
   "name": "python",
   "nbconvert_exporter": "python",
   "pygments_lexer": "ipython3",
   "version": "3.9.7"
  },
  "orig_nbformat": 4,
  "vscode": {
   "interpreter": {
    "hash": "80e84fd967207d73b61aa430605dad8c12793944af9d1a99037915e6e7461b10"
   }
  }
 },
 "nbformat": 4,
 "nbformat_minor": 2
}
