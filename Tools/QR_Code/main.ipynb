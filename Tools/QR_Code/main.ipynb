{
 "cells": [
  {
   "cell_type": "code",
   "execution_count": 1,
   "metadata": {},
   "outputs": [],
   "source": [
    "import qrcode\n",
    "from qrcode.image.styledpil import StyledPilImage\n",
    "import pandas as pd\n",
    "import matplotlib.pyplot as plt\n",
    "from PIL import Image \n",
    "from pathlib import Path"
   ]
  },
  {
   "cell_type": "code",
   "execution_count": null,
   "metadata": {},
   "outputs": [],
   "source": [
    "#qr code generator"
   ]
  },
  {
   "cell_type": "code",
   "execution_count": 2,
   "metadata": {},
   "outputs": [],
   "source": [
    "filename = 'Shipping details 10.8.23.xlsx'\n",
    "/Users/danielfiuzadosil/Documents/GitHub_Repo/Data-Science/Tools/QR_Code/data/Shipping details 16.8.23.xlsx"
   ]
  },
  {
   "cell_type": "code",
   "execution_count": 3,
   "metadata": {},
   "outputs": [],
   "source": [
    "path_to_report = '/Users/danielfiuzadosil/Documents/GitHub_Repo/Data-Science/Tools/QR_Code/data/' + filename\n",
    "TEST = False\n",
    "DISPLAY_QR_CODES = False"
   ]
  },
  {
   "cell_type": "code",
   "execution_count": 4,
   "metadata": {},
   "outputs": [],
   "source": [
    "img_folder_path = '/Users/danielfiuzadosil/Documents/GitHub_Repo/Data-Science/Tools/QR_Code/output_qr_codes/'\n",
    "pdf_path = '/Users/danielfiuzadosil/Documents/GitHub_Repo/Data-Science/Tools/QR_Code/ouput_pdf/qr_codes_' + Path(path_to_report).stem.replace(\" \", \"_\").replace(\".\", \"_\")+ '.pdf'\n",
    "logo_image_path= '/Users/danielfiuzadosil/Documents/GitHub_Repo/Data-Science/Tools/QR_Code/data/BD_logo_circle_transparent.png'\n",
    "column_name_for_unique_ID = 'Name on Frame' # 'Name on Frame' # 'Unnamed: 2' # 'Unnamed: 2' # 'Name on Frame' # 'ID' #\n",
    "column_name_for_customer_name = 'Customer Name'"
   ]
  },
  {
   "cell_type": "code",
   "execution_count": 5,
   "metadata": {},
   "outputs": [],
   "source": [
    "global size_dymo_paper_width, resolution_dymo_w\n",
    "size_dymo_paper_width = 6.2 #cm\n",
    "resolution_dymo_h = 300 #dpi\n",
    "resolution_dymo_w = 600 #dpi\n",
    "url_app_0 = 'https://qr.bd-ops.com/'"
   ]
  },
  {
   "cell_type": "code",
   "execution_count": 6,
   "metadata": {},
   "outputs": [
    {
     "data": {
      "text/html": [
       "<div>\n",
       "<style scoped>\n",
       "    .dataframe tbody tr th:only-of-type {\n",
       "        vertical-align: middle;\n",
       "    }\n",
       "\n",
       "    .dataframe tbody tr th {\n",
       "        vertical-align: top;\n",
       "    }\n",
       "\n",
       "    .dataframe thead th {\n",
       "        text-align: right;\n",
       "    }\n",
       "</style>\n",
       "<table border=\"1\" class=\"dataframe\">\n",
       "  <thead>\n",
       "    <tr style=\"text-align: right;\">\n",
       "      <th></th>\n",
       "      <th>PO Number</th>\n",
       "      <th>Customer Name</th>\n",
       "      <th>Name on Frame</th>\n",
       "      <th>Frame Type</th>\n",
       "      <th>Frame Size</th>\n",
       "      <th>Frame Color</th>\n",
       "      <th>Loups Type</th>\n",
       "      <th>Magnification</th>\n",
       "      <th>WD</th>\n",
       "      <th>Remarks</th>\n",
       "    </tr>\n",
       "  </thead>\n",
       "  <tbody>\n",
       "    <tr>\n",
       "      <th>0</th>\n",
       "      <td>PO 2606</td>\n",
       "      <td>Rex Lian</td>\n",
       "      <td>BD18484</td>\n",
       "      <td>UK Round</td>\n",
       "      <td>M</td>\n",
       "      <td>Graphite</td>\n",
       "      <td>Ergo</td>\n",
       "      <td>x6</td>\n",
       "      <td>560</td>\n",
       "      <td>NaN</td>\n",
       "    </tr>\n",
       "    <tr>\n",
       "      <th>1</th>\n",
       "      <td>PO 2606</td>\n",
       "      <td>Ashton Foo</td>\n",
       "      <td>BD18523</td>\n",
       "      <td>UK Rectangular</td>\n",
       "      <td>M</td>\n",
       "      <td>Graphite</td>\n",
       "      <td>Ergo</td>\n",
       "      <td>x6</td>\n",
       "      <td>560</td>\n",
       "      <td>NaN</td>\n",
       "    </tr>\n",
       "    <tr>\n",
       "      <th>2</th>\n",
       "      <td>PO 2606</td>\n",
       "      <td>Prashani Rangoda</td>\n",
       "      <td>BD18078</td>\n",
       "      <td>UK Round</td>\n",
       "      <td>XS</td>\n",
       "      <td>Electric Purple</td>\n",
       "      <td>Ergo</td>\n",
       "      <td>x7.5</td>\n",
       "      <td>510</td>\n",
       "      <td>NaN</td>\n",
       "    </tr>\n",
       "    <tr>\n",
       "      <th>3</th>\n",
       "      <td>PO 2606</td>\n",
       "      <td>Misagh Eshragi</td>\n",
       "      <td>BD18270</td>\n",
       "      <td>UK Round</td>\n",
       "      <td>L</td>\n",
       "      <td>Royal Navy</td>\n",
       "      <td>Ergo</td>\n",
       "      <td>x7.5</td>\n",
       "      <td>530</td>\n",
       "      <td>NaN</td>\n",
       "    </tr>\n",
       "    <tr>\n",
       "      <th>4</th>\n",
       "      <td>PO 2606</td>\n",
       "      <td>Mohanad Abbas</td>\n",
       "      <td>BD18546</td>\n",
       "      <td>UK Rectangular</td>\n",
       "      <td>L</td>\n",
       "      <td>Graphite</td>\n",
       "      <td>Ergo</td>\n",
       "      <td>x7.5</td>\n",
       "      <td>560</td>\n",
       "      <td>NaN</td>\n",
       "    </tr>\n",
       "  </tbody>\n",
       "</table>\n",
       "</div>"
      ],
      "text/plain": [
       "  PO Number     Customer Name Name on Frame      Frame Type Frame Size  \\\n",
       "0   PO 2606          Rex Lian       BD18484        UK Round          M   \n",
       "1   PO 2606        Ashton Foo       BD18523  UK Rectangular          M   \n",
       "2   PO 2606  Prashani Rangoda       BD18078        UK Round         XS   \n",
       "3   PO 2606    Misagh Eshragi       BD18270        UK Round          L   \n",
       "4   PO 2606     Mohanad Abbas       BD18546  UK Rectangular          L   \n",
       "\n",
       "       Frame Color Loups Type Magnification   WD Remarks  \n",
       "0         Graphite       Ergo            x6  560     NaN  \n",
       "1         Graphite       Ergo            x6  560     NaN  \n",
       "2  Electric Purple       Ergo          x7.5  510     NaN  \n",
       "3       Royal Navy       Ergo          x7.5  530     NaN  \n",
       "4         Graphite       Ergo          x7.5  560     NaN  "
      ]
     },
     "execution_count": 6,
     "metadata": {},
     "output_type": "execute_result"
    }
   ],
   "source": [
    "df = pd.read_excel(path_to_report, header = 1)\n",
    "df.head()"
   ]
  },
  {
   "cell_type": "code",
   "execution_count": 7,
   "metadata": {},
   "outputs": [],
   "source": [
    "def generate_qr_code(qr_code_message, qr_code_title_top, qr_code_title_bottom, img_folder_path, logo = False):\n",
    "    qr = qrcode.QRCode(\n",
    "        version = 2, # from 1 [27x27] to 40 [177x177]\n",
    "        box_size=30,\n",
    "        border=1)\n",
    "    qr.add_data(qr_code_message)\n",
    "    qr.make()\n",
    "    plt.clf()\n",
    "    if logo == True:\n",
    "        img = qr.make_image(image_factory=StyledPilImage, embeded_image_path= logo_image_path)\n",
    "    else:\n",
    "        img = qr.make_image()\n",
    "    cm = 1/2.54  # centimeters in inches\n",
    "    plt.figure(figsize=(size_dymo_paper_width*cm, size_dymo_paper_width*cm), dpi=resolution_dymo_w)\n",
    "    im = img.convert('LA')\n",
    "    im = plt.imshow(im, cmap='gray')\n",
    "    xmin, xmax, ymin, ymax = plt.axis()\n",
    "    im = plt.title(qr_code_title_top,fontsize=15) \n",
    "    im = plt.text(s = qr_code_title_bottom, fontsize=30, x = (xmin + xmax)/2, y = ymin - 0.15*(ymax -ymin), horizontalalignment = 'center')\n",
    "    # \n",
    "    im = plt.text(s = '.', fontsize=1, x = xmin, y = ymin, color = 'w')\n",
    "    im = plt.text(s = '.', fontsize=1, x = xmax, y = ymax, color = 'w')\n",
    "    im = plt.text(s = '.', fontsize=1, x = xmin, y = ymin - 0.3*(ymax -ymin), color = 'w')\n",
    "    im = plt.text(s = '.', fontsize=1, x = xmax, y = ymax + 0.3*(ymax -ymin), color = 'w')\n",
    "    im = plt.text(s = '.', fontsize=1, x = xmin, y = ymax)\n",
    "    im = plt.text(s = '.', fontsize=1, x = xmax, y = ymin)\n",
    "    im = plt.text(s = '.', fontsize=1, x = xmin  - 0.3*(xmax -xmin), y = ymax)\n",
    "    im = plt.text(s = '.', fontsize=1, x = xmax  + 0.3*(xmax -xmin), y = ymin)\n",
    "    im = plt.axis('off')\n",
    "    # \n",
    "    filename = qr_code_title_top + '_QR_code.jpg'\n",
    "    # plt.tight_layout(pad=3, h_pad = 3)\n",
    "    plt.rcParams[\"figure.figsize\"] = (size_dymo_paper_width*cm, size_dymo_paper_width*cm)\n",
    "    plt.savefig(img_folder_path + filename, transparent  = True, dpi = resolution_dymo_w, bbox_inches = 'tight') #   \n",
    "    \n",
    "    return im, filename\n",
    "    "
   ]
  },
  {
   "cell_type": "code",
   "execution_count": 8,
   "metadata": {},
   "outputs": [],
   "source": [
    "if TEST == True:\n",
    "    img_folder_path_test = '/Users/danielfiuzadosil/Documents/GitHub_Repo/Data-Science/Tools/QR_Code/output_test/'\n",
    "    !rm -r {img_folder_path_test+'*'}\n",
    "    !rm -r {pdf_path+'*'}\n",
    "    from random import randrange\n",
    "    range_df = len(df[column_name_for_unique_ID])\n",
    "    i = randrange(range_df)\n",
    "    print(i)\n",
    "    unique_id_temp = str(df[column_name_for_unique_ID].iloc[i])\n",
    "    customer_name_temp = str(df[column_name_for_customer_name].iloc[i])\n",
    "    qr_code_message = url_app_0 + '/' + str(unique_id_temp)\n",
    "    qr_code_title_top = customer_name_temp\n",
    "    qr_code_title_bottom = unique_id_temp\n",
    "    # \n",
    "    im, filename = generate_qr_code(qr_code_message, qr_code_title_top, qr_code_title_bottom, img_folder_path_test, logo = False)\n",
    "    #\n",
    "    # Test CRM Order BD17110\n",
    "    unique_id_temp = 'BD17110'\n",
    "    qr_code_message = url_app_0 + '/' + str(unique_id_temp)\n",
    "    qr_code_title_top = unique_id_temp\n",
    "    qr_code_title_bottom = 'Test QR Code'\n",
    "    #\n",
    "    im, filename = generate_qr_code(qr_code_message, qr_code_title_top, qr_code_title_bottom, img_folder_path_test, logo = False)\n",
    "    #"
   ]
  },
  {
   "cell_type": "code",
   "execution_count": 9,
   "metadata": {},
   "outputs": [],
   "source": [
    "# stop!"
   ]
  },
  {
   "cell_type": "code",
   "execution_count": 10,
   "metadata": {},
   "outputs": [
    {
     "name": "stderr",
     "output_type": "stream",
     "text": [
      "/var/folders/tl/yx271fpd4sd_d224zzcb65840000gp/T/ipykernel_47979/3400480457.py:14: RuntimeWarning: More than 20 figures have been opened. Figures created through the pyplot interface (`matplotlib.pyplot.figure`) are retained until explicitly closed and may consume too much memory. (To control this warning, see the rcParam `figure.max_open_warning`). Consider using `matplotlib.pyplot.close()`.\n",
      "  plt.figure(figsize=(size_dymo_paper_width*cm, size_dymo_paper_width*cm), dpi=resolution_dymo_w)\n"
     ]
    },
    {
     "data": {
      "text/plain": [
       "<Figure size 640x480 with 0 Axes>"
      ]
     },
     "metadata": {},
     "output_type": "display_data"
    },
    {
     "data": {
      "text/plain": [
       "<Figure size 1464.57x1464.57 with 0 Axes>"
      ]
     },
     "metadata": {},
     "output_type": "display_data"
    },
    {
     "data": {
      "text/plain": [
       "<Figure size 1464.57x1464.57 with 0 Axes>"
      ]
     },
     "metadata": {},
     "output_type": "display_data"
    },
    {
     "data": {
      "text/plain": [
       "<Figure size 1464.57x1464.57 with 0 Axes>"
      ]
     },
     "metadata": {},
     "output_type": "display_data"
    },
    {
     "data": {
      "text/plain": [
       "<Figure size 1464.57x1464.57 with 0 Axes>"
      ]
     },
     "metadata": {},
     "output_type": "display_data"
    },
    {
     "data": {
      "text/plain": [
       "<Figure size 1464.57x1464.57 with 0 Axes>"
      ]
     },
     "metadata": {},
     "output_type": "display_data"
    },
    {
     "data": {
      "text/plain": [
       "<Figure size 1464.57x1464.57 with 0 Axes>"
      ]
     },
     "metadata": {},
     "output_type": "display_data"
    },
    {
     "data": {
      "text/plain": [
       "<Figure size 1464.57x1464.57 with 0 Axes>"
      ]
     },
     "metadata": {},
     "output_type": "display_data"
    },
    {
     "data": {
      "text/plain": [
       "<Figure size 1464.57x1464.57 with 0 Axes>"
      ]
     },
     "metadata": {},
     "output_type": "display_data"
    },
    {
     "data": {
      "text/plain": [
       "<Figure size 1464.57x1464.57 with 0 Axes>"
      ]
     },
     "metadata": {},
     "output_type": "display_data"
    },
    {
     "data": {
      "text/plain": [
       "<Figure size 1464.57x1464.57 with 0 Axes>"
      ]
     },
     "metadata": {},
     "output_type": "display_data"
    },
    {
     "data": {
      "text/plain": [
       "<Figure size 1464.57x1464.57 with 0 Axes>"
      ]
     },
     "metadata": {},
     "output_type": "display_data"
    },
    {
     "data": {
      "text/plain": [
       "<Figure size 1464.57x1464.57 with 0 Axes>"
      ]
     },
     "metadata": {},
     "output_type": "display_data"
    },
    {
     "data": {
      "text/plain": [
       "<Figure size 1464.57x1464.57 with 0 Axes>"
      ]
     },
     "metadata": {},
     "output_type": "display_data"
    },
    {
     "data": {
      "text/plain": [
       "<Figure size 1464.57x1464.57 with 0 Axes>"
      ]
     },
     "metadata": {},
     "output_type": "display_data"
    },
    {
     "data": {
      "text/plain": [
       "<Figure size 1464.57x1464.57 with 0 Axes>"
      ]
     },
     "metadata": {},
     "output_type": "display_data"
    },
    {
     "data": {
      "text/plain": [
       "<Figure size 1464.57x1464.57 with 0 Axes>"
      ]
     },
     "metadata": {},
     "output_type": "display_data"
    },
    {
     "data": {
      "text/plain": [
       "<Figure size 1464.57x1464.57 with 0 Axes>"
      ]
     },
     "metadata": {},
     "output_type": "display_data"
    },
    {
     "data": {
      "text/plain": [
       "<Figure size 1464.57x1464.57 with 0 Axes>"
      ]
     },
     "metadata": {},
     "output_type": "display_data"
    },
    {
     "data": {
      "text/plain": [
       "<Figure size 1464.57x1464.57 with 0 Axes>"
      ]
     },
     "metadata": {},
     "output_type": "display_data"
    },
    {
     "data": {
      "text/plain": [
       "<Figure size 1464.57x1464.57 with 0 Axes>"
      ]
     },
     "metadata": {},
     "output_type": "display_data"
    },
    {
     "data": {
      "text/plain": [
       "<Figure size 1464.57x1464.57 with 0 Axes>"
      ]
     },
     "metadata": {},
     "output_type": "display_data"
    },
    {
     "data": {
      "text/plain": [
       "<Figure size 1464.57x1464.57 with 0 Axes>"
      ]
     },
     "metadata": {},
     "output_type": "display_data"
    },
    {
     "data": {
      "text/plain": [
       "<Figure size 1464.57x1464.57 with 0 Axes>"
      ]
     },
     "metadata": {},
     "output_type": "display_data"
    },
    {
     "data": {
      "text/plain": [
       "<Figure size 1464.57x1464.57 with 0 Axes>"
      ]
     },
     "metadata": {},
     "output_type": "display_data"
    },
    {
     "data": {
      "text/plain": [
       "<Figure size 1464.57x1464.57 with 0 Axes>"
      ]
     },
     "metadata": {},
     "output_type": "display_data"
    },
    {
     "data": {
      "text/plain": [
       "<Figure size 1464.57x1464.57 with 0 Axes>"
      ]
     },
     "metadata": {},
     "output_type": "display_data"
    },
    {
     "data": {
      "text/plain": [
       "<Figure size 1464.57x1464.57 with 0 Axes>"
      ]
     },
     "metadata": {},
     "output_type": "display_data"
    },
    {
     "data": {
      "text/plain": [
       "<Figure size 1464.57x1464.57 with 0 Axes>"
      ]
     },
     "metadata": {},
     "output_type": "display_data"
    },
    {
     "data": {
      "text/plain": [
       "<Figure size 1464.57x1464.57 with 0 Axes>"
      ]
     },
     "metadata": {},
     "output_type": "display_data"
    },
    {
     "data": {
      "text/plain": [
       "<Figure size 1464.57x1464.57 with 0 Axes>"
      ]
     },
     "metadata": {},
     "output_type": "display_data"
    },
    {
     "data": {
      "text/plain": [
       "<Figure size 1464.57x1464.57 with 0 Axes>"
      ]
     },
     "metadata": {},
     "output_type": "display_data"
    },
    {
     "data": {
      "text/plain": [
       "<Figure size 1464.57x1464.57 with 0 Axes>"
      ]
     },
     "metadata": {},
     "output_type": "display_data"
    },
    {
     "data": {
      "text/plain": [
       "<Figure size 1464.57x1464.57 with 0 Axes>"
      ]
     },
     "metadata": {},
     "output_type": "display_data"
    },
    {
     "data": {
      "text/plain": [
       "<Figure size 1464.57x1464.57 with 0 Axes>"
      ]
     },
     "metadata": {},
     "output_type": "display_data"
    },
    {
     "data": {
      "text/plain": [
       "<Figure size 1464.57x1464.57 with 0 Axes>"
      ]
     },
     "metadata": {},
     "output_type": "display_data"
    },
    {
     "data": {
      "text/plain": [
       "<Figure size 1464.57x1464.57 with 0 Axes>"
      ]
     },
     "metadata": {},
     "output_type": "display_data"
    },
    {
     "data": {
      "text/plain": [
       "<Figure size 1464.57x1464.57 with 0 Axes>"
      ]
     },
     "metadata": {},
     "output_type": "display_data"
    },
    {
     "data": {
      "text/plain": [
       "<Figure size 1464.57x1464.57 with 0 Axes>"
      ]
     },
     "metadata": {},
     "output_type": "display_data"
    },
    {
     "data": {
      "text/plain": [
       "<Figure size 1464.57x1464.57 with 0 Axes>"
      ]
     },
     "metadata": {},
     "output_type": "display_data"
    },
    {
     "data": {
      "text/plain": [
       "<Figure size 1464.57x1464.57 with 0 Axes>"
      ]
     },
     "metadata": {},
     "output_type": "display_data"
    },
    {
     "data": {
      "text/plain": [
       "<Figure size 1464.57x1464.57 with 0 Axes>"
      ]
     },
     "metadata": {},
     "output_type": "display_data"
    },
    {
     "data": {
      "text/plain": [
       "<Figure size 1464.57x1464.57 with 0 Axes>"
      ]
     },
     "metadata": {},
     "output_type": "display_data"
    },
    {
     "data": {
      "text/plain": [
       "<Figure size 1464.57x1464.57 with 0 Axes>"
      ]
     },
     "metadata": {},
     "output_type": "display_data"
    },
    {
     "data": {
      "text/plain": [
       "<Figure size 1464.57x1464.57 with 0 Axes>"
      ]
     },
     "metadata": {},
     "output_type": "display_data"
    },
    {
     "data": {
      "text/plain": [
       "<Figure size 1464.57x1464.57 with 0 Axes>"
      ]
     },
     "metadata": {},
     "output_type": "display_data"
    },
    {
     "data": {
      "text/plain": [
       "<Figure size 1464.57x1464.57 with 0 Axes>"
      ]
     },
     "metadata": {},
     "output_type": "display_data"
    },
    {
     "data": {
      "image/png": "[encoded data removed]",
      "text/plain": [
       "<Figure size 1464.57x1464.57 with 1 Axes>"
      ]
     },
     "metadata": {},
     "output_type": "display_data"
    }
   ],
   "source": [
    "file_name_list = []\n",
    "!rm -r {img_folder_path+'*'}\n",
    "for i in range(len(df)):\n",
    "    unique_id_temp = str(df[column_name_for_unique_ID].iloc[i])\n",
    "    customer_name_temp = str(df[column_name_for_customer_name].iloc[i])\n",
    "    if len(unique_id_temp) > 2:\n",
    "        qr_code_message = url_app_0 + '/' + unique_id_temp\n",
    "        qr_code_title_top = customer_name_temp\n",
    "        qr_code_title_bottom = unique_id_temp\n",
    "        # \n",
    "        im, filename = generate_qr_code(qr_code_message, qr_code_title_top, qr_code_title_bottom, img_folder_path, logo = False)\n",
    "        file_name_list.append(filename)\n",
    "        if DISPLAY_QR_CODES == True:\n",
    "            plt.show()"
   ]
  },
  {
   "cell_type": "code",
   "execution_count": 11,
   "metadata": {},
   "outputs": [
    {
     "name": "stdout",
     "output_type": "stream",
     "text": [
      "zsh:1: no matches found: /Users/danielfiuzadosil/Documents/GitHub_Repo/Data-Science/Tools/QR_Code/ouput_pdf/qr_codes_Shipping_details_10_8_23.pdf*\n"
     ]
    }
   ],
   "source": [
    "!rm -r {pdf_path+'*'}\n",
    "images = [Image.open(img_folder_path + f) for f in file_name_list]\n",
    "images[0].save(pdf_path, \"PDF\" ,resolution=resolution_dymo_w, save_all=True, append_images=images[1:])"
   ]
  },
  {
   "cell_type": "code",
   "execution_count": null,
   "metadata": {},
   "outputs": [],
   "source": []
  }
 ],
 "metadata": {
  "kernelspec": {
   "display_name": "base",
   "language": "python",
   "name": "python3"
  },
  "language_info": {
   "codemirror_mode": {
    "name": "ipython",
    "version": 3
   },
   "file_extension": ".py",
   "mimetype": "text/x-python",
   "name": "python",
   "nbconvert_exporter": "python",
   "pygments_lexer": "ipython3",
   "version": "3.9.7"
  },
  "orig_nbformat": 4,
  "vscode": {
   "interpreter": {
    "hash": "80e84fd967207d73b61aa430605dad8c12793944af9d1a99037915e6e7461b10"
   }
  }
 },
 "nbformat": 4,
 "nbformat_minor": 2
}
