{
 "cells": [
  {
   "cell_type": "code",
   "execution_count": 1,
   "metadata": {},
   "outputs": [],
   "source": [
    "uniqueID = 'BD17110'"
   ]
  },
  {
   "cell_type": "code",
   "execution_count": 2,
   "metadata": {},
   "outputs": [],
   "source": [
    "import pandas as pd\n",
    "import config\n",
    "from pyairtable import Api, Base, Table\n",
    "from pyairtable.formulas import match"
   ]
  },
  {
   "cell_type": "code",
   "execution_count": 4,
   "metadata": {},
   "outputs": [
    {
     "name": "stdout",
     "output_type": "stream",
     "text": [
      "https://crm.zoho.com/crm/org647602170/tab/Potentials/2586545000099728060\n"
     ]
    }
   ],
   "source": [
    "table_name = 'Intro_Forms'\n",
    "table = Table(config.AIRTABLE_API_KEY, config.BASE_ID, table_name)\n",
    "formula = match({\"Form_Unique_ID\": uniqueID})\n",
    "record = table.first(formula=formula)\n",
    "crm_link = record['fields']['CRM_Customer_Link']\n",
    "print(crm_link)"
   ]
  },
  {
   "cell_type": "code",
   "execution_count": null,
   "metadata": {},
   "outputs": [],
   "source": []
  }
 ],
 "metadata": {
  "kernelspec": {
   "display_name": "base",
   "language": "python",
   "name": "python3"
  },
  "language_info": {
   "codemirror_mode": {
    "name": "ipython",
    "version": 3
   },
   "file_extension": ".py",
   "mimetype": "text/x-python",
   "name": "python",
   "nbconvert_exporter": "python",
   "pygments_lexer": "ipython3",
   "version": "3.9.7"
  },
  "orig_nbformat": 4
 },
 "nbformat": 4,
 "nbformat_minor": 2
}
