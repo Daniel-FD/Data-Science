{
 "cells": [
  {
   "cell_type": "code",
   "execution_count": 15,
   "metadata": {},
   "outputs": [],
   "source": [
    "from selenium import webdriver\n",
    "from selenium.webdriver.support.ui import WebDriverWait\n",
    "from selenium.webdriver.support import expected_conditions as EC\n",
    "from selenium.webdriver.common.by import By\n",
    "import config"
   ]
  },
  {
   "cell_type": "code",
   "execution_count": 16,
   "metadata": {},
   "outputs": [],
   "source": [
    "USERNAME = config.USERNAME\n",
    "PASSWORD = config.PASSWORD\n",
    "url = 'https://www.firsttutors.com/uk/login/'\n",
    "url_messages = 'https://www.firsttutors.com/uk/members/tutor-requests.php'\n",
    "HEADLESS_MODE = True"
   ]
  },
  {
   "cell_type": "markdown",
   "metadata": {},
   "source": [
    "- placeholder=\"Username or email\" type=\"text\" name=\"php_auth[username]\" id=\"php_auth_username\n",
    "- placeholder=\"Password\" type=\"password\" name=\"php_auth[password]\" id=\"php_auth_password\"\n",
    "- type=\"submit\" name=\"commit\" value=\"Log in\" class=\"btn btn-block btn-primary\" data-disable-with=\"Log in\"\n",
    "- class=\"btn btn-success px-3\" data-remote=\"true\" data-dismiss=\"modal\" href=\"/uk/cookie-settings/?all=1\" class=\"icon ml-1\""
   ]
  },
  {
   "cell_type": "code",
   "execution_count": 17,
   "metadata": {},
   "outputs": [],
   "source": [
    "if HEADLESS_MODE == True:\n",
    "    op = webdriver.ChromeOptions()\n",
    "    op.add_argument('headless')\n",
    "    driver = webdriver.Chrome(options=op)\n",
    "else:\n",
    "    driver = webdriver.Chrome()\n",
    "wait = WebDriverWait(driver, 30)"
   ]
  },
  {
   "cell_type": "markdown",
   "metadata": {},
   "source": [
    "### 1. Open Website"
   ]
  },
  {
   "cell_type": "code",
   "execution_count": 18,
   "metadata": {},
   "outputs": [],
   "source": [
    "driver.get(url)\n",
    "driver.implicitly_wait(10)"
   ]
  },
  {
   "cell_type": "markdown",
   "metadata": {},
   "source": [
    "### 2. Accept Cookies"
   ]
  },
  {
   "cell_type": "code",
   "execution_count": 19,
   "metadata": {},
   "outputs": [],
   "source": [
    "wait.until(EC.element_to_be_clickable((By.XPATH, \"//*[@id='cookie-policy']/div/div/div/div/a[1]\"))).click()"
   ]
  },
  {
   "cell_type": "markdown",
   "metadata": {},
   "source": [
    "### 3. Populate Username and Password"
   ]
  },
  {
   "cell_type": "code",
   "execution_count": 20,
   "metadata": {},
   "outputs": [],
   "source": [
    "wait.until(EC.element_to_be_clickable((By.ID, \"php_auth_username\"))).send_keys(USERNAME)\n",
    "wait.until(EC.element_to_be_clickable((By.ID, \"php_auth_password\"))).send_keys(PASSWORD)"
   ]
  },
  {
   "cell_type": "markdown",
   "metadata": {},
   "source": [
    "### 4. Click on Log-In"
   ]
  },
  {
   "cell_type": "code",
   "execution_count": 21,
   "metadata": {},
   "outputs": [],
   "source": [
    "wait.until(EC.element_to_be_clickable((By.NAME, \"commit\"))).click()"
   ]
  },
  {
   "cell_type": "markdown",
   "metadata": {},
   "source": [
    "### 5. Go to Messages"
   ]
  },
  {
   "cell_type": "code",
   "execution_count": 22,
   "metadata": {},
   "outputs": [],
   "source": [
    "driver.get(url_messages)"
   ]
  },
  {
   "cell_type": "markdown",
   "metadata": {},
   "source": [
    "### 6. Open Latest Message"
   ]
  },
  {
   "cell_type": "markdown",
   "metadata": {},
   "source": [
    "For the second message: //*[@id='middle']/div[2]/div[2]/div[3]/a"
   ]
  },
  {
   "cell_type": "code",
   "execution_count": 23,
   "metadata": {},
   "outputs": [],
   "source": [
    "wait.until(EC.element_to_be_clickable((By.XPATH, \"//*[@id='middle']/div[2]/div[1]/div[3]/a\"))).click()"
   ]
  },
  {
   "cell_type": "markdown",
   "metadata": {},
   "source": [
    "### 7. Retrieve Student's Name"
   ]
  },
  {
   "cell_type": "code",
   "execution_count": 24,
   "metadata": {},
   "outputs": [
    {
     "name": "stdout",
     "output_type": "stream",
     "text": [
      "Marianne\n"
     ]
    }
   ],
   "source": [
    "name = wait.until(EC.visibility_of_element_located((By.XPATH, \"//*[@id='middle']/div[3]/div[1]/div[1]\"))).get_attribute(\"innerHTML\")\n",
    "print(name)"
   ]
  },
  {
   "cell_type": "markdown",
   "metadata": {},
   "source": [
    "### 9. Create message to Student"
   ]
  },
  {
   "cell_type": "code",
   "execution_count": 25,
   "metadata": {},
   "outputs": [],
   "source": [
    "message = ''"
   ]
  },
  {
   "cell_type": "markdown",
   "metadata": {},
   "source": [
    "### 10. Type message to Student"
   ]
  },
  {
   "cell_type": "code",
   "execution_count": 26,
   "metadata": {},
   "outputs": [],
   "source": [
    "inputElement = driver.find_element(By.XPATH, \"//*[@id='message']\")\n",
    "inputElement.send_keys('')"
   ]
  },
  {
   "cell_type": "markdown",
   "metadata": {},
   "source": [
    "### 11. Send message to Student"
   ]
  },
  {
   "cell_type": "code",
   "execution_count": 27,
   "metadata": {},
   "outputs": [],
   "source": [
    "wait.until(EC.element_to_be_clickable((By.XPATH, \"//*[@id='send_message_125854']\"))).click()\n"
   ]
  }
 ],
 "metadata": {
  "kernelspec": {
   "display_name": "Python 3.9.7 ('base')",
   "language": "python",
   "name": "python3"
  },
  "language_info": {
   "codemirror_mode": {
    "name": "ipython",
    "version": 3
   },
   "file_extension": ".py",
   "mimetype": "text/x-python",
   "name": "python",
   "nbconvert_exporter": "python",
   "pygments_lexer": "ipython3",
   "version": "3.9.7"
  },
  "orig_nbformat": 4,
  "vscode": {
   "interpreter": {
    "hash": "80e84fd967207d73b61aa430605dad8c12793944af9d1a99037915e6e7461b10"
   }
  }
 },
 "nbformat": 4,
 "nbformat_minor": 2
}
