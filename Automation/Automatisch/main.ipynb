{
 "cells": [
  {
   "cell_type": "code",
   "execution_count": 1,
   "metadata": {},
   "outputs": [
    {
     "name": "stdout",
     "output_type": "stream",
     "text": [
      "Cloning into 'automatisch'...\n",
      "remote: Enumerating objects: 21375, done.\u001b[K\n",
      "remote: Counting objects: 100% (4132/4132), done.\u001b[K\n",
      "remote: Compressing objects: 100% (1100/1100), done.\u001b[K\n",
      "remote: Total 21375 (delta 3279), reused 3350 (delta 2964), pack-reused 17243\u001b[K\n",
      "Receiving objects: 100% (21375/21375), 8.54 MiB | 14.90 MiB/s, done.\n",
      "Resolving deltas: 100% (13695/13695), done.\n",
      "no configuration file provided: not found\n"
     ]
    }
   ],
   "source": [
    "# Clone the repository\n",
    "!git clone https://github.com/automatisch/automatisch.git\n",
    "\n",
    "# Go to the repository folder\n",
    "!cd automatisch\n",
    "\n",
    "# Start\n",
    "!docker compose up"
   ]
  },
  {
   "cell_type": "code",
   "execution_count": null,
   "metadata": {},
   "outputs": [],
   "source": []
  }
 ],
 "metadata": {
  "kernelspec": {
   "display_name": "base",
   "language": "python",
   "name": "python3"
  },
  "language_info": {
   "codemirror_mode": {
    "name": "ipython",
    "version": 3
   },
   "file_extension": ".py",
   "mimetype": "text/x-python",
   "name": "python",
   "nbconvert_exporter": "python",
   "pygments_lexer": "ipython3",
   "version": "3.9.7"
  },
  "orig_nbformat": 4
 },
 "nbformat": 4,
 "nbformat_minor": 2
}
