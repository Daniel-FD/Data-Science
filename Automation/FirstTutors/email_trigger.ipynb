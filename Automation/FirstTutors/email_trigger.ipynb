{
 "cells": [
  {
   "cell_type": "markdown",
   "metadata": {},
   "source": [
    "https://developers.google.com/gmail/api/quickstart/python"
   ]
  },
  {
   "cell_type": "markdown",
   "metadata": {},
   "source": [
    "Todo: \n",
    "- Find only emails from a given recipient (FirstTutors)"
   ]
  },
  {
   "cell_type": "code",
   "execution_count": 10,
   "metadata": {},
   "outputs": [],
   "source": [
    "import os.path\n",
    "import base64\n",
    "import pandas as pd\n",
    "from google.auth.transport.requests import Request\n",
    "from google.oauth2.credentials import Credentials\n",
    "from google_auth_oauthlib.flow import InstalledAppFlow\n",
    "from googleapiclient.discovery import build"
   ]
  },
  {
   "cell_type": "code",
   "execution_count": 11,
   "metadata": {},
   "outputs": [],
   "source": [
    "SCOPES = ['https://www.googleapis.com/auth/gmail.readonly','https://www.googleapis.com/auth/gmail.modify']"
   ]
  },
  {
   "cell_type": "code",
   "execution_count": 12,
   "metadata": {},
   "outputs": [],
   "source": [
    "creds = None\n",
    "if os.path.exists('token.json'):\n",
    "    creds = Credentials.from_authorized_user_file('token.json', SCOPES)\n",
    "if not creds or not creds.valid:\n",
    "    if creds and creds.expired and creds.refresh_token:\n",
    "        creds.refresh(Request())\n",
    "    else:\n",
    "        flow = InstalledAppFlow.from_client_secrets_file('my_cred_file.json', SCOPES)\n",
    "        creds = flow.run_local_server(port=0)\n",
    "    with open('token.json', 'w') as token:\n",
    "        token.write(creds.to_json())"
   ]
  },
  {
   "cell_type": "code",
   "execution_count": 13,
   "metadata": {},
   "outputs": [],
   "source": [
    "service = build('gmail', 'v1', credentials=creds)\n",
    "results = service.users().messages().list(userId='me', labelIds=['INBOX'], q=\"from:enquiries@firsttutors.co.uk\").execute()\n",
    "messages = results.get('messages',[])"
   ]
  },
  {
   "cell_type": "code",
   "execution_count": 14,
   "metadata": {},
   "outputs": [
    {
     "data": {
      "text/plain": [
       "[{'id': '18460676dae58b5c', 'threadId': '18460676dae58b5c'},\n",
       " {'id': '1845d054a8a6921c', 'threadId': '1845d054a8a6921c'},\n",
       " {'id': '1845cc135c2e4f57', 'threadId': '1845cc135c2e4f57'},\n",
       " {'id': '184531207a082275', 'threadId': '184531207a082275'},\n",
       " {'id': '184530e7286d1655', 'threadId': '184530e7286d1655'},\n",
       " {'id': '184361ff1d67f463', 'threadId': '184361ff1d67f463'},\n",
       " {'id': '184214f6dd0a9e66', 'threadId': '184214f6dd0a9e66'},\n",
       " {'id': '184214ea3fb21cb4', 'threadId': '184214ea3fb21cb4'},\n",
       " {'id': '1840dca8feab41a5', 'threadId': '1840dca8feab41a5'},\n",
       " {'id': '1840cb5158fcabd2', 'threadId': '1840cb5158fcabd2'},\n",
       " {'id': '18404fd54bd4449a', 'threadId': '18404fd54bd4449a'},\n",
       " {'id': '184012d694702f9b', 'threadId': '184011c621840019'},\n",
       " {'id': '18401220f4464094', 'threadId': '184011c621840019'},\n",
       " {'id': '184011c621840019', 'threadId': '184011c621840019'},\n",
       " {'id': '1840116d51b9654f', 'threadId': '1840116d51b9654f'},\n",
       " {'id': '183f931101be1525', 'threadId': '183f931101be1525'},\n",
       " {'id': '183f06ff42bb4cc0', 'threadId': '183ef875645d7266'},\n",
       " {'id': '183efa11928203a3', 'threadId': '183ef875645d7266'},\n",
       " {'id': '183ef9bf4ef5a618', 'threadId': '183ef9bf4ef5a618'},\n",
       " {'id': '183ef875645d7266', 'threadId': '183ef875645d7266'},\n",
       " {'id': '183ed4b50f7a6135', 'threadId': '183ed4b50f7a6135'},\n",
       " {'id': '183de5d77b25544f', 'threadId': '183de5d77b25544f'},\n",
       " {'id': '183c9c331e0a8879', 'threadId': '183c9c331e0a8879'},\n",
       " {'id': '183a8d859994b4c7', 'threadId': '183a8d859994b4c7'},\n",
       " {'id': '1832f45bde4e7321', 'threadId': '1832f45bde4e7321'},\n",
       " {'id': '1832abb5ecc7e82c', 'threadId': '1832abb5ecc7e82c'},\n",
       " {'id': '18302006f5b24ca1', 'threadId': '18302006f5b24ca1'},\n",
       " {'id': '182fefb57f618bc4', 'threadId': '182fefb57f618bc4'},\n",
       " {'id': '182fb3f019b9f4c1', 'threadId': '182f9b0cd62669d6'},\n",
       " {'id': '182f9be510dfe60d', 'threadId': '182f9b0cd62669d6'},\n",
       " {'id': '182f9b0cd62669d6', 'threadId': '182f9b0cd62669d6'},\n",
       " {'id': '182f69f07e4e044f', 'threadId': '182f69f07e4e044f'},\n",
       " {'id': '182f5e306c75943b', 'threadId': '182f4ca676e80510'},\n",
       " {'id': '182f4ca676e80510', 'threadId': '182f4ca676e80510'},\n",
       " {'id': '182f32a33504b4df', 'threadId': '182f32a33504b4df'},\n",
       " {'id': '182e204d962fb142', 'threadId': '182e204d962fb142'},\n",
       " {'id': '182ce806f0d81c57', 'threadId': '182ce806f0d81c57'},\n",
       " {'id': '182c0f5685b38765', 'threadId': '182c0f5685b38765'},\n",
       " {'id': '182bfa6450839d6f', 'threadId': '182bfa6450839d6f'},\n",
       " {'id': '18299ecbdcc4c2a7', 'threadId': '18299ecbdcc4c2a7'},\n",
       " {'id': '18285527f1f89c97', 'threadId': '18285527f1f89c97'},\n",
       " {'id': '18270b9a00147732', 'threadId': '18270b9a00147732'},\n",
       " {'id': '182637ae47297d4c', 'threadId': '182637ae47297d4c'},\n",
       " {'id': '1825c1f4c72958dd', 'threadId': '1825c1f4c72958dd'},\n",
       " {'id': '182499fa39421c95', 'threadId': '182498ececbb8ba5'},\n",
       " {'id': '182498ececbb8ba5', 'threadId': '182498ececbb8ba5'},\n",
       " {'id': '182489b17f770820', 'threadId': '182489b17f770820'},\n",
       " {'id': '1824664f91e6a68f', 'threadId': '1824664f91e6a68f'},\n",
       " {'id': '182464dd7350a00d', 'threadId': '182464dd7350a00d'},\n",
       " {'id': '1823e4e706b66db2', 'threadId': '1823e4e706b66db2'},\n",
       " {'id': '1823ae9cd6d9e840', 'threadId': '1823ad24fe46b74d'},\n",
       " {'id': '1823adde172f11b4', 'threadId': '1823ad24fe46b74d'},\n",
       " {'id': '1823ad3eeaae038c', 'threadId': '1823ad24fe46b74d'},\n",
       " {'id': '1823ad24fe46b74d', 'threadId': '1823ad24fe46b74d'},\n",
       " {'id': '1823acf1ea3c9f09', 'threadId': '1823acf1ea3c9f09'},\n",
       " {'id': '1823503673139419', 'threadId': '1823503673139419'},\n",
       " {'id': '18232edd8e8b112d', 'threadId': '18232edd8e8b112d'},\n",
       " {'id': '1823067643d5fed6', 'threadId': '1823067643d5fed6'},\n",
       " {'id': '181f72e50e248470', 'threadId': '181f72e50e248470'},\n",
       " {'id': '181f7264db2f9595', 'threadId': '181f33a3f1776c54'},\n",
       " {'id': '181f7177f46c463d', 'threadId': '181f33a3f1776c54'},\n",
       " {'id': '181f497a0ddbf01d', 'threadId': '181f33a3f1776c54'},\n",
       " {'id': '181f496be179cf9e', 'threadId': '181f33a3f1776c54'},\n",
       " {'id': '181f342c2a98de72', 'threadId': '181f33a3f1776c54'},\n",
       " {'id': '181f33a3f1776c54', 'threadId': '181f33a3f1776c54'},\n",
       " {'id': '181edf4fb64d3e39', 'threadId': '181edf4fb64d3e39'},\n",
       " {'id': '181c3a7292a24146', 'threadId': '181c364752df14c3'},\n",
       " {'id': '181c3993ec146d01', 'threadId': '181c364752df14c3'},\n",
       " {'id': '181c364752df14c3', 'threadId': '181c364752df14c3'},\n",
       " {'id': '181b5b413c536216', 'threadId': '181b5b413c536216'},\n",
       " {'id': '181b04cfc2a911cf', 'threadId': '181b04cfc2a911cf'},\n",
       " {'id': '181af71094d0cb9f', 'threadId': '181af71094d0cb9f'},\n",
       " {'id': '181a43b2ba64b8fd', 'threadId': '181a43b2ba64b8fd'},\n",
       " {'id': '1819ad2b6ca4604b', 'threadId': '1819ad2b6ca4604b'},\n",
       " {'id': '181957a065981b40', 'threadId': '181957a065981b40'},\n",
       " {'id': '1819552a8682b5e5', 'threadId': '1819552a8682b5e5'},\n",
       " {'id': '181908aa252a390b', 'threadId': '181908aa252a390b'},\n",
       " {'id': '1818f362d02344e2', 'threadId': '1818f362d02344e2'},\n",
       " {'id': '1818c1be433e58b7', 'threadId': '1818c1be433e58b7'},\n",
       " {'id': '1818a0f9e2bfa207', 'threadId': '1818a0f9e2bfa207'},\n",
       " {'id': '18182156d27177d1', 'threadId': '18182156d27177d1'},\n",
       " {'id': '18181fa730957958', 'threadId': '18181e68c7b8ac3f'},\n",
       " {'id': '18181e68c7b8ac3f', 'threadId': '18181e68c7b8ac3f'},\n",
       " {'id': '18181a5455bd91e1', 'threadId': '18181a5455bd91e1'},\n",
       " {'id': '1817c53442534425', 'threadId': '1817c53442534425'},\n",
       " {'id': '1816d83cee0e57b0', 'threadId': '1816d83cee0e57b0'},\n",
       " {'id': '181505567f54dbc6', 'threadId': '181505567f54dbc6'},\n",
       " {'id': '1813bbb17d451566', 'threadId': '1813bbb17d451566'},\n",
       " {'id': '1813a72c913dd295', 'threadId': '1813a72c913dd295'},\n",
       " {'id': '1812e7c7fdab080e', 'threadId': '1812e7c7fdab080e'},\n",
       " {'id': '1812a70c91d0b1bc', 'threadId': '1812a70c91d0b1bc'},\n",
       " {'id': '1811ec18c78605fe', 'threadId': '1811e769cee918cd'},\n",
       " {'id': '1811eaee549b051b', 'threadId': '1811eaee549b051b'},\n",
       " {'id': '1811e871e870c2e8', 'threadId': '1811e769cee918cd'},\n",
       " {'id': '1811e769cee918cd', 'threadId': '1811e769cee918cd'},\n",
       " {'id': '1811ac87a1cbccd6', 'threadId': '1811aa664caafdba'},\n",
       " {'id': '1811aa664caafdba', 'threadId': '1811aa664caafdba'},\n",
       " {'id': '1811aa16996c5ba8', 'threadId': '1811aa16996c5ba8'},\n",
       " {'id': '181116a68e315657', 'threadId': '181116a68e315657'},\n",
       " {'id': '1810316b53b2349a', 'threadId': '1810316b53b2349a'}]"
      ]
     },
     "execution_count": 14,
     "metadata": {},
     "output_type": "execute_result"
    }
   ],
   "source": [
    "messages"
   ]
  },
  {
   "cell_type": "code",
   "execution_count": 15,
   "metadata": {},
   "outputs": [],
   "source": [
    "message = messages[0]"
   ]
  },
  {
   "cell_type": "code",
   "execution_count": 16,
   "metadata": {},
   "outputs": [],
   "source": [
    "msg = service.users().messages().get(userId='me', id=message['id']).execute()  "
   ]
  },
  {
   "cell_type": "code",
   "execution_count": 17,
   "metadata": {},
   "outputs": [
    {
     "data": {
      "text/html": [
       "<div>\n",
       "<style scoped>\n",
       "    .dataframe tbody tr th:only-of-type {\n",
       "        vertical-align: middle;\n",
       "    }\n",
       "\n",
       "    .dataframe tbody tr th {\n",
       "        vertical-align: top;\n",
       "    }\n",
       "\n",
       "    .dataframe thead th {\n",
       "        text-align: right;\n",
       "    }\n",
       "</style>\n",
       "<table border=\"1\" class=\"dataframe\">\n",
       "  <thead>\n",
       "    <tr style=\"text-align: right;\">\n",
       "      <th></th>\n",
       "      <th>size</th>\n",
       "      <th>data</th>\n",
       "    </tr>\n",
       "  </thead>\n",
       "  <tbody>\n",
       "    <tr>\n",
       "      <th>0</th>\n",
       "      <td>1338</td>\n",
       "      <td>e1BSRVZJRVc6IFlvdXIgcG90ZW50aWFsIHN0dWRlbnQsIH...</td>\n",
       "    </tr>\n",
       "  </tbody>\n",
       "</table>\n",
       "</div>"
      ],
      "text/plain": [
       "   size                                               data\n",
       "0  1338  e1BSRVZJRVc6IFlvdXIgcG90ZW50aWFsIHN0dWRlbnQsIH..."
      ]
     },
     "execution_count": 17,
     "metadata": {},
     "output_type": "execute_result"
    }
   ],
   "source": [
    "df = pd.json_normalize(msg['payload']['parts'][0]['body'])\n",
    "df"
   ]
  },
  {
   "cell_type": "code",
   "execution_count": 18,
   "metadata": {},
   "outputs": [
    {
     "data": {
      "text/plain": [
       "\"{PREVIEW: Your potential student, tlhalefang, may like to know if you would like to teach them University (or further higher)Maths on First Tutors}*** Is tlhalefang waiting for your decision? ***\\r\\n\\r\\nMake Decision ( https://www.firsttutors.com/uk/members/tutor-request-detail.php?tutee_request_id=1698291&al=GGWScgrryTA94NcVv3uxOHzKq%2F7VChCrtpuwzCy2xJ3vLUzIitDORSfhl2DKRuxH3o9yz58ddFKS9%2Fw1WDiz0w%3D%3D&utm_source=SendGrid&utm_medium=Email&utm_campaign=template_118 )tlhalefang has requested your help with University (or further higher)Maths. Are you ready to accept their request for tuition? \\r\\n\\r\\nPlease Note: We monitor response times / acceptance rates and use them to rank profiles in search results.  Please ensure that you respond promptly to all student requests. We would prefer you to decline than to leave a client waiting. \\r\\n\\r\\nIf you are not yet in a position to accept or decline this request please feel free to ignore this email reminder.\\r\\n\\r\\nIf you do not have availability to help students at the moment, please use the button below to disable your account.\\r\\n\\r\\nI'm NOT available ( https://www.firsttutors.com/uk/members/account-status.php?decline=1698291&al=GGWScgrryTA94NcVv3uxOHzKq%2F7VChCrtpuwzCy2xJ3vLUzIitDORSfhl2DKRuxH3o9yz58ddFKS9%2Fw1WDiz0w%3D%3D&utm_campaign=template_118&utm_source=SendGrid&utm_medium=Email )\\r\\n\""
      ]
     },
     "execution_count": 18,
     "metadata": {},
     "output_type": "execute_result"
    }
   ],
   "source": [
    "body_message_encoded = msg['payload']['parts'][0]['body']['data']\n",
    "byte_code = base64.urlsafe_b64decode(body_message_encoded)\n",
    "body_message = byte_code.decode(\"utf-8\")\n",
    "body_message"
   ]
  },
  {
   "cell_type": "code",
   "execution_count": null,
   "metadata": {},
   "outputs": [],
   "source": []
  }
 ],
 "metadata": {
  "kernelspec": {
   "display_name": "Python 3.9.7 ('base')",
   "language": "python",
   "name": "python3"
  },
  "language_info": {
   "codemirror_mode": {
    "name": "ipython",
    "version": 3
   },
   "file_extension": ".py",
   "mimetype": "text/x-python",
   "name": "python",
   "nbconvert_exporter": "python",
   "pygments_lexer": "ipython3",
   "version": "3.9.7"
  },
  "orig_nbformat": 4,
  "vscode": {
   "interpreter": {
    "hash": "80e84fd967207d73b61aa430605dad8c12793944af9d1a99037915e6e7461b10"
   }
  }
 },
 "nbformat": 4,
 "nbformat_minor": 2
}
