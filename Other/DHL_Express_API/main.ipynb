{
 "cells": [
  {
   "cell_type": "code",
   "execution_count": 28,
   "metadata": {},
   "outputs": [],
   "source": [
    "import requests\n",
    "from base64 import b64encode\n",
    "from requests.auth import HTTPBasicAuth\n",
    "import config"
   ]
  },
  {
   "cell_type": "code",
   "execution_count": 29,
   "metadata": {},
   "outputs": [],
   "source": [
    "# CONFIG\n",
    "API_KEY = config.API_KEY\n",
    "API_SECRET = config.API_SECRET\n",
    "basic_auth_credentials = b64encode(str(API_KEY+':'+API_SECRET).encode()).decode()\n",
    "# auth = HTTPBasicAuth(API_KEY, API_SECRET)\n",
    "ACCOUNT_NUMBER = config.ACCOUNT_NUMBER"
   ]
  },
  {
   "cell_type": "code",
   "execution_count": 30,
   "metadata": {},
   "outputs": [],
   "source": [
    "# INPUT\n",
    "url_0_api = 'https://express.api.dhl.com/mydhlapi/'\n",
    "scope = 'shipments'\n",
    "tracking_number = '5619174503' #Lisandro Guerra Doral, Florida, United States of America"
   ]
  },
  {
   "cell_type": "code",
   "execution_count": 31,
   "metadata": {},
   "outputs": [
    {
     "name": "stdout",
     "output_type": "stream",
     "text": [
      "https://express.api.dhl.com/mydhlapi//5619174503/tracking\n"
     ]
    }
   ],
   "source": [
    "url_scope = url_0_api + \"/\" + tracking_number \n",
    "url = str(url_scope + '/tracking')\n",
    "print(url)"
   ]
  },
  {
   "cell_type": "code",
   "execution_count": 32,
   "metadata": {},
   "outputs": [],
   "source": [
    "headers = {\n",
    "  'Authorization': 'Basic '+ basic_auth_credentials}"
   ]
  },
  {
   "cell_type": "code",
   "execution_count": 33,
   "metadata": {},
   "outputs": [
    {
     "name": "stdout",
     "output_type": "stream",
     "text": [
      "<Response [404]>\n",
      "\n"
     ]
    }
   ],
   "source": [
    "response = requests.request(\"GET\", url, headers=headers)\n",
    "print(response)\n",
    "print(response.text)"
   ]
  }
 ],
 "metadata": {
  "kernelspec": {
   "display_name": "Python 3",
   "language": "python",
   "name": "python3"
  },
  "language_info": {
   "codemirror_mode": {
    "name": "ipython",
    "version": 3
   },
   "file_extension": ".py",
   "mimetype": "text/x-python",
   "name": "python",
   "nbconvert_exporter": "python",
   "pygments_lexer": "ipython3",
   "version": "3.9.15"
  },
  "orig_nbformat": 4,
  "vscode": {
   "interpreter": {
    "hash": "a665b5d41d17b532ea9890333293a1b812fa0b73c9c25c950b3cedf1bebd0438"
   }
  }
 },
 "nbformat": 4,
 "nbformat_minor": 2
}
