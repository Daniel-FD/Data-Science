{
 "cells": [
  {
   "cell_type": "code",
   "execution_count": 1,
   "metadata": {},
   "outputs": [
    {
     "name": "stdout",
     "output_type": "stream",
     "text": [
      "Requirement already satisfied: awscli in /Users/danielfiuzadosil/opt/anaconda3/lib/python3.9/site-packages (1.27.6)\n",
      "Requirement already satisfied: s3transfer<0.7.0,>=0.6.0 in /Users/danielfiuzadosil/opt/anaconda3/lib/python3.9/site-packages (from awscli) (0.6.0)\n",
      "Requirement already satisfied: PyYAML<5.5,>=3.10 in /Users/danielfiuzadosil/opt/anaconda3/lib/python3.9/site-packages (from awscli) (5.4.1)\n",
      "Requirement already satisfied: docutils<0.17,>=0.10 in /Users/danielfiuzadosil/opt/anaconda3/lib/python3.9/site-packages (from awscli) (0.16)\n",
      "Requirement already satisfied: botocore==1.29.6 in /Users/danielfiuzadosil/opt/anaconda3/lib/python3.9/site-packages (from awscli) (1.29.6)\n",
      "Requirement already satisfied: rsa<4.8,>=3.1.2 in /Users/danielfiuzadosil/opt/anaconda3/lib/python3.9/site-packages (from awscli) (4.7.2)\n",
      "Requirement already satisfied: colorama<0.4.5,>=0.2.5 in /Users/danielfiuzadosil/opt/anaconda3/lib/python3.9/site-packages (from awscli) (0.4.4)\n",
      "Requirement already satisfied: python-dateutil<3.0.0,>=2.1 in /Users/danielfiuzadosil/opt/anaconda3/lib/python3.9/site-packages (from botocore==1.29.6->awscli) (2.8.2)\n",
      "Requirement already satisfied: urllib3<1.27,>=1.25.4 in /Users/danielfiuzadosil/opt/anaconda3/lib/python3.9/site-packages (from botocore==1.29.6->awscli) (1.26.13)\n",
      "Requirement already satisfied: jmespath<2.0.0,>=0.7.1 in /Users/danielfiuzadosil/opt/anaconda3/lib/python3.9/site-packages (from botocore==1.29.6->awscli) (1.0.0)\n",
      "Requirement already satisfied: pyasn1>=0.1.3 in /Users/danielfiuzadosil/opt/anaconda3/lib/python3.9/site-packages (from rsa<4.8,>=3.1.2->awscli) (0.4.8)\n",
      "Requirement already satisfied: six>=1.5 in /Users/danielfiuzadosil/opt/anaconda3/lib/python3.9/site-packages (from python-dateutil<3.0.0,>=2.1->botocore==1.29.6->awscli) (1.16.0)\n",
      "Requirement already satisfied: boto3 in /Users/danielfiuzadosil/opt/anaconda3/lib/python3.9/site-packages (1.24.28)\n",
      "Requirement already satisfied: pandas in /Users/danielfiuzadosil/opt/anaconda3/lib/python3.9/site-packages (1.4.4)\n",
      "Requirement already satisfied: jupyter in /Users/danielfiuzadosil/opt/anaconda3/lib/python3.9/site-packages (1.0.0)\n",
      "Collecting botocore<1.28.0,>=1.27.28\n",
      "  Downloading botocore-1.27.96-py3-none-any.whl (9.3 MB)\n",
      "\u001b[2K     \u001b[90m━━━━━━━━━━━━━━━━━━━━━━━━━━━━━━━━━━━━━━━━\u001b[0m \u001b[32m9.3/9.3 MB\u001b[0m \u001b[31m23.6 MB/s\u001b[0m eta \u001b[36m0:00:00\u001b[0m00:01\u001b[0m00:01\u001b[0m\n",
      "\u001b[?25hRequirement already satisfied: s3transfer<0.7.0,>=0.6.0 in /Users/danielfiuzadosil/opt/anaconda3/lib/python3.9/site-packages (from boto3) (0.6.0)\n",
      "Requirement already satisfied: jmespath<2.0.0,>=0.7.1 in /Users/danielfiuzadosil/opt/anaconda3/lib/python3.9/site-packages (from boto3) (1.0.0)\n",
      "Requirement already satisfied: python-dateutil>=2.8.1 in /Users/danielfiuzadosil/opt/anaconda3/lib/python3.9/site-packages (from pandas) (2.8.2)\n",
      "Requirement already satisfied: pytz>=2020.1 in /Users/danielfiuzadosil/opt/anaconda3/lib/python3.9/site-packages (from pandas) (2022.7)\n",
      "Requirement already satisfied: numpy>=1.18.5 in /Users/danielfiuzadosil/opt/anaconda3/lib/python3.9/site-packages (from pandas) (1.21.5)\n",
      "Requirement already satisfied: ipykernel in /Users/danielfiuzadosil/opt/anaconda3/lib/python3.9/site-packages (from jupyter) (6.19.2)\n",
      "Requirement already satisfied: qtconsole in /Users/danielfiuzadosil/opt/anaconda3/lib/python3.9/site-packages (from jupyter) (5.3.2)\n",
      "Requirement already satisfied: jupyter-console in /Users/danielfiuzadosil/opt/anaconda3/lib/python3.9/site-packages (from jupyter) (6.4.4)\n",
      "Requirement already satisfied: nbconvert in /Users/danielfiuzadosil/opt/anaconda3/lib/python3.9/site-packages (from jupyter) (6.4.4)\n",
      "Requirement already satisfied: ipywidgets in /Users/danielfiuzadosil/opt/anaconda3/lib/python3.9/site-packages (from jupyter) (7.6.5)\n",
      "Requirement already satisfied: notebook in /Users/danielfiuzadosil/opt/anaconda3/lib/python3.9/site-packages (from jupyter) (6.5.2)\n",
      "Requirement already satisfied: urllib3<1.27,>=1.25.4 in /Users/danielfiuzadosil/opt/anaconda3/lib/python3.9/site-packages (from botocore<1.28.0,>=1.27.28->boto3) (1.26.13)\n",
      "Requirement already satisfied: six>=1.5 in /Users/danielfiuzadosil/opt/anaconda3/lib/python3.9/site-packages (from python-dateutil>=2.8.1->pandas) (1.16.0)\n",
      "Requirement already satisfied: packaging in /Users/danielfiuzadosil/opt/anaconda3/lib/python3.9/site-packages (from ipykernel->jupyter) (23.0)\n",
      "Requirement already satisfied: tornado>=6.1 in /Users/danielfiuzadosil/opt/anaconda3/lib/python3.9/site-packages (from ipykernel->jupyter) (6.2)\n",
      "Requirement already satisfied: jupyter-client>=6.1.12 in /Users/danielfiuzadosil/opt/anaconda3/lib/python3.9/site-packages (from ipykernel->jupyter) (7.4.8)\n",
      "Requirement already satisfied: nest-asyncio in /Users/danielfiuzadosil/opt/anaconda3/lib/python3.9/site-packages (from ipykernel->jupyter) (1.5.6)\n",
      "Requirement already satisfied: matplotlib-inline>=0.1 in /Users/danielfiuzadosil/opt/anaconda3/lib/python3.9/site-packages (from ipykernel->jupyter) (0.1.6)\n",
      "Requirement already satisfied: comm>=0.1.1 in /Users/danielfiuzadosil/opt/anaconda3/lib/python3.9/site-packages (from ipykernel->jupyter) (0.1.2)\n",
      "Requirement already satisfied: ipython>=7.23.1 in /Users/danielfiuzadosil/opt/anaconda3/lib/python3.9/site-packages (from ipykernel->jupyter) (7.31.1)\n",
      "Requirement already satisfied: traitlets>=5.4.0 in /Users/danielfiuzadosil/opt/anaconda3/lib/python3.9/site-packages (from ipykernel->jupyter) (5.7.1)\n",
      "Requirement already satisfied: appnope in /Users/danielfiuzadosil/opt/anaconda3/lib/python3.9/site-packages (from ipykernel->jupyter) (0.1.2)\n",
      "Requirement already satisfied: psutil in /Users/danielfiuzadosil/opt/anaconda3/lib/python3.9/site-packages (from ipykernel->jupyter) (5.9.0)\n",
      "Requirement already satisfied: pyzmq>=17 in /Users/danielfiuzadosil/opt/anaconda3/lib/python3.9/site-packages (from ipykernel->jupyter) (23.2.0)\n",
      "Requirement already satisfied: debugpy>=1.0 in /Users/danielfiuzadosil/opt/anaconda3/lib/python3.9/site-packages (from ipykernel->jupyter) (1.5.1)\n",
      "Requirement already satisfied: nbformat>=4.2.0 in /Users/danielfiuzadosil/opt/anaconda3/lib/python3.9/site-packages (from ipywidgets->jupyter) (5.7.0)\n",
      "Requirement already satisfied: ipython-genutils~=0.2.0 in /Users/danielfiuzadosil/opt/anaconda3/lib/python3.9/site-packages (from ipywidgets->jupyter) (0.2.0)\n",
      "Requirement already satisfied: jupyterlab-widgets>=1.0.0 in /Users/danielfiuzadosil/opt/anaconda3/lib/python3.9/site-packages (from ipywidgets->jupyter) (1.0.0)\n",
      "Requirement already satisfied: widgetsnbextension~=3.5.0 in /Users/danielfiuzadosil/opt/anaconda3/lib/python3.9/site-packages (from ipywidgets->jupyter) (3.5.2)\n",
      "Requirement already satisfied: prompt-toolkit!=3.0.0,!=3.0.1,<3.1.0,>=2.0.0 in /Users/danielfiuzadosil/opt/anaconda3/lib/python3.9/site-packages (from jupyter-console->jupyter) (3.0.36)\n",
      "Requirement already satisfied: pygments in /Users/danielfiuzadosil/opt/anaconda3/lib/python3.9/site-packages (from jupyter-console->jupyter) (2.11.2)\n",
      "Requirement already satisfied: jinja2>=2.4 in /Users/danielfiuzadosil/opt/anaconda3/lib/python3.9/site-packages (from nbconvert->jupyter) (3.0.1)\n",
      "Requirement already satisfied: beautifulsoup4 in /Users/danielfiuzadosil/opt/anaconda3/lib/python3.9/site-packages (from nbconvert->jupyter) (4.11.1)\n",
      "Requirement already satisfied: jupyterlab-pygments in /Users/danielfiuzadosil/opt/anaconda3/lib/python3.9/site-packages (from nbconvert->jupyter) (0.1.2)\n",
      "Requirement already satisfied: entrypoints>=0.2.2 in /Users/danielfiuzadosil/opt/anaconda3/lib/python3.9/site-packages (from nbconvert->jupyter) (0.4)\n",
      "Requirement already satisfied: defusedxml in /Users/danielfiuzadosil/opt/anaconda3/lib/python3.9/site-packages (from nbconvert->jupyter) (0.7.1)\n",
      "Requirement already satisfied: nbclient<0.6.0,>=0.5.0 in /Users/danielfiuzadosil/opt/anaconda3/lib/python3.9/site-packages (from nbconvert->jupyter) (0.5.13)\n",
      "Requirement already satisfied: jupyter-core in /Users/danielfiuzadosil/opt/anaconda3/lib/python3.9/site-packages (from nbconvert->jupyter) (5.1.1)\n",
      "Requirement already satisfied: bleach in /Users/danielfiuzadosil/opt/anaconda3/lib/python3.9/site-packages (from nbconvert->jupyter) (4.1.0)\n",
      "Requirement already satisfied: pandocfilters>=1.4.1 in /Users/danielfiuzadosil/opt/anaconda3/lib/python3.9/site-packages (from nbconvert->jupyter) (1.5.0)\n",
      "Requirement already satisfied: mistune<2,>=0.8.1 in /Users/danielfiuzadosil/opt/anaconda3/lib/python3.9/site-packages (from nbconvert->jupyter) (0.8.4)\n",
      "Requirement already satisfied: testpath in /Users/danielfiuzadosil/opt/anaconda3/lib/python3.9/site-packages (from nbconvert->jupyter) (0.6.0)\n",
      "Requirement already satisfied: prometheus-client in /Users/danielfiuzadosil/opt/anaconda3/lib/python3.9/site-packages (from notebook->jupyter) (0.14.1)\n",
      "Requirement already satisfied: terminado>=0.8.3 in /Users/danielfiuzadosil/opt/anaconda3/lib/python3.9/site-packages (from notebook->jupyter) (0.17.1)\n",
      "Requirement already satisfied: Send2Trash>=1.8.0 in /Users/danielfiuzadosil/opt/anaconda3/lib/python3.9/site-packages (from notebook->jupyter) (1.8.0)\n",
      "Requirement already satisfied: nbclassic>=0.4.7 in /Users/danielfiuzadosil/opt/anaconda3/lib/python3.9/site-packages (from notebook->jupyter) (0.4.8)\n",
      "Requirement already satisfied: argon2-cffi in /Users/danielfiuzadosil/opt/anaconda3/lib/python3.9/site-packages (from notebook->jupyter) (21.3.0)\n",
      "Requirement already satisfied: qtpy>=2.0.1 in /Users/danielfiuzadosil/opt/anaconda3/lib/python3.9/site-packages (from qtconsole->jupyter) (2.2.0)\n",
      "Requirement already satisfied: pexpect>4.3 in /Users/danielfiuzadosil/opt/anaconda3/lib/python3.9/site-packages (from ipython>=7.23.1->ipykernel->jupyter) (4.8.0)\n",
      "Requirement already satisfied: backcall in /Users/danielfiuzadosil/opt/anaconda3/lib/python3.9/site-packages (from ipython>=7.23.1->ipykernel->jupyter) (0.2.0)\n",
      "Requirement already satisfied: setuptools>=18.5 in /Users/danielfiuzadosil/opt/anaconda3/lib/python3.9/site-packages (from ipython>=7.23.1->ipykernel->jupyter) (65.6.3)\n",
      "Requirement already satisfied: decorator in /Users/danielfiuzadosil/opt/anaconda3/lib/python3.9/site-packages (from ipython>=7.23.1->ipykernel->jupyter) (5.1.1)\n",
      "Requirement already satisfied: pickleshare in /Users/danielfiuzadosil/opt/anaconda3/lib/python3.9/site-packages (from ipython>=7.23.1->ipykernel->jupyter) (0.7.5)\n",
      "Requirement already satisfied: jedi>=0.16 in /Users/danielfiuzadosil/opt/anaconda3/lib/python3.9/site-packages (from ipython>=7.23.1->ipykernel->jupyter) (0.18.1)\n",
      "Requirement already satisfied: MarkupSafe>=2.0 in /Users/danielfiuzadosil/opt/anaconda3/lib/python3.9/site-packages (from jinja2>=2.4->nbconvert->jupyter) (2.0.1)\n",
      "Requirement already satisfied: platformdirs>=2.5 in /Users/danielfiuzadosil/.local/lib/python3.9/site-packages (from jupyter-core->nbconvert->jupyter) (2.5.2)\n",
      "Requirement already satisfied: notebook-shim>=0.1.0 in /Users/danielfiuzadosil/opt/anaconda3/lib/python3.9/site-packages (from nbclassic>=0.4.7->notebook->jupyter) (0.2.2)\n",
      "Requirement already satisfied: jupyter-server>=1.8 in /Users/danielfiuzadosil/opt/anaconda3/lib/python3.9/site-packages (from nbclassic>=0.4.7->notebook->jupyter) (1.23.4)\n",
      "Requirement already satisfied: fastjsonschema in /Users/danielfiuzadosil/opt/anaconda3/lib/python3.9/site-packages (from nbformat>=4.2.0->ipywidgets->jupyter) (2.16.2)\n",
      "Requirement already satisfied: jsonschema>=2.6 in /Users/danielfiuzadosil/opt/anaconda3/lib/python3.9/site-packages (from nbformat>=4.2.0->ipywidgets->jupyter) (4.16.0)\n",
      "Requirement already satisfied: wcwidth in /Users/danielfiuzadosil/opt/anaconda3/lib/python3.9/site-packages (from prompt-toolkit!=3.0.0,!=3.0.1,<3.1.0,>=2.0.0->jupyter-console->jupyter) (0.2.5)\n",
      "Requirement already satisfied: ptyprocess in /Users/danielfiuzadosil/opt/anaconda3/lib/python3.9/site-packages (from terminado>=0.8.3->notebook->jupyter) (0.7.0)\n",
      "Requirement already satisfied: argon2-cffi-bindings in /Users/danielfiuzadosil/opt/anaconda3/lib/python3.9/site-packages (from argon2-cffi->notebook->jupyter) (21.2.0)\n",
      "Requirement already satisfied: soupsieve>1.2 in /Users/danielfiuzadosil/opt/anaconda3/lib/python3.9/site-packages (from beautifulsoup4->nbconvert->jupyter) (2.3.2.post1)\n",
      "Requirement already satisfied: webencodings in /Users/danielfiuzadosil/opt/anaconda3/lib/python3.9/site-packages (from bleach->nbconvert->jupyter) (0.5.1)\n",
      "Requirement already satisfied: parso<0.9.0,>=0.8.0 in /Users/danielfiuzadosil/opt/anaconda3/lib/python3.9/site-packages (from jedi>=0.16->ipython>=7.23.1->ipykernel->jupyter) (0.8.3)\n",
      "Requirement already satisfied: pyrsistent!=0.17.0,!=0.17.1,!=0.17.2,>=0.14.0 in /Users/danielfiuzadosil/opt/anaconda3/lib/python3.9/site-packages (from jsonschema>=2.6->nbformat>=4.2.0->ipywidgets->jupyter) (0.18.0)\n",
      "Requirement already satisfied: attrs>=17.4.0 in /Users/danielfiuzadosil/opt/anaconda3/lib/python3.9/site-packages (from jsonschema>=2.6->nbformat>=4.2.0->ipywidgets->jupyter) (22.1.0)\n",
      "Requirement already satisfied: websocket-client in /Users/danielfiuzadosil/opt/anaconda3/lib/python3.9/site-packages (from jupyter-server>=1.8->nbclassic>=0.4.7->notebook->jupyter) (1.3.2)\n",
      "Requirement already satisfied: anyio<4,>=3.1.0 in /Users/danielfiuzadosil/opt/anaconda3/lib/python3.9/site-packages (from jupyter-server>=1.8->nbclassic>=0.4.7->notebook->jupyter) (3.5.0)\n",
      "Requirement already satisfied: cffi>=1.0.1 in /Users/danielfiuzadosil/opt/anaconda3/lib/python3.9/site-packages (from argon2-cffi-bindings->argon2-cffi->notebook->jupyter) (1.15.1)\n",
      "Requirement already satisfied: idna>=2.8 in /Users/danielfiuzadosil/opt/anaconda3/lib/python3.9/site-packages (from anyio<4,>=3.1.0->jupyter-server>=1.8->nbclassic>=0.4.7->notebook->jupyter) (3.4)\n",
      "Requirement already satisfied: sniffio>=1.1 in /Users/danielfiuzadosil/opt/anaconda3/lib/python3.9/site-packages (from anyio<4,>=3.1.0->jupyter-server>=1.8->nbclassic>=0.4.7->notebook->jupyter) (1.2.0)\n",
      "Requirement already satisfied: pycparser in /Users/danielfiuzadosil/opt/anaconda3/lib/python3.9/site-packages (from cffi>=1.0.1->argon2-cffi-bindings->argon2-cffi->notebook->jupyter) (2.21)\n",
      "Installing collected packages: botocore\n",
      "  Attempting uninstall: botocore\n",
      "    Found existing installation: botocore 1.29.6\n",
      "    Uninstalling botocore-1.29.6:\n",
      "      Successfully uninstalled botocore-1.29.6\n",
      "\u001b[31mERROR: pip's dependency resolver does not currently take into account all the packages that are installed. This behaviour is the source of the following dependency conflicts.\n",
      "awscli 1.27.6 requires botocore==1.29.6, but you have botocore 1.27.96 which is incompatible.\u001b[0m\u001b[31m\n",
      "\u001b[0mSuccessfully installed botocore-1.27.96\n"
     ]
    }
   ],
   "source": [
    "!pip install awscli\n",
    "!pip install boto3 pandas jupyter"
   ]
  },
  {
   "cell_type": "code",
   "execution_count": 2,
   "metadata": {},
   "outputs": [],
   "source": [
    "import awscli"
   ]
  },
  {
   "cell_type": "code",
   "execution_count": 3,
   "metadata": {},
   "outputs": [
    {
     "ename": "SyntaxError",
     "evalue": "invalid syntax (3821592265.py, line 1)",
     "output_type": "error",
     "traceback": [
      "\u001b[0;36m  File \u001b[0;32m\"/var/folders/tl/yx271fpd4sd_d224zzcb65840000gp/T/ipykernel_23490/3821592265.py\"\u001b[0;36m, line \u001b[0;32m1\u001b[0m\n\u001b[0;31m    aws configure\u001b[0m\n\u001b[0m        ^\u001b[0m\n\u001b[0;31mSyntaxError\u001b[0m\u001b[0;31m:\u001b[0m invalid syntax\n"
     ]
    }
   ],
   "source": [
    "aws configure"
   ]
  },
  {
   "cell_type": "code",
   "execution_count": null,
   "metadata": {},
   "outputs": [],
   "source": []
  },
  {
   "cell_type": "code",
   "execution_count": null,
   "metadata": {},
   "outputs": [],
   "source": []
  }
 ],
 "metadata": {
  "kernelspec": {
   "display_name": "base",
   "language": "python",
   "name": "python3"
  },
  "language_info": {
   "codemirror_mode": {
    "name": "ipython",
    "version": 3
   },
   "file_extension": ".py",
   "mimetype": "text/x-python",
   "name": "python",
   "nbconvert_exporter": "python",
   "pygments_lexer": "ipython3",
   "version": "3.9.7 (default, Sep 16 2021, 08:50:36) \n[Clang 10.0.0 ]"
  },
  "orig_nbformat": 4,
  "vscode": {
   "interpreter": {
    "hash": "80e84fd967207d73b61aa430605dad8c12793944af9d1a99037915e6e7461b10"
   }
  }
 },
 "nbformat": 4,
 "nbformat_minor": 2
}
