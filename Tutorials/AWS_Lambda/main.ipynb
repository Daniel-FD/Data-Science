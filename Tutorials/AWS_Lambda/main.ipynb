{
 "cells": [
  {
   "cell_type": "code",
   "execution_count": 1,
   "metadata": {},
   "outputs": [],
   "source": [
    "import requests"
   ]
  },
  {
   "cell_type": "code",
   "execution_count": 2,
   "metadata": {},
   "outputs": [],
   "source": [
    "# Inputs\n",
    "name = 'Pedro'\n",
    "surname = 'Garcia'"
   ]
  },
  {
   "cell_type": "code",
   "execution_count": 6,
   "metadata": {},
   "outputs": [
    {
     "name": "stdout",
     "output_type": "stream",
     "text": [
      "<Response [200]>\n",
      "\"Hello Pedro Garcia: message from Lambda!\"\n"
     ]
    }
   ],
   "source": [
    "url = ('https://x05d45lz0g.execute-api.eu-west-2.amazonaws.com/default/helloWorld?'+\n",
    "        'name='+ name + \n",
    "        '&surname='+ surname)\n",
    "headers= {\"Content-Type\":\"application/json\"}\n",
    "response = requests.get(url, headers=headers)\n",
    "print(response)\n",
    "print(response.text)"
   ]
  },
  {
   "cell_type": "code",
   "execution_count": 4,
   "metadata": {},
   "outputs": [],
   "source": [
    "# event['pathParameters']['param1']\n",
    "# event[\"queryStringParameters\"]['queryparam1']\n",
    "# event['requestContext']['identity']['userAgent']\n",
    "# event['requestContext']['identity']['sourceIP']"
   ]
  },
  {
   "cell_type": "markdown",
   "metadata": {},
   "source": [
    "# Lambda Function used in AWS"
   ]
  },
  {
   "cell_type": "code",
   "execution_count": 5,
   "metadata": {},
   "outputs": [],
   "source": [
    "import json\n",
    "\n",
    "def lambda_handler(event, context):\n",
    "  name= event[\"queryStringParameters\"]['name']\n",
    "  surname= event[\"queryStringParameters\"]['surname']\n",
    "  msg_body = \"Hello \" + str(name) + \" \" + str(surname) + \": message from Lambda!\"\n",
    "  print(msg_body)\n",
    "  return {\n",
    "                    \"statusCode\": 200,\n",
    "                    \"body\": json.dumps(msg_body),\n",
    "                    \"headers\": {\n",
    "                      \"content-type\": \"application/json\"\n",
    "                    }\n",
    "                  }\n"
   ]
  }
 ],
 "metadata": {
  "kernelspec": {
   "display_name": "Python 3.9.15 64-bit",
   "language": "python",
   "name": "python3"
  },
  "language_info": {
   "codemirror_mode": {
    "name": "ipython",
    "version": 3
   },
   "file_extension": ".py",
   "mimetype": "text/x-python",
   "name": "python",
   "nbconvert_exporter": "python",
   "pygments_lexer": "ipython3",
   "version": "3.9.15"
  },
  "orig_nbformat": 4,
  "vscode": {
   "interpreter": {
    "hash": "a665b5d41d17b532ea9890333293a1b812fa0b73c9c25c950b3cedf1bebd0438"
   }
  }
 },
 "nbformat": 4,
 "nbformat_minor": 2
}
